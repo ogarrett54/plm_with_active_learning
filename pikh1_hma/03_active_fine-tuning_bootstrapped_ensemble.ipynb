{
 "cells": [
  {
   "cell_type": "markdown",
   "id": "cb38d989",
   "metadata": {},
   "source": [
    "## Approach 3: Bootstrapped Ensemble\n",
    "The first ensemble approach tested whether simply training 5 independent models with randomly initialized weights would enable calculation of a variance for predictions on unlabeled samples maximized. This may have been a weak form of calculating variance. A better approach may be to make the models even more different from each other by bootstrapping - that is, using a random subset (e.g. 90%) of the data to train each model independently, then see what they disagree on. I was particularly encouraged to try this bootstrapped ensemble method when I noticed that the paper [Active learning-assisted directed evolution](https://www.nature.com/articles/s41467-025-55987-8) used this approach for their top performing DNN Ensemble method.\n",
    "\n",
    "This will not improve my hypothesized main issue I discussed last time of ensuring diversity is high in the newly selected samples. I will work on that next time and apply that to this new bootstrapped ensemble along with the dropout method."
   ]
  },
  {
   "cell_type": "code",
   "execution_count": 1,
   "id": "14b35af9",
   "metadata": {},
   "outputs": [],
   "source": [
    "from scripts.data_utils import train_val_test_split\n",
    "from scripts.config import (\n",
    "    DATA_PATH, \n",
    "    SEQUENCE_COL, \n",
    "    SCORE_COL, \n",
    "    TOK_MODEL, \n",
    "    VAL_SPLIT,\n",
    "    TEST_SPLIT,\n",
    "    BATCH_SIZE,\n",
    "    RANDOM_SEED,\n",
    ")\n",
    "\n",
    "training_pool, val_dataloader, test_dataloader = train_val_test_split(\n",
    "    DATA_PATH,\n",
    "    SEQUENCE_COL,\n",
    "    SCORE_COL,\n",
    "    TOK_MODEL,\n",
    "    VAL_SPLIT,\n",
    "    TEST_SPLIT,\n",
    "    BATCH_SIZE,\n",
    "    RANDOM_SEED\n",
    ")"
   ]
  },
  {
   "cell_type": "markdown",
   "id": "49571bd0",
   "metadata": {},
   "source": [
    "Compared to approach 1, the main thing that should change is that the train dataloader from acquire_new_batch should be subsetted from immediately before training a new model."
   ]
  },
  {
   "cell_type": "code",
   "execution_count": 2,
   "id": "06aecc2f",
   "metadata": {},
   "outputs": [],
   "source": [
    "import torch\n",
    "from torch.utils.data import Subset, DataLoader\n",
    "import numpy as np\n",
    "\n",
    "from scripts.training import initialize_and_train_new_model\n",
    "from scripts.acquisition import get_pool_predictions\n",
    "\n",
    "def get_bootstrap_sample(labeled_indices, pool_dataset, train_dataloader_batch_size):\n",
    "    bootstrap_indices = np.random.choice(labeled_indices, size=int(0.9*len(labeled_indices)),replace=True)\n",
    "    bootstrap_subset = Subset(pool_dataset, bootstrap_indices)\n",
    "    bootstrap_dataloader = DataLoader(bootstrap_subset, batch_size=train_dataloader_batch_size, shuffle=True)\n",
    "    return bootstrap_dataloader\n",
    "\n",
    "def train_ensemble(\n",
    "        n_models, \n",
    "        model_name, \n",
    "        approach,\n",
    "        learning_rate,\n",
    "        weight_decay,\n",
    "        epochs,\n",
    "        labeled_indices,\n",
    "        train_dataloader_batch_size,\n",
    "        pool_dataset, \n",
    "        pool_dataloader, \n",
    "        val_dataloader,\n",
    "        patience\n",
    "        ):\n",
    "    \n",
    "    # define list to store predictions as each model is trained then evaluated\n",
    "    ensemble_predictions = []\n",
    "    \n",
    "    for i in range(n_models):\n",
    "        print(f\"\\nTraining Model {i+1}...\")\n",
    "        # set a changing manual seed\n",
    "        torch.manual_seed(i)\n",
    "        torch.cuda.manual_seed(i)\n",
    "\n",
    "        # get bootstrap sample from labeled dataset\n",
    "        bootstrap_dataloader = get_bootstrap_sample(labeled_indices, pool_dataset, train_dataloader_batch_size)\n",
    "\n",
    "        # initialize and train a new model\n",
    "        model = initialize_and_train_new_model(approach, model_name, learning_rate, weight_decay, epochs, bootstrap_dataloader, val_dataloader, patience)\n",
    "        \n",
    "        # get model predictions on pool dataloader, append to ensemble predictions list\n",
    "        pool_preds = get_pool_predictions(model, pool_dataloader, )\n",
    "        ensemble_predictions.append(pool_preds)\n",
    "\n",
    "    # stack ensemble predictions to create tensor of shape (n_models, n_unlabeled_samples)\n",
    "    ensemble_predictions = torch.stack(ensemble_predictions, dim=0)\n",
    "    print(\"Ensemble training complete, submitting predictions for next cycle.\")\n",
    "    # return list of ensemble predictions\n",
    "    return ensemble_predictions"
   ]
  },
  {
   "cell_type": "code",
   "execution_count": 3,
   "id": "3242f608",
   "metadata": {},
   "outputs": [],
   "source": [
    "from pathlib import Path\n",
    "import pandas as pd\n",
    "\n",
    "from scripts.acquisition import acquire_new_batch, get_variances\n",
    "from scripts.training import initialize_and_train_new_model, test_model\n",
    "from scripts.campaigns import run_standard_finetuning\n",
    "\n",
    "\n",
    "def get_learning_curves(\n",
    "        n_samples,\n",
    "        initial_n_samples,\n",
    "        n_samples_per_batch,\n",
    "        model_name, \n",
    "        approach,\n",
    "        learning_rate, \n",
    "        weight_decay, \n",
    "        epochs, \n",
    "        training_pool, \n",
    "        train_dataloader_batch_size,\n",
    "        pool_dataloader_batch_size,\n",
    "        val_dataloader, \n",
    "        test_dataloader,\n",
    "        patience=5,\n",
    "        n_models=5,\n",
    "        results_path=\"active_vs_standard_learning_curves.csv\"\n",
    "):\n",
    "    results_path = Path(results_path)\n",
    "    results_dir = results_path.parent\n",
    "    results_dir.mkdir(parents=True, exist_ok=True)\n",
    "\n",
    "    # Load existing results if the file exists, otherwise start with a fresh DataFrame.\n",
    "    if results_path.exists():\n",
    "        all_results_df = pd.read_csv(results_path)\n",
    "    else:\n",
    "        all_results_df = pd.DataFrame()\n",
    "    \n",
    "    total_pool_size = len(training_pool)\n",
    "    unlabeled_indices = np.arange(total_pool_size)\n",
    "    labeled_indices = np.array([], dtype=np.int64)\n",
    "\n",
    "    ensemble_predictions = None\n",
    "    current_cycle = 1\n",
    "    total_cycles = int(np.ceil((n_samples-initial_n_samples)/n_samples_per_batch)) + 1\n",
    "    \n",
    "    while len(labeled_indices) < n_samples and len(unlabeled_indices) > 0:\n",
    "        print(f\"\\nCycle {current_cycle}/{total_cycles}\\n-------------------------------------------------\")\n",
    "\n",
    "        # on the first cycle, choose random samples of initial_n_samples size\n",
    "        if ensemble_predictions is None:\n",
    "            print(f\"Choosing initial {initial_n_samples} samples randomly...\")\n",
    "            train_dataloader, pool_dataloader, labeled_indices, unlabeled_indices = acquire_new_batch(\n",
    "                training_pool, train_dataloader_batch_size, pool_dataloader_batch_size, initial_n_samples, n_samples_per_batch, labeled_indices, unlabeled_indices, acquisition_scores=None\n",
    "            )\n",
    "        # each other time, use the n_samples_per_batch with acquisition scores to select\n",
    "        else:\n",
    "            scores = get_variances(ensemble_predictions, f\"results/03_bootstrap_ensemble/variances{current_cycle}.csv\")\n",
    "            print(f\"Selecting new data points...\")\n",
    "            train_dataloader, pool_dataloader, labeled_indices, unlabeled_indices = acquire_new_batch(\n",
    "                training_pool, train_dataloader_batch_size, pool_dataloader_batch_size, initial_n_samples, n_samples_per_batch, labeled_indices, unlabeled_indices, acquisition_scores=scores\n",
    "            )\n",
    "        \n",
    "        # give message when loop ends\n",
    "        if len(unlabeled_indices) == 0:\n",
    "            print(\"Unlabeled pool is empty. Proceeding to final model training.\")\n",
    "            break\n",
    "        \n",
    "        # evaluate active vs standard\n",
    "        final_results = []\n",
    "\n",
    "        # active\n",
    "        print(f\"\\nTraining and evaluating model using {len(labeled_indices)} actively selected samples...\")\n",
    "        model_active = initialize_and_train_new_model(approach, model_name, learning_rate, weight_decay, epochs, train_dataloader, val_dataloader, patience, return_history=False)\n",
    "        results_active = test_model(model_active, test_dataloader, return_results=True)\n",
    "        results_active = {\n",
    "            'changing_var': 'n_samples',\n",
    "            'local_exp_idx': current_cycle-1,\n",
    "            'value': len(labeled_indices),\n",
    "            'training_method': 'active',\n",
    "            **results_active\n",
    "        }\n",
    "        final_results.append(results_active)\n",
    "\n",
    "        # standard\n",
    "        print(f\"\\nTraining and evaluating model using {len(labeled_indices)} randomly selected samples...\")\n",
    "        model_standard, _ = run_standard_finetuning(len(labeled_indices), approach, model_name, train_dataloader_batch_size, learning_rate, weight_decay, epochs, training_pool, val_dataloader, patience)\n",
    "        results_standard = test_model(model_standard, test_dataloader, return_results=True)\n",
    "        results_standard = {\n",
    "            'changing_var': 'n_samples',\n",
    "            'local_exp_idx': current_cycle-1,\n",
    "            'value': len(labeled_indices),\n",
    "            'training_method': 'standard',\n",
    "            **results_standard\n",
    "        }\n",
    "        final_results.append(results_standard)\n",
    "        # save to disk each time to save progress\n",
    "        results_df = pd.DataFrame(final_results)\n",
    "        all_results_df = pd.concat([all_results_df, results_df], ignore_index=True)\n",
    "        all_results_df.to_csv(results_path, index=False)\n",
    "        print(f\"Progress for experiment {current_cycle-1} appended to {results_path}\")\n",
    "\n",
    "        # if it's the last cycle, skip ensemble predictions\n",
    "        if (current_cycle == total_cycles):\n",
    "            print(\"Experiments complete.\")\n",
    "            break\n",
    "\n",
    "        print(\"Starting ensemble training and pool evaluation...\")\n",
    "        ensemble_predictions = train_ensemble(n_models, model_name, approach, learning_rate, weight_decay, epochs, labeled_indices, train_dataloader_batch_size, training_pool, pool_dataloader, val_dataloader, patience)\n",
    "    \n",
    "        current_cycle += 1\n",
    "    return all_results_df"
   ]
  },
  {
   "cell_type": "code",
   "execution_count": 4,
   "id": "57a94687",
   "metadata": {},
   "outputs": [
    {
     "name": "stdout",
     "output_type": "stream",
     "text": [
      "\n",
      "Cycle 1/16\n",
      "-------------------------------------------------\n",
      "Choosing initial 16 samples randomly...\n",
      "\n",
      "Training and evaluating model using 16 actively selected samples...\n"
     ]
    },
    {
     "name": "stderr",
     "output_type": "stream",
     "text": [
      "/home/oscar/miniconda3/envs/plm-active-learning/lib/python3.12/site-packages/torchmetrics/utilities/prints.py:43: UserWarning: Metric `SpearmanCorrcoef` will save all targets and predictions in the buffer. For large datasets, this may lead to large memory footprint.\n",
      "  warnings.warn(*args, **kwargs)\n",
      "[Training]:  68%|██████▊   | 34/50 [00:10<00:05,  3.12it/s]\n"
     ]
    },
    {
     "name": "stdout",
     "output_type": "stream",
     "text": [
      "Early stopping triggered after 10 epochs with no improvement.\n",
      "Train Loss: 0.0453 | Val Loss: 0.1821 | SpearmanR: 0.4282\n"
     ]
    },
    {
     "name": "stderr",
     "output_type": "stream",
     "text": [
      "[Testing]: 100%|██████████| 25/25 [00:00<00:00, 131.19it/s]\n"
     ]
    },
    {
     "name": "stdout",
     "output_type": "stream",
     "text": [
      "\n",
      "Training and evaluating model using 16 randomly selected samples...\n"
     ]
    },
    {
     "name": "stderr",
     "output_type": "stream",
     "text": [
      "[Training]: 100%|██████████| 50/50 [00:13<00:00,  3.83it/s]\n"
     ]
    },
    {
     "name": "stdout",
     "output_type": "stream",
     "text": [
      "Train Loss: 0.0026 | Val Loss: 0.3035 | SpearmanR: 0.3222\n"
     ]
    },
    {
     "name": "stderr",
     "output_type": "stream",
     "text": [
      "[Testing]: 100%|██████████| 25/25 [00:00<00:00, 130.76it/s]\n"
     ]
    },
    {
     "name": "stdout",
     "output_type": "stream",
     "text": [
      "Progress for experiment 0 appended to results/03_bootstrap_ensemble/active_vs_standard_learning_curve.csv\n",
      "Starting ensemble training and pool evaluation...\n",
      "\n",
      "Training Model 1...\n"
     ]
    },
    {
     "name": "stderr",
     "output_type": "stream",
     "text": [
      "[Training]:  78%|███████▊  | 39/50 [00:10<00:02,  3.68it/s]\n"
     ]
    },
    {
     "name": "stdout",
     "output_type": "stream",
     "text": [
      "Early stopping triggered after 10 epochs with no improvement.\n",
      "Train Loss: 0.0021 | Val Loss: 0.2500 | SpearmanR: 0.1358\n"
     ]
    },
    {
     "name": "stderr",
     "output_type": "stream",
     "text": [
      "[Surveying]: 100%|██████████| 25/25 [00:01<00:00, 16.68it/s]\n"
     ]
    },
    {
     "name": "stdout",
     "output_type": "stream",
     "text": [
      "\n",
      "Training Model 2...\n"
     ]
    },
    {
     "name": "stderr",
     "output_type": "stream",
     "text": [
      "[Training]: 100%|██████████| 50/50 [00:13<00:00,  3.77it/s]\n"
     ]
    },
    {
     "name": "stdout",
     "output_type": "stream",
     "text": [
      "Train Loss: 0.0040 | Val Loss: 0.2453 | SpearmanR: 0.3329\n"
     ]
    },
    {
     "name": "stderr",
     "output_type": "stream",
     "text": [
      "[Surveying]: 100%|██████████| 25/25 [00:01<00:00, 16.93it/s]\n"
     ]
    },
    {
     "name": "stdout",
     "output_type": "stream",
     "text": [
      "\n",
      "Training Model 3...\n"
     ]
    },
    {
     "name": "stderr",
     "output_type": "stream",
     "text": [
      "[Training]:  90%|█████████ | 45/50 [00:12<00:01,  3.68it/s]\n"
     ]
    },
    {
     "name": "stdout",
     "output_type": "stream",
     "text": [
      "Early stopping triggered after 10 epochs with no improvement.\n",
      "Train Loss: 0.0027 | Val Loss: 0.1901 | SpearmanR: 0.2538\n"
     ]
    },
    {
     "name": "stderr",
     "output_type": "stream",
     "text": [
      "[Surveying]: 100%|██████████| 25/25 [00:01<00:00, 16.84it/s]\n"
     ]
    },
    {
     "name": "stdout",
     "output_type": "stream",
     "text": [
      "\n",
      "Training Model 4...\n"
     ]
    },
    {
     "name": "stderr",
     "output_type": "stream",
     "text": [
      "[Training]: 100%|██████████| 50/50 [00:13<00:00,  3.66it/s]\n"
     ]
    },
    {
     "name": "stdout",
     "output_type": "stream",
     "text": [
      "Train Loss: 0.0034 | Val Loss: 0.1939 | SpearmanR: 0.3990\n"
     ]
    },
    {
     "name": "stderr",
     "output_type": "stream",
     "text": [
      "[Surveying]: 100%|██████████| 25/25 [00:01<00:00, 17.19it/s]\n"
     ]
    },
    {
     "name": "stdout",
     "output_type": "stream",
     "text": [
      "\n",
      "Training Model 5...\n"
     ]
    },
    {
     "name": "stderr",
     "output_type": "stream",
     "text": [
      "[Training]:  70%|███████   | 35/50 [00:09<00:03,  3.82it/s]\n"
     ]
    },
    {
     "name": "stdout",
     "output_type": "stream",
     "text": [
      "Early stopping triggered after 10 epochs with no improvement.\n",
      "Train Loss: 0.0250 | Val Loss: 0.2067 | SpearmanR: 0.3353\n"
     ]
    },
    {
     "name": "stderr",
     "output_type": "stream",
     "text": [
      "[Surveying]: 100%|██████████| 25/25 [00:01<00:00, 16.93it/s]\n"
     ]
    },
    {
     "name": "stdout",
     "output_type": "stream",
     "text": [
      "Ensemble training complete, submitting predictions for next cycle.\n",
      "\n",
      "Cycle 2/16\n",
      "-------------------------------------------------\n",
      "Saving variance distribution to results/03_bootstrap_ensemble/variances2.csv...\n",
      "Save complete.\n",
      "Selecting new data points...\n",
      "\n",
      "Training and evaluating model using 32 actively selected samples...\n"
     ]
    },
    {
     "name": "stderr",
     "output_type": "stream",
     "text": [
      "[Training]: 100%|██████████| 50/50 [00:13<00:00,  3.64it/s]\n"
     ]
    },
    {
     "name": "stdout",
     "output_type": "stream",
     "text": [
      "Train Loss: 0.0672 | Val Loss: 0.2033 | SpearmanR: 0.4587\n"
     ]
    },
    {
     "name": "stderr",
     "output_type": "stream",
     "text": [
      "[Testing]: 100%|██████████| 25/25 [00:00<00:00, 130.95it/s]\n"
     ]
    },
    {
     "name": "stdout",
     "output_type": "stream",
     "text": [
      "\n",
      "Training and evaluating model using 32 randomly selected samples...\n"
     ]
    },
    {
     "name": "stderr",
     "output_type": "stream",
     "text": [
      "[Training]: 100%|██████████| 50/50 [00:14<00:00,  3.54it/s]\n"
     ]
    },
    {
     "name": "stdout",
     "output_type": "stream",
     "text": [
      "Train Loss: 0.0072 | Val Loss: 0.1980 | SpearmanR: 0.3929\n"
     ]
    },
    {
     "name": "stderr",
     "output_type": "stream",
     "text": [
      "[Testing]: 100%|██████████| 25/25 [00:00<00:00, 130.24it/s]\n"
     ]
    },
    {
     "name": "stdout",
     "output_type": "stream",
     "text": [
      "Progress for experiment 1 appended to results/03_bootstrap_ensemble/active_vs_standard_learning_curve.csv\n",
      "Starting ensemble training and pool evaluation...\n",
      "\n",
      "Training Model 1...\n"
     ]
    },
    {
     "name": "stderr",
     "output_type": "stream",
     "text": [
      "[Training]:  98%|█████████▊| 49/50 [00:13<00:00,  3.50it/s]\n"
     ]
    },
    {
     "name": "stdout",
     "output_type": "stream",
     "text": [
      "Early stopping triggered after 10 epochs with no improvement.\n",
      "Train Loss: 0.0055 | Val Loss: 0.1782 | SpearmanR: 0.3868\n"
     ]
    },
    {
     "name": "stderr",
     "output_type": "stream",
     "text": [
      "[Surveying]: 100%|██████████| 25/25 [00:01<00:00, 16.90it/s]\n"
     ]
    },
    {
     "name": "stdout",
     "output_type": "stream",
     "text": [
      "\n",
      "Training Model 2...\n"
     ]
    },
    {
     "name": "stderr",
     "output_type": "stream",
     "text": [
      "[Training]:  36%|███▌      | 18/50 [00:05<00:08,  3.57it/s]\n"
     ]
    },
    {
     "name": "stdout",
     "output_type": "stream",
     "text": [
      "Early stopping triggered after 10 epochs with no improvement.\n",
      "Train Loss: 0.1224 | Val Loss: 0.2041 | SpearmanR: 0.0884\n"
     ]
    },
    {
     "name": "stderr",
     "output_type": "stream",
     "text": [
      "[Surveying]: 100%|██████████| 25/25 [00:01<00:00, 16.66it/s]\n"
     ]
    },
    {
     "name": "stdout",
     "output_type": "stream",
     "text": [
      "\n",
      "Training Model 3...\n"
     ]
    },
    {
     "name": "stderr",
     "output_type": "stream",
     "text": [
      "[Training]: 100%|██████████| 50/50 [00:13<00:00,  3.58it/s]\n"
     ]
    },
    {
     "name": "stdout",
     "output_type": "stream",
     "text": [
      "Train Loss: 0.0412 | Val Loss: 0.1756 | SpearmanR: 0.3056\n"
     ]
    },
    {
     "name": "stderr",
     "output_type": "stream",
     "text": [
      "[Surveying]: 100%|██████████| 25/25 [00:01<00:00, 16.99it/s]\n"
     ]
    },
    {
     "name": "stdout",
     "output_type": "stream",
     "text": [
      "\n",
      "Training Model 4...\n"
     ]
    },
    {
     "name": "stderr",
     "output_type": "stream",
     "text": [
      "[Training]:  20%|██        | 10/50 [00:02<00:10,  3.83it/s]\n"
     ]
    },
    {
     "name": "stdout",
     "output_type": "stream",
     "text": [
      "Early stopping triggered after 10 epochs with no improvement.\n",
      "Train Loss: 0.2776 | Val Loss: 0.3761 | SpearmanR: 0.0488\n"
     ]
    },
    {
     "name": "stderr",
     "output_type": "stream",
     "text": [
      "[Surveying]: 100%|██████████| 25/25 [00:01<00:00, 16.84it/s]\n"
     ]
    },
    {
     "name": "stdout",
     "output_type": "stream",
     "text": [
      "\n",
      "Training Model 5...\n"
     ]
    },
    {
     "name": "stderr",
     "output_type": "stream",
     "text": [
      "[Training]:  80%|████████  | 40/50 [00:10<00:02,  3.79it/s]\n"
     ]
    },
    {
     "name": "stdout",
     "output_type": "stream",
     "text": [
      "Early stopping triggered after 10 epochs with no improvement.\n",
      "Train Loss: 0.0445 | Val Loss: 0.2547 | SpearmanR: 0.2856\n"
     ]
    },
    {
     "name": "stderr",
     "output_type": "stream",
     "text": [
      "[Surveying]: 100%|██████████| 25/25 [00:01<00:00, 16.95it/s]\n"
     ]
    },
    {
     "name": "stdout",
     "output_type": "stream",
     "text": [
      "Ensemble training complete, submitting predictions for next cycle.\n",
      "\n",
      "Cycle 3/16\n",
      "-------------------------------------------------\n",
      "Saving variance distribution to results/03_bootstrap_ensemble/variances3.csv...\n",
      "Save complete.\n",
      "Selecting new data points...\n",
      "\n",
      "Training and evaluating model using 48 actively selected samples...\n"
     ]
    },
    {
     "name": "stderr",
     "output_type": "stream",
     "text": [
      "[Training]:  88%|████████▊ | 44/50 [00:12<00:01,  3.40it/s]\n"
     ]
    },
    {
     "name": "stdout",
     "output_type": "stream",
     "text": [
      "Early stopping triggered after 10 epochs with no improvement.\n",
      "Train Loss: 0.0149 | Val Loss: 0.1979 | SpearmanR: 0.3887\n"
     ]
    },
    {
     "name": "stderr",
     "output_type": "stream",
     "text": [
      "[Testing]: 100%|██████████| 25/25 [00:00<00:00, 130.22it/s]\n"
     ]
    },
    {
     "name": "stdout",
     "output_type": "stream",
     "text": [
      "\n",
      "Training and evaluating model using 48 randomly selected samples...\n"
     ]
    },
    {
     "name": "stderr",
     "output_type": "stream",
     "text": [
      "[Training]:  80%|████████  | 40/50 [00:11<00:02,  3.43it/s]\n"
     ]
    },
    {
     "name": "stdout",
     "output_type": "stream",
     "text": [
      "Early stopping triggered after 10 epochs with no improvement.\n",
      "Train Loss: 0.0255 | Val Loss: 0.1673 | SpearmanR: 0.4858\n"
     ]
    },
    {
     "name": "stderr",
     "output_type": "stream",
     "text": [
      "[Testing]: 100%|██████████| 25/25 [00:00<00:00, 131.91it/s]\n"
     ]
    },
    {
     "name": "stdout",
     "output_type": "stream",
     "text": [
      "Progress for experiment 2 appended to results/03_bootstrap_ensemble/active_vs_standard_learning_curve.csv\n",
      "Starting ensemble training and pool evaluation...\n",
      "\n",
      "Training Model 1...\n"
     ]
    },
    {
     "name": "stderr",
     "output_type": "stream",
     "text": [
      "[Training]:  66%|██████▌   | 33/50 [00:09<00:04,  3.54it/s]\n"
     ]
    },
    {
     "name": "stdout",
     "output_type": "stream",
     "text": [
      "Early stopping triggered after 10 epochs with no improvement.\n",
      "Train Loss: 0.0413 | Val Loss: 0.2082 | SpearmanR: 0.3933\n"
     ]
    },
    {
     "name": "stderr",
     "output_type": "stream",
     "text": [
      "[Surveying]: 100%|██████████| 25/25 [00:01<00:00, 17.01it/s]\n"
     ]
    },
    {
     "name": "stdout",
     "output_type": "stream",
     "text": [
      "\n",
      "Training Model 2...\n"
     ]
    },
    {
     "name": "stderr",
     "output_type": "stream",
     "text": [
      "[Training]: 100%|██████████| 50/50 [00:15<00:00,  3.33it/s]\n"
     ]
    },
    {
     "name": "stdout",
     "output_type": "stream",
     "text": [
      "Train Loss: 0.0039 | Val Loss: 0.1732 | SpearmanR: 0.4393\n"
     ]
    },
    {
     "name": "stderr",
     "output_type": "stream",
     "text": [
      "[Surveying]: 100%|██████████| 25/25 [00:01<00:00, 17.17it/s]\n"
     ]
    },
    {
     "name": "stdout",
     "output_type": "stream",
     "text": [
      "\n",
      "Training Model 3...\n"
     ]
    },
    {
     "name": "stderr",
     "output_type": "stream",
     "text": [
      "[Training]:  66%|██████▌   | 33/50 [00:09<00:04,  3.43it/s]\n"
     ]
    },
    {
     "name": "stdout",
     "output_type": "stream",
     "text": [
      "Early stopping triggered after 10 epochs with no improvement.\n",
      "Train Loss: 0.0323 | Val Loss: 0.2216 | SpearmanR: 0.2212\n"
     ]
    },
    {
     "name": "stderr",
     "output_type": "stream",
     "text": [
      "[Surveying]: 100%|██████████| 25/25 [00:01<00:00, 17.00it/s]\n"
     ]
    },
    {
     "name": "stdout",
     "output_type": "stream",
     "text": [
      "\n",
      "Training Model 4...\n"
     ]
    },
    {
     "name": "stderr",
     "output_type": "stream",
     "text": [
      "[Training]: 100%|██████████| 50/50 [00:14<00:00,  3.40it/s]\n"
     ]
    },
    {
     "name": "stdout",
     "output_type": "stream",
     "text": [
      "Train Loss: 0.0276 | Val Loss: 0.1857 | SpearmanR: 0.5115\n"
     ]
    },
    {
     "name": "stderr",
     "output_type": "stream",
     "text": [
      "[Surveying]: 100%|██████████| 25/25 [00:01<00:00, 16.93it/s]\n"
     ]
    },
    {
     "name": "stdout",
     "output_type": "stream",
     "text": [
      "\n",
      "Training Model 5...\n"
     ]
    },
    {
     "name": "stderr",
     "output_type": "stream",
     "text": [
      "[Training]:  48%|████▊     | 24/50 [00:06<00:07,  3.48it/s]\n"
     ]
    },
    {
     "name": "stdout",
     "output_type": "stream",
     "text": [
      "Early stopping triggered after 10 epochs with no improvement.\n",
      "Train Loss: 0.0372 | Val Loss: 0.2414 | SpearmanR: 0.3350\n"
     ]
    },
    {
     "name": "stderr",
     "output_type": "stream",
     "text": [
      "[Surveying]: 100%|██████████| 25/25 [00:01<00:00, 17.13it/s]\n"
     ]
    },
    {
     "name": "stdout",
     "output_type": "stream",
     "text": [
      "Ensemble training complete, submitting predictions for next cycle.\n",
      "\n",
      "Cycle 4/16\n",
      "-------------------------------------------------\n",
      "Saving variance distribution to results/03_bootstrap_ensemble/variances4.csv...\n",
      "Save complete.\n",
      "Selecting new data points...\n",
      "\n",
      "Training and evaluating model using 64 actively selected samples...\n"
     ]
    },
    {
     "name": "stderr",
     "output_type": "stream",
     "text": [
      "[Training]:  62%|██████▏   | 31/50 [00:09<00:05,  3.24it/s]\n"
     ]
    },
    {
     "name": "stdout",
     "output_type": "stream",
     "text": [
      "Early stopping triggered after 10 epochs with no improvement.\n",
      "Train Loss: 0.0545 | Val Loss: 0.2133 | SpearmanR: 0.3913\n"
     ]
    },
    {
     "name": "stderr",
     "output_type": "stream",
     "text": [
      "[Testing]: 100%|██████████| 25/25 [00:00<00:00, 130.56it/s]\n"
     ]
    },
    {
     "name": "stdout",
     "output_type": "stream",
     "text": [
      "\n",
      "Training and evaluating model using 64 randomly selected samples...\n"
     ]
    },
    {
     "name": "stderr",
     "output_type": "stream",
     "text": [
      "[Training]:  64%|██████▍   | 32/50 [00:10<00:05,  3.19it/s]\n"
     ]
    },
    {
     "name": "stdout",
     "output_type": "stream",
     "text": [
      "Early stopping triggered after 10 epochs with no improvement.\n",
      "Train Loss: 0.0399 | Val Loss: 0.1855 | SpearmanR: 0.5053\n"
     ]
    },
    {
     "name": "stderr",
     "output_type": "stream",
     "text": [
      "[Testing]: 100%|██████████| 25/25 [00:00<00:00, 129.63it/s]\n"
     ]
    },
    {
     "name": "stdout",
     "output_type": "stream",
     "text": [
      "Progress for experiment 3 appended to results/03_bootstrap_ensemble/active_vs_standard_learning_curve.csv\n",
      "Starting ensemble training and pool evaluation...\n",
      "\n",
      "Training Model 1...\n"
     ]
    },
    {
     "name": "stderr",
     "output_type": "stream",
     "text": [
      "[Training]: 100%|██████████| 50/50 [00:15<00:00,  3.31it/s]\n"
     ]
    },
    {
     "name": "stdout",
     "output_type": "stream",
     "text": [
      "Train Loss: 0.0022 | Val Loss: 0.1879 | SpearmanR: 0.3670\n"
     ]
    },
    {
     "name": "stderr",
     "output_type": "stream",
     "text": [
      "[Surveying]: 100%|██████████| 25/25 [00:01<00:00, 17.02it/s]\n"
     ]
    },
    {
     "name": "stdout",
     "output_type": "stream",
     "text": [
      "\n",
      "Training Model 2...\n"
     ]
    },
    {
     "name": "stderr",
     "output_type": "stream",
     "text": [
      "[Training]:  76%|███████▌  | 38/50 [00:11<00:03,  3.40it/s]\n"
     ]
    },
    {
     "name": "stdout",
     "output_type": "stream",
     "text": [
      "Early stopping triggered after 10 epochs with no improvement.\n",
      "Train Loss: 0.0164 | Val Loss: 0.2012 | SpearmanR: 0.3505\n"
     ]
    },
    {
     "name": "stderr",
     "output_type": "stream",
     "text": [
      "[Surveying]: 100%|██████████| 25/25 [00:01<00:00, 17.40it/s]\n"
     ]
    },
    {
     "name": "stdout",
     "output_type": "stream",
     "text": [
      "\n",
      "Training Model 3...\n"
     ]
    },
    {
     "name": "stderr",
     "output_type": "stream",
     "text": [
      "[Training]:  88%|████████▊ | 44/50 [00:13<00:01,  3.25it/s]\n"
     ]
    },
    {
     "name": "stdout",
     "output_type": "stream",
     "text": [
      "Early stopping triggered after 10 epochs with no improvement.\n",
      "Train Loss: 0.0126 | Val Loss: 0.1759 | SpearmanR: 0.4160\n"
     ]
    },
    {
     "name": "stderr",
     "output_type": "stream",
     "text": [
      "[Surveying]: 100%|██████████| 25/25 [00:01<00:00, 17.12it/s]\n"
     ]
    },
    {
     "name": "stdout",
     "output_type": "stream",
     "text": [
      "\n",
      "Training Model 4...\n"
     ]
    },
    {
     "name": "stderr",
     "output_type": "stream",
     "text": [
      "[Training]:  34%|███▍      | 17/50 [00:05<00:10,  3.22it/s]\n"
     ]
    },
    {
     "name": "stdout",
     "output_type": "stream",
     "text": [
      "Early stopping triggered after 10 epochs with no improvement.\n",
      "Train Loss: 0.0655 | Val Loss: 0.3086 | SpearmanR: 0.3395\n"
     ]
    },
    {
     "name": "stderr",
     "output_type": "stream",
     "text": [
      "[Surveying]: 100%|██████████| 25/25 [00:01<00:00, 17.09it/s]\n"
     ]
    },
    {
     "name": "stdout",
     "output_type": "stream",
     "text": [
      "\n",
      "Training Model 5...\n"
     ]
    },
    {
     "name": "stderr",
     "output_type": "stream",
     "text": [
      "[Training]:  40%|████      | 20/50 [00:06<00:09,  3.19it/s]\n"
     ]
    },
    {
     "name": "stdout",
     "output_type": "stream",
     "text": [
      "Early stopping triggered after 10 epochs with no improvement.\n",
      "Train Loss: 0.0563 | Val Loss: 0.2182 | SpearmanR: 0.3212\n"
     ]
    },
    {
     "name": "stderr",
     "output_type": "stream",
     "text": [
      "[Surveying]: 100%|██████████| 25/25 [00:01<00:00, 17.07it/s]\n"
     ]
    },
    {
     "name": "stdout",
     "output_type": "stream",
     "text": [
      "Ensemble training complete, submitting predictions for next cycle.\n",
      "\n",
      "Cycle 5/16\n",
      "-------------------------------------------------\n",
      "Saving variance distribution to results/03_bootstrap_ensemble/variances5.csv...\n",
      "Save complete.\n",
      "Selecting new data points...\n",
      "\n",
      "Training and evaluating model using 80 actively selected samples...\n"
     ]
    },
    {
     "name": "stderr",
     "output_type": "stream",
     "text": [
      "[Training]:  54%|█████▍    | 27/50 [00:08<00:07,  3.09it/s]\n"
     ]
    },
    {
     "name": "stdout",
     "output_type": "stream",
     "text": [
      "Early stopping triggered after 10 epochs with no improvement.\n",
      "Train Loss: 0.0452 | Val Loss: 0.1760 | SpearmanR: 0.4718\n"
     ]
    },
    {
     "name": "stderr",
     "output_type": "stream",
     "text": [
      "[Testing]: 100%|██████████| 25/25 [00:00<00:00, 129.63it/s]\n"
     ]
    },
    {
     "name": "stdout",
     "output_type": "stream",
     "text": [
      "\n",
      "Training and evaluating model using 80 randomly selected samples...\n"
     ]
    },
    {
     "name": "stderr",
     "output_type": "stream",
     "text": [
      "[Training]:  58%|█████▊    | 29/50 [00:10<00:07,  2.86it/s]\n"
     ]
    },
    {
     "name": "stdout",
     "output_type": "stream",
     "text": [
      "Early stopping triggered after 10 epochs with no improvement.\n",
      "Train Loss: 0.0284 | Val Loss: 0.1586 | SpearmanR: 0.5480\n"
     ]
    },
    {
     "name": "stderr",
     "output_type": "stream",
     "text": [
      "[Testing]: 100%|██████████| 25/25 [00:00<00:00, 130.62it/s]\n"
     ]
    },
    {
     "name": "stdout",
     "output_type": "stream",
     "text": [
      "Progress for experiment 4 appended to results/03_bootstrap_ensemble/active_vs_standard_learning_curve.csv\n",
      "Starting ensemble training and pool evaluation...\n",
      "\n",
      "Training Model 1...\n"
     ]
    },
    {
     "name": "stderr",
     "output_type": "stream",
     "text": [
      "[Training]:  70%|███████   | 35/50 [00:11<00:04,  3.04it/s]\n"
     ]
    },
    {
     "name": "stdout",
     "output_type": "stream",
     "text": [
      "Early stopping triggered after 10 epochs with no improvement.\n",
      "Train Loss: 0.0148 | Val Loss: 0.1863 | SpearmanR: 0.3193\n"
     ]
    },
    {
     "name": "stderr",
     "output_type": "stream",
     "text": [
      "[Surveying]: 100%|██████████| 25/25 [00:01<00:00, 17.06it/s]\n"
     ]
    },
    {
     "name": "stdout",
     "output_type": "stream",
     "text": [
      "\n",
      "Training Model 2...\n"
     ]
    },
    {
     "name": "stderr",
     "output_type": "stream",
     "text": [
      "[Training]:  84%|████████▍ | 42/50 [00:13<00:02,  3.11it/s]\n"
     ]
    },
    {
     "name": "stdout",
     "output_type": "stream",
     "text": [
      "Early stopping triggered after 10 epochs with no improvement.\n",
      "Train Loss: 0.0135 | Val Loss: 0.1683 | SpearmanR: 0.4184\n"
     ]
    },
    {
     "name": "stderr",
     "output_type": "stream",
     "text": [
      "[Surveying]: 100%|██████████| 25/25 [00:01<00:00, 17.07it/s]\n"
     ]
    },
    {
     "name": "stdout",
     "output_type": "stream",
     "text": [
      "\n",
      "Training Model 3...\n"
     ]
    },
    {
     "name": "stderr",
     "output_type": "stream",
     "text": [
      "[Training]:  80%|████████  | 40/50 [00:13<00:03,  2.90it/s]\n"
     ]
    },
    {
     "name": "stdout",
     "output_type": "stream",
     "text": [
      "Early stopping triggered after 10 epochs with no improvement.\n",
      "Train Loss: 0.0127 | Val Loss: 0.1780 | SpearmanR: 0.5073\n"
     ]
    },
    {
     "name": "stderr",
     "output_type": "stream",
     "text": [
      "[Surveying]: 100%|██████████| 25/25 [00:01<00:00, 17.11it/s]\n"
     ]
    },
    {
     "name": "stdout",
     "output_type": "stream",
     "text": [
      "\n",
      "Training Model 4...\n"
     ]
    },
    {
     "name": "stderr",
     "output_type": "stream",
     "text": [
      "[Training]:  48%|████▊     | 24/50 [00:07<00:08,  3.10it/s]\n"
     ]
    },
    {
     "name": "stdout",
     "output_type": "stream",
     "text": [
      "Early stopping triggered after 10 epochs with no improvement.\n",
      "Train Loss: 0.0349 | Val Loss: 0.1915 | SpearmanR: 0.3617\n"
     ]
    },
    {
     "name": "stderr",
     "output_type": "stream",
     "text": [
      "[Surveying]: 100%|██████████| 25/25 [00:01<00:00, 17.08it/s]\n"
     ]
    },
    {
     "name": "stdout",
     "output_type": "stream",
     "text": [
      "\n",
      "Training Model 5...\n"
     ]
    },
    {
     "name": "stderr",
     "output_type": "stream",
     "text": [
      "[Training]:  64%|██████▍   | 32/50 [00:10<00:05,  3.10it/s]\n"
     ]
    },
    {
     "name": "stdout",
     "output_type": "stream",
     "text": [
      "Early stopping triggered after 10 epochs with no improvement.\n",
      "Train Loss: 0.0082 | Val Loss: 0.2596 | SpearmanR: 0.3871\n"
     ]
    },
    {
     "name": "stderr",
     "output_type": "stream",
     "text": [
      "[Surveying]: 100%|██████████| 25/25 [00:01<00:00, 17.19it/s]\n"
     ]
    },
    {
     "name": "stdout",
     "output_type": "stream",
     "text": [
      "Ensemble training complete, submitting predictions for next cycle.\n",
      "\n",
      "Cycle 6/16\n",
      "-------------------------------------------------\n",
      "Saving variance distribution to results/03_bootstrap_ensemble/variances6.csv...\n",
      "Save complete.\n",
      "Selecting new data points...\n",
      "\n",
      "Training and evaluating model using 96 actively selected samples...\n"
     ]
    },
    {
     "name": "stderr",
     "output_type": "stream",
     "text": [
      "[Training]:  84%|████████▍ | 42/50 [00:14<00:02,  2.94it/s]\n"
     ]
    },
    {
     "name": "stdout",
     "output_type": "stream",
     "text": [
      "Early stopping triggered after 10 epochs with no improvement.\n",
      "Train Loss: 0.0185 | Val Loss: 0.1752 | SpearmanR: 0.4237\n"
     ]
    },
    {
     "name": "stderr",
     "output_type": "stream",
     "text": [
      "[Testing]: 100%|██████████| 25/25 [00:00<00:00, 130.19it/s]\n"
     ]
    },
    {
     "name": "stdout",
     "output_type": "stream",
     "text": [
      "\n",
      "Training and evaluating model using 96 randomly selected samples...\n"
     ]
    },
    {
     "name": "stderr",
     "output_type": "stream",
     "text": [
      "[Training]:  86%|████████▌ | 43/50 [00:14<00:02,  2.95it/s]\n"
     ]
    },
    {
     "name": "stdout",
     "output_type": "stream",
     "text": [
      "Early stopping triggered after 10 epochs with no improvement.\n",
      "Train Loss: 0.0160 | Val Loss: 0.1625 | SpearmanR: 0.5441\n"
     ]
    },
    {
     "name": "stderr",
     "output_type": "stream",
     "text": [
      "[Testing]: 100%|██████████| 25/25 [00:00<00:00, 128.78it/s]\n"
     ]
    },
    {
     "name": "stdout",
     "output_type": "stream",
     "text": [
      "Progress for experiment 5 appended to results/03_bootstrap_ensemble/active_vs_standard_learning_curve.csv\n",
      "Starting ensemble training and pool evaluation...\n",
      "\n",
      "Training Model 1...\n"
     ]
    },
    {
     "name": "stderr",
     "output_type": "stream",
     "text": [
      "[Training]: 100%|██████████| 50/50 [00:16<00:00,  3.06it/s]\n"
     ]
    },
    {
     "name": "stdout",
     "output_type": "stream",
     "text": [
      "Train Loss: 0.0043 | Val Loss: 0.1812 | SpearmanR: 0.4851\n"
     ]
    },
    {
     "name": "stderr",
     "output_type": "stream",
     "text": [
      "[Surveying]: 100%|██████████| 24/24 [00:01<00:00, 16.34it/s]\n"
     ]
    },
    {
     "name": "stdout",
     "output_type": "stream",
     "text": [
      "\n",
      "Training Model 2...\n"
     ]
    },
    {
     "name": "stderr",
     "output_type": "stream",
     "text": [
      "[Training]:  58%|█████▊    | 29/50 [00:09<00:07,  2.96it/s]\n"
     ]
    },
    {
     "name": "stdout",
     "output_type": "stream",
     "text": [
      "Early stopping triggered after 10 epochs with no improvement.\n",
      "Train Loss: 0.0209 | Val Loss: 0.2059 | SpearmanR: 0.3323\n"
     ]
    },
    {
     "name": "stderr",
     "output_type": "stream",
     "text": [
      "[Surveying]: 100%|██████████| 24/24 [00:01<00:00, 12.73it/s]\n"
     ]
    },
    {
     "name": "stdout",
     "output_type": "stream",
     "text": [
      "\n",
      "Training Model 3...\n"
     ]
    },
    {
     "name": "stderr",
     "output_type": "stream",
     "text": [
      "[Training]:  66%|██████▌   | 33/50 [00:11<00:05,  2.85it/s]\n"
     ]
    },
    {
     "name": "stdout",
     "output_type": "stream",
     "text": [
      "Early stopping triggered after 10 epochs with no improvement.\n",
      "Train Loss: 0.0286 | Val Loss: 0.1789 | SpearmanR: 0.4021\n"
     ]
    },
    {
     "name": "stderr",
     "output_type": "stream",
     "text": [
      "[Surveying]: 100%|██████████| 24/24 [00:01<00:00, 16.73it/s]\n"
     ]
    },
    {
     "name": "stdout",
     "output_type": "stream",
     "text": [
      "\n",
      "Training Model 4...\n"
     ]
    },
    {
     "name": "stderr",
     "output_type": "stream",
     "text": [
      "[Training]: 100%|██████████| 50/50 [00:16<00:00,  2.98it/s]\n"
     ]
    },
    {
     "name": "stdout",
     "output_type": "stream",
     "text": [
      "Train Loss: 0.0066 | Val Loss: 0.1512 | SpearmanR: 0.5135\n"
     ]
    },
    {
     "name": "stderr",
     "output_type": "stream",
     "text": [
      "[Surveying]: 100%|██████████| 24/24 [00:01<00:00, 16.47it/s]\n"
     ]
    },
    {
     "name": "stdout",
     "output_type": "stream",
     "text": [
      "\n",
      "Training Model 5...\n"
     ]
    },
    {
     "name": "stderr",
     "output_type": "stream",
     "text": [
      "[Training]:  66%|██████▌   | 33/50 [00:11<00:05,  2.92it/s]\n"
     ]
    },
    {
     "name": "stdout",
     "output_type": "stream",
     "text": [
      "Early stopping triggered after 10 epochs with no improvement.\n",
      "Train Loss: 0.0234 | Val Loss: 0.2205 | SpearmanR: 0.3682\n"
     ]
    },
    {
     "name": "stderr",
     "output_type": "stream",
     "text": [
      "[Surveying]: 100%|██████████| 24/24 [00:01<00:00, 16.70it/s]\n"
     ]
    },
    {
     "name": "stdout",
     "output_type": "stream",
     "text": [
      "Ensemble training complete, submitting predictions for next cycle.\n",
      "\n",
      "Cycle 7/16\n",
      "-------------------------------------------------\n",
      "Saving variance distribution to results/03_bootstrap_ensemble/variances7.csv...\n",
      "Save complete.\n",
      "Selecting new data points...\n",
      "\n",
      "Training and evaluating model using 112 actively selected samples...\n"
     ]
    },
    {
     "name": "stderr",
     "output_type": "stream",
     "text": [
      "[Training]:  96%|█████████▌| 48/50 [00:17<00:00,  2.68it/s]\n"
     ]
    },
    {
     "name": "stdout",
     "output_type": "stream",
     "text": [
      "Early stopping triggered after 10 epochs with no improvement.\n",
      "Train Loss: 0.0211 | Val Loss: 0.1509 | SpearmanR: 0.5549\n"
     ]
    },
    {
     "name": "stderr",
     "output_type": "stream",
     "text": [
      "[Testing]: 100%|██████████| 25/25 [00:00<00:00, 130.45it/s]\n"
     ]
    },
    {
     "name": "stdout",
     "output_type": "stream",
     "text": [
      "\n",
      "Training and evaluating model using 112 randomly selected samples...\n"
     ]
    },
    {
     "name": "stderr",
     "output_type": "stream",
     "text": [
      "[Training]: 100%|██████████| 50/50 [00:18<00:00,  2.76it/s]\n"
     ]
    },
    {
     "name": "stdout",
     "output_type": "stream",
     "text": [
      "Train Loss: 0.0125 | Val Loss: 0.1510 | SpearmanR: 0.5787\n"
     ]
    },
    {
     "name": "stderr",
     "output_type": "stream",
     "text": [
      "[Testing]: 100%|██████████| 25/25 [00:00<00:00, 130.68it/s]\n"
     ]
    },
    {
     "name": "stdout",
     "output_type": "stream",
     "text": [
      "Progress for experiment 6 appended to results/03_bootstrap_ensemble/active_vs_standard_learning_curve.csv\n",
      "Starting ensemble training and pool evaluation...\n",
      "\n",
      "Training Model 1...\n"
     ]
    },
    {
     "name": "stderr",
     "output_type": "stream",
     "text": [
      "[Training]:  44%|████▍     | 22/50 [00:08<00:10,  2.70it/s]\n"
     ]
    },
    {
     "name": "stdout",
     "output_type": "stream",
     "text": [
      "Early stopping triggered after 10 epochs with no improvement.\n",
      "Train Loss: 0.0424 | Val Loss: 0.1832 | SpearmanR: 0.3932\n"
     ]
    },
    {
     "name": "stderr",
     "output_type": "stream",
     "text": [
      "[Surveying]: 100%|██████████| 24/24 [00:01<00:00, 16.66it/s]\n"
     ]
    },
    {
     "name": "stdout",
     "output_type": "stream",
     "text": [
      "\n",
      "Training Model 2...\n"
     ]
    },
    {
     "name": "stderr",
     "output_type": "stream",
     "text": [
      "[Training]:  70%|███████   | 35/50 [00:12<00:05,  2.87it/s]\n"
     ]
    },
    {
     "name": "stdout",
     "output_type": "stream",
     "text": [
      "Early stopping triggered after 10 epochs with no improvement.\n",
      "Train Loss: 0.0187 | Val Loss: 0.1515 | SpearmanR: 0.4954\n"
     ]
    },
    {
     "name": "stderr",
     "output_type": "stream",
     "text": [
      "[Surveying]: 100%|██████████| 24/24 [00:01<00:00, 16.75it/s]\n"
     ]
    },
    {
     "name": "stdout",
     "output_type": "stream",
     "text": [
      "\n",
      "Training Model 3...\n"
     ]
    },
    {
     "name": "stderr",
     "output_type": "stream",
     "text": [
      "[Training]: 100%|██████████| 50/50 [00:17<00:00,  2.79it/s]\n"
     ]
    },
    {
     "name": "stdout",
     "output_type": "stream",
     "text": [
      "Train Loss: 0.0144 | Val Loss: 0.1991 | SpearmanR: 0.4206\n"
     ]
    },
    {
     "name": "stderr",
     "output_type": "stream",
     "text": [
      "[Surveying]: 100%|██████████| 24/24 [00:01<00:00, 16.61it/s]\n"
     ]
    },
    {
     "name": "stdout",
     "output_type": "stream",
     "text": [
      "\n",
      "Training Model 4...\n"
     ]
    },
    {
     "name": "stderr",
     "output_type": "stream",
     "text": [
      "[Training]:  90%|█████████ | 45/50 [00:15<00:01,  2.81it/s]\n"
     ]
    },
    {
     "name": "stdout",
     "output_type": "stream",
     "text": [
      "Early stopping triggered after 10 epochs with no improvement.\n",
      "Train Loss: 0.0228 | Val Loss: 0.1702 | SpearmanR: 0.5302\n"
     ]
    },
    {
     "name": "stderr",
     "output_type": "stream",
     "text": [
      "[Surveying]: 100%|██████████| 24/24 [00:01<00:00, 16.70it/s]\n"
     ]
    },
    {
     "name": "stdout",
     "output_type": "stream",
     "text": [
      "\n",
      "Training Model 5...\n"
     ]
    },
    {
     "name": "stderr",
     "output_type": "stream",
     "text": [
      "[Training]:  74%|███████▍  | 37/50 [00:13<00:04,  2.64it/s]\n"
     ]
    },
    {
     "name": "stdout",
     "output_type": "stream",
     "text": [
      "Early stopping triggered after 10 epochs with no improvement.\n",
      "Train Loss: 0.0293 | Val Loss: 0.1803 | SpearmanR: 0.5176\n"
     ]
    },
    {
     "name": "stderr",
     "output_type": "stream",
     "text": [
      "[Surveying]: 100%|██████████| 24/24 [00:01<00:00, 16.81it/s]\n"
     ]
    },
    {
     "name": "stdout",
     "output_type": "stream",
     "text": [
      "Ensemble training complete, submitting predictions for next cycle.\n",
      "\n",
      "Cycle 8/16\n",
      "-------------------------------------------------\n",
      "Saving variance distribution to results/03_bootstrap_ensemble/variances8.csv...\n",
      "Save complete.\n",
      "Selecting new data points...\n",
      "\n",
      "Training and evaluating model using 128 actively selected samples...\n"
     ]
    },
    {
     "name": "stderr",
     "output_type": "stream",
     "text": [
      "[Training]:  70%|███████   | 35/50 [00:15<00:06,  2.19it/s]\n"
     ]
    },
    {
     "name": "stdout",
     "output_type": "stream",
     "text": [
      "Early stopping triggered after 10 epochs with no improvement.\n",
      "Train Loss: 0.0254 | Val Loss: 0.1987 | SpearmanR: 0.5920\n"
     ]
    },
    {
     "name": "stderr",
     "output_type": "stream",
     "text": [
      "[Testing]: 100%|██████████| 25/25 [00:00<00:00, 130.68it/s]\n"
     ]
    },
    {
     "name": "stdout",
     "output_type": "stream",
     "text": [
      "\n",
      "Training and evaluating model using 128 randomly selected samples...\n"
     ]
    },
    {
     "name": "stderr",
     "output_type": "stream",
     "text": [
      "[Training]: 100%|██████████| 50/50 [00:23<00:00,  2.17it/s]\n"
     ]
    },
    {
     "name": "stdout",
     "output_type": "stream",
     "text": [
      "Train Loss: 0.0180 | Val Loss: 0.1284 | SpearmanR: 0.6159\n"
     ]
    },
    {
     "name": "stderr",
     "output_type": "stream",
     "text": [
      "[Testing]: 100%|██████████| 25/25 [00:00<00:00, 130.48it/s]\n"
     ]
    },
    {
     "name": "stdout",
     "output_type": "stream",
     "text": [
      "Progress for experiment 7 appended to results/03_bootstrap_ensemble/active_vs_standard_learning_curve.csv\n",
      "Starting ensemble training and pool evaluation...\n",
      "\n",
      "Training Model 1...\n"
     ]
    },
    {
     "name": "stderr",
     "output_type": "stream",
     "text": [
      "[Training]: 100%|██████████| 50/50 [00:23<00:00,  2.13it/s]\n"
     ]
    },
    {
     "name": "stdout",
     "output_type": "stream",
     "text": [
      "Train Loss: 0.0016 | Val Loss: 0.1602 | SpearmanR: 0.5397\n"
     ]
    },
    {
     "name": "stderr",
     "output_type": "stream",
     "text": [
      "[Surveying]: 100%|██████████| 24/24 [00:01<00:00, 17.15it/s]\n"
     ]
    },
    {
     "name": "stdout",
     "output_type": "stream",
     "text": [
      "\n",
      "Training Model 2...\n"
     ]
    },
    {
     "name": "stderr",
     "output_type": "stream",
     "text": [
      "[Training]:  56%|█████▌    | 28/50 [00:13<00:10,  2.04it/s]\n"
     ]
    },
    {
     "name": "stdout",
     "output_type": "stream",
     "text": [
      "Early stopping triggered after 10 epochs with no improvement.\n",
      "Train Loss: 0.0132 | Val Loss: 0.1533 | SpearmanR: 0.4889\n"
     ]
    },
    {
     "name": "stderr",
     "output_type": "stream",
     "text": [
      "[Surveying]: 100%|██████████| 24/24 [00:01<00:00, 16.83it/s]\n"
     ]
    },
    {
     "name": "stdout",
     "output_type": "stream",
     "text": [
      "\n",
      "Training Model 3...\n"
     ]
    },
    {
     "name": "stderr",
     "output_type": "stream",
     "text": [
      "[Training]:  66%|██████▌   | 33/50 [00:15<00:07,  2.17it/s]\n"
     ]
    },
    {
     "name": "stdout",
     "output_type": "stream",
     "text": [
      "Early stopping triggered after 10 epochs with no improvement.\n",
      "Train Loss: 0.0128 | Val Loss: 0.1776 | SpearmanR: 0.4554\n"
     ]
    },
    {
     "name": "stderr",
     "output_type": "stream",
     "text": [
      "[Surveying]: 100%|██████████| 24/24 [00:01<00:00, 16.83it/s]\n"
     ]
    },
    {
     "name": "stdout",
     "output_type": "stream",
     "text": [
      "\n",
      "Training Model 4...\n"
     ]
    },
    {
     "name": "stderr",
     "output_type": "stream",
     "text": [
      "[Training]:  70%|███████   | 35/50 [00:17<00:07,  1.98it/s]\n"
     ]
    },
    {
     "name": "stdout",
     "output_type": "stream",
     "text": [
      "Early stopping triggered after 10 epochs with no improvement.\n",
      "Train Loss: 0.0129 | Val Loss: 0.1653 | SpearmanR: 0.5510\n"
     ]
    },
    {
     "name": "stderr",
     "output_type": "stream",
     "text": [
      "[Surveying]: 100%|██████████| 24/24 [00:01<00:00, 16.98it/s]\n"
     ]
    },
    {
     "name": "stdout",
     "output_type": "stream",
     "text": [
      "\n",
      "Training Model 5...\n"
     ]
    },
    {
     "name": "stderr",
     "output_type": "stream",
     "text": [
      "[Training]:  84%|████████▍ | 42/50 [00:21<00:04,  1.93it/s]\n"
     ]
    },
    {
     "name": "stdout",
     "output_type": "stream",
     "text": [
      "Early stopping triggered after 10 epochs with no improvement.\n",
      "Train Loss: 0.0137 | Val Loss: 0.1553 | SpearmanR: 0.5176\n"
     ]
    },
    {
     "name": "stderr",
     "output_type": "stream",
     "text": [
      "[Surveying]: 100%|██████████| 24/24 [00:01<00:00, 17.11it/s]\n"
     ]
    },
    {
     "name": "stdout",
     "output_type": "stream",
     "text": [
      "Ensemble training complete, submitting predictions for next cycle.\n",
      "\n",
      "Cycle 9/16\n",
      "-------------------------------------------------\n",
      "Saving variance distribution to results/03_bootstrap_ensemble/variances9.csv...\n",
      "Save complete.\n",
      "Selecting new data points...\n",
      "\n",
      "Training and evaluating model using 144 actively selected samples...\n"
     ]
    },
    {
     "name": "stderr",
     "output_type": "stream",
     "text": [
      "[Training]:  70%|███████   | 35/50 [00:19<00:08,  1.80it/s]\n"
     ]
    },
    {
     "name": "stdout",
     "output_type": "stream",
     "text": [
      "Early stopping triggered after 10 epochs with no improvement.\n",
      "Train Loss: 0.0262 | Val Loss: 0.2103 | SpearmanR: 0.5573\n"
     ]
    },
    {
     "name": "stderr",
     "output_type": "stream",
     "text": [
      "[Testing]: 100%|██████████| 25/25 [00:00<00:00, 132.07it/s]\n"
     ]
    },
    {
     "name": "stdout",
     "output_type": "stream",
     "text": [
      "\n",
      "Training and evaluating model using 144 randomly selected samples...\n"
     ]
    },
    {
     "name": "stderr",
     "output_type": "stream",
     "text": [
      "[Training]:  92%|█████████▏| 46/50 [00:23<00:02,  1.99it/s]\n"
     ]
    },
    {
     "name": "stdout",
     "output_type": "stream",
     "text": [
      "Early stopping triggered after 10 epochs with no improvement.\n",
      "Train Loss: 0.0206 | Val Loss: 0.1430 | SpearmanR: 0.6257\n"
     ]
    },
    {
     "name": "stderr",
     "output_type": "stream",
     "text": [
      "[Testing]: 100%|██████████| 25/25 [00:00<00:00, 131.45it/s]\n"
     ]
    },
    {
     "name": "stdout",
     "output_type": "stream",
     "text": [
      "Progress for experiment 8 appended to results/03_bootstrap_ensemble/active_vs_standard_learning_curve.csv\n",
      "Starting ensemble training and pool evaluation...\n",
      "\n",
      "Training Model 1...\n"
     ]
    },
    {
     "name": "stderr",
     "output_type": "stream",
     "text": [
      "[Training]:  84%|████████▍ | 42/50 [00:20<00:03,  2.01it/s]\n"
     ]
    },
    {
     "name": "stdout",
     "output_type": "stream",
     "text": [
      "Early stopping triggered after 10 epochs with no improvement.\n",
      "Train Loss: 0.0176 | Val Loss: 0.1539 | SpearmanR: 0.5220\n"
     ]
    },
    {
     "name": "stderr",
     "output_type": "stream",
     "text": [
      "[Surveying]: 100%|██████████| 24/24 [00:01<00:00, 17.12it/s]\n"
     ]
    },
    {
     "name": "stdout",
     "output_type": "stream",
     "text": [
      "\n",
      "Training Model 2...\n"
     ]
    },
    {
     "name": "stderr",
     "output_type": "stream",
     "text": [
      "[Training]: 100%|██████████| 50/50 [00:23<00:00,  2.11it/s]\n"
     ]
    },
    {
     "name": "stdout",
     "output_type": "stream",
     "text": [
      "Train Loss: 0.0176 | Val Loss: 0.1636 | SpearmanR: 0.5257\n"
     ]
    },
    {
     "name": "stderr",
     "output_type": "stream",
     "text": [
      "[Surveying]: 100%|██████████| 24/24 [00:01<00:00, 16.96it/s]\n"
     ]
    },
    {
     "name": "stdout",
     "output_type": "stream",
     "text": [
      "\n",
      "Training Model 3...\n"
     ]
    },
    {
     "name": "stderr",
     "output_type": "stream",
     "text": [
      "[Training]:  62%|██████▏   | 31/50 [00:15<00:09,  2.04it/s]\n"
     ]
    },
    {
     "name": "stdout",
     "output_type": "stream",
     "text": [
      "Early stopping triggered after 10 epochs with no improvement.\n",
      "Train Loss: 0.0754 | Val Loss: 0.1884 | SpearmanR: 0.4501\n"
     ]
    },
    {
     "name": "stderr",
     "output_type": "stream",
     "text": [
      "[Surveying]: 100%|██████████| 24/24 [00:01<00:00, 16.96it/s]\n"
     ]
    },
    {
     "name": "stdout",
     "output_type": "stream",
     "text": [
      "\n",
      "Training Model 4...\n"
     ]
    },
    {
     "name": "stderr",
     "output_type": "stream",
     "text": [
      "[Training]: 100%|██████████| 50/50 [00:24<00:00,  2.07it/s]\n"
     ]
    },
    {
     "name": "stdout",
     "output_type": "stream",
     "text": [
      "Train Loss: 0.0315 | Val Loss: 0.1575 | SpearmanR: 0.5427\n"
     ]
    },
    {
     "name": "stderr",
     "output_type": "stream",
     "text": [
      "[Surveying]: 100%|██████████| 24/24 [00:01<00:00, 17.03it/s]\n"
     ]
    },
    {
     "name": "stdout",
     "output_type": "stream",
     "text": [
      "\n",
      "Training Model 5...\n"
     ]
    },
    {
     "name": "stderr",
     "output_type": "stream",
     "text": [
      "[Training]:  74%|███████▍  | 37/50 [00:19<00:06,  1.94it/s]\n"
     ]
    },
    {
     "name": "stdout",
     "output_type": "stream",
     "text": [
      "Early stopping triggered after 10 epochs with no improvement.\n",
      "Train Loss: 0.0425 | Val Loss: 0.2037 | SpearmanR: 0.4873\n"
     ]
    },
    {
     "name": "stderr",
     "output_type": "stream",
     "text": [
      "[Surveying]: 100%|██████████| 24/24 [00:01<00:00, 16.83it/s]\n"
     ]
    },
    {
     "name": "stdout",
     "output_type": "stream",
     "text": [
      "Ensemble training complete, submitting predictions for next cycle.\n",
      "\n",
      "Cycle 10/16\n",
      "-------------------------------------------------\n",
      "Saving variance distribution to results/03_bootstrap_ensemble/variances10.csv...\n",
      "Save complete.\n",
      "Selecting new data points...\n",
      "\n",
      "Training and evaluating model using 160 actively selected samples...\n"
     ]
    },
    {
     "name": "stderr",
     "output_type": "stream",
     "text": [
      "[Training]:  46%|████▌     | 23/50 [00:11<00:13,  2.04it/s]\n"
     ]
    },
    {
     "name": "stdout",
     "output_type": "stream",
     "text": [
      "Early stopping triggered after 10 epochs with no improvement.\n",
      "Train Loss: 0.0470 | Val Loss: 0.1543 | SpearmanR: 0.5589\n"
     ]
    },
    {
     "name": "stderr",
     "output_type": "stream",
     "text": [
      "[Testing]: 100%|██████████| 25/25 [00:00<00:00, 129.19it/s]\n"
     ]
    },
    {
     "name": "stdout",
     "output_type": "stream",
     "text": [
      "\n",
      "Training and evaluating model using 160 randomly selected samples...\n"
     ]
    },
    {
     "name": "stderr",
     "output_type": "stream",
     "text": [
      "[Training]:  86%|████████▌ | 43/50 [00:18<00:03,  2.29it/s]\n"
     ]
    },
    {
     "name": "stdout",
     "output_type": "stream",
     "text": [
      "Early stopping triggered after 10 epochs with no improvement.\n",
      "Train Loss: 0.0236 | Val Loss: 0.1402 | SpearmanR: 0.5923\n"
     ]
    },
    {
     "name": "stderr",
     "output_type": "stream",
     "text": [
      "[Testing]: 100%|██████████| 25/25 [00:00<00:00, 127.99it/s]\n"
     ]
    },
    {
     "name": "stdout",
     "output_type": "stream",
     "text": [
      "Progress for experiment 9 appended to results/03_bootstrap_ensemble/active_vs_standard_learning_curve.csv\n",
      "Starting ensemble training and pool evaluation...\n",
      "\n",
      "Training Model 1...\n"
     ]
    },
    {
     "name": "stderr",
     "output_type": "stream",
     "text": [
      "[Training]:  50%|█████     | 25/50 [00:10<00:10,  2.34it/s]\n"
     ]
    },
    {
     "name": "stdout",
     "output_type": "stream",
     "text": [
      "Early stopping triggered after 10 epochs with no improvement.\n",
      "Train Loss: 0.0190 | Val Loss: 0.1717 | SpearmanR: 0.4145\n"
     ]
    },
    {
     "name": "stderr",
     "output_type": "stream",
     "text": [
      "[Surveying]: 100%|██████████| 24/24 [00:01<00:00, 16.68it/s]\n"
     ]
    },
    {
     "name": "stdout",
     "output_type": "stream",
     "text": [
      "\n",
      "Training Model 2...\n"
     ]
    },
    {
     "name": "stderr",
     "output_type": "stream",
     "text": [
      "[Training]:  78%|███████▊  | 39/50 [00:15<00:04,  2.46it/s]\n"
     ]
    },
    {
     "name": "stdout",
     "output_type": "stream",
     "text": [
      "Early stopping triggered after 10 epochs with no improvement.\n",
      "Train Loss: 0.0135 | Val Loss: 0.1437 | SpearmanR: 0.5617\n"
     ]
    },
    {
     "name": "stderr",
     "output_type": "stream",
     "text": [
      "[Surveying]: 100%|██████████| 24/24 [00:01<00:00, 16.89it/s]\n"
     ]
    },
    {
     "name": "stdout",
     "output_type": "stream",
     "text": [
      "\n",
      "Training Model 3...\n"
     ]
    },
    {
     "name": "stderr",
     "output_type": "stream",
     "text": [
      "[Training]:  74%|███████▍  | 37/50 [00:15<00:05,  2.36it/s]\n"
     ]
    },
    {
     "name": "stdout",
     "output_type": "stream",
     "text": [
      "Early stopping triggered after 10 epochs with no improvement.\n",
      "Train Loss: 0.0116 | Val Loss: 0.1566 | SpearmanR: 0.5905\n"
     ]
    },
    {
     "name": "stderr",
     "output_type": "stream",
     "text": [
      "[Surveying]: 100%|██████████| 24/24 [00:01<00:00, 16.57it/s]\n"
     ]
    },
    {
     "name": "stdout",
     "output_type": "stream",
     "text": [
      "\n",
      "Training Model 4...\n"
     ]
    },
    {
     "name": "stderr",
     "output_type": "stream",
     "text": [
      "[Training]:  66%|██████▌   | 33/50 [00:14<00:07,  2.30it/s]\n"
     ]
    },
    {
     "name": "stdout",
     "output_type": "stream",
     "text": [
      "Early stopping triggered after 10 epochs with no improvement.\n",
      "Train Loss: 0.0097 | Val Loss: 0.1598 | SpearmanR: 0.5180\n"
     ]
    },
    {
     "name": "stderr",
     "output_type": "stream",
     "text": [
      "[Surveying]: 100%|██████████| 24/24 [00:01<00:00, 16.77it/s]\n"
     ]
    },
    {
     "name": "stdout",
     "output_type": "stream",
     "text": [
      "\n",
      "Training Model 5...\n"
     ]
    },
    {
     "name": "stderr",
     "output_type": "stream",
     "text": [
      "[Training]:  54%|█████▍    | 27/50 [00:11<00:09,  2.42it/s]\n"
     ]
    },
    {
     "name": "stdout",
     "output_type": "stream",
     "text": [
      "Early stopping triggered after 10 epochs with no improvement.\n",
      "Train Loss: 0.0222 | Val Loss: 0.1741 | SpearmanR: 0.5479\n"
     ]
    },
    {
     "name": "stderr",
     "output_type": "stream",
     "text": [
      "[Surveying]: 100%|██████████| 24/24 [00:01<00:00, 16.98it/s]\n"
     ]
    },
    {
     "name": "stdout",
     "output_type": "stream",
     "text": [
      "Ensemble training complete, submitting predictions for next cycle.\n",
      "\n",
      "Cycle 11/16\n",
      "-------------------------------------------------\n",
      "Saving variance distribution to results/03_bootstrap_ensemble/variances11.csv...\n",
      "Save complete.\n",
      "Selecting new data points...\n",
      "\n",
      "Training and evaluating model using 176 actively selected samples...\n"
     ]
    },
    {
     "name": "stderr",
     "output_type": "stream",
     "text": [
      "[Training]: 100%|██████████| 50/50 [16:22<00:00, 19.65s/it] \n"
     ]
    },
    {
     "name": "stdout",
     "output_type": "stream",
     "text": [
      "Train Loss: 0.0176 | Val Loss: 0.1299 | SpearmanR: 0.5967\n"
     ]
    },
    {
     "name": "stderr",
     "output_type": "stream",
     "text": [
      "[Testing]: 100%|██████████| 25/25 [00:00<00:00, 136.54it/s]\n"
     ]
    },
    {
     "name": "stdout",
     "output_type": "stream",
     "text": [
      "\n",
      "Training and evaluating model using 176 randomly selected samples...\n"
     ]
    },
    {
     "name": "stderr",
     "output_type": "stream",
     "text": [
      "[Training]: 100%|██████████| 50/50 [00:22<00:00,  2.18it/s]\n"
     ]
    },
    {
     "name": "stdout",
     "output_type": "stream",
     "text": [
      "Train Loss: 0.0159 | Val Loss: 0.1196 | SpearmanR: 0.6747\n"
     ]
    },
    {
     "name": "stderr",
     "output_type": "stream",
     "text": [
      "[Testing]: 100%|██████████| 25/25 [00:00<00:00, 125.84it/s]\n"
     ]
    },
    {
     "name": "stdout",
     "output_type": "stream",
     "text": [
      "Progress for experiment 10 appended to results/03_bootstrap_ensemble/active_vs_standard_learning_curve.csv\n",
      "Starting ensemble training and pool evaluation...\n",
      "\n",
      "Training Model 1...\n"
     ]
    },
    {
     "name": "stderr",
     "output_type": "stream",
     "text": [
      "[Training]:  62%|██████▏   | 31/50 [00:13<00:08,  2.29it/s]\n"
     ]
    },
    {
     "name": "stdout",
     "output_type": "stream",
     "text": [
      "Early stopping triggered after 10 epochs with no improvement.\n",
      "Train Loss: 0.0069 | Val Loss: 0.1587 | SpearmanR: 0.5377\n"
     ]
    },
    {
     "name": "stderr",
     "output_type": "stream",
     "text": [
      "[Surveying]: 100%|██████████| 24/24 [00:01<00:00, 17.05it/s]\n"
     ]
    },
    {
     "name": "stdout",
     "output_type": "stream",
     "text": [
      "\n",
      "Training Model 2...\n"
     ]
    },
    {
     "name": "stderr",
     "output_type": "stream",
     "text": [
      "[Training]: 100%|██████████| 50/50 [00:21<00:00,  2.32it/s]\n"
     ]
    },
    {
     "name": "stdout",
     "output_type": "stream",
     "text": [
      "Train Loss: 0.0045 | Val Loss: 0.1509 | SpearmanR: 0.5584\n"
     ]
    },
    {
     "name": "stderr",
     "output_type": "stream",
     "text": [
      "[Surveying]: 100%|██████████| 24/24 [00:01<00:00, 17.15it/s]\n"
     ]
    },
    {
     "name": "stdout",
     "output_type": "stream",
     "text": [
      "\n",
      "Training Model 3...\n"
     ]
    },
    {
     "name": "stderr",
     "output_type": "stream",
     "text": [
      "[Training]: 100%|██████████| 50/50 [00:21<00:00,  2.33it/s]\n"
     ]
    },
    {
     "name": "stdout",
     "output_type": "stream",
     "text": [
      "Train Loss: 0.0033 | Val Loss: 0.1428 | SpearmanR: 0.5600\n"
     ]
    },
    {
     "name": "stderr",
     "output_type": "stream",
     "text": [
      "[Surveying]: 100%|██████████| 24/24 [00:01<00:00, 16.66it/s]\n"
     ]
    },
    {
     "name": "stdout",
     "output_type": "stream",
     "text": [
      "\n",
      "Training Model 4...\n"
     ]
    },
    {
     "name": "stderr",
     "output_type": "stream",
     "text": [
      "[Training]:  64%|██████▍   | 32/50 [00:14<00:07,  2.26it/s]\n"
     ]
    },
    {
     "name": "stdout",
     "output_type": "stream",
     "text": [
      "Early stopping triggered after 10 epochs with no improvement.\n",
      "Train Loss: 0.0097 | Val Loss: 0.1875 | SpearmanR: 0.5257\n"
     ]
    },
    {
     "name": "stderr",
     "output_type": "stream",
     "text": [
      "[Surveying]: 100%|██████████| 24/24 [00:01<00:00, 17.10it/s]\n"
     ]
    },
    {
     "name": "stdout",
     "output_type": "stream",
     "text": [
      "\n",
      "Training Model 5...\n"
     ]
    },
    {
     "name": "stderr",
     "output_type": "stream",
     "text": [
      "[Training]:  80%|████████  | 40/50 [00:17<00:04,  2.30it/s]\n"
     ]
    },
    {
     "name": "stdout",
     "output_type": "stream",
     "text": [
      "Early stopping triggered after 10 epochs with no improvement.\n",
      "Train Loss: 0.0237 | Val Loss: 0.1454 | SpearmanR: 0.5720\n"
     ]
    },
    {
     "name": "stderr",
     "output_type": "stream",
     "text": [
      "[Surveying]: 100%|██████████| 24/24 [00:01<00:00, 16.82it/s]\n"
     ]
    },
    {
     "name": "stdout",
     "output_type": "stream",
     "text": [
      "Ensemble training complete, submitting predictions for next cycle.\n",
      "\n",
      "Cycle 12/16\n",
      "-------------------------------------------------\n",
      "Saving variance distribution to results/03_bootstrap_ensemble/variances12.csv...\n",
      "Save complete.\n",
      "Selecting new data points...\n",
      "\n",
      "Training and evaluating model using 192 actively selected samples...\n"
     ]
    },
    {
     "name": "stderr",
     "output_type": "stream",
     "text": [
      "[Training]:  90%|█████████ | 45/50 [00:23<00:02,  1.95it/s]\n"
     ]
    },
    {
     "name": "stdout",
     "output_type": "stream",
     "text": [
      "Early stopping triggered after 10 epochs with no improvement.\n",
      "Train Loss: 0.0145 | Val Loss: 0.1356 | SpearmanR: 0.5936\n"
     ]
    },
    {
     "name": "stderr",
     "output_type": "stream",
     "text": [
      "[Testing]: 100%|██████████| 25/25 [00:00<00:00, 128.30it/s]\n"
     ]
    },
    {
     "name": "stdout",
     "output_type": "stream",
     "text": [
      "\n",
      "Training and evaluating model using 192 randomly selected samples...\n"
     ]
    },
    {
     "name": "stderr",
     "output_type": "stream",
     "text": [
      "[Training]: 100%|██████████| 50/50 [00:24<00:00,  2.06it/s]\n"
     ]
    },
    {
     "name": "stdout",
     "output_type": "stream",
     "text": [
      "Train Loss: 0.0217 | Val Loss: 0.1139 | SpearmanR: 0.6874\n"
     ]
    },
    {
     "name": "stderr",
     "output_type": "stream",
     "text": [
      "[Testing]: 100%|██████████| 25/25 [00:00<00:00, 129.48it/s]\n"
     ]
    },
    {
     "name": "stdout",
     "output_type": "stream",
     "text": [
      "Progress for experiment 11 appended to results/03_bootstrap_ensemble/active_vs_standard_learning_curve.csv\n",
      "Starting ensemble training and pool evaluation...\n",
      "\n",
      "Training Model 1...\n"
     ]
    },
    {
     "name": "stderr",
     "output_type": "stream",
     "text": [
      "[Training]: 100%|██████████| 50/50 [00:22<00:00,  2.22it/s]\n"
     ]
    },
    {
     "name": "stdout",
     "output_type": "stream",
     "text": [
      "Train Loss: 0.0052 | Val Loss: 0.1356 | SpearmanR: 0.5825\n"
     ]
    },
    {
     "name": "stderr",
     "output_type": "stream",
     "text": [
      "[Surveying]: 100%|██████████| 24/24 [00:01<00:00, 16.66it/s]\n"
     ]
    },
    {
     "name": "stdout",
     "output_type": "stream",
     "text": [
      "\n",
      "Training Model 2...\n"
     ]
    },
    {
     "name": "stderr",
     "output_type": "stream",
     "text": [
      "[Training]:  66%|██████▌   | 33/50 [00:16<00:08,  2.04it/s]\n"
     ]
    },
    {
     "name": "stdout",
     "output_type": "stream",
     "text": [
      "Early stopping triggered after 10 epochs with no improvement.\n",
      "Train Loss: 0.0108 | Val Loss: 0.1657 | SpearmanR: 0.5367\n"
     ]
    },
    {
     "name": "stderr",
     "output_type": "stream",
     "text": [
      "[Surveying]: 100%|██████████| 24/24 [00:01<00:00, 17.00it/s]\n"
     ]
    },
    {
     "name": "stdout",
     "output_type": "stream",
     "text": [
      "\n",
      "Training Model 3...\n"
     ]
    },
    {
     "name": "stderr",
     "output_type": "stream",
     "text": [
      "[Training]:  88%|████████▊ | 44/50 [00:19<00:02,  2.28it/s]\n"
     ]
    },
    {
     "name": "stdout",
     "output_type": "stream",
     "text": [
      "Early stopping triggered after 10 epochs with no improvement.\n",
      "Train Loss: 0.0071 | Val Loss: 0.1517 | SpearmanR: 0.5358\n"
     ]
    },
    {
     "name": "stderr",
     "output_type": "stream",
     "text": [
      "[Surveying]: 100%|██████████| 24/24 [00:01<00:00, 17.05it/s]\n"
     ]
    },
    {
     "name": "stdout",
     "output_type": "stream",
     "text": [
      "\n",
      "Training Model 4...\n"
     ]
    },
    {
     "name": "stderr",
     "output_type": "stream",
     "text": [
      "[Training]: 100%|██████████| 50/50 [00:24<00:00,  2.06it/s]\n"
     ]
    },
    {
     "name": "stdout",
     "output_type": "stream",
     "text": [
      "Train Loss: 0.0092 | Val Loss: 0.1418 | SpearmanR: 0.5927\n"
     ]
    },
    {
     "name": "stderr",
     "output_type": "stream",
     "text": [
      "[Surveying]: 100%|██████████| 24/24 [00:01<00:00, 16.99it/s]\n"
     ]
    },
    {
     "name": "stdout",
     "output_type": "stream",
     "text": [
      "\n",
      "Training Model 5...\n"
     ]
    },
    {
     "name": "stderr",
     "output_type": "stream",
     "text": [
      "[Training]:  80%|████████  | 40/50 [00:19<00:04,  2.08it/s]\n"
     ]
    },
    {
     "name": "stdout",
     "output_type": "stream",
     "text": [
      "Early stopping triggered after 10 epochs with no improvement.\n",
      "Train Loss: 0.0052 | Val Loss: 0.1423 | SpearmanR: 0.5510\n"
     ]
    },
    {
     "name": "stderr",
     "output_type": "stream",
     "text": [
      "[Surveying]: 100%|██████████| 24/24 [00:01<00:00, 16.94it/s]\n"
     ]
    },
    {
     "name": "stdout",
     "output_type": "stream",
     "text": [
      "Ensemble training complete, submitting predictions for next cycle.\n",
      "\n",
      "Cycle 13/16\n",
      "-------------------------------------------------\n",
      "Saving variance distribution to results/03_bootstrap_ensemble/variances13.csv...\n",
      "Save complete.\n",
      "Selecting new data points...\n",
      "\n",
      "Training and evaluating model using 208 actively selected samples...\n"
     ]
    },
    {
     "name": "stderr",
     "output_type": "stream",
     "text": [
      "[Training]: 100%|██████████| 50/50 [00:24<00:00,  2.07it/s]\n"
     ]
    },
    {
     "name": "stdout",
     "output_type": "stream",
     "text": [
      "Train Loss: 0.0097 | Val Loss: 0.1170 | SpearmanR: 0.6661\n"
     ]
    },
    {
     "name": "stderr",
     "output_type": "stream",
     "text": [
      "[Testing]: 100%|██████████| 25/25 [00:00<00:00, 131.20it/s]\n"
     ]
    },
    {
     "name": "stdout",
     "output_type": "stream",
     "text": [
      "\n",
      "Training and evaluating model using 208 randomly selected samples...\n"
     ]
    },
    {
     "name": "stderr",
     "output_type": "stream",
     "text": [
      "[Training]: 100%|██████████| 50/50 [00:24<00:00,  2.03it/s]\n"
     ]
    },
    {
     "name": "stdout",
     "output_type": "stream",
     "text": [
      "Train Loss: 0.0136 | Val Loss: 0.1208 | SpearmanR: 0.6605\n"
     ]
    },
    {
     "name": "stderr",
     "output_type": "stream",
     "text": [
      "[Testing]: 100%|██████████| 25/25 [00:00<00:00, 129.95it/s]\n"
     ]
    },
    {
     "name": "stdout",
     "output_type": "stream",
     "text": [
      "Progress for experiment 12 appended to results/03_bootstrap_ensemble/active_vs_standard_learning_curve.csv\n",
      "Starting ensemble training and pool evaluation...\n",
      "\n",
      "Training Model 1...\n"
     ]
    },
    {
     "name": "stderr",
     "output_type": "stream",
     "text": [
      "[Training]: 100%|██████████| 50/50 [00:23<00:00,  2.12it/s]\n"
     ]
    },
    {
     "name": "stdout",
     "output_type": "stream",
     "text": [
      "Train Loss: 0.0039 | Val Loss: 0.1310 | SpearmanR: 0.6166\n"
     ]
    },
    {
     "name": "stderr",
     "output_type": "stream",
     "text": [
      "[Surveying]: 100%|██████████| 24/24 [00:01<00:00, 16.95it/s]\n"
     ]
    },
    {
     "name": "stdout",
     "output_type": "stream",
     "text": [
      "\n",
      "Training Model 2...\n"
     ]
    },
    {
     "name": "stderr",
     "output_type": "stream",
     "text": [
      "[Training]:  60%|██████    | 30/50 [00:14<00:09,  2.00it/s]\n"
     ]
    },
    {
     "name": "stdout",
     "output_type": "stream",
     "text": [
      "Early stopping triggered after 10 epochs with no improvement.\n",
      "Train Loss: 0.0101 | Val Loss: 0.1625 | SpearmanR: 0.5250\n"
     ]
    },
    {
     "name": "stderr",
     "output_type": "stream",
     "text": [
      "[Surveying]: 100%|██████████| 24/24 [00:01<00:00, 17.22it/s]\n"
     ]
    },
    {
     "name": "stdout",
     "output_type": "stream",
     "text": [
      "\n",
      "Training Model 3...\n"
     ]
    },
    {
     "name": "stderr",
     "output_type": "stream",
     "text": [
      "[Training]:  74%|███████▍  | 37/50 [00:18<00:06,  2.02it/s]\n"
     ]
    },
    {
     "name": "stdout",
     "output_type": "stream",
     "text": [
      "Early stopping triggered after 10 epochs with no improvement.\n",
      "Train Loss: 0.0081 | Val Loss: 0.1382 | SpearmanR: 0.5953\n"
     ]
    },
    {
     "name": "stderr",
     "output_type": "stream",
     "text": [
      "[Surveying]: 100%|██████████| 24/24 [00:01<00:00, 17.23it/s]\n"
     ]
    },
    {
     "name": "stdout",
     "output_type": "stream",
     "text": [
      "\n",
      "Training Model 4...\n"
     ]
    },
    {
     "name": "stderr",
     "output_type": "stream",
     "text": [
      "[Training]:  76%|███████▌  | 38/50 [00:19<00:06,  1.99it/s]\n"
     ]
    },
    {
     "name": "stdout",
     "output_type": "stream",
     "text": [
      "Early stopping triggered after 10 epochs with no improvement.\n",
      "Train Loss: 0.0055 | Val Loss: 0.1357 | SpearmanR: 0.5862\n"
     ]
    },
    {
     "name": "stderr",
     "output_type": "stream",
     "text": [
      "[Surveying]: 100%|██████████| 24/24 [00:01<00:00, 17.03it/s]\n"
     ]
    },
    {
     "name": "stdout",
     "output_type": "stream",
     "text": [
      "\n",
      "Training Model 5...\n"
     ]
    },
    {
     "name": "stderr",
     "output_type": "stream",
     "text": [
      "[Training]: 100%|██████████| 50/50 [00:24<00:00,  2.06it/s]\n"
     ]
    },
    {
     "name": "stdout",
     "output_type": "stream",
     "text": [
      "Train Loss: 0.0141 | Val Loss: 0.1476 | SpearmanR: 0.6028\n"
     ]
    },
    {
     "name": "stderr",
     "output_type": "stream",
     "text": [
      "[Surveying]: 100%|██████████| 24/24 [00:01<00:00, 17.22it/s]\n"
     ]
    },
    {
     "name": "stdout",
     "output_type": "stream",
     "text": [
      "Ensemble training complete, submitting predictions for next cycle.\n",
      "\n",
      "Cycle 14/16\n",
      "-------------------------------------------------\n",
      "Saving variance distribution to results/03_bootstrap_ensemble/variances14.csv...\n",
      "Save complete.\n",
      "Selecting new data points...\n",
      "\n",
      "Training and evaluating model using 224 actively selected samples...\n"
     ]
    },
    {
     "name": "stderr",
     "output_type": "stream",
     "text": [
      "[Training]:  60%|██████    | 30/50 [00:15<00:10,  1.88it/s]\n"
     ]
    },
    {
     "name": "stdout",
     "output_type": "stream",
     "text": [
      "Early stopping triggered after 10 epochs with no improvement.\n",
      "Train Loss: 0.0259 | Val Loss: 0.1273 | SpearmanR: 0.5926\n"
     ]
    },
    {
     "name": "stderr",
     "output_type": "stream",
     "text": [
      "[Testing]: 100%|██████████| 25/25 [00:00<00:00, 129.25it/s]\n"
     ]
    },
    {
     "name": "stdout",
     "output_type": "stream",
     "text": [
      "\n",
      "Training and evaluating model using 224 randomly selected samples...\n"
     ]
    },
    {
     "name": "stderr",
     "output_type": "stream",
     "text": [
      "[Training]: 100%|██████████| 50/50 [00:26<00:00,  1.92it/s]\n"
     ]
    },
    {
     "name": "stdout",
     "output_type": "stream",
     "text": [
      "Train Loss: 0.0327 | Val Loss: 0.1198 | SpearmanR: 0.6874\n"
     ]
    },
    {
     "name": "stderr",
     "output_type": "stream",
     "text": [
      "[Testing]: 100%|██████████| 25/25 [00:00<00:00, 128.08it/s]\n"
     ]
    },
    {
     "name": "stdout",
     "output_type": "stream",
     "text": [
      "Progress for experiment 13 appended to results/03_bootstrap_ensemble/active_vs_standard_learning_curve.csv\n",
      "Starting ensemble training and pool evaluation...\n",
      "\n",
      "Training Model 1...\n"
     ]
    },
    {
     "name": "stderr",
     "output_type": "stream",
     "text": [
      "[Training]:  72%|███████▏  | 36/50 [00:18<00:07,  1.98it/s]\n"
     ]
    },
    {
     "name": "stdout",
     "output_type": "stream",
     "text": [
      "Early stopping triggered after 10 epochs with no improvement.\n",
      "Train Loss: 0.0099 | Val Loss: 0.1763 | SpearmanR: 0.5477\n"
     ]
    },
    {
     "name": "stderr",
     "output_type": "stream",
     "text": [
      "[Surveying]: 100%|██████████| 23/23 [00:01<00:00, 16.51it/s]\n"
     ]
    },
    {
     "name": "stdout",
     "output_type": "stream",
     "text": [
      "\n",
      "Training Model 2...\n"
     ]
    },
    {
     "name": "stderr",
     "output_type": "stream",
     "text": [
      "[Training]: 100%|██████████| 50/50 [00:25<00:00,  1.93it/s]\n"
     ]
    },
    {
     "name": "stdout",
     "output_type": "stream",
     "text": [
      "Train Loss: 0.0009 | Val Loss: 0.1274 | SpearmanR: 0.5923\n"
     ]
    },
    {
     "name": "stderr",
     "output_type": "stream",
     "text": [
      "[Surveying]: 100%|██████████| 23/23 [00:01<00:00, 16.33it/s]\n"
     ]
    },
    {
     "name": "stdout",
     "output_type": "stream",
     "text": [
      "\n",
      "Training Model 3...\n"
     ]
    },
    {
     "name": "stderr",
     "output_type": "stream",
     "text": [
      "[Training]:  72%|███████▏  | 36/50 [00:18<00:07,  1.96it/s]\n"
     ]
    },
    {
     "name": "stdout",
     "output_type": "stream",
     "text": [
      "Early stopping triggered after 10 epochs with no improvement.\n",
      "Train Loss: 0.0060 | Val Loss: 0.1757 | SpearmanR: 0.4854\n"
     ]
    },
    {
     "name": "stderr",
     "output_type": "stream",
     "text": [
      "[Surveying]: 100%|██████████| 23/23 [00:01<00:00, 16.38it/s]\n"
     ]
    },
    {
     "name": "stdout",
     "output_type": "stream",
     "text": [
      "\n",
      "Training Model 4...\n"
     ]
    },
    {
     "name": "stderr",
     "output_type": "stream",
     "text": [
      "[Training]: 100%|██████████| 50/50 [00:24<00:00,  2.02it/s]\n"
     ]
    },
    {
     "name": "stdout",
     "output_type": "stream",
     "text": [
      "Train Loss: 0.0094 | Val Loss: 0.1442 | SpearmanR: 0.6232\n"
     ]
    },
    {
     "name": "stderr",
     "output_type": "stream",
     "text": [
      "[Surveying]: 100%|██████████| 23/23 [00:01<00:00, 16.54it/s]\n"
     ]
    },
    {
     "name": "stdout",
     "output_type": "stream",
     "text": [
      "\n",
      "Training Model 5...\n"
     ]
    },
    {
     "name": "stderr",
     "output_type": "stream",
     "text": [
      "[Training]:  72%|███████▏  | 36/50 [00:17<00:06,  2.00it/s]\n"
     ]
    },
    {
     "name": "stdout",
     "output_type": "stream",
     "text": [
      "Early stopping triggered after 10 epochs with no improvement.\n",
      "Train Loss: 0.0184 | Val Loss: 0.1443 | SpearmanR: 0.6164\n"
     ]
    },
    {
     "name": "stderr",
     "output_type": "stream",
     "text": [
      "[Surveying]: 100%|██████████| 23/23 [00:01<00:00, 16.50it/s]\n"
     ]
    },
    {
     "name": "stdout",
     "output_type": "stream",
     "text": [
      "Ensemble training complete, submitting predictions for next cycle.\n",
      "\n",
      "Cycle 15/16\n",
      "-------------------------------------------------\n",
      "Saving variance distribution to results/03_bootstrap_ensemble/variances15.csv...\n",
      "Save complete.\n",
      "Selecting new data points...\n",
      "\n",
      "Training and evaluating model using 240 actively selected samples...\n"
     ]
    },
    {
     "name": "stderr",
     "output_type": "stream",
     "text": [
      "[Training]:  78%|███████▊  | 39/50 [00:22<00:06,  1.76it/s]\n"
     ]
    },
    {
     "name": "stdout",
     "output_type": "stream",
     "text": [
      "Early stopping triggered after 10 epochs with no improvement.\n",
      "Train Loss: 0.0271 | Val Loss: 0.1265 | SpearmanR: 0.6552\n"
     ]
    },
    {
     "name": "stderr",
     "output_type": "stream",
     "text": [
      "[Testing]: 100%|██████████| 25/25 [00:00<00:00, 128.55it/s]\n"
     ]
    },
    {
     "name": "stdout",
     "output_type": "stream",
     "text": [
      "\n",
      "Training and evaluating model using 240 randomly selected samples...\n"
     ]
    },
    {
     "name": "stderr",
     "output_type": "stream",
     "text": [
      "[Training]:  74%|███████▍  | 37/50 [00:22<00:07,  1.67it/s]\n"
     ]
    },
    {
     "name": "stdout",
     "output_type": "stream",
     "text": [
      "Early stopping triggered after 10 epochs with no improvement.\n",
      "Train Loss: 0.0245 | Val Loss: 0.1008 | SpearmanR: 0.7062\n"
     ]
    },
    {
     "name": "stderr",
     "output_type": "stream",
     "text": [
      "[Testing]: 100%|██████████| 25/25 [00:00<00:00, 129.50it/s]\n"
     ]
    },
    {
     "name": "stdout",
     "output_type": "stream",
     "text": [
      "Progress for experiment 14 appended to results/03_bootstrap_ensemble/active_vs_standard_learning_curve.csv\n",
      "Starting ensemble training and pool evaluation...\n",
      "\n",
      "Training Model 1...\n"
     ]
    },
    {
     "name": "stderr",
     "output_type": "stream",
     "text": [
      "[Training]:  98%|█████████▊| 49/50 [00:24<00:00,  1.97it/s]\n"
     ]
    },
    {
     "name": "stdout",
     "output_type": "stream",
     "text": [
      "Early stopping triggered after 10 epochs with no improvement.\n",
      "Train Loss: 0.0046 | Val Loss: 0.1411 | SpearmanR: 0.5805\n"
     ]
    },
    {
     "name": "stderr",
     "output_type": "stream",
     "text": [
      "[Surveying]: 100%|██████████| 23/23 [00:01<00:00, 16.52it/s]\n"
     ]
    },
    {
     "name": "stdout",
     "output_type": "stream",
     "text": [
      "\n",
      "Training Model 2...\n"
     ]
    },
    {
     "name": "stderr",
     "output_type": "stream",
     "text": [
      "[Training]:  64%|██████▍   | 32/50 [00:18<00:10,  1.78it/s]\n"
     ]
    },
    {
     "name": "stdout",
     "output_type": "stream",
     "text": [
      "Early stopping triggered after 10 epochs with no improvement.\n",
      "Train Loss: 0.0072 | Val Loss: 0.1510 | SpearmanR: 0.5721\n"
     ]
    },
    {
     "name": "stderr",
     "output_type": "stream",
     "text": [
      "[Surveying]: 100%|██████████| 23/23 [00:01<00:00, 16.49it/s]\n"
     ]
    },
    {
     "name": "stdout",
     "output_type": "stream",
     "text": [
      "\n",
      "Training Model 3...\n"
     ]
    },
    {
     "name": "stderr",
     "output_type": "stream",
     "text": [
      "[Training]:  56%|█████▌    | 28/50 [00:14<00:11,  1.91it/s]\n"
     ]
    },
    {
     "name": "stdout",
     "output_type": "stream",
     "text": [
      "Early stopping triggered after 10 epochs with no improvement.\n",
      "Train Loss: 0.0241 | Val Loss: 0.1337 | SpearmanR: 0.6101\n"
     ]
    },
    {
     "name": "stderr",
     "output_type": "stream",
     "text": [
      "[Surveying]: 100%|██████████| 23/23 [00:01<00:00, 16.58it/s]\n"
     ]
    },
    {
     "name": "stdout",
     "output_type": "stream",
     "text": [
      "\n",
      "Training Model 4...\n"
     ]
    },
    {
     "name": "stderr",
     "output_type": "stream",
     "text": [
      "[Training]:  64%|██████▍   | 32/50 [00:16<00:09,  1.91it/s]\n"
     ]
    },
    {
     "name": "stdout",
     "output_type": "stream",
     "text": [
      "Early stopping triggered after 10 epochs with no improvement.\n",
      "Train Loss: 0.0135 | Val Loss: 0.1318 | SpearmanR: 0.6094\n"
     ]
    },
    {
     "name": "stderr",
     "output_type": "stream",
     "text": [
      "[Surveying]: 100%|██████████| 23/23 [00:01<00:00, 16.50it/s]\n"
     ]
    },
    {
     "name": "stdout",
     "output_type": "stream",
     "text": [
      "\n",
      "Training Model 5...\n"
     ]
    },
    {
     "name": "stderr",
     "output_type": "stream",
     "text": [
      "[Training]:  92%|█████████▏| 46/50 [00:24<00:02,  1.91it/s]\n"
     ]
    },
    {
     "name": "stdout",
     "output_type": "stream",
     "text": [
      "Early stopping triggered after 10 epochs with no improvement.\n",
      "Train Loss: 0.0036 | Val Loss: 0.1304 | SpearmanR: 0.6017\n"
     ]
    },
    {
     "name": "stderr",
     "output_type": "stream",
     "text": [
      "[Surveying]: 100%|██████████| 23/23 [00:01<00:00, 16.59it/s]\n"
     ]
    },
    {
     "name": "stdout",
     "output_type": "stream",
     "text": [
      "Ensemble training complete, submitting predictions for next cycle.\n",
      "\n",
      "Cycle 16/16\n",
      "-------------------------------------------------\n",
      "Saving variance distribution to results/03_bootstrap_ensemble/variances16.csv...\n",
      "Save complete.\n",
      "Selecting new data points...\n",
      "\n",
      "Training and evaluating model using 256 actively selected samples...\n"
     ]
    },
    {
     "name": "stderr",
     "output_type": "stream",
     "text": [
      "[Training]:  78%|███████▊  | 39/50 [00:21<00:06,  1.79it/s]\n"
     ]
    },
    {
     "name": "stdout",
     "output_type": "stream",
     "text": [
      "Early stopping triggered after 10 epochs with no improvement.\n",
      "Train Loss: 0.0146 | Val Loss: 0.1051 | SpearmanR: 0.7086\n"
     ]
    },
    {
     "name": "stderr",
     "output_type": "stream",
     "text": [
      "[Testing]: 100%|██████████| 25/25 [00:00<00:00, 129.05it/s]\n"
     ]
    },
    {
     "name": "stdout",
     "output_type": "stream",
     "text": [
      "\n",
      "Training and evaluating model using 256 randomly selected samples...\n"
     ]
    },
    {
     "name": "stderr",
     "output_type": "stream",
     "text": [
      "[Training]:  82%|████████▏ | 41/50 [00:24<00:05,  1.66it/s]\n"
     ]
    },
    {
     "name": "stdout",
     "output_type": "stream",
     "text": [
      "Early stopping triggered after 10 epochs with no improvement.\n",
      "Train Loss: 0.0167 | Val Loss: 0.1126 | SpearmanR: 0.7132\n"
     ]
    },
    {
     "name": "stderr",
     "output_type": "stream",
     "text": [
      "[Testing]: 100%|██████████| 25/25 [00:00<00:00, 130.30it/s]\n"
     ]
    },
    {
     "name": "stdout",
     "output_type": "stream",
     "text": [
      "Progress for experiment 15 appended to results/03_bootstrap_ensemble/active_vs_standard_learning_curve.csv\n",
      "Experiments complete.\n"
     ]
    },
    {
     "data": {
      "text/html": [
       "<div>\n",
       "<style scoped>\n",
       "    .dataframe tbody tr th:only-of-type {\n",
       "        vertical-align: middle;\n",
       "    }\n",
       "\n",
       "    .dataframe tbody tr th {\n",
       "        vertical-align: top;\n",
       "    }\n",
       "\n",
       "    .dataframe thead th {\n",
       "        text-align: right;\n",
       "    }\n",
       "</style>\n",
       "<table border=\"1\" class=\"dataframe\">\n",
       "  <thead>\n",
       "    <tr style=\"text-align: right;\">\n",
       "      <th></th>\n",
       "      <th>changing_var</th>\n",
       "      <th>local_exp_idx</th>\n",
       "      <th>value</th>\n",
       "      <th>training_method</th>\n",
       "      <th>avg_test_loss</th>\n",
       "      <th>spearmanr</th>\n",
       "      <th>pearsonr</th>\n",
       "      <th>final_mse</th>\n",
       "    </tr>\n",
       "  </thead>\n",
       "  <tbody>\n",
       "    <tr>\n",
       "      <th>0</th>\n",
       "      <td>n_samples</td>\n",
       "      <td>0</td>\n",
       "      <td>16</td>\n",
       "      <td>active</td>\n",
       "      <td>0.187841</td>\n",
       "      <td>0.356249</td>\n",
       "      <td>0.360150</td>\n",
       "      <td>0.188244</td>\n",
       "    </tr>\n",
       "    <tr>\n",
       "      <th>1</th>\n",
       "      <td>n_samples</td>\n",
       "      <td>0</td>\n",
       "      <td>16</td>\n",
       "      <td>standard</td>\n",
       "      <td>0.223101</td>\n",
       "      <td>0.200714</td>\n",
       "      <td>0.213891</td>\n",
       "      <td>0.224081</td>\n",
       "    </tr>\n",
       "    <tr>\n",
       "      <th>2</th>\n",
       "      <td>n_samples</td>\n",
       "      <td>0</td>\n",
       "      <td>16</td>\n",
       "      <td>active</td>\n",
       "      <td>0.194776</td>\n",
       "      <td>0.384558</td>\n",
       "      <td>0.423288</td>\n",
       "      <td>0.195900</td>\n",
       "    </tr>\n",
       "    <tr>\n",
       "      <th>3</th>\n",
       "      <td>n_samples</td>\n",
       "      <td>0</td>\n",
       "      <td>16</td>\n",
       "      <td>standard</td>\n",
       "      <td>0.216796</td>\n",
       "      <td>0.210195</td>\n",
       "      <td>0.281253</td>\n",
       "      <td>0.217824</td>\n",
       "    </tr>\n",
       "    <tr>\n",
       "      <th>4</th>\n",
       "      <td>n_samples</td>\n",
       "      <td>0</td>\n",
       "      <td>16</td>\n",
       "      <td>active</td>\n",
       "      <td>0.213148</td>\n",
       "      <td>0.225369</td>\n",
       "      <td>0.230617</td>\n",
       "      <td>0.213714</td>\n",
       "    </tr>\n",
       "    <tr>\n",
       "      <th>5</th>\n",
       "      <td>n_samples</td>\n",
       "      <td>0</td>\n",
       "      <td>16</td>\n",
       "      <td>standard</td>\n",
       "      <td>0.224002</td>\n",
       "      <td>0.310611</td>\n",
       "      <td>0.286941</td>\n",
       "      <td>0.223918</td>\n",
       "    </tr>\n",
       "    <tr>\n",
       "      <th>6</th>\n",
       "      <td>n_samples</td>\n",
       "      <td>0</td>\n",
       "      <td>16</td>\n",
       "      <td>active</td>\n",
       "      <td>0.211229</td>\n",
       "      <td>0.386833</td>\n",
       "      <td>0.378709</td>\n",
       "      <td>0.211804</td>\n",
       "    </tr>\n",
       "    <tr>\n",
       "      <th>7</th>\n",
       "      <td>n_samples</td>\n",
       "      <td>0</td>\n",
       "      <td>16</td>\n",
       "      <td>standard</td>\n",
       "      <td>0.203456</td>\n",
       "      <td>0.119613</td>\n",
       "      <td>0.136839</td>\n",
       "      <td>0.203401</td>\n",
       "    </tr>\n",
       "    <tr>\n",
       "      <th>8</th>\n",
       "      <td>n_samples</td>\n",
       "      <td>0</td>\n",
       "      <td>16</td>\n",
       "      <td>active</td>\n",
       "      <td>0.244507</td>\n",
       "      <td>0.272153</td>\n",
       "      <td>0.262033</td>\n",
       "      <td>0.244376</td>\n",
       "    </tr>\n",
       "    <tr>\n",
       "      <th>9</th>\n",
       "      <td>n_samples</td>\n",
       "      <td>0</td>\n",
       "      <td>16</td>\n",
       "      <td>standard</td>\n",
       "      <td>0.196090</td>\n",
       "      <td>-0.043903</td>\n",
       "      <td>-0.059994</td>\n",
       "      <td>0.196097</td>\n",
       "    </tr>\n",
       "    <tr>\n",
       "      <th>10</th>\n",
       "      <td>n_samples</td>\n",
       "      <td>0</td>\n",
       "      <td>16</td>\n",
       "      <td>active</td>\n",
       "      <td>0.197894</td>\n",
       "      <td>0.382034</td>\n",
       "      <td>0.373106</td>\n",
       "      <td>0.198538</td>\n",
       "    </tr>\n",
       "    <tr>\n",
       "      <th>11</th>\n",
       "      <td>n_samples</td>\n",
       "      <td>0</td>\n",
       "      <td>16</td>\n",
       "      <td>standard</td>\n",
       "      <td>0.320916</td>\n",
       "      <td>0.270746</td>\n",
       "      <td>0.294286</td>\n",
       "      <td>0.320806</td>\n",
       "    </tr>\n",
       "    <tr>\n",
       "      <th>12</th>\n",
       "      <td>n_samples</td>\n",
       "      <td>1</td>\n",
       "      <td>32</td>\n",
       "      <td>active</td>\n",
       "      <td>0.184044</td>\n",
       "      <td>0.545784</td>\n",
       "      <td>0.502709</td>\n",
       "      <td>0.184418</td>\n",
       "    </tr>\n",
       "    <tr>\n",
       "      <th>13</th>\n",
       "      <td>n_samples</td>\n",
       "      <td>1</td>\n",
       "      <td>32</td>\n",
       "      <td>standard</td>\n",
       "      <td>0.173450</td>\n",
       "      <td>0.416550</td>\n",
       "      <td>0.422225</td>\n",
       "      <td>0.173986</td>\n",
       "    </tr>\n",
       "    <tr>\n",
       "      <th>14</th>\n",
       "      <td>n_samples</td>\n",
       "      <td>2</td>\n",
       "      <td>48</td>\n",
       "      <td>active</td>\n",
       "      <td>0.236712</td>\n",
       "      <td>0.378425</td>\n",
       "      <td>0.410424</td>\n",
       "      <td>0.237579</td>\n",
       "    </tr>\n",
       "    <tr>\n",
       "      <th>15</th>\n",
       "      <td>n_samples</td>\n",
       "      <td>2</td>\n",
       "      <td>48</td>\n",
       "      <td>standard</td>\n",
       "      <td>0.147835</td>\n",
       "      <td>0.541666</td>\n",
       "      <td>0.551596</td>\n",
       "      <td>0.147991</td>\n",
       "    </tr>\n",
       "    <tr>\n",
       "      <th>16</th>\n",
       "      <td>n_samples</td>\n",
       "      <td>3</td>\n",
       "      <td>64</td>\n",
       "      <td>active</td>\n",
       "      <td>0.260937</td>\n",
       "      <td>0.363970</td>\n",
       "      <td>0.343517</td>\n",
       "      <td>0.261415</td>\n",
       "    </tr>\n",
       "    <tr>\n",
       "      <th>17</th>\n",
       "      <td>n_samples</td>\n",
       "      <td>3</td>\n",
       "      <td>64</td>\n",
       "      <td>standard</td>\n",
       "      <td>0.146173</td>\n",
       "      <td>0.482138</td>\n",
       "      <td>0.516209</td>\n",
       "      <td>0.146572</td>\n",
       "    </tr>\n",
       "    <tr>\n",
       "      <th>18</th>\n",
       "      <td>n_samples</td>\n",
       "      <td>4</td>\n",
       "      <td>80</td>\n",
       "      <td>active</td>\n",
       "      <td>0.204108</td>\n",
       "      <td>0.423447</td>\n",
       "      <td>0.466489</td>\n",
       "      <td>0.204016</td>\n",
       "    </tr>\n",
       "    <tr>\n",
       "      <th>19</th>\n",
       "      <td>n_samples</td>\n",
       "      <td>4</td>\n",
       "      <td>80</td>\n",
       "      <td>standard</td>\n",
       "      <td>0.130412</td>\n",
       "      <td>0.616835</td>\n",
       "      <td>0.610673</td>\n",
       "      <td>0.130954</td>\n",
       "    </tr>\n",
       "    <tr>\n",
       "      <th>20</th>\n",
       "      <td>n_samples</td>\n",
       "      <td>5</td>\n",
       "      <td>96</td>\n",
       "      <td>active</td>\n",
       "      <td>0.172578</td>\n",
       "      <td>0.476105</td>\n",
       "      <td>0.507012</td>\n",
       "      <td>0.173078</td>\n",
       "    </tr>\n",
       "    <tr>\n",
       "      <th>21</th>\n",
       "      <td>n_samples</td>\n",
       "      <td>5</td>\n",
       "      <td>96</td>\n",
       "      <td>standard</td>\n",
       "      <td>0.179328</td>\n",
       "      <td>0.521979</td>\n",
       "      <td>0.532893</td>\n",
       "      <td>0.179763</td>\n",
       "    </tr>\n",
       "    <tr>\n",
       "      <th>22</th>\n",
       "      <td>n_samples</td>\n",
       "      <td>6</td>\n",
       "      <td>112</td>\n",
       "      <td>active</td>\n",
       "      <td>0.252957</td>\n",
       "      <td>0.579975</td>\n",
       "      <td>0.597380</td>\n",
       "      <td>0.253168</td>\n",
       "    </tr>\n",
       "    <tr>\n",
       "      <th>23</th>\n",
       "      <td>n_samples</td>\n",
       "      <td>6</td>\n",
       "      <td>112</td>\n",
       "      <td>standard</td>\n",
       "      <td>0.154676</td>\n",
       "      <td>0.581731</td>\n",
       "      <td>0.598187</td>\n",
       "      <td>0.154950</td>\n",
       "    </tr>\n",
       "    <tr>\n",
       "      <th>24</th>\n",
       "      <td>n_samples</td>\n",
       "      <td>7</td>\n",
       "      <td>128</td>\n",
       "      <td>active</td>\n",
       "      <td>0.141879</td>\n",
       "      <td>0.635411</td>\n",
       "      <td>0.626031</td>\n",
       "      <td>0.142102</td>\n",
       "    </tr>\n",
       "    <tr>\n",
       "      <th>25</th>\n",
       "      <td>n_samples</td>\n",
       "      <td>7</td>\n",
       "      <td>128</td>\n",
       "      <td>standard</td>\n",
       "      <td>0.127425</td>\n",
       "      <td>0.606358</td>\n",
       "      <td>0.622882</td>\n",
       "      <td>0.127989</td>\n",
       "    </tr>\n",
       "    <tr>\n",
       "      <th>26</th>\n",
       "      <td>n_samples</td>\n",
       "      <td>8</td>\n",
       "      <td>144</td>\n",
       "      <td>active</td>\n",
       "      <td>0.206874</td>\n",
       "      <td>0.605976</td>\n",
       "      <td>0.601703</td>\n",
       "      <td>0.207152</td>\n",
       "    </tr>\n",
       "    <tr>\n",
       "      <th>27</th>\n",
       "      <td>n_samples</td>\n",
       "      <td>8</td>\n",
       "      <td>144</td>\n",
       "      <td>standard</td>\n",
       "      <td>0.117618</td>\n",
       "      <td>0.659007</td>\n",
       "      <td>0.659735</td>\n",
       "      <td>0.117585</td>\n",
       "    </tr>\n",
       "    <tr>\n",
       "      <th>28</th>\n",
       "      <td>n_samples</td>\n",
       "      <td>9</td>\n",
       "      <td>160</td>\n",
       "      <td>active</td>\n",
       "      <td>0.237975</td>\n",
       "      <td>0.570073</td>\n",
       "      <td>0.570218</td>\n",
       "      <td>0.238181</td>\n",
       "    </tr>\n",
       "    <tr>\n",
       "      <th>29</th>\n",
       "      <td>n_samples</td>\n",
       "      <td>9</td>\n",
       "      <td>160</td>\n",
       "      <td>standard</td>\n",
       "      <td>0.132397</td>\n",
       "      <td>0.609606</td>\n",
       "      <td>0.625721</td>\n",
       "      <td>0.132625</td>\n",
       "    </tr>\n",
       "    <tr>\n",
       "      <th>30</th>\n",
       "      <td>n_samples</td>\n",
       "      <td>10</td>\n",
       "      <td>176</td>\n",
       "      <td>active</td>\n",
       "      <td>0.130692</td>\n",
       "      <td>0.618939</td>\n",
       "      <td>0.638773</td>\n",
       "      <td>0.130784</td>\n",
       "    </tr>\n",
       "    <tr>\n",
       "      <th>31</th>\n",
       "      <td>n_samples</td>\n",
       "      <td>10</td>\n",
       "      <td>176</td>\n",
       "      <td>standard</td>\n",
       "      <td>0.127788</td>\n",
       "      <td>0.659016</td>\n",
       "      <td>0.662568</td>\n",
       "      <td>0.127990</td>\n",
       "    </tr>\n",
       "    <tr>\n",
       "      <th>32</th>\n",
       "      <td>n_samples</td>\n",
       "      <td>11</td>\n",
       "      <td>192</td>\n",
       "      <td>active</td>\n",
       "      <td>0.134486</td>\n",
       "      <td>0.611556</td>\n",
       "      <td>0.629946</td>\n",
       "      <td>0.134889</td>\n",
       "    </tr>\n",
       "    <tr>\n",
       "      <th>33</th>\n",
       "      <td>n_samples</td>\n",
       "      <td>11</td>\n",
       "      <td>192</td>\n",
       "      <td>standard</td>\n",
       "      <td>0.109697</td>\n",
       "      <td>0.703659</td>\n",
       "      <td>0.701847</td>\n",
       "      <td>0.109989</td>\n",
       "    </tr>\n",
       "    <tr>\n",
       "      <th>34</th>\n",
       "      <td>n_samples</td>\n",
       "      <td>12</td>\n",
       "      <td>208</td>\n",
       "      <td>active</td>\n",
       "      <td>0.152285</td>\n",
       "      <td>0.664655</td>\n",
       "      <td>0.679592</td>\n",
       "      <td>0.152925</td>\n",
       "    </tr>\n",
       "    <tr>\n",
       "      <th>35</th>\n",
       "      <td>n_samples</td>\n",
       "      <td>12</td>\n",
       "      <td>208</td>\n",
       "      <td>standard</td>\n",
       "      <td>0.105300</td>\n",
       "      <td>0.693496</td>\n",
       "      <td>0.699287</td>\n",
       "      <td>0.105535</td>\n",
       "    </tr>\n",
       "    <tr>\n",
       "      <th>36</th>\n",
       "      <td>n_samples</td>\n",
       "      <td>13</td>\n",
       "      <td>224</td>\n",
       "      <td>active</td>\n",
       "      <td>0.106700</td>\n",
       "      <td>0.665792</td>\n",
       "      <td>0.675090</td>\n",
       "      <td>0.107076</td>\n",
       "    </tr>\n",
       "    <tr>\n",
       "      <th>37</th>\n",
       "      <td>n_samples</td>\n",
       "      <td>13</td>\n",
       "      <td>224</td>\n",
       "      <td>standard</td>\n",
       "      <td>0.111344</td>\n",
       "      <td>0.694144</td>\n",
       "      <td>0.707118</td>\n",
       "      <td>0.111716</td>\n",
       "    </tr>\n",
       "    <tr>\n",
       "      <th>38</th>\n",
       "      <td>n_samples</td>\n",
       "      <td>14</td>\n",
       "      <td>240</td>\n",
       "      <td>active</td>\n",
       "      <td>0.116402</td>\n",
       "      <td>0.676759</td>\n",
       "      <td>0.687093</td>\n",
       "      <td>0.116761</td>\n",
       "    </tr>\n",
       "    <tr>\n",
       "      <th>39</th>\n",
       "      <td>n_samples</td>\n",
       "      <td>14</td>\n",
       "      <td>240</td>\n",
       "      <td>standard</td>\n",
       "      <td>0.097399</td>\n",
       "      <td>0.706644</td>\n",
       "      <td>0.718102</td>\n",
       "      <td>0.097548</td>\n",
       "    </tr>\n",
       "    <tr>\n",
       "      <th>40</th>\n",
       "      <td>n_samples</td>\n",
       "      <td>15</td>\n",
       "      <td>256</td>\n",
       "      <td>active</td>\n",
       "      <td>0.103096</td>\n",
       "      <td>0.701961</td>\n",
       "      <td>0.704069</td>\n",
       "      <td>0.103087</td>\n",
       "    </tr>\n",
       "    <tr>\n",
       "      <th>41</th>\n",
       "      <td>n_samples</td>\n",
       "      <td>15</td>\n",
       "      <td>256</td>\n",
       "      <td>standard</td>\n",
       "      <td>0.096188</td>\n",
       "      <td>0.711830</td>\n",
       "      <td>0.717401</td>\n",
       "      <td>0.096361</td>\n",
       "    </tr>\n",
       "  </tbody>\n",
       "</table>\n",
       "</div>"
      ],
      "text/plain": [
       "   changing_var  local_exp_idx  value training_method  avg_test_loss  \\\n",
       "0     n_samples              0     16          active       0.187841   \n",
       "1     n_samples              0     16        standard       0.223101   \n",
       "2     n_samples              0     16          active       0.194776   \n",
       "3     n_samples              0     16        standard       0.216796   \n",
       "4     n_samples              0     16          active       0.213148   \n",
       "5     n_samples              0     16        standard       0.224002   \n",
       "6     n_samples              0     16          active       0.211229   \n",
       "7     n_samples              0     16        standard       0.203456   \n",
       "8     n_samples              0     16          active       0.244507   \n",
       "9     n_samples              0     16        standard       0.196090   \n",
       "10    n_samples              0     16          active       0.197894   \n",
       "11    n_samples              0     16        standard       0.320916   \n",
       "12    n_samples              1     32          active       0.184044   \n",
       "13    n_samples              1     32        standard       0.173450   \n",
       "14    n_samples              2     48          active       0.236712   \n",
       "15    n_samples              2     48        standard       0.147835   \n",
       "16    n_samples              3     64          active       0.260937   \n",
       "17    n_samples              3     64        standard       0.146173   \n",
       "18    n_samples              4     80          active       0.204108   \n",
       "19    n_samples              4     80        standard       0.130412   \n",
       "20    n_samples              5     96          active       0.172578   \n",
       "21    n_samples              5     96        standard       0.179328   \n",
       "22    n_samples              6    112          active       0.252957   \n",
       "23    n_samples              6    112        standard       0.154676   \n",
       "24    n_samples              7    128          active       0.141879   \n",
       "25    n_samples              7    128        standard       0.127425   \n",
       "26    n_samples              8    144          active       0.206874   \n",
       "27    n_samples              8    144        standard       0.117618   \n",
       "28    n_samples              9    160          active       0.237975   \n",
       "29    n_samples              9    160        standard       0.132397   \n",
       "30    n_samples             10    176          active       0.130692   \n",
       "31    n_samples             10    176        standard       0.127788   \n",
       "32    n_samples             11    192          active       0.134486   \n",
       "33    n_samples             11    192        standard       0.109697   \n",
       "34    n_samples             12    208          active       0.152285   \n",
       "35    n_samples             12    208        standard       0.105300   \n",
       "36    n_samples             13    224          active       0.106700   \n",
       "37    n_samples             13    224        standard       0.111344   \n",
       "38    n_samples             14    240          active       0.116402   \n",
       "39    n_samples             14    240        standard       0.097399   \n",
       "40    n_samples             15    256          active       0.103096   \n",
       "41    n_samples             15    256        standard       0.096188   \n",
       "\n",
       "    spearmanr  pearsonr  final_mse  \n",
       "0    0.356249  0.360150   0.188244  \n",
       "1    0.200714  0.213891   0.224081  \n",
       "2    0.384558  0.423288   0.195900  \n",
       "3    0.210195  0.281253   0.217824  \n",
       "4    0.225369  0.230617   0.213714  \n",
       "5    0.310611  0.286941   0.223918  \n",
       "6    0.386833  0.378709   0.211804  \n",
       "7    0.119613  0.136839   0.203401  \n",
       "8    0.272153  0.262033   0.244376  \n",
       "9   -0.043903 -0.059994   0.196097  \n",
       "10   0.382034  0.373106   0.198538  \n",
       "11   0.270746  0.294286   0.320806  \n",
       "12   0.545784  0.502709   0.184418  \n",
       "13   0.416550  0.422225   0.173986  \n",
       "14   0.378425  0.410424   0.237579  \n",
       "15   0.541666  0.551596   0.147991  \n",
       "16   0.363970  0.343517   0.261415  \n",
       "17   0.482138  0.516209   0.146572  \n",
       "18   0.423447  0.466489   0.204016  \n",
       "19   0.616835  0.610673   0.130954  \n",
       "20   0.476105  0.507012   0.173078  \n",
       "21   0.521979  0.532893   0.179763  \n",
       "22   0.579975  0.597380   0.253168  \n",
       "23   0.581731  0.598187   0.154950  \n",
       "24   0.635411  0.626031   0.142102  \n",
       "25   0.606358  0.622882   0.127989  \n",
       "26   0.605976  0.601703   0.207152  \n",
       "27   0.659007  0.659735   0.117585  \n",
       "28   0.570073  0.570218   0.238181  \n",
       "29   0.609606  0.625721   0.132625  \n",
       "30   0.618939  0.638773   0.130784  \n",
       "31   0.659016  0.662568   0.127990  \n",
       "32   0.611556  0.629946   0.134889  \n",
       "33   0.703659  0.701847   0.109989  \n",
       "34   0.664655  0.679592   0.152925  \n",
       "35   0.693496  0.699287   0.105535  \n",
       "36   0.665792  0.675090   0.107076  \n",
       "37   0.694144  0.707118   0.111716  \n",
       "38   0.676759  0.687093   0.116761  \n",
       "39   0.706644  0.718102   0.097548  \n",
       "40   0.701961  0.704069   0.103087  \n",
       "41   0.711830  0.717401   0.096361  "
      ]
     },
     "execution_count": 4,
     "metadata": {},
     "output_type": "execute_result"
    }
   ],
   "source": [
    "from scripts.config import (\n",
    "    MODEL_NAME,\n",
    "    APPROACH,\n",
    "    LEARNING_RATE,\n",
    "    WEIGHT_DECAY,\n",
    "    EPOCHS,\n",
    "    POOL_BATCH_SIZE,\n",
    "    PATIENCE,\n",
    "    N_MODELS,\n",
    ")\n",
    "\n",
    "get_learning_curves(\n",
    "    n_samples=256,\n",
    "    initial_n_samples=16,\n",
    "    n_samples_per_batch=16,\n",
    "    model_name=MODEL_NAME,\n",
    "    approach=APPROACH,\n",
    "    learning_rate=LEARNING_RATE,\n",
    "    weight_decay=WEIGHT_DECAY,\n",
    "    epochs=EPOCHS,\n",
    "    training_pool=training_pool,\n",
    "    train_dataloader_batch_size=BATCH_SIZE,\n",
    "    pool_dataloader_batch_size=POOL_BATCH_SIZE,\n",
    "    val_dataloader=val_dataloader,\n",
    "    test_dataloader=test_dataloader,\n",
    "    patience=PATIENCE,\n",
    "    n_models=N_MODELS,\n",
    "    results_path='results/03_bootstrap_ensemble/active_vs_standard_learning_curve.csv'\n",
    ")"
   ]
  },
  {
   "cell_type": "code",
   "execution_count": 5,
   "id": "7a83742d",
   "metadata": {},
   "outputs": [
    {
     "data": {
      "text/html": [
       "<div>\n",
       "<style scoped>\n",
       "    .dataframe tbody tr th:only-of-type {\n",
       "        vertical-align: middle;\n",
       "    }\n",
       "\n",
       "    .dataframe tbody tr th {\n",
       "        vertical-align: top;\n",
       "    }\n",
       "\n",
       "    .dataframe thead th {\n",
       "        text-align: right;\n",
       "    }\n",
       "</style>\n",
       "<table border=\"1\" class=\"dataframe\">\n",
       "  <thead>\n",
       "    <tr style=\"text-align: right;\">\n",
       "      <th></th>\n",
       "      <th>changing_var</th>\n",
       "      <th>local_exp_idx</th>\n",
       "      <th>value</th>\n",
       "      <th>training_method</th>\n",
       "      <th>avg_test_loss</th>\n",
       "      <th>spearmanr</th>\n",
       "      <th>pearsonr</th>\n",
       "      <th>final_mse</th>\n",
       "    </tr>\n",
       "  </thead>\n",
       "  <tbody>\n",
       "    <tr>\n",
       "      <th>0</th>\n",
       "      <td>n_samples</td>\n",
       "      <td>0</td>\n",
       "      <td>16</td>\n",
       "      <td>active</td>\n",
       "      <td>0.197894</td>\n",
       "      <td>0.382034</td>\n",
       "      <td>0.373106</td>\n",
       "      <td>0.198538</td>\n",
       "    </tr>\n",
       "    <tr>\n",
       "      <th>1</th>\n",
       "      <td>n_samples</td>\n",
       "      <td>0</td>\n",
       "      <td>16</td>\n",
       "      <td>standard</td>\n",
       "      <td>0.320916</td>\n",
       "      <td>0.270746</td>\n",
       "      <td>0.294286</td>\n",
       "      <td>0.320806</td>\n",
       "    </tr>\n",
       "    <tr>\n",
       "      <th>2</th>\n",
       "      <td>n_samples</td>\n",
       "      <td>1</td>\n",
       "      <td>32</td>\n",
       "      <td>active</td>\n",
       "      <td>0.184044</td>\n",
       "      <td>0.545784</td>\n",
       "      <td>0.502709</td>\n",
       "      <td>0.184418</td>\n",
       "    </tr>\n",
       "    <tr>\n",
       "      <th>3</th>\n",
       "      <td>n_samples</td>\n",
       "      <td>1</td>\n",
       "      <td>32</td>\n",
       "      <td>standard</td>\n",
       "      <td>0.173450</td>\n",
       "      <td>0.416550</td>\n",
       "      <td>0.422225</td>\n",
       "      <td>0.173986</td>\n",
       "    </tr>\n",
       "    <tr>\n",
       "      <th>4</th>\n",
       "      <td>n_samples</td>\n",
       "      <td>2</td>\n",
       "      <td>48</td>\n",
       "      <td>active</td>\n",
       "      <td>0.236712</td>\n",
       "      <td>0.378425</td>\n",
       "      <td>0.410424</td>\n",
       "      <td>0.237579</td>\n",
       "    </tr>\n",
       "  </tbody>\n",
       "</table>\n",
       "</div>"
      ],
      "text/plain": [
       "  changing_var  local_exp_idx  value training_method  avg_test_loss  \\\n",
       "0    n_samples              0     16          active       0.197894   \n",
       "1    n_samples              0     16        standard       0.320916   \n",
       "2    n_samples              1     32          active       0.184044   \n",
       "3    n_samples              1     32        standard       0.173450   \n",
       "4    n_samples              2     48          active       0.236712   \n",
       "\n",
       "   spearmanr  pearsonr  final_mse  \n",
       "0   0.382034  0.373106   0.198538  \n",
       "1   0.270746  0.294286   0.320806  \n",
       "2   0.545784  0.502709   0.184418  \n",
       "3   0.416550  0.422225   0.173986  \n",
       "4   0.378425  0.410424   0.237579  "
      ]
     },
     "execution_count": 5,
     "metadata": {},
     "output_type": "execute_result"
    }
   ],
   "source": [
    "import pandas as pd\n",
    "\n",
    "lc_df = pd.read_csv(\"results/03_bootstrap_ensemble/active_vs_standard_learning_curve.csv\")\n",
    "lc_df.head()"
   ]
  },
  {
   "cell_type": "code",
   "execution_count": 6,
   "id": "62a5af2f",
   "metadata": {},
   "outputs": [
    {
     "data": {
      "application/vnd.plotly.v1+json": {
       "config": {
        "plotlyServerURL": "https://plot.ly"
       },
       "data": [
        {
         "hovertemplate": "training_method=active<br>value=%{x}<br>spearmanr=%{y}<extra></extra>",
         "legendgroup": "active",
         "line": {
          "color": "#636efa",
          "dash": "solid"
         },
         "marker": {
          "symbol": "circle"
         },
         "mode": "lines",
         "name": "active",
         "orientation": "v",
         "showlegend": true,
         "type": "scatter",
         "x": {
          "bdata": "EAAgADAAQABQAGAAcACAAJAAoACwAMAA0ADgAPAAAAE=",
          "dtype": "i2"
         },
         "xaxis": "x",
         "y": {
          "bdata": "AAAAwDxz2D8AAADAD3fhP/////8dONg/AAAAQEdL1z8AAABAwhnbPwAAAECBeN4/AAAAwCaP4j8AAADgSVXkPwAAAEAoZOM/AAAAQAk+4j8AAABgWM7jPwAAAIDdkeM/AAAAgNtE5T8AAABAK07lPwAAAMABqOU/AAAA4HV25j8=",
          "dtype": "f8"
         },
         "yaxis": "y"
        },
        {
         "hovertemplate": "training_method=standard<br>value=%{x}<br>spearmanr=%{y}<extra></extra>",
         "legendgroup": "standard",
         "line": {
          "color": "#EF553B",
          "dash": "solid"
         },
         "marker": {
          "symbol": "circle"
         },
         "mode": "lines",
         "name": "standard",
         "orientation": "v",
         "showlegend": true,
         "type": "scatter",
         "x": {
          "bdata": "EAAgADAAQABQAGAAcACAAJAAoACwAMAA0ADgAPAAAAE=",
          "dtype": "i2"
         },
         "xaxis": "x",
         "y": {
          "bdata": "AAAAwOdT0T////+/wqjaPwAAAEBUVeE/AAAAYFrb3j8AAABAHb3jPwAAAAANtOA/AAAAAIud4j8AAADASWfjPwAAAICVFuU/AAAAQOWB4z8AAAAgqRblPwAAAGBfhOY/AAAAAB4x5j8AAAAgbTbmPwAAAADTnOY/AAAAgE/H5j8=",
          "dtype": "f8"
         },
         "yaxis": "y"
        }
       ],
       "layout": {
        "legend": {
         "title": {
          "text": "training_method"
         },
         "tracegroupgap": 0
        },
        "margin": {
         "t": 60
        },
        "template": {
         "data": {
          "bar": [
           {
            "error_x": {
             "color": "#2a3f5f"
            },
            "error_y": {
             "color": "#2a3f5f"
            },
            "marker": {
             "line": {
              "color": "#E5ECF6",
              "width": 0.5
             },
             "pattern": {
              "fillmode": "overlay",
              "size": 10,
              "solidity": 0.2
             }
            },
            "type": "bar"
           }
          ],
          "barpolar": [
           {
            "marker": {
             "line": {
              "color": "#E5ECF6",
              "width": 0.5
             },
             "pattern": {
              "fillmode": "overlay",
              "size": 10,
              "solidity": 0.2
             }
            },
            "type": "barpolar"
           }
          ],
          "carpet": [
           {
            "aaxis": {
             "endlinecolor": "#2a3f5f",
             "gridcolor": "white",
             "linecolor": "white",
             "minorgridcolor": "white",
             "startlinecolor": "#2a3f5f"
            },
            "baxis": {
             "endlinecolor": "#2a3f5f",
             "gridcolor": "white",
             "linecolor": "white",
             "minorgridcolor": "white",
             "startlinecolor": "#2a3f5f"
            },
            "type": "carpet"
           }
          ],
          "choropleth": [
           {
            "colorbar": {
             "outlinewidth": 0,
             "ticks": ""
            },
            "type": "choropleth"
           }
          ],
          "contour": [
           {
            "colorbar": {
             "outlinewidth": 0,
             "ticks": ""
            },
            "colorscale": [
             [
              0,
              "#0d0887"
             ],
             [
              0.1111111111111111,
              "#46039f"
             ],
             [
              0.2222222222222222,
              "#7201a8"
             ],
             [
              0.3333333333333333,
              "#9c179e"
             ],
             [
              0.4444444444444444,
              "#bd3786"
             ],
             [
              0.5555555555555556,
              "#d8576b"
             ],
             [
              0.6666666666666666,
              "#ed7953"
             ],
             [
              0.7777777777777778,
              "#fb9f3a"
             ],
             [
              0.8888888888888888,
              "#fdca26"
             ],
             [
              1,
              "#f0f921"
             ]
            ],
            "type": "contour"
           }
          ],
          "contourcarpet": [
           {
            "colorbar": {
             "outlinewidth": 0,
             "ticks": ""
            },
            "type": "contourcarpet"
           }
          ],
          "heatmap": [
           {
            "colorbar": {
             "outlinewidth": 0,
             "ticks": ""
            },
            "colorscale": [
             [
              0,
              "#0d0887"
             ],
             [
              0.1111111111111111,
              "#46039f"
             ],
             [
              0.2222222222222222,
              "#7201a8"
             ],
             [
              0.3333333333333333,
              "#9c179e"
             ],
             [
              0.4444444444444444,
              "#bd3786"
             ],
             [
              0.5555555555555556,
              "#d8576b"
             ],
             [
              0.6666666666666666,
              "#ed7953"
             ],
             [
              0.7777777777777778,
              "#fb9f3a"
             ],
             [
              0.8888888888888888,
              "#fdca26"
             ],
             [
              1,
              "#f0f921"
             ]
            ],
            "type": "heatmap"
           }
          ],
          "histogram": [
           {
            "marker": {
             "pattern": {
              "fillmode": "overlay",
              "size": 10,
              "solidity": 0.2
             }
            },
            "type": "histogram"
           }
          ],
          "histogram2d": [
           {
            "colorbar": {
             "outlinewidth": 0,
             "ticks": ""
            },
            "colorscale": [
             [
              0,
              "#0d0887"
             ],
             [
              0.1111111111111111,
              "#46039f"
             ],
             [
              0.2222222222222222,
              "#7201a8"
             ],
             [
              0.3333333333333333,
              "#9c179e"
             ],
             [
              0.4444444444444444,
              "#bd3786"
             ],
             [
              0.5555555555555556,
              "#d8576b"
             ],
             [
              0.6666666666666666,
              "#ed7953"
             ],
             [
              0.7777777777777778,
              "#fb9f3a"
             ],
             [
              0.8888888888888888,
              "#fdca26"
             ],
             [
              1,
              "#f0f921"
             ]
            ],
            "type": "histogram2d"
           }
          ],
          "histogram2dcontour": [
           {
            "colorbar": {
             "outlinewidth": 0,
             "ticks": ""
            },
            "colorscale": [
             [
              0,
              "#0d0887"
             ],
             [
              0.1111111111111111,
              "#46039f"
             ],
             [
              0.2222222222222222,
              "#7201a8"
             ],
             [
              0.3333333333333333,
              "#9c179e"
             ],
             [
              0.4444444444444444,
              "#bd3786"
             ],
             [
              0.5555555555555556,
              "#d8576b"
             ],
             [
              0.6666666666666666,
              "#ed7953"
             ],
             [
              0.7777777777777778,
              "#fb9f3a"
             ],
             [
              0.8888888888888888,
              "#fdca26"
             ],
             [
              1,
              "#f0f921"
             ]
            ],
            "type": "histogram2dcontour"
           }
          ],
          "mesh3d": [
           {
            "colorbar": {
             "outlinewidth": 0,
             "ticks": ""
            },
            "type": "mesh3d"
           }
          ],
          "parcoords": [
           {
            "line": {
             "colorbar": {
              "outlinewidth": 0,
              "ticks": ""
             }
            },
            "type": "parcoords"
           }
          ],
          "pie": [
           {
            "automargin": true,
            "type": "pie"
           }
          ],
          "scatter": [
           {
            "fillpattern": {
             "fillmode": "overlay",
             "size": 10,
             "solidity": 0.2
            },
            "type": "scatter"
           }
          ],
          "scatter3d": [
           {
            "line": {
             "colorbar": {
              "outlinewidth": 0,
              "ticks": ""
             }
            },
            "marker": {
             "colorbar": {
              "outlinewidth": 0,
              "ticks": ""
             }
            },
            "type": "scatter3d"
           }
          ],
          "scattercarpet": [
           {
            "marker": {
             "colorbar": {
              "outlinewidth": 0,
              "ticks": ""
             }
            },
            "type": "scattercarpet"
           }
          ],
          "scattergeo": [
           {
            "marker": {
             "colorbar": {
              "outlinewidth": 0,
              "ticks": ""
             }
            },
            "type": "scattergeo"
           }
          ],
          "scattergl": [
           {
            "marker": {
             "colorbar": {
              "outlinewidth": 0,
              "ticks": ""
             }
            },
            "type": "scattergl"
           }
          ],
          "scattermap": [
           {
            "marker": {
             "colorbar": {
              "outlinewidth": 0,
              "ticks": ""
             }
            },
            "type": "scattermap"
           }
          ],
          "scattermapbox": [
           {
            "marker": {
             "colorbar": {
              "outlinewidth": 0,
              "ticks": ""
             }
            },
            "type": "scattermapbox"
           }
          ],
          "scatterpolar": [
           {
            "marker": {
             "colorbar": {
              "outlinewidth": 0,
              "ticks": ""
             }
            },
            "type": "scatterpolar"
           }
          ],
          "scatterpolargl": [
           {
            "marker": {
             "colorbar": {
              "outlinewidth": 0,
              "ticks": ""
             }
            },
            "type": "scatterpolargl"
           }
          ],
          "scatterternary": [
           {
            "marker": {
             "colorbar": {
              "outlinewidth": 0,
              "ticks": ""
             }
            },
            "type": "scatterternary"
           }
          ],
          "surface": [
           {
            "colorbar": {
             "outlinewidth": 0,
             "ticks": ""
            },
            "colorscale": [
             [
              0,
              "#0d0887"
             ],
             [
              0.1111111111111111,
              "#46039f"
             ],
             [
              0.2222222222222222,
              "#7201a8"
             ],
             [
              0.3333333333333333,
              "#9c179e"
             ],
             [
              0.4444444444444444,
              "#bd3786"
             ],
             [
              0.5555555555555556,
              "#d8576b"
             ],
             [
              0.6666666666666666,
              "#ed7953"
             ],
             [
              0.7777777777777778,
              "#fb9f3a"
             ],
             [
              0.8888888888888888,
              "#fdca26"
             ],
             [
              1,
              "#f0f921"
             ]
            ],
            "type": "surface"
           }
          ],
          "table": [
           {
            "cells": {
             "fill": {
              "color": "#EBF0F8"
             },
             "line": {
              "color": "white"
             }
            },
            "header": {
             "fill": {
              "color": "#C8D4E3"
             },
             "line": {
              "color": "white"
             }
            },
            "type": "table"
           }
          ]
         },
         "layout": {
          "annotationdefaults": {
           "arrowcolor": "#2a3f5f",
           "arrowhead": 0,
           "arrowwidth": 1
          },
          "autotypenumbers": "strict",
          "coloraxis": {
           "colorbar": {
            "outlinewidth": 0,
            "ticks": ""
           }
          },
          "colorscale": {
           "diverging": [
            [
             0,
             "#8e0152"
            ],
            [
             0.1,
             "#c51b7d"
            ],
            [
             0.2,
             "#de77ae"
            ],
            [
             0.3,
             "#f1b6da"
            ],
            [
             0.4,
             "#fde0ef"
            ],
            [
             0.5,
             "#f7f7f7"
            ],
            [
             0.6,
             "#e6f5d0"
            ],
            [
             0.7,
             "#b8e186"
            ],
            [
             0.8,
             "#7fbc41"
            ],
            [
             0.9,
             "#4d9221"
            ],
            [
             1,
             "#276419"
            ]
           ],
           "sequential": [
            [
             0,
             "#0d0887"
            ],
            [
             0.1111111111111111,
             "#46039f"
            ],
            [
             0.2222222222222222,
             "#7201a8"
            ],
            [
             0.3333333333333333,
             "#9c179e"
            ],
            [
             0.4444444444444444,
             "#bd3786"
            ],
            [
             0.5555555555555556,
             "#d8576b"
            ],
            [
             0.6666666666666666,
             "#ed7953"
            ],
            [
             0.7777777777777778,
             "#fb9f3a"
            ],
            [
             0.8888888888888888,
             "#fdca26"
            ],
            [
             1,
             "#f0f921"
            ]
           ],
           "sequentialminus": [
            [
             0,
             "#0d0887"
            ],
            [
             0.1111111111111111,
             "#46039f"
            ],
            [
             0.2222222222222222,
             "#7201a8"
            ],
            [
             0.3333333333333333,
             "#9c179e"
            ],
            [
             0.4444444444444444,
             "#bd3786"
            ],
            [
             0.5555555555555556,
             "#d8576b"
            ],
            [
             0.6666666666666666,
             "#ed7953"
            ],
            [
             0.7777777777777778,
             "#fb9f3a"
            ],
            [
             0.8888888888888888,
             "#fdca26"
            ],
            [
             1,
             "#f0f921"
            ]
           ]
          },
          "colorway": [
           "#636efa",
           "#EF553B",
           "#00cc96",
           "#ab63fa",
           "#FFA15A",
           "#19d3f3",
           "#FF6692",
           "#B6E880",
           "#FF97FF",
           "#FECB52"
          ],
          "font": {
           "color": "#2a3f5f"
          },
          "geo": {
           "bgcolor": "white",
           "lakecolor": "white",
           "landcolor": "#E5ECF6",
           "showlakes": true,
           "showland": true,
           "subunitcolor": "white"
          },
          "hoverlabel": {
           "align": "left"
          },
          "hovermode": "closest",
          "mapbox": {
           "style": "light"
          },
          "paper_bgcolor": "white",
          "plot_bgcolor": "#E5ECF6",
          "polar": {
           "angularaxis": {
            "gridcolor": "white",
            "linecolor": "white",
            "ticks": ""
           },
           "bgcolor": "#E5ECF6",
           "radialaxis": {
            "gridcolor": "white",
            "linecolor": "white",
            "ticks": ""
           }
          },
          "scene": {
           "xaxis": {
            "backgroundcolor": "#E5ECF6",
            "gridcolor": "white",
            "gridwidth": 2,
            "linecolor": "white",
            "showbackground": true,
            "ticks": "",
            "zerolinecolor": "white"
           },
           "yaxis": {
            "backgroundcolor": "#E5ECF6",
            "gridcolor": "white",
            "gridwidth": 2,
            "linecolor": "white",
            "showbackground": true,
            "ticks": "",
            "zerolinecolor": "white"
           },
           "zaxis": {
            "backgroundcolor": "#E5ECF6",
            "gridcolor": "white",
            "gridwidth": 2,
            "linecolor": "white",
            "showbackground": true,
            "ticks": "",
            "zerolinecolor": "white"
           }
          },
          "shapedefaults": {
           "line": {
            "color": "#2a3f5f"
           }
          },
          "ternary": {
           "aaxis": {
            "gridcolor": "white",
            "linecolor": "white",
            "ticks": ""
           },
           "baxis": {
            "gridcolor": "white",
            "linecolor": "white",
            "ticks": ""
           },
           "bgcolor": "#E5ECF6",
           "caxis": {
            "gridcolor": "white",
            "linecolor": "white",
            "ticks": ""
           }
          },
          "title": {
           "x": 0.05
          },
          "xaxis": {
           "automargin": true,
           "gridcolor": "white",
           "linecolor": "white",
           "ticks": "",
           "title": {
            "standoff": 15
           },
           "zerolinecolor": "white",
           "zerolinewidth": 2
          },
          "yaxis": {
           "automargin": true,
           "gridcolor": "white",
           "linecolor": "white",
           "ticks": "",
           "title": {
            "standoff": 15
           },
           "zerolinecolor": "white",
           "zerolinewidth": 2
          }
         }
        },
        "xaxis": {
         "anchor": "y",
         "domain": [
          0,
          1
         ],
         "title": {
          "text": "Number of Training Samples"
         }
        },
        "yaxis": {
         "anchor": "x",
         "domain": [
          0,
          1
         ],
         "title": {
          "text": "Spearman Correlation Coefficient"
         }
        }
       }
      }
     },
     "metadata": {},
     "output_type": "display_data"
    }
   ],
   "source": [
    "import plotly.express as px\n",
    "\n",
    "fig = px.line(lc_df, 'value', 'spearmanr',color=\"training_method\")\n",
    "\n",
    "fig.update_layout(\n",
    "    xaxis_title=\"Number of Training Samples\",\n",
    "    yaxis_title=\"Spearman Correlation Coefficient\"\n",
    ")\n",
    "\n",
    "fig.show()"
   ]
  },
  {
   "cell_type": "code",
   "execution_count": 1,
   "id": "9d7b5dd0",
   "metadata": {},
   "outputs": [
    {
     "data": {
      "text/html": [
       "<div>\n",
       "<style scoped>\n",
       "    .dataframe tbody tr th:only-of-type {\n",
       "        vertical-align: middle;\n",
       "    }\n",
       "\n",
       "    .dataframe tbody tr th {\n",
       "        vertical-align: top;\n",
       "    }\n",
       "\n",
       "    .dataframe thead th {\n",
       "        text-align: right;\n",
       "    }\n",
       "</style>\n",
       "<table border=\"1\" class=\"dataframe\">\n",
       "  <thead>\n",
       "    <tr style=\"text-align: right;\">\n",
       "      <th></th>\n",
       "      <th>variances10</th>\n",
       "      <th>variances11</th>\n",
       "      <th>variances12</th>\n",
       "      <th>variances13</th>\n",
       "      <th>variances14</th>\n",
       "      <th>variances15</th>\n",
       "      <th>variances16</th>\n",
       "      <th>variances2</th>\n",
       "      <th>variances3</th>\n",
       "      <th>variances4</th>\n",
       "      <th>variances5</th>\n",
       "      <th>variances6</th>\n",
       "      <th>variances7</th>\n",
       "      <th>variances8</th>\n",
       "      <th>variances9</th>\n",
       "    </tr>\n",
       "  </thead>\n",
       "  <tbody>\n",
       "    <tr>\n",
       "      <th>0</th>\n",
       "      <td>0.149963</td>\n",
       "      <td>0.011875</td>\n",
       "      <td>0.025784</td>\n",
       "      <td>0.021565</td>\n",
       "      <td>0.042797</td>\n",
       "      <td>0.023504</td>\n",
       "      <td>0.020772</td>\n",
       "      <td>0.013999</td>\n",
       "      <td>0.028303</td>\n",
       "      <td>0.051192</td>\n",
       "      <td>0.048048</td>\n",
       "      <td>0.027420</td>\n",
       "      <td>0.055021</td>\n",
       "      <td>0.014279</td>\n",
       "      <td>0.049370</td>\n",
       "    </tr>\n",
       "    <tr>\n",
       "      <th>1</th>\n",
       "      <td>0.050087</td>\n",
       "      <td>0.005050</td>\n",
       "      <td>0.020347</td>\n",
       "      <td>0.031385</td>\n",
       "      <td>0.019446</td>\n",
       "      <td>0.037039</td>\n",
       "      <td>0.030839</td>\n",
       "      <td>0.119323</td>\n",
       "      <td>0.064065</td>\n",
       "      <td>0.027289</td>\n",
       "      <td>0.024033</td>\n",
       "      <td>0.024117</td>\n",
       "      <td>0.022003</td>\n",
       "      <td>0.027090</td>\n",
       "      <td>0.043563</td>\n",
       "    </tr>\n",
       "    <tr>\n",
       "      <th>2</th>\n",
       "      <td>0.069689</td>\n",
       "      <td>0.014829</td>\n",
       "      <td>0.010998</td>\n",
       "      <td>0.004873</td>\n",
       "      <td>0.013083</td>\n",
       "      <td>0.016777</td>\n",
       "      <td>0.035694</td>\n",
       "      <td>0.028558</td>\n",
       "      <td>0.052594</td>\n",
       "      <td>0.060716</td>\n",
       "      <td>0.149823</td>\n",
       "      <td>0.034743</td>\n",
       "      <td>0.123635</td>\n",
       "      <td>0.090861</td>\n",
       "      <td>0.006818</td>\n",
       "    </tr>\n",
       "    <tr>\n",
       "      <th>3</th>\n",
       "      <td>0.030903</td>\n",
       "      <td>0.022928</td>\n",
       "      <td>0.014478</td>\n",
       "      <td>0.082185</td>\n",
       "      <td>0.103137</td>\n",
       "      <td>0.105877</td>\n",
       "      <td>0.029240</td>\n",
       "      <td>0.044814</td>\n",
       "      <td>0.054224</td>\n",
       "      <td>0.040302</td>\n",
       "      <td>0.059472</td>\n",
       "      <td>0.037716</td>\n",
       "      <td>0.021208</td>\n",
       "      <td>0.004541</td>\n",
       "      <td>0.026667</td>\n",
       "    </tr>\n",
       "    <tr>\n",
       "      <th>4</th>\n",
       "      <td>0.036251</td>\n",
       "      <td>0.021226</td>\n",
       "      <td>0.081336</td>\n",
       "      <td>0.022297</td>\n",
       "      <td>0.035207</td>\n",
       "      <td>0.022637</td>\n",
       "      <td>0.013253</td>\n",
       "      <td>0.083888</td>\n",
       "      <td>0.057288</td>\n",
       "      <td>0.017450</td>\n",
       "      <td>0.041651</td>\n",
       "      <td>0.015074</td>\n",
       "      <td>0.017717</td>\n",
       "      <td>0.039450</td>\n",
       "      <td>0.071926</td>\n",
       "    </tr>\n",
       "    <tr>\n",
       "      <th>...</th>\n",
       "      <td>...</td>\n",
       "      <td>...</td>\n",
       "      <td>...</td>\n",
       "      <td>...</td>\n",
       "      <td>...</td>\n",
       "      <td>...</td>\n",
       "      <td>...</td>\n",
       "      <td>...</td>\n",
       "      <td>...</td>\n",
       "      <td>...</td>\n",
       "      <td>...</td>\n",
       "      <td>...</td>\n",
       "      <td>...</td>\n",
       "      <td>...</td>\n",
       "      <td>...</td>\n",
       "    </tr>\n",
       "    <tr>\n",
       "      <th>3147</th>\n",
       "      <td>NaN</td>\n",
       "      <td>NaN</td>\n",
       "      <td>NaN</td>\n",
       "      <td>NaN</td>\n",
       "      <td>NaN</td>\n",
       "      <td>NaN</td>\n",
       "      <td>NaN</td>\n",
       "      <td>0.032242</td>\n",
       "      <td>NaN</td>\n",
       "      <td>NaN</td>\n",
       "      <td>NaN</td>\n",
       "      <td>NaN</td>\n",
       "      <td>NaN</td>\n",
       "      <td>NaN</td>\n",
       "      <td>NaN</td>\n",
       "    </tr>\n",
       "    <tr>\n",
       "      <th>3148</th>\n",
       "      <td>NaN</td>\n",
       "      <td>NaN</td>\n",
       "      <td>NaN</td>\n",
       "      <td>NaN</td>\n",
       "      <td>NaN</td>\n",
       "      <td>NaN</td>\n",
       "      <td>NaN</td>\n",
       "      <td>0.089120</td>\n",
       "      <td>NaN</td>\n",
       "      <td>NaN</td>\n",
       "      <td>NaN</td>\n",
       "      <td>NaN</td>\n",
       "      <td>NaN</td>\n",
       "      <td>NaN</td>\n",
       "      <td>NaN</td>\n",
       "    </tr>\n",
       "    <tr>\n",
       "      <th>3149</th>\n",
       "      <td>NaN</td>\n",
       "      <td>NaN</td>\n",
       "      <td>NaN</td>\n",
       "      <td>NaN</td>\n",
       "      <td>NaN</td>\n",
       "      <td>NaN</td>\n",
       "      <td>NaN</td>\n",
       "      <td>0.029723</td>\n",
       "      <td>NaN</td>\n",
       "      <td>NaN</td>\n",
       "      <td>NaN</td>\n",
       "      <td>NaN</td>\n",
       "      <td>NaN</td>\n",
       "      <td>NaN</td>\n",
       "      <td>NaN</td>\n",
       "    </tr>\n",
       "    <tr>\n",
       "      <th>3150</th>\n",
       "      <td>NaN</td>\n",
       "      <td>NaN</td>\n",
       "      <td>NaN</td>\n",
       "      <td>NaN</td>\n",
       "      <td>NaN</td>\n",
       "      <td>NaN</td>\n",
       "      <td>NaN</td>\n",
       "      <td>0.050000</td>\n",
       "      <td>NaN</td>\n",
       "      <td>NaN</td>\n",
       "      <td>NaN</td>\n",
       "      <td>NaN</td>\n",
       "      <td>NaN</td>\n",
       "      <td>NaN</td>\n",
       "      <td>NaN</td>\n",
       "    </tr>\n",
       "    <tr>\n",
       "      <th>3151</th>\n",
       "      <td>NaN</td>\n",
       "      <td>NaN</td>\n",
       "      <td>NaN</td>\n",
       "      <td>NaN</td>\n",
       "      <td>NaN</td>\n",
       "      <td>NaN</td>\n",
       "      <td>NaN</td>\n",
       "      <td>0.041384</td>\n",
       "      <td>NaN</td>\n",
       "      <td>NaN</td>\n",
       "      <td>NaN</td>\n",
       "      <td>NaN</td>\n",
       "      <td>NaN</td>\n",
       "      <td>NaN</td>\n",
       "      <td>NaN</td>\n",
       "    </tr>\n",
       "  </tbody>\n",
       "</table>\n",
       "<p>3152 rows × 15 columns</p>\n",
       "</div>"
      ],
      "text/plain": [
       "      variances10  variances11  variances12  variances13  variances14  \\\n",
       "0        0.149963     0.011875     0.025784     0.021565     0.042797   \n",
       "1        0.050087     0.005050     0.020347     0.031385     0.019446   \n",
       "2        0.069689     0.014829     0.010998     0.004873     0.013083   \n",
       "3        0.030903     0.022928     0.014478     0.082185     0.103137   \n",
       "4        0.036251     0.021226     0.081336     0.022297     0.035207   \n",
       "...           ...          ...          ...          ...          ...   \n",
       "3147          NaN          NaN          NaN          NaN          NaN   \n",
       "3148          NaN          NaN          NaN          NaN          NaN   \n",
       "3149          NaN          NaN          NaN          NaN          NaN   \n",
       "3150          NaN          NaN          NaN          NaN          NaN   \n",
       "3151          NaN          NaN          NaN          NaN          NaN   \n",
       "\n",
       "      variances15  variances16  variances2  variances3  variances4  \\\n",
       "0        0.023504     0.020772    0.013999    0.028303    0.051192   \n",
       "1        0.037039     0.030839    0.119323    0.064065    0.027289   \n",
       "2        0.016777     0.035694    0.028558    0.052594    0.060716   \n",
       "3        0.105877     0.029240    0.044814    0.054224    0.040302   \n",
       "4        0.022637     0.013253    0.083888    0.057288    0.017450   \n",
       "...           ...          ...         ...         ...         ...   \n",
       "3147          NaN          NaN    0.032242         NaN         NaN   \n",
       "3148          NaN          NaN    0.089120         NaN         NaN   \n",
       "3149          NaN          NaN    0.029723         NaN         NaN   \n",
       "3150          NaN          NaN    0.050000         NaN         NaN   \n",
       "3151          NaN          NaN    0.041384         NaN         NaN   \n",
       "\n",
       "      variances5  variances6  variances7  variances8  variances9  \n",
       "0       0.048048    0.027420    0.055021    0.014279    0.049370  \n",
       "1       0.024033    0.024117    0.022003    0.027090    0.043563  \n",
       "2       0.149823    0.034743    0.123635    0.090861    0.006818  \n",
       "3       0.059472    0.037716    0.021208    0.004541    0.026667  \n",
       "4       0.041651    0.015074    0.017717    0.039450    0.071926  \n",
       "...          ...         ...         ...         ...         ...  \n",
       "3147         NaN         NaN         NaN         NaN         NaN  \n",
       "3148         NaN         NaN         NaN         NaN         NaN  \n",
       "3149         NaN         NaN         NaN         NaN         NaN  \n",
       "3150         NaN         NaN         NaN         NaN         NaN  \n",
       "3151         NaN         NaN         NaN         NaN         NaN  \n",
       "\n",
       "[3152 rows x 15 columns]"
      ]
     },
     "execution_count": 1,
     "metadata": {},
     "output_type": "execute_result"
    }
   ],
   "source": [
    "import pandas as pd\n",
    "import glob\n",
    "from pathlib import Path\n",
    "\n",
    "file_pattern = \"results/03_bootstrap_ensemble/variances*.csv\"\n",
    "variance_files = glob.glob(file_pattern)\n",
    "variance_files.sort()\n",
    "\n",
    "all_variances_dfs = []\n",
    "\n",
    "for filepath in variance_files:\n",
    "    temp_df = pd.read_csv(filepath)\n",
    "    column_name = Path(filepath).stem\n",
    "    temp_df = temp_df.rename(columns={'variance': column_name})\n",
    "    all_variances_dfs.append(temp_df)\n",
    "\n",
    "final_df = pd.concat(all_variances_dfs, axis=1)\n",
    "\n",
    "final_df"
   ]
  },
  {
   "cell_type": "code",
   "execution_count": 4,
   "id": "88ff1790",
   "metadata": {},
   "outputs": [
    {
     "data": {
      "application/vnd.plotly.v1+json": {
       "config": {
        "plotlyServerURL": "https://plot.ly"
       },
       "data": [
        {
         "bingroup": "x",
         "histnorm": "probability density",
         "hovertemplate": "Cycle=variances2<br>Variance=%{x}<br>probability density=%{y}<extra></extra>",
         "legendgroup": "variances2",
         "marker": {
          "color": "#636efa",
          "opacity": 0.65,
          "pattern": {
           "shape": ""
          }
         },
         "name": "variances2",
         "orientation": "v",
         "showlegend": true,
         "type": "histogram",
         "x": {
          "bdata": "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",
          "dtype": "f8"
         },
         "xaxis": "x",
         "yaxis": "y"
        },
        {
         "bingroup": "x",
         "histnorm": "probability density",
         "hovertemplate": "Cycle=variances5<br>Variance=%{x}<br>probability density=%{y}<extra></extra>",
         "legendgroup": "variances5",
         "marker": {
          "color": "#EF553B",
          "opacity": 0.65,
          "pattern": {
           "shape": ""
          }
         },
         "name": "variances5",
         "orientation": "v",
         "showlegend": true,
         "type": "histogram",
         "x": {
          "bdata": "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",
          "dtype": "f8"
         },
         "xaxis": "x",
         "yaxis": "y"
        },
        {
         "bingroup": "x",
         "histnorm": "probability density",
         "hovertemplate": "Cycle=variances8<br>Variance=%{x}<br>probability density=%{y}<extra></extra>",
         "legendgroup": "variances8",
         "marker": {
          "color": "#00cc96",
          "opacity": 0.65,
          "pattern": {
           "shape": ""
          }
         },
         "name": "variances8",
         "orientation": "v",
         "showlegend": true,
         "type": "histogram",
         "x": {
          "bdata": "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",
          "dtype": "f8"
         },
         "xaxis": "x",
         "yaxis": "y"
        },
        {
         "bingroup": "x",
         "histnorm": "probability density",
         "hovertemplate": "Cycle=variances11<br>Variance=%{x}<br>probability density=%{y}<extra></extra>",
         "legendgroup": "variances11",
         "marker": {
          "color": "#ab63fa",
          "opacity": 0.65,
          "pattern": {
           "shape": ""
          }
         },
         "name": "variances11",
         "orientation": "v",
         "showlegend": true,
         "type": "histogram",
         "x": {
          "bdata": "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",
          "dtype": "f8"
         },
         "xaxis": "x",
         "yaxis": "y"
        },
        {
         "bingroup": "x",
         "histnorm": "probability density",
         "hovertemplate": "Cycle=variances14<br>Variance=%{x}<br>probability density=%{y}<extra></extra>",
         "legendgroup": "variances14",
         "marker": {
          "color": "#FFA15A",
          "opacity": 0.65,
          "pattern": {
           "shape": ""
          }
         },
         "name": "variances14",
         "orientation": "v",
         "showlegend": true,
         "type": "histogram",
         "x": {
          "bdata": "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",
          "dtype": "f8"
         },
         "xaxis": "x",
         "yaxis": "y"
        }
       ],
       "layout": {
        "barmode": "overlay",
        "legend": {
         "title": {
          "text": "Cycle"
         },
         "tracegroupgap": 0
        },
        "template": {
         "data": {
          "bar": [
           {
            "error_x": {
             "color": "#2a3f5f"
            },
            "error_y": {
             "color": "#2a3f5f"
            },
            "marker": {
             "line": {
              "color": "#E5ECF6",
              "width": 0.5
             },
             "pattern": {
              "fillmode": "overlay",
              "size": 10,
              "solidity": 0.2
             }
            },
            "type": "bar"
           }
          ],
          "barpolar": [
           {
            "marker": {
             "line": {
              "color": "#E5ECF6",
              "width": 0.5
             },
             "pattern": {
              "fillmode": "overlay",
              "size": 10,
              "solidity": 0.2
             }
            },
            "type": "barpolar"
           }
          ],
          "carpet": [
           {
            "aaxis": {
             "endlinecolor": "#2a3f5f",
             "gridcolor": "white",
             "linecolor": "white",
             "minorgridcolor": "white",
             "startlinecolor": "#2a3f5f"
            },
            "baxis": {
             "endlinecolor": "#2a3f5f",
             "gridcolor": "white",
             "linecolor": "white",
             "minorgridcolor": "white",
             "startlinecolor": "#2a3f5f"
            },
            "type": "carpet"
           }
          ],
          "choropleth": [
           {
            "colorbar": {
             "outlinewidth": 0,
             "ticks": ""
            },
            "type": "choropleth"
           }
          ],
          "contour": [
           {
            "colorbar": {
             "outlinewidth": 0,
             "ticks": ""
            },
            "colorscale": [
             [
              0,
              "#0d0887"
             ],
             [
              0.1111111111111111,
              "#46039f"
             ],
             [
              0.2222222222222222,
              "#7201a8"
             ],
             [
              0.3333333333333333,
              "#9c179e"
             ],
             [
              0.4444444444444444,
              "#bd3786"
             ],
             [
              0.5555555555555556,
              "#d8576b"
             ],
             [
              0.6666666666666666,
              "#ed7953"
             ],
             [
              0.7777777777777778,
              "#fb9f3a"
             ],
             [
              0.8888888888888888,
              "#fdca26"
             ],
             [
              1,
              "#f0f921"
             ]
            ],
            "type": "contour"
           }
          ],
          "contourcarpet": [
           {
            "colorbar": {
             "outlinewidth": 0,
             "ticks": ""
            },
            "type": "contourcarpet"
           }
          ],
          "heatmap": [
           {
            "colorbar": {
             "outlinewidth": 0,
             "ticks": ""
            },
            "colorscale": [
             [
              0,
              "#0d0887"
             ],
             [
              0.1111111111111111,
              "#46039f"
             ],
             [
              0.2222222222222222,
              "#7201a8"
             ],
             [
              0.3333333333333333,
              "#9c179e"
             ],
             [
              0.4444444444444444,
              "#bd3786"
             ],
             [
              0.5555555555555556,
              "#d8576b"
             ],
             [
              0.6666666666666666,
              "#ed7953"
             ],
             [
              0.7777777777777778,
              "#fb9f3a"
             ],
             [
              0.8888888888888888,
              "#fdca26"
             ],
             [
              1,
              "#f0f921"
             ]
            ],
            "type": "heatmap"
           }
          ],
          "histogram": [
           {
            "marker": {
             "pattern": {
              "fillmode": "overlay",
              "size": 10,
              "solidity": 0.2
             }
            },
            "type": "histogram"
           }
          ],
          "histogram2d": [
           {
            "colorbar": {
             "outlinewidth": 0,
             "ticks": ""
            },
            "colorscale": [
             [
              0,
              "#0d0887"
             ],
             [
              0.1111111111111111,
              "#46039f"
             ],
             [
              0.2222222222222222,
              "#7201a8"
             ],
             [
              0.3333333333333333,
              "#9c179e"
             ],
             [
              0.4444444444444444,
              "#bd3786"
             ],
             [
              0.5555555555555556,
              "#d8576b"
             ],
             [
              0.6666666666666666,
              "#ed7953"
             ],
             [
              0.7777777777777778,
              "#fb9f3a"
             ],
             [
              0.8888888888888888,
              "#fdca26"
             ],
             [
              1,
              "#f0f921"
             ]
            ],
            "type": "histogram2d"
           }
          ],
          "histogram2dcontour": [
           {
            "colorbar": {
             "outlinewidth": 0,
             "ticks": ""
            },
            "colorscale": [
             [
              0,
              "#0d0887"
             ],
             [
              0.1111111111111111,
              "#46039f"
             ],
             [
              0.2222222222222222,
              "#7201a8"
             ],
             [
              0.3333333333333333,
              "#9c179e"
             ],
             [
              0.4444444444444444,
              "#bd3786"
             ],
             [
              0.5555555555555556,
              "#d8576b"
             ],
             [
              0.6666666666666666,
              "#ed7953"
             ],
             [
              0.7777777777777778,
              "#fb9f3a"
             ],
             [
              0.8888888888888888,
              "#fdca26"
             ],
             [
              1,
              "#f0f921"
             ]
            ],
            "type": "histogram2dcontour"
           }
          ],
          "mesh3d": [
           {
            "colorbar": {
             "outlinewidth": 0,
             "ticks": ""
            },
            "type": "mesh3d"
           }
          ],
          "parcoords": [
           {
            "line": {
             "colorbar": {
              "outlinewidth": 0,
              "ticks": ""
             }
            },
            "type": "parcoords"
           }
          ],
          "pie": [
           {
            "automargin": true,
            "type": "pie"
           }
          ],
          "scatter": [
           {
            "fillpattern": {
             "fillmode": "overlay",
             "size": 10,
             "solidity": 0.2
            },
            "type": "scatter"
           }
          ],
          "scatter3d": [
           {
            "line": {
             "colorbar": {
              "outlinewidth": 0,
              "ticks": ""
             }
            },
            "marker": {
             "colorbar": {
              "outlinewidth": 0,
              "ticks": ""
             }
            },
            "type": "scatter3d"
           }
          ],
          "scattercarpet": [
           {
            "marker": {
             "colorbar": {
              "outlinewidth": 0,
              "ticks": ""
             }
            },
            "type": "scattercarpet"
           }
          ],
          "scattergeo": [
           {
            "marker": {
             "colorbar": {
              "outlinewidth": 0,
              "ticks": ""
             }
            },
            "type": "scattergeo"
           }
          ],
          "scattergl": [
           {
            "marker": {
             "colorbar": {
              "outlinewidth": 0,
              "ticks": ""
             }
            },
            "type": "scattergl"
           }
          ],
          "scattermap": [
           {
            "marker": {
             "colorbar": {
              "outlinewidth": 0,
              "ticks": ""
             }
            },
            "type": "scattermap"
           }
          ],
          "scattermapbox": [
           {
            "marker": {
             "colorbar": {
              "outlinewidth": 0,
              "ticks": ""
             }
            },
            "type": "scattermapbox"
           }
          ],
          "scatterpolar": [
           {
            "marker": {
             "colorbar": {
              "outlinewidth": 0,
              "ticks": ""
             }
            },
            "type": "scatterpolar"
           }
          ],
          "scatterpolargl": [
           {
            "marker": {
             "colorbar": {
              "outlinewidth": 0,
              "ticks": ""
             }
            },
            "type": "scatterpolargl"
           }
          ],
          "scatterternary": [
           {
            "marker": {
             "colorbar": {
              "outlinewidth": 0,
              "ticks": ""
             }
            },
            "type": "scatterternary"
           }
          ],
          "surface": [
           {
            "colorbar": {
             "outlinewidth": 0,
             "ticks": ""
            },
            "colorscale": [
             [
              0,
              "#0d0887"
             ],
             [
              0.1111111111111111,
              "#46039f"
             ],
             [
              0.2222222222222222,
              "#7201a8"
             ],
             [
              0.3333333333333333,
              "#9c179e"
             ],
             [
              0.4444444444444444,
              "#bd3786"
             ],
             [
              0.5555555555555556,
              "#d8576b"
             ],
             [
              0.6666666666666666,
              "#ed7953"
             ],
             [
              0.7777777777777778,
              "#fb9f3a"
             ],
             [
              0.8888888888888888,
              "#fdca26"
             ],
             [
              1,
              "#f0f921"
             ]
            ],
            "type": "surface"
           }
          ],
          "table": [
           {
            "cells": {
             "fill": {
              "color": "#EBF0F8"
             },
             "line": {
              "color": "white"
             }
            },
            "header": {
             "fill": {
              "color": "#C8D4E3"
             },
             "line": {
              "color": "white"
             }
            },
            "type": "table"
           }
          ]
         },
         "layout": {
          "annotationdefaults": {
           "arrowcolor": "#2a3f5f",
           "arrowhead": 0,
           "arrowwidth": 1
          },
          "autotypenumbers": "strict",
          "coloraxis": {
           "colorbar": {
            "outlinewidth": 0,
            "ticks": ""
           }
          },
          "colorscale": {
           "diverging": [
            [
             0,
             "#8e0152"
            ],
            [
             0.1,
             "#c51b7d"
            ],
            [
             0.2,
             "#de77ae"
            ],
            [
             0.3,
             "#f1b6da"
            ],
            [
             0.4,
             "#fde0ef"
            ],
            [
             0.5,
             "#f7f7f7"
            ],
            [
             0.6,
             "#e6f5d0"
            ],
            [
             0.7,
             "#b8e186"
            ],
            [
             0.8,
             "#7fbc41"
            ],
            [
             0.9,
             "#4d9221"
            ],
            [
             1,
             "#276419"
            ]
           ],
           "sequential": [
            [
             0,
             "#0d0887"
            ],
            [
             0.1111111111111111,
             "#46039f"
            ],
            [
             0.2222222222222222,
             "#7201a8"
            ],
            [
             0.3333333333333333,
             "#9c179e"
            ],
            [
             0.4444444444444444,
             "#bd3786"
            ],
            [
             0.5555555555555556,
             "#d8576b"
            ],
            [
             0.6666666666666666,
             "#ed7953"
            ],
            [
             0.7777777777777778,
             "#fb9f3a"
            ],
            [
             0.8888888888888888,
             "#fdca26"
            ],
            [
             1,
             "#f0f921"
            ]
           ],
           "sequentialminus": [
            [
             0,
             "#0d0887"
            ],
            [
             0.1111111111111111,
             "#46039f"
            ],
            [
             0.2222222222222222,
             "#7201a8"
            ],
            [
             0.3333333333333333,
             "#9c179e"
            ],
            [
             0.4444444444444444,
             "#bd3786"
            ],
            [
             0.5555555555555556,
             "#d8576b"
            ],
            [
             0.6666666666666666,
             "#ed7953"
            ],
            [
             0.7777777777777778,
             "#fb9f3a"
            ],
            [
             0.8888888888888888,
             "#fdca26"
            ],
            [
             1,
             "#f0f921"
            ]
           ]
          },
          "colorway": [
           "#636efa",
           "#EF553B",
           "#00cc96",
           "#ab63fa",
           "#FFA15A",
           "#19d3f3",
           "#FF6692",
           "#B6E880",
           "#FF97FF",
           "#FECB52"
          ],
          "font": {
           "color": "#2a3f5f"
          },
          "geo": {
           "bgcolor": "white",
           "lakecolor": "white",
           "landcolor": "#E5ECF6",
           "showlakes": true,
           "showland": true,
           "subunitcolor": "white"
          },
          "hoverlabel": {
           "align": "left"
          },
          "hovermode": "closest",
          "mapbox": {
           "style": "light"
          },
          "paper_bgcolor": "white",
          "plot_bgcolor": "#E5ECF6",
          "polar": {
           "angularaxis": {
            "gridcolor": "white",
            "linecolor": "white",
            "ticks": ""
           },
           "bgcolor": "#E5ECF6",
           "radialaxis": {
            "gridcolor": "white",
            "linecolor": "white",
            "ticks": ""
           }
          },
          "scene": {
           "xaxis": {
            "backgroundcolor": "#E5ECF6",
            "gridcolor": "white",
            "gridwidth": 2,
            "linecolor": "white",
            "showbackground": true,
            "ticks": "",
            "zerolinecolor": "white"
           },
           "yaxis": {
            "backgroundcolor": "#E5ECF6",
            "gridcolor": "white",
            "gridwidth": 2,
            "linecolor": "white",
            "showbackground": true,
            "ticks": "",
            "zerolinecolor": "white"
           },
           "zaxis": {
            "backgroundcolor": "#E5ECF6",
            "gridcolor": "white",
            "gridwidth": 2,
            "linecolor": "white",
            "showbackground": true,
            "ticks": "",
            "zerolinecolor": "white"
           }
          },
          "shapedefaults": {
           "line": {
            "color": "#2a3f5f"
           }
          },
          "ternary": {
           "aaxis": {
            "gridcolor": "white",
            "linecolor": "white",
            "ticks": ""
           },
           "baxis": {
            "gridcolor": "white",
            "linecolor": "white",
            "ticks": ""
           },
           "bgcolor": "#E5ECF6",
           "caxis": {
            "gridcolor": "white",
            "linecolor": "white",
            "ticks": ""
           }
          },
          "title": {
           "x": 0.05
          },
          "xaxis": {
           "automargin": true,
           "gridcolor": "white",
           "linecolor": "white",
           "ticks": "",
           "title": {
            "standoff": 15
           },
           "zerolinecolor": "white",
           "zerolinewidth": 2
          },
          "yaxis": {
           "automargin": true,
           "gridcolor": "white",
           "linecolor": "white",
           "ticks": "",
           "title": {
            "standoff": 15
           },
           "zerolinecolor": "white",
           "zerolinewidth": 2
          }
         }
        },
        "title": {
         "text": "Distribution of Variances Across Active Learning Cycles"
        },
        "xaxis": {
         "anchor": "y",
         "domain": [
          0,
          1
         ],
         "title": {
          "text": "Variance"
         }
        },
        "yaxis": {
         "anchor": "x",
         "domain": [
          0,
          1
         ],
         "title": {
          "text": "probability density"
         }
        }
       }
      }
     },
     "metadata": {},
     "output_type": "display_data"
    }
   ],
   "source": [
    "columns_to_plot = ['variances2', 'variances5', 'variances8', 'variances11', 'variances14']\n",
    "\n",
    "# \"Melt\" the selected columns into a long-format DataFrame\n",
    "melted_df = final_df[columns_to_plot].melt(\n",
    "    var_name='Cycle',      # New column for the original column names\n",
    "    value_name='Variance'  # New column for the variance values\n",
    ")\n",
    "\n",
    "fig = px.histogram(\n",
    "    data_frame=melted_df,\n",
    "    x='Variance',                                  \n",
    "    color='Cycle',                                 \n",
    "    barmode='overlay',                             \n",
    "    opacity=0.65,                                  \n",
    "    histnorm='probability density',                \n",
    "    title='Distribution of Variances Across Active Learning Cycles'\n",
    ")\n",
    "\n",
    "fig.show()"
   ]
  },
  {
   "cell_type": "markdown",
   "id": "49aaf701",
   "metadata": {},
   "source": [
    "Once again, the active learning campaign underperformed the standard fine-tuning procedure. Compared to the MC Dropout experiment, we can see that the variance distribution shrinks over time, suggesting that the uncertainty is better calibrated, but to truly test for calibration, one would need to measure the correlation between the variance and the error. Looking at this distrubtion, it makes me wonder if perhaps choosing the most variable sequences is just too noisy, and maybe randomly sampling from a top, given proportion of samples would help keep randomness while still biasing for higher variance. \n",
    "\n",
    "Some amount of this might be accomplished by ensuring diversity in the newly chosen batch, so this will be my next experiment."
   ]
  }
 ],
 "metadata": {
  "kernelspec": {
   "display_name": "plm-active-learning",
   "language": "python",
   "name": "python3"
  },
  "language_info": {
   "codemirror_mode": {
    "name": "ipython",
    "version": 3
   },
   "file_extension": ".py",
   "mimetype": "text/x-python",
   "name": "python",
   "nbconvert_exporter": "python",
   "pygments_lexer": "ipython3",
   "version": "3.12.11"
  }
 },
 "nbformat": 4,
 "nbformat_minor": 5
}
