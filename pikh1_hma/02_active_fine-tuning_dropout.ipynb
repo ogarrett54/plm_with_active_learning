{
 "cells": [
  {
   "cell_type": "markdown",
   "id": "91fccfca",
   "metadata": {},
   "source": [
    "## Approach 2: MC Dropout\n",
    "This second approach to active learning changes the method by which model uncertainty is estimated. With this approach, a single model is trained, then to estimate uncertainty, the dropout is kept on during evaluation stage of the training pool and the model is run over this pool multiple times. The variance of each of these predictions will be used to guide new batch selection."
   ]
  },
  {
   "cell_type": "code",
   "execution_count": 1,
   "id": "72b8df90",
   "metadata": {},
   "outputs": [],
   "source": [
    "from scripts.data_utils import train_val_test_split\n",
    "from scripts.config import (\n",
    "    DATA_PATH, \n",
    "    SEQUENCE_COL, \n",
    "    SCORE_COL, \n",
    "    TOK_MODEL, \n",
    "    VAL_SPLIT,\n",
    "    TEST_SPLIT,\n",
    "    BATCH_SIZE,\n",
    "    RANDOM_SEED,\n",
    ")\n",
    "\n",
    "training_pool, val_dataloader, test_dataloader = train_val_test_split(\n",
    "    DATA_PATH,\n",
    "    SEQUENCE_COL,\n",
    "    SCORE_COL,\n",
    "    TOK_MODEL,\n",
    "    VAL_SPLIT,\n",
    "    TEST_SPLIT,\n",
    "    BATCH_SIZE,\n",
    "    RANDOM_SEED\n",
    ")"
   ]
  },
  {
   "cell_type": "markdown",
   "id": "b796e1b6",
   "metadata": {},
   "source": [
    "## Step-by-step\n",
    "1. Select initial random training set\n",
    "2. Fine-tune a single model\n",
    "3. Set model to eval mode, but manually reenable dropout layers\n",
    "4. For k times, evalute training pool\n",
    "5. Calculate variance of k predictions for each sequence (acquisition score)\n",
    "6. Select N samples with highest acquisition scores.\n",
    "7. Repeat 2-6."
   ]
  },
  {
   "cell_type": "code",
   "execution_count": 2,
   "id": "c631ecf0",
   "metadata": {},
   "outputs": [],
   "source": [
    "from scripts.models import enable_dropout\n",
    "import torch\n",
    "from tqdm import tqdm\n",
    "\n",
    "def get_ensemble_predictions(model, dropout_prob, pool_dataloader, k_pred):\n",
    "    # automatically detect what device the model is on\n",
    "    device = next(model.parameters()).device\n",
    "\n",
    "    # set model to eval mode, but keep dropout on\n",
    "    model.eval()\n",
    "    enable_dropout(model, dropout_prob)\n",
    "\n",
    "    all_preds = []\n",
    "\n",
    "    for _ in tqdm(range(k_pred), desc=\"MC Dropout Passes\"):\n",
    "        current_pass_preds = []\n",
    "        with torch.inference_mode():\n",
    "            for inputs, _ in pool_dataloader:\n",
    "            # get model predictions, append them to list (num batches, batch size)\n",
    "                inputs = {k: v.to(device) for k, v in inputs.items()}\n",
    "                outputs = model(**inputs)\n",
    "                preds = outputs.logits\n",
    "                current_pass_preds.append(preds.cpu())\n",
    "        \n",
    "        # once all pool has been surveyed, concatenate into one tensor\n",
    "        current_pass_preds = torch.cat(current_pass_preds, dim=0)\n",
    "        \n",
    "        # append full pass tensor to all predictions list\n",
    "        all_preds.append(current_pass_preds)\n",
    "\n",
    "    # convert list to tensor with shape (k_pred, num_sequences, num_labels)\n",
    "    all_preds = torch.stack(all_preds)\n",
    "    return all_preds"
   ]
  },
  {
   "cell_type": "code",
   "execution_count": 3,
   "id": "0d4e5d00",
   "metadata": {},
   "outputs": [],
   "source": [
    "from pathlib import Path\n",
    "import pandas as pd\n",
    "import numpy as np\n",
    "from scripts.acquisition import acquire_new_batch, get_variances\n",
    "from scripts.training import initialize_and_train_new_model, test_model\n",
    "from scripts.campaigns import run_standard_finetuning\n",
    "\n",
    "def get_learning_curves(\n",
    "        n_samples,\n",
    "        initial_n_samples,\n",
    "        n_samples_per_batch,\n",
    "        model_name,\n",
    "        approach, \n",
    "        learning_rate, \n",
    "        weight_decay, \n",
    "        epochs, \n",
    "        training_pool,\n",
    "        train_dataloader_batch_size,\n",
    "        pool_dataloader_batch_size, \n",
    "        val_dataloader, \n",
    "        test_dataloader,\n",
    "        patience=5,\n",
    "        k_pred=24,\n",
    "        dropout_prob=0.1,\n",
    "        results_path=\"active_vs_standard_learning_curves.csv\"\n",
    "):\n",
    "    results_path = Path(results_path)\n",
    "    results_dir = results_path.parent\n",
    "    results_dir.mkdir(parents=True, exist_ok=True)\n",
    "\n",
    "    # Load existing results if the file exists, otherwise start with a fresh DataFrame.\n",
    "    if results_path.exists():\n",
    "        all_results_df = pd.read_csv(results_path)\n",
    "    else:\n",
    "        all_results_df = pd.DataFrame()\n",
    "    \n",
    "    total_pool_size = len(training_pool)\n",
    "    unlabeled_indices = np.arange(total_pool_size)\n",
    "    labeled_indices = np.array([], dtype=np.int64)\n",
    "\n",
    "    ensemble_predictions = None\n",
    "    current_cycle = 1\n",
    "    total_cycles = int(np.ceil((n_samples-initial_n_samples)/n_samples_per_batch)) + 1\n",
    "    \n",
    "    while len(labeled_indices) < n_samples and len(unlabeled_indices) > 0:\n",
    "        print(f\"\\nCycle {current_cycle}/{total_cycles}\\n-------------------------------------------------\")\n",
    "\n",
    "        # on the first cycle, choose random samples of initial_n_samples size\n",
    "        if ensemble_predictions is None:\n",
    "            print(f\"Choosing initial {initial_n_samples} samples randomly...\")\n",
    "            train_dataloader, pool_dataloader, labeled_indices, unlabeled_indices = acquire_new_batch(\n",
    "                training_pool, train_dataloader_batch_size, pool_dataloader_batch_size, initial_n_samples, n_samples_per_batch, labeled_indices, unlabeled_indices, acquisition_scores=None\n",
    "            )\n",
    "        # each other time, use the n_samples_per_batch with acquisition scores to select\n",
    "        else:\n",
    "            scores = get_variances(ensemble_predictions, f\"results/02_mc_dropout/variances{current_cycle}.csv\")\n",
    "            print(f\"Selecting new data points...\")\n",
    "            train_dataloader, pool_dataloader, labeled_indices, unlabeled_indices = acquire_new_batch(\n",
    "                training_pool, train_dataloader_batch_size, pool_dataloader_batch_size, initial_n_samples, n_samples_per_batch, labeled_indices, unlabeled_indices, acquisition_scores=scores\n",
    "            )\n",
    "        \n",
    "        # give message when loop ends\n",
    "        if len(unlabeled_indices) == 0:\n",
    "            print(\"Unlabeled pool is empty. Proceeding to final model training.\")\n",
    "            break\n",
    "        \n",
    "        # evaluate active vs standard\n",
    "        final_results = []\n",
    "\n",
    "        # active\n",
    "        print(f\"\\nTraining and evaluating model using {len(labeled_indices)} actively selected samples...\")\n",
    "        model_active = initialize_and_train_new_model(approach, model_name, learning_rate, weight_decay, epochs, train_dataloader, val_dataloader, patience, return_history=False)\n",
    "        results_active = test_model(model_active, test_dataloader, return_results=True)\n",
    "        results_active = {\n",
    "            'changing_var': 'n_samples',\n",
    "            'local_exp_idx': current_cycle-1,\n",
    "            'value': len(labeled_indices),\n",
    "            'training_method': 'active',\n",
    "            **results_active\n",
    "        }\n",
    "        final_results.append(results_active)\n",
    "\n",
    "        # standard\n",
    "        print(f\"\\nTraining and evaluating model using {len(labeled_indices)} randomly selected samples...\")\n",
    "        model_standard, _ = run_standard_finetuning(len(labeled_indices), approach, model_name, train_dataloader_batch_size, learning_rate, weight_decay, epochs, training_pool, val_dataloader, patience)\n",
    "        results_standard = test_model(model_standard, test_dataloader, return_results=True)\n",
    "        results_standard = {\n",
    "            'changing_var': 'n_samples',\n",
    "            'local_exp_idx': current_cycle-1,\n",
    "            'value': len(labeled_indices),\n",
    "            'training_method': 'standard',\n",
    "            **results_standard\n",
    "        }\n",
    "        final_results.append(results_standard)\n",
    "\n",
    "        # save to disk each time to save progress\n",
    "        results_df = pd.DataFrame(final_results)\n",
    "        all_results_df = pd.concat([all_results_df, results_df], ignore_index=True)\n",
    "        all_results_df.to_csv(results_path, index=False)\n",
    "        print(f\"Progress for experiment {current_cycle-1} appended to {results_path}\")\n",
    "\n",
    "        # if it's the last cycle, skip ensemble predictions\n",
    "        if (current_cycle == total_cycles):\n",
    "            print(\"Experiments complete.\")\n",
    "            break\n",
    "\n",
    "        print(\"Starting ensemble training and pool evaluation...\")\n",
    "        ensemble_predictions = get_ensemble_predictions(model_active, dropout_prob, pool_dataloader, k_pred)\n",
    "\n",
    "        current_cycle += 1\n",
    "    return all_results_df"
   ]
  },
  {
   "cell_type": "code",
   "execution_count": 4,
   "id": "8d49b817",
   "metadata": {},
   "outputs": [
    {
     "name": "stdout",
     "output_type": "stream",
     "text": [
      "\n",
      "Cycle 1/16\n",
      "-------------------------------------------------\n",
      "Choosing initial 16 samples randomly...\n",
      "\n",
      "Training and evaluating model using 16 actively selected samples...\n"
     ]
    },
    {
     "name": "stderr",
     "output_type": "stream",
     "text": [
      "/home/oscar/miniconda3/envs/plm-active-learning/lib/python3.12/site-packages/torchmetrics/utilities/prints.py:43: UserWarning: Metric `SpearmanCorrcoef` will save all targets and predictions in the buffer. For large datasets, this may lead to large memory footprint.\n",
      "  warnings.warn(*args, **kwargs)\n",
      "[Training]: 100%|██████████| 50/50 [00:22<00:00,  2.26it/s]\n"
     ]
    },
    {
     "name": "stdout",
     "output_type": "stream",
     "text": [
      "Train Loss: 0.0090 | Val Loss: 0.2287 | SpearmanR: 0.2684\n"
     ]
    },
    {
     "name": "stderr",
     "output_type": "stream",
     "text": [
      "[Testing]: 100%|██████████| 25/25 [00:00<00:00, 72.43it/s]\n"
     ]
    },
    {
     "name": "stdout",
     "output_type": "stream",
     "text": [
      "\n",
      "Training and evaluating model using 16 randomly selected samples...\n"
     ]
    },
    {
     "name": "stderr",
     "output_type": "stream",
     "text": [
      "[Training]:  38%|███▊      | 19/50 [00:08<00:13,  2.34it/s]\n"
     ]
    },
    {
     "name": "stdout",
     "output_type": "stream",
     "text": [
      "Early stopping triggered after 10 epochs with no improvement.\n",
      "Train Loss: 0.0491 | Val Loss: 0.2053 | SpearmanR: 0.0516\n"
     ]
    },
    {
     "name": "stderr",
     "output_type": "stream",
     "text": [
      "[Testing]: 100%|██████████| 25/25 [00:00<00:00, 72.59it/s]\n"
     ]
    },
    {
     "name": "stdout",
     "output_type": "stream",
     "text": [
      "Progress for experiment 0 appended to results/02_mc_dropout/active_vs_standard_learning_curve.csv\n",
      "Starting ensemble training and pool evaluation...\n"
     ]
    },
    {
     "name": "stderr",
     "output_type": "stream",
     "text": [
      "MC Dropout Passes: 100%|██████████| 24/24 [00:52<00:00,  2.18s/it]\n"
     ]
    },
    {
     "name": "stdout",
     "output_type": "stream",
     "text": [
      "\n",
      "Cycle 2/16\n",
      "-------------------------------------------------\n",
      "Saving variance distribution to results/02_mc_dropout/variances2.csv...\n",
      "Save complete.\n",
      "Selecting new data points...\n",
      "\n",
      "Training and evaluating model using 32 actively selected samples...\n"
     ]
    },
    {
     "name": "stderr",
     "output_type": "stream",
     "text": [
      "[Training]:  68%|██████▊   | 34/50 [00:15<00:07,  2.19it/s]\n"
     ]
    },
    {
     "name": "stdout",
     "output_type": "stream",
     "text": [
      "Early stopping triggered after 10 epochs with no improvement.\n",
      "Train Loss: 0.0452 | Val Loss: 0.2067 | SpearmanR: 0.3450\n"
     ]
    },
    {
     "name": "stderr",
     "output_type": "stream",
     "text": [
      "[Testing]: 100%|██████████| 25/25 [00:00<00:00, 71.59it/s]\n"
     ]
    },
    {
     "name": "stdout",
     "output_type": "stream",
     "text": [
      "\n",
      "Training and evaluating model using 32 randomly selected samples...\n"
     ]
    },
    {
     "name": "stderr",
     "output_type": "stream",
     "text": [
      "[Training]: 100%|██████████| 50/50 [00:23<00:00,  2.14it/s]\n"
     ]
    },
    {
     "name": "stdout",
     "output_type": "stream",
     "text": [
      "Train Loss: 0.0131 | Val Loss: 0.1990 | SpearmanR: 0.3544\n"
     ]
    },
    {
     "name": "stderr",
     "output_type": "stream",
     "text": [
      "[Testing]: 100%|██████████| 25/25 [00:00<00:00, 71.91it/s]\n"
     ]
    },
    {
     "name": "stdout",
     "output_type": "stream",
     "text": [
      "Progress for experiment 1 appended to results/02_mc_dropout/active_vs_standard_learning_curve.csv\n",
      "Starting ensemble training and pool evaluation...\n"
     ]
    },
    {
     "name": "stderr",
     "output_type": "stream",
     "text": [
      "MC Dropout Passes: 100%|██████████| 24/24 [00:52<00:00,  2.18s/it]\n"
     ]
    },
    {
     "name": "stdout",
     "output_type": "stream",
     "text": [
      "\n",
      "Cycle 3/16\n",
      "-------------------------------------------------\n",
      "Saving variance distribution to results/02_mc_dropout/variances3.csv...\n",
      "Save complete.\n",
      "Selecting new data points...\n",
      "\n",
      "Training and evaluating model using 48 actively selected samples...\n"
     ]
    },
    {
     "name": "stderr",
     "output_type": "stream",
     "text": [
      "[Training]:  62%|██████▏   | 31/50 [00:15<00:09,  2.06it/s]\n"
     ]
    },
    {
     "name": "stdout",
     "output_type": "stream",
     "text": [
      "Early stopping triggered after 10 epochs with no improvement.\n",
      "Train Loss: 0.0631 | Val Loss: 0.1961 | SpearmanR: 0.4970\n"
     ]
    },
    {
     "name": "stderr",
     "output_type": "stream",
     "text": [
      "[Testing]: 100%|██████████| 25/25 [00:00<00:00, 72.91it/s]\n"
     ]
    },
    {
     "name": "stdout",
     "output_type": "stream",
     "text": [
      "\n",
      "Training and evaluating model using 48 randomly selected samples...\n"
     ]
    },
    {
     "name": "stderr",
     "output_type": "stream",
     "text": [
      "[Training]:  70%|███████   | 35/50 [00:17<00:07,  2.04it/s]\n"
     ]
    },
    {
     "name": "stdout",
     "output_type": "stream",
     "text": [
      "Early stopping triggered after 10 epochs with no improvement.\n",
      "Train Loss: 0.0109 | Val Loss: 0.1482 | SpearmanR: 0.5257\n"
     ]
    },
    {
     "name": "stderr",
     "output_type": "stream",
     "text": [
      "[Testing]: 100%|██████████| 25/25 [00:00<00:00, 72.32it/s]\n"
     ]
    },
    {
     "name": "stdout",
     "output_type": "stream",
     "text": [
      "Progress for experiment 2 appended to results/02_mc_dropout/active_vs_standard_learning_curve.csv\n",
      "Starting ensemble training and pool evaluation...\n"
     ]
    },
    {
     "name": "stderr",
     "output_type": "stream",
     "text": [
      "MC Dropout Passes: 100%|██████████| 24/24 [00:51<00:00,  2.15s/it]\n"
     ]
    },
    {
     "name": "stdout",
     "output_type": "stream",
     "text": [
      "\n",
      "Cycle 4/16\n",
      "-------------------------------------------------\n",
      "Saving variance distribution to results/02_mc_dropout/variances4.csv...\n",
      "Save complete.\n",
      "Selecting new data points...\n",
      "\n",
      "Training and evaluating model using 64 actively selected samples...\n"
     ]
    },
    {
     "name": "stderr",
     "output_type": "stream",
     "text": [
      "[Training]: 100%|██████████| 50/50 [00:25<00:00,  1.98it/s]\n"
     ]
    },
    {
     "name": "stdout",
     "output_type": "stream",
     "text": [
      "Train Loss: 0.0279 | Val Loss: 0.1790 | SpearmanR: 0.4773\n"
     ]
    },
    {
     "name": "stderr",
     "output_type": "stream",
     "text": [
      "[Testing]: 100%|██████████| 25/25 [00:00<00:00, 71.97it/s]\n"
     ]
    },
    {
     "name": "stdout",
     "output_type": "stream",
     "text": [
      "\n",
      "Training and evaluating model using 64 randomly selected samples...\n"
     ]
    },
    {
     "name": "stderr",
     "output_type": "stream",
     "text": [
      "[Training]: 100%|██████████| 50/50 [00:25<00:00,  1.94it/s]\n"
     ]
    },
    {
     "name": "stdout",
     "output_type": "stream",
     "text": [
      "Train Loss: 0.0553 | Val Loss: 0.1688 | SpearmanR: 0.4878\n"
     ]
    },
    {
     "name": "stderr",
     "output_type": "stream",
     "text": [
      "[Testing]: 100%|██████████| 25/25 [00:00<00:00, 72.44it/s]\n"
     ]
    },
    {
     "name": "stdout",
     "output_type": "stream",
     "text": [
      "Progress for experiment 3 appended to results/02_mc_dropout/active_vs_standard_learning_curve.csv\n",
      "Starting ensemble training and pool evaluation...\n"
     ]
    },
    {
     "name": "stderr",
     "output_type": "stream",
     "text": [
      "MC Dropout Passes: 100%|██████████| 24/24 [00:51<00:00,  2.14s/it]\n"
     ]
    },
    {
     "name": "stdout",
     "output_type": "stream",
     "text": [
      "\n",
      "Cycle 5/16\n",
      "-------------------------------------------------\n",
      "Saving variance distribution to results/02_mc_dropout/variances5.csv...\n",
      "Save complete.\n",
      "Selecting new data points...\n",
      "\n",
      "Training and evaluating model using 80 actively selected samples...\n"
     ]
    },
    {
     "name": "stderr",
     "output_type": "stream",
     "text": [
      "[Training]:  66%|██████▌   | 33/50 [00:18<00:09,  1.81it/s]\n"
     ]
    },
    {
     "name": "stdout",
     "output_type": "stream",
     "text": [
      "Early stopping triggered after 10 epochs with no improvement.\n",
      "Train Loss: 0.0313 | Val Loss: 0.1769 | SpearmanR: 0.5490\n"
     ]
    },
    {
     "name": "stderr",
     "output_type": "stream",
     "text": [
      "[Testing]: 100%|██████████| 25/25 [00:00<00:00, 73.04it/s]\n"
     ]
    },
    {
     "name": "stdout",
     "output_type": "stream",
     "text": [
      "\n",
      "Training and evaluating model using 80 randomly selected samples...\n"
     ]
    },
    {
     "name": "stderr",
     "output_type": "stream",
     "text": [
      "[Training]:  60%|██████    | 30/50 [00:16<00:11,  1.78it/s]\n"
     ]
    },
    {
     "name": "stdout",
     "output_type": "stream",
     "text": [
      "Early stopping triggered after 10 epochs with no improvement.\n",
      "Train Loss: 0.0411 | Val Loss: 0.1942 | SpearmanR: 0.4401\n"
     ]
    },
    {
     "name": "stderr",
     "output_type": "stream",
     "text": [
      "[Testing]: 100%|██████████| 25/25 [00:00<00:00, 73.06it/s]\n"
     ]
    },
    {
     "name": "stdout",
     "output_type": "stream",
     "text": [
      "Progress for experiment 4 appended to results/02_mc_dropout/active_vs_standard_learning_curve.csv\n",
      "Starting ensemble training and pool evaluation...\n"
     ]
    },
    {
     "name": "stderr",
     "output_type": "stream",
     "text": [
      "MC Dropout Passes: 100%|██████████| 24/24 [00:51<00:00,  2.14s/it]\n"
     ]
    },
    {
     "name": "stdout",
     "output_type": "stream",
     "text": [
      "\n",
      "Cycle 6/16\n",
      "-------------------------------------------------\n",
      "Saving variance distribution to results/02_mc_dropout/variances6.csv...\n",
      "Save complete.\n",
      "Selecting new data points...\n",
      "\n",
      "Training and evaluating model using 96 actively selected samples...\n"
     ]
    },
    {
     "name": "stderr",
     "output_type": "stream",
     "text": [
      "[Training]:  88%|████████▊ | 44/50 [00:25<00:03,  1.69it/s]\n"
     ]
    },
    {
     "name": "stdout",
     "output_type": "stream",
     "text": [
      "Early stopping triggered after 10 epochs with no improvement.\n",
      "Train Loss: 0.0175 | Val Loss: 0.1745 | SpearmanR: 0.5485\n"
     ]
    },
    {
     "name": "stderr",
     "output_type": "stream",
     "text": [
      "[Testing]: 100%|██████████| 25/25 [00:00<00:00, 72.17it/s]\n"
     ]
    },
    {
     "name": "stdout",
     "output_type": "stream",
     "text": [
      "\n",
      "Training and evaluating model using 96 randomly selected samples...\n"
     ]
    },
    {
     "name": "stderr",
     "output_type": "stream",
     "text": [
      "[Training]:  24%|██▍       | 12/50 [00:07<00:24,  1.53it/s]\n"
     ]
    },
    {
     "name": "stdout",
     "output_type": "stream",
     "text": [
      "Early stopping triggered after 10 epochs with no improvement.\n",
      "Train Loss: 0.1334 | Val Loss: 0.1503 | SpearmanR: 0.4549\n"
     ]
    },
    {
     "name": "stderr",
     "output_type": "stream",
     "text": [
      "[Testing]: 100%|██████████| 25/25 [00:00<00:00, 72.79it/s]\n"
     ]
    },
    {
     "name": "stdout",
     "output_type": "stream",
     "text": [
      "Progress for experiment 5 appended to results/02_mc_dropout/active_vs_standard_learning_curve.csv\n",
      "Starting ensemble training and pool evaluation...\n"
     ]
    },
    {
     "name": "stderr",
     "output_type": "stream",
     "text": [
      "MC Dropout Passes: 100%|██████████| 24/24 [00:50<00:00,  2.09s/it]\n"
     ]
    },
    {
     "name": "stdout",
     "output_type": "stream",
     "text": [
      "\n",
      "Cycle 7/16\n",
      "-------------------------------------------------\n",
      "Saving variance distribution to results/02_mc_dropout/variances7.csv...\n",
      "Save complete.\n",
      "Selecting new data points...\n",
      "\n",
      "Training and evaluating model using 112 actively selected samples...\n"
     ]
    },
    {
     "name": "stderr",
     "output_type": "stream",
     "text": [
      "[Training]:  46%|████▌     | 23/50 [00:16<00:18,  1.43it/s]\n"
     ]
    },
    {
     "name": "stdout",
     "output_type": "stream",
     "text": [
      "Early stopping triggered after 10 epochs with no improvement.\n",
      "Train Loss: 0.0641 | Val Loss: 0.1563 | SpearmanR: 0.5351\n"
     ]
    },
    {
     "name": "stderr",
     "output_type": "stream",
     "text": [
      "[Testing]: 100%|██████████| 25/25 [00:00<00:00, 74.04it/s]\n"
     ]
    },
    {
     "name": "stdout",
     "output_type": "stream",
     "text": [
      "\n",
      "Training and evaluating model using 112 randomly selected samples...\n"
     ]
    },
    {
     "name": "stderr",
     "output_type": "stream",
     "text": [
      "[Training]:  72%|███████▏  | 36/50 [00:26<00:10,  1.35it/s]\n"
     ]
    },
    {
     "name": "stdout",
     "output_type": "stream",
     "text": [
      "Early stopping triggered after 10 epochs with no improvement.\n",
      "Train Loss: 0.0154 | Val Loss: 0.1417 | SpearmanR: 0.5573\n"
     ]
    },
    {
     "name": "stderr",
     "output_type": "stream",
     "text": [
      "[Testing]: 100%|██████████| 25/25 [00:00<00:00, 73.97it/s]\n"
     ]
    },
    {
     "name": "stdout",
     "output_type": "stream",
     "text": [
      "Progress for experiment 6 appended to results/02_mc_dropout/active_vs_standard_learning_curve.csv\n",
      "Starting ensemble training and pool evaluation...\n"
     ]
    },
    {
     "name": "stderr",
     "output_type": "stream",
     "text": [
      "MC Dropout Passes: 100%|██████████| 24/24 [00:49<00:00,  2.08s/it]\n"
     ]
    },
    {
     "name": "stdout",
     "output_type": "stream",
     "text": [
      "\n",
      "Cycle 8/16\n",
      "-------------------------------------------------\n",
      "Saving variance distribution to results/02_mc_dropout/variances8.csv...\n",
      "Save complete.\n",
      "Selecting new data points...\n",
      "\n",
      "Training and evaluating model using 128 actively selected samples...\n"
     ]
    },
    {
     "name": "stderr",
     "output_type": "stream",
     "text": [
      "[Training]: 100%|██████████| 50/50 [00:36<00:00,  1.36it/s]\n"
     ]
    },
    {
     "name": "stdout",
     "output_type": "stream",
     "text": [
      "Train Loss: 0.0224 | Val Loss: 0.1439 | SpearmanR: 0.6152\n"
     ]
    },
    {
     "name": "stderr",
     "output_type": "stream",
     "text": [
      "[Testing]: 100%|██████████| 25/25 [00:00<00:00, 74.39it/s]\n"
     ]
    },
    {
     "name": "stdout",
     "output_type": "stream",
     "text": [
      "\n",
      "Training and evaluating model using 128 randomly selected samples...\n"
     ]
    },
    {
     "name": "stderr",
     "output_type": "stream",
     "text": [
      "[Training]: 100%|██████████| 50/50 [00:41<00:00,  1.21it/s]\n"
     ]
    },
    {
     "name": "stdout",
     "output_type": "stream",
     "text": [
      "Train Loss: 0.0206 | Val Loss: 0.1617 | SpearmanR: 0.5830\n"
     ]
    },
    {
     "name": "stderr",
     "output_type": "stream",
     "text": [
      "[Testing]: 100%|██████████| 25/25 [00:00<00:00, 74.07it/s]\n"
     ]
    },
    {
     "name": "stdout",
     "output_type": "stream",
     "text": [
      "Progress for experiment 7 appended to results/02_mc_dropout/active_vs_standard_learning_curve.csv\n",
      "Starting ensemble training and pool evaluation...\n"
     ]
    },
    {
     "name": "stderr",
     "output_type": "stream",
     "text": [
      "MC Dropout Passes: 100%|██████████| 24/24 [00:49<00:00,  2.06s/it]\n"
     ]
    },
    {
     "name": "stdout",
     "output_type": "stream",
     "text": [
      "\n",
      "Cycle 9/16\n",
      "-------------------------------------------------\n",
      "Saving variance distribution to results/02_mc_dropout/variances9.csv...\n",
      "Save complete.\n",
      "Selecting new data points...\n",
      "\n",
      "Training and evaluating model using 144 actively selected samples...\n"
     ]
    },
    {
     "name": "stderr",
     "output_type": "stream",
     "text": [
      "[Training]:  96%|█████████▌| 48/50 [00:41<00:01,  1.16it/s]\n"
     ]
    },
    {
     "name": "stdout",
     "output_type": "stream",
     "text": [
      "Early stopping triggered after 10 epochs with no improvement.\n",
      "Train Loss: 0.0276 | Val Loss: 0.1649 | SpearmanR: 0.5648\n"
     ]
    },
    {
     "name": "stderr",
     "output_type": "stream",
     "text": [
      "[Testing]: 100%|██████████| 25/25 [00:00<00:00, 74.03it/s]\n"
     ]
    },
    {
     "name": "stdout",
     "output_type": "stream",
     "text": [
      "\n",
      "Training and evaluating model using 144 randomly selected samples...\n"
     ]
    },
    {
     "name": "stderr",
     "output_type": "stream",
     "text": [
      "[Training]:  72%|███████▏  | 36/50 [00:28<00:10,  1.29it/s]\n"
     ]
    },
    {
     "name": "stdout",
     "output_type": "stream",
     "text": [
      "Early stopping triggered after 10 epochs with no improvement.\n",
      "Train Loss: 0.0505 | Val Loss: 0.1197 | SpearmanR: 0.6391\n"
     ]
    },
    {
     "name": "stderr",
     "output_type": "stream",
     "text": [
      "[Testing]: 100%|██████████| 25/25 [00:00<00:00, 73.68it/s]\n"
     ]
    },
    {
     "name": "stdout",
     "output_type": "stream",
     "text": [
      "Progress for experiment 8 appended to results/02_mc_dropout/active_vs_standard_learning_curve.csv\n",
      "Starting ensemble training and pool evaluation...\n"
     ]
    },
    {
     "name": "stderr",
     "output_type": "stream",
     "text": [
      "MC Dropout Passes: 100%|██████████| 24/24 [00:49<00:00,  2.07s/it]\n"
     ]
    },
    {
     "name": "stdout",
     "output_type": "stream",
     "text": [
      "\n",
      "Cycle 10/16\n",
      "-------------------------------------------------\n",
      "Saving variance distribution to results/02_mc_dropout/variances10.csv...\n",
      "Save complete.\n",
      "Selecting new data points...\n",
      "\n",
      "Training and evaluating model using 160 actively selected samples...\n"
     ]
    },
    {
     "name": "stderr",
     "output_type": "stream",
     "text": [
      "[Training]:  86%|████████▌ | 43/50 [00:31<00:05,  1.37it/s]\n"
     ]
    },
    {
     "name": "stdout",
     "output_type": "stream",
     "text": [
      "Early stopping triggered after 10 epochs with no improvement.\n",
      "Train Loss: 0.0312 | Val Loss: 0.1337 | SpearmanR: 0.5957\n"
     ]
    },
    {
     "name": "stderr",
     "output_type": "stream",
     "text": [
      "[Testing]: 100%|██████████| 25/25 [00:00<00:00, 73.43it/s]\n"
     ]
    },
    {
     "name": "stdout",
     "output_type": "stream",
     "text": [
      "\n",
      "Training and evaluating model using 160 randomly selected samples...\n"
     ]
    },
    {
     "name": "stderr",
     "output_type": "stream",
     "text": [
      "[Training]: 100%|██████████| 50/50 [00:35<00:00,  1.40it/s]\n"
     ]
    },
    {
     "name": "stdout",
     "output_type": "stream",
     "text": [
      "Train Loss: 0.0351 | Val Loss: 0.1425 | SpearmanR: 0.6527\n"
     ]
    },
    {
     "name": "stderr",
     "output_type": "stream",
     "text": [
      "[Testing]: 100%|██████████| 25/25 [00:00<00:00, 73.47it/s]\n"
     ]
    },
    {
     "name": "stdout",
     "output_type": "stream",
     "text": [
      "Progress for experiment 9 appended to results/02_mc_dropout/active_vs_standard_learning_curve.csv\n",
      "Starting ensemble training and pool evaluation...\n"
     ]
    },
    {
     "name": "stderr",
     "output_type": "stream",
     "text": [
      "MC Dropout Passes: 100%|██████████| 24/24 [00:49<00:00,  2.06s/it]\n"
     ]
    },
    {
     "name": "stdout",
     "output_type": "stream",
     "text": [
      "\n",
      "Cycle 11/16\n",
      "-------------------------------------------------\n",
      "Saving variance distribution to results/02_mc_dropout/variances11.csv...\n",
      "Save complete.\n",
      "Selecting new data points...\n",
      "\n",
      "Training and evaluating model using 176 actively selected samples...\n"
     ]
    },
    {
     "name": "stderr",
     "output_type": "stream",
     "text": [
      "[Training]: 100%|██████████| 50/50 [00:36<00:00,  1.35it/s]\n"
     ]
    },
    {
     "name": "stdout",
     "output_type": "stream",
     "text": [
      "Train Loss: 0.0425 | Val Loss: 0.1459 | SpearmanR: 0.6037\n"
     ]
    },
    {
     "name": "stderr",
     "output_type": "stream",
     "text": [
      "[Testing]: 100%|██████████| 25/25 [00:00<00:00, 73.27it/s]\n"
     ]
    },
    {
     "name": "stdout",
     "output_type": "stream",
     "text": [
      "\n",
      "Training and evaluating model using 176 randomly selected samples...\n"
     ]
    },
    {
     "name": "stderr",
     "output_type": "stream",
     "text": [
      "[Training]:  96%|█████████▌| 48/50 [00:36<00:01,  1.31it/s]\n"
     ]
    },
    {
     "name": "stdout",
     "output_type": "stream",
     "text": [
      "Early stopping triggered after 10 epochs with no improvement.\n",
      "Train Loss: 0.0194 | Val Loss: 0.1579 | SpearmanR: 0.6019\n"
     ]
    },
    {
     "name": "stderr",
     "output_type": "stream",
     "text": [
      "[Testing]: 100%|██████████| 25/25 [00:00<00:00, 73.67it/s]\n"
     ]
    },
    {
     "name": "stdout",
     "output_type": "stream",
     "text": [
      "Progress for experiment 10 appended to results/02_mc_dropout/active_vs_standard_learning_curve.csv\n",
      "Starting ensemble training and pool evaluation...\n"
     ]
    },
    {
     "name": "stderr",
     "output_type": "stream",
     "text": [
      "MC Dropout Passes: 100%|██████████| 24/24 [08:44<00:00, 21.87s/it] \n"
     ]
    },
    {
     "name": "stdout",
     "output_type": "stream",
     "text": [
      "\n",
      "Cycle 12/16\n",
      "-------------------------------------------------\n",
      "Saving variance distribution to results/02_mc_dropout/variances12.csv...\n",
      "Save complete.\n",
      "Selecting new data points...\n",
      "\n",
      "Training and evaluating model using 192 actively selected samples...\n"
     ]
    },
    {
     "name": "stderr",
     "output_type": "stream",
     "text": [
      "[Training]:  88%|████████▊ | 44/50 [00:35<00:04,  1.24it/s]\n"
     ]
    },
    {
     "name": "stdout",
     "output_type": "stream",
     "text": [
      "Early stopping triggered after 10 epochs with no improvement.\n",
      "Train Loss: 0.0480 | Val Loss: 0.1434 | SpearmanR: 0.6488\n"
     ]
    },
    {
     "name": "stderr",
     "output_type": "stream",
     "text": [
      "[Testing]: 100%|██████████| 25/25 [00:00<00:00, 72.18it/s]\n"
     ]
    },
    {
     "name": "stdout",
     "output_type": "stream",
     "text": [
      "\n",
      "Training and evaluating model using 192 randomly selected samples...\n"
     ]
    },
    {
     "name": "stderr",
     "output_type": "stream",
     "text": [
      "[Training]:  70%|███████   | 35/50 [00:28<00:12,  1.21it/s]\n"
     ]
    },
    {
     "name": "stdout",
     "output_type": "stream",
     "text": [
      "Early stopping triggered after 10 epochs with no improvement.\n",
      "Train Loss: 0.0469 | Val Loss: 0.1227 | SpearmanR: 0.6404\n"
     ]
    },
    {
     "name": "stderr",
     "output_type": "stream",
     "text": [
      "[Testing]: 100%|██████████| 25/25 [00:00<00:00, 72.37it/s]\n"
     ]
    },
    {
     "name": "stdout",
     "output_type": "stream",
     "text": [
      "Progress for experiment 11 appended to results/02_mc_dropout/active_vs_standard_learning_curve.csv\n",
      "Starting ensemble training and pool evaluation...\n"
     ]
    },
    {
     "name": "stderr",
     "output_type": "stream",
     "text": [
      "MC Dropout Passes: 100%|██████████| 24/24 [00:49<00:00,  2.06s/it]\n"
     ]
    },
    {
     "name": "stdout",
     "output_type": "stream",
     "text": [
      "\n",
      "Cycle 13/16\n",
      "-------------------------------------------------\n",
      "Saving variance distribution to results/02_mc_dropout/variances13.csv...\n",
      "Save complete.\n",
      "Selecting new data points...\n",
      "\n",
      "Training and evaluating model using 208 actively selected samples...\n"
     ]
    },
    {
     "name": "stderr",
     "output_type": "stream",
     "text": [
      "[Training]:  84%|████████▍ | 42/50 [00:34<00:06,  1.21it/s]\n"
     ]
    },
    {
     "name": "stdout",
     "output_type": "stream",
     "text": [
      "Early stopping triggered after 10 epochs with no improvement.\n",
      "Train Loss: 0.0350 | Val Loss: 0.1390 | SpearmanR: 0.6288\n"
     ]
    },
    {
     "name": "stderr",
     "output_type": "stream",
     "text": [
      "[Testing]: 100%|██████████| 25/25 [00:00<00:00, 72.60it/s]\n"
     ]
    },
    {
     "name": "stdout",
     "output_type": "stream",
     "text": [
      "\n",
      "Training and evaluating model using 208 randomly selected samples...\n"
     ]
    },
    {
     "name": "stderr",
     "output_type": "stream",
     "text": [
      "[Training]:  86%|████████▌ | 43/50 [00:36<00:05,  1.18it/s]\n"
     ]
    },
    {
     "name": "stdout",
     "output_type": "stream",
     "text": [
      "Early stopping triggered after 10 epochs with no improvement.\n",
      "Train Loss: 0.0168 | Val Loss: 0.1222 | SpearmanR: 0.6614\n"
     ]
    },
    {
     "name": "stderr",
     "output_type": "stream",
     "text": [
      "[Testing]: 100%|██████████| 25/25 [00:00<00:00, 73.25it/s]\n"
     ]
    },
    {
     "name": "stdout",
     "output_type": "stream",
     "text": [
      "Progress for experiment 12 appended to results/02_mc_dropout/active_vs_standard_learning_curve.csv\n",
      "Starting ensemble training and pool evaluation...\n"
     ]
    },
    {
     "name": "stderr",
     "output_type": "stream",
     "text": [
      "MC Dropout Passes: 100%|██████████| 24/24 [00:49<00:00,  2.04s/it]\n"
     ]
    },
    {
     "name": "stdout",
     "output_type": "stream",
     "text": [
      "\n",
      "Cycle 14/16\n",
      "-------------------------------------------------\n",
      "Saving variance distribution to results/02_mc_dropout/variances14.csv...\n",
      "Save complete.\n",
      "Selecting new data points...\n",
      "\n",
      "Training and evaluating model using 224 actively selected samples...\n"
     ]
    },
    {
     "name": "stderr",
     "output_type": "stream",
     "text": [
      "[Training]:  74%|███████▍  | 37/50 [00:32<00:11,  1.12it/s]\n"
     ]
    },
    {
     "name": "stdout",
     "output_type": "stream",
     "text": [
      "Early stopping triggered after 10 epochs with no improvement.\n",
      "Train Loss: 0.0309 | Val Loss: 0.1252 | SpearmanR: 0.6366\n"
     ]
    },
    {
     "name": "stderr",
     "output_type": "stream",
     "text": [
      "[Testing]: 100%|██████████| 25/25 [00:00<00:00, 72.41it/s]\n"
     ]
    },
    {
     "name": "stdout",
     "output_type": "stream",
     "text": [
      "\n",
      "Training and evaluating model using 224 randomly selected samples...\n"
     ]
    },
    {
     "name": "stderr",
     "output_type": "stream",
     "text": [
      "[Training]:  96%|█████████▌| 48/50 [00:41<00:01,  1.16it/s]\n"
     ]
    },
    {
     "name": "stdout",
     "output_type": "stream",
     "text": [
      "Early stopping triggered after 10 epochs with no improvement.\n",
      "Train Loss: 0.0144 | Val Loss: 0.1310 | SpearmanR: 0.6507\n"
     ]
    },
    {
     "name": "stderr",
     "output_type": "stream",
     "text": [
      "[Testing]: 100%|██████████| 25/25 [00:00<00:00, 72.62it/s]\n"
     ]
    },
    {
     "name": "stdout",
     "output_type": "stream",
     "text": [
      "Progress for experiment 13 appended to results/02_mc_dropout/active_vs_standard_learning_curve.csv\n",
      "Starting ensemble training and pool evaluation...\n"
     ]
    },
    {
     "name": "stderr",
     "output_type": "stream",
     "text": [
      "MC Dropout Passes: 100%|██████████| 24/24 [00:48<00:00,  2.02s/it]\n"
     ]
    },
    {
     "name": "stdout",
     "output_type": "stream",
     "text": [
      "\n",
      "Cycle 15/16\n",
      "-------------------------------------------------\n",
      "Saving variance distribution to results/02_mc_dropout/variances15.csv...\n",
      "Save complete.\n",
      "Selecting new data points...\n",
      "\n",
      "Training and evaluating model using 240 actively selected samples...\n"
     ]
    },
    {
     "name": "stderr",
     "output_type": "stream",
     "text": [
      "[Training]:  94%|█████████▍| 47/50 [00:43<00:02,  1.09it/s]\n"
     ]
    },
    {
     "name": "stdout",
     "output_type": "stream",
     "text": [
      "Early stopping triggered after 10 epochs with no improvement.\n",
      "Train Loss: 0.0175 | Val Loss: 0.1109 | SpearmanR: 0.6796\n"
     ]
    },
    {
     "name": "stderr",
     "output_type": "stream",
     "text": [
      "[Testing]: 100%|██████████| 25/25 [00:00<00:00, 72.85it/s]\n"
     ]
    },
    {
     "name": "stdout",
     "output_type": "stream",
     "text": [
      "\n",
      "Training and evaluating model using 240 randomly selected samples...\n"
     ]
    },
    {
     "name": "stderr",
     "output_type": "stream",
     "text": [
      "[Training]: 100%|██████████| 50/50 [00:44<00:00,  1.13it/s]\n"
     ]
    },
    {
     "name": "stdout",
     "output_type": "stream",
     "text": [
      "Train Loss: 0.0221 | Val Loss: 0.0970 | SpearmanR: 0.7059\n"
     ]
    },
    {
     "name": "stderr",
     "output_type": "stream",
     "text": [
      "[Testing]: 100%|██████████| 25/25 [00:00<00:00, 72.26it/s]\n"
     ]
    },
    {
     "name": "stdout",
     "output_type": "stream",
     "text": [
      "Progress for experiment 14 appended to results/02_mc_dropout/active_vs_standard_learning_curve.csv\n",
      "Starting ensemble training and pool evaluation...\n"
     ]
    },
    {
     "name": "stderr",
     "output_type": "stream",
     "text": [
      "MC Dropout Passes: 100%|██████████| 24/24 [00:48<00:00,  2.03s/it]\n"
     ]
    },
    {
     "name": "stdout",
     "output_type": "stream",
     "text": [
      "\n",
      "Cycle 16/16\n",
      "-------------------------------------------------\n",
      "Saving variance distribution to results/02_mc_dropout/variances16.csv...\n",
      "Save complete.\n",
      "Selecting new data points...\n",
      "\n",
      "Training and evaluating model using 256 actively selected samples...\n"
     ]
    },
    {
     "name": "stderr",
     "output_type": "stream",
     "text": [
      "[Training]: 100%|██████████| 50/50 [00:45<00:00,  1.11it/s]\n"
     ]
    },
    {
     "name": "stdout",
     "output_type": "stream",
     "text": [
      "Train Loss: 0.0136 | Val Loss: 0.1171 | SpearmanR: 0.6647\n"
     ]
    },
    {
     "name": "stderr",
     "output_type": "stream",
     "text": [
      "[Testing]: 100%|██████████| 25/25 [00:00<00:00, 72.09it/s]\n"
     ]
    },
    {
     "name": "stdout",
     "output_type": "stream",
     "text": [
      "\n",
      "Training and evaluating model using 256 randomly selected samples...\n"
     ]
    },
    {
     "name": "stderr",
     "output_type": "stream",
     "text": [
      "[Training]: 100%|██████████| 50/50 [00:46<00:00,  1.08it/s]\n"
     ]
    },
    {
     "name": "stdout",
     "output_type": "stream",
     "text": [
      "Train Loss: 0.0124 | Val Loss: 0.0938 | SpearmanR: 0.7219\n"
     ]
    },
    {
     "name": "stderr",
     "output_type": "stream",
     "text": [
      "[Testing]: 100%|██████████| 25/25 [00:00<00:00, 72.21it/s]"
     ]
    },
    {
     "name": "stdout",
     "output_type": "stream",
     "text": [
      "Progress for experiment 15 appended to results/02_mc_dropout/active_vs_standard_learning_curve.csv\n",
      "Experiments complete.\n"
     ]
    },
    {
     "name": "stderr",
     "output_type": "stream",
     "text": [
      "\n"
     ]
    },
    {
     "data": {
      "text/html": [
       "<div>\n",
       "<style scoped>\n",
       "    .dataframe tbody tr th:only-of-type {\n",
       "        vertical-align: middle;\n",
       "    }\n",
       "\n",
       "    .dataframe tbody tr th {\n",
       "        vertical-align: top;\n",
       "    }\n",
       "\n",
       "    .dataframe thead th {\n",
       "        text-align: right;\n",
       "    }\n",
       "</style>\n",
       "<table border=\"1\" class=\"dataframe\">\n",
       "  <thead>\n",
       "    <tr style=\"text-align: right;\">\n",
       "      <th></th>\n",
       "      <th>changing_var</th>\n",
       "      <th>local_exp_idx</th>\n",
       "      <th>value</th>\n",
       "      <th>training_method</th>\n",
       "      <th>avg_test_loss</th>\n",
       "      <th>spearmanr</th>\n",
       "      <th>pearsonr</th>\n",
       "      <th>final_mse</th>\n",
       "    </tr>\n",
       "  </thead>\n",
       "  <tbody>\n",
       "    <tr>\n",
       "      <th>0</th>\n",
       "      <td>n_samples</td>\n",
       "      <td>0</td>\n",
       "      <td>16</td>\n",
       "      <td>active</td>\n",
       "      <td>0.201972</td>\n",
       "      <td>0.342964</td>\n",
       "      <td>0.267876</td>\n",
       "      <td>0.202025</td>\n",
       "    </tr>\n",
       "    <tr>\n",
       "      <th>1</th>\n",
       "      <td>n_samples</td>\n",
       "      <td>0</td>\n",
       "      <td>16</td>\n",
       "      <td>standard</td>\n",
       "      <td>0.255758</td>\n",
       "      <td>0.378769</td>\n",
       "      <td>0.378958</td>\n",
       "      <td>0.256003</td>\n",
       "    </tr>\n",
       "    <tr>\n",
       "      <th>2</th>\n",
       "      <td>n_samples</td>\n",
       "      <td>1</td>\n",
       "      <td>32</td>\n",
       "      <td>active</td>\n",
       "      <td>0.161405</td>\n",
       "      <td>0.477551</td>\n",
       "      <td>0.449355</td>\n",
       "      <td>0.161907</td>\n",
       "    </tr>\n",
       "    <tr>\n",
       "      <th>3</th>\n",
       "      <td>n_samples</td>\n",
       "      <td>1</td>\n",
       "      <td>32</td>\n",
       "      <td>standard</td>\n",
       "      <td>0.204779</td>\n",
       "      <td>0.291629</td>\n",
       "      <td>0.253262</td>\n",
       "      <td>0.204862</td>\n",
       "    </tr>\n",
       "    <tr>\n",
       "      <th>4</th>\n",
       "      <td>n_samples</td>\n",
       "      <td>2</td>\n",
       "      <td>48</td>\n",
       "      <td>active</td>\n",
       "      <td>0.200616</td>\n",
       "      <td>0.158285</td>\n",
       "      <td>0.223110</td>\n",
       "      <td>0.200577</td>\n",
       "    </tr>\n",
       "    <tr>\n",
       "      <th>...</th>\n",
       "      <td>...</td>\n",
       "      <td>...</td>\n",
       "      <td>...</td>\n",
       "      <td>...</td>\n",
       "      <td>...</td>\n",
       "      <td>...</td>\n",
       "      <td>...</td>\n",
       "      <td>...</td>\n",
       "    </tr>\n",
       "    <tr>\n",
       "      <th>61</th>\n",
       "      <td>n_samples</td>\n",
       "      <td>13</td>\n",
       "      <td>224</td>\n",
       "      <td>standard</td>\n",
       "      <td>0.112046</td>\n",
       "      <td>0.699359</td>\n",
       "      <td>0.689481</td>\n",
       "      <td>0.111939</td>\n",
       "    </tr>\n",
       "    <tr>\n",
       "      <th>62</th>\n",
       "      <td>n_samples</td>\n",
       "      <td>14</td>\n",
       "      <td>240</td>\n",
       "      <td>active</td>\n",
       "      <td>0.120508</td>\n",
       "      <td>0.659675</td>\n",
       "      <td>0.661392</td>\n",
       "      <td>0.120622</td>\n",
       "    </tr>\n",
       "    <tr>\n",
       "      <th>63</th>\n",
       "      <td>n_samples</td>\n",
       "      <td>14</td>\n",
       "      <td>240</td>\n",
       "      <td>standard</td>\n",
       "      <td>0.120112</td>\n",
       "      <td>0.704371</td>\n",
       "      <td>0.695376</td>\n",
       "      <td>0.120664</td>\n",
       "    </tr>\n",
       "    <tr>\n",
       "      <th>64</th>\n",
       "      <td>n_samples</td>\n",
       "      <td>15</td>\n",
       "      <td>256</td>\n",
       "      <td>active</td>\n",
       "      <td>0.116768</td>\n",
       "      <td>0.684547</td>\n",
       "      <td>0.683357</td>\n",
       "      <td>0.117253</td>\n",
       "    </tr>\n",
       "    <tr>\n",
       "      <th>65</th>\n",
       "      <td>n_samples</td>\n",
       "      <td>15</td>\n",
       "      <td>256</td>\n",
       "      <td>standard</td>\n",
       "      <td>0.102367</td>\n",
       "      <td>0.704682</td>\n",
       "      <td>0.700171</td>\n",
       "      <td>0.102411</td>\n",
       "    </tr>\n",
       "  </tbody>\n",
       "</table>\n",
       "<p>66 rows × 8 columns</p>\n",
       "</div>"
      ],
      "text/plain": [
       "   changing_var  local_exp_idx  value training_method  avg_test_loss  \\\n",
       "0     n_samples              0     16          active       0.201972   \n",
       "1     n_samples              0     16        standard       0.255758   \n",
       "2     n_samples              1     32          active       0.161405   \n",
       "3     n_samples              1     32        standard       0.204779   \n",
       "4     n_samples              2     48          active       0.200616   \n",
       "..          ...            ...    ...             ...            ...   \n",
       "61    n_samples             13    224        standard       0.112046   \n",
       "62    n_samples             14    240          active       0.120508   \n",
       "63    n_samples             14    240        standard       0.120112   \n",
       "64    n_samples             15    256          active       0.116768   \n",
       "65    n_samples             15    256        standard       0.102367   \n",
       "\n",
       "    spearmanr  pearsonr  final_mse  \n",
       "0    0.342964  0.267876   0.202025  \n",
       "1    0.378769  0.378958   0.256003  \n",
       "2    0.477551  0.449355   0.161907  \n",
       "3    0.291629  0.253262   0.204862  \n",
       "4    0.158285  0.223110   0.200577  \n",
       "..        ...       ...        ...  \n",
       "61   0.699359  0.689481   0.111939  \n",
       "62   0.659675  0.661392   0.120622  \n",
       "63   0.704371  0.695376   0.120664  \n",
       "64   0.684547  0.683357   0.117253  \n",
       "65   0.704682  0.700171   0.102411  \n",
       "\n",
       "[66 rows x 8 columns]"
      ]
     },
     "execution_count": 4,
     "metadata": {},
     "output_type": "execute_result"
    }
   ],
   "source": [
    "from scripts.config import (\n",
    "    MODEL_NAME,\n",
    "    APPROACH,\n",
    "    LEARNING_RATE,\n",
    "    WEIGHT_DECAY,\n",
    "    EPOCHS,\n",
    "    POOL_BATCH_SIZE,\n",
    "    PATIENCE,\n",
    "    K_PREDS\n",
    ")\n",
    "\n",
    "get_learning_curves(\n",
    "    n_samples=256,\n",
    "    initial_n_samples=16,\n",
    "    n_samples_per_batch=16,\n",
    "    model_name=MODEL_NAME,\n",
    "    approach=APPROACH,\n",
    "    learning_rate=LEARNING_RATE,\n",
    "    weight_decay=WEIGHT_DECAY,\n",
    "    epochs=EPOCHS,\n",
    "    training_pool=training_pool,\n",
    "    train_dataloader_batch_size=BATCH_SIZE,\n",
    "    pool_dataloader_batch_size=POOL_BATCH_SIZE,\n",
    "    val_dataloader=val_dataloader,\n",
    "    test_dataloader=test_dataloader,\n",
    "    patience=PATIENCE,\n",
    "    k_pred=K_PREDS,\n",
    "    results_path='results/02_mc_dropout/active_vs_standard_learning_curve.csv'\n",
    ")"
   ]
  },
  {
   "cell_type": "code",
   "execution_count": 9,
   "id": "617b5948",
   "metadata": {},
   "outputs": [
    {
     "data": {
      "text/html": [
       "<div>\n",
       "<style scoped>\n",
       "    .dataframe tbody tr th:only-of-type {\n",
       "        vertical-align: middle;\n",
       "    }\n",
       "\n",
       "    .dataframe tbody tr th {\n",
       "        vertical-align: top;\n",
       "    }\n",
       "\n",
       "    .dataframe thead th {\n",
       "        text-align: right;\n",
       "    }\n",
       "</style>\n",
       "<table border=\"1\" class=\"dataframe\">\n",
       "  <thead>\n",
       "    <tr style=\"text-align: right;\">\n",
       "      <th></th>\n",
       "      <th>changing_var</th>\n",
       "      <th>local_exp_idx</th>\n",
       "      <th>value</th>\n",
       "      <th>training_method</th>\n",
       "      <th>avg_test_loss</th>\n",
       "      <th>spearmanr</th>\n",
       "      <th>pearsonr</th>\n",
       "      <th>final_mse</th>\n",
       "    </tr>\n",
       "  </thead>\n",
       "  <tbody>\n",
       "    <tr>\n",
       "      <th>0</th>\n",
       "      <td>n_samples</td>\n",
       "      <td>0</td>\n",
       "      <td>16</td>\n",
       "      <td>active</td>\n",
       "      <td>0.195808</td>\n",
       "      <td>0.359393</td>\n",
       "      <td>0.347008</td>\n",
       "      <td>0.196497</td>\n",
       "    </tr>\n",
       "    <tr>\n",
       "      <th>1</th>\n",
       "      <td>n_samples</td>\n",
       "      <td>0</td>\n",
       "      <td>16</td>\n",
       "      <td>standard</td>\n",
       "      <td>0.208022</td>\n",
       "      <td>0.108390</td>\n",
       "      <td>0.151105</td>\n",
       "      <td>0.207960</td>\n",
       "    </tr>\n",
       "    <tr>\n",
       "      <th>2</th>\n",
       "      <td>n_samples</td>\n",
       "      <td>1</td>\n",
       "      <td>32</td>\n",
       "      <td>active</td>\n",
       "      <td>0.264610</td>\n",
       "      <td>0.456056</td>\n",
       "      <td>0.480326</td>\n",
       "      <td>0.265571</td>\n",
       "    </tr>\n",
       "    <tr>\n",
       "      <th>3</th>\n",
       "      <td>n_samples</td>\n",
       "      <td>1</td>\n",
       "      <td>32</td>\n",
       "      <td>standard</td>\n",
       "      <td>0.203834</td>\n",
       "      <td>0.324084</td>\n",
       "      <td>0.331453</td>\n",
       "      <td>0.204373</td>\n",
       "    </tr>\n",
       "    <tr>\n",
       "      <th>4</th>\n",
       "      <td>n_samples</td>\n",
       "      <td>2</td>\n",
       "      <td>48</td>\n",
       "      <td>active</td>\n",
       "      <td>0.160523</td>\n",
       "      <td>0.489545</td>\n",
       "      <td>0.512429</td>\n",
       "      <td>0.161426</td>\n",
       "    </tr>\n",
       "  </tbody>\n",
       "</table>\n",
       "</div>"
      ],
      "text/plain": [
       "  changing_var  local_exp_idx  value training_method  avg_test_loss  \\\n",
       "0    n_samples              0     16          active       0.195808   \n",
       "1    n_samples              0     16        standard       0.208022   \n",
       "2    n_samples              1     32          active       0.264610   \n",
       "3    n_samples              1     32        standard       0.203834   \n",
       "4    n_samples              2     48          active       0.160523   \n",
       "\n",
       "   spearmanr  pearsonr  final_mse  \n",
       "0   0.359393  0.347008   0.196497  \n",
       "1   0.108390  0.151105   0.207960  \n",
       "2   0.456056  0.480326   0.265571  \n",
       "3   0.324084  0.331453   0.204373  \n",
       "4   0.489545  0.512429   0.161426  "
      ]
     },
     "execution_count": 9,
     "metadata": {},
     "output_type": "execute_result"
    }
   ],
   "source": [
    "lc_df = pd.read_csv(\"results/02_mc_dropout/active_vs_standard_learning_curve.csv\")\n",
    "lc_df.head()"
   ]
  },
  {
   "cell_type": "code",
   "execution_count": 10,
   "id": "321dc03f",
   "metadata": {},
   "outputs": [
    {
     "data": {
      "application/vnd.plotly.v1+json": {
       "config": {
        "plotlyServerURL": "https://plot.ly"
       },
       "data": [
        {
         "hovertemplate": "training_method=active<br>value=%{x}<br>spearmanr=%{y}<extra></extra>",
         "legendgroup": "active",
         "line": {
          "color": "#636efa",
          "dash": "solid"
         },
         "marker": {
          "symbol": "circle"
         },
         "mode": "lines",
         "name": "active",
         "orientation": "v",
         "showlegend": true,
         "type": "scatter",
         "x": {
          "bdata": "EAAgADAAQABQAGAAcACAAJAAoACwAMAA0ADgAPAAAAE=",
          "dtype": "i2"
         },
         "xaxis": "x",
         "y": {
          "bdata": "////30sA1z8AAAAABDDdPwAAAKC2VN8/AAAAwDcr4D8AAABAH5jjPwAAAID9e+I/AAAAYKqw4T8AAABAnxzkPwAAACDtuuI/AAAAQBq84z8AAADgZPLjPwAAAGBc2uQ/AAAAIFgV5T8AAAAAw6LkPwAAAEAPHOU/AAAAwM/n5T8=",
          "dtype": "f8"
         },
         "yaxis": "y"
        },
        {
         "hovertemplate": "training_method=standard<br>value=%{x}<br>spearmanr=%{y}<extra></extra>",
         "legendgroup": "standard",
         "line": {
          "color": "#EF553B",
          "dash": "solid"
         },
         "marker": {
          "symbol": "circle"
         },
         "mode": "lines",
         "name": "standard",
         "orientation": "v",
         "showlegend": true,
         "type": "scatter",
         "x": {
          "bdata": "EAAgADAAQABQAGAAcACAAJAAoACwAMAA0ADgAPAAAAE=",
          "dtype": "i2"
         },
         "xaxis": "x",
         "y": {
          "bdata": "////X22/uz/////fy73UPwAAAODFFuE/AAAAgPw+4D//////7GvdPwAAAGDqr+E/AAAAAEBW4j8AAADgdFnhPwAAACDgNuQ/AAAAoMun5D8AAABglvPhPwAAAECi3OU/AAAAoG1t5T8AAADAJmHmPwAAAMA1iuY/AAAAQMGM5j8=",
          "dtype": "f8"
         },
         "yaxis": "y"
        }
       ],
       "layout": {
        "legend": {
         "title": {
          "text": "training_method"
         },
         "tracegroupgap": 0
        },
        "margin": {
         "t": 60
        },
        "template": {
         "data": {
          "bar": [
           {
            "error_x": {
             "color": "#2a3f5f"
            },
            "error_y": {
             "color": "#2a3f5f"
            },
            "marker": {
             "line": {
              "color": "#E5ECF6",
              "width": 0.5
             },
             "pattern": {
              "fillmode": "overlay",
              "size": 10,
              "solidity": 0.2
             }
            },
            "type": "bar"
           }
          ],
          "barpolar": [
           {
            "marker": {
             "line": {
              "color": "#E5ECF6",
              "width": 0.5
             },
             "pattern": {
              "fillmode": "overlay",
              "size": 10,
              "solidity": 0.2
             }
            },
            "type": "barpolar"
           }
          ],
          "carpet": [
           {
            "aaxis": {
             "endlinecolor": "#2a3f5f",
             "gridcolor": "white",
             "linecolor": "white",
             "minorgridcolor": "white",
             "startlinecolor": "#2a3f5f"
            },
            "baxis": {
             "endlinecolor": "#2a3f5f",
             "gridcolor": "white",
             "linecolor": "white",
             "minorgridcolor": "white",
             "startlinecolor": "#2a3f5f"
            },
            "type": "carpet"
           }
          ],
          "choropleth": [
           {
            "colorbar": {
             "outlinewidth": 0,
             "ticks": ""
            },
            "type": "choropleth"
           }
          ],
          "contour": [
           {
            "colorbar": {
             "outlinewidth": 0,
             "ticks": ""
            },
            "colorscale": [
             [
              0,
              "#0d0887"
             ],
             [
              0.1111111111111111,
              "#46039f"
             ],
             [
              0.2222222222222222,
              "#7201a8"
             ],
             [
              0.3333333333333333,
              "#9c179e"
             ],
             [
              0.4444444444444444,
              "#bd3786"
             ],
             [
              0.5555555555555556,
              "#d8576b"
             ],
             [
              0.6666666666666666,
              "#ed7953"
             ],
             [
              0.7777777777777778,
              "#fb9f3a"
             ],
             [
              0.8888888888888888,
              "#fdca26"
             ],
             [
              1,
              "#f0f921"
             ]
            ],
            "type": "contour"
           }
          ],
          "contourcarpet": [
           {
            "colorbar": {
             "outlinewidth": 0,
             "ticks": ""
            },
            "type": "contourcarpet"
           }
          ],
          "heatmap": [
           {
            "colorbar": {
             "outlinewidth": 0,
             "ticks": ""
            },
            "colorscale": [
             [
              0,
              "#0d0887"
             ],
             [
              0.1111111111111111,
              "#46039f"
             ],
             [
              0.2222222222222222,
              "#7201a8"
             ],
             [
              0.3333333333333333,
              "#9c179e"
             ],
             [
              0.4444444444444444,
              "#bd3786"
             ],
             [
              0.5555555555555556,
              "#d8576b"
             ],
             [
              0.6666666666666666,
              "#ed7953"
             ],
             [
              0.7777777777777778,
              "#fb9f3a"
             ],
             [
              0.8888888888888888,
              "#fdca26"
             ],
             [
              1,
              "#f0f921"
             ]
            ],
            "type": "heatmap"
           }
          ],
          "histogram": [
           {
            "marker": {
             "pattern": {
              "fillmode": "overlay",
              "size": 10,
              "solidity": 0.2
             }
            },
            "type": "histogram"
           }
          ],
          "histogram2d": [
           {
            "colorbar": {
             "outlinewidth": 0,
             "ticks": ""
            },
            "colorscale": [
             [
              0,
              "#0d0887"
             ],
             [
              0.1111111111111111,
              "#46039f"
             ],
             [
              0.2222222222222222,
              "#7201a8"
             ],
             [
              0.3333333333333333,
              "#9c179e"
             ],
             [
              0.4444444444444444,
              "#bd3786"
             ],
             [
              0.5555555555555556,
              "#d8576b"
             ],
             [
              0.6666666666666666,
              "#ed7953"
             ],
             [
              0.7777777777777778,
              "#fb9f3a"
             ],
             [
              0.8888888888888888,
              "#fdca26"
             ],
             [
              1,
              "#f0f921"
             ]
            ],
            "type": "histogram2d"
           }
          ],
          "histogram2dcontour": [
           {
            "colorbar": {
             "outlinewidth": 0,
             "ticks": ""
            },
            "colorscale": [
             [
              0,
              "#0d0887"
             ],
             [
              0.1111111111111111,
              "#46039f"
             ],
             [
              0.2222222222222222,
              "#7201a8"
             ],
             [
              0.3333333333333333,
              "#9c179e"
             ],
             [
              0.4444444444444444,
              "#bd3786"
             ],
             [
              0.5555555555555556,
              "#d8576b"
             ],
             [
              0.6666666666666666,
              "#ed7953"
             ],
             [
              0.7777777777777778,
              "#fb9f3a"
             ],
             [
              0.8888888888888888,
              "#fdca26"
             ],
             [
              1,
              "#f0f921"
             ]
            ],
            "type": "histogram2dcontour"
           }
          ],
          "mesh3d": [
           {
            "colorbar": {
             "outlinewidth": 0,
             "ticks": ""
            },
            "type": "mesh3d"
           }
          ],
          "parcoords": [
           {
            "line": {
             "colorbar": {
              "outlinewidth": 0,
              "ticks": ""
             }
            },
            "type": "parcoords"
           }
          ],
          "pie": [
           {
            "automargin": true,
            "type": "pie"
           }
          ],
          "scatter": [
           {
            "fillpattern": {
             "fillmode": "overlay",
             "size": 10,
             "solidity": 0.2
            },
            "type": "scatter"
           }
          ],
          "scatter3d": [
           {
            "line": {
             "colorbar": {
              "outlinewidth": 0,
              "ticks": ""
             }
            },
            "marker": {
             "colorbar": {
              "outlinewidth": 0,
              "ticks": ""
             }
            },
            "type": "scatter3d"
           }
          ],
          "scattercarpet": [
           {
            "marker": {
             "colorbar": {
              "outlinewidth": 0,
              "ticks": ""
             }
            },
            "type": "scattercarpet"
           }
          ],
          "scattergeo": [
           {
            "marker": {
             "colorbar": {
              "outlinewidth": 0,
              "ticks": ""
             }
            },
            "type": "scattergeo"
           }
          ],
          "scattergl": [
           {
            "marker": {
             "colorbar": {
              "outlinewidth": 0,
              "ticks": ""
             }
            },
            "type": "scattergl"
           }
          ],
          "scattermap": [
           {
            "marker": {
             "colorbar": {
              "outlinewidth": 0,
              "ticks": ""
             }
            },
            "type": "scattermap"
           }
          ],
          "scattermapbox": [
           {
            "marker": {
             "colorbar": {
              "outlinewidth": 0,
              "ticks": ""
             }
            },
            "type": "scattermapbox"
           }
          ],
          "scatterpolar": [
           {
            "marker": {
             "colorbar": {
              "outlinewidth": 0,
              "ticks": ""
             }
            },
            "type": "scatterpolar"
           }
          ],
          "scatterpolargl": [
           {
            "marker": {
             "colorbar": {
              "outlinewidth": 0,
              "ticks": ""
             }
            },
            "type": "scatterpolargl"
           }
          ],
          "scatterternary": [
           {
            "marker": {
             "colorbar": {
              "outlinewidth": 0,
              "ticks": ""
             }
            },
            "type": "scatterternary"
           }
          ],
          "surface": [
           {
            "colorbar": {
             "outlinewidth": 0,
             "ticks": ""
            },
            "colorscale": [
             [
              0,
              "#0d0887"
             ],
             [
              0.1111111111111111,
              "#46039f"
             ],
             [
              0.2222222222222222,
              "#7201a8"
             ],
             [
              0.3333333333333333,
              "#9c179e"
             ],
             [
              0.4444444444444444,
              "#bd3786"
             ],
             [
              0.5555555555555556,
              "#d8576b"
             ],
             [
              0.6666666666666666,
              "#ed7953"
             ],
             [
              0.7777777777777778,
              "#fb9f3a"
             ],
             [
              0.8888888888888888,
              "#fdca26"
             ],
             [
              1,
              "#f0f921"
             ]
            ],
            "type": "surface"
           }
          ],
          "table": [
           {
            "cells": {
             "fill": {
              "color": "#EBF0F8"
             },
             "line": {
              "color": "white"
             }
            },
            "header": {
             "fill": {
              "color": "#C8D4E3"
             },
             "line": {
              "color": "white"
             }
            },
            "type": "table"
           }
          ]
         },
         "layout": {
          "annotationdefaults": {
           "arrowcolor": "#2a3f5f",
           "arrowhead": 0,
           "arrowwidth": 1
          },
          "autotypenumbers": "strict",
          "coloraxis": {
           "colorbar": {
            "outlinewidth": 0,
            "ticks": ""
           }
          },
          "colorscale": {
           "diverging": [
            [
             0,
             "#8e0152"
            ],
            [
             0.1,
             "#c51b7d"
            ],
            [
             0.2,
             "#de77ae"
            ],
            [
             0.3,
             "#f1b6da"
            ],
            [
             0.4,
             "#fde0ef"
            ],
            [
             0.5,
             "#f7f7f7"
            ],
            [
             0.6,
             "#e6f5d0"
            ],
            [
             0.7,
             "#b8e186"
            ],
            [
             0.8,
             "#7fbc41"
            ],
            [
             0.9,
             "#4d9221"
            ],
            [
             1,
             "#276419"
            ]
           ],
           "sequential": [
            [
             0,
             "#0d0887"
            ],
            [
             0.1111111111111111,
             "#46039f"
            ],
            [
             0.2222222222222222,
             "#7201a8"
            ],
            [
             0.3333333333333333,
             "#9c179e"
            ],
            [
             0.4444444444444444,
             "#bd3786"
            ],
            [
             0.5555555555555556,
             "#d8576b"
            ],
            [
             0.6666666666666666,
             "#ed7953"
            ],
            [
             0.7777777777777778,
             "#fb9f3a"
            ],
            [
             0.8888888888888888,
             "#fdca26"
            ],
            [
             1,
             "#f0f921"
            ]
           ],
           "sequentialminus": [
            [
             0,
             "#0d0887"
            ],
            [
             0.1111111111111111,
             "#46039f"
            ],
            [
             0.2222222222222222,
             "#7201a8"
            ],
            [
             0.3333333333333333,
             "#9c179e"
            ],
            [
             0.4444444444444444,
             "#bd3786"
            ],
            [
             0.5555555555555556,
             "#d8576b"
            ],
            [
             0.6666666666666666,
             "#ed7953"
            ],
            [
             0.7777777777777778,
             "#fb9f3a"
            ],
            [
             0.8888888888888888,
             "#fdca26"
            ],
            [
             1,
             "#f0f921"
            ]
           ]
          },
          "colorway": [
           "#636efa",
           "#EF553B",
           "#00cc96",
           "#ab63fa",
           "#FFA15A",
           "#19d3f3",
           "#FF6692",
           "#B6E880",
           "#FF97FF",
           "#FECB52"
          ],
          "font": {
           "color": "#2a3f5f"
          },
          "geo": {
           "bgcolor": "white",
           "lakecolor": "white",
           "landcolor": "#E5ECF6",
           "showlakes": true,
           "showland": true,
           "subunitcolor": "white"
          },
          "hoverlabel": {
           "align": "left"
          },
          "hovermode": "closest",
          "mapbox": {
           "style": "light"
          },
          "paper_bgcolor": "white",
          "plot_bgcolor": "#E5ECF6",
          "polar": {
           "angularaxis": {
            "gridcolor": "white",
            "linecolor": "white",
            "ticks": ""
           },
           "bgcolor": "#E5ECF6",
           "radialaxis": {
            "gridcolor": "white",
            "linecolor": "white",
            "ticks": ""
           }
          },
          "scene": {
           "xaxis": {
            "backgroundcolor": "#E5ECF6",
            "gridcolor": "white",
            "gridwidth": 2,
            "linecolor": "white",
            "showbackground": true,
            "ticks": "",
            "zerolinecolor": "white"
           },
           "yaxis": {
            "backgroundcolor": "#E5ECF6",
            "gridcolor": "white",
            "gridwidth": 2,
            "linecolor": "white",
            "showbackground": true,
            "ticks": "",
            "zerolinecolor": "white"
           },
           "zaxis": {
            "backgroundcolor": "#E5ECF6",
            "gridcolor": "white",
            "gridwidth": 2,
            "linecolor": "white",
            "showbackground": true,
            "ticks": "",
            "zerolinecolor": "white"
           }
          },
          "shapedefaults": {
           "line": {
            "color": "#2a3f5f"
           }
          },
          "ternary": {
           "aaxis": {
            "gridcolor": "white",
            "linecolor": "white",
            "ticks": ""
           },
           "baxis": {
            "gridcolor": "white",
            "linecolor": "white",
            "ticks": ""
           },
           "bgcolor": "#E5ECF6",
           "caxis": {
            "gridcolor": "white",
            "linecolor": "white",
            "ticks": ""
           }
          },
          "title": {
           "x": 0.05
          },
          "xaxis": {
           "automargin": true,
           "gridcolor": "white",
           "linecolor": "white",
           "ticks": "",
           "title": {
            "standoff": 15
           },
           "zerolinecolor": "white",
           "zerolinewidth": 2
          },
          "yaxis": {
           "automargin": true,
           "gridcolor": "white",
           "linecolor": "white",
           "ticks": "",
           "title": {
            "standoff": 15
           },
           "zerolinecolor": "white",
           "zerolinewidth": 2
          }
         }
        },
        "xaxis": {
         "anchor": "y",
         "domain": [
          0,
          1
         ],
         "title": {
          "text": "Number of Training Samples"
         }
        },
        "yaxis": {
         "anchor": "x",
         "domain": [
          0,
          1
         ],
         "title": {
          "text": "Spearman Correlation Coefficient"
         }
        }
       }
      }
     },
     "metadata": {},
     "output_type": "display_data"
    }
   ],
   "source": [
    "import plotly.express as px\n",
    "\n",
    "fig = px.line(lc_df, 'value', 'spearmanr',color=\"training_method\")\n",
    "\n",
    "fig.update_layout(\n",
    "    xaxis_title=\"Number of Training Samples\",\n",
    "    yaxis_title=\"Spearman Correlation Coefficient\"\n",
    ")\n",
    "\n",
    "fig.show()"
   ]
  },
  {
   "cell_type": "markdown",
   "id": "1cb50072",
   "metadata": {},
   "source": [
    "Rather than a consisent under performance like last time, we at least see comparable performance. This suggests to me that the large number of predictions being made is helping to better understand the true variance."
   ]
  },
  {
   "cell_type": "code",
   "execution_count": null,
   "id": "01a7fe50",
   "metadata": {},
   "outputs": [
    {
     "data": {
      "text/html": [
       "<div>\n",
       "<style scoped>\n",
       "    .dataframe tbody tr th:only-of-type {\n",
       "        vertical-align: middle;\n",
       "    }\n",
       "\n",
       "    .dataframe tbody tr th {\n",
       "        vertical-align: top;\n",
       "    }\n",
       "\n",
       "    .dataframe thead th {\n",
       "        text-align: right;\n",
       "    }\n",
       "</style>\n",
       "<table border=\"1\" class=\"dataframe\">\n",
       "  <thead>\n",
       "    <tr style=\"text-align: right;\">\n",
       "      <th></th>\n",
       "      <th>variances10</th>\n",
       "      <th>variances11</th>\n",
       "      <th>variances12</th>\n",
       "      <th>variances13</th>\n",
       "      <th>variances14</th>\n",
       "      <th>variances15</th>\n",
       "      <th>variances16</th>\n",
       "      <th>variances2</th>\n",
       "      <th>variances3</th>\n",
       "      <th>variances4</th>\n",
       "      <th>variances5</th>\n",
       "      <th>variances6</th>\n",
       "      <th>variances7</th>\n",
       "      <th>variances8</th>\n",
       "      <th>variances9</th>\n",
       "    </tr>\n",
       "  </thead>\n",
       "  <tbody>\n",
       "    <tr>\n",
       "      <th>0</th>\n",
       "      <td>0.011277</td>\n",
       "      <td>0.008445</td>\n",
       "      <td>0.008688</td>\n",
       "      <td>0.010080</td>\n",
       "      <td>0.005996</td>\n",
       "      <td>0.025556</td>\n",
       "      <td>0.008448</td>\n",
       "      <td>0.004034</td>\n",
       "      <td>0.007592</td>\n",
       "      <td>0.010373</td>\n",
       "      <td>0.007311</td>\n",
       "      <td>0.006803</td>\n",
       "      <td>0.008743</td>\n",
       "      <td>0.004441</td>\n",
       "      <td>0.004548</td>\n",
       "    </tr>\n",
       "    <tr>\n",
       "      <th>1</th>\n",
       "      <td>0.005809</td>\n",
       "      <td>0.006113</td>\n",
       "      <td>0.007618</td>\n",
       "      <td>0.011967</td>\n",
       "      <td>0.010542</td>\n",
       "      <td>0.015099</td>\n",
       "      <td>0.007711</td>\n",
       "      <td>0.005939</td>\n",
       "      <td>0.004571</td>\n",
       "      <td>0.011246</td>\n",
       "      <td>0.013604</td>\n",
       "      <td>0.009452</td>\n",
       "      <td>0.013490</td>\n",
       "      <td>0.004208</td>\n",
       "      <td>0.008405</td>\n",
       "    </tr>\n",
       "    <tr>\n",
       "      <th>2</th>\n",
       "      <td>0.008899</td>\n",
       "      <td>0.008993</td>\n",
       "      <td>0.017221</td>\n",
       "      <td>0.005632</td>\n",
       "      <td>0.013606</td>\n",
       "      <td>0.012596</td>\n",
       "      <td>0.005104</td>\n",
       "      <td>0.004966</td>\n",
       "      <td>0.002734</td>\n",
       "      <td>0.009145</td>\n",
       "      <td>0.005954</td>\n",
       "      <td>0.002862</td>\n",
       "      <td>0.006797</td>\n",
       "      <td>0.005591</td>\n",
       "      <td>0.020041</td>\n",
       "    </tr>\n",
       "    <tr>\n",
       "      <th>3</th>\n",
       "      <td>0.008668</td>\n",
       "      <td>0.011705</td>\n",
       "      <td>0.009755</td>\n",
       "      <td>0.003782</td>\n",
       "      <td>0.005567</td>\n",
       "      <td>0.017404</td>\n",
       "      <td>0.007514</td>\n",
       "      <td>0.001682</td>\n",
       "      <td>0.004713</td>\n",
       "      <td>0.011360</td>\n",
       "      <td>0.011702</td>\n",
       "      <td>0.008669</td>\n",
       "      <td>0.008822</td>\n",
       "      <td>0.003421</td>\n",
       "      <td>0.003745</td>\n",
       "    </tr>\n",
       "    <tr>\n",
       "      <th>4</th>\n",
       "      <td>0.008318</td>\n",
       "      <td>0.007697</td>\n",
       "      <td>0.018293</td>\n",
       "      <td>0.004900</td>\n",
       "      <td>0.010415</td>\n",
       "      <td>0.022672</td>\n",
       "      <td>0.015724</td>\n",
       "      <td>0.002391</td>\n",
       "      <td>0.004811</td>\n",
       "      <td>0.010415</td>\n",
       "      <td>0.008917</td>\n",
       "      <td>0.005406</td>\n",
       "      <td>0.005036</td>\n",
       "      <td>0.005022</td>\n",
       "      <td>0.007761</td>\n",
       "    </tr>\n",
       "    <tr>\n",
       "      <th>...</th>\n",
       "      <td>...</td>\n",
       "      <td>...</td>\n",
       "      <td>...</td>\n",
       "      <td>...</td>\n",
       "      <td>...</td>\n",
       "      <td>...</td>\n",
       "      <td>...</td>\n",
       "      <td>...</td>\n",
       "      <td>...</td>\n",
       "      <td>...</td>\n",
       "      <td>...</td>\n",
       "      <td>...</td>\n",
       "      <td>...</td>\n",
       "      <td>...</td>\n",
       "      <td>...</td>\n",
       "    </tr>\n",
       "    <tr>\n",
       "      <th>3147</th>\n",
       "      <td>NaN</td>\n",
       "      <td>NaN</td>\n",
       "      <td>NaN</td>\n",
       "      <td>NaN</td>\n",
       "      <td>NaN</td>\n",
       "      <td>NaN</td>\n",
       "      <td>NaN</td>\n",
       "      <td>0.004960</td>\n",
       "      <td>NaN</td>\n",
       "      <td>NaN</td>\n",
       "      <td>NaN</td>\n",
       "      <td>NaN</td>\n",
       "      <td>NaN</td>\n",
       "      <td>NaN</td>\n",
       "      <td>NaN</td>\n",
       "    </tr>\n",
       "    <tr>\n",
       "      <th>3148</th>\n",
       "      <td>NaN</td>\n",
       "      <td>NaN</td>\n",
       "      <td>NaN</td>\n",
       "      <td>NaN</td>\n",
       "      <td>NaN</td>\n",
       "      <td>NaN</td>\n",
       "      <td>NaN</td>\n",
       "      <td>0.002326</td>\n",
       "      <td>NaN</td>\n",
       "      <td>NaN</td>\n",
       "      <td>NaN</td>\n",
       "      <td>NaN</td>\n",
       "      <td>NaN</td>\n",
       "      <td>NaN</td>\n",
       "      <td>NaN</td>\n",
       "    </tr>\n",
       "    <tr>\n",
       "      <th>3149</th>\n",
       "      <td>NaN</td>\n",
       "      <td>NaN</td>\n",
       "      <td>NaN</td>\n",
       "      <td>NaN</td>\n",
       "      <td>NaN</td>\n",
       "      <td>NaN</td>\n",
       "      <td>NaN</td>\n",
       "      <td>0.005587</td>\n",
       "      <td>NaN</td>\n",
       "      <td>NaN</td>\n",
       "      <td>NaN</td>\n",
       "      <td>NaN</td>\n",
       "      <td>NaN</td>\n",
       "      <td>NaN</td>\n",
       "      <td>NaN</td>\n",
       "    </tr>\n",
       "    <tr>\n",
       "      <th>3150</th>\n",
       "      <td>NaN</td>\n",
       "      <td>NaN</td>\n",
       "      <td>NaN</td>\n",
       "      <td>NaN</td>\n",
       "      <td>NaN</td>\n",
       "      <td>NaN</td>\n",
       "      <td>NaN</td>\n",
       "      <td>0.005495</td>\n",
       "      <td>NaN</td>\n",
       "      <td>NaN</td>\n",
       "      <td>NaN</td>\n",
       "      <td>NaN</td>\n",
       "      <td>NaN</td>\n",
       "      <td>NaN</td>\n",
       "      <td>NaN</td>\n",
       "    </tr>\n",
       "    <tr>\n",
       "      <th>3151</th>\n",
       "      <td>NaN</td>\n",
       "      <td>NaN</td>\n",
       "      <td>NaN</td>\n",
       "      <td>NaN</td>\n",
       "      <td>NaN</td>\n",
       "      <td>NaN</td>\n",
       "      <td>NaN</td>\n",
       "      <td>0.005119</td>\n",
       "      <td>NaN</td>\n",
       "      <td>NaN</td>\n",
       "      <td>NaN</td>\n",
       "      <td>NaN</td>\n",
       "      <td>NaN</td>\n",
       "      <td>NaN</td>\n",
       "      <td>NaN</td>\n",
       "    </tr>\n",
       "  </tbody>\n",
       "</table>\n",
       "<p>3152 rows × 15 columns</p>\n",
       "</div>"
      ],
      "text/plain": [
       "      variances10  variances11  variances12  variances13  variances14  \\\n",
       "0        0.011277     0.008445     0.008688     0.010080     0.005996   \n",
       "1        0.005809     0.006113     0.007618     0.011967     0.010542   \n",
       "2        0.008899     0.008993     0.017221     0.005632     0.013606   \n",
       "3        0.008668     0.011705     0.009755     0.003782     0.005567   \n",
       "4        0.008318     0.007697     0.018293     0.004900     0.010415   \n",
       "...           ...          ...          ...          ...          ...   \n",
       "3147          NaN          NaN          NaN          NaN          NaN   \n",
       "3148          NaN          NaN          NaN          NaN          NaN   \n",
       "3149          NaN          NaN          NaN          NaN          NaN   \n",
       "3150          NaN          NaN          NaN          NaN          NaN   \n",
       "3151          NaN          NaN          NaN          NaN          NaN   \n",
       "\n",
       "      variances15  variances16  variances2  variances3  variances4  \\\n",
       "0        0.025556     0.008448    0.004034    0.007592    0.010373   \n",
       "1        0.015099     0.007711    0.005939    0.004571    0.011246   \n",
       "2        0.012596     0.005104    0.004966    0.002734    0.009145   \n",
       "3        0.017404     0.007514    0.001682    0.004713    0.011360   \n",
       "4        0.022672     0.015724    0.002391    0.004811    0.010415   \n",
       "...           ...          ...         ...         ...         ...   \n",
       "3147          NaN          NaN    0.004960         NaN         NaN   \n",
       "3148          NaN          NaN    0.002326         NaN         NaN   \n",
       "3149          NaN          NaN    0.005587         NaN         NaN   \n",
       "3150          NaN          NaN    0.005495         NaN         NaN   \n",
       "3151          NaN          NaN    0.005119         NaN         NaN   \n",
       "\n",
       "      variances5  variances6  variances7  variances8  variances9  \n",
       "0       0.007311    0.006803    0.008743    0.004441    0.004548  \n",
       "1       0.013604    0.009452    0.013490    0.004208    0.008405  \n",
       "2       0.005954    0.002862    0.006797    0.005591    0.020041  \n",
       "3       0.011702    0.008669    0.008822    0.003421    0.003745  \n",
       "4       0.008917    0.005406    0.005036    0.005022    0.007761  \n",
       "...          ...         ...         ...         ...         ...  \n",
       "3147         NaN         NaN         NaN         NaN         NaN  \n",
       "3148         NaN         NaN         NaN         NaN         NaN  \n",
       "3149         NaN         NaN         NaN         NaN         NaN  \n",
       "3150         NaN         NaN         NaN         NaN         NaN  \n",
       "3151         NaN         NaN         NaN         NaN         NaN  \n",
       "\n",
       "[3152 rows x 15 columns]"
      ]
     },
     "execution_count": 15,
     "metadata": {},
     "output_type": "execute_result"
    }
   ],
   "source": [
    "import pandas as pd\n",
    "import glob\n",
    "from pathlib import Path\n",
    "\n",
    "file_pattern = \"results/02_mc_dropout/variances*.csv\"\n",
    "variance_files = glob.glob(file_pattern)\n",
    "variance_files.sort()\n",
    "\n",
    "all_variances_dfs = []\n",
    "\n",
    "for filepath in variance_files:\n",
    "    temp_df = pd.read_csv(filepath)\n",
    "    column_name = Path(filepath).stem\n",
    "    temp_df = temp_df.rename(columns={'variance': column_name})\n",
    "    all_variances_dfs.append(temp_df)\n",
    "\n",
    "final_df = pd.concat(all_variances_dfs, axis=1)\n",
    "\n",
    "final_df"
   ]
  },
  {
   "cell_type": "code",
   "execution_count": null,
   "id": "9b4e722e",
   "metadata": {},
   "outputs": [
    {
     "data": {
      "application/vnd.plotly.v1+json": {
       "config": {
        "plotlyServerURL": "https://plot.ly"
       },
       "data": [
        {
         "bingroup": "x",
         "histnorm": "probability density",
         "hovertemplate": "Cycle=variances2<br>Variance=%{x}<br>probability density=%{y}<extra></extra>",
         "legendgroup": "variances2",
         "marker": {
          "color": "#636efa",
          "opacity": 0.65,
          "pattern": {
           "shape": ""
          }
         },
         "name": "variances2",
         "orientation": "v",
         "showlegend": true,
         "type": "histogram",
         "x": {
          "bdata": "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",
          "dtype": "f8"
         },
         "xaxis": "x",
         "yaxis": "y"
        },
        {
         "bingroup": "x",
         "histnorm": "probability density",
         "hovertemplate": "Cycle=variances9<br>Variance=%{x}<br>probability density=%{y}<extra></extra>",
         "legendgroup": "variances9",
         "marker": {
          "color": "#EF553B",
          "opacity": 0.65,
          "pattern": {
           "shape": ""
          }
         },
         "name": "variances9",
         "orientation": "v",
         "showlegend": true,
         "type": "histogram",
         "x": {
          "bdata": "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",
          "dtype": "f8"
         },
         "xaxis": "x",
         "yaxis": "y"
        },
        {
         "bingroup": "x",
         "histnorm": "probability density",
         "hovertemplate": "Cycle=variances15<br>Variance=%{x}<br>probability density=%{y}<extra></extra>",
         "legendgroup": "variances15",
         "marker": {
          "color": "#00cc96",
          "opacity": 0.65,
          "pattern": {
           "shape": ""
          }
         },
         "name": "variances15",
         "orientation": "v",
         "showlegend": true,
         "type": "histogram",
         "x": {
          "bdata": "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",
          "dtype": "f8"
         },
         "xaxis": "x",
         "yaxis": "y"
        }
       ],
       "layout": {
        "barmode": "overlay",
        "legend": {
         "title": {
          "text": "Cycle"
         },
         "tracegroupgap": 0
        },
        "template": {
         "data": {
          "bar": [
           {
            "error_x": {
             "color": "#2a3f5f"
            },
            "error_y": {
             "color": "#2a3f5f"
            },
            "marker": {
             "line": {
              "color": "#E5ECF6",
              "width": 0.5
             },
             "pattern": {
              "fillmode": "overlay",
              "size": 10,
              "solidity": 0.2
             }
            },
            "type": "bar"
           }
          ],
          "barpolar": [
           {
            "marker": {
             "line": {
              "color": "#E5ECF6",
              "width": 0.5
             },
             "pattern": {
              "fillmode": "overlay",
              "size": 10,
              "solidity": 0.2
             }
            },
            "type": "barpolar"
           }
          ],
          "carpet": [
           {
            "aaxis": {
             "endlinecolor": "#2a3f5f",
             "gridcolor": "white",
             "linecolor": "white",
             "minorgridcolor": "white",
             "startlinecolor": "#2a3f5f"
            },
            "baxis": {
             "endlinecolor": "#2a3f5f",
             "gridcolor": "white",
             "linecolor": "white",
             "minorgridcolor": "white",
             "startlinecolor": "#2a3f5f"
            },
            "type": "carpet"
           }
          ],
          "choropleth": [
           {
            "colorbar": {
             "outlinewidth": 0,
             "ticks": ""
            },
            "type": "choropleth"
           }
          ],
          "contour": [
           {
            "colorbar": {
             "outlinewidth": 0,
             "ticks": ""
            },
            "colorscale": [
             [
              0,
              "#0d0887"
             ],
             [
              0.1111111111111111,
              "#46039f"
             ],
             [
              0.2222222222222222,
              "#7201a8"
             ],
             [
              0.3333333333333333,
              "#9c179e"
             ],
             [
              0.4444444444444444,
              "#bd3786"
             ],
             [
              0.5555555555555556,
              "#d8576b"
             ],
             [
              0.6666666666666666,
              "#ed7953"
             ],
             [
              0.7777777777777778,
              "#fb9f3a"
             ],
             [
              0.8888888888888888,
              "#fdca26"
             ],
             [
              1,
              "#f0f921"
             ]
            ],
            "type": "contour"
           }
          ],
          "contourcarpet": [
           {
            "colorbar": {
             "outlinewidth": 0,
             "ticks": ""
            },
            "type": "contourcarpet"
           }
          ],
          "heatmap": [
           {
            "colorbar": {
             "outlinewidth": 0,
             "ticks": ""
            },
            "colorscale": [
             [
              0,
              "#0d0887"
             ],
             [
              0.1111111111111111,
              "#46039f"
             ],
             [
              0.2222222222222222,
              "#7201a8"
             ],
             [
              0.3333333333333333,
              "#9c179e"
             ],
             [
              0.4444444444444444,
              "#bd3786"
             ],
             [
              0.5555555555555556,
              "#d8576b"
             ],
             [
              0.6666666666666666,
              "#ed7953"
             ],
             [
              0.7777777777777778,
              "#fb9f3a"
             ],
             [
              0.8888888888888888,
              "#fdca26"
             ],
             [
              1,
              "#f0f921"
             ]
            ],
            "type": "heatmap"
           }
          ],
          "histogram": [
           {
            "marker": {
             "pattern": {
              "fillmode": "overlay",
              "size": 10,
              "solidity": 0.2
             }
            },
            "type": "histogram"
           }
          ],
          "histogram2d": [
           {
            "colorbar": {
             "outlinewidth": 0,
             "ticks": ""
            },
            "colorscale": [
             [
              0,
              "#0d0887"
             ],
             [
              0.1111111111111111,
              "#46039f"
             ],
             [
              0.2222222222222222,
              "#7201a8"
             ],
             [
              0.3333333333333333,
              "#9c179e"
             ],
             [
              0.4444444444444444,
              "#bd3786"
             ],
             [
              0.5555555555555556,
              "#d8576b"
             ],
             [
              0.6666666666666666,
              "#ed7953"
             ],
             [
              0.7777777777777778,
              "#fb9f3a"
             ],
             [
              0.8888888888888888,
              "#fdca26"
             ],
             [
              1,
              "#f0f921"
             ]
            ],
            "type": "histogram2d"
           }
          ],
          "histogram2dcontour": [
           {
            "colorbar": {
             "outlinewidth": 0,
             "ticks": ""
            },
            "colorscale": [
             [
              0,
              "#0d0887"
             ],
             [
              0.1111111111111111,
              "#46039f"
             ],
             [
              0.2222222222222222,
              "#7201a8"
             ],
             [
              0.3333333333333333,
              "#9c179e"
             ],
             [
              0.4444444444444444,
              "#bd3786"
             ],
             [
              0.5555555555555556,
              "#d8576b"
             ],
             [
              0.6666666666666666,
              "#ed7953"
             ],
             [
              0.7777777777777778,
              "#fb9f3a"
             ],
             [
              0.8888888888888888,
              "#fdca26"
             ],
             [
              1,
              "#f0f921"
             ]
            ],
            "type": "histogram2dcontour"
           }
          ],
          "mesh3d": [
           {
            "colorbar": {
             "outlinewidth": 0,
             "ticks": ""
            },
            "type": "mesh3d"
           }
          ],
          "parcoords": [
           {
            "line": {
             "colorbar": {
              "outlinewidth": 0,
              "ticks": ""
             }
            },
            "type": "parcoords"
           }
          ],
          "pie": [
           {
            "automargin": true,
            "type": "pie"
           }
          ],
          "scatter": [
           {
            "fillpattern": {
             "fillmode": "overlay",
             "size": 10,
             "solidity": 0.2
            },
            "type": "scatter"
           }
          ],
          "scatter3d": [
           {
            "line": {
             "colorbar": {
              "outlinewidth": 0,
              "ticks": ""
             }
            },
            "marker": {
             "colorbar": {
              "outlinewidth": 0,
              "ticks": ""
             }
            },
            "type": "scatter3d"
           }
          ],
          "scattercarpet": [
           {
            "marker": {
             "colorbar": {
              "outlinewidth": 0,
              "ticks": ""
             }
            },
            "type": "scattercarpet"
           }
          ],
          "scattergeo": [
           {
            "marker": {
             "colorbar": {
              "outlinewidth": 0,
              "ticks": ""
             }
            },
            "type": "scattergeo"
           }
          ],
          "scattergl": [
           {
            "marker": {
             "colorbar": {
              "outlinewidth": 0,
              "ticks": ""
             }
            },
            "type": "scattergl"
           }
          ],
          "scattermap": [
           {
            "marker": {
             "colorbar": {
              "outlinewidth": 0,
              "ticks": ""
             }
            },
            "type": "scattermap"
           }
          ],
          "scattermapbox": [
           {
            "marker": {
             "colorbar": {
              "outlinewidth": 0,
              "ticks": ""
             }
            },
            "type": "scattermapbox"
           }
          ],
          "scatterpolar": [
           {
            "marker": {
             "colorbar": {
              "outlinewidth": 0,
              "ticks": ""
             }
            },
            "type": "scatterpolar"
           }
          ],
          "scatterpolargl": [
           {
            "marker": {
             "colorbar": {
              "outlinewidth": 0,
              "ticks": ""
             }
            },
            "type": "scatterpolargl"
           }
          ],
          "scatterternary": [
           {
            "marker": {
             "colorbar": {
              "outlinewidth": 0,
              "ticks": ""
             }
            },
            "type": "scatterternary"
           }
          ],
          "surface": [
           {
            "colorbar": {
             "outlinewidth": 0,
             "ticks": ""
            },
            "colorscale": [
             [
              0,
              "#0d0887"
             ],
             [
              0.1111111111111111,
              "#46039f"
             ],
             [
              0.2222222222222222,
              "#7201a8"
             ],
             [
              0.3333333333333333,
              "#9c179e"
             ],
             [
              0.4444444444444444,
              "#bd3786"
             ],
             [
              0.5555555555555556,
              "#d8576b"
             ],
             [
              0.6666666666666666,
              "#ed7953"
             ],
             [
              0.7777777777777778,
              "#fb9f3a"
             ],
             [
              0.8888888888888888,
              "#fdca26"
             ],
             [
              1,
              "#f0f921"
             ]
            ],
            "type": "surface"
           }
          ],
          "table": [
           {
            "cells": {
             "fill": {
              "color": "#EBF0F8"
             },
             "line": {
              "color": "white"
             }
            },
            "header": {
             "fill": {
              "color": "#C8D4E3"
             },
             "line": {
              "color": "white"
             }
            },
            "type": "table"
           }
          ]
         },
         "layout": {
          "annotationdefaults": {
           "arrowcolor": "#2a3f5f",
           "arrowhead": 0,
           "arrowwidth": 1
          },
          "autotypenumbers": "strict",
          "coloraxis": {
           "colorbar": {
            "outlinewidth": 0,
            "ticks": ""
           }
          },
          "colorscale": {
           "diverging": [
            [
             0,
             "#8e0152"
            ],
            [
             0.1,
             "#c51b7d"
            ],
            [
             0.2,
             "#de77ae"
            ],
            [
             0.3,
             "#f1b6da"
            ],
            [
             0.4,
             "#fde0ef"
            ],
            [
             0.5,
             "#f7f7f7"
            ],
            [
             0.6,
             "#e6f5d0"
            ],
            [
             0.7,
             "#b8e186"
            ],
            [
             0.8,
             "#7fbc41"
            ],
            [
             0.9,
             "#4d9221"
            ],
            [
             1,
             "#276419"
            ]
           ],
           "sequential": [
            [
             0,
             "#0d0887"
            ],
            [
             0.1111111111111111,
             "#46039f"
            ],
            [
             0.2222222222222222,
             "#7201a8"
            ],
            [
             0.3333333333333333,
             "#9c179e"
            ],
            [
             0.4444444444444444,
             "#bd3786"
            ],
            [
             0.5555555555555556,
             "#d8576b"
            ],
            [
             0.6666666666666666,
             "#ed7953"
            ],
            [
             0.7777777777777778,
             "#fb9f3a"
            ],
            [
             0.8888888888888888,
             "#fdca26"
            ],
            [
             1,
             "#f0f921"
            ]
           ],
           "sequentialminus": [
            [
             0,
             "#0d0887"
            ],
            [
             0.1111111111111111,
             "#46039f"
            ],
            [
             0.2222222222222222,
             "#7201a8"
            ],
            [
             0.3333333333333333,
             "#9c179e"
            ],
            [
             0.4444444444444444,
             "#bd3786"
            ],
            [
             0.5555555555555556,
             "#d8576b"
            ],
            [
             0.6666666666666666,
             "#ed7953"
            ],
            [
             0.7777777777777778,
             "#fb9f3a"
            ],
            [
             0.8888888888888888,
             "#fdca26"
            ],
            [
             1,
             "#f0f921"
            ]
           ]
          },
          "colorway": [
           "#636efa",
           "#EF553B",
           "#00cc96",
           "#ab63fa",
           "#FFA15A",
           "#19d3f3",
           "#FF6692",
           "#B6E880",
           "#FF97FF",
           "#FECB52"
          ],
          "font": {
           "color": "#2a3f5f"
          },
          "geo": {
           "bgcolor": "white",
           "lakecolor": "white",
           "landcolor": "#E5ECF6",
           "showlakes": true,
           "showland": true,
           "subunitcolor": "white"
          },
          "hoverlabel": {
           "align": "left"
          },
          "hovermode": "closest",
          "mapbox": {
           "style": "light"
          },
          "paper_bgcolor": "white",
          "plot_bgcolor": "#E5ECF6",
          "polar": {
           "angularaxis": {
            "gridcolor": "white",
            "linecolor": "white",
            "ticks": ""
           },
           "bgcolor": "#E5ECF6",
           "radialaxis": {
            "gridcolor": "white",
            "linecolor": "white",
            "ticks": ""
           }
          },
          "scene": {
           "xaxis": {
            "backgroundcolor": "#E5ECF6",
            "gridcolor": "white",
            "gridwidth": 2,
            "linecolor": "white",
            "showbackground": true,
            "ticks": "",
            "zerolinecolor": "white"
           },
           "yaxis": {
            "backgroundcolor": "#E5ECF6",
            "gridcolor": "white",
            "gridwidth": 2,
            "linecolor": "white",
            "showbackground": true,
            "ticks": "",
            "zerolinecolor": "white"
           },
           "zaxis": {
            "backgroundcolor": "#E5ECF6",
            "gridcolor": "white",
            "gridwidth": 2,
            "linecolor": "white",
            "showbackground": true,
            "ticks": "",
            "zerolinecolor": "white"
           }
          },
          "shapedefaults": {
           "line": {
            "color": "#2a3f5f"
           }
          },
          "ternary": {
           "aaxis": {
            "gridcolor": "white",
            "linecolor": "white",
            "ticks": ""
           },
           "baxis": {
            "gridcolor": "white",
            "linecolor": "white",
            "ticks": ""
           },
           "bgcolor": "#E5ECF6",
           "caxis": {
            "gridcolor": "white",
            "linecolor": "white",
            "ticks": ""
           }
          },
          "title": {
           "x": 0.05
          },
          "xaxis": {
           "automargin": true,
           "gridcolor": "white",
           "linecolor": "white",
           "ticks": "",
           "title": {
            "standoff": 15
           },
           "zerolinecolor": "white",
           "zerolinewidth": 2
          },
          "yaxis": {
           "automargin": true,
           "gridcolor": "white",
           "linecolor": "white",
           "ticks": "",
           "title": {
            "standoff": 15
           },
           "zerolinecolor": "white",
           "zerolinewidth": 2
          }
         }
        },
        "title": {
         "text": "Distribution of Variances Across Active Learning Cycles"
        },
        "xaxis": {
         "anchor": "y",
         "domain": [
          0,
          1
         ],
         "title": {
          "text": "Variance"
         }
        },
        "yaxis": {
         "anchor": "x",
         "domain": [
          0,
          1
         ],
         "title": {
          "text": "probability density"
         }
        }
       }
      }
     },
     "metadata": {},
     "output_type": "display_data"
    }
   ],
   "source": [
    "columns_to_plot = ['variances2', 'variances9', 'variances15']\n",
    "\n",
    "# \"Melt\" the selected columns into a long-format DataFrame\n",
    "melted_df = final_df[columns_to_plot].melt(\n",
    "    var_name='Cycle',      # New column for the original column names\n",
    "    value_name='Variance'  # New column for the variance values\n",
    ")\n",
    "\n",
    "fig = px.histogram(\n",
    "    data_frame=melted_df,\n",
    "    x='Variance',                                  \n",
    "    color='Cycle',                                 \n",
    "    barmode='overlay',                             \n",
    "    opacity=0.65,                                  \n",
    "    histnorm='probability density',                \n",
    "    title='Distribution of Variances Across Active Learning Cycles'\n",
    ")\n",
    "\n",
    "fig.show()"
   ]
  },
  {
   "cell_type": "markdown",
   "id": "ece41ff5",
   "metadata": {},
   "source": [
    "This is a pretty telling finding. As the model sees more data, it is actually just getting more confused about the data that it is seeing. This suggest that the uncertainty estimates are miscalibrated. Ideally, model uncertainty would be correlated with the absolute error of the model prediction versus the observed value. So, it would be a good idea to create a function that enables me to monitor this correlation. \n",
    "\n",
    "One issue that may be causing this is that by simply selecting the samples with the highest variance, I could be consistently choosing samples that are outliers and out of the distribution. The batches are small, so if these outliers happen to be samples that are just particularly noisy data points, this would inhibit the model's learning.\n",
    "\n",
    "Another potential problem at work here is that the model might be selecting the values that have the lowest read counts in the original dataset and therefore the lowest confidence and highest noise. This would reduce the information actually available in that sample for the model to pick up on.\n",
    "\n",
    "Additionally, there's the issue of sample diversity that I mentioned before. If the batches are substantially less diverse than randomly selected batches, this could also impair learning.\n",
    "\n",
    "One more issue that I can think of is that a full fine-tune in the early stages is just too unstable with batches with tens of samples."
   ]
  }
 ],
 "metadata": {
  "kernelspec": {
   "display_name": "plm-active-learning",
   "language": "python",
   "name": "python3"
  },
  "language_info": {
   "codemirror_mode": {
    "name": "ipython",
    "version": 3
   },
   "file_extension": ".py",
   "mimetype": "text/x-python",
   "name": "python",
   "nbconvert_exporter": "python",
   "pygments_lexer": "ipython3",
   "version": "3.12.11"
  }
 },
 "nbformat": 4,
 "nbformat_minor": 5
}
