{
 "cells": [
  {
   "cell_type": "markdown",
   "id": "91fccfca",
   "metadata": {},
   "source": [
    "## Approach 2: MC Dropout\n",
    "This second approach to active learning changes the method by which model uncertainty is estimated. With this approach, a single model is trained, then to estimate uncertainty, the dropout is kept on during evaluation stage of the training pool and the model is run over this pool multiple times. The variance of each of these predictions will be used to guide new batch selection."
   ]
  },
  {
   "cell_type": "code",
   "execution_count": 1,
   "id": "72b8df90",
   "metadata": {},
   "outputs": [],
   "source": [
    "from scripts.data_utils import train_val_test_split\n",
    "from scripts.config import (\n",
    "    DATA_PATH, \n",
    "    SEQUENCE_COL, \n",
    "    SCORE_COL, \n",
    "    TOK_MODEL, \n",
    "    VAL_SPLIT,\n",
    "    TEST_SPLIT,\n",
    "    BATCH_SIZE,\n",
    "    RANDOM_SEED,\n",
    ")\n",
    "\n",
    "training_pool, val_dataloader, test_dataloader = train_val_test_split(\n",
    "    DATA_PATH,\n",
    "    SEQUENCE_COL,\n",
    "    SCORE_COL,\n",
    "    TOK_MODEL,\n",
    "    VAL_SPLIT,\n",
    "    TEST_SPLIT,\n",
    "    BATCH_SIZE,\n",
    "    RANDOM_SEED\n",
    ")"
   ]
  },
  {
   "cell_type": "markdown",
   "id": "b796e1b6",
   "metadata": {},
   "source": [
    "## Step-by-step\n",
    "1. Select initial random training set\n",
    "2. Fine-tune a single model\n",
    "3. Set model to eval mode, but manually reenable dropout layers\n",
    "4. For k times, evalute training pool\n",
    "5. Calculate variance of k predictions for each sequence (acquisition score)\n",
    "6. Select N samples with highest acquisition scores.\n",
    "7. Repeat 2-6."
   ]
  },
  {
   "cell_type": "code",
   "execution_count": 2,
   "id": "c631ecf0",
   "metadata": {},
   "outputs": [],
   "source": [
    "from scripts.models import enable_dropout\n",
    "import torch\n",
    "from tqdm import tqdm\n",
    "\n",
    "def get_ensemble_predictions(model, dropout_prob, pool_dataloader, k_pred):\n",
    "    # automatically detect what device the model is on\n",
    "    device = next(model.parameters()).device\n",
    "\n",
    "    # set model to eval mode, but keep dropout on\n",
    "    model.eval()\n",
    "    enable_dropout(model, dropout_prob)\n",
    "\n",
    "    all_preds = []\n",
    "\n",
    "    for _ in tqdm(range(k_pred), desc=\"MC Dropout Passes\"):\n",
    "        current_pass_preds = []\n",
    "        with torch.inference_mode():\n",
    "            for inputs, _ in pool_dataloader:\n",
    "            # get model predictions, append them to list (num batches, batch size)\n",
    "                inputs = {k: v.to(device) for k, v in inputs.items()}\n",
    "                outputs = model(**inputs)\n",
    "                preds = outputs.logits\n",
    "                current_pass_preds.append(preds.cpu())\n",
    "        \n",
    "        # once all pool has been surveyed, concatenate into one tensor\n",
    "        current_pass_preds = torch.cat(current_pass_preds, dim=0)\n",
    "        \n",
    "        # append full pass tensor to all predictions list\n",
    "        all_preds.append(current_pass_preds)\n",
    "\n",
    "    # convert list to tensor with shape (k_pred, num_sequences, num_labels)\n",
    "    all_preds = torch.stack(all_preds)\n",
    "    return all_preds"
   ]
  },
  {
   "cell_type": "code",
   "execution_count": 3,
   "id": "0d4e5d00",
   "metadata": {},
   "outputs": [],
   "source": [
    "from pathlib import Path\n",
    "import pandas as pd\n",
    "import numpy as np\n",
    "from scripts.acquisition import acquire_new_batch, get_variances\n",
    "from scripts.training import initialize_and_train_new_model, test_model\n",
    "from scripts.campaigns import run_standard_finetuning\n",
    "\n",
    "def get_learning_curves(\n",
    "        n_samples,\n",
    "        initial_n_samples,\n",
    "        n_samples_per_batch,\n",
    "        model_name,\n",
    "        approach, \n",
    "        learning_rate, \n",
    "        weight_decay, \n",
    "        epochs, \n",
    "        training_pool,\n",
    "        train_dataloader_batch_size,\n",
    "        pool_dataloader_batch_size, \n",
    "        val_dataloader, \n",
    "        test_dataloader,\n",
    "        patience=5,\n",
    "        k_pred=24,\n",
    "        dropout_prob=0.1,\n",
    "        results_path=\"active_vs_standard_learning_curves.csv\"\n",
    "):\n",
    "    results_path = Path(results_path)\n",
    "    results_dir = results_path.parent\n",
    "    results_dir.mkdir(parents=True, exist_ok=True)\n",
    "\n",
    "    # Load existing results if the file exists, otherwise start with a fresh DataFrame.\n",
    "    if results_path.exists():\n",
    "        all_results_df = pd.read_csv(results_path)\n",
    "    else:\n",
    "        all_results_df = pd.DataFrame()\n",
    "    \n",
    "    total_pool_size = len(training_pool)\n",
    "    unlabeled_indices = np.arange(total_pool_size)\n",
    "    labeled_indices = np.array([], dtype=np.int64)\n",
    "\n",
    "    ensemble_predictions = None\n",
    "    current_cycle = 1\n",
    "    total_cycles = int(np.ceil((n_samples-initial_n_samples)/n_samples_per_batch)) + 1\n",
    "    \n",
    "    while len(labeled_indices) < n_samples and len(unlabeled_indices) > 0:\n",
    "        print(f\"\\nCycle {current_cycle}/{total_cycles}\\n-------------------------------------------------\")\n",
    "\n",
    "        # on the first cycle, choose random samples of initial_n_samples size\n",
    "        if ensemble_predictions is None:\n",
    "            print(f\"Choosing initial {initial_n_samples} samples randomly...\")\n",
    "            train_dataloader, pool_dataloader, labeled_indices, unlabeled_indices = acquire_new_batch(\n",
    "                training_pool, train_dataloader_batch_size, pool_dataloader_batch_size, initial_n_samples, n_samples_per_batch, labeled_indices, unlabeled_indices, acquisition_scores=None\n",
    "            )\n",
    "        # each other time, use the n_samples_per_batch with acquisition scores to select\n",
    "        else:\n",
    "            scores = get_variances(ensemble_predictions, f\"results/02_mc_dropout/variances{current_cycle}.csv\")\n",
    "            print(f\"Selecting new data points...\")\n",
    "            train_dataloader, pool_dataloader, labeled_indices, unlabeled_indices = acquire_new_batch(\n",
    "                training_pool, train_dataloader_batch_size, pool_dataloader_batch_size, initial_n_samples, n_samples_per_batch, labeled_indices, unlabeled_indices, acquisition_scores=scores\n",
    "            )\n",
    "        \n",
    "        # give message when loop ends\n",
    "        if len(unlabeled_indices) == 0:\n",
    "            print(\"Unlabeled pool is empty. Proceeding to final model training.\")\n",
    "            break\n",
    "        \n",
    "        # evaluate active vs standard\n",
    "        final_results = []\n",
    "\n",
    "        # active\n",
    "        print(f\"\\nTraining and evaluating model using {len(labeled_indices)} actively selected samples...\")\n",
    "        model_active = initialize_and_train_new_model(approach, model_name, learning_rate, weight_decay, epochs, train_dataloader, val_dataloader, patience, return_history=False)\n",
    "        results_active = test_model(model_active, test_dataloader, return_results=True)\n",
    "        results_active = {\n",
    "            'changing_var': 'n_samples',\n",
    "            'local_exp_idx': current_cycle-1,\n",
    "            'value': len(labeled_indices),\n",
    "            'training_method': 'active',\n",
    "            **results_active\n",
    "        }\n",
    "        final_results.append(results_active)\n",
    "\n",
    "        # standard\n",
    "        print(f\"\\nTraining and evaluating model using {len(labeled_indices)} randomly selected samples...\")\n",
    "        model_standard, _ = run_standard_finetuning(len(labeled_indices), approach, model_name, train_dataloader_batch_size, learning_rate, weight_decay, epochs, training_pool, val_dataloader, patience)\n",
    "        results_standard = test_model(model_standard, test_dataloader, return_results=True)\n",
    "        results_standard = {\n",
    "            'changing_var': 'n_samples',\n",
    "            'local_exp_idx': current_cycle-1,\n",
    "            'value': len(labeled_indices),\n",
    "            'training_method': 'standard',\n",
    "            **results_standard\n",
    "        }\n",
    "        final_results.append(results_standard)\n",
    "\n",
    "        # save to disk each time to save progress\n",
    "        results_df = pd.DataFrame(final_results)\n",
    "        all_results_df = pd.concat([all_results_df, results_df], ignore_index=True)\n",
    "        all_results_df.to_csv(results_path, index=False)\n",
    "        print(f\"Progress for experiment {current_cycle-1} appended to {results_path}\")\n",
    "\n",
    "        # if it's the last cycle, skip ensemble predictions\n",
    "        if (current_cycle == total_cycles):\n",
    "            print(\"Experiments complete.\")\n",
    "            break\n",
    "\n",
    "        print(\"Starting ensemble training and pool evaluation...\")\n",
    "        ensemble_predictions = get_ensemble_predictions(model_active, dropout_prob, pool_dataloader, k_pred)\n",
    "\n",
    "        current_cycle += 1\n",
    "    return all_results_df"
   ]
  },
  {
   "cell_type": "code",
   "execution_count": 4,
   "id": "8d49b817",
   "metadata": {},
   "outputs": [
    {
     "name": "stdout",
     "output_type": "stream",
     "text": [
      "\n",
      "Cycle 1/16\n",
      "-------------------------------------------------\n",
      "Choosing initial 16 samples randomly...\n",
      "\n",
      "Training and evaluating model using 16 actively selected samples...\n"
     ]
    },
    {
     "name": "stderr",
     "output_type": "stream",
     "text": [
      "/home/oscar/miniconda3/envs/plm-active-learning/lib/python3.12/site-packages/torchmetrics/utilities/prints.py:43: UserWarning: Metric `SpearmanCorrcoef` will save all targets and predictions in the buffer. For large datasets, this may lead to large memory footprint.\n",
      "  warnings.warn(*args, **kwargs)\n",
      "[Training]: 100%|██████████| 50/50 [00:22<00:00,  2.26it/s]\n"
     ]
    },
    {
     "name": "stdout",
     "output_type": "stream",
     "text": [
      "Train Loss: 0.0090 | Val Loss: 0.2287 | SpearmanR: 0.2684\n"
     ]
    },
    {
     "name": "stderr",
     "output_type": "stream",
     "text": [
      "[Testing]: 100%|██████████| 25/25 [00:00<00:00, 72.43it/s]\n"
     ]
    },
    {
     "name": "stdout",
     "output_type": "stream",
     "text": [
      "\n",
      "Training and evaluating model using 16 randomly selected samples...\n"
     ]
    },
    {
     "name": "stderr",
     "output_type": "stream",
     "text": [
      "[Training]:  38%|███▊      | 19/50 [00:08<00:13,  2.34it/s]\n"
     ]
    },
    {
     "name": "stdout",
     "output_type": "stream",
     "text": [
      "Early stopping triggered after 10 epochs with no improvement.\n",
      "Train Loss: 0.0491 | Val Loss: 0.2053 | SpearmanR: 0.0516\n"
     ]
    },
    {
     "name": "stderr",
     "output_type": "stream",
     "text": [
      "[Testing]: 100%|██████████| 25/25 [00:00<00:00, 72.59it/s]\n"
     ]
    },
    {
     "name": "stdout",
     "output_type": "stream",
     "text": [
      "Progress for experiment 0 appended to results/02_mc_dropout/active_vs_standard_learning_curve.csv\n",
      "Starting ensemble training and pool evaluation...\n"
     ]
    },
    {
     "name": "stderr",
     "output_type": "stream",
     "text": [
      "MC Dropout Passes: 100%|██████████| 24/24 [00:52<00:00,  2.18s/it]\n"
     ]
    },
    {
     "name": "stdout",
     "output_type": "stream",
     "text": [
      "\n",
      "Cycle 2/16\n",
      "-------------------------------------------------\n",
      "Saving variance distribution to results/02_mc_dropout/variances2.csv...\n",
      "Save complete.\n",
      "Selecting new data points...\n",
      "\n",
      "Training and evaluating model using 32 actively selected samples...\n"
     ]
    },
    {
     "name": "stderr",
     "output_type": "stream",
     "text": [
      "[Training]:  68%|██████▊   | 34/50 [00:15<00:07,  2.19it/s]\n"
     ]
    },
    {
     "name": "stdout",
     "output_type": "stream",
     "text": [
      "Early stopping triggered after 10 epochs with no improvement.\n",
      "Train Loss: 0.0452 | Val Loss: 0.2067 | SpearmanR: 0.3450\n"
     ]
    },
    {
     "name": "stderr",
     "output_type": "stream",
     "text": [
      "[Testing]: 100%|██████████| 25/25 [00:00<00:00, 71.59it/s]\n"
     ]
    },
    {
     "name": "stdout",
     "output_type": "stream",
     "text": [
      "\n",
      "Training and evaluating model using 32 randomly selected samples...\n"
     ]
    },
    {
     "name": "stderr",
     "output_type": "stream",
     "text": [
      "[Training]: 100%|██████████| 50/50 [00:23<00:00,  2.14it/s]\n"
     ]
    },
    {
     "name": "stdout",
     "output_type": "stream",
     "text": [
      "Train Loss: 0.0131 | Val Loss: 0.1990 | SpearmanR: 0.3544\n"
     ]
    },
    {
     "name": "stderr",
     "output_type": "stream",
     "text": [
      "[Testing]: 100%|██████████| 25/25 [00:00<00:00, 71.91it/s]\n"
     ]
    },
    {
     "name": "stdout",
     "output_type": "stream",
     "text": [
      "Progress for experiment 1 appended to results/02_mc_dropout/active_vs_standard_learning_curve.csv\n",
      "Starting ensemble training and pool evaluation...\n"
     ]
    },
    {
     "name": "stderr",
     "output_type": "stream",
     "text": [
      "MC Dropout Passes: 100%|██████████| 24/24 [00:52<00:00,  2.18s/it]\n"
     ]
    },
    {
     "name": "stdout",
     "output_type": "stream",
     "text": [
      "\n",
      "Cycle 3/16\n",
      "-------------------------------------------------\n",
      "Saving variance distribution to results/02_mc_dropout/variances3.csv...\n",
      "Save complete.\n",
      "Selecting new data points...\n",
      "\n",
      "Training and evaluating model using 48 actively selected samples...\n"
     ]
    },
    {
     "name": "stderr",
     "output_type": "stream",
     "text": [
      "[Training]:  62%|██████▏   | 31/50 [00:15<00:09,  2.06it/s]\n"
     ]
    },
    {
     "name": "stdout",
     "output_type": "stream",
     "text": [
      "Early stopping triggered after 10 epochs with no improvement.\n",
      "Train Loss: 0.0631 | Val Loss: 0.1961 | SpearmanR: 0.4970\n"
     ]
    },
    {
     "name": "stderr",
     "output_type": "stream",
     "text": [
      "[Testing]: 100%|██████████| 25/25 [00:00<00:00, 72.91it/s]\n"
     ]
    },
    {
     "name": "stdout",
     "output_type": "stream",
     "text": [
      "\n",
      "Training and evaluating model using 48 randomly selected samples...\n"
     ]
    },
    {
     "name": "stderr",
     "output_type": "stream",
     "text": [
      "[Training]:  70%|███████   | 35/50 [00:17<00:07,  2.04it/s]\n"
     ]
    },
    {
     "name": "stdout",
     "output_type": "stream",
     "text": [
      "Early stopping triggered after 10 epochs with no improvement.\n",
      "Train Loss: 0.0109 | Val Loss: 0.1482 | SpearmanR: 0.5257\n"
     ]
    },
    {
     "name": "stderr",
     "output_type": "stream",
     "text": [
      "[Testing]: 100%|██████████| 25/25 [00:00<00:00, 72.32it/s]\n"
     ]
    },
    {
     "name": "stdout",
     "output_type": "stream",
     "text": [
      "Progress for experiment 2 appended to results/02_mc_dropout/active_vs_standard_learning_curve.csv\n",
      "Starting ensemble training and pool evaluation...\n"
     ]
    },
    {
     "name": "stderr",
     "output_type": "stream",
     "text": [
      "MC Dropout Passes: 100%|██████████| 24/24 [00:51<00:00,  2.15s/it]\n"
     ]
    },
    {
     "name": "stdout",
     "output_type": "stream",
     "text": [
      "\n",
      "Cycle 4/16\n",
      "-------------------------------------------------\n",
      "Saving variance distribution to results/02_mc_dropout/variances4.csv...\n",
      "Save complete.\n",
      "Selecting new data points...\n",
      "\n",
      "Training and evaluating model using 64 actively selected samples...\n"
     ]
    },
    {
     "name": "stderr",
     "output_type": "stream",
     "text": [
      "[Training]: 100%|██████████| 50/50 [00:25<00:00,  1.98it/s]\n"
     ]
    },
    {
     "name": "stdout",
     "output_type": "stream",
     "text": [
      "Train Loss: 0.0279 | Val Loss: 0.1790 | SpearmanR: 0.4773\n"
     ]
    },
    {
     "name": "stderr",
     "output_type": "stream",
     "text": [
      "[Testing]: 100%|██████████| 25/25 [00:00<00:00, 71.97it/s]\n"
     ]
    },
    {
     "name": "stdout",
     "output_type": "stream",
     "text": [
      "\n",
      "Training and evaluating model using 64 randomly selected samples...\n"
     ]
    },
    {
     "name": "stderr",
     "output_type": "stream",
     "text": [
      "[Training]: 100%|██████████| 50/50 [00:25<00:00,  1.94it/s]\n"
     ]
    },
    {
     "name": "stdout",
     "output_type": "stream",
     "text": [
      "Train Loss: 0.0553 | Val Loss: 0.1688 | SpearmanR: 0.4878\n"
     ]
    },
    {
     "name": "stderr",
     "output_type": "stream",
     "text": [
      "[Testing]: 100%|██████████| 25/25 [00:00<00:00, 72.44it/s]\n"
     ]
    },
    {
     "name": "stdout",
     "output_type": "stream",
     "text": [
      "Progress for experiment 3 appended to results/02_mc_dropout/active_vs_standard_learning_curve.csv\n",
      "Starting ensemble training and pool evaluation...\n"
     ]
    },
    {
     "name": "stderr",
     "output_type": "stream",
     "text": [
      "MC Dropout Passes: 100%|██████████| 24/24 [00:51<00:00,  2.14s/it]\n"
     ]
    },
    {
     "name": "stdout",
     "output_type": "stream",
     "text": [
      "\n",
      "Cycle 5/16\n",
      "-------------------------------------------------\n",
      "Saving variance distribution to results/02_mc_dropout/variances5.csv...\n",
      "Save complete.\n",
      "Selecting new data points...\n",
      "\n",
      "Training and evaluating model using 80 actively selected samples...\n"
     ]
    },
    {
     "name": "stderr",
     "output_type": "stream",
     "text": [
      "[Training]:  66%|██████▌   | 33/50 [00:18<00:09,  1.81it/s]\n"
     ]
    },
    {
     "name": "stdout",
     "output_type": "stream",
     "text": [
      "Early stopping triggered after 10 epochs with no improvement.\n",
      "Train Loss: 0.0313 | Val Loss: 0.1769 | SpearmanR: 0.5490\n"
     ]
    },
    {
     "name": "stderr",
     "output_type": "stream",
     "text": [
      "[Testing]: 100%|██████████| 25/25 [00:00<00:00, 73.04it/s]\n"
     ]
    },
    {
     "name": "stdout",
     "output_type": "stream",
     "text": [
      "\n",
      "Training and evaluating model using 80 randomly selected samples...\n"
     ]
    },
    {
     "name": "stderr",
     "output_type": "stream",
     "text": [
      "[Training]:  60%|██████    | 30/50 [00:16<00:11,  1.78it/s]\n"
     ]
    },
    {
     "name": "stdout",
     "output_type": "stream",
     "text": [
      "Early stopping triggered after 10 epochs with no improvement.\n",
      "Train Loss: 0.0411 | Val Loss: 0.1942 | SpearmanR: 0.4401\n"
     ]
    },
    {
     "name": "stderr",
     "output_type": "stream",
     "text": [
      "[Testing]: 100%|██████████| 25/25 [00:00<00:00, 73.06it/s]\n"
     ]
    },
    {
     "name": "stdout",
     "output_type": "stream",
     "text": [
      "Progress for experiment 4 appended to results/02_mc_dropout/active_vs_standard_learning_curve.csv\n",
      "Starting ensemble training and pool evaluation...\n"
     ]
    },
    {
     "name": "stderr",
     "output_type": "stream",
     "text": [
      "MC Dropout Passes: 100%|██████████| 24/24 [00:51<00:00,  2.14s/it]\n"
     ]
    },
    {
     "name": "stdout",
     "output_type": "stream",
     "text": [
      "\n",
      "Cycle 6/16\n",
      "-------------------------------------------------\n",
      "Saving variance distribution to results/02_mc_dropout/variances6.csv...\n",
      "Save complete.\n",
      "Selecting new data points...\n",
      "\n",
      "Training and evaluating model using 96 actively selected samples...\n"
     ]
    },
    {
     "name": "stderr",
     "output_type": "stream",
     "text": [
      "[Training]:  88%|████████▊ | 44/50 [00:25<00:03,  1.69it/s]\n"
     ]
    },
    {
     "name": "stdout",
     "output_type": "stream",
     "text": [
      "Early stopping triggered after 10 epochs with no improvement.\n",
      "Train Loss: 0.0175 | Val Loss: 0.1745 | SpearmanR: 0.5485\n"
     ]
    },
    {
     "name": "stderr",
     "output_type": "stream",
     "text": [
      "[Testing]: 100%|██████████| 25/25 [00:00<00:00, 72.17it/s]\n"
     ]
    },
    {
     "name": "stdout",
     "output_type": "stream",
     "text": [
      "\n",
      "Training and evaluating model using 96 randomly selected samples...\n"
     ]
    },
    {
     "name": "stderr",
     "output_type": "stream",
     "text": [
      "[Training]:  24%|██▍       | 12/50 [00:07<00:24,  1.53it/s]\n"
     ]
    },
    {
     "name": "stdout",
     "output_type": "stream",
     "text": [
      "Early stopping triggered after 10 epochs with no improvement.\n",
      "Train Loss: 0.1334 | Val Loss: 0.1503 | SpearmanR: 0.4549\n"
     ]
    },
    {
     "name": "stderr",
     "output_type": "stream",
     "text": [
      "[Testing]: 100%|██████████| 25/25 [00:00<00:00, 72.79it/s]\n"
     ]
    },
    {
     "name": "stdout",
     "output_type": "stream",
     "text": [
      "Progress for experiment 5 appended to results/02_mc_dropout/active_vs_standard_learning_curve.csv\n",
      "Starting ensemble training and pool evaluation...\n"
     ]
    },
    {
     "name": "stderr",
     "output_type": "stream",
     "text": [
      "MC Dropout Passes: 100%|██████████| 24/24 [00:50<00:00,  2.09s/it]\n"
     ]
    },
    {
     "name": "stdout",
     "output_type": "stream",
     "text": [
      "\n",
      "Cycle 7/16\n",
      "-------------------------------------------------\n",
      "Saving variance distribution to results/02_mc_dropout/variances7.csv...\n",
      "Save complete.\n",
      "Selecting new data points...\n",
      "\n",
      "Training and evaluating model using 112 actively selected samples...\n"
     ]
    },
    {
     "name": "stderr",
     "output_type": "stream",
     "text": [
      "[Training]:  46%|████▌     | 23/50 [00:16<00:18,  1.43it/s]\n"
     ]
    },
    {
     "name": "stdout",
     "output_type": "stream",
     "text": [
      "Early stopping triggered after 10 epochs with no improvement.\n",
      "Train Loss: 0.0641 | Val Loss: 0.1563 | SpearmanR: 0.5351\n"
     ]
    },
    {
     "name": "stderr",
     "output_type": "stream",
     "text": [
      "[Testing]: 100%|██████████| 25/25 [00:00<00:00, 74.04it/s]\n"
     ]
    },
    {
     "name": "stdout",
     "output_type": "stream",
     "text": [
      "\n",
      "Training and evaluating model using 112 randomly selected samples...\n"
     ]
    },
    {
     "name": "stderr",
     "output_type": "stream",
     "text": [
      "[Training]:  72%|███████▏  | 36/50 [00:26<00:10,  1.35it/s]\n"
     ]
    },
    {
     "name": "stdout",
     "output_type": "stream",
     "text": [
      "Early stopping triggered after 10 epochs with no improvement.\n",
      "Train Loss: 0.0154 | Val Loss: 0.1417 | SpearmanR: 0.5573\n"
     ]
    },
    {
     "name": "stderr",
     "output_type": "stream",
     "text": [
      "[Testing]: 100%|██████████| 25/25 [00:00<00:00, 73.97it/s]\n"
     ]
    },
    {
     "name": "stdout",
     "output_type": "stream",
     "text": [
      "Progress for experiment 6 appended to results/02_mc_dropout/active_vs_standard_learning_curve.csv\n",
      "Starting ensemble training and pool evaluation...\n"
     ]
    },
    {
     "name": "stderr",
     "output_type": "stream",
     "text": [
      "MC Dropout Passes: 100%|██████████| 24/24 [00:49<00:00,  2.08s/it]\n"
     ]
    },
    {
     "name": "stdout",
     "output_type": "stream",
     "text": [
      "\n",
      "Cycle 8/16\n",
      "-------------------------------------------------\n",
      "Saving variance distribution to results/02_mc_dropout/variances8.csv...\n",
      "Save complete.\n",
      "Selecting new data points...\n",
      "\n",
      "Training and evaluating model using 128 actively selected samples...\n"
     ]
    },
    {
     "name": "stderr",
     "output_type": "stream",
     "text": [
      "[Training]: 100%|██████████| 50/50 [00:36<00:00,  1.36it/s]\n"
     ]
    },
    {
     "name": "stdout",
     "output_type": "stream",
     "text": [
      "Train Loss: 0.0224 | Val Loss: 0.1439 | SpearmanR: 0.6152\n"
     ]
    },
    {
     "name": "stderr",
     "output_type": "stream",
     "text": [
      "[Testing]: 100%|██████████| 25/25 [00:00<00:00, 74.39it/s]\n"
     ]
    },
    {
     "name": "stdout",
     "output_type": "stream",
     "text": [
      "\n",
      "Training and evaluating model using 128 randomly selected samples...\n"
     ]
    },
    {
     "name": "stderr",
     "output_type": "stream",
     "text": [
      "[Training]: 100%|██████████| 50/50 [00:41<00:00,  1.21it/s]\n"
     ]
    },
    {
     "name": "stdout",
     "output_type": "stream",
     "text": [
      "Train Loss: 0.0206 | Val Loss: 0.1617 | SpearmanR: 0.5830\n"
     ]
    },
    {
     "name": "stderr",
     "output_type": "stream",
     "text": [
      "[Testing]: 100%|██████████| 25/25 [00:00<00:00, 74.07it/s]\n"
     ]
    },
    {
     "name": "stdout",
     "output_type": "stream",
     "text": [
      "Progress for experiment 7 appended to results/02_mc_dropout/active_vs_standard_learning_curve.csv\n",
      "Starting ensemble training and pool evaluation...\n"
     ]
    },
    {
     "name": "stderr",
     "output_type": "stream",
     "text": [
      "MC Dropout Passes: 100%|██████████| 24/24 [00:49<00:00,  2.06s/it]\n"
     ]
    },
    {
     "name": "stdout",
     "output_type": "stream",
     "text": [
      "\n",
      "Cycle 9/16\n",
      "-------------------------------------------------\n",
      "Saving variance distribution to results/02_mc_dropout/variances9.csv...\n",
      "Save complete.\n",
      "Selecting new data points...\n",
      "\n",
      "Training and evaluating model using 144 actively selected samples...\n"
     ]
    },
    {
     "name": "stderr",
     "output_type": "stream",
     "text": [
      "[Training]:  96%|█████████▌| 48/50 [00:41<00:01,  1.16it/s]\n"
     ]
    },
    {
     "name": "stdout",
     "output_type": "stream",
     "text": [
      "Early stopping triggered after 10 epochs with no improvement.\n",
      "Train Loss: 0.0276 | Val Loss: 0.1649 | SpearmanR: 0.5648\n"
     ]
    },
    {
     "name": "stderr",
     "output_type": "stream",
     "text": [
      "[Testing]: 100%|██████████| 25/25 [00:00<00:00, 74.03it/s]\n"
     ]
    },
    {
     "name": "stdout",
     "output_type": "stream",
     "text": [
      "\n",
      "Training and evaluating model using 144 randomly selected samples...\n"
     ]
    },
    {
     "name": "stderr",
     "output_type": "stream",
     "text": [
      "[Training]:  72%|███████▏  | 36/50 [00:28<00:10,  1.29it/s]\n"
     ]
    },
    {
     "name": "stdout",
     "output_type": "stream",
     "text": [
      "Early stopping triggered after 10 epochs with no improvement.\n",
      "Train Loss: 0.0505 | Val Loss: 0.1197 | SpearmanR: 0.6391\n"
     ]
    },
    {
     "name": "stderr",
     "output_type": "stream",
     "text": [
      "[Testing]: 100%|██████████| 25/25 [00:00<00:00, 73.68it/s]\n"
     ]
    },
    {
     "name": "stdout",
     "output_type": "stream",
     "text": [
      "Progress for experiment 8 appended to results/02_mc_dropout/active_vs_standard_learning_curve.csv\n",
      "Starting ensemble training and pool evaluation...\n"
     ]
    },
    {
     "name": "stderr",
     "output_type": "stream",
     "text": [
      "MC Dropout Passes: 100%|██████████| 24/24 [00:49<00:00,  2.07s/it]\n"
     ]
    },
    {
     "name": "stdout",
     "output_type": "stream",
     "text": [
      "\n",
      "Cycle 10/16\n",
      "-------------------------------------------------\n",
      "Saving variance distribution to results/02_mc_dropout/variances10.csv...\n",
      "Save complete.\n",
      "Selecting new data points...\n",
      "\n",
      "Training and evaluating model using 160 actively selected samples...\n"
     ]
    },
    {
     "name": "stderr",
     "output_type": "stream",
     "text": [
      "[Training]:  86%|████████▌ | 43/50 [00:31<00:05,  1.37it/s]\n"
     ]
    },
    {
     "name": "stdout",
     "output_type": "stream",
     "text": [
      "Early stopping triggered after 10 epochs with no improvement.\n",
      "Train Loss: 0.0312 | Val Loss: 0.1337 | SpearmanR: 0.5957\n"
     ]
    },
    {
     "name": "stderr",
     "output_type": "stream",
     "text": [
      "[Testing]: 100%|██████████| 25/25 [00:00<00:00, 73.43it/s]\n"
     ]
    },
    {
     "name": "stdout",
     "output_type": "stream",
     "text": [
      "\n",
      "Training and evaluating model using 160 randomly selected samples...\n"
     ]
    },
    {
     "name": "stderr",
     "output_type": "stream",
     "text": [
      "[Training]: 100%|██████████| 50/50 [00:35<00:00,  1.40it/s]\n"
     ]
    },
    {
     "name": "stdout",
     "output_type": "stream",
     "text": [
      "Train Loss: 0.0351 | Val Loss: 0.1425 | SpearmanR: 0.6527\n"
     ]
    },
    {
     "name": "stderr",
     "output_type": "stream",
     "text": [
      "[Testing]: 100%|██████████| 25/25 [00:00<00:00, 73.47it/s]\n"
     ]
    },
    {
     "name": "stdout",
     "output_type": "stream",
     "text": [
      "Progress for experiment 9 appended to results/02_mc_dropout/active_vs_standard_learning_curve.csv\n",
      "Starting ensemble training and pool evaluation...\n"
     ]
    },
    {
     "name": "stderr",
     "output_type": "stream",
     "text": [
      "MC Dropout Passes: 100%|██████████| 24/24 [00:49<00:00,  2.06s/it]\n"
     ]
    },
    {
     "name": "stdout",
     "output_type": "stream",
     "text": [
      "\n",
      "Cycle 11/16\n",
      "-------------------------------------------------\n",
      "Saving variance distribution to results/02_mc_dropout/variances11.csv...\n",
      "Save complete.\n",
      "Selecting new data points...\n",
      "\n",
      "Training and evaluating model using 176 actively selected samples...\n"
     ]
    },
    {
     "name": "stderr",
     "output_type": "stream",
     "text": [
      "[Training]: 100%|██████████| 50/50 [00:36<00:00,  1.35it/s]\n"
     ]
    },
    {
     "name": "stdout",
     "output_type": "stream",
     "text": [
      "Train Loss: 0.0425 | Val Loss: 0.1459 | SpearmanR: 0.6037\n"
     ]
    },
    {
     "name": "stderr",
     "output_type": "stream",
     "text": [
      "[Testing]: 100%|██████████| 25/25 [00:00<00:00, 73.27it/s]\n"
     ]
    },
    {
     "name": "stdout",
     "output_type": "stream",
     "text": [
      "\n",
      "Training and evaluating model using 176 randomly selected samples...\n"
     ]
    },
    {
     "name": "stderr",
     "output_type": "stream",
     "text": [
      "[Training]:  96%|█████████▌| 48/50 [00:36<00:01,  1.31it/s]\n"
     ]
    },
    {
     "name": "stdout",
     "output_type": "stream",
     "text": [
      "Early stopping triggered after 10 epochs with no improvement.\n",
      "Train Loss: 0.0194 | Val Loss: 0.1579 | SpearmanR: 0.6019\n"
     ]
    },
    {
     "name": "stderr",
     "output_type": "stream",
     "text": [
      "[Testing]: 100%|██████████| 25/25 [00:00<00:00, 73.67it/s]\n"
     ]
    },
    {
     "name": "stdout",
     "output_type": "stream",
     "text": [
      "Progress for experiment 10 appended to results/02_mc_dropout/active_vs_standard_learning_curve.csv\n",
      "Starting ensemble training and pool evaluation...\n"
     ]
    },
    {
     "name": "stderr",
     "output_type": "stream",
     "text": [
      "MC Dropout Passes: 100%|██████████| 24/24 [08:44<00:00, 21.87s/it] \n"
     ]
    },
    {
     "name": "stdout",
     "output_type": "stream",
     "text": [
      "\n",
      "Cycle 12/16\n",
      "-------------------------------------------------\n",
      "Saving variance distribution to results/02_mc_dropout/variances12.csv...\n",
      "Save complete.\n",
      "Selecting new data points...\n",
      "\n",
      "Training and evaluating model using 192 actively selected samples...\n"
     ]
    },
    {
     "name": "stderr",
     "output_type": "stream",
     "text": [
      "[Training]:  88%|████████▊ | 44/50 [00:35<00:04,  1.24it/s]\n"
     ]
    },
    {
     "name": "stdout",
     "output_type": "stream",
     "text": [
      "Early stopping triggered after 10 epochs with no improvement.\n",
      "Train Loss: 0.0480 | Val Loss: 0.1434 | SpearmanR: 0.6488\n"
     ]
    },
    {
     "name": "stderr",
     "output_type": "stream",
     "text": [
      "[Testing]: 100%|██████████| 25/25 [00:00<00:00, 72.18it/s]\n"
     ]
    },
    {
     "name": "stdout",
     "output_type": "stream",
     "text": [
      "\n",
      "Training and evaluating model using 192 randomly selected samples...\n"
     ]
    },
    {
     "name": "stderr",
     "output_type": "stream",
     "text": [
      "[Training]:  70%|███████   | 35/50 [00:28<00:12,  1.21it/s]\n"
     ]
    },
    {
     "name": "stdout",
     "output_type": "stream",
     "text": [
      "Early stopping triggered after 10 epochs with no improvement.\n",
      "Train Loss: 0.0469 | Val Loss: 0.1227 | SpearmanR: 0.6404\n"
     ]
    },
    {
     "name": "stderr",
     "output_type": "stream",
     "text": [
      "[Testing]: 100%|██████████| 25/25 [00:00<00:00, 72.37it/s]\n"
     ]
    },
    {
     "name": "stdout",
     "output_type": "stream",
     "text": [
      "Progress for experiment 11 appended to results/02_mc_dropout/active_vs_standard_learning_curve.csv\n",
      "Starting ensemble training and pool evaluation...\n"
     ]
    },
    {
     "name": "stderr",
     "output_type": "stream",
     "text": [
      "MC Dropout Passes: 100%|██████████| 24/24 [00:49<00:00,  2.06s/it]\n"
     ]
    },
    {
     "name": "stdout",
     "output_type": "stream",
     "text": [
      "\n",
      "Cycle 13/16\n",
      "-------------------------------------------------\n",
      "Saving variance distribution to results/02_mc_dropout/variances13.csv...\n",
      "Save complete.\n",
      "Selecting new data points...\n",
      "\n",
      "Training and evaluating model using 208 actively selected samples...\n"
     ]
    },
    {
     "name": "stderr",
     "output_type": "stream",
     "text": [
      "[Training]:  84%|████████▍ | 42/50 [00:34<00:06,  1.21it/s]\n"
     ]
    },
    {
     "name": "stdout",
     "output_type": "stream",
     "text": [
      "Early stopping triggered after 10 epochs with no improvement.\n",
      "Train Loss: 0.0350 | Val Loss: 0.1390 | SpearmanR: 0.6288\n"
     ]
    },
    {
     "name": "stderr",
     "output_type": "stream",
     "text": [
      "[Testing]: 100%|██████████| 25/25 [00:00<00:00, 72.60it/s]\n"
     ]
    },
    {
     "name": "stdout",
     "output_type": "stream",
     "text": [
      "\n",
      "Training and evaluating model using 208 randomly selected samples...\n"
     ]
    },
    {
     "name": "stderr",
     "output_type": "stream",
     "text": [
      "[Training]:  86%|████████▌ | 43/50 [00:36<00:05,  1.18it/s]\n"
     ]
    },
    {
     "name": "stdout",
     "output_type": "stream",
     "text": [
      "Early stopping triggered after 10 epochs with no improvement.\n",
      "Train Loss: 0.0168 | Val Loss: 0.1222 | SpearmanR: 0.6614\n"
     ]
    },
    {
     "name": "stderr",
     "output_type": "stream",
     "text": [
      "[Testing]: 100%|██████████| 25/25 [00:00<00:00, 73.25it/s]\n"
     ]
    },
    {
     "name": "stdout",
     "output_type": "stream",
     "text": [
      "Progress for experiment 12 appended to results/02_mc_dropout/active_vs_standard_learning_curve.csv\n",
      "Starting ensemble training and pool evaluation...\n"
     ]
    },
    {
     "name": "stderr",
     "output_type": "stream",
     "text": [
      "MC Dropout Passes: 100%|██████████| 24/24 [00:49<00:00,  2.04s/it]\n"
     ]
    },
    {
     "name": "stdout",
     "output_type": "stream",
     "text": [
      "\n",
      "Cycle 14/16\n",
      "-------------------------------------------------\n",
      "Saving variance distribution to results/02_mc_dropout/variances14.csv...\n",
      "Save complete.\n",
      "Selecting new data points...\n",
      "\n",
      "Training and evaluating model using 224 actively selected samples...\n"
     ]
    },
    {
     "name": "stderr",
     "output_type": "stream",
     "text": [
      "[Training]:  74%|███████▍  | 37/50 [00:32<00:11,  1.12it/s]\n"
     ]
    },
    {
     "name": "stdout",
     "output_type": "stream",
     "text": [
      "Early stopping triggered after 10 epochs with no improvement.\n",
      "Train Loss: 0.0309 | Val Loss: 0.1252 | SpearmanR: 0.6366\n"
     ]
    },
    {
     "name": "stderr",
     "output_type": "stream",
     "text": [
      "[Testing]: 100%|██████████| 25/25 [00:00<00:00, 72.41it/s]\n"
     ]
    },
    {
     "name": "stdout",
     "output_type": "stream",
     "text": [
      "\n",
      "Training and evaluating model using 224 randomly selected samples...\n"
     ]
    },
    {
     "name": "stderr",
     "output_type": "stream",
     "text": [
      "[Training]:  96%|█████████▌| 48/50 [00:41<00:01,  1.16it/s]\n"
     ]
    },
    {
     "name": "stdout",
     "output_type": "stream",
     "text": [
      "Early stopping triggered after 10 epochs with no improvement.\n",
      "Train Loss: 0.0144 | Val Loss: 0.1310 | SpearmanR: 0.6507\n"
     ]
    },
    {
     "name": "stderr",
     "output_type": "stream",
     "text": [
      "[Testing]: 100%|██████████| 25/25 [00:00<00:00, 72.62it/s]\n"
     ]
    },
    {
     "name": "stdout",
     "output_type": "stream",
     "text": [
      "Progress for experiment 13 appended to results/02_mc_dropout/active_vs_standard_learning_curve.csv\n",
      "Starting ensemble training and pool evaluation...\n"
     ]
    },
    {
     "name": "stderr",
     "output_type": "stream",
     "text": [
      "MC Dropout Passes: 100%|██████████| 24/24 [00:48<00:00,  2.02s/it]\n"
     ]
    },
    {
     "name": "stdout",
     "output_type": "stream",
     "text": [
      "\n",
      "Cycle 15/16\n",
      "-------------------------------------------------\n",
      "Saving variance distribution to results/02_mc_dropout/variances15.csv...\n",
      "Save complete.\n",
      "Selecting new data points...\n",
      "\n",
      "Training and evaluating model using 240 actively selected samples...\n"
     ]
    },
    {
     "name": "stderr",
     "output_type": "stream",
     "text": [
      "[Training]:  94%|█████████▍| 47/50 [00:43<00:02,  1.09it/s]\n"
     ]
    },
    {
     "name": "stdout",
     "output_type": "stream",
     "text": [
      "Early stopping triggered after 10 epochs with no improvement.\n",
      "Train Loss: 0.0175 | Val Loss: 0.1109 | SpearmanR: 0.6796\n"
     ]
    },
    {
     "name": "stderr",
     "output_type": "stream",
     "text": [
      "[Testing]: 100%|██████████| 25/25 [00:00<00:00, 72.85it/s]\n"
     ]
    },
    {
     "name": "stdout",
     "output_type": "stream",
     "text": [
      "\n",
      "Training and evaluating model using 240 randomly selected samples...\n"
     ]
    },
    {
     "name": "stderr",
     "output_type": "stream",
     "text": [
      "[Training]: 100%|██████████| 50/50 [00:44<00:00,  1.13it/s]\n"
     ]
    },
    {
     "name": "stdout",
     "output_type": "stream",
     "text": [
      "Train Loss: 0.0221 | Val Loss: 0.0970 | SpearmanR: 0.7059\n"
     ]
    },
    {
     "name": "stderr",
     "output_type": "stream",
     "text": [
      "[Testing]: 100%|██████████| 25/25 [00:00<00:00, 72.26it/s]\n"
     ]
    },
    {
     "name": "stdout",
     "output_type": "stream",
     "text": [
      "Progress for experiment 14 appended to results/02_mc_dropout/active_vs_standard_learning_curve.csv\n",
      "Starting ensemble training and pool evaluation...\n"
     ]
    },
    {
     "name": "stderr",
     "output_type": "stream",
     "text": [
      "MC Dropout Passes: 100%|██████████| 24/24 [00:48<00:00,  2.03s/it]\n"
     ]
    },
    {
     "name": "stdout",
     "output_type": "stream",
     "text": [
      "\n",
      "Cycle 16/16\n",
      "-------------------------------------------------\n",
      "Saving variance distribution to results/02_mc_dropout/variances16.csv...\n",
      "Save complete.\n",
      "Selecting new data points...\n",
      "\n",
      "Training and evaluating model using 256 actively selected samples...\n"
     ]
    },
    {
     "name": "stderr",
     "output_type": "stream",
     "text": [
      "[Training]: 100%|██████████| 50/50 [00:45<00:00,  1.11it/s]\n"
     ]
    },
    {
     "name": "stdout",
     "output_type": "stream",
     "text": [
      "Train Loss: 0.0136 | Val Loss: 0.1171 | SpearmanR: 0.6647\n"
     ]
    },
    {
     "name": "stderr",
     "output_type": "stream",
     "text": [
      "[Testing]: 100%|██████████| 25/25 [00:00<00:00, 72.09it/s]\n"
     ]
    },
    {
     "name": "stdout",
     "output_type": "stream",
     "text": [
      "\n",
      "Training and evaluating model using 256 randomly selected samples...\n"
     ]
    },
    {
     "name": "stderr",
     "output_type": "stream",
     "text": [
      "[Training]: 100%|██████████| 50/50 [00:46<00:00,  1.08it/s]\n"
     ]
    },
    {
     "name": "stdout",
     "output_type": "stream",
     "text": [
      "Train Loss: 0.0124 | Val Loss: 0.0938 | SpearmanR: 0.7219\n"
     ]
    },
    {
     "name": "stderr",
     "output_type": "stream",
     "text": [
      "[Testing]: 100%|██████████| 25/25 [00:00<00:00, 72.21it/s]"
     ]
    },
    {
     "name": "stdout",
     "output_type": "stream",
     "text": [
      "Progress for experiment 15 appended to results/02_mc_dropout/active_vs_standard_learning_curve.csv\n",
      "Experiments complete.\n"
     ]
    },
    {
     "name": "stderr",
     "output_type": "stream",
     "text": [
      "\n"
     ]
    },
    {
     "data": {
      "text/html": [
       "<div>\n",
       "<style scoped>\n",
       "    .dataframe tbody tr th:only-of-type {\n",
       "        vertical-align: middle;\n",
       "    }\n",
       "\n",
       "    .dataframe tbody tr th {\n",
       "        vertical-align: top;\n",
       "    }\n",
       "\n",
       "    .dataframe thead th {\n",
       "        text-align: right;\n",
       "    }\n",
       "</style>\n",
       "<table border=\"1\" class=\"dataframe\">\n",
       "  <thead>\n",
       "    <tr style=\"text-align: right;\">\n",
       "      <th></th>\n",
       "      <th>changing_var</th>\n",
       "      <th>local_exp_idx</th>\n",
       "      <th>value</th>\n",
       "      <th>training_method</th>\n",
       "      <th>avg_test_loss</th>\n",
       "      <th>spearmanr</th>\n",
       "      <th>pearsonr</th>\n",
       "      <th>final_mse</th>\n",
       "    </tr>\n",
       "  </thead>\n",
       "  <tbody>\n",
       "    <tr>\n",
       "      <th>0</th>\n",
       "      <td>n_samples</td>\n",
       "      <td>0</td>\n",
       "      <td>16</td>\n",
       "      <td>active</td>\n",
       "      <td>0.201972</td>\n",
       "      <td>0.342964</td>\n",
       "      <td>0.267876</td>\n",
       "      <td>0.202025</td>\n",
       "    </tr>\n",
       "    <tr>\n",
       "      <th>1</th>\n",
       "      <td>n_samples</td>\n",
       "      <td>0</td>\n",
       "      <td>16</td>\n",
       "      <td>standard</td>\n",
       "      <td>0.255758</td>\n",
       "      <td>0.378769</td>\n",
       "      <td>0.378958</td>\n",
       "      <td>0.256003</td>\n",
       "    </tr>\n",
       "    <tr>\n",
       "      <th>2</th>\n",
       "      <td>n_samples</td>\n",
       "      <td>1</td>\n",
       "      <td>32</td>\n",
       "      <td>active</td>\n",
       "      <td>0.161405</td>\n",
       "      <td>0.477551</td>\n",
       "      <td>0.449355</td>\n",
       "      <td>0.161907</td>\n",
       "    </tr>\n",
       "    <tr>\n",
       "      <th>3</th>\n",
       "      <td>n_samples</td>\n",
       "      <td>1</td>\n",
       "      <td>32</td>\n",
       "      <td>standard</td>\n",
       "      <td>0.204779</td>\n",
       "      <td>0.291629</td>\n",
       "      <td>0.253262</td>\n",
       "      <td>0.204862</td>\n",
       "    </tr>\n",
       "    <tr>\n",
       "      <th>4</th>\n",
       "      <td>n_samples</td>\n",
       "      <td>2</td>\n",
       "      <td>48</td>\n",
       "      <td>active</td>\n",
       "      <td>0.200616</td>\n",
       "      <td>0.158285</td>\n",
       "      <td>0.223110</td>\n",
       "      <td>0.200577</td>\n",
       "    </tr>\n",
       "    <tr>\n",
       "      <th>...</th>\n",
       "      <td>...</td>\n",
       "      <td>...</td>\n",
       "      <td>...</td>\n",
       "      <td>...</td>\n",
       "      <td>...</td>\n",
       "      <td>...</td>\n",
       "      <td>...</td>\n",
       "      <td>...</td>\n",
       "    </tr>\n",
       "    <tr>\n",
       "      <th>61</th>\n",
       "      <td>n_samples</td>\n",
       "      <td>13</td>\n",
       "      <td>224</td>\n",
       "      <td>standard</td>\n",
       "      <td>0.112046</td>\n",
       "      <td>0.699359</td>\n",
       "      <td>0.689481</td>\n",
       "      <td>0.111939</td>\n",
       "    </tr>\n",
       "    <tr>\n",
       "      <th>62</th>\n",
       "      <td>n_samples</td>\n",
       "      <td>14</td>\n",
       "      <td>240</td>\n",
       "      <td>active</td>\n",
       "      <td>0.120508</td>\n",
       "      <td>0.659675</td>\n",
       "      <td>0.661392</td>\n",
       "      <td>0.120622</td>\n",
       "    </tr>\n",
       "    <tr>\n",
       "      <th>63</th>\n",
       "      <td>n_samples</td>\n",
       "      <td>14</td>\n",
       "      <td>240</td>\n",
       "      <td>standard</td>\n",
       "      <td>0.120112</td>\n",
       "      <td>0.704371</td>\n",
       "      <td>0.695376</td>\n",
       "      <td>0.120664</td>\n",
       "    </tr>\n",
       "    <tr>\n",
       "      <th>64</th>\n",
       "      <td>n_samples</td>\n",
       "      <td>15</td>\n",
       "      <td>256</td>\n",
       "      <td>active</td>\n",
       "      <td>0.116768</td>\n",
       "      <td>0.684547</td>\n",
       "      <td>0.683357</td>\n",
       "      <td>0.117253</td>\n",
       "    </tr>\n",
       "    <tr>\n",
       "      <th>65</th>\n",
       "      <td>n_samples</td>\n",
       "      <td>15</td>\n",
       "      <td>256</td>\n",
       "      <td>standard</td>\n",
       "      <td>0.102367</td>\n",
       "      <td>0.704682</td>\n",
       "      <td>0.700171</td>\n",
       "      <td>0.102411</td>\n",
       "    </tr>\n",
       "  </tbody>\n",
       "</table>\n",
       "<p>66 rows × 8 columns</p>\n",
       "</div>"
      ],
      "text/plain": [
       "   changing_var  local_exp_idx  value training_method  avg_test_loss  \\\n",
       "0     n_samples              0     16          active       0.201972   \n",
       "1     n_samples              0     16        standard       0.255758   \n",
       "2     n_samples              1     32          active       0.161405   \n",
       "3     n_samples              1     32        standard       0.204779   \n",
       "4     n_samples              2     48          active       0.200616   \n",
       "..          ...            ...    ...             ...            ...   \n",
       "61    n_samples             13    224        standard       0.112046   \n",
       "62    n_samples             14    240          active       0.120508   \n",
       "63    n_samples             14    240        standard       0.120112   \n",
       "64    n_samples             15    256          active       0.116768   \n",
       "65    n_samples             15    256        standard       0.102367   \n",
       "\n",
       "    spearmanr  pearsonr  final_mse  \n",
       "0    0.342964  0.267876   0.202025  \n",
       "1    0.378769  0.378958   0.256003  \n",
       "2    0.477551  0.449355   0.161907  \n",
       "3    0.291629  0.253262   0.204862  \n",
       "4    0.158285  0.223110   0.200577  \n",
       "..        ...       ...        ...  \n",
       "61   0.699359  0.689481   0.111939  \n",
       "62   0.659675  0.661392   0.120622  \n",
       "63   0.704371  0.695376   0.120664  \n",
       "64   0.684547  0.683357   0.117253  \n",
       "65   0.704682  0.700171   0.102411  \n",
       "\n",
       "[66 rows x 8 columns]"
      ]
     },
     "execution_count": 4,
     "metadata": {},
     "output_type": "execute_result"
    }
   ],
   "source": [
    "from scripts.config import (\n",
    "    MODEL_NAME,\n",
    "    APPROACH,\n",
    "    LEARNING_RATE,\n",
    "    WEIGHT_DECAY,\n",
    "    EPOCHS,\n",
    "    POOL_BATCH_SIZE,\n",
    "    PATIENCE,\n",
    "    K_PREDS\n",
    ")\n",
    "\n",
    "get_learning_curves(\n",
    "    n_samples=256,\n",
    "    initial_n_samples=16,\n",
    "    n_samples_per_batch=16,\n",
    "    model_name=MODEL_NAME,\n",
    "    approach=APPROACH,\n",
    "    learning_rate=LEARNING_RATE,\n",
    "    weight_decay=WEIGHT_DECAY,\n",
    "    epochs=EPOCHS,\n",
    "    training_pool=training_pool,\n",
    "    train_dataloader_batch_size=BATCH_SIZE,\n",
    "    pool_dataloader_batch_size=POOL_BATCH_SIZE,\n",
    "    val_dataloader=val_dataloader,\n",
    "    test_dataloader=test_dataloader,\n",
    "    patience=PATIENCE,\n",
    "    k_pred=K_PREDS,\n",
    "    results_path='results/02_mc_dropout/active_vs_standard_learning_curve.csv'\n",
    ")"
   ]
  },
  {
   "cell_type": "code",
   "execution_count": 4,
   "id": "617b5948",
   "metadata": {},
   "outputs": [
    {
     "data": {
      "text/html": [
       "<div>\n",
       "<style scoped>\n",
       "    .dataframe tbody tr th:only-of-type {\n",
       "        vertical-align: middle;\n",
       "    }\n",
       "\n",
       "    .dataframe tbody tr th {\n",
       "        vertical-align: top;\n",
       "    }\n",
       "\n",
       "    .dataframe thead th {\n",
       "        text-align: right;\n",
       "    }\n",
       "</style>\n",
       "<table border=\"1\" class=\"dataframe\">\n",
       "  <thead>\n",
       "    <tr style=\"text-align: right;\">\n",
       "      <th></th>\n",
       "      <th>changing_var</th>\n",
       "      <th>local_exp_idx</th>\n",
       "      <th>value</th>\n",
       "      <th>training_method</th>\n",
       "      <th>avg_test_loss</th>\n",
       "      <th>spearmanr</th>\n",
       "      <th>pearsonr</th>\n",
       "      <th>final_mse</th>\n",
       "    </tr>\n",
       "  </thead>\n",
       "  <tbody>\n",
       "    <tr>\n",
       "      <th>0</th>\n",
       "      <td>n_samples</td>\n",
       "      <td>0</td>\n",
       "      <td>16</td>\n",
       "      <td>active</td>\n",
       "      <td>0.195808</td>\n",
       "      <td>0.359393</td>\n",
       "      <td>0.347008</td>\n",
       "      <td>0.196497</td>\n",
       "    </tr>\n",
       "    <tr>\n",
       "      <th>1</th>\n",
       "      <td>n_samples</td>\n",
       "      <td>0</td>\n",
       "      <td>16</td>\n",
       "      <td>standard</td>\n",
       "      <td>0.208022</td>\n",
       "      <td>0.108390</td>\n",
       "      <td>0.151105</td>\n",
       "      <td>0.207960</td>\n",
       "    </tr>\n",
       "    <tr>\n",
       "      <th>2</th>\n",
       "      <td>n_samples</td>\n",
       "      <td>1</td>\n",
       "      <td>32</td>\n",
       "      <td>active</td>\n",
       "      <td>0.264610</td>\n",
       "      <td>0.456056</td>\n",
       "      <td>0.480326</td>\n",
       "      <td>0.265571</td>\n",
       "    </tr>\n",
       "    <tr>\n",
       "      <th>3</th>\n",
       "      <td>n_samples</td>\n",
       "      <td>1</td>\n",
       "      <td>32</td>\n",
       "      <td>standard</td>\n",
       "      <td>0.203834</td>\n",
       "      <td>0.324084</td>\n",
       "      <td>0.331453</td>\n",
       "      <td>0.204373</td>\n",
       "    </tr>\n",
       "    <tr>\n",
       "      <th>4</th>\n",
       "      <td>n_samples</td>\n",
       "      <td>2</td>\n",
       "      <td>48</td>\n",
       "      <td>active</td>\n",
       "      <td>0.160523</td>\n",
       "      <td>0.489545</td>\n",
       "      <td>0.512429</td>\n",
       "      <td>0.161426</td>\n",
       "    </tr>\n",
       "  </tbody>\n",
       "</table>\n",
       "</div>"
      ],
      "text/plain": [
       "  changing_var  local_exp_idx  value training_method  avg_test_loss  \\\n",
       "0    n_samples              0     16          active       0.195808   \n",
       "1    n_samples              0     16        standard       0.208022   \n",
       "2    n_samples              1     32          active       0.264610   \n",
       "3    n_samples              1     32        standard       0.203834   \n",
       "4    n_samples              2     48          active       0.160523   \n",
       "\n",
       "   spearmanr  pearsonr  final_mse  \n",
       "0   0.359393  0.347008   0.196497  \n",
       "1   0.108390  0.151105   0.207960  \n",
       "2   0.456056  0.480326   0.265571  \n",
       "3   0.324084  0.331453   0.204373  \n",
       "4   0.489545  0.512429   0.161426  "
      ]
     },
     "execution_count": 4,
     "metadata": {},
     "output_type": "execute_result"
    }
   ],
   "source": [
    "import pandas as pd\n",
    "\n",
    "lc_df = pd.read_csv(\"results/02_mc_dropout/active_vs_standard_learning_curve.csv\")\n",
    "lc_df.head()"
   ]
  },
  {
   "cell_type": "code",
   "execution_count": 5,
   "id": "321dc03f",
   "metadata": {},
   "outputs": [
    {
     "data": {
      "application/vnd.plotly.v1+json": {
       "config": {
        "plotlyServerURL": "https://plot.ly"
       },
       "data": [
        {
         "hovertemplate": "training_method=active<br>value=%{x}<br>spearmanr=%{y}<extra></extra>",
         "legendgroup": "active",
         "line": {
          "color": "#636efa",
          "dash": "solid"
         },
         "marker": {
          "symbol": "circle"
         },
         "mode": "lines",
         "name": "active",
         "orientation": "v",
         "showlegend": true,
         "type": "scatter",
         "x": {
          "bdata": "EAAgADAAQABQAGAAcACAAJAAoACwAMAA0ADgAPAAAAE=",
          "dtype": "i2"
         },
         "xaxis": "x",
         "y": {
          "bdata": "////30sA1z8AAAAABDDdPwAAAKC2VN8/AAAAwDcr4D8AAABAH5jjPwAAAID9e+I/AAAAYKqw4T8AAABAnxzkPwAAACDtuuI/AAAAQBq84z8AAADgZPLjPwAAAGBc2uQ/AAAAIFgV5T8AAAAAw6LkPwAAAEAPHOU/AAAAwM/n5T8=",
          "dtype": "f8"
         },
         "yaxis": "y"
        },
        {
         "hovertemplate": "training_method=standard<br>value=%{x}<br>spearmanr=%{y}<extra></extra>",
         "legendgroup": "standard",
         "line": {
          "color": "#EF553B",
          "dash": "solid"
         },
         "marker": {
          "symbol": "circle"
         },
         "mode": "lines",
         "name": "standard",
         "orientation": "v",
         "showlegend": true,
         "type": "scatter",
         "x": {
          "bdata": "EAAgADAAQABQAGAAcACAAJAAoACwAMAA0ADgAPAAAAE=",
          "dtype": "i2"
         },
         "xaxis": "x",
         "y": {
          "bdata": "////X22/uz/////fy73UPwAAAODFFuE/AAAAgPw+4D//////7GvdPwAAAGDqr+E/AAAAAEBW4j8AAADgdFnhPwAAACDgNuQ/AAAAoMun5D8AAABglvPhPwAAAECi3OU/AAAAoG1t5T8AAADAJmHmPwAAAMA1iuY/AAAAQMGM5j8=",
          "dtype": "f8"
         },
         "yaxis": "y"
        }
       ],
       "layout": {
        "legend": {
         "title": {
          "text": "training_method"
         },
         "tracegroupgap": 0
        },
        "margin": {
         "t": 60
        },
        "template": {
         "data": {
          "bar": [
           {
            "error_x": {
             "color": "#2a3f5f"
            },
            "error_y": {
             "color": "#2a3f5f"
            },
            "marker": {
             "line": {
              "color": "#E5ECF6",
              "width": 0.5
             },
             "pattern": {
              "fillmode": "overlay",
              "size": 10,
              "solidity": 0.2
             }
            },
            "type": "bar"
           }
          ],
          "barpolar": [
           {
            "marker": {
             "line": {
              "color": "#E5ECF6",
              "width": 0.5
             },
             "pattern": {
              "fillmode": "overlay",
              "size": 10,
              "solidity": 0.2
             }
            },
            "type": "barpolar"
           }
          ],
          "carpet": [
           {
            "aaxis": {
             "endlinecolor": "#2a3f5f",
             "gridcolor": "white",
             "linecolor": "white",
             "minorgridcolor": "white",
             "startlinecolor": "#2a3f5f"
            },
            "baxis": {
             "endlinecolor": "#2a3f5f",
             "gridcolor": "white",
             "linecolor": "white",
             "minorgridcolor": "white",
             "startlinecolor": "#2a3f5f"
            },
            "type": "carpet"
           }
          ],
          "choropleth": [
           {
            "colorbar": {
             "outlinewidth": 0,
             "ticks": ""
            },
            "type": "choropleth"
           }
          ],
          "contour": [
           {
            "colorbar": {
             "outlinewidth": 0,
             "ticks": ""
            },
            "colorscale": [
             [
              0,
              "#0d0887"
             ],
             [
              0.1111111111111111,
              "#46039f"
             ],
             [
              0.2222222222222222,
              "#7201a8"
             ],
             [
              0.3333333333333333,
              "#9c179e"
             ],
             [
              0.4444444444444444,
              "#bd3786"
             ],
             [
              0.5555555555555556,
              "#d8576b"
             ],
             [
              0.6666666666666666,
              "#ed7953"
             ],
             [
              0.7777777777777778,
              "#fb9f3a"
             ],
             [
              0.8888888888888888,
              "#fdca26"
             ],
             [
              1,
              "#f0f921"
             ]
            ],
            "type": "contour"
           }
          ],
          "contourcarpet": [
           {
            "colorbar": {
             "outlinewidth": 0,
             "ticks": ""
            },
            "type": "contourcarpet"
           }
          ],
          "heatmap": [
           {
            "colorbar": {
             "outlinewidth": 0,
             "ticks": ""
            },
            "colorscale": [
             [
              0,
              "#0d0887"
             ],
             [
              0.1111111111111111,
              "#46039f"
             ],
             [
              0.2222222222222222,
              "#7201a8"
             ],
             [
              0.3333333333333333,
              "#9c179e"
             ],
             [
              0.4444444444444444,
              "#bd3786"
             ],
             [
              0.5555555555555556,
              "#d8576b"
             ],
             [
              0.6666666666666666,
              "#ed7953"
             ],
             [
              0.7777777777777778,
              "#fb9f3a"
             ],
             [
              0.8888888888888888,
              "#fdca26"
             ],
             [
              1,
              "#f0f921"
             ]
            ],
            "type": "heatmap"
           }
          ],
          "histogram": [
           {
            "marker": {
             "pattern": {
              "fillmode": "overlay",
              "size": 10,
              "solidity": 0.2
             }
            },
            "type": "histogram"
           }
          ],
          "histogram2d": [
           {
            "colorbar": {
             "outlinewidth": 0,
             "ticks": ""
            },
            "colorscale": [
             [
              0,
              "#0d0887"
             ],
             [
              0.1111111111111111,
              "#46039f"
             ],
             [
              0.2222222222222222,
              "#7201a8"
             ],
             [
              0.3333333333333333,
              "#9c179e"
             ],
             [
              0.4444444444444444,
              "#bd3786"
             ],
             [
              0.5555555555555556,
              "#d8576b"
             ],
             [
              0.6666666666666666,
              "#ed7953"
             ],
             [
              0.7777777777777778,
              "#fb9f3a"
             ],
             [
              0.8888888888888888,
              "#fdca26"
             ],
             [
              1,
              "#f0f921"
             ]
            ],
            "type": "histogram2d"
           }
          ],
          "histogram2dcontour": [
           {
            "colorbar": {
             "outlinewidth": 0,
             "ticks": ""
            },
            "colorscale": [
             [
              0,
              "#0d0887"
             ],
             [
              0.1111111111111111,
              "#46039f"
             ],
             [
              0.2222222222222222,
              "#7201a8"
             ],
             [
              0.3333333333333333,
              "#9c179e"
             ],
             [
              0.4444444444444444,
              "#bd3786"
             ],
             [
              0.5555555555555556,
              "#d8576b"
             ],
             [
              0.6666666666666666,
              "#ed7953"
             ],
             [
              0.7777777777777778,
              "#fb9f3a"
             ],
             [
              0.8888888888888888,
              "#fdca26"
             ],
             [
              1,
              "#f0f921"
             ]
            ],
            "type": "histogram2dcontour"
           }
          ],
          "mesh3d": [
           {
            "colorbar": {
             "outlinewidth": 0,
             "ticks": ""
            },
            "type": "mesh3d"
           }
          ],
          "parcoords": [
           {
            "line": {
             "colorbar": {
              "outlinewidth": 0,
              "ticks": ""
             }
            },
            "type": "parcoords"
           }
          ],
          "pie": [
           {
            "automargin": true,
            "type": "pie"
           }
          ],
          "scatter": [
           {
            "fillpattern": {
             "fillmode": "overlay",
             "size": 10,
             "solidity": 0.2
            },
            "type": "scatter"
           }
          ],
          "scatter3d": [
           {
            "line": {
             "colorbar": {
              "outlinewidth": 0,
              "ticks": ""
             }
            },
            "marker": {
             "colorbar": {
              "outlinewidth": 0,
              "ticks": ""
             }
            },
            "type": "scatter3d"
           }
          ],
          "scattercarpet": [
           {
            "marker": {
             "colorbar": {
              "outlinewidth": 0,
              "ticks": ""
             }
            },
            "type": "scattercarpet"
           }
          ],
          "scattergeo": [
           {
            "marker": {
             "colorbar": {
              "outlinewidth": 0,
              "ticks": ""
             }
            },
            "type": "scattergeo"
           }
          ],
          "scattergl": [
           {
            "marker": {
             "colorbar": {
              "outlinewidth": 0,
              "ticks": ""
             }
            },
            "type": "scattergl"
           }
          ],
          "scattermap": [
           {
            "marker": {
             "colorbar": {
              "outlinewidth": 0,
              "ticks": ""
             }
            },
            "type": "scattermap"
           }
          ],
          "scattermapbox": [
           {
            "marker": {
             "colorbar": {
              "outlinewidth": 0,
              "ticks": ""
             }
            },
            "type": "scattermapbox"
           }
          ],
          "scatterpolar": [
           {
            "marker": {
             "colorbar": {
              "outlinewidth": 0,
              "ticks": ""
             }
            },
            "type": "scatterpolar"
           }
          ],
          "scatterpolargl": [
           {
            "marker": {
             "colorbar": {
              "outlinewidth": 0,
              "ticks": ""
             }
            },
            "type": "scatterpolargl"
           }
          ],
          "scatterternary": [
           {
            "marker": {
             "colorbar": {
              "outlinewidth": 0,
              "ticks": ""
             }
            },
            "type": "scatterternary"
           }
          ],
          "surface": [
           {
            "colorbar": {
             "outlinewidth": 0,
             "ticks": ""
            },
            "colorscale": [
             [
              0,
              "#0d0887"
             ],
             [
              0.1111111111111111,
              "#46039f"
             ],
             [
              0.2222222222222222,
              "#7201a8"
             ],
             [
              0.3333333333333333,
              "#9c179e"
             ],
             [
              0.4444444444444444,
              "#bd3786"
             ],
             [
              0.5555555555555556,
              "#d8576b"
             ],
             [
              0.6666666666666666,
              "#ed7953"
             ],
             [
              0.7777777777777778,
              "#fb9f3a"
             ],
             [
              0.8888888888888888,
              "#fdca26"
             ],
             [
              1,
              "#f0f921"
             ]
            ],
            "type": "surface"
           }
          ],
          "table": [
           {
            "cells": {
             "fill": {
              "color": "#EBF0F8"
             },
             "line": {
              "color": "white"
             }
            },
            "header": {
             "fill": {
              "color": "#C8D4E3"
             },
             "line": {
              "color": "white"
             }
            },
            "type": "table"
           }
          ]
         },
         "layout": {
          "annotationdefaults": {
           "arrowcolor": "#2a3f5f",
           "arrowhead": 0,
           "arrowwidth": 1
          },
          "autotypenumbers": "strict",
          "coloraxis": {
           "colorbar": {
            "outlinewidth": 0,
            "ticks": ""
           }
          },
          "colorscale": {
           "diverging": [
            [
             0,
             "#8e0152"
            ],
            [
             0.1,
             "#c51b7d"
            ],
            [
             0.2,
             "#de77ae"
            ],
            [
             0.3,
             "#f1b6da"
            ],
            [
             0.4,
             "#fde0ef"
            ],
            [
             0.5,
             "#f7f7f7"
            ],
            [
             0.6,
             "#e6f5d0"
            ],
            [
             0.7,
             "#b8e186"
            ],
            [
             0.8,
             "#7fbc41"
            ],
            [
             0.9,
             "#4d9221"
            ],
            [
             1,
             "#276419"
            ]
           ],
           "sequential": [
            [
             0,
             "#0d0887"
            ],
            [
             0.1111111111111111,
             "#46039f"
            ],
            [
             0.2222222222222222,
             "#7201a8"
            ],
            [
             0.3333333333333333,
             "#9c179e"
            ],
            [
             0.4444444444444444,
             "#bd3786"
            ],
            [
             0.5555555555555556,
             "#d8576b"
            ],
            [
             0.6666666666666666,
             "#ed7953"
            ],
            [
             0.7777777777777778,
             "#fb9f3a"
            ],
            [
             0.8888888888888888,
             "#fdca26"
            ],
            [
             1,
             "#f0f921"
            ]
           ],
           "sequentialminus": [
            [
             0,
             "#0d0887"
            ],
            [
             0.1111111111111111,
             "#46039f"
            ],
            [
             0.2222222222222222,
             "#7201a8"
            ],
            [
             0.3333333333333333,
             "#9c179e"
            ],
            [
             0.4444444444444444,
             "#bd3786"
            ],
            [
             0.5555555555555556,
             "#d8576b"
            ],
            [
             0.6666666666666666,
             "#ed7953"
            ],
            [
             0.7777777777777778,
             "#fb9f3a"
            ],
            [
             0.8888888888888888,
             "#fdca26"
            ],
            [
             1,
             "#f0f921"
            ]
           ]
          },
          "colorway": [
           "#636efa",
           "#EF553B",
           "#00cc96",
           "#ab63fa",
           "#FFA15A",
           "#19d3f3",
           "#FF6692",
           "#B6E880",
           "#FF97FF",
           "#FECB52"
          ],
          "font": {
           "color": "#2a3f5f"
          },
          "geo": {
           "bgcolor": "white",
           "lakecolor": "white",
           "landcolor": "#E5ECF6",
           "showlakes": true,
           "showland": true,
           "subunitcolor": "white"
          },
          "hoverlabel": {
           "align": "left"
          },
          "hovermode": "closest",
          "mapbox": {
           "style": "light"
          },
          "paper_bgcolor": "white",
          "plot_bgcolor": "#E5ECF6",
          "polar": {
           "angularaxis": {
            "gridcolor": "white",
            "linecolor": "white",
            "ticks": ""
           },
           "bgcolor": "#E5ECF6",
           "radialaxis": {
            "gridcolor": "white",
            "linecolor": "white",
            "ticks": ""
           }
          },
          "scene": {
           "xaxis": {
            "backgroundcolor": "#E5ECF6",
            "gridcolor": "white",
            "gridwidth": 2,
            "linecolor": "white",
            "showbackground": true,
            "ticks": "",
            "zerolinecolor": "white"
           },
           "yaxis": {
            "backgroundcolor": "#E5ECF6",
            "gridcolor": "white",
            "gridwidth": 2,
            "linecolor": "white",
            "showbackground": true,
            "ticks": "",
            "zerolinecolor": "white"
           },
           "zaxis": {
            "backgroundcolor": "#E5ECF6",
            "gridcolor": "white",
            "gridwidth": 2,
            "linecolor": "white",
            "showbackground": true,
            "ticks": "",
            "zerolinecolor": "white"
           }
          },
          "shapedefaults": {
           "line": {
            "color": "#2a3f5f"
           }
          },
          "ternary": {
           "aaxis": {
            "gridcolor": "white",
            "linecolor": "white",
            "ticks": ""
           },
           "baxis": {
            "gridcolor": "white",
            "linecolor": "white",
            "ticks": ""
           },
           "bgcolor": "#E5ECF6",
           "caxis": {
            "gridcolor": "white",
            "linecolor": "white",
            "ticks": ""
           }
          },
          "title": {
           "x": 0.05
          },
          "xaxis": {
           "automargin": true,
           "gridcolor": "white",
           "linecolor": "white",
           "ticks": "",
           "title": {
            "standoff": 15
           },
           "zerolinecolor": "white",
           "zerolinewidth": 2
          },
          "yaxis": {
           "automargin": true,
           "gridcolor": "white",
           "linecolor": "white",
           "ticks": "",
           "title": {
            "standoff": 15
           },
           "zerolinecolor": "white",
           "zerolinewidth": 2
          }
         }
        },
        "xaxis": {
         "anchor": "y",
         "domain": [
          0,
          1
         ],
         "title": {
          "text": "Number of Training Samples"
         }
        },
        "yaxis": {
         "anchor": "x",
         "domain": [
          0,
          1
         ],
         "title": {
          "text": "Spearman Correlation Coefficient"
         }
        }
       }
      }
     },
     "metadata": {},
     "output_type": "display_data"
    }
   ],
   "source": [
    "import plotly.express as px\n",
    "\n",
    "fig = px.line(lc_df, 'value', 'spearmanr',color=\"training_method\")\n",
    "\n",
    "fig.update_layout(\n",
    "    xaxis_title=\"Number of Training Samples\",\n",
    "    yaxis_title=\"Spearman Correlation Coefficient\"\n",
    ")\n",
    "\n",
    "fig.show()"
   ]
  },
  {
   "cell_type": "markdown",
   "id": "1cb50072",
   "metadata": {},
   "source": [
    "Rather than a consisent under performance like last time, we at least see comparable performance. This suggests to me that the large number of predictions being made is helping to better understand the true variance."
   ]
  },
  {
   "cell_type": "code",
   "execution_count": 6,
   "id": "01a7fe50",
   "metadata": {},
   "outputs": [
    {
     "data": {
      "text/html": [
       "<div>\n",
       "<style scoped>\n",
       "    .dataframe tbody tr th:only-of-type {\n",
       "        vertical-align: middle;\n",
       "    }\n",
       "\n",
       "    .dataframe tbody tr th {\n",
       "        vertical-align: top;\n",
       "    }\n",
       "\n",
       "    .dataframe thead th {\n",
       "        text-align: right;\n",
       "    }\n",
       "</style>\n",
       "<table border=\"1\" class=\"dataframe\">\n",
       "  <thead>\n",
       "    <tr style=\"text-align: right;\">\n",
       "      <th></th>\n",
       "      <th>variances10</th>\n",
       "      <th>variances11</th>\n",
       "      <th>variances12</th>\n",
       "      <th>variances13</th>\n",
       "      <th>variances14</th>\n",
       "      <th>variances15</th>\n",
       "      <th>variances16</th>\n",
       "      <th>variances2</th>\n",
       "      <th>variances3</th>\n",
       "      <th>variances4</th>\n",
       "      <th>variances5</th>\n",
       "      <th>variances6</th>\n",
       "      <th>variances7</th>\n",
       "      <th>variances8</th>\n",
       "      <th>variances9</th>\n",
       "    </tr>\n",
       "  </thead>\n",
       "  <tbody>\n",
       "    <tr>\n",
       "      <th>0</th>\n",
       "      <td>0.011277</td>\n",
       "      <td>0.008445</td>\n",
       "      <td>0.008688</td>\n",
       "      <td>0.010080</td>\n",
       "      <td>0.005996</td>\n",
       "      <td>0.025556</td>\n",
       "      <td>0.008448</td>\n",
       "      <td>0.004034</td>\n",
       "      <td>0.007592</td>\n",
       "      <td>0.010373</td>\n",
       "      <td>0.007311</td>\n",
       "      <td>0.006803</td>\n",
       "      <td>0.008743</td>\n",
       "      <td>0.004441</td>\n",
       "      <td>0.004548</td>\n",
       "    </tr>\n",
       "    <tr>\n",
       "      <th>1</th>\n",
       "      <td>0.005809</td>\n",
       "      <td>0.006113</td>\n",
       "      <td>0.007618</td>\n",
       "      <td>0.011967</td>\n",
       "      <td>0.010542</td>\n",
       "      <td>0.015099</td>\n",
       "      <td>0.007711</td>\n",
       "      <td>0.005939</td>\n",
       "      <td>0.004571</td>\n",
       "      <td>0.011246</td>\n",
       "      <td>0.013604</td>\n",
       "      <td>0.009452</td>\n",
       "      <td>0.013490</td>\n",
       "      <td>0.004208</td>\n",
       "      <td>0.008405</td>\n",
       "    </tr>\n",
       "    <tr>\n",
       "      <th>2</th>\n",
       "      <td>0.008899</td>\n",
       "      <td>0.008993</td>\n",
       "      <td>0.017221</td>\n",
       "      <td>0.005632</td>\n",
       "      <td>0.013606</td>\n",
       "      <td>0.012596</td>\n",
       "      <td>0.005104</td>\n",
       "      <td>0.004966</td>\n",
       "      <td>0.002734</td>\n",
       "      <td>0.009145</td>\n",
       "      <td>0.005954</td>\n",
       "      <td>0.002862</td>\n",
       "      <td>0.006797</td>\n",
       "      <td>0.005591</td>\n",
       "      <td>0.020041</td>\n",
       "    </tr>\n",
       "    <tr>\n",
       "      <th>3</th>\n",
       "      <td>0.008668</td>\n",
       "      <td>0.011705</td>\n",
       "      <td>0.009755</td>\n",
       "      <td>0.003782</td>\n",
       "      <td>0.005567</td>\n",
       "      <td>0.017404</td>\n",
       "      <td>0.007514</td>\n",
       "      <td>0.001682</td>\n",
       "      <td>0.004713</td>\n",
       "      <td>0.011360</td>\n",
       "      <td>0.011702</td>\n",
       "      <td>0.008669</td>\n",
       "      <td>0.008822</td>\n",
       "      <td>0.003421</td>\n",
       "      <td>0.003745</td>\n",
       "    </tr>\n",
       "    <tr>\n",
       "      <th>4</th>\n",
       "      <td>0.008318</td>\n",
       "      <td>0.007697</td>\n",
       "      <td>0.018293</td>\n",
       "      <td>0.004900</td>\n",
       "      <td>0.010415</td>\n",
       "      <td>0.022672</td>\n",
       "      <td>0.015724</td>\n",
       "      <td>0.002391</td>\n",
       "      <td>0.004811</td>\n",
       "      <td>0.010415</td>\n",
       "      <td>0.008917</td>\n",
       "      <td>0.005406</td>\n",
       "      <td>0.005036</td>\n",
       "      <td>0.005022</td>\n",
       "      <td>0.007761</td>\n",
       "    </tr>\n",
       "    <tr>\n",
       "      <th>...</th>\n",
       "      <td>...</td>\n",
       "      <td>...</td>\n",
       "      <td>...</td>\n",
       "      <td>...</td>\n",
       "      <td>...</td>\n",
       "      <td>...</td>\n",
       "      <td>...</td>\n",
       "      <td>...</td>\n",
       "      <td>...</td>\n",
       "      <td>...</td>\n",
       "      <td>...</td>\n",
       "      <td>...</td>\n",
       "      <td>...</td>\n",
       "      <td>...</td>\n",
       "      <td>...</td>\n",
       "    </tr>\n",
       "    <tr>\n",
       "      <th>3147</th>\n",
       "      <td>NaN</td>\n",
       "      <td>NaN</td>\n",
       "      <td>NaN</td>\n",
       "      <td>NaN</td>\n",
       "      <td>NaN</td>\n",
       "      <td>NaN</td>\n",
       "      <td>NaN</td>\n",
       "      <td>0.004960</td>\n",
       "      <td>NaN</td>\n",
       "      <td>NaN</td>\n",
       "      <td>NaN</td>\n",
       "      <td>NaN</td>\n",
       "      <td>NaN</td>\n",
       "      <td>NaN</td>\n",
       "      <td>NaN</td>\n",
       "    </tr>\n",
       "    <tr>\n",
       "      <th>3148</th>\n",
       "      <td>NaN</td>\n",
       "      <td>NaN</td>\n",
       "      <td>NaN</td>\n",
       "      <td>NaN</td>\n",
       "      <td>NaN</td>\n",
       "      <td>NaN</td>\n",
       "      <td>NaN</td>\n",
       "      <td>0.002326</td>\n",
       "      <td>NaN</td>\n",
       "      <td>NaN</td>\n",
       "      <td>NaN</td>\n",
       "      <td>NaN</td>\n",
       "      <td>NaN</td>\n",
       "      <td>NaN</td>\n",
       "      <td>NaN</td>\n",
       "    </tr>\n",
       "    <tr>\n",
       "      <th>3149</th>\n",
       "      <td>NaN</td>\n",
       "      <td>NaN</td>\n",
       "      <td>NaN</td>\n",
       "      <td>NaN</td>\n",
       "      <td>NaN</td>\n",
       "      <td>NaN</td>\n",
       "      <td>NaN</td>\n",
       "      <td>0.005587</td>\n",
       "      <td>NaN</td>\n",
       "      <td>NaN</td>\n",
       "      <td>NaN</td>\n",
       "      <td>NaN</td>\n",
       "      <td>NaN</td>\n",
       "      <td>NaN</td>\n",
       "      <td>NaN</td>\n",
       "    </tr>\n",
       "    <tr>\n",
       "      <th>3150</th>\n",
       "      <td>NaN</td>\n",
       "      <td>NaN</td>\n",
       "      <td>NaN</td>\n",
       "      <td>NaN</td>\n",
       "      <td>NaN</td>\n",
       "      <td>NaN</td>\n",
       "      <td>NaN</td>\n",
       "      <td>0.005495</td>\n",
       "      <td>NaN</td>\n",
       "      <td>NaN</td>\n",
       "      <td>NaN</td>\n",
       "      <td>NaN</td>\n",
       "      <td>NaN</td>\n",
       "      <td>NaN</td>\n",
       "      <td>NaN</td>\n",
       "    </tr>\n",
       "    <tr>\n",
       "      <th>3151</th>\n",
       "      <td>NaN</td>\n",
       "      <td>NaN</td>\n",
       "      <td>NaN</td>\n",
       "      <td>NaN</td>\n",
       "      <td>NaN</td>\n",
       "      <td>NaN</td>\n",
       "      <td>NaN</td>\n",
       "      <td>0.005119</td>\n",
       "      <td>NaN</td>\n",
       "      <td>NaN</td>\n",
       "      <td>NaN</td>\n",
       "      <td>NaN</td>\n",
       "      <td>NaN</td>\n",
       "      <td>NaN</td>\n",
       "      <td>NaN</td>\n",
       "    </tr>\n",
       "  </tbody>\n",
       "</table>\n",
       "<p>3152 rows × 15 columns</p>\n",
       "</div>"
      ],
      "text/plain": [
       "      variances10  variances11  variances12  variances13  variances14  \\\n",
       "0        0.011277     0.008445     0.008688     0.010080     0.005996   \n",
       "1        0.005809     0.006113     0.007618     0.011967     0.010542   \n",
       "2        0.008899     0.008993     0.017221     0.005632     0.013606   \n",
       "3        0.008668     0.011705     0.009755     0.003782     0.005567   \n",
       "4        0.008318     0.007697     0.018293     0.004900     0.010415   \n",
       "...           ...          ...          ...          ...          ...   \n",
       "3147          NaN          NaN          NaN          NaN          NaN   \n",
       "3148          NaN          NaN          NaN          NaN          NaN   \n",
       "3149          NaN          NaN          NaN          NaN          NaN   \n",
       "3150          NaN          NaN          NaN          NaN          NaN   \n",
       "3151          NaN          NaN          NaN          NaN          NaN   \n",
       "\n",
       "      variances15  variances16  variances2  variances3  variances4  \\\n",
       "0        0.025556     0.008448    0.004034    0.007592    0.010373   \n",
       "1        0.015099     0.007711    0.005939    0.004571    0.011246   \n",
       "2        0.012596     0.005104    0.004966    0.002734    0.009145   \n",
       "3        0.017404     0.007514    0.001682    0.004713    0.011360   \n",
       "4        0.022672     0.015724    0.002391    0.004811    0.010415   \n",
       "...           ...          ...         ...         ...         ...   \n",
       "3147          NaN          NaN    0.004960         NaN         NaN   \n",
       "3148          NaN          NaN    0.002326         NaN         NaN   \n",
       "3149          NaN          NaN    0.005587         NaN         NaN   \n",
       "3150          NaN          NaN    0.005495         NaN         NaN   \n",
       "3151          NaN          NaN    0.005119         NaN         NaN   \n",
       "\n",
       "      variances5  variances6  variances7  variances8  variances9  \n",
       "0       0.007311    0.006803    0.008743    0.004441    0.004548  \n",
       "1       0.013604    0.009452    0.013490    0.004208    0.008405  \n",
       "2       0.005954    0.002862    0.006797    0.005591    0.020041  \n",
       "3       0.011702    0.008669    0.008822    0.003421    0.003745  \n",
       "4       0.008917    0.005406    0.005036    0.005022    0.007761  \n",
       "...          ...         ...         ...         ...         ...  \n",
       "3147         NaN         NaN         NaN         NaN         NaN  \n",
       "3148         NaN         NaN         NaN         NaN         NaN  \n",
       "3149         NaN         NaN         NaN         NaN         NaN  \n",
       "3150         NaN         NaN         NaN         NaN         NaN  \n",
       "3151         NaN         NaN         NaN         NaN         NaN  \n",
       "\n",
       "[3152 rows x 15 columns]"
      ]
     },
     "execution_count": 6,
     "metadata": {},
     "output_type": "execute_result"
    }
   ],
   "source": [
    "import pandas as pd\n",
    "import glob\n",
    "from pathlib import Path\n",
    "\n",
    "file_pattern = \"results/02_mc_dropout/variances*.csv\"\n",
    "variance_files = glob.glob(file_pattern)\n",
    "variance_files.sort()\n",
    "\n",
    "all_variances_dfs = []\n",
    "\n",
    "for filepath in variance_files:\n",
    "    temp_df = pd.read_csv(filepath)\n",
    "    column_name = Path(filepath).stem\n",
    "    temp_df = temp_df.rename(columns={'variance': column_name})\n",
    "    all_variances_dfs.append(temp_df)\n",
    "\n",
    "final_df = pd.concat(all_variances_dfs, axis=1)\n",
    "\n",
    "final_df"
   ]
  },
  {
   "cell_type": "code",
   "execution_count": 7,
   "id": "9b4e722e",
   "metadata": {},
   "outputs": [
    {
     "data": {
      "application/vnd.plotly.v1+json": {
       "config": {
        "plotlyServerURL": "https://plot.ly"
       },
       "data": [
        {
         "bingroup": "x",
         "histnorm": "probability density",
         "hovertemplate": "Cycle=variances2<br>Variance=%{x}<br>probability density=%{y}<extra></extra>",
         "legendgroup": "variances2",
         "marker": {
          "color": "#636efa",
          "opacity": 0.65,
          "pattern": {
           "shape": ""
          }
         },
         "name": "variances2",
         "orientation": "v",
         "showlegend": true,
         "type": "histogram",
         "x": {
          "bdata": "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",
          "dtype": "f8"
         },
         "xaxis": "x",
         "yaxis": "y"
        },
        {
         "bingroup": "x",
         "histnorm": "probability density",
         "hovertemplate": "Cycle=variances5<br>Variance=%{x}<br>probability density=%{y}<extra></extra>",
         "legendgroup": "variances5",
         "marker": {
          "color": "#EF553B",
          "opacity": 0.65,
          "pattern": {
           "shape": ""
          }
         },
         "name": "variances5",
         "orientation": "v",
         "showlegend": true,
         "type": "histogram",
         "x": {
          "bdata": "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",
          "dtype": "f8"
         },
         "xaxis": "x",
         "yaxis": "y"
        },
        {
         "bingroup": "x",
         "histnorm": "probability density",
         "hovertemplate": "Cycle=variances8<br>Variance=%{x}<br>probability density=%{y}<extra></extra>",
         "legendgroup": "variances8",
         "marker": {
          "color": "#00cc96",
          "opacity": 0.65,
          "pattern": {
           "shape": ""
          }
         },
         "name": "variances8",
         "orientation": "v",
         "showlegend": true,
         "type": "histogram",
         "x": {
          "bdata": "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",
          "dtype": "f8"
         },
         "xaxis": "x",
         "yaxis": "y"
        },
        {
         "bingroup": "x",
         "histnorm": "probability density",
         "hovertemplate": "Cycle=variances11<br>Variance=%{x}<br>probability density=%{y}<extra></extra>",
         "legendgroup": "variances11",
         "marker": {
          "color": "#ab63fa",
          "opacity": 0.65,
          "pattern": {
           "shape": ""
          }
         },
         "name": "variances11",
         "orientation": "v",
         "showlegend": true,
         "type": "histogram",
         "x": {
          "bdata": "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",
          "dtype": "f8"
         },
         "xaxis": "x",
         "yaxis": "y"
        },
        {
         "bingroup": "x",
         "histnorm": "probability density",
         "hovertemplate": "Cycle=variances14<br>Variance=%{x}<br>probability density=%{y}<extra></extra>",
         "legendgroup": "variances14",
         "marker": {
          "color": "#FFA15A",
          "opacity": 0.65,
          "pattern": {
           "shape": ""
          }
         },
         "name": "variances14",
         "orientation": "v",
         "showlegend": true,
         "type": "histogram",
         "x": {
          "bdata": "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",
          "dtype": "f8"
         },
         "xaxis": "x",
         "yaxis": "y"
        }
       ],
       "layout": {
        "barmode": "overlay",
        "legend": {
         "title": {
          "text": "Cycle"
         },
         "tracegroupgap": 0
        },
        "template": {
         "data": {
          "bar": [
           {
            "error_x": {
             "color": "#2a3f5f"
            },
            "error_y": {
             "color": "#2a3f5f"
            },
            "marker": {
             "line": {
              "color": "#E5ECF6",
              "width": 0.5
             },
             "pattern": {
              "fillmode": "overlay",
              "size": 10,
              "solidity": 0.2
             }
            },
            "type": "bar"
           }
          ],
          "barpolar": [
           {
            "marker": {
             "line": {
              "color": "#E5ECF6",
              "width": 0.5
             },
             "pattern": {
              "fillmode": "overlay",
              "size": 10,
              "solidity": 0.2
             }
            },
            "type": "barpolar"
           }
          ],
          "carpet": [
           {
            "aaxis": {
             "endlinecolor": "#2a3f5f",
             "gridcolor": "white",
             "linecolor": "white",
             "minorgridcolor": "white",
             "startlinecolor": "#2a3f5f"
            },
            "baxis": {
             "endlinecolor": "#2a3f5f",
             "gridcolor": "white",
             "linecolor": "white",
             "minorgridcolor": "white",
             "startlinecolor": "#2a3f5f"
            },
            "type": "carpet"
           }
          ],
          "choropleth": [
           {
            "colorbar": {
             "outlinewidth": 0,
             "ticks": ""
            },
            "type": "choropleth"
           }
          ],
          "contour": [
           {
            "colorbar": {
             "outlinewidth": 0,
             "ticks": ""
            },
            "colorscale": [
             [
              0,
              "#0d0887"
             ],
             [
              0.1111111111111111,
              "#46039f"
             ],
             [
              0.2222222222222222,
              "#7201a8"
             ],
             [
              0.3333333333333333,
              "#9c179e"
             ],
             [
              0.4444444444444444,
              "#bd3786"
             ],
             [
              0.5555555555555556,
              "#d8576b"
             ],
             [
              0.6666666666666666,
              "#ed7953"
             ],
             [
              0.7777777777777778,
              "#fb9f3a"
             ],
             [
              0.8888888888888888,
              "#fdca26"
             ],
             [
              1,
              "#f0f921"
             ]
            ],
            "type": "contour"
           }
          ],
          "contourcarpet": [
           {
            "colorbar": {
             "outlinewidth": 0,
             "ticks": ""
            },
            "type": "contourcarpet"
           }
          ],
          "heatmap": [
           {
            "colorbar": {
             "outlinewidth": 0,
             "ticks": ""
            },
            "colorscale": [
             [
              0,
              "#0d0887"
             ],
             [
              0.1111111111111111,
              "#46039f"
             ],
             [
              0.2222222222222222,
              "#7201a8"
             ],
             [
              0.3333333333333333,
              "#9c179e"
             ],
             [
              0.4444444444444444,
              "#bd3786"
             ],
             [
              0.5555555555555556,
              "#d8576b"
             ],
             [
              0.6666666666666666,
              "#ed7953"
             ],
             [
              0.7777777777777778,
              "#fb9f3a"
             ],
             [
              0.8888888888888888,
              "#fdca26"
             ],
             [
              1,
              "#f0f921"
             ]
            ],
            "type": "heatmap"
           }
          ],
          "histogram": [
           {
            "marker": {
             "pattern": {
              "fillmode": "overlay",
              "size": 10,
              "solidity": 0.2
             }
            },
            "type": "histogram"
           }
          ],
          "histogram2d": [
           {
            "colorbar": {
             "outlinewidth": 0,
             "ticks": ""
            },
            "colorscale": [
             [
              0,
              "#0d0887"
             ],
             [
              0.1111111111111111,
              "#46039f"
             ],
             [
              0.2222222222222222,
              "#7201a8"
             ],
             [
              0.3333333333333333,
              "#9c179e"
             ],
             [
              0.4444444444444444,
              "#bd3786"
             ],
             [
              0.5555555555555556,
              "#d8576b"
             ],
             [
              0.6666666666666666,
              "#ed7953"
             ],
             [
              0.7777777777777778,
              "#fb9f3a"
             ],
             [
              0.8888888888888888,
              "#fdca26"
             ],
             [
              1,
              "#f0f921"
             ]
            ],
            "type": "histogram2d"
           }
          ],
          "histogram2dcontour": [
           {
            "colorbar": {
             "outlinewidth": 0,
             "ticks": ""
            },
            "colorscale": [
             [
              0,
              "#0d0887"
             ],
             [
              0.1111111111111111,
              "#46039f"
             ],
             [
              0.2222222222222222,
              "#7201a8"
             ],
             [
              0.3333333333333333,
              "#9c179e"
             ],
             [
              0.4444444444444444,
              "#bd3786"
             ],
             [
              0.5555555555555556,
              "#d8576b"
             ],
             [
              0.6666666666666666,
              "#ed7953"
             ],
             [
              0.7777777777777778,
              "#fb9f3a"
             ],
             [
              0.8888888888888888,
              "#fdca26"
             ],
             [
              1,
              "#f0f921"
             ]
            ],
            "type": "histogram2dcontour"
           }
          ],
          "mesh3d": [
           {
            "colorbar": {
             "outlinewidth": 0,
             "ticks": ""
            },
            "type": "mesh3d"
           }
          ],
          "parcoords": [
           {
            "line": {
             "colorbar": {
              "outlinewidth": 0,
              "ticks": ""
             }
            },
            "type": "parcoords"
           }
          ],
          "pie": [
           {
            "automargin": true,
            "type": "pie"
           }
          ],
          "scatter": [
           {
            "fillpattern": {
             "fillmode": "overlay",
             "size": 10,
             "solidity": 0.2
            },
            "type": "scatter"
           }
          ],
          "scatter3d": [
           {
            "line": {
             "colorbar": {
              "outlinewidth": 0,
              "ticks": ""
             }
            },
            "marker": {
             "colorbar": {
              "outlinewidth": 0,
              "ticks": ""
             }
            },
            "type": "scatter3d"
           }
          ],
          "scattercarpet": [
           {
            "marker": {
             "colorbar": {
              "outlinewidth": 0,
              "ticks": ""
             }
            },
            "type": "scattercarpet"
           }
          ],
          "scattergeo": [
           {
            "marker": {
             "colorbar": {
              "outlinewidth": 0,
              "ticks": ""
             }
            },
            "type": "scattergeo"
           }
          ],
          "scattergl": [
           {
            "marker": {
             "colorbar": {
              "outlinewidth": 0,
              "ticks": ""
             }
            },
            "type": "scattergl"
           }
          ],
          "scattermap": [
           {
            "marker": {
             "colorbar": {
              "outlinewidth": 0,
              "ticks": ""
             }
            },
            "type": "scattermap"
           }
          ],
          "scattermapbox": [
           {
            "marker": {
             "colorbar": {
              "outlinewidth": 0,
              "ticks": ""
             }
            },
            "type": "scattermapbox"
           }
          ],
          "scatterpolar": [
           {
            "marker": {
             "colorbar": {
              "outlinewidth": 0,
              "ticks": ""
             }
            },
            "type": "scatterpolar"
           }
          ],
          "scatterpolargl": [
           {
            "marker": {
             "colorbar": {
              "outlinewidth": 0,
              "ticks": ""
             }
            },
            "type": "scatterpolargl"
           }
          ],
          "scatterternary": [
           {
            "marker": {
             "colorbar": {
              "outlinewidth": 0,
              "ticks": ""
             }
            },
            "type": "scatterternary"
           }
          ],
          "surface": [
           {
            "colorbar": {
             "outlinewidth": 0,
             "ticks": ""
            },
            "colorscale": [
             [
              0,
              "#0d0887"
             ],
             [
              0.1111111111111111,
              "#46039f"
             ],
             [
              0.2222222222222222,
              "#7201a8"
             ],
             [
              0.3333333333333333,
              "#9c179e"
             ],
             [
              0.4444444444444444,
              "#bd3786"
             ],
             [
              0.5555555555555556,
              "#d8576b"
             ],
             [
              0.6666666666666666,
              "#ed7953"
             ],
             [
              0.7777777777777778,
              "#fb9f3a"
             ],
             [
              0.8888888888888888,
              "#fdca26"
             ],
             [
              1,
              "#f0f921"
             ]
            ],
            "type": "surface"
           }
          ],
          "table": [
           {
            "cells": {
             "fill": {
              "color": "#EBF0F8"
             },
             "line": {
              "color": "white"
             }
            },
            "header": {
             "fill": {
              "color": "#C8D4E3"
             },
             "line": {
              "color": "white"
             }
            },
            "type": "table"
           }
          ]
         },
         "layout": {
          "annotationdefaults": {
           "arrowcolor": "#2a3f5f",
           "arrowhead": 0,
           "arrowwidth": 1
          },
          "autotypenumbers": "strict",
          "coloraxis": {
           "colorbar": {
            "outlinewidth": 0,
            "ticks": ""
           }
          },
          "colorscale": {
           "diverging": [
            [
             0,
             "#8e0152"
            ],
            [
             0.1,
             "#c51b7d"
            ],
            [
             0.2,
             "#de77ae"
            ],
            [
             0.3,
             "#f1b6da"
            ],
            [
             0.4,
             "#fde0ef"
            ],
            [
             0.5,
             "#f7f7f7"
            ],
            [
             0.6,
             "#e6f5d0"
            ],
            [
             0.7,
             "#b8e186"
            ],
            [
             0.8,
             "#7fbc41"
            ],
            [
             0.9,
             "#4d9221"
            ],
            [
             1,
             "#276419"
            ]
           ],
           "sequential": [
            [
             0,
             "#0d0887"
            ],
            [
             0.1111111111111111,
             "#46039f"
            ],
            [
             0.2222222222222222,
             "#7201a8"
            ],
            [
             0.3333333333333333,
             "#9c179e"
            ],
            [
             0.4444444444444444,
             "#bd3786"
            ],
            [
             0.5555555555555556,
             "#d8576b"
            ],
            [
             0.6666666666666666,
             "#ed7953"
            ],
            [
             0.7777777777777778,
             "#fb9f3a"
            ],
            [
             0.8888888888888888,
             "#fdca26"
            ],
            [
             1,
             "#f0f921"
            ]
           ],
           "sequentialminus": [
            [
             0,
             "#0d0887"
            ],
            [
             0.1111111111111111,
             "#46039f"
            ],
            [
             0.2222222222222222,
             "#7201a8"
            ],
            [
             0.3333333333333333,
             "#9c179e"
            ],
            [
             0.4444444444444444,
             "#bd3786"
            ],
            [
             0.5555555555555556,
             "#d8576b"
            ],
            [
             0.6666666666666666,
             "#ed7953"
            ],
            [
             0.7777777777777778,
             "#fb9f3a"
            ],
            [
             0.8888888888888888,
             "#fdca26"
            ],
            [
             1,
             "#f0f921"
            ]
           ]
          },
          "colorway": [
           "#636efa",
           "#EF553B",
           "#00cc96",
           "#ab63fa",
           "#FFA15A",
           "#19d3f3",
           "#FF6692",
           "#B6E880",
           "#FF97FF",
           "#FECB52"
          ],
          "font": {
           "color": "#2a3f5f"
          },
          "geo": {
           "bgcolor": "white",
           "lakecolor": "white",
           "landcolor": "#E5ECF6",
           "showlakes": true,
           "showland": true,
           "subunitcolor": "white"
          },
          "hoverlabel": {
           "align": "left"
          },
          "hovermode": "closest",
          "mapbox": {
           "style": "light"
          },
          "paper_bgcolor": "white",
          "plot_bgcolor": "#E5ECF6",
          "polar": {
           "angularaxis": {
            "gridcolor": "white",
            "linecolor": "white",
            "ticks": ""
           },
           "bgcolor": "#E5ECF6",
           "radialaxis": {
            "gridcolor": "white",
            "linecolor": "white",
            "ticks": ""
           }
          },
          "scene": {
           "xaxis": {
            "backgroundcolor": "#E5ECF6",
            "gridcolor": "white",
            "gridwidth": 2,
            "linecolor": "white",
            "showbackground": true,
            "ticks": "",
            "zerolinecolor": "white"
           },
           "yaxis": {
            "backgroundcolor": "#E5ECF6",
            "gridcolor": "white",
            "gridwidth": 2,
            "linecolor": "white",
            "showbackground": true,
            "ticks": "",
            "zerolinecolor": "white"
           },
           "zaxis": {
            "backgroundcolor": "#E5ECF6",
            "gridcolor": "white",
            "gridwidth": 2,
            "linecolor": "white",
            "showbackground": true,
            "ticks": "",
            "zerolinecolor": "white"
           }
          },
          "shapedefaults": {
           "line": {
            "color": "#2a3f5f"
           }
          },
          "ternary": {
           "aaxis": {
            "gridcolor": "white",
            "linecolor": "white",
            "ticks": ""
           },
           "baxis": {
            "gridcolor": "white",
            "linecolor": "white",
            "ticks": ""
           },
           "bgcolor": "#E5ECF6",
           "caxis": {
            "gridcolor": "white",
            "linecolor": "white",
            "ticks": ""
           }
          },
          "title": {
           "x": 0.05
          },
          "xaxis": {
           "automargin": true,
           "gridcolor": "white",
           "linecolor": "white",
           "ticks": "",
           "title": {
            "standoff": 15
           },
           "zerolinecolor": "white",
           "zerolinewidth": 2
          },
          "yaxis": {
           "automargin": true,
           "gridcolor": "white",
           "linecolor": "white",
           "ticks": "",
           "title": {
            "standoff": 15
           },
           "zerolinecolor": "white",
           "zerolinewidth": 2
          }
         }
        },
        "title": {
         "text": "Distribution of Variances Across Active Learning Cycles"
        },
        "xaxis": {
         "anchor": "y",
         "domain": [
          0,
          1
         ],
         "title": {
          "text": "Variance"
         }
        },
        "yaxis": {
         "anchor": "x",
         "domain": [
          0,
          1
         ],
         "title": {
          "text": "probability density"
         }
        }
       }
      }
     },
     "metadata": {},
     "output_type": "display_data"
    }
   ],
   "source": [
    "columns_to_plot = ['variances2', 'variances5', 'variances8', 'variances11', 'variances14']\n",
    "\n",
    "# \"Melt\" the selected columns into a long-format DataFrame\n",
    "melted_df = final_df[columns_to_plot].melt(\n",
    "    var_name='Cycle',      # New column for the original column names\n",
    "    value_name='Variance'  # New column for the variance values\n",
    ")\n",
    "\n",
    "fig = px.histogram(\n",
    "    data_frame=melted_df,\n",
    "    x='Variance',                                  \n",
    "    color='Cycle',                                 \n",
    "    barmode='overlay',                             \n",
    "    opacity=0.65,                                  \n",
    "    histnorm='probability density',                \n",
    "    title='Distribution of Variances Across Active Learning Cycles'\n",
    ")\n",
    "\n",
    "fig.show()"
   ]
  },
  {
   "cell_type": "markdown",
   "id": "ece41ff5",
   "metadata": {},
   "source": [
    "This is a pretty telling finding. As the model sees more data, it is actually just getting more confused about the data that it is seeing. This suggest that the uncertainty estimates are miscalibrated. Ideally, model uncertainty would be correlated with the absolute error of the model prediction versus the observed value. So, it would be a good idea to create a function that enables me to monitor this correlation. \n",
    "\n",
    "One issue that may be causing this is that by simply selecting the samples with the highest variance, I could be consistently choosing samples that are outliers and out of the distribution. The batches are small, so if these outliers happen to be samples that are just particularly noisy data points, this would inhibit the model's learning.\n",
    "\n",
    "Another potential problem at work here is that the model might be selecting the values that have the lowest read counts in the original dataset and therefore the lowest confidence and highest noise. This would reduce the information actually available in that sample for the model to pick up on.\n",
    "\n",
    "Additionally, there's the issue of sample diversity that I mentioned before. If the batches are substantially less diverse than randomly selected batches, this could also impair learning.\n",
    "\n",
    "One more issue that I can think of is that a full fine-tune in the early stages is just too unstable with batches with tens of samples."
   ]
  }
 ],
 "metadata": {
  "kernelspec": {
   "display_name": "plm-active-learning",
   "language": "python",
   "name": "python3"
  },
  "language_info": {
   "codemirror_mode": {
    "name": "ipython",
    "version": 3
   },
   "file_extension": ".py",
   "mimetype": "text/x-python",
   "name": "python",
   "nbconvert_exporter": "python",
   "pygments_lexer": "ipython3",
   "version": "3.12.11"
  }
 },
 "nbformat": 4,
 "nbformat_minor": 5
}
