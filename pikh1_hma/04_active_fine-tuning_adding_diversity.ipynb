{
 "cells": [
  {
   "cell_type": "markdown",
   "id": "5e0ffef7",
   "metadata": {},
   "source": [
    "# Approach 2.5 / 3.5"
   ]
  },
  {
   "cell_type": "markdown",
   "id": "2bef327b",
   "metadata": {},
   "source": [
    "Each of the approaches tested so far, despite being used previously in the literature (at least to the extent that I understand them) have failed to out perform just randomly selecting samples. I suspect this could be due to one and/or another issue with the current acquisition strategy. Each of these approaches use some method to find the variance of model predictions to find the most uncertain sequences for the next batch. However, those uncertain sequences might somehow correspond to noisy measurements (measurements with lower read counts, especially if they tend to be the sequences with more mutations), and they might not be sufficiently diverse.\n",
    "\n",
    "Given these hypotheses for what's going wrong, I may be able to solve them by ensuring the next sample is uncertain as well as diverse. I'd be interested in testing when its just diverse and when its uncertain and diverse compared to the random baseline.\n",
    "\n",
    "But how do we ensure diversity? Well, since we are conveniently using a language model, we should be able to just use the language model embeddings. So, all I need to do is figure out how to get the embeddings, measure their distance, and integrate some amount of distance optimization into my acquistion function."
   ]
  },
  {
   "cell_type": "markdown",
   "id": "527d4658",
   "metadata": {},
   "source": [
    "Note: Below, I'm going to extract the embeddings from the last hidden state of the CLS token, since that's the standard model I've been working with setting up the structure of active learning. However, other fine-tuning approaches should make use of different embeddings. For example, if you're using only the mutant residues as the final state input to your output layer, you should probably use those embeddings for diversity. Another decision point is whether to use the embeddings of your fine-tuned model or a fresh ESM2 model. I'm going to work with just the fine-tuned model here."
   ]
  },
  {
   "cell_type": "markdown",
   "id": "9482a7fa",
   "metadata": {},
   "source": [
    "Here's the algorithm I'll employ:\n",
    "1. Train ensemble on random initial set.\n",
    "2. Get variances from model predictions.\n",
    "3. Filter samples with top k% of variances.\n",
    "4. Retrieve embeddings for those samples.\n",
    "5. For each sample in the unlabeled pool, calculate its distance from each of the samples in the current batch.\n",
    "6. Find the minimum distance from those for each candidate.\n",
    "7. Add candidate c whose minimum distance from the current batch is the greatest and remove it from the unlabeled pool.\n",
    "8. Calculate the distance of just-added candidate c from each of the remaining unlabeled pool. Add these distances to the distances list for each sample.\n",
    "9. Repeat 6-8 until n samples are added to the labeled samples."
   ]
  },
  {
   "cell_type": "markdown",
   "id": "320cbab4",
   "metadata": {},
   "source": [
    "Actually, now that I spell out the algorithm, I'm realizing that I should also test just a random choice from the top k% of variances to make sure that the embeddings even add anything."
   ]
  },
  {
   "cell_type": "code",
   "execution_count": 1,
   "id": "0cba01a5",
   "metadata": {},
   "outputs": [],
   "source": [
    "from scripts.data_utils import train_val_test_split\n",
    "from scripts.config import (\n",
    "    DATA_PATH, \n",
    "    SEQUENCE_COL, \n",
    "    SCORE_COL, \n",
    "    TOK_MODEL, \n",
    "    VAL_SPLIT,\n",
    "    TEST_SPLIT,\n",
    "    BATCH_SIZE,\n",
    "    RANDOM_SEED,\n",
    ")\n",
    "\n",
    "training_pool, val_dataloader, test_dataloader = train_val_test_split(\n",
    "    DATA_PATH,\n",
    "    SEQUENCE_COL,\n",
    "    SCORE_COL,\n",
    "    TOK_MODEL,\n",
    "    VAL_SPLIT,\n",
    "    TEST_SPLIT,\n",
    "    BATCH_SIZE,\n",
    "    RANDOM_SEED\n",
    ")"
   ]
  },
  {
   "cell_type": "code",
   "execution_count": 2,
   "id": "0b17789a",
   "metadata": {},
   "outputs": [],
   "source": [
    "import torch\n",
    "from torch.utils.data import Subset, DataLoader\n",
    "import numpy as np\n",
    "\n",
    "from scripts.training import initialize_and_train_new_model\n",
    "from scripts.acquisition import get_pool_predictions\n",
    "\n",
    "def get_bootstrap_sample(labeled_indices, pool_dataset, train_dataloader_batch_size):\n",
    "    bootstrap_indices = np.random.choice(labeled_indices, size=int(0.9*len(labeled_indices)),replace=True)\n",
    "    bootstrap_subset = Subset(pool_dataset, bootstrap_indices)\n",
    "    bootstrap_dataloader = DataLoader(bootstrap_subset, batch_size=train_dataloader_batch_size, shuffle=True)\n",
    "    return bootstrap_dataloader\n",
    "\n",
    "def train_ensemble(\n",
    "        n_models, \n",
    "        model_name, \n",
    "        approach,\n",
    "        learning_rate,\n",
    "        weight_decay,\n",
    "        epochs,\n",
    "        labeled_indices,\n",
    "        train_dataloader_batch_size,\n",
    "        pool_dataset, \n",
    "        pool_dataloader, \n",
    "        val_dataloader,\n",
    "        patience\n",
    "        ):\n",
    "    \n",
    "    # define list to store predictions as each model is trained then evaluated\n",
    "    ensemble_predictions = []\n",
    "    \n",
    "    for i in range(n_models):\n",
    "        print(f\"\\nTraining Model {i+1}...\")\n",
    "        # set a changing manual seed\n",
    "        torch.manual_seed(i)\n",
    "        torch.cuda.manual_seed(i)\n",
    "\n",
    "        # get bootstrap sample from labeled dataset\n",
    "        bootstrap_dataloader = get_bootstrap_sample(labeled_indices, pool_dataset, train_dataloader_batch_size)\n",
    "\n",
    "        # initialize and train a new model\n",
    "        model = initialize_and_train_new_model(approach, model_name, learning_rate, weight_decay, epochs, bootstrap_dataloader, val_dataloader, patience)\n",
    "        \n",
    "        # get model predictions on pool dataloader, append to ensemble predictions list\n",
    "        pool_preds = get_pool_predictions(model, pool_dataloader)\n",
    "        ensemble_predictions.append(pool_preds)\n",
    "\n",
    "    # stack ensemble predictions to create tensor of shape (n_models, n_unlabeled_samples)\n",
    "    ensemble_predictions = torch.stack(ensemble_predictions, dim=0)\n",
    "    print(\"Ensemble training complete, submitting predictions for next cycle.\")\n",
    "    # return list of ensemble predictions\n",
    "    return ensemble_predictions"
   ]
  },
  {
   "cell_type": "markdown",
   "id": "2e76e940",
   "metadata": {},
   "source": [
    "### Random choice from top % variances  "
   ]
  },
  {
   "cell_type": "code",
   "execution_count": 9,
   "id": "931fd8ab",
   "metadata": {},
   "outputs": [],
   "source": [
    "import numpy as np\n",
    "from torch.utils.data import Subset, DataLoader\n",
    "\n",
    "# acquire new batch, randomly if no scores given, top \"batch_size_to_acquire\" if given\n",
    "def acquire_new_batch(\n",
    "    dataset, \n",
    "    train_dataloader_batch_size, \n",
    "    pool_dataloader_batch_size, \n",
    "    initial_batch_size,\n",
    "    top_score_fraction, \n",
    "    batch_size_to_acquire, \n",
    "    labeled_indices, \n",
    "    unlabeled_indices, \n",
    "    acquisition_scores=None\n",
    "    ):\n",
    "\n",
    "    # if initial batch, when there are no acquisition scores, select randomly\n",
    "    if acquisition_scores is None:\n",
    "        initial_batch_size = min(initial_batch_size, len(unlabeled_indices))\n",
    "        indices_to_acquire = np.random.choice(unlabeled_indices, size=initial_batch_size, replace=False)\n",
    "    \n",
    "    # else select based on top acquisition scores\n",
    "    else:\n",
    "        # make sure we don't overshoot samples to acquire if on the final batch\n",
    "        batch_size_to_acquire = min(batch_size_to_acquire, len(acquisition_scores))\n",
    "        # detmine the number of top scorers to select from\n",
    "        num_top_scorers = int(top_score_fraction * len(unlabeled_indices))\n",
    "        # get the indicies of the top acquisition scores (num of samples)\n",
    "        top_indices = acquisition_scores.topk(num_top_scorers).indices\n",
    "        # choose a random set of indices from these top scorers\n",
    "        top_k_indices = np.random.choice(top_indices.cpu().numpy(), size=batch_size_to_acquire, replace=False)\n",
    "        # use these to find the indices that map back to the original dataset\n",
    "        indices_to_acquire = unlabeled_indices[top_k_indices]\n",
    "    \n",
    "    # update the indices lists\n",
    "    labeled_indices = np.concatenate([labeled_indices, indices_to_acquire])\n",
    "    unlabeled_indices = np.setdiff1d(unlabeled_indices, indices_to_acquire, assume_unique=True)\n",
    "    \n",
    "    # create new subsets and dataloaders\n",
    "    train_subset = Subset(dataset, labeled_indices.tolist())\n",
    "    pool_subset = Subset(dataset, unlabeled_indices.tolist())\n",
    "    train_dataloader = DataLoader(train_subset, batch_size=train_dataloader_batch_size, shuffle=True)\n",
    "    pool_dataloader = DataLoader(pool_subset, batch_size=pool_dataloader_batch_size, shuffle=False)\n",
    "    \n",
    "    return train_dataloader, pool_dataloader, labeled_indices, unlabeled_indices"
   ]
  },
  {
   "cell_type": "code",
   "execution_count": 10,
   "id": "4cbd49e9",
   "metadata": {},
   "outputs": [],
   "source": [
    "from pathlib import Path\n",
    "import pandas as pd\n",
    "\n",
    "from scripts.acquisition import get_variances\n",
    "from scripts.training import initialize_and_train_new_model, test_model\n",
    "from scripts.campaigns import run_standard_finetuning\n",
    "\n",
    "\n",
    "def get_learning_curves(\n",
    "        n_samples,\n",
    "        initial_n_samples,\n",
    "        top_score_fraction,\n",
    "        n_samples_per_batch,\n",
    "        model_name, \n",
    "        approach,\n",
    "        learning_rate, \n",
    "        weight_decay, \n",
    "        epochs, \n",
    "        training_pool, \n",
    "        train_dataloader_batch_size,\n",
    "        pool_dataloader_batch_size,\n",
    "        val_dataloader, \n",
    "        test_dataloader,\n",
    "        patience=5,\n",
    "        n_models=5,\n",
    "        results_path=\"active_vs_standard_learning_curves.csv\"\n",
    "):\n",
    "    results_path = Path(results_path)\n",
    "    results_dir = results_path.parent\n",
    "    results_dir.mkdir(parents=True, exist_ok=True)\n",
    "\n",
    "    # Load existing results if the file exists, otherwise start with a fresh DataFrame.\n",
    "    if results_path.exists():\n",
    "        all_results_df = pd.read_csv(results_path)\n",
    "    else:\n",
    "        all_results_df = pd.DataFrame()\n",
    "    \n",
    "    total_pool_size = len(training_pool)\n",
    "    unlabeled_indices = np.arange(total_pool_size)\n",
    "    labeled_indices = np.array([], dtype=np.int64)\n",
    "\n",
    "    ensemble_predictions = None\n",
    "    current_cycle = 1\n",
    "    total_cycles = int(np.ceil((n_samples-initial_n_samples)/n_samples_per_batch)) + 1\n",
    "    \n",
    "    while len(labeled_indices) < n_samples and len(unlabeled_indices) > 0:\n",
    "        print(f\"\\nCycle {current_cycle}/{total_cycles}\\n-------------------------------------------------\")\n",
    "\n",
    "        # on the first cycle, choose random samples of initial_n_samples size\n",
    "        if ensemble_predictions is None:\n",
    "            print(f\"Choosing initial {initial_n_samples} samples randomly...\")\n",
    "            train_dataloader, pool_dataloader, labeled_indices, unlabeled_indices = acquire_new_batch(\n",
    "                training_pool, train_dataloader_batch_size, pool_dataloader_batch_size, initial_n_samples, top_score_fraction, n_samples_per_batch, labeled_indices, unlabeled_indices, acquisition_scores=None\n",
    "            )\n",
    "        # each other time, use the n_samples_per_batch with acquisition scores to select\n",
    "        else:\n",
    "            scores = get_variances(ensemble_predictions, f\"{results_dir}/variances{current_cycle}.csv\")\n",
    "            print(f\"Selecting new data points...\")\n",
    "            train_dataloader, pool_dataloader, labeled_indices, unlabeled_indices = acquire_new_batch(\n",
    "                training_pool, train_dataloader_batch_size, pool_dataloader_batch_size, initial_n_samples, top_score_fraction, n_samples_per_batch, labeled_indices, unlabeled_indices, acquisition_scores=scores\n",
    "            )\n",
    "        \n",
    "        # give message when loop ends\n",
    "        if len(unlabeled_indices) == 0:\n",
    "            print(\"Unlabeled pool is empty. Proceeding to final model training.\")\n",
    "            break\n",
    "        \n",
    "        # evaluate active vs standard\n",
    "        final_results = []\n",
    "\n",
    "        # active\n",
    "        print(f\"\\nTraining and evaluating model using {len(labeled_indices)} actively selected samples...\")\n",
    "        model_active = initialize_and_train_new_model(approach, model_name, learning_rate, weight_decay, epochs, train_dataloader, val_dataloader, patience, return_history=False)\n",
    "        results_active = test_model(model_active, test_dataloader, return_results=True)\n",
    "        results_active = {\n",
    "            'changing_var': 'n_samples',\n",
    "            'local_exp_idx': current_cycle-1,\n",
    "            'value': len(labeled_indices),\n",
    "            'training_method': 'active',\n",
    "            **results_active\n",
    "        }\n",
    "        final_results.append(results_active)\n",
    "\n",
    "        # standard\n",
    "        print(f\"\\nTraining and evaluating model using {len(labeled_indices)} randomly selected samples...\")\n",
    "        model_standard, _ = run_standard_finetuning(len(labeled_indices), approach, model_name, train_dataloader_batch_size, learning_rate, weight_decay, epochs, training_pool, val_dataloader, patience)\n",
    "        results_standard = test_model(model_standard, test_dataloader, return_results=True)\n",
    "        results_standard = {\n",
    "            'changing_var': 'n_samples',\n",
    "            'local_exp_idx': current_cycle-1,\n",
    "            'value': len(labeled_indices),\n",
    "            'training_method': 'standard',\n",
    "            **results_standard\n",
    "        }\n",
    "        final_results.append(results_standard)\n",
    "        # save to disk each time to save progress\n",
    "        results_df = pd.DataFrame(final_results)\n",
    "        all_results_df = pd.concat([all_results_df, results_df], ignore_index=True)\n",
    "        all_results_df.to_csv(results_path, index=False)\n",
    "        print(f\"Progress for experiment {current_cycle-1} appended to {results_path}\")\n",
    "\n",
    "        # if it's the last cycle, skip ensemble predictions\n",
    "        if (current_cycle == total_cycles):\n",
    "            print(\"Experiments complete.\")\n",
    "            break\n",
    "\n",
    "        print(\"Starting ensemble training and pool evaluation...\")\n",
    "        ensemble_predictions = train_ensemble(n_models, model_name, approach, learning_rate, weight_decay, epochs, labeled_indices, train_dataloader_batch_size, training_pool, pool_dataloader, val_dataloader, patience)\n",
    "    \n",
    "        current_cycle += 1\n",
    "    return all_results_df"
   ]
  },
  {
   "cell_type": "code",
   "execution_count": 11,
   "id": "ff8cac70",
   "metadata": {},
   "outputs": [
    {
     "name": "stdout",
     "output_type": "stream",
     "text": [
      "\n",
      "Cycle 1/16\n",
      "-------------------------------------------------\n",
      "Choosing initial 16 samples randomly...\n",
      "\n",
      "Training and evaluating model using 16 actively selected samples...\n"
     ]
    },
    {
     "name": "stderr",
     "output_type": "stream",
     "text": [
      "/home/oscar/miniconda3/envs/plm-active-learning/lib/python3.12/site-packages/torchmetrics/utilities/prints.py:43: UserWarning: Metric `SpearmanCorrcoef` will save all targets and predictions in the buffer. For large datasets, this may lead to large memory footprint.\n",
      "  warnings.warn(*args, **kwargs)\n",
      "[Training]: 100%|██████████| 50/50 [00:35<00:00,  1.42it/s]\n"
     ]
    },
    {
     "name": "stdout",
     "output_type": "stream",
     "text": [
      "Train Loss: 0.0336 | Val Loss: 0.1788 | SpearmanR: 0.4060\n"
     ]
    },
    {
     "name": "stderr",
     "output_type": "stream",
     "text": [
      "[Testing]: 100%|██████████| 25/25 [00:00<00:00, 127.40it/s]\n"
     ]
    },
    {
     "name": "stdout",
     "output_type": "stream",
     "text": [
      "\n",
      "Training and evaluating model using 16 randomly selected samples...\n"
     ]
    },
    {
     "name": "stderr",
     "output_type": "stream",
     "text": [
      "[Training]:  20%|██        | 10/50 [00:03<00:13,  2.88it/s]\n"
     ]
    },
    {
     "name": "stdout",
     "output_type": "stream",
     "text": [
      "Early stopping triggered after 10 epochs with no improvement.\n",
      "Train Loss: 0.2326 | Val Loss: 0.2467 | SpearmanR: -0.0998\n"
     ]
    },
    {
     "name": "stderr",
     "output_type": "stream",
     "text": [
      "[Testing]: 100%|██████████| 25/25 [00:00<00:00, 129.63it/s]\n"
     ]
    },
    {
     "name": "stdout",
     "output_type": "stream",
     "text": [
      "Progress for experiment 0 appended to results/04_adding_diversity/random_from_top_fraction/active_vs_standard_learning_curve.csv\n",
      "Starting ensemble training and pool evaluation...\n",
      "\n",
      "Training Model 1...\n"
     ]
    },
    {
     "name": "stderr",
     "output_type": "stream",
     "text": [
      "[Training]:  96%|█████████▌| 48/50 [00:27<00:01,  1.77it/s]\n"
     ]
    },
    {
     "name": "stdout",
     "output_type": "stream",
     "text": [
      "Early stopping triggered after 10 epochs with no improvement.\n",
      "Train Loss: 0.0013 | Val Loss: 0.2925 | SpearmanR: 0.2855\n"
     ]
    },
    {
     "name": "stderr",
     "output_type": "stream",
     "text": [
      "[Surveying]: 100%|██████████| 25/25 [00:01<00:00, 16.78it/s]\n"
     ]
    },
    {
     "name": "stdout",
     "output_type": "stream",
     "text": [
      "\n",
      "Training Model 2...\n"
     ]
    },
    {
     "name": "stderr",
     "output_type": "stream",
     "text": [
      "[Training]:  84%|████████▍ | 42/50 [00:24<00:04,  1.73it/s]\n"
     ]
    },
    {
     "name": "stdout",
     "output_type": "stream",
     "text": [
      "Early stopping triggered after 10 epochs with no improvement.\n",
      "Train Loss: 0.0291 | Val Loss: 0.3151 | SpearmanR: 0.1252\n"
     ]
    },
    {
     "name": "stderr",
     "output_type": "stream",
     "text": [
      "[Surveying]: 100%|██████████| 25/25 [00:01<00:00, 16.76it/s]\n"
     ]
    },
    {
     "name": "stdout",
     "output_type": "stream",
     "text": [
      "\n",
      "Training Model 3...\n"
     ]
    },
    {
     "name": "stderr",
     "output_type": "stream",
     "text": [
      "[Training]: 100%|██████████| 50/50 [00:32<00:00,  1.55it/s]\n"
     ]
    },
    {
     "name": "stdout",
     "output_type": "stream",
     "text": [
      "Train Loss: 0.0047 | Val Loss: 0.1990 | SpearmanR: 0.1898\n"
     ]
    },
    {
     "name": "stderr",
     "output_type": "stream",
     "text": [
      "[Surveying]: 100%|██████████| 25/25 [00:01<00:00, 16.92it/s]\n"
     ]
    },
    {
     "name": "stdout",
     "output_type": "stream",
     "text": [
      "\n",
      "Training Model 4...\n"
     ]
    },
    {
     "name": "stderr",
     "output_type": "stream",
     "text": [
      "[Training]:  20%|██        | 10/50 [00:02<00:11,  3.51it/s]\n"
     ]
    },
    {
     "name": "stdout",
     "output_type": "stream",
     "text": [
      "Early stopping triggered after 10 epochs with no improvement.\n",
      "Train Loss: 0.2623 | Val Loss: 0.1999 | SpearmanR: -0.0290\n"
     ]
    },
    {
     "name": "stderr",
     "output_type": "stream",
     "text": [
      "[Surveying]: 100%|██████████| 25/25 [00:01<00:00, 16.81it/s]\n"
     ]
    },
    {
     "name": "stdout",
     "output_type": "stream",
     "text": [
      "\n",
      "Training Model 5...\n"
     ]
    },
    {
     "name": "stderr",
     "output_type": "stream",
     "text": [
      "[Training]: 100%|██████████| 50/50 [00:32<00:00,  1.54it/s]\n"
     ]
    },
    {
     "name": "stdout",
     "output_type": "stream",
     "text": [
      "Train Loss: 0.0059 | Val Loss: 0.1985 | SpearmanR: 0.3307\n"
     ]
    },
    {
     "name": "stderr",
     "output_type": "stream",
     "text": [
      "[Surveying]: 100%|██████████| 25/25 [00:01<00:00, 17.00it/s]\n"
     ]
    },
    {
     "name": "stdout",
     "output_type": "stream",
     "text": [
      "Ensemble training complete, submitting predictions for next cycle.\n",
      "\n",
      "Cycle 2/16\n",
      "-------------------------------------------------\n",
      "Saving variance distribution to results/04_adding_diversity/random_from_top_fraction/variances2.csv...\n",
      "Save complete.\n",
      "Selecting new data points...\n",
      "\n",
      "Training and evaluating model using 32 actively selected samples...\n"
     ]
    },
    {
     "name": "stderr",
     "output_type": "stream",
     "text": [
      "[Training]:  90%|█████████ | 45/50 [00:18<00:02,  2.38it/s]\n"
     ]
    },
    {
     "name": "stdout",
     "output_type": "stream",
     "text": [
      "Early stopping triggered after 10 epochs with no improvement.\n",
      "Train Loss: 0.0235 | Val Loss: 0.1893 | SpearmanR: 0.3408\n"
     ]
    },
    {
     "name": "stderr",
     "output_type": "stream",
     "text": [
      "[Testing]: 100%|██████████| 25/25 [00:00<00:00, 131.91it/s]\n"
     ]
    },
    {
     "name": "stdout",
     "output_type": "stream",
     "text": [
      "\n",
      "Training and evaluating model using 32 randomly selected samples...\n"
     ]
    },
    {
     "name": "stderr",
     "output_type": "stream",
     "text": [
      "[Training]:  26%|██▌       | 13/50 [00:07<00:20,  1.81it/s]\n"
     ]
    },
    {
     "name": "stdout",
     "output_type": "stream",
     "text": [
      "Early stopping triggered after 10 epochs with no improvement.\n",
      "Train Loss: 0.1520 | Val Loss: 0.2177 | SpearmanR: 0.1649\n"
     ]
    },
    {
     "name": "stderr",
     "output_type": "stream",
     "text": [
      "[Testing]: 100%|██████████| 25/25 [00:00<00:00, 131.04it/s]\n"
     ]
    },
    {
     "name": "stdout",
     "output_type": "stream",
     "text": [
      "Progress for experiment 1 appended to results/04_adding_diversity/random_from_top_fraction/active_vs_standard_learning_curve.csv\n",
      "Starting ensemble training and pool evaluation...\n",
      "\n",
      "Training Model 1...\n"
     ]
    },
    {
     "name": "stderr",
     "output_type": "stream",
     "text": [
      "[Training]: 100%|██████████| 50/50 [00:17<00:00,  2.83it/s]\n"
     ]
    },
    {
     "name": "stdout",
     "output_type": "stream",
     "text": [
      "Train Loss: 0.0019 | Val Loss: 0.2308 | SpearmanR: 0.3456\n"
     ]
    },
    {
     "name": "stderr",
     "output_type": "stream",
     "text": [
      "[Surveying]: 100%|██████████| 25/25 [00:01<00:00, 16.81it/s]\n"
     ]
    },
    {
     "name": "stdout",
     "output_type": "stream",
     "text": [
      "\n",
      "Training Model 2...\n"
     ]
    },
    {
     "name": "stderr",
     "output_type": "stream",
     "text": [
      "[Training]:  88%|████████▊ | 44/50 [00:13<00:01,  3.18it/s]\n"
     ]
    },
    {
     "name": "stdout",
     "output_type": "stream",
     "text": [
      "Early stopping triggered after 10 epochs with no improvement.\n",
      "Train Loss: 0.0084 | Val Loss: 0.1676 | SpearmanR: 0.4401\n"
     ]
    },
    {
     "name": "stderr",
     "output_type": "stream",
     "text": [
      "[Surveying]: 100%|██████████| 25/25 [00:01<00:00, 16.75it/s]\n"
     ]
    },
    {
     "name": "stdout",
     "output_type": "stream",
     "text": [
      "\n",
      "Training Model 3...\n"
     ]
    },
    {
     "name": "stderr",
     "output_type": "stream",
     "text": [
      "[Training]:  70%|███████   | 35/50 [00:11<00:04,  3.05it/s]\n"
     ]
    },
    {
     "name": "stdout",
     "output_type": "stream",
     "text": [
      "Early stopping triggered after 10 epochs with no improvement.\n",
      "Train Loss: 0.0448 | Val Loss: 0.2103 | SpearmanR: 0.1413\n"
     ]
    },
    {
     "name": "stderr",
     "output_type": "stream",
     "text": [
      "[Surveying]: 100%|██████████| 25/25 [00:01<00:00, 16.74it/s]\n"
     ]
    },
    {
     "name": "stdout",
     "output_type": "stream",
     "text": [
      "\n",
      "Training Model 4...\n"
     ]
    },
    {
     "name": "stderr",
     "output_type": "stream",
     "text": [
      "[Training]:  80%|████████  | 40/50 [00:12<00:03,  3.20it/s]\n"
     ]
    },
    {
     "name": "stdout",
     "output_type": "stream",
     "text": [
      "Early stopping triggered after 10 epochs with no improvement.\n",
      "Train Loss: 0.0181 | Val Loss: 0.2064 | SpearmanR: 0.3939\n"
     ]
    },
    {
     "name": "stderr",
     "output_type": "stream",
     "text": [
      "[Surveying]: 100%|██████████| 25/25 [00:01<00:00, 16.74it/s]\n"
     ]
    },
    {
     "name": "stdout",
     "output_type": "stream",
     "text": [
      "\n",
      "Training Model 5...\n"
     ]
    },
    {
     "name": "stderr",
     "output_type": "stream",
     "text": [
      "[Training]:  90%|█████████ | 45/50 [00:14<00:01,  3.05it/s]\n"
     ]
    },
    {
     "name": "stdout",
     "output_type": "stream",
     "text": [
      "Early stopping triggered after 10 epochs with no improvement.\n",
      "Train Loss: 0.0050 | Val Loss: 0.2154 | SpearmanR: 0.3789\n"
     ]
    },
    {
     "name": "stderr",
     "output_type": "stream",
     "text": [
      "[Surveying]: 100%|██████████| 25/25 [00:01<00:00, 16.76it/s]\n"
     ]
    },
    {
     "name": "stdout",
     "output_type": "stream",
     "text": [
      "Ensemble training complete, submitting predictions for next cycle.\n",
      "\n",
      "Cycle 3/16\n",
      "-------------------------------------------------\n",
      "Saving variance distribution to results/04_adding_diversity/random_from_top_fraction/variances3.csv...\n",
      "Save complete.\n",
      "Selecting new data points...\n",
      "\n",
      "Training and evaluating model using 48 actively selected samples...\n"
     ]
    },
    {
     "name": "stderr",
     "output_type": "stream",
     "text": [
      "[Training]:  82%|████████▏ | 41/50 [00:14<00:03,  2.85it/s]\n"
     ]
    },
    {
     "name": "stdout",
     "output_type": "stream",
     "text": [
      "Early stopping triggered after 10 epochs with no improvement.\n",
      "Train Loss: 0.0309 | Val Loss: 0.1424 | SpearmanR: 0.5392\n"
     ]
    },
    {
     "name": "stderr",
     "output_type": "stream",
     "text": [
      "[Testing]: 100%|██████████| 25/25 [00:00<00:00, 128.74it/s]\n"
     ]
    },
    {
     "name": "stdout",
     "output_type": "stream",
     "text": [
      "\n",
      "Training and evaluating model using 48 randomly selected samples...\n"
     ]
    },
    {
     "name": "stderr",
     "output_type": "stream",
     "text": [
      "[Training]:  42%|████▏     | 21/50 [00:07<00:09,  2.99it/s]\n"
     ]
    },
    {
     "name": "stdout",
     "output_type": "stream",
     "text": [
      "Early stopping triggered after 10 epochs with no improvement.\n",
      "Train Loss: 0.0978 | Val Loss: 0.1651 | SpearmanR: 0.3981\n"
     ]
    },
    {
     "name": "stderr",
     "output_type": "stream",
     "text": [
      "[Testing]: 100%|██████████| 25/25 [00:00<00:00, 128.23it/s]\n"
     ]
    },
    {
     "name": "stdout",
     "output_type": "stream",
     "text": [
      "Progress for experiment 2 appended to results/04_adding_diversity/random_from_top_fraction/active_vs_standard_learning_curve.csv\n",
      "Starting ensemble training and pool evaluation...\n",
      "\n",
      "Training Model 1...\n"
     ]
    },
    {
     "name": "stderr",
     "output_type": "stream",
     "text": [
      "[Training]:  62%|██████▏   | 31/50 [00:11<00:06,  2.80it/s]\n"
     ]
    },
    {
     "name": "stdout",
     "output_type": "stream",
     "text": [
      "Early stopping triggered after 10 epochs with no improvement.\n",
      "Train Loss: 0.0081 | Val Loss: 0.1883 | SpearmanR: 0.3627\n"
     ]
    },
    {
     "name": "stderr",
     "output_type": "stream",
     "text": [
      "[Surveying]: 100%|██████████| 25/25 [00:01<00:00, 16.74it/s]\n"
     ]
    },
    {
     "name": "stdout",
     "output_type": "stream",
     "text": [
      "\n",
      "Training Model 2...\n"
     ]
    },
    {
     "name": "stderr",
     "output_type": "stream",
     "text": [
      "[Training]: 100%|██████████| 50/50 [00:18<00:00,  2.76it/s]\n"
     ]
    },
    {
     "name": "stdout",
     "output_type": "stream",
     "text": [
      "Train Loss: 0.0061 | Val Loss: 0.1606 | SpearmanR: 0.4655\n"
     ]
    },
    {
     "name": "stderr",
     "output_type": "stream",
     "text": [
      "[Surveying]: 100%|██████████| 25/25 [00:01<00:00, 16.76it/s]\n"
     ]
    },
    {
     "name": "stdout",
     "output_type": "stream",
     "text": [
      "\n",
      "Training Model 3...\n"
     ]
    },
    {
     "name": "stderr",
     "output_type": "stream",
     "text": [
      "[Training]:  76%|███████▌  | 38/50 [00:13<00:04,  2.77it/s]\n"
     ]
    },
    {
     "name": "stdout",
     "output_type": "stream",
     "text": [
      "Early stopping triggered after 10 epochs with no improvement.\n",
      "Train Loss: 0.0019 | Val Loss: 0.1933 | SpearmanR: 0.4052\n"
     ]
    },
    {
     "name": "stderr",
     "output_type": "stream",
     "text": [
      "[Surveying]: 100%|██████████| 25/25 [00:01<00:00, 16.86it/s]\n"
     ]
    },
    {
     "name": "stdout",
     "output_type": "stream",
     "text": [
      "\n",
      "Training Model 4...\n"
     ]
    },
    {
     "name": "stderr",
     "output_type": "stream",
     "text": [
      "[Training]: 100%|██████████| 50/50 [00:18<00:00,  2.64it/s]\n"
     ]
    },
    {
     "name": "stdout",
     "output_type": "stream",
     "text": [
      "Train Loss: 0.0057 | Val Loss: 0.1433 | SpearmanR: 0.5033\n"
     ]
    },
    {
     "name": "stderr",
     "output_type": "stream",
     "text": [
      "[Surveying]: 100%|██████████| 25/25 [00:01<00:00, 16.87it/s]\n"
     ]
    },
    {
     "name": "stdout",
     "output_type": "stream",
     "text": [
      "\n",
      "Training Model 5...\n"
     ]
    },
    {
     "name": "stderr",
     "output_type": "stream",
     "text": [
      "[Training]: 100%|██████████| 50/50 [00:18<00:00,  2.76it/s]\n"
     ]
    },
    {
     "name": "stdout",
     "output_type": "stream",
     "text": [
      "Train Loss: 0.0155 | Val Loss: 0.1741 | SpearmanR: 0.4640\n"
     ]
    },
    {
     "name": "stderr",
     "output_type": "stream",
     "text": [
      "[Surveying]: 100%|██████████| 25/25 [00:01<00:00, 16.64it/s]\n"
     ]
    },
    {
     "name": "stdout",
     "output_type": "stream",
     "text": [
      "Ensemble training complete, submitting predictions for next cycle.\n",
      "\n",
      "Cycle 4/16\n",
      "-------------------------------------------------\n",
      "Saving variance distribution to results/04_adding_diversity/random_from_top_fraction/variances4.csv...\n",
      "Save complete.\n",
      "Selecting new data points...\n",
      "\n",
      "Training and evaluating model using 64 actively selected samples...\n"
     ]
    },
    {
     "name": "stderr",
     "output_type": "stream",
     "text": [
      "[Training]:  56%|█████▌    | 28/50 [00:10<00:08,  2.56it/s]\n"
     ]
    },
    {
     "name": "stdout",
     "output_type": "stream",
     "text": [
      "Early stopping triggered after 10 epochs with no improvement.\n",
      "Train Loss: 0.0719 | Val Loss: 0.1567 | SpearmanR: 0.4937\n"
     ]
    },
    {
     "name": "stderr",
     "output_type": "stream",
     "text": [
      "[Testing]: 100%|██████████| 25/25 [00:00<00:00, 125.16it/s]\n"
     ]
    },
    {
     "name": "stdout",
     "output_type": "stream",
     "text": [
      "\n",
      "Training and evaluating model using 64 randomly selected samples...\n"
     ]
    },
    {
     "name": "stderr",
     "output_type": "stream",
     "text": [
      "[Training]:  92%|█████████▏| 46/50 [00:15<00:01,  2.89it/s]\n"
     ]
    },
    {
     "name": "stdout",
     "output_type": "stream",
     "text": [
      "Early stopping triggered after 10 epochs with no improvement.\n",
      "Train Loss: 0.0271 | Val Loss: 0.1510 | SpearmanR: 0.4731\n"
     ]
    },
    {
     "name": "stderr",
     "output_type": "stream",
     "text": [
      "[Testing]: 100%|██████████| 25/25 [00:00<00:00, 130.01it/s]\n"
     ]
    },
    {
     "name": "stdout",
     "output_type": "stream",
     "text": [
      "Progress for experiment 3 appended to results/04_adding_diversity/random_from_top_fraction/active_vs_standard_learning_curve.csv\n",
      "Starting ensemble training and pool evaluation...\n",
      "\n",
      "Training Model 1...\n"
     ]
    },
    {
     "name": "stderr",
     "output_type": "stream",
     "text": [
      "[Training]:  86%|████████▌ | 43/50 [00:14<00:02,  2.89it/s]\n"
     ]
    },
    {
     "name": "stdout",
     "output_type": "stream",
     "text": [
      "Early stopping triggered after 10 epochs with no improvement.\n",
      "Train Loss: 0.0081 | Val Loss: 0.1741 | SpearmanR: 0.3866\n"
     ]
    },
    {
     "name": "stderr",
     "output_type": "stream",
     "text": [
      "[Surveying]: 100%|██████████| 25/25 [00:01<00:00, 16.67it/s]\n"
     ]
    },
    {
     "name": "stdout",
     "output_type": "stream",
     "text": [
      "\n",
      "Training Model 2...\n"
     ]
    },
    {
     "name": "stderr",
     "output_type": "stream",
     "text": [
      "[Training]:  86%|████████▌ | 43/50 [00:14<00:02,  3.05it/s]\n"
     ]
    },
    {
     "name": "stdout",
     "output_type": "stream",
     "text": [
      "Early stopping triggered after 10 epochs with no improvement.\n",
      "Train Loss: 0.0154 | Val Loss: 0.1542 | SpearmanR: 0.5206\n"
     ]
    },
    {
     "name": "stderr",
     "output_type": "stream",
     "text": [
      "[Surveying]: 100%|██████████| 25/25 [00:01<00:00, 16.75it/s]\n"
     ]
    },
    {
     "name": "stdout",
     "output_type": "stream",
     "text": [
      "\n",
      "Training Model 3...\n"
     ]
    },
    {
     "name": "stderr",
     "output_type": "stream",
     "text": [
      "[Training]: 100%|██████████| 50/50 [00:17<00:00,  2.79it/s]\n"
     ]
    },
    {
     "name": "stdout",
     "output_type": "stream",
     "text": [
      "Train Loss: 0.0139 | Val Loss: 0.1796 | SpearmanR: 0.4037\n"
     ]
    },
    {
     "name": "stderr",
     "output_type": "stream",
     "text": [
      "[Surveying]: 100%|██████████| 25/25 [00:01<00:00, 16.51it/s]\n"
     ]
    },
    {
     "name": "stdout",
     "output_type": "stream",
     "text": [
      "\n",
      "Training Model 4...\n"
     ]
    },
    {
     "name": "stderr",
     "output_type": "stream",
     "text": [
      "[Training]:  72%|███████▏  | 36/50 [00:12<00:05,  2.77it/s]\n"
     ]
    },
    {
     "name": "stdout",
     "output_type": "stream",
     "text": [
      "Early stopping triggered after 10 epochs with no improvement.\n",
      "Train Loss: 0.0047 | Val Loss: 0.1641 | SpearmanR: 0.4576\n"
     ]
    },
    {
     "name": "stderr",
     "output_type": "stream",
     "text": [
      "[Surveying]: 100%|██████████| 25/25 [00:01<00:00, 16.71it/s]\n"
     ]
    },
    {
     "name": "stdout",
     "output_type": "stream",
     "text": [
      "\n",
      "Training Model 5...\n"
     ]
    },
    {
     "name": "stderr",
     "output_type": "stream",
     "text": [
      "[Training]: 100%|██████████| 50/50 [00:18<00:00,  2.72it/s]\n"
     ]
    },
    {
     "name": "stdout",
     "output_type": "stream",
     "text": [
      "Train Loss: 0.0052 | Val Loss: 0.1634 | SpearmanR: 0.5089\n"
     ]
    },
    {
     "name": "stderr",
     "output_type": "stream",
     "text": [
      "[Surveying]: 100%|██████████| 25/25 [00:01<00:00, 16.60it/s]\n"
     ]
    },
    {
     "name": "stdout",
     "output_type": "stream",
     "text": [
      "Ensemble training complete, submitting predictions for next cycle.\n",
      "\n",
      "Cycle 5/16\n",
      "-------------------------------------------------\n",
      "Saving variance distribution to results/04_adding_diversity/random_from_top_fraction/variances5.csv...\n",
      "Save complete.\n",
      "Selecting new data points...\n",
      "\n",
      "Training and evaluating model using 80 actively selected samples...\n"
     ]
    },
    {
     "name": "stderr",
     "output_type": "stream",
     "text": [
      "[Training]:  86%|████████▌ | 43/50 [00:15<00:02,  2.85it/s]\n"
     ]
    },
    {
     "name": "stdout",
     "output_type": "stream",
     "text": [
      "Early stopping triggered after 10 epochs with no improvement.\n",
      "Train Loss: 0.0236 | Val Loss: 0.1710 | SpearmanR: 0.4967\n"
     ]
    },
    {
     "name": "stderr",
     "output_type": "stream",
     "text": [
      "[Testing]: 100%|██████████| 25/25 [00:00<00:00, 128.71it/s]\n"
     ]
    },
    {
     "name": "stdout",
     "output_type": "stream",
     "text": [
      "\n",
      "Training and evaluating model using 80 randomly selected samples...\n"
     ]
    },
    {
     "name": "stderr",
     "output_type": "stream",
     "text": [
      "[Training]: 100%|██████████| 50/50 [00:17<00:00,  2.84it/s]\n"
     ]
    },
    {
     "name": "stdout",
     "output_type": "stream",
     "text": [
      "Train Loss: 0.0198 | Val Loss: 0.1620 | SpearmanR: 0.5035\n"
     ]
    },
    {
     "name": "stderr",
     "output_type": "stream",
     "text": [
      "[Testing]: 100%|██████████| 25/25 [00:00<00:00, 130.55it/s]\n"
     ]
    },
    {
     "name": "stdout",
     "output_type": "stream",
     "text": [
      "Progress for experiment 4 appended to results/04_adding_diversity/random_from_top_fraction/active_vs_standard_learning_curve.csv\n",
      "Starting ensemble training and pool evaluation...\n",
      "\n",
      "Training Model 1...\n"
     ]
    },
    {
     "name": "stderr",
     "output_type": "stream",
     "text": [
      "[Training]:  72%|███████▏  | 36/50 [00:22<00:08,  1.64it/s]\n"
     ]
    },
    {
     "name": "stdout",
     "output_type": "stream",
     "text": [
      "Early stopping triggered after 10 epochs with no improvement.\n",
      "Train Loss: 0.0088 | Val Loss: 0.1681 | SpearmanR: 0.4383\n"
     ]
    },
    {
     "name": "stderr",
     "output_type": "stream",
     "text": [
      "[Surveying]: 100%|██████████| 25/25 [00:01<00:00, 17.13it/s]\n"
     ]
    },
    {
     "name": "stdout",
     "output_type": "stream",
     "text": [
      "\n",
      "Training Model 2...\n"
     ]
    },
    {
     "name": "stderr",
     "output_type": "stream",
     "text": [
      "[Training]:  54%|█████▍    | 27/50 [00:16<00:14,  1.59it/s]\n"
     ]
    },
    {
     "name": "stdout",
     "output_type": "stream",
     "text": [
      "Early stopping triggered after 10 epochs with no improvement.\n",
      "Train Loss: 0.0117 | Val Loss: 0.1650 | SpearmanR: 0.4218\n"
     ]
    },
    {
     "name": "stderr",
     "output_type": "stream",
     "text": [
      "[Surveying]: 100%|██████████| 25/25 [00:01<00:00, 17.00it/s]\n"
     ]
    },
    {
     "name": "stdout",
     "output_type": "stream",
     "text": [
      "\n",
      "Training Model 3...\n"
     ]
    },
    {
     "name": "stderr",
     "output_type": "stream",
     "text": [
      "[Training]:  54%|█████▍    | 27/50 [00:18<00:15,  1.48it/s]\n"
     ]
    },
    {
     "name": "stdout",
     "output_type": "stream",
     "text": [
      "Early stopping triggered after 10 epochs with no improvement.\n",
      "Train Loss: 0.0130 | Val Loss: 0.1816 | SpearmanR: 0.3911\n"
     ]
    },
    {
     "name": "stderr",
     "output_type": "stream",
     "text": [
      "[Surveying]: 100%|██████████| 25/25 [00:01<00:00, 17.26it/s]\n"
     ]
    },
    {
     "name": "stdout",
     "output_type": "stream",
     "text": [
      "\n",
      "Training Model 4...\n"
     ]
    },
    {
     "name": "stderr",
     "output_type": "stream",
     "text": [
      "[Training]: 100%|██████████| 50/50 [00:28<00:00,  1.76it/s]\n"
     ]
    },
    {
     "name": "stdout",
     "output_type": "stream",
     "text": [
      "Train Loss: 0.0008 | Val Loss: 0.1386 | SpearmanR: 0.5346\n"
     ]
    },
    {
     "name": "stderr",
     "output_type": "stream",
     "text": [
      "[Surveying]: 100%|██████████| 25/25 [00:01<00:00, 17.12it/s]\n"
     ]
    },
    {
     "name": "stdout",
     "output_type": "stream",
     "text": [
      "\n",
      "Training Model 5...\n"
     ]
    },
    {
     "name": "stderr",
     "output_type": "stream",
     "text": [
      "[Training]: 100%|██████████| 50/50 [00:34<00:00,  1.44it/s]\n"
     ]
    },
    {
     "name": "stdout",
     "output_type": "stream",
     "text": [
      "Train Loss: 0.0020 | Val Loss: 0.1901 | SpearmanR: 0.4033\n"
     ]
    },
    {
     "name": "stderr",
     "output_type": "stream",
     "text": [
      "[Surveying]: 100%|██████████| 25/25 [00:01<00:00, 17.27it/s]\n"
     ]
    },
    {
     "name": "stdout",
     "output_type": "stream",
     "text": [
      "Ensemble training complete, submitting predictions for next cycle.\n",
      "\n",
      "Cycle 6/16\n",
      "-------------------------------------------------\n",
      "Saving variance distribution to results/04_adding_diversity/random_from_top_fraction/variances6.csv...\n",
      "Save complete.\n",
      "Selecting new data points...\n",
      "\n",
      "Training and evaluating model using 96 actively selected samples...\n"
     ]
    },
    {
     "name": "stderr",
     "output_type": "stream",
     "text": [
      "[Training]: 100%|██████████| 50/50 [00:31<00:00,  1.57it/s]\n"
     ]
    },
    {
     "name": "stdout",
     "output_type": "stream",
     "text": [
      "Train Loss: 0.0138 | Val Loss: 0.1468 | SpearmanR: 0.5769\n"
     ]
    },
    {
     "name": "stderr",
     "output_type": "stream",
     "text": [
      "[Testing]: 100%|██████████| 25/25 [00:00<00:00, 129.91it/s]\n"
     ]
    },
    {
     "name": "stdout",
     "output_type": "stream",
     "text": [
      "\n",
      "Training and evaluating model using 96 randomly selected samples...\n"
     ]
    },
    {
     "name": "stderr",
     "output_type": "stream",
     "text": [
      "[Training]:  68%|██████▊   | 34/50 [00:21<00:10,  1.56it/s]\n"
     ]
    },
    {
     "name": "stdout",
     "output_type": "stream",
     "text": [
      "Early stopping triggered after 10 epochs with no improvement.\n",
      "Train Loss: 0.0285 | Val Loss: 0.1320 | SpearmanR: 0.5998\n"
     ]
    },
    {
     "name": "stderr",
     "output_type": "stream",
     "text": [
      "[Testing]: 100%|██████████| 25/25 [00:00<00:00, 128.37it/s]\n"
     ]
    },
    {
     "name": "stdout",
     "output_type": "stream",
     "text": [
      "Progress for experiment 5 appended to results/04_adding_diversity/random_from_top_fraction/active_vs_standard_learning_curve.csv\n",
      "Starting ensemble training and pool evaluation...\n",
      "\n",
      "Training Model 1...\n"
     ]
    },
    {
     "name": "stderr",
     "output_type": "stream",
     "text": [
      "[Training]:  90%|█████████ | 45/50 [00:31<00:03,  1.41it/s]\n"
     ]
    },
    {
     "name": "stdout",
     "output_type": "stream",
     "text": [
      "Early stopping triggered after 10 epochs with no improvement.\n",
      "Train Loss: 0.0030 | Val Loss: 0.1603 | SpearmanR: 0.5065\n"
     ]
    },
    {
     "name": "stderr",
     "output_type": "stream",
     "text": [
      "[Surveying]: 100%|██████████| 24/24 [00:01<00:00, 16.61it/s]\n"
     ]
    },
    {
     "name": "stdout",
     "output_type": "stream",
     "text": [
      "\n",
      "Training Model 2...\n"
     ]
    },
    {
     "name": "stderr",
     "output_type": "stream",
     "text": [
      "[Training]:  58%|█████▊    | 29/50 [00:20<00:14,  1.40it/s]\n"
     ]
    },
    {
     "name": "stdout",
     "output_type": "stream",
     "text": [
      "Early stopping triggered after 10 epochs with no improvement.\n",
      "Train Loss: 0.0181 | Val Loss: 0.1552 | SpearmanR: 0.5059\n"
     ]
    },
    {
     "name": "stderr",
     "output_type": "stream",
     "text": [
      "[Surveying]: 100%|██████████| 24/24 [00:01<00:00, 16.59it/s]\n"
     ]
    },
    {
     "name": "stdout",
     "output_type": "stream",
     "text": [
      "\n",
      "Training Model 3...\n"
     ]
    },
    {
     "name": "stderr",
     "output_type": "stream",
     "text": [
      "[Training]:  72%|███████▏  | 36/50 [00:19<00:07,  1.83it/s]\n"
     ]
    },
    {
     "name": "stdout",
     "output_type": "stream",
     "text": [
      "Early stopping triggered after 10 epochs with no improvement.\n",
      "Train Loss: 0.0068 | Val Loss: 0.1569 | SpearmanR: 0.4809\n"
     ]
    },
    {
     "name": "stderr",
     "output_type": "stream",
     "text": [
      "[Surveying]: 100%|██████████| 24/24 [00:01<00:00, 16.48it/s]\n"
     ]
    },
    {
     "name": "stdout",
     "output_type": "stream",
     "text": [
      "\n",
      "Training Model 4...\n"
     ]
    },
    {
     "name": "stderr",
     "output_type": "stream",
     "text": [
      "[Training]:  80%|████████  | 40/50 [00:27<00:06,  1.43it/s]\n"
     ]
    },
    {
     "name": "stdout",
     "output_type": "stream",
     "text": [
      "Early stopping triggered after 10 epochs with no improvement.\n",
      "Train Loss: 0.0074 | Val Loss: 0.1516 | SpearmanR: 0.5078\n"
     ]
    },
    {
     "name": "stderr",
     "output_type": "stream",
     "text": [
      "[Surveying]: 100%|██████████| 24/24 [00:01<00:00, 16.42it/s]\n"
     ]
    },
    {
     "name": "stdout",
     "output_type": "stream",
     "text": [
      "\n",
      "Training Model 5...\n"
     ]
    },
    {
     "name": "stderr",
     "output_type": "stream",
     "text": [
      "[Training]:  88%|████████▊ | 44/50 [00:29<00:04,  1.49it/s]\n"
     ]
    },
    {
     "name": "stdout",
     "output_type": "stream",
     "text": [
      "Early stopping triggered after 10 epochs with no improvement.\n",
      "Train Loss: 0.0101 | Val Loss: 0.1569 | SpearmanR: 0.5020\n"
     ]
    },
    {
     "name": "stderr",
     "output_type": "stream",
     "text": [
      "[Surveying]: 100%|██████████| 24/24 [00:01<00:00, 16.52it/s]\n"
     ]
    },
    {
     "name": "stdout",
     "output_type": "stream",
     "text": [
      "Ensemble training complete, submitting predictions for next cycle.\n",
      "\n",
      "Cycle 7/16\n",
      "-------------------------------------------------\n",
      "Saving variance distribution to results/04_adding_diversity/random_from_top_fraction/variances7.csv...\n",
      "Save complete.\n",
      "Selecting new data points...\n",
      "\n",
      "Training and evaluating model using 112 actively selected samples...\n"
     ]
    },
    {
     "name": "stderr",
     "output_type": "stream",
     "text": [
      "[Training]: 100%|██████████| 50/50 [00:34<00:00,  1.45it/s]\n"
     ]
    },
    {
     "name": "stdout",
     "output_type": "stream",
     "text": [
      "Train Loss: 0.0096 | Val Loss: 0.1576 | SpearmanR: 0.5423\n"
     ]
    },
    {
     "name": "stderr",
     "output_type": "stream",
     "text": [
      "[Testing]: 100%|██████████| 25/25 [00:00<00:00, 128.10it/s]\n"
     ]
    },
    {
     "name": "stdout",
     "output_type": "stream",
     "text": [
      "\n",
      "Training and evaluating model using 112 randomly selected samples...\n"
     ]
    },
    {
     "name": "stderr",
     "output_type": "stream",
     "text": [
      "[Training]: 100%|██████████| 50/50 [00:33<00:00,  1.48it/s]\n"
     ]
    },
    {
     "name": "stdout",
     "output_type": "stream",
     "text": [
      "Train Loss: 0.0174 | Val Loss: 0.1533 | SpearmanR: 0.5817\n"
     ]
    },
    {
     "name": "stderr",
     "output_type": "stream",
     "text": [
      "[Testing]: 100%|██████████| 25/25 [00:00<00:00, 129.01it/s]\n"
     ]
    },
    {
     "name": "stdout",
     "output_type": "stream",
     "text": [
      "Progress for experiment 6 appended to results/04_adding_diversity/random_from_top_fraction/active_vs_standard_learning_curve.csv\n",
      "Starting ensemble training and pool evaluation...\n",
      "\n",
      "Training Model 1...\n"
     ]
    },
    {
     "name": "stderr",
     "output_type": "stream",
     "text": [
      "[Training]: 100%|██████████| 50/50 [00:32<00:00,  1.52it/s]\n"
     ]
    },
    {
     "name": "stdout",
     "output_type": "stream",
     "text": [
      "Train Loss: 0.0036 | Val Loss: 0.1561 | SpearmanR: 0.5177\n"
     ]
    },
    {
     "name": "stderr",
     "output_type": "stream",
     "text": [
      "[Surveying]: 100%|██████████| 24/24 [00:01<00:00, 16.62it/s]\n"
     ]
    },
    {
     "name": "stdout",
     "output_type": "stream",
     "text": [
      "\n",
      "Training Model 2...\n"
     ]
    },
    {
     "name": "stderr",
     "output_type": "stream",
     "text": [
      "[Training]:  34%|███▍      | 17/50 [00:11<00:22,  1.45it/s]\n"
     ]
    },
    {
     "name": "stdout",
     "output_type": "stream",
     "text": [
      "Early stopping triggered after 10 epochs with no improvement.\n",
      "Train Loss: 0.0222 | Val Loss: 0.1765 | SpearmanR: 0.4338\n"
     ]
    },
    {
     "name": "stderr",
     "output_type": "stream",
     "text": [
      "[Surveying]: 100%|██████████| 24/24 [00:01<00:00, 16.67it/s]\n"
     ]
    },
    {
     "name": "stdout",
     "output_type": "stream",
     "text": [
      "\n",
      "Training Model 3...\n"
     ]
    },
    {
     "name": "stderr",
     "output_type": "stream",
     "text": [
      "[Training]:  66%|██████▌   | 33/50 [00:20<00:10,  1.59it/s]\n"
     ]
    },
    {
     "name": "stdout",
     "output_type": "stream",
     "text": [
      "Early stopping triggered after 10 epochs with no improvement.\n",
      "Train Loss: 0.0446 | Val Loss: 0.1629 | SpearmanR: 0.4387\n"
     ]
    },
    {
     "name": "stderr",
     "output_type": "stream",
     "text": [
      "[Surveying]: 100%|██████████| 24/24 [00:01<00:00, 16.53it/s]\n"
     ]
    },
    {
     "name": "stdout",
     "output_type": "stream",
     "text": [
      "\n",
      "Training Model 4...\n"
     ]
    },
    {
     "name": "stderr",
     "output_type": "stream",
     "text": [
      "[Training]:  86%|████████▌ | 43/50 [00:30<00:04,  1.41it/s]\n"
     ]
    },
    {
     "name": "stdout",
     "output_type": "stream",
     "text": [
      "Early stopping triggered after 10 epochs with no improvement.\n",
      "Train Loss: 0.0159 | Val Loss: 0.1547 | SpearmanR: 0.5035\n"
     ]
    },
    {
     "name": "stderr",
     "output_type": "stream",
     "text": [
      "[Surveying]: 100%|██████████| 24/24 [00:01<00:00, 16.51it/s]\n"
     ]
    },
    {
     "name": "stdout",
     "output_type": "stream",
     "text": [
      "\n",
      "Training Model 5...\n"
     ]
    },
    {
     "name": "stderr",
     "output_type": "stream",
     "text": [
      "[Training]:  54%|█████▍    | 27/50 [00:18<00:15,  1.46it/s]\n"
     ]
    },
    {
     "name": "stdout",
     "output_type": "stream",
     "text": [
      "Early stopping triggered after 10 epochs with no improvement.\n",
      "Train Loss: 0.0162 | Val Loss: 0.1602 | SpearmanR: 0.4933\n"
     ]
    },
    {
     "name": "stderr",
     "output_type": "stream",
     "text": [
      "[Surveying]: 100%|██████████| 24/24 [00:01<00:00, 16.51it/s]\n"
     ]
    },
    {
     "name": "stdout",
     "output_type": "stream",
     "text": [
      "Ensemble training complete, submitting predictions for next cycle.\n",
      "\n",
      "Cycle 8/16\n",
      "-------------------------------------------------\n",
      "Saving variance distribution to results/04_adding_diversity/random_from_top_fraction/variances8.csv...\n",
      "Save complete.\n",
      "Selecting new data points...\n",
      "\n",
      "Training and evaluating model using 128 actively selected samples...\n"
     ]
    },
    {
     "name": "stderr",
     "output_type": "stream",
     "text": [
      "[Training]:  80%|████████  | 40/50 [00:25<00:06,  1.55it/s]\n"
     ]
    },
    {
     "name": "stdout",
     "output_type": "stream",
     "text": [
      "Early stopping triggered after 10 epochs with no improvement.\n",
      "Train Loss: 0.0151 | Val Loss: 0.1450 | SpearmanR: 0.5699\n"
     ]
    },
    {
     "name": "stderr",
     "output_type": "stream",
     "text": [
      "[Testing]: 100%|██████████| 25/25 [00:00<00:00, 129.95it/s]\n"
     ]
    },
    {
     "name": "stdout",
     "output_type": "stream",
     "text": [
      "\n",
      "Training and evaluating model using 128 randomly selected samples...\n"
     ]
    },
    {
     "name": "stderr",
     "output_type": "stream",
     "text": [
      "[Training]:  94%|█████████▍| 47/50 [00:33<00:02,  1.42it/s]\n"
     ]
    },
    {
     "name": "stdout",
     "output_type": "stream",
     "text": [
      "Early stopping triggered after 10 epochs with no improvement.\n",
      "Train Loss: 0.0358 | Val Loss: 0.1352 | SpearmanR: 0.5908\n"
     ]
    },
    {
     "name": "stderr",
     "output_type": "stream",
     "text": [
      "[Testing]: 100%|██████████| 25/25 [00:00<00:00, 128.69it/s]\n"
     ]
    },
    {
     "name": "stdout",
     "output_type": "stream",
     "text": [
      "Progress for experiment 7 appended to results/04_adding_diversity/random_from_top_fraction/active_vs_standard_learning_curve.csv\n",
      "Starting ensemble training and pool evaluation...\n",
      "\n",
      "Training Model 1...\n"
     ]
    },
    {
     "name": "stderr",
     "output_type": "stream",
     "text": [
      "[Training]:  38%|███▊      | 19/50 [00:13<00:21,  1.45it/s]\n"
     ]
    },
    {
     "name": "stdout",
     "output_type": "stream",
     "text": [
      "Early stopping triggered after 10 epochs with no improvement.\n",
      "Train Loss: 0.1477 | Val Loss: 0.2029 | SpearmanR: 0.5158\n"
     ]
    },
    {
     "name": "stderr",
     "output_type": "stream",
     "text": [
      "[Surveying]: 100%|██████████| 24/24 [00:01<00:00, 16.62it/s]\n"
     ]
    },
    {
     "name": "stdout",
     "output_type": "stream",
     "text": [
      "\n",
      "Training Model 2...\n"
     ]
    },
    {
     "name": "stderr",
     "output_type": "stream",
     "text": [
      "[Training]: 100%|██████████| 50/50 [00:37<00:00,  1.32it/s]\n"
     ]
    },
    {
     "name": "stdout",
     "output_type": "stream",
     "text": [
      "Train Loss: 0.0045 | Val Loss: 0.1711 | SpearmanR: 0.4564\n"
     ]
    },
    {
     "name": "stderr",
     "output_type": "stream",
     "text": [
      "[Surveying]: 100%|██████████| 24/24 [00:01<00:00, 16.70it/s]\n"
     ]
    },
    {
     "name": "stdout",
     "output_type": "stream",
     "text": [
      "\n",
      "Training Model 3...\n"
     ]
    },
    {
     "name": "stderr",
     "output_type": "stream",
     "text": [
      "[Training]: 100%|██████████| 50/50 [00:24<00:00,  2.05it/s]\n"
     ]
    },
    {
     "name": "stdout",
     "output_type": "stream",
     "text": [
      "Train Loss: 0.0178 | Val Loss: 0.1521 | SpearmanR: 0.5003\n"
     ]
    },
    {
     "name": "stderr",
     "output_type": "stream",
     "text": [
      "[Surveying]: 100%|██████████| 24/24 [00:01<00:00, 16.73it/s]\n"
     ]
    },
    {
     "name": "stdout",
     "output_type": "stream",
     "text": [
      "\n",
      "Training Model 4...\n"
     ]
    },
    {
     "name": "stderr",
     "output_type": "stream",
     "text": [
      "[Training]:  80%|████████  | 40/50 [00:29<00:07,  1.37it/s]\n"
     ]
    },
    {
     "name": "stdout",
     "output_type": "stream",
     "text": [
      "Early stopping triggered after 10 epochs with no improvement.\n",
      "Train Loss: 0.0133 | Val Loss: 0.1453 | SpearmanR: 0.5624\n"
     ]
    },
    {
     "name": "stderr",
     "output_type": "stream",
     "text": [
      "[Surveying]: 100%|██████████| 24/24 [00:01<00:00, 16.67it/s]\n"
     ]
    },
    {
     "name": "stdout",
     "output_type": "stream",
     "text": [
      "\n",
      "Training Model 5...\n"
     ]
    },
    {
     "name": "stderr",
     "output_type": "stream",
     "text": [
      "[Training]: 100%|██████████| 50/50 [00:40<00:00,  1.24it/s]\n"
     ]
    },
    {
     "name": "stdout",
     "output_type": "stream",
     "text": [
      "Train Loss: 0.0394 | Val Loss: 0.1550 | SpearmanR: 0.5098\n"
     ]
    },
    {
     "name": "stderr",
     "output_type": "stream",
     "text": [
      "[Surveying]: 100%|██████████| 24/24 [00:01<00:00, 16.62it/s]\n"
     ]
    },
    {
     "name": "stdout",
     "output_type": "stream",
     "text": [
      "Ensemble training complete, submitting predictions for next cycle.\n",
      "\n",
      "Cycle 9/16\n",
      "-------------------------------------------------\n",
      "Saving variance distribution to results/04_adding_diversity/random_from_top_fraction/variances9.csv...\n",
      "Save complete.\n",
      "Selecting new data points...\n",
      "\n",
      "Training and evaluating model using 144 actively selected samples...\n"
     ]
    },
    {
     "name": "stderr",
     "output_type": "stream",
     "text": [
      "[Training]:  68%|██████▊   | 34/50 [00:30<00:14,  1.11it/s]\n"
     ]
    },
    {
     "name": "stdout",
     "output_type": "stream",
     "text": [
      "Early stopping triggered after 10 epochs with no improvement.\n",
      "Train Loss: 0.0296 | Val Loss: 0.1379 | SpearmanR: 0.5825\n"
     ]
    },
    {
     "name": "stderr",
     "output_type": "stream",
     "text": [
      "[Testing]: 100%|██████████| 25/25 [00:00<00:00, 129.54it/s]\n"
     ]
    },
    {
     "name": "stdout",
     "output_type": "stream",
     "text": [
      "\n",
      "Training and evaluating model using 144 randomly selected samples...\n"
     ]
    },
    {
     "name": "stderr",
     "output_type": "stream",
     "text": [
      "[Training]: 100%|██████████| 50/50 [00:33<00:00,  1.49it/s]\n"
     ]
    },
    {
     "name": "stdout",
     "output_type": "stream",
     "text": [
      "Train Loss: 0.0233 | Val Loss: 0.1500 | SpearmanR: 0.5689\n"
     ]
    },
    {
     "name": "stderr",
     "output_type": "stream",
     "text": [
      "[Testing]: 100%|██████████| 25/25 [00:00<00:00, 126.49it/s]\n"
     ]
    },
    {
     "name": "stdout",
     "output_type": "stream",
     "text": [
      "Progress for experiment 8 appended to results/04_adding_diversity/random_from_top_fraction/active_vs_standard_learning_curve.csv\n",
      "Starting ensemble training and pool evaluation...\n",
      "\n",
      "Training Model 1...\n"
     ]
    },
    {
     "name": "stderr",
     "output_type": "stream",
     "text": [
      "[Training]: 100%|██████████| 50/50 [00:23<00:00,  2.15it/s]\n"
     ]
    },
    {
     "name": "stdout",
     "output_type": "stream",
     "text": [
      "Train Loss: 0.0168 | Val Loss: 0.1379 | SpearmanR: 0.5476\n"
     ]
    },
    {
     "name": "stderr",
     "output_type": "stream",
     "text": [
      "[Surveying]: 100%|██████████| 24/24 [00:01<00:00, 16.61it/s]\n"
     ]
    },
    {
     "name": "stdout",
     "output_type": "stream",
     "text": [
      "\n",
      "Training Model 2...\n"
     ]
    },
    {
     "name": "stderr",
     "output_type": "stream",
     "text": [
      "[Training]:  92%|█████████▏| 46/50 [00:19<00:01,  2.39it/s]\n"
     ]
    },
    {
     "name": "stdout",
     "output_type": "stream",
     "text": [
      "Early stopping triggered after 10 epochs with no improvement.\n",
      "Train Loss: 0.0120 | Val Loss: 0.1674 | SpearmanR: 0.5490\n"
     ]
    },
    {
     "name": "stderr",
     "output_type": "stream",
     "text": [
      "[Surveying]: 100%|██████████| 24/24 [00:01<00:00, 16.62it/s]\n"
     ]
    },
    {
     "name": "stdout",
     "output_type": "stream",
     "text": [
      "\n",
      "Training Model 3...\n"
     ]
    },
    {
     "name": "stderr",
     "output_type": "stream",
     "text": [
      "[Training]:  62%|██████▏   | 31/50 [00:14<00:08,  2.20it/s]\n"
     ]
    },
    {
     "name": "stdout",
     "output_type": "stream",
     "text": [
      "Early stopping triggered after 10 epochs with no improvement.\n",
      "Train Loss: 0.0259 | Val Loss: 0.1938 | SpearmanR: 0.4978\n"
     ]
    },
    {
     "name": "stderr",
     "output_type": "stream",
     "text": [
      "[Surveying]: 100%|██████████| 24/24 [00:01<00:00, 16.72it/s]\n"
     ]
    },
    {
     "name": "stdout",
     "output_type": "stream",
     "text": [
      "\n",
      "Training Model 4...\n"
     ]
    },
    {
     "name": "stderr",
     "output_type": "stream",
     "text": [
      "[Training]: 100%|██████████| 50/50 [00:19<00:00,  2.50it/s]\n"
     ]
    },
    {
     "name": "stdout",
     "output_type": "stream",
     "text": [
      "Train Loss: 0.0217 | Val Loss: 0.1418 | SpearmanR: 0.5246\n"
     ]
    },
    {
     "name": "stderr",
     "output_type": "stream",
     "text": [
      "[Surveying]: 100%|██████████| 24/24 [00:01<00:00, 16.68it/s]\n"
     ]
    },
    {
     "name": "stdout",
     "output_type": "stream",
     "text": [
      "\n",
      "Training Model 5...\n"
     ]
    },
    {
     "name": "stderr",
     "output_type": "stream",
     "text": [
      "[Training]:  58%|█████▊    | 29/50 [00:14<00:10,  1.95it/s]\n"
     ]
    },
    {
     "name": "stdout",
     "output_type": "stream",
     "text": [
      "Early stopping triggered after 10 epochs with no improvement.\n",
      "Train Loss: 0.0204 | Val Loss: 0.1893 | SpearmanR: 0.4517\n"
     ]
    },
    {
     "name": "stderr",
     "output_type": "stream",
     "text": [
      "[Surveying]: 100%|██████████| 24/24 [00:01<00:00, 16.62it/s]\n"
     ]
    },
    {
     "name": "stdout",
     "output_type": "stream",
     "text": [
      "Ensemble training complete, submitting predictions for next cycle.\n",
      "\n",
      "Cycle 10/16\n",
      "-------------------------------------------------\n",
      "Saving variance distribution to results/04_adding_diversity/random_from_top_fraction/variances10.csv...\n",
      "Save complete.\n",
      "Selecting new data points...\n",
      "\n",
      "Training and evaluating model using 160 actively selected samples...\n"
     ]
    },
    {
     "name": "stderr",
     "output_type": "stream",
     "text": [
      "[Training]:  94%|█████████▍| 47/50 [00:21<00:01,  2.14it/s]\n"
     ]
    },
    {
     "name": "stdout",
     "output_type": "stream",
     "text": [
      "Early stopping triggered after 10 epochs with no improvement.\n",
      "Train Loss: 0.0205 | Val Loss: 0.1256 | SpearmanR: 0.5914\n"
     ]
    },
    {
     "name": "stderr",
     "output_type": "stream",
     "text": [
      "[Testing]: 100%|██████████| 25/25 [00:00<00:00, 125.13it/s]\n"
     ]
    },
    {
     "name": "stdout",
     "output_type": "stream",
     "text": [
      "\n",
      "Training and evaluating model using 160 randomly selected samples...\n"
     ]
    },
    {
     "name": "stderr",
     "output_type": "stream",
     "text": [
      "[Training]:  98%|█████████▊| 49/50 [00:25<00:00,  1.94it/s]\n"
     ]
    },
    {
     "name": "stdout",
     "output_type": "stream",
     "text": [
      "Early stopping triggered after 10 epochs with no improvement.\n",
      "Train Loss: 0.0090 | Val Loss: 0.1355 | SpearmanR: 0.6327\n"
     ]
    },
    {
     "name": "stderr",
     "output_type": "stream",
     "text": [
      "[Testing]: 100%|██████████| 25/25 [00:00<00:00, 125.51it/s]\n"
     ]
    },
    {
     "name": "stdout",
     "output_type": "stream",
     "text": [
      "Progress for experiment 9 appended to results/04_adding_diversity/random_from_top_fraction/active_vs_standard_learning_curve.csv\n",
      "Starting ensemble training and pool evaluation...\n",
      "\n",
      "Training Model 1...\n"
     ]
    },
    {
     "name": "stderr",
     "output_type": "stream",
     "text": [
      "[Training]:  92%|█████████▏| 46/50 [00:22<00:01,  2.03it/s]\n"
     ]
    },
    {
     "name": "stdout",
     "output_type": "stream",
     "text": [
      "Early stopping triggered after 10 epochs with no improvement.\n",
      "Train Loss: 0.0044 | Val Loss: 0.1577 | SpearmanR: 0.5298\n"
     ]
    },
    {
     "name": "stderr",
     "output_type": "stream",
     "text": [
      "[Surveying]: 100%|██████████| 24/24 [00:01<00:00, 16.71it/s]\n"
     ]
    },
    {
     "name": "stdout",
     "output_type": "stream",
     "text": [
      "\n",
      "Training Model 2...\n"
     ]
    },
    {
     "name": "stderr",
     "output_type": "stream",
     "text": [
      "[Training]:  82%|████████▏ | 41/50 [00:19<00:04,  2.15it/s]\n"
     ]
    },
    {
     "name": "stdout",
     "output_type": "stream",
     "text": [
      "Early stopping triggered after 10 epochs with no improvement.\n",
      "Train Loss: 0.0117 | Val Loss: 0.1464 | SpearmanR: 0.5633\n"
     ]
    },
    {
     "name": "stderr",
     "output_type": "stream",
     "text": [
      "[Surveying]: 100%|██████████| 24/24 [00:01<00:00, 16.75it/s]\n"
     ]
    },
    {
     "name": "stdout",
     "output_type": "stream",
     "text": [
      "\n",
      "Training Model 3...\n"
     ]
    },
    {
     "name": "stderr",
     "output_type": "stream",
     "text": [
      "[Training]:  96%|█████████▌| 48/50 [00:23<00:00,  2.05it/s]\n"
     ]
    },
    {
     "name": "stdout",
     "output_type": "stream",
     "text": [
      "Early stopping triggered after 10 epochs with no improvement.\n",
      "Train Loss: 0.0016 | Val Loss: 0.1418 | SpearmanR: 0.5635\n"
     ]
    },
    {
     "name": "stderr",
     "output_type": "stream",
     "text": [
      "[Surveying]: 100%|██████████| 24/24 [00:01<00:00, 16.84it/s]\n"
     ]
    },
    {
     "name": "stdout",
     "output_type": "stream",
     "text": [
      "\n",
      "Training Model 4...\n"
     ]
    },
    {
     "name": "stderr",
     "output_type": "stream",
     "text": [
      "[Training]:  98%|█████████▊| 49/50 [00:22<00:00,  2.17it/s]\n"
     ]
    },
    {
     "name": "stdout",
     "output_type": "stream",
     "text": [
      "Early stopping triggered after 10 epochs with no improvement.\n",
      "Train Loss: 0.0056 | Val Loss: 0.1467 | SpearmanR: 0.5560\n"
     ]
    },
    {
     "name": "stderr",
     "output_type": "stream",
     "text": [
      "[Surveying]: 100%|██████████| 24/24 [00:01<00:00, 16.81it/s]\n"
     ]
    },
    {
     "name": "stdout",
     "output_type": "stream",
     "text": [
      "\n",
      "Training Model 5...\n"
     ]
    },
    {
     "name": "stderr",
     "output_type": "stream",
     "text": [
      "[Training]:  80%|████████  | 40/50 [00:17<00:04,  2.29it/s]\n"
     ]
    },
    {
     "name": "stdout",
     "output_type": "stream",
     "text": [
      "Early stopping triggered after 10 epochs with no improvement.\n",
      "Train Loss: 0.0061 | Val Loss: 0.1338 | SpearmanR: 0.5726\n"
     ]
    },
    {
     "name": "stderr",
     "output_type": "stream",
     "text": [
      "[Surveying]: 100%|██████████| 24/24 [00:01<00:00, 16.60it/s]\n"
     ]
    },
    {
     "name": "stdout",
     "output_type": "stream",
     "text": [
      "Ensemble training complete, submitting predictions for next cycle.\n",
      "\n",
      "Cycle 11/16\n",
      "-------------------------------------------------\n",
      "Saving variance distribution to results/04_adding_diversity/random_from_top_fraction/variances11.csv...\n",
      "Save complete.\n",
      "Selecting new data points...\n",
      "\n",
      "Training and evaluating model using 176 actively selected samples...\n"
     ]
    },
    {
     "name": "stderr",
     "output_type": "stream",
     "text": [
      "[Training]:  82%|████████▏ | 41/50 [00:21<00:04,  1.95it/s]\n"
     ]
    },
    {
     "name": "stdout",
     "output_type": "stream",
     "text": [
      "Early stopping triggered after 10 epochs with no improvement.\n",
      "Train Loss: 0.0332 | Val Loss: 0.1579 | SpearmanR: 0.6268\n"
     ]
    },
    {
     "name": "stderr",
     "output_type": "stream",
     "text": [
      "[Testing]: 100%|██████████| 25/25 [00:00<00:00, 128.50it/s]\n"
     ]
    },
    {
     "name": "stdout",
     "output_type": "stream",
     "text": [
      "\n",
      "Training and evaluating model using 176 randomly selected samples...\n"
     ]
    },
    {
     "name": "stderr",
     "output_type": "stream",
     "text": [
      "[Training]:  80%|████████  | 40/50 [00:20<00:05,  1.97it/s]\n"
     ]
    },
    {
     "name": "stdout",
     "output_type": "stream",
     "text": [
      "Early stopping triggered after 10 epochs with no improvement.\n",
      "Train Loss: 0.0515 | Val Loss: 0.1163 | SpearmanR: 0.6516\n"
     ]
    },
    {
     "name": "stderr",
     "output_type": "stream",
     "text": [
      "[Testing]: 100%|██████████| 25/25 [00:00<00:00, 128.68it/s]\n"
     ]
    },
    {
     "name": "stdout",
     "output_type": "stream",
     "text": [
      "Progress for experiment 10 appended to results/04_adding_diversity/random_from_top_fraction/active_vs_standard_learning_curve.csv\n",
      "Starting ensemble training and pool evaluation...\n",
      "\n",
      "Training Model 1...\n"
     ]
    },
    {
     "name": "stderr",
     "output_type": "stream",
     "text": [
      "[Training]: 100%|██████████| 50/50 [00:33<00:00,  1.50it/s]\n"
     ]
    },
    {
     "name": "stdout",
     "output_type": "stream",
     "text": [
      "Train Loss: 0.0158 | Val Loss: 0.1611 | SpearmanR: 0.5337\n"
     ]
    },
    {
     "name": "stderr",
     "output_type": "stream",
     "text": [
      "[Surveying]: 100%|██████████| 24/24 [00:01<00:00, 17.05it/s]\n"
     ]
    },
    {
     "name": "stdout",
     "output_type": "stream",
     "text": [
      "\n",
      "Training Model 2...\n"
     ]
    },
    {
     "name": "stderr",
     "output_type": "stream",
     "text": [
      "[Training]:  84%|████████▍ | 42/50 [00:30<00:05,  1.38it/s]\n"
     ]
    },
    {
     "name": "stdout",
     "output_type": "stream",
     "text": [
      "Early stopping triggered after 10 epochs with no improvement.\n",
      "Train Loss: 0.0073 | Val Loss: 0.1462 | SpearmanR: 0.5419\n"
     ]
    },
    {
     "name": "stderr",
     "output_type": "stream",
     "text": [
      "[Surveying]: 100%|██████████| 24/24 [00:01<00:00, 16.92it/s]\n"
     ]
    },
    {
     "name": "stdout",
     "output_type": "stream",
     "text": [
      "\n",
      "Training Model 3...\n"
     ]
    },
    {
     "name": "stderr",
     "output_type": "stream",
     "text": [
      "[Training]:  80%|████████  | 40/50 [00:30<00:07,  1.32it/s]\n"
     ]
    },
    {
     "name": "stdout",
     "output_type": "stream",
     "text": [
      "Early stopping triggered after 10 epochs with no improvement.\n",
      "Train Loss: 0.0485 | Val Loss: 0.1494 | SpearmanR: 0.5668\n"
     ]
    },
    {
     "name": "stderr",
     "output_type": "stream",
     "text": [
      "[Surveying]: 100%|██████████| 24/24 [00:01<00:00, 17.08it/s]\n"
     ]
    },
    {
     "name": "stdout",
     "output_type": "stream",
     "text": [
      "\n",
      "Training Model 4...\n"
     ]
    },
    {
     "name": "stderr",
     "output_type": "stream",
     "text": [
      "[Training]:  72%|███████▏  | 36/50 [00:18<00:07,  1.93it/s]\n"
     ]
    },
    {
     "name": "stdout",
     "output_type": "stream",
     "text": [
      "Early stopping triggered after 10 epochs with no improvement.\n",
      "Train Loss: 0.0086 | Val Loss: 0.1380 | SpearmanR: 0.5817\n"
     ]
    },
    {
     "name": "stderr",
     "output_type": "stream",
     "text": [
      "[Surveying]: 100%|██████████| 24/24 [00:01<00:00, 16.77it/s]\n"
     ]
    },
    {
     "name": "stdout",
     "output_type": "stream",
     "text": [
      "\n",
      "Training Model 5...\n"
     ]
    },
    {
     "name": "stderr",
     "output_type": "stream",
     "text": [
      "[Training]:  78%|███████▊  | 39/50 [00:21<00:05,  1.84it/s]\n"
     ]
    },
    {
     "name": "stdout",
     "output_type": "stream",
     "text": [
      "Early stopping triggered after 10 epochs with no improvement.\n",
      "Train Loss: 0.0098 | Val Loss: 0.1325 | SpearmanR: 0.5677\n"
     ]
    },
    {
     "name": "stderr",
     "output_type": "stream",
     "text": [
      "[Surveying]: 100%|██████████| 24/24 [00:01<00:00, 16.69it/s]\n"
     ]
    },
    {
     "name": "stdout",
     "output_type": "stream",
     "text": [
      "Ensemble training complete, submitting predictions for next cycle.\n",
      "\n",
      "Cycle 12/16\n",
      "-------------------------------------------------\n",
      "Saving variance distribution to results/04_adding_diversity/random_from_top_fraction/variances12.csv...\n",
      "Save complete.\n",
      "Selecting new data points...\n",
      "\n",
      "Training and evaluating model using 192 actively selected samples...\n"
     ]
    },
    {
     "name": "stderr",
     "output_type": "stream",
     "text": [
      "[Training]: 100%|██████████| 50/50 [00:38<00:00,  1.31it/s]\n"
     ]
    },
    {
     "name": "stdout",
     "output_type": "stream",
     "text": [
      "Train Loss: 0.0164 | Val Loss: 0.1415 | SpearmanR: 0.6202\n"
     ]
    },
    {
     "name": "stderr",
     "output_type": "stream",
     "text": [
      "[Testing]: 100%|██████████| 25/25 [00:00<00:00, 127.06it/s]\n"
     ]
    },
    {
     "name": "stdout",
     "output_type": "stream",
     "text": [
      "\n",
      "Training and evaluating model using 192 randomly selected samples...\n"
     ]
    },
    {
     "name": "stderr",
     "output_type": "stream",
     "text": [
      "[Training]:  86%|████████▌ | 43/50 [00:33<00:05,  1.27it/s]\n"
     ]
    },
    {
     "name": "stdout",
     "output_type": "stream",
     "text": [
      "Early stopping triggered after 10 epochs with no improvement.\n",
      "Train Loss: 0.0154 | Val Loss: 0.1386 | SpearmanR: 0.6167\n"
     ]
    },
    {
     "name": "stderr",
     "output_type": "stream",
     "text": [
      "[Testing]: 100%|██████████| 25/25 [00:00<00:00, 130.31it/s]\n"
     ]
    },
    {
     "name": "stdout",
     "output_type": "stream",
     "text": [
      "Progress for experiment 11 appended to results/04_adding_diversity/random_from_top_fraction/active_vs_standard_learning_curve.csv\n",
      "Starting ensemble training and pool evaluation...\n",
      "\n",
      "Training Model 1...\n"
     ]
    },
    {
     "name": "stderr",
     "output_type": "stream",
     "text": [
      "[Training]: 100%|██████████| 50/50 [00:33<00:00,  1.51it/s]\n"
     ]
    },
    {
     "name": "stdout",
     "output_type": "stream",
     "text": [
      "Train Loss: 0.0027 | Val Loss: 0.1411 | SpearmanR: 0.5689\n"
     ]
    },
    {
     "name": "stderr",
     "output_type": "stream",
     "text": [
      "[Surveying]: 100%|██████████| 24/24 [00:01<00:00, 16.91it/s]\n"
     ]
    },
    {
     "name": "stdout",
     "output_type": "stream",
     "text": [
      "\n",
      "Training Model 2...\n"
     ]
    },
    {
     "name": "stderr",
     "output_type": "stream",
     "text": [
      "[Training]:  56%|█████▌    | 28/50 [00:23<00:18,  1.17it/s]\n"
     ]
    },
    {
     "name": "stdout",
     "output_type": "stream",
     "text": [
      "Early stopping triggered after 10 epochs with no improvement.\n",
      "Train Loss: 0.0091 | Val Loss: 0.1352 | SpearmanR: 0.5561\n"
     ]
    },
    {
     "name": "stderr",
     "output_type": "stream",
     "text": [
      "[Surveying]: 100%|██████████| 24/24 [00:01<00:00, 16.98it/s]\n"
     ]
    },
    {
     "name": "stdout",
     "output_type": "stream",
     "text": [
      "\n",
      "Training Model 3...\n"
     ]
    },
    {
     "name": "stderr",
     "output_type": "stream",
     "text": [
      "[Training]:  98%|█████████▊| 49/50 [00:37<00:00,  1.32it/s]\n"
     ]
    },
    {
     "name": "stdout",
     "output_type": "stream",
     "text": [
      "Early stopping triggered after 10 epochs with no improvement.\n",
      "Train Loss: 0.0109 | Val Loss: 0.1192 | SpearmanR: 0.6487\n"
     ]
    },
    {
     "name": "stderr",
     "output_type": "stream",
     "text": [
      "[Surveying]: 100%|██████████| 24/24 [00:01<00:00, 16.83it/s]\n"
     ]
    },
    {
     "name": "stdout",
     "output_type": "stream",
     "text": [
      "\n",
      "Training Model 4...\n"
     ]
    },
    {
     "name": "stderr",
     "output_type": "stream",
     "text": [
      "[Training]:  70%|███████   | 35/50 [00:25<00:11,  1.35it/s]\n"
     ]
    },
    {
     "name": "stdout",
     "output_type": "stream",
     "text": [
      "Early stopping triggered after 10 epochs with no improvement.\n",
      "Train Loss: 0.0143 | Val Loss: 0.1797 | SpearmanR: 0.5343\n"
     ]
    },
    {
     "name": "stderr",
     "output_type": "stream",
     "text": [
      "[Surveying]: 100%|██████████| 24/24 [00:01<00:00, 16.86it/s]\n"
     ]
    },
    {
     "name": "stdout",
     "output_type": "stream",
     "text": [
      "\n",
      "Training Model 5...\n"
     ]
    },
    {
     "name": "stderr",
     "output_type": "stream",
     "text": [
      "[Training]:  92%|█████████▏| 46/50 [00:36<00:03,  1.28it/s]\n"
     ]
    },
    {
     "name": "stdout",
     "output_type": "stream",
     "text": [
      "Early stopping triggered after 10 epochs with no improvement.\n",
      "Train Loss: 0.0026 | Val Loss: 0.1287 | SpearmanR: 0.6145\n"
     ]
    },
    {
     "name": "stderr",
     "output_type": "stream",
     "text": [
      "[Surveying]: 100%|██████████| 24/24 [00:01<00:00, 16.86it/s]\n"
     ]
    },
    {
     "name": "stdout",
     "output_type": "stream",
     "text": [
      "Ensemble training complete, submitting predictions for next cycle.\n",
      "\n",
      "Cycle 13/16\n",
      "-------------------------------------------------\n",
      "Saving variance distribution to results/04_adding_diversity/random_from_top_fraction/variances13.csv...\n",
      "Save complete.\n",
      "Selecting new data points...\n",
      "\n",
      "Training and evaluating model using 208 actively selected samples...\n"
     ]
    },
    {
     "name": "stderr",
     "output_type": "stream",
     "text": [
      "[Training]:  70%|███████   | 35/50 [00:29<00:12,  1.20it/s]\n"
     ]
    },
    {
     "name": "stdout",
     "output_type": "stream",
     "text": [
      "Early stopping triggered after 10 epochs with no improvement.\n",
      "Train Loss: 0.0254 | Val Loss: 0.1389 | SpearmanR: 0.6247\n"
     ]
    },
    {
     "name": "stderr",
     "output_type": "stream",
     "text": [
      "[Testing]: 100%|██████████| 25/25 [00:00<00:00, 129.79it/s]\n"
     ]
    },
    {
     "name": "stdout",
     "output_type": "stream",
     "text": [
      "\n",
      "Training and evaluating model using 208 randomly selected samples...\n"
     ]
    },
    {
     "name": "stderr",
     "output_type": "stream",
     "text": [
      "[Training]:  82%|████████▏ | 41/50 [00:31<00:06,  1.30it/s]\n"
     ]
    },
    {
     "name": "stdout",
     "output_type": "stream",
     "text": [
      "Early stopping triggered after 10 epochs with no improvement.\n",
      "Train Loss: 0.0177 | Val Loss: 0.1152 | SpearmanR: 0.6718\n"
     ]
    },
    {
     "name": "stderr",
     "output_type": "stream",
     "text": [
      "[Testing]: 100%|██████████| 25/25 [00:00<00:00, 131.18it/s]\n"
     ]
    },
    {
     "name": "stdout",
     "output_type": "stream",
     "text": [
      "Progress for experiment 12 appended to results/04_adding_diversity/random_from_top_fraction/active_vs_standard_learning_curve.csv\n",
      "Starting ensemble training and pool evaluation...\n",
      "\n",
      "Training Model 1...\n"
     ]
    },
    {
     "name": "stderr",
     "output_type": "stream",
     "text": [
      "[Training]: 100%|██████████| 50/50 [00:41<00:00,  1.19it/s]\n"
     ]
    },
    {
     "name": "stdout",
     "output_type": "stream",
     "text": [
      "Train Loss: 0.0057 | Val Loss: 0.1622 | SpearmanR: 0.5660\n"
     ]
    },
    {
     "name": "stderr",
     "output_type": "stream",
     "text": [
      "[Surveying]: 100%|██████████| 24/24 [00:01<00:00, 17.28it/s]\n"
     ]
    },
    {
     "name": "stdout",
     "output_type": "stream",
     "text": [
      "\n",
      "Training Model 2...\n"
     ]
    },
    {
     "name": "stderr",
     "output_type": "stream",
     "text": [
      "[Training]:  94%|█████████▍| 47/50 [00:40<00:02,  1.17it/s]\n"
     ]
    },
    {
     "name": "stdout",
     "output_type": "stream",
     "text": [
      "Early stopping triggered after 10 epochs with no improvement.\n",
      "Train Loss: 0.0056 | Val Loss: 0.1614 | SpearmanR: 0.5567\n"
     ]
    },
    {
     "name": "stderr",
     "output_type": "stream",
     "text": [
      "[Surveying]: 100%|██████████| 24/24 [00:01<00:00, 17.32it/s]\n"
     ]
    },
    {
     "name": "stdout",
     "output_type": "stream",
     "text": [
      "\n",
      "Training Model 3...\n"
     ]
    },
    {
     "name": "stderr",
     "output_type": "stream",
     "text": [
      "[Training]:  74%|███████▍  | 37/50 [00:24<00:08,  1.51it/s]\n"
     ]
    },
    {
     "name": "stdout",
     "output_type": "stream",
     "text": [
      "Early stopping triggered after 10 epochs with no improvement.\n",
      "Train Loss: 0.0121 | Val Loss: 0.1210 | SpearmanR: 0.6124\n"
     ]
    },
    {
     "name": "stderr",
     "output_type": "stream",
     "text": [
      "[Surveying]: 100%|██████████| 24/24 [00:01<00:00, 17.12it/s]\n"
     ]
    },
    {
     "name": "stdout",
     "output_type": "stream",
     "text": [
      "\n",
      "Training Model 4...\n"
     ]
    },
    {
     "name": "stderr",
     "output_type": "stream",
     "text": [
      "[Training]:  64%|██████▍   | 32/50 [00:28<00:15,  1.14it/s]\n"
     ]
    },
    {
     "name": "stdout",
     "output_type": "stream",
     "text": [
      "Early stopping triggered after 10 epochs with no improvement.\n",
      "Train Loss: 0.0200 | Val Loss: 0.1585 | SpearmanR: 0.5745\n"
     ]
    },
    {
     "name": "stderr",
     "output_type": "stream",
     "text": [
      "[Surveying]: 100%|██████████| 24/24 [00:01<00:00, 17.24it/s]\n"
     ]
    },
    {
     "name": "stdout",
     "output_type": "stream",
     "text": [
      "\n",
      "Training Model 5...\n"
     ]
    },
    {
     "name": "stderr",
     "output_type": "stream",
     "text": [
      "[Training]:  82%|████████▏ | 41/50 [00:23<00:05,  1.74it/s]\n"
     ]
    },
    {
     "name": "stdout",
     "output_type": "stream",
     "text": [
      "Early stopping triggered after 10 epochs with no improvement.\n",
      "Train Loss: 0.0144 | Val Loss: 0.1526 | SpearmanR: 0.5292\n"
     ]
    },
    {
     "name": "stderr",
     "output_type": "stream",
     "text": [
      "[Surveying]: 100%|██████████| 24/24 [00:01<00:00, 17.32it/s]\n"
     ]
    },
    {
     "name": "stdout",
     "output_type": "stream",
     "text": [
      "Ensemble training complete, submitting predictions for next cycle.\n",
      "\n",
      "Cycle 14/16\n",
      "-------------------------------------------------\n",
      "Saving variance distribution to results/04_adding_diversity/random_from_top_fraction/variances14.csv...\n",
      "Save complete.\n",
      "Selecting new data points...\n",
      "\n",
      "Training and evaluating model using 224 actively selected samples...\n"
     ]
    },
    {
     "name": "stderr",
     "output_type": "stream",
     "text": [
      "[Training]:  90%|█████████ | 45/50 [00:40<00:04,  1.11it/s]\n"
     ]
    },
    {
     "name": "stdout",
     "output_type": "stream",
     "text": [
      "Early stopping triggered after 10 epochs with no improvement.\n",
      "Train Loss: 0.0105 | Val Loss: 0.1191 | SpearmanR: 0.6370\n"
     ]
    },
    {
     "name": "stderr",
     "output_type": "stream",
     "text": [
      "[Testing]: 100%|██████████| 25/25 [00:00<00:00, 130.91it/s]\n"
     ]
    },
    {
     "name": "stdout",
     "output_type": "stream",
     "text": [
      "\n",
      "Training and evaluating model using 224 randomly selected samples...\n"
     ]
    },
    {
     "name": "stderr",
     "output_type": "stream",
     "text": [
      "[Training]: 100%|██████████| 50/50 [00:34<00:00,  1.45it/s]\n"
     ]
    },
    {
     "name": "stdout",
     "output_type": "stream",
     "text": [
      "Train Loss: 0.0079 | Val Loss: 0.1006 | SpearmanR: 0.7193\n"
     ]
    },
    {
     "name": "stderr",
     "output_type": "stream",
     "text": [
      "[Testing]: 100%|██████████| 25/25 [00:00<00:00, 127.94it/s]\n"
     ]
    },
    {
     "name": "stdout",
     "output_type": "stream",
     "text": [
      "Progress for experiment 13 appended to results/04_adding_diversity/random_from_top_fraction/active_vs_standard_learning_curve.csv\n",
      "Starting ensemble training and pool evaluation...\n",
      "\n",
      "Training Model 1...\n"
     ]
    },
    {
     "name": "stderr",
     "output_type": "stream",
     "text": [
      "[Training]: 100%|██████████| 50/50 [00:38<00:00,  1.31it/s]\n"
     ]
    },
    {
     "name": "stdout",
     "output_type": "stream",
     "text": [
      "Train Loss: 0.0050 | Val Loss: 0.1355 | SpearmanR: 0.6122\n"
     ]
    },
    {
     "name": "stderr",
     "output_type": "stream",
     "text": [
      "[Surveying]: 100%|██████████| 23/23 [00:01<00:00, 16.03it/s]\n"
     ]
    },
    {
     "name": "stdout",
     "output_type": "stream",
     "text": [
      "\n",
      "Training Model 2...\n"
     ]
    },
    {
     "name": "stderr",
     "output_type": "stream",
     "text": [
      "[Training]:  64%|██████▍   | 32/50 [00:26<00:14,  1.20it/s]\n"
     ]
    },
    {
     "name": "stdout",
     "output_type": "stream",
     "text": [
      "Early stopping triggered after 10 epochs with no improvement.\n",
      "Train Loss: 0.0537 | Val Loss: 0.1421 | SpearmanR: 0.5954\n"
     ]
    },
    {
     "name": "stderr",
     "output_type": "stream",
     "text": [
      "[Surveying]: 100%|██████████| 23/23 [00:01<00:00, 16.51it/s]\n"
     ]
    },
    {
     "name": "stdout",
     "output_type": "stream",
     "text": [
      "\n",
      "Training Model 3...\n"
     ]
    },
    {
     "name": "stderr",
     "output_type": "stream",
     "text": [
      "[Training]:  74%|███████▍  | 37/50 [00:30<00:10,  1.22it/s]\n"
     ]
    },
    {
     "name": "stdout",
     "output_type": "stream",
     "text": [
      "Early stopping triggered after 10 epochs with no improvement.\n",
      "Train Loss: 0.0063 | Val Loss: 0.1405 | SpearmanR: 0.5971\n"
     ]
    },
    {
     "name": "stderr",
     "output_type": "stream",
     "text": [
      "[Surveying]: 100%|██████████| 23/23 [00:01<00:00, 16.14it/s]\n"
     ]
    },
    {
     "name": "stdout",
     "output_type": "stream",
     "text": [
      "\n",
      "Training Model 4...\n"
     ]
    },
    {
     "name": "stderr",
     "output_type": "stream",
     "text": [
      "[Training]:  80%|████████  | 40/50 [00:32<00:08,  1.21it/s]\n"
     ]
    },
    {
     "name": "stdout",
     "output_type": "stream",
     "text": [
      "Early stopping triggered after 10 epochs with no improvement.\n",
      "Train Loss: 0.0073 | Val Loss: 0.1189 | SpearmanR: 0.6433\n"
     ]
    },
    {
     "name": "stderr",
     "output_type": "stream",
     "text": [
      "[Surveying]: 100%|██████████| 23/23 [00:01<00:00, 16.38it/s]\n"
     ]
    },
    {
     "name": "stdout",
     "output_type": "stream",
     "text": [
      "\n",
      "Training Model 5...\n"
     ]
    },
    {
     "name": "stderr",
     "output_type": "stream",
     "text": [
      "[Training]:  96%|█████████▌| 48/50 [00:35<00:01,  1.37it/s]\n"
     ]
    },
    {
     "name": "stdout",
     "output_type": "stream",
     "text": [
      "Early stopping triggered after 10 epochs with no improvement.\n",
      "Train Loss: 0.0039 | Val Loss: 0.1455 | SpearmanR: 0.6149\n"
     ]
    },
    {
     "name": "stderr",
     "output_type": "stream",
     "text": [
      "[Surveying]: 100%|██████████| 23/23 [00:01<00:00, 16.40it/s]\n"
     ]
    },
    {
     "name": "stdout",
     "output_type": "stream",
     "text": [
      "Ensemble training complete, submitting predictions for next cycle.\n",
      "\n",
      "Cycle 15/16\n",
      "-------------------------------------------------\n",
      "Saving variance distribution to results/04_adding_diversity/random_from_top_fraction/variances15.csv...\n",
      "Save complete.\n",
      "Selecting new data points...\n",
      "\n",
      "Training and evaluating model using 240 actively selected samples...\n"
     ]
    },
    {
     "name": "stderr",
     "output_type": "stream",
     "text": [
      "[Training]:  98%|█████████▊| 49/50 [00:40<00:00,  1.21it/s]\n"
     ]
    },
    {
     "name": "stdout",
     "output_type": "stream",
     "text": [
      "Early stopping triggered after 10 epochs with no improvement.\n",
      "Train Loss: 0.0241 | Val Loss: 0.1112 | SpearmanR: 0.6497\n"
     ]
    },
    {
     "name": "stderr",
     "output_type": "stream",
     "text": [
      "[Testing]: 100%|██████████| 25/25 [00:00<00:00, 127.20it/s]\n"
     ]
    },
    {
     "name": "stdout",
     "output_type": "stream",
     "text": [
      "\n",
      "Training and evaluating model using 240 randomly selected samples...\n"
     ]
    },
    {
     "name": "stderr",
     "output_type": "stream",
     "text": [
      "[Training]: 100%|██████████| 50/50 [00:45<00:00,  1.09it/s]\n"
     ]
    },
    {
     "name": "stdout",
     "output_type": "stream",
     "text": [
      "Train Loss: 0.0316 | Val Loss: 0.1277 | SpearmanR: 0.6740\n"
     ]
    },
    {
     "name": "stderr",
     "output_type": "stream",
     "text": [
      "[Testing]: 100%|██████████| 25/25 [00:00<00:00, 126.06it/s]\n"
     ]
    },
    {
     "name": "stdout",
     "output_type": "stream",
     "text": [
      "Progress for experiment 14 appended to results/04_adding_diversity/random_from_top_fraction/active_vs_standard_learning_curve.csv\n",
      "Starting ensemble training and pool evaluation...\n",
      "\n",
      "Training Model 1...\n"
     ]
    },
    {
     "name": "stderr",
     "output_type": "stream",
     "text": [
      "[Training]:  68%|██████▊   | 34/50 [00:19<00:09,  1.75it/s]\n"
     ]
    },
    {
     "name": "stdout",
     "output_type": "stream",
     "text": [
      "Early stopping triggered after 10 epochs with no improvement.\n",
      "Train Loss: 0.0059 | Val Loss: 0.1392 | SpearmanR: 0.5750\n"
     ]
    },
    {
     "name": "stderr",
     "output_type": "stream",
     "text": [
      "[Surveying]: 100%|██████████| 23/23 [00:01<00:00, 16.38it/s]\n"
     ]
    },
    {
     "name": "stdout",
     "output_type": "stream",
     "text": [
      "\n",
      "Training Model 2...\n"
     ]
    },
    {
     "name": "stderr",
     "output_type": "stream",
     "text": [
      "[Training]:  84%|████████▍ | 42/50 [00:23<00:04,  1.77it/s]\n"
     ]
    },
    {
     "name": "stdout",
     "output_type": "stream",
     "text": [
      "Early stopping triggered after 10 epochs with no improvement.\n",
      "Train Loss: 0.0054 | Val Loss: 0.1156 | SpearmanR: 0.6557\n"
     ]
    },
    {
     "name": "stderr",
     "output_type": "stream",
     "text": [
      "[Surveying]: 100%|██████████| 23/23 [00:01<00:00, 15.99it/s]\n"
     ]
    },
    {
     "name": "stdout",
     "output_type": "stream",
     "text": [
      "\n",
      "Training Model 3...\n"
     ]
    },
    {
     "name": "stderr",
     "output_type": "stream",
     "text": [
      "[Training]:  84%|████████▍ | 42/50 [00:22<00:04,  1.83it/s]\n"
     ]
    },
    {
     "name": "stdout",
     "output_type": "stream",
     "text": [
      "Early stopping triggered after 10 epochs with no improvement.\n",
      "Train Loss: 0.0041 | Val Loss: 0.1406 | SpearmanR: 0.5626\n"
     ]
    },
    {
     "name": "stderr",
     "output_type": "stream",
     "text": [
      "[Surveying]: 100%|██████████| 23/23 [00:01<00:00, 16.00it/s]\n"
     ]
    },
    {
     "name": "stdout",
     "output_type": "stream",
     "text": [
      "\n",
      "Training Model 4...\n"
     ]
    },
    {
     "name": "stderr",
     "output_type": "stream",
     "text": [
      "[Training]: 100%|██████████| 50/50 [00:26<00:00,  1.87it/s]\n"
     ]
    },
    {
     "name": "stdout",
     "output_type": "stream",
     "text": [
      "Train Loss: 0.0044 | Val Loss: 0.1362 | SpearmanR: 0.5776\n"
     ]
    },
    {
     "name": "stderr",
     "output_type": "stream",
     "text": [
      "[Surveying]: 100%|██████████| 23/23 [00:01<00:00, 15.82it/s]\n"
     ]
    },
    {
     "name": "stdout",
     "output_type": "stream",
     "text": [
      "\n",
      "Training Model 5...\n"
     ]
    },
    {
     "name": "stderr",
     "output_type": "stream",
     "text": [
      "[Training]:  68%|██████▊   | 34/50 [00:18<00:08,  1.83it/s]\n"
     ]
    },
    {
     "name": "stdout",
     "output_type": "stream",
     "text": [
      "Early stopping triggered after 10 epochs with no improvement.\n",
      "Train Loss: 0.0261 | Val Loss: 0.1444 | SpearmanR: 0.6235\n"
     ]
    },
    {
     "name": "stderr",
     "output_type": "stream",
     "text": [
      "[Surveying]: 100%|██████████| 23/23 [00:01<00:00, 15.97it/s]\n"
     ]
    },
    {
     "name": "stdout",
     "output_type": "stream",
     "text": [
      "Ensemble training complete, submitting predictions for next cycle.\n",
      "\n",
      "Cycle 16/16\n",
      "-------------------------------------------------\n",
      "Saving variance distribution to results/04_adding_diversity/random_from_top_fraction/variances16.csv...\n",
      "Save complete.\n",
      "Selecting new data points...\n",
      "\n",
      "Training and evaluating model using 256 actively selected samples...\n"
     ]
    },
    {
     "name": "stderr",
     "output_type": "stream",
     "text": [
      "[Training]:  84%|████████▍ | 42/50 [00:25<00:04,  1.64it/s]\n"
     ]
    },
    {
     "name": "stdout",
     "output_type": "stream",
     "text": [
      "Early stopping triggered after 10 epochs with no improvement.\n",
      "Train Loss: 0.0209 | Val Loss: 0.1147 | SpearmanR: 0.6732\n"
     ]
    },
    {
     "name": "stderr",
     "output_type": "stream",
     "text": [
      "[Testing]: 100%|██████████| 25/25 [00:00<00:00, 126.66it/s]\n"
     ]
    },
    {
     "name": "stdout",
     "output_type": "stream",
     "text": [
      "\n",
      "Training and evaluating model using 256 randomly selected samples...\n"
     ]
    },
    {
     "name": "stderr",
     "output_type": "stream",
     "text": [
      "[Training]: 100%|██████████| 50/50 [00:30<00:00,  1.62it/s]\n"
     ]
    },
    {
     "name": "stdout",
     "output_type": "stream",
     "text": [
      "Train Loss: 0.0382 | Val Loss: 0.1242 | SpearmanR: 0.6988\n"
     ]
    },
    {
     "name": "stderr",
     "output_type": "stream",
     "text": [
      "[Testing]: 100%|██████████| 25/25 [00:00<00:00, 118.27it/s]"
     ]
    },
    {
     "name": "stdout",
     "output_type": "stream",
     "text": [
      "Progress for experiment 15 appended to results/04_adding_diversity/random_from_top_fraction/active_vs_standard_learning_curve.csv\n",
      "Experiments complete.\n"
     ]
    },
    {
     "name": "stderr",
     "output_type": "stream",
     "text": [
      "\n"
     ]
    },
    {
     "data": {
      "text/html": [
       "<div>\n",
       "<style scoped>\n",
       "    .dataframe tbody tr th:only-of-type {\n",
       "        vertical-align: middle;\n",
       "    }\n",
       "\n",
       "    .dataframe tbody tr th {\n",
       "        vertical-align: top;\n",
       "    }\n",
       "\n",
       "    .dataframe thead th {\n",
       "        text-align: right;\n",
       "    }\n",
       "</style>\n",
       "<table border=\"1\" class=\"dataframe\">\n",
       "  <thead>\n",
       "    <tr style=\"text-align: right;\">\n",
       "      <th></th>\n",
       "      <th>changing_var</th>\n",
       "      <th>local_exp_idx</th>\n",
       "      <th>value</th>\n",
       "      <th>training_method</th>\n",
       "      <th>avg_test_loss</th>\n",
       "      <th>spearmanr</th>\n",
       "      <th>pearsonr</th>\n",
       "      <th>final_mse</th>\n",
       "    </tr>\n",
       "  </thead>\n",
       "  <tbody>\n",
       "    <tr>\n",
       "      <th>0</th>\n",
       "      <td>n_samples</td>\n",
       "      <td>0</td>\n",
       "      <td>16</td>\n",
       "      <td>active</td>\n",
       "      <td>0.232308</td>\n",
       "      <td>0.276791</td>\n",
       "      <td>0.255876</td>\n",
       "      <td>0.232170</td>\n",
       "    </tr>\n",
       "    <tr>\n",
       "      <th>1</th>\n",
       "      <td>n_samples</td>\n",
       "      <td>0</td>\n",
       "      <td>16</td>\n",
       "      <td>standard</td>\n",
       "      <td>0.208022</td>\n",
       "      <td>0.108390</td>\n",
       "      <td>0.151105</td>\n",
       "      <td>0.207960</td>\n",
       "    </tr>\n",
       "    <tr>\n",
       "      <th>2</th>\n",
       "      <td>n_samples</td>\n",
       "      <td>0</td>\n",
       "      <td>16</td>\n",
       "      <td>active</td>\n",
       "      <td>0.225947</td>\n",
       "      <td>0.288939</td>\n",
       "      <td>0.327616</td>\n",
       "      <td>0.226419</td>\n",
       "    </tr>\n",
       "    <tr>\n",
       "      <th>3</th>\n",
       "      <td>n_samples</td>\n",
       "      <td>0</td>\n",
       "      <td>16</td>\n",
       "      <td>standard</td>\n",
       "      <td>0.223339</td>\n",
       "      <td>-0.140400</td>\n",
       "      <td>-0.167712</td>\n",
       "      <td>0.223238</td>\n",
       "    </tr>\n",
       "    <tr>\n",
       "      <th>4</th>\n",
       "      <td>n_samples</td>\n",
       "      <td>1</td>\n",
       "      <td>32</td>\n",
       "      <td>active</td>\n",
       "      <td>0.184960</td>\n",
       "      <td>0.453173</td>\n",
       "      <td>0.476212</td>\n",
       "      <td>0.185616</td>\n",
       "    </tr>\n",
       "    <tr>\n",
       "      <th>5</th>\n",
       "      <td>n_samples</td>\n",
       "      <td>1</td>\n",
       "      <td>32</td>\n",
       "      <td>standard</td>\n",
       "      <td>0.213183</td>\n",
       "      <td>0.243198</td>\n",
       "      <td>0.218171</td>\n",
       "      <td>0.213262</td>\n",
       "    </tr>\n",
       "    <tr>\n",
       "      <th>6</th>\n",
       "      <td>n_samples</td>\n",
       "      <td>2</td>\n",
       "      <td>48</td>\n",
       "      <td>active</td>\n",
       "      <td>0.164185</td>\n",
       "      <td>0.492976</td>\n",
       "      <td>0.524374</td>\n",
       "      <td>0.164829</td>\n",
       "    </tr>\n",
       "    <tr>\n",
       "      <th>7</th>\n",
       "      <td>n_samples</td>\n",
       "      <td>2</td>\n",
       "      <td>48</td>\n",
       "      <td>standard</td>\n",
       "      <td>0.218176</td>\n",
       "      <td>0.484964</td>\n",
       "      <td>0.408690</td>\n",
       "      <td>0.218421</td>\n",
       "    </tr>\n",
       "    <tr>\n",
       "      <th>8</th>\n",
       "      <td>n_samples</td>\n",
       "      <td>3</td>\n",
       "      <td>64</td>\n",
       "      <td>active</td>\n",
       "      <td>0.152050</td>\n",
       "      <td>0.509348</td>\n",
       "      <td>0.531544</td>\n",
       "      <td>0.152574</td>\n",
       "    </tr>\n",
       "    <tr>\n",
       "      <th>9</th>\n",
       "      <td>n_samples</td>\n",
       "      <td>3</td>\n",
       "      <td>64</td>\n",
       "      <td>standard</td>\n",
       "      <td>0.144240</td>\n",
       "      <td>0.547185</td>\n",
       "      <td>0.551789</td>\n",
       "      <td>0.143950</td>\n",
       "    </tr>\n",
       "    <tr>\n",
       "      <th>10</th>\n",
       "      <td>n_samples</td>\n",
       "      <td>4</td>\n",
       "      <td>80</td>\n",
       "      <td>active</td>\n",
       "      <td>0.160815</td>\n",
       "      <td>0.508739</td>\n",
       "      <td>0.526422</td>\n",
       "      <td>0.161529</td>\n",
       "    </tr>\n",
       "    <tr>\n",
       "      <th>11</th>\n",
       "      <td>n_samples</td>\n",
       "      <td>4</td>\n",
       "      <td>80</td>\n",
       "      <td>standard</td>\n",
       "      <td>0.161592</td>\n",
       "      <td>0.512538</td>\n",
       "      <td>0.523987</td>\n",
       "      <td>0.162018</td>\n",
       "    </tr>\n",
       "    <tr>\n",
       "      <th>12</th>\n",
       "      <td>n_samples</td>\n",
       "      <td>5</td>\n",
       "      <td>96</td>\n",
       "      <td>active</td>\n",
       "      <td>0.148718</td>\n",
       "      <td>0.570568</td>\n",
       "      <td>0.583185</td>\n",
       "      <td>0.149344</td>\n",
       "    </tr>\n",
       "    <tr>\n",
       "      <th>13</th>\n",
       "      <td>n_samples</td>\n",
       "      <td>5</td>\n",
       "      <td>96</td>\n",
       "      <td>standard</td>\n",
       "      <td>0.192670</td>\n",
       "      <td>0.580116</td>\n",
       "      <td>0.563835</td>\n",
       "      <td>0.193031</td>\n",
       "    </tr>\n",
       "    <tr>\n",
       "      <th>14</th>\n",
       "      <td>n_samples</td>\n",
       "      <td>6</td>\n",
       "      <td>112</td>\n",
       "      <td>active</td>\n",
       "      <td>0.156168</td>\n",
       "      <td>0.569975</td>\n",
       "      <td>0.581200</td>\n",
       "      <td>0.156375</td>\n",
       "    </tr>\n",
       "    <tr>\n",
       "      <th>15</th>\n",
       "      <td>n_samples</td>\n",
       "      <td>6</td>\n",
       "      <td>112</td>\n",
       "      <td>standard</td>\n",
       "      <td>0.137252</td>\n",
       "      <td>0.546789</td>\n",
       "      <td>0.572282</td>\n",
       "      <td>0.137976</td>\n",
       "    </tr>\n",
       "    <tr>\n",
       "      <th>16</th>\n",
       "      <td>n_samples</td>\n",
       "      <td>7</td>\n",
       "      <td>128</td>\n",
       "      <td>active</td>\n",
       "      <td>0.130896</td>\n",
       "      <td>0.576511</td>\n",
       "      <td>0.595188</td>\n",
       "      <td>0.131154</td>\n",
       "    </tr>\n",
       "    <tr>\n",
       "      <th>17</th>\n",
       "      <td>n_samples</td>\n",
       "      <td>7</td>\n",
       "      <td>128</td>\n",
       "      <td>standard</td>\n",
       "      <td>0.124629</td>\n",
       "      <td>0.641686</td>\n",
       "      <td>0.647486</td>\n",
       "      <td>0.124743</td>\n",
       "    </tr>\n",
       "    <tr>\n",
       "      <th>18</th>\n",
       "      <td>n_samples</td>\n",
       "      <td>8</td>\n",
       "      <td>144</td>\n",
       "      <td>active</td>\n",
       "      <td>0.138051</td>\n",
       "      <td>0.565421</td>\n",
       "      <td>0.586626</td>\n",
       "      <td>0.138482</td>\n",
       "    </tr>\n",
       "    <tr>\n",
       "      <th>19</th>\n",
       "      <td>n_samples</td>\n",
       "      <td>8</td>\n",
       "      <td>144</td>\n",
       "      <td>standard</td>\n",
       "      <td>0.150528</td>\n",
       "      <td>0.549876</td>\n",
       "      <td>0.550432</td>\n",
       "      <td>0.151040</td>\n",
       "    </tr>\n",
       "    <tr>\n",
       "      <th>20</th>\n",
       "      <td>n_samples</td>\n",
       "      <td>9</td>\n",
       "      <td>160</td>\n",
       "      <td>active</td>\n",
       "      <td>0.129308</td>\n",
       "      <td>0.594929</td>\n",
       "      <td>0.611669</td>\n",
       "      <td>0.129468</td>\n",
       "    </tr>\n",
       "    <tr>\n",
       "      <th>21</th>\n",
       "      <td>n_samples</td>\n",
       "      <td>9</td>\n",
       "      <td>160</td>\n",
       "      <td>standard</td>\n",
       "      <td>0.127936</td>\n",
       "      <td>0.644123</td>\n",
       "      <td>0.650312</td>\n",
       "      <td>0.128420</td>\n",
       "    </tr>\n",
       "    <tr>\n",
       "      <th>22</th>\n",
       "      <td>n_samples</td>\n",
       "      <td>10</td>\n",
       "      <td>176</td>\n",
       "      <td>active</td>\n",
       "      <td>0.130507</td>\n",
       "      <td>0.605424</td>\n",
       "      <td>0.623033</td>\n",
       "      <td>0.130978</td>\n",
       "    </tr>\n",
       "    <tr>\n",
       "      <th>23</th>\n",
       "      <td>n_samples</td>\n",
       "      <td>10</td>\n",
       "      <td>176</td>\n",
       "      <td>standard</td>\n",
       "      <td>0.112404</td>\n",
       "      <td>0.669784</td>\n",
       "      <td>0.677269</td>\n",
       "      <td>0.112656</td>\n",
       "    </tr>\n",
       "    <tr>\n",
       "      <th>24</th>\n",
       "      <td>n_samples</td>\n",
       "      <td>11</td>\n",
       "      <td>192</td>\n",
       "      <td>active</td>\n",
       "      <td>0.132198</td>\n",
       "      <td>0.611760</td>\n",
       "      <td>0.621638</td>\n",
       "      <td>0.132542</td>\n",
       "    </tr>\n",
       "    <tr>\n",
       "      <th>25</th>\n",
       "      <td>n_samples</td>\n",
       "      <td>11</td>\n",
       "      <td>192</td>\n",
       "      <td>standard</td>\n",
       "      <td>0.128110</td>\n",
       "      <td>0.602259</td>\n",
       "      <td>0.626492</td>\n",
       "      <td>0.128217</td>\n",
       "    </tr>\n",
       "    <tr>\n",
       "      <th>26</th>\n",
       "      <td>n_samples</td>\n",
       "      <td>12</td>\n",
       "      <td>208</td>\n",
       "      <td>active</td>\n",
       "      <td>0.136567</td>\n",
       "      <td>0.606795</td>\n",
       "      <td>0.623130</td>\n",
       "      <td>0.136740</td>\n",
       "    </tr>\n",
       "    <tr>\n",
       "      <th>27</th>\n",
       "      <td>n_samples</td>\n",
       "      <td>12</td>\n",
       "      <td>208</td>\n",
       "      <td>standard</td>\n",
       "      <td>0.102813</td>\n",
       "      <td>0.730365</td>\n",
       "      <td>0.737886</td>\n",
       "      <td>0.103041</td>\n",
       "    </tr>\n",
       "    <tr>\n",
       "      <th>28</th>\n",
       "      <td>n_samples</td>\n",
       "      <td>13</td>\n",
       "      <td>224</td>\n",
       "      <td>active</td>\n",
       "      <td>0.138489</td>\n",
       "      <td>0.620037</td>\n",
       "      <td>0.633495</td>\n",
       "      <td>0.138372</td>\n",
       "    </tr>\n",
       "    <tr>\n",
       "      <th>29</th>\n",
       "      <td>n_samples</td>\n",
       "      <td>13</td>\n",
       "      <td>224</td>\n",
       "      <td>standard</td>\n",
       "      <td>0.107575</td>\n",
       "      <td>0.696577</td>\n",
       "      <td>0.700887</td>\n",
       "      <td>0.107895</td>\n",
       "    </tr>\n",
       "    <tr>\n",
       "      <th>30</th>\n",
       "      <td>n_samples</td>\n",
       "      <td>14</td>\n",
       "      <td>240</td>\n",
       "      <td>active</td>\n",
       "      <td>0.111667</td>\n",
       "      <td>0.636817</td>\n",
       "      <td>0.656878</td>\n",
       "      <td>0.112086</td>\n",
       "    </tr>\n",
       "    <tr>\n",
       "      <th>31</th>\n",
       "      <td>n_samples</td>\n",
       "      <td>14</td>\n",
       "      <td>240</td>\n",
       "      <td>standard</td>\n",
       "      <td>0.122137</td>\n",
       "      <td>0.675639</td>\n",
       "      <td>0.658384</td>\n",
       "      <td>0.122656</td>\n",
       "    </tr>\n",
       "    <tr>\n",
       "      <th>32</th>\n",
       "      <td>n_samples</td>\n",
       "      <td>15</td>\n",
       "      <td>256</td>\n",
       "      <td>active</td>\n",
       "      <td>0.122652</td>\n",
       "      <td>0.650020</td>\n",
       "      <td>0.660052</td>\n",
       "      <td>0.122868</td>\n",
       "    </tr>\n",
       "    <tr>\n",
       "      <th>33</th>\n",
       "      <td>n_samples</td>\n",
       "      <td>15</td>\n",
       "      <td>256</td>\n",
       "      <td>standard</td>\n",
       "      <td>0.095596</td>\n",
       "      <td>0.732557</td>\n",
       "      <td>0.732536</td>\n",
       "      <td>0.095864</td>\n",
       "    </tr>\n",
       "  </tbody>\n",
       "</table>\n",
       "</div>"
      ],
      "text/plain": [
       "   changing_var  local_exp_idx  value training_method  avg_test_loss  \\\n",
       "0     n_samples              0     16          active       0.232308   \n",
       "1     n_samples              0     16        standard       0.208022   \n",
       "2     n_samples              0     16          active       0.225947   \n",
       "3     n_samples              0     16        standard       0.223339   \n",
       "4     n_samples              1     32          active       0.184960   \n",
       "5     n_samples              1     32        standard       0.213183   \n",
       "6     n_samples              2     48          active       0.164185   \n",
       "7     n_samples              2     48        standard       0.218176   \n",
       "8     n_samples              3     64          active       0.152050   \n",
       "9     n_samples              3     64        standard       0.144240   \n",
       "10    n_samples              4     80          active       0.160815   \n",
       "11    n_samples              4     80        standard       0.161592   \n",
       "12    n_samples              5     96          active       0.148718   \n",
       "13    n_samples              5     96        standard       0.192670   \n",
       "14    n_samples              6    112          active       0.156168   \n",
       "15    n_samples              6    112        standard       0.137252   \n",
       "16    n_samples              7    128          active       0.130896   \n",
       "17    n_samples              7    128        standard       0.124629   \n",
       "18    n_samples              8    144          active       0.138051   \n",
       "19    n_samples              8    144        standard       0.150528   \n",
       "20    n_samples              9    160          active       0.129308   \n",
       "21    n_samples              9    160        standard       0.127936   \n",
       "22    n_samples             10    176          active       0.130507   \n",
       "23    n_samples             10    176        standard       0.112404   \n",
       "24    n_samples             11    192          active       0.132198   \n",
       "25    n_samples             11    192        standard       0.128110   \n",
       "26    n_samples             12    208          active       0.136567   \n",
       "27    n_samples             12    208        standard       0.102813   \n",
       "28    n_samples             13    224          active       0.138489   \n",
       "29    n_samples             13    224        standard       0.107575   \n",
       "30    n_samples             14    240          active       0.111667   \n",
       "31    n_samples             14    240        standard       0.122137   \n",
       "32    n_samples             15    256          active       0.122652   \n",
       "33    n_samples             15    256        standard       0.095596   \n",
       "\n",
       "    spearmanr  pearsonr  final_mse  \n",
       "0    0.276791  0.255876   0.232170  \n",
       "1    0.108390  0.151105   0.207960  \n",
       "2    0.288939  0.327616   0.226419  \n",
       "3   -0.140400 -0.167712   0.223238  \n",
       "4    0.453173  0.476212   0.185616  \n",
       "5    0.243198  0.218171   0.213262  \n",
       "6    0.492976  0.524374   0.164829  \n",
       "7    0.484964  0.408690   0.218421  \n",
       "8    0.509348  0.531544   0.152574  \n",
       "9    0.547185  0.551789   0.143950  \n",
       "10   0.508739  0.526422   0.161529  \n",
       "11   0.512538  0.523987   0.162018  \n",
       "12   0.570568  0.583185   0.149344  \n",
       "13   0.580116  0.563835   0.193031  \n",
       "14   0.569975  0.581200   0.156375  \n",
       "15   0.546789  0.572282   0.137976  \n",
       "16   0.576511  0.595188   0.131154  \n",
       "17   0.641686  0.647486   0.124743  \n",
       "18   0.565421  0.586626   0.138482  \n",
       "19   0.549876  0.550432   0.151040  \n",
       "20   0.594929  0.611669   0.129468  \n",
       "21   0.644123  0.650312   0.128420  \n",
       "22   0.605424  0.623033   0.130978  \n",
       "23   0.669784  0.677269   0.112656  \n",
       "24   0.611760  0.621638   0.132542  \n",
       "25   0.602259  0.626492   0.128217  \n",
       "26   0.606795  0.623130   0.136740  \n",
       "27   0.730365  0.737886   0.103041  \n",
       "28   0.620037  0.633495   0.138372  \n",
       "29   0.696577  0.700887   0.107895  \n",
       "30   0.636817  0.656878   0.112086  \n",
       "31   0.675639  0.658384   0.122656  \n",
       "32   0.650020  0.660052   0.122868  \n",
       "33   0.732557  0.732536   0.095864  "
      ]
     },
     "execution_count": 11,
     "metadata": {},
     "output_type": "execute_result"
    }
   ],
   "source": [
    "from scripts.config import (\n",
    "    MODEL_NAME,\n",
    "    APPROACH,\n",
    "    LEARNING_RATE,\n",
    "    WEIGHT_DECAY,\n",
    "    EPOCHS,\n",
    "    POOL_BATCH_SIZE,\n",
    "    PATIENCE,\n",
    "    N_MODELS,\n",
    "    TOP_SCORE_FRACTION,\n",
    ")\n",
    "\n",
    "get_learning_curves(\n",
    "    n_samples=256,\n",
    "    initial_n_samples=16,\n",
    "    top_score_fraction=TOP_SCORE_FRACTION,\n",
    "    n_samples_per_batch=16,\n",
    "    model_name=MODEL_NAME,\n",
    "    approach=APPROACH,\n",
    "    learning_rate=LEARNING_RATE,\n",
    "    weight_decay=WEIGHT_DECAY,\n",
    "    epochs=EPOCHS,\n",
    "    training_pool=training_pool,\n",
    "    train_dataloader_batch_size=BATCH_SIZE,\n",
    "    pool_dataloader_batch_size=POOL_BATCH_SIZE,\n",
    "    val_dataloader=val_dataloader,\n",
    "    test_dataloader=test_dataloader,\n",
    "    patience=PATIENCE,\n",
    "    n_models=N_MODELS,\n",
    "    results_path='results/04_adding_diversity/random_from_top_fraction/active_vs_standard_learning_curve.csv'\n",
    ")"
   ]
  },
  {
   "cell_type": "code",
   "execution_count": 12,
   "id": "47f0a6dc",
   "metadata": {},
   "outputs": [
    {
     "data": {
      "text/html": [
       "<div>\n",
       "<style scoped>\n",
       "    .dataframe tbody tr th:only-of-type {\n",
       "        vertical-align: middle;\n",
       "    }\n",
       "\n",
       "    .dataframe tbody tr th {\n",
       "        vertical-align: top;\n",
       "    }\n",
       "\n",
       "    .dataframe thead th {\n",
       "        text-align: right;\n",
       "    }\n",
       "</style>\n",
       "<table border=\"1\" class=\"dataframe\">\n",
       "  <thead>\n",
       "    <tr style=\"text-align: right;\">\n",
       "      <th></th>\n",
       "      <th>changing_var</th>\n",
       "      <th>local_exp_idx</th>\n",
       "      <th>value</th>\n",
       "      <th>training_method</th>\n",
       "      <th>avg_test_loss</th>\n",
       "      <th>spearmanr</th>\n",
       "      <th>pearsonr</th>\n",
       "      <th>final_mse</th>\n",
       "    </tr>\n",
       "  </thead>\n",
       "  <tbody>\n",
       "    <tr>\n",
       "      <th>0</th>\n",
       "      <td>n_samples</td>\n",
       "      <td>0</td>\n",
       "      <td>16</td>\n",
       "      <td>active</td>\n",
       "      <td>0.225947</td>\n",
       "      <td>0.288939</td>\n",
       "      <td>0.327616</td>\n",
       "      <td>0.226419</td>\n",
       "    </tr>\n",
       "    <tr>\n",
       "      <th>1</th>\n",
       "      <td>n_samples</td>\n",
       "      <td>0</td>\n",
       "      <td>16</td>\n",
       "      <td>standard</td>\n",
       "      <td>0.223339</td>\n",
       "      <td>-0.140400</td>\n",
       "      <td>-0.167712</td>\n",
       "      <td>0.223238</td>\n",
       "    </tr>\n",
       "    <tr>\n",
       "      <th>2</th>\n",
       "      <td>n_samples</td>\n",
       "      <td>1</td>\n",
       "      <td>32</td>\n",
       "      <td>active</td>\n",
       "      <td>0.184960</td>\n",
       "      <td>0.453173</td>\n",
       "      <td>0.476212</td>\n",
       "      <td>0.185616</td>\n",
       "    </tr>\n",
       "    <tr>\n",
       "      <th>3</th>\n",
       "      <td>n_samples</td>\n",
       "      <td>1</td>\n",
       "      <td>32</td>\n",
       "      <td>standard</td>\n",
       "      <td>0.213183</td>\n",
       "      <td>0.243198</td>\n",
       "      <td>0.218171</td>\n",
       "      <td>0.213262</td>\n",
       "    </tr>\n",
       "    <tr>\n",
       "      <th>4</th>\n",
       "      <td>n_samples</td>\n",
       "      <td>2</td>\n",
       "      <td>48</td>\n",
       "      <td>active</td>\n",
       "      <td>0.164185</td>\n",
       "      <td>0.492976</td>\n",
       "      <td>0.524374</td>\n",
       "      <td>0.164829</td>\n",
       "    </tr>\n",
       "  </tbody>\n",
       "</table>\n",
       "</div>"
      ],
      "text/plain": [
       "  changing_var  local_exp_idx  value training_method  avg_test_loss  \\\n",
       "0    n_samples              0     16          active       0.225947   \n",
       "1    n_samples              0     16        standard       0.223339   \n",
       "2    n_samples              1     32          active       0.184960   \n",
       "3    n_samples              1     32        standard       0.213183   \n",
       "4    n_samples              2     48          active       0.164185   \n",
       "\n",
       "   spearmanr  pearsonr  final_mse  \n",
       "0   0.288939  0.327616   0.226419  \n",
       "1  -0.140400 -0.167712   0.223238  \n",
       "2   0.453173  0.476212   0.185616  \n",
       "3   0.243198  0.218171   0.213262  \n",
       "4   0.492976  0.524374   0.164829  "
      ]
     },
     "execution_count": 12,
     "metadata": {},
     "output_type": "execute_result"
    }
   ],
   "source": [
    "lc_df = pd.read_csv(\"results/04_adding_diversity/random_from_top_fraction/active_vs_standard_learning_curve.csv\")\n",
    "lc_df.head()"
   ]
  },
  {
   "cell_type": "code",
   "execution_count": 13,
   "id": "e3cab633",
   "metadata": {},
   "outputs": [
    {
     "data": {
      "application/vnd.plotly.v1+json": {
       "config": {
        "plotlyServerURL": "https://plot.ly"
       },
       "data": [
        {
         "hovertemplate": "training_method=active<br>value=%{x}<br>spearmanr=%{y}<extra></extra>",
         "legendgroup": "active",
         "line": {
          "color": "#636efa",
          "dash": "solid"
         },
         "marker": {
          "symbol": "circle"
         },
         "mode": "lines",
         "name": "active",
         "orientation": "v",
         "showlegend": true,
         "type": "scatter",
         "x": {
          "bdata": "EAAgADAAQABQAGAAcACAAJAAoACwAMAA0ADgAPAAAAE=",
          "dtype": "i2"
         },
         "xaxis": "x",
         "y": {
          "bdata": "AAAAIPh90j////9/yADdP////1/qjN8/AAAAIJRM4D8AAACAl0fgPwAAAGAXQuI/AAAAIDw94j8AAAAgx3LiPwAAAGDtF+I/AAAA4KgJ4z8AAABAol/jPwAAACCJk+M/AAAA4N1q4z8AAAAgV9fjPwAAAMDNYOQ/AAAA4PbM5D8=",
          "dtype": "f8"
         },
         "yaxis": "y"
        },
        {
         "hovertemplate": "training_method=standard<br>value=%{x}<br>spearmanr=%{y}<extra></extra>",
         "legendgroup": "standard",
         "line": {
          "color": "#EF553B",
          "dash": "solid"
         },
         "marker": {
          "symbol": "circle"
         },
         "mode": "lines",
         "name": "standard",
         "orientation": "v",
         "showlegend": true,
         "type": "scatter",
         "x": {
          "bdata": "EAAgADAAQABQAGAAcACAAJAAoACwAMAA0ADgAPAAAAE=",
          "dtype": "i2"
         },
         "xaxis": "x",
         "y": {
          "bdata": "AAAAoKL4wb8AAACgICHPPwAAAKCnCd8/AAAAQIqC4T8AAACAtWbgPwAAAOBOkOI/AAAAAEx/4T8AAAAgsYjkPwAAAKCUmOE/AAAAgKic5D8AAADA327lPwAAAKC1ReM/AAAAYCVf5z8AAADAW0rmPwAAAGDWnuU/AAAAwBtx5z8=",
          "dtype": "f8"
         },
         "yaxis": "y"
        }
       ],
       "layout": {
        "legend": {
         "title": {
          "text": "training_method"
         },
         "tracegroupgap": 0
        },
        "margin": {
         "t": 60
        },
        "template": {
         "data": {
          "bar": [
           {
            "error_x": {
             "color": "#2a3f5f"
            },
            "error_y": {
             "color": "#2a3f5f"
            },
            "marker": {
             "line": {
              "color": "#E5ECF6",
              "width": 0.5
             },
             "pattern": {
              "fillmode": "overlay",
              "size": 10,
              "solidity": 0.2
             }
            },
            "type": "bar"
           }
          ],
          "barpolar": [
           {
            "marker": {
             "line": {
              "color": "#E5ECF6",
              "width": 0.5
             },
             "pattern": {
              "fillmode": "overlay",
              "size": 10,
              "solidity": 0.2
             }
            },
            "type": "barpolar"
           }
          ],
          "carpet": [
           {
            "aaxis": {
             "endlinecolor": "#2a3f5f",
             "gridcolor": "white",
             "linecolor": "white",
             "minorgridcolor": "white",
             "startlinecolor": "#2a3f5f"
            },
            "baxis": {
             "endlinecolor": "#2a3f5f",
             "gridcolor": "white",
             "linecolor": "white",
             "minorgridcolor": "white",
             "startlinecolor": "#2a3f5f"
            },
            "type": "carpet"
           }
          ],
          "choropleth": [
           {
            "colorbar": {
             "outlinewidth": 0,
             "ticks": ""
            },
            "type": "choropleth"
           }
          ],
          "contour": [
           {
            "colorbar": {
             "outlinewidth": 0,
             "ticks": ""
            },
            "colorscale": [
             [
              0,
              "#0d0887"
             ],
             [
              0.1111111111111111,
              "#46039f"
             ],
             [
              0.2222222222222222,
              "#7201a8"
             ],
             [
              0.3333333333333333,
              "#9c179e"
             ],
             [
              0.4444444444444444,
              "#bd3786"
             ],
             [
              0.5555555555555556,
              "#d8576b"
             ],
             [
              0.6666666666666666,
              "#ed7953"
             ],
             [
              0.7777777777777778,
              "#fb9f3a"
             ],
             [
              0.8888888888888888,
              "#fdca26"
             ],
             [
              1,
              "#f0f921"
             ]
            ],
            "type": "contour"
           }
          ],
          "contourcarpet": [
           {
            "colorbar": {
             "outlinewidth": 0,
             "ticks": ""
            },
            "type": "contourcarpet"
           }
          ],
          "heatmap": [
           {
            "colorbar": {
             "outlinewidth": 0,
             "ticks": ""
            },
            "colorscale": [
             [
              0,
              "#0d0887"
             ],
             [
              0.1111111111111111,
              "#46039f"
             ],
             [
              0.2222222222222222,
              "#7201a8"
             ],
             [
              0.3333333333333333,
              "#9c179e"
             ],
             [
              0.4444444444444444,
              "#bd3786"
             ],
             [
              0.5555555555555556,
              "#d8576b"
             ],
             [
              0.6666666666666666,
              "#ed7953"
             ],
             [
              0.7777777777777778,
              "#fb9f3a"
             ],
             [
              0.8888888888888888,
              "#fdca26"
             ],
             [
              1,
              "#f0f921"
             ]
            ],
            "type": "heatmap"
           }
          ],
          "histogram": [
           {
            "marker": {
             "pattern": {
              "fillmode": "overlay",
              "size": 10,
              "solidity": 0.2
             }
            },
            "type": "histogram"
           }
          ],
          "histogram2d": [
           {
            "colorbar": {
             "outlinewidth": 0,
             "ticks": ""
            },
            "colorscale": [
             [
              0,
              "#0d0887"
             ],
             [
              0.1111111111111111,
              "#46039f"
             ],
             [
              0.2222222222222222,
              "#7201a8"
             ],
             [
              0.3333333333333333,
              "#9c179e"
             ],
             [
              0.4444444444444444,
              "#bd3786"
             ],
             [
              0.5555555555555556,
              "#d8576b"
             ],
             [
              0.6666666666666666,
              "#ed7953"
             ],
             [
              0.7777777777777778,
              "#fb9f3a"
             ],
             [
              0.8888888888888888,
              "#fdca26"
             ],
             [
              1,
              "#f0f921"
             ]
            ],
            "type": "histogram2d"
           }
          ],
          "histogram2dcontour": [
           {
            "colorbar": {
             "outlinewidth": 0,
             "ticks": ""
            },
            "colorscale": [
             [
              0,
              "#0d0887"
             ],
             [
              0.1111111111111111,
              "#46039f"
             ],
             [
              0.2222222222222222,
              "#7201a8"
             ],
             [
              0.3333333333333333,
              "#9c179e"
             ],
             [
              0.4444444444444444,
              "#bd3786"
             ],
             [
              0.5555555555555556,
              "#d8576b"
             ],
             [
              0.6666666666666666,
              "#ed7953"
             ],
             [
              0.7777777777777778,
              "#fb9f3a"
             ],
             [
              0.8888888888888888,
              "#fdca26"
             ],
             [
              1,
              "#f0f921"
             ]
            ],
            "type": "histogram2dcontour"
           }
          ],
          "mesh3d": [
           {
            "colorbar": {
             "outlinewidth": 0,
             "ticks": ""
            },
            "type": "mesh3d"
           }
          ],
          "parcoords": [
           {
            "line": {
             "colorbar": {
              "outlinewidth": 0,
              "ticks": ""
             }
            },
            "type": "parcoords"
           }
          ],
          "pie": [
           {
            "automargin": true,
            "type": "pie"
           }
          ],
          "scatter": [
           {
            "fillpattern": {
             "fillmode": "overlay",
             "size": 10,
             "solidity": 0.2
            },
            "type": "scatter"
           }
          ],
          "scatter3d": [
           {
            "line": {
             "colorbar": {
              "outlinewidth": 0,
              "ticks": ""
             }
            },
            "marker": {
             "colorbar": {
              "outlinewidth": 0,
              "ticks": ""
             }
            },
            "type": "scatter3d"
           }
          ],
          "scattercarpet": [
           {
            "marker": {
             "colorbar": {
              "outlinewidth": 0,
              "ticks": ""
             }
            },
            "type": "scattercarpet"
           }
          ],
          "scattergeo": [
           {
            "marker": {
             "colorbar": {
              "outlinewidth": 0,
              "ticks": ""
             }
            },
            "type": "scattergeo"
           }
          ],
          "scattergl": [
           {
            "marker": {
             "colorbar": {
              "outlinewidth": 0,
              "ticks": ""
             }
            },
            "type": "scattergl"
           }
          ],
          "scattermap": [
           {
            "marker": {
             "colorbar": {
              "outlinewidth": 0,
              "ticks": ""
             }
            },
            "type": "scattermap"
           }
          ],
          "scattermapbox": [
           {
            "marker": {
             "colorbar": {
              "outlinewidth": 0,
              "ticks": ""
             }
            },
            "type": "scattermapbox"
           }
          ],
          "scatterpolar": [
           {
            "marker": {
             "colorbar": {
              "outlinewidth": 0,
              "ticks": ""
             }
            },
            "type": "scatterpolar"
           }
          ],
          "scatterpolargl": [
           {
            "marker": {
             "colorbar": {
              "outlinewidth": 0,
              "ticks": ""
             }
            },
            "type": "scatterpolargl"
           }
          ],
          "scatterternary": [
           {
            "marker": {
             "colorbar": {
              "outlinewidth": 0,
              "ticks": ""
             }
            },
            "type": "scatterternary"
           }
          ],
          "surface": [
           {
            "colorbar": {
             "outlinewidth": 0,
             "ticks": ""
            },
            "colorscale": [
             [
              0,
              "#0d0887"
             ],
             [
              0.1111111111111111,
              "#46039f"
             ],
             [
              0.2222222222222222,
              "#7201a8"
             ],
             [
              0.3333333333333333,
              "#9c179e"
             ],
             [
              0.4444444444444444,
              "#bd3786"
             ],
             [
              0.5555555555555556,
              "#d8576b"
             ],
             [
              0.6666666666666666,
              "#ed7953"
             ],
             [
              0.7777777777777778,
              "#fb9f3a"
             ],
             [
              0.8888888888888888,
              "#fdca26"
             ],
             [
              1,
              "#f0f921"
             ]
            ],
            "type": "surface"
           }
          ],
          "table": [
           {
            "cells": {
             "fill": {
              "color": "#EBF0F8"
             },
             "line": {
              "color": "white"
             }
            },
            "header": {
             "fill": {
              "color": "#C8D4E3"
             },
             "line": {
              "color": "white"
             }
            },
            "type": "table"
           }
          ]
         },
         "layout": {
          "annotationdefaults": {
           "arrowcolor": "#2a3f5f",
           "arrowhead": 0,
           "arrowwidth": 1
          },
          "autotypenumbers": "strict",
          "coloraxis": {
           "colorbar": {
            "outlinewidth": 0,
            "ticks": ""
           }
          },
          "colorscale": {
           "diverging": [
            [
             0,
             "#8e0152"
            ],
            [
             0.1,
             "#c51b7d"
            ],
            [
             0.2,
             "#de77ae"
            ],
            [
             0.3,
             "#f1b6da"
            ],
            [
             0.4,
             "#fde0ef"
            ],
            [
             0.5,
             "#f7f7f7"
            ],
            [
             0.6,
             "#e6f5d0"
            ],
            [
             0.7,
             "#b8e186"
            ],
            [
             0.8,
             "#7fbc41"
            ],
            [
             0.9,
             "#4d9221"
            ],
            [
             1,
             "#276419"
            ]
           ],
           "sequential": [
            [
             0,
             "#0d0887"
            ],
            [
             0.1111111111111111,
             "#46039f"
            ],
            [
             0.2222222222222222,
             "#7201a8"
            ],
            [
             0.3333333333333333,
             "#9c179e"
            ],
            [
             0.4444444444444444,
             "#bd3786"
            ],
            [
             0.5555555555555556,
             "#d8576b"
            ],
            [
             0.6666666666666666,
             "#ed7953"
            ],
            [
             0.7777777777777778,
             "#fb9f3a"
            ],
            [
             0.8888888888888888,
             "#fdca26"
            ],
            [
             1,
             "#f0f921"
            ]
           ],
           "sequentialminus": [
            [
             0,
             "#0d0887"
            ],
            [
             0.1111111111111111,
             "#46039f"
            ],
            [
             0.2222222222222222,
             "#7201a8"
            ],
            [
             0.3333333333333333,
             "#9c179e"
            ],
            [
             0.4444444444444444,
             "#bd3786"
            ],
            [
             0.5555555555555556,
             "#d8576b"
            ],
            [
             0.6666666666666666,
             "#ed7953"
            ],
            [
             0.7777777777777778,
             "#fb9f3a"
            ],
            [
             0.8888888888888888,
             "#fdca26"
            ],
            [
             1,
             "#f0f921"
            ]
           ]
          },
          "colorway": [
           "#636efa",
           "#EF553B",
           "#00cc96",
           "#ab63fa",
           "#FFA15A",
           "#19d3f3",
           "#FF6692",
           "#B6E880",
           "#FF97FF",
           "#FECB52"
          ],
          "font": {
           "color": "#2a3f5f"
          },
          "geo": {
           "bgcolor": "white",
           "lakecolor": "white",
           "landcolor": "#E5ECF6",
           "showlakes": true,
           "showland": true,
           "subunitcolor": "white"
          },
          "hoverlabel": {
           "align": "left"
          },
          "hovermode": "closest",
          "mapbox": {
           "style": "light"
          },
          "paper_bgcolor": "white",
          "plot_bgcolor": "#E5ECF6",
          "polar": {
           "angularaxis": {
            "gridcolor": "white",
            "linecolor": "white",
            "ticks": ""
           },
           "bgcolor": "#E5ECF6",
           "radialaxis": {
            "gridcolor": "white",
            "linecolor": "white",
            "ticks": ""
           }
          },
          "scene": {
           "xaxis": {
            "backgroundcolor": "#E5ECF6",
            "gridcolor": "white",
            "gridwidth": 2,
            "linecolor": "white",
            "showbackground": true,
            "ticks": "",
            "zerolinecolor": "white"
           },
           "yaxis": {
            "backgroundcolor": "#E5ECF6",
            "gridcolor": "white",
            "gridwidth": 2,
            "linecolor": "white",
            "showbackground": true,
            "ticks": "",
            "zerolinecolor": "white"
           },
           "zaxis": {
            "backgroundcolor": "#E5ECF6",
            "gridcolor": "white",
            "gridwidth": 2,
            "linecolor": "white",
            "showbackground": true,
            "ticks": "",
            "zerolinecolor": "white"
           }
          },
          "shapedefaults": {
           "line": {
            "color": "#2a3f5f"
           }
          },
          "ternary": {
           "aaxis": {
            "gridcolor": "white",
            "linecolor": "white",
            "ticks": ""
           },
           "baxis": {
            "gridcolor": "white",
            "linecolor": "white",
            "ticks": ""
           },
           "bgcolor": "#E5ECF6",
           "caxis": {
            "gridcolor": "white",
            "linecolor": "white",
            "ticks": ""
           }
          },
          "title": {
           "x": 0.05
          },
          "xaxis": {
           "automargin": true,
           "gridcolor": "white",
           "linecolor": "white",
           "ticks": "",
           "title": {
            "standoff": 15
           },
           "zerolinecolor": "white",
           "zerolinewidth": 2
          },
          "yaxis": {
           "automargin": true,
           "gridcolor": "white",
           "linecolor": "white",
           "ticks": "",
           "title": {
            "standoff": 15
           },
           "zerolinecolor": "white",
           "zerolinewidth": 2
          }
         }
        },
        "xaxis": {
         "anchor": "y",
         "domain": [
          0,
          1
         ],
         "title": {
          "text": "Number of Training Samples"
         }
        },
        "yaxis": {
         "anchor": "x",
         "domain": [
          0,
          1
         ],
         "title": {
          "text": "Spearman Correlation Coefficient"
         }
        }
       }
      }
     },
     "metadata": {},
     "output_type": "display_data"
    }
   ],
   "source": [
    "import plotly.express as px\n",
    "\n",
    "fig = px.line(lc_df, 'value', 'spearmanr',color=\"training_method\")\n",
    "\n",
    "fig.update_layout(\n",
    "    xaxis_title=\"Number of Training Samples\",\n",
    "    yaxis_title=\"Spearman Correlation Coefficient\"\n",
    ")\n",
    "\n",
    "fig.show()"
   ]
  },
  {
   "cell_type": "code",
   "execution_count": 14,
   "id": "ca8058c2",
   "metadata": {},
   "outputs": [
    {
     "data": {
      "text/html": [
       "<div>\n",
       "<style scoped>\n",
       "    .dataframe tbody tr th:only-of-type {\n",
       "        vertical-align: middle;\n",
       "    }\n",
       "\n",
       "    .dataframe tbody tr th {\n",
       "        vertical-align: top;\n",
       "    }\n",
       "\n",
       "    .dataframe thead th {\n",
       "        text-align: right;\n",
       "    }\n",
       "</style>\n",
       "<table border=\"1\" class=\"dataframe\">\n",
       "  <thead>\n",
       "    <tr style=\"text-align: right;\">\n",
       "      <th></th>\n",
       "      <th>variances10</th>\n",
       "      <th>variances11</th>\n",
       "      <th>variances12</th>\n",
       "      <th>variances13</th>\n",
       "      <th>variances14</th>\n",
       "      <th>variances15</th>\n",
       "      <th>variances16</th>\n",
       "      <th>variances2</th>\n",
       "      <th>variances3</th>\n",
       "      <th>variances4</th>\n",
       "      <th>variances5</th>\n",
       "      <th>variances6</th>\n",
       "      <th>variances7</th>\n",
       "      <th>variances8</th>\n",
       "      <th>variances9</th>\n",
       "    </tr>\n",
       "  </thead>\n",
       "  <tbody>\n",
       "    <tr>\n",
       "      <th>0</th>\n",
       "      <td>0.017557</td>\n",
       "      <td>0.017802</td>\n",
       "      <td>0.021863</td>\n",
       "      <td>0.012007</td>\n",
       "      <td>0.007614</td>\n",
       "      <td>0.003172</td>\n",
       "      <td>0.006799</td>\n",
       "      <td>0.021065</td>\n",
       "      <td>0.034405</td>\n",
       "      <td>0.087627</td>\n",
       "      <td>0.007492</td>\n",
       "      <td>0.010298</td>\n",
       "      <td>0.001138</td>\n",
       "      <td>0.001611</td>\n",
       "      <td>0.073645</td>\n",
       "    </tr>\n",
       "    <tr>\n",
       "      <th>1</th>\n",
       "      <td>0.030268</td>\n",
       "      <td>0.013252</td>\n",
       "      <td>0.017392</td>\n",
       "      <td>0.014582</td>\n",
       "      <td>0.000798</td>\n",
       "      <td>0.013131</td>\n",
       "      <td>0.012300</td>\n",
       "      <td>0.032668</td>\n",
       "      <td>0.025599</td>\n",
       "      <td>0.013012</td>\n",
       "      <td>0.006858</td>\n",
       "      <td>0.012764</td>\n",
       "      <td>0.006510</td>\n",
       "      <td>0.019254</td>\n",
       "      <td>0.046434</td>\n",
       "    </tr>\n",
       "    <tr>\n",
       "      <th>2</th>\n",
       "      <td>0.062635</td>\n",
       "      <td>0.009125</td>\n",
       "      <td>0.005722</td>\n",
       "      <td>0.016405</td>\n",
       "      <td>0.020386</td>\n",
       "      <td>0.018690</td>\n",
       "      <td>0.008005</td>\n",
       "      <td>0.180021</td>\n",
       "      <td>0.043308</td>\n",
       "      <td>0.125256</td>\n",
       "      <td>0.021468</td>\n",
       "      <td>0.057188</td>\n",
       "      <td>0.073069</td>\n",
       "      <td>0.013695</td>\n",
       "      <td>0.049970</td>\n",
       "    </tr>\n",
       "    <tr>\n",
       "      <th>3</th>\n",
       "      <td>0.006008</td>\n",
       "      <td>0.047597</td>\n",
       "      <td>0.165927</td>\n",
       "      <td>0.025047</td>\n",
       "      <td>0.017256</td>\n",
       "      <td>0.031446</td>\n",
       "      <td>0.033810</td>\n",
       "      <td>0.034345</td>\n",
       "      <td>0.010135</td>\n",
       "      <td>0.010568</td>\n",
       "      <td>0.011698</td>\n",
       "      <td>0.011238</td>\n",
       "      <td>0.002768</td>\n",
       "      <td>0.009420</td>\n",
       "      <td>0.062151</td>\n",
       "    </tr>\n",
       "    <tr>\n",
       "      <th>4</th>\n",
       "      <td>0.108935</td>\n",
       "      <td>0.037727</td>\n",
       "      <td>0.017766</td>\n",
       "      <td>0.017103</td>\n",
       "      <td>0.021608</td>\n",
       "      <td>0.025763</td>\n",
       "      <td>0.023030</td>\n",
       "      <td>0.034272</td>\n",
       "      <td>0.086913</td>\n",
       "      <td>0.054073</td>\n",
       "      <td>0.031779</td>\n",
       "      <td>0.078399</td>\n",
       "      <td>0.056023</td>\n",
       "      <td>0.042748</td>\n",
       "      <td>0.117974</td>\n",
       "    </tr>\n",
       "    <tr>\n",
       "      <th>...</th>\n",
       "      <td>...</td>\n",
       "      <td>...</td>\n",
       "      <td>...</td>\n",
       "      <td>...</td>\n",
       "      <td>...</td>\n",
       "      <td>...</td>\n",
       "      <td>...</td>\n",
       "      <td>...</td>\n",
       "      <td>...</td>\n",
       "      <td>...</td>\n",
       "      <td>...</td>\n",
       "      <td>...</td>\n",
       "      <td>...</td>\n",
       "      <td>...</td>\n",
       "      <td>...</td>\n",
       "    </tr>\n",
       "    <tr>\n",
       "      <th>3147</th>\n",
       "      <td>NaN</td>\n",
       "      <td>NaN</td>\n",
       "      <td>NaN</td>\n",
       "      <td>NaN</td>\n",
       "      <td>NaN</td>\n",
       "      <td>NaN</td>\n",
       "      <td>NaN</td>\n",
       "      <td>0.045600</td>\n",
       "      <td>NaN</td>\n",
       "      <td>NaN</td>\n",
       "      <td>NaN</td>\n",
       "      <td>NaN</td>\n",
       "      <td>NaN</td>\n",
       "      <td>NaN</td>\n",
       "      <td>NaN</td>\n",
       "    </tr>\n",
       "    <tr>\n",
       "      <th>3148</th>\n",
       "      <td>NaN</td>\n",
       "      <td>NaN</td>\n",
       "      <td>NaN</td>\n",
       "      <td>NaN</td>\n",
       "      <td>NaN</td>\n",
       "      <td>NaN</td>\n",
       "      <td>NaN</td>\n",
       "      <td>0.023604</td>\n",
       "      <td>NaN</td>\n",
       "      <td>NaN</td>\n",
       "      <td>NaN</td>\n",
       "      <td>NaN</td>\n",
       "      <td>NaN</td>\n",
       "      <td>NaN</td>\n",
       "      <td>NaN</td>\n",
       "    </tr>\n",
       "    <tr>\n",
       "      <th>3149</th>\n",
       "      <td>NaN</td>\n",
       "      <td>NaN</td>\n",
       "      <td>NaN</td>\n",
       "      <td>NaN</td>\n",
       "      <td>NaN</td>\n",
       "      <td>NaN</td>\n",
       "      <td>NaN</td>\n",
       "      <td>0.064340</td>\n",
       "      <td>NaN</td>\n",
       "      <td>NaN</td>\n",
       "      <td>NaN</td>\n",
       "      <td>NaN</td>\n",
       "      <td>NaN</td>\n",
       "      <td>NaN</td>\n",
       "      <td>NaN</td>\n",
       "    </tr>\n",
       "    <tr>\n",
       "      <th>3150</th>\n",
       "      <td>NaN</td>\n",
       "      <td>NaN</td>\n",
       "      <td>NaN</td>\n",
       "      <td>NaN</td>\n",
       "      <td>NaN</td>\n",
       "      <td>NaN</td>\n",
       "      <td>NaN</td>\n",
       "      <td>0.022443</td>\n",
       "      <td>NaN</td>\n",
       "      <td>NaN</td>\n",
       "      <td>NaN</td>\n",
       "      <td>NaN</td>\n",
       "      <td>NaN</td>\n",
       "      <td>NaN</td>\n",
       "      <td>NaN</td>\n",
       "    </tr>\n",
       "    <tr>\n",
       "      <th>3151</th>\n",
       "      <td>NaN</td>\n",
       "      <td>NaN</td>\n",
       "      <td>NaN</td>\n",
       "      <td>NaN</td>\n",
       "      <td>NaN</td>\n",
       "      <td>NaN</td>\n",
       "      <td>NaN</td>\n",
       "      <td>0.026334</td>\n",
       "      <td>NaN</td>\n",
       "      <td>NaN</td>\n",
       "      <td>NaN</td>\n",
       "      <td>NaN</td>\n",
       "      <td>NaN</td>\n",
       "      <td>NaN</td>\n",
       "      <td>NaN</td>\n",
       "    </tr>\n",
       "  </tbody>\n",
       "</table>\n",
       "<p>3152 rows × 15 columns</p>\n",
       "</div>"
      ],
      "text/plain": [
       "      variances10  variances11  variances12  variances13  variances14  \\\n",
       "0        0.017557     0.017802     0.021863     0.012007     0.007614   \n",
       "1        0.030268     0.013252     0.017392     0.014582     0.000798   \n",
       "2        0.062635     0.009125     0.005722     0.016405     0.020386   \n",
       "3        0.006008     0.047597     0.165927     0.025047     0.017256   \n",
       "4        0.108935     0.037727     0.017766     0.017103     0.021608   \n",
       "...           ...          ...          ...          ...          ...   \n",
       "3147          NaN          NaN          NaN          NaN          NaN   \n",
       "3148          NaN          NaN          NaN          NaN          NaN   \n",
       "3149          NaN          NaN          NaN          NaN          NaN   \n",
       "3150          NaN          NaN          NaN          NaN          NaN   \n",
       "3151          NaN          NaN          NaN          NaN          NaN   \n",
       "\n",
       "      variances15  variances16  variances2  variances3  variances4  \\\n",
       "0        0.003172     0.006799    0.021065    0.034405    0.087627   \n",
       "1        0.013131     0.012300    0.032668    0.025599    0.013012   \n",
       "2        0.018690     0.008005    0.180021    0.043308    0.125256   \n",
       "3        0.031446     0.033810    0.034345    0.010135    0.010568   \n",
       "4        0.025763     0.023030    0.034272    0.086913    0.054073   \n",
       "...           ...          ...         ...         ...         ...   \n",
       "3147          NaN          NaN    0.045600         NaN         NaN   \n",
       "3148          NaN          NaN    0.023604         NaN         NaN   \n",
       "3149          NaN          NaN    0.064340         NaN         NaN   \n",
       "3150          NaN          NaN    0.022443         NaN         NaN   \n",
       "3151          NaN          NaN    0.026334         NaN         NaN   \n",
       "\n",
       "      variances5  variances6  variances7  variances8  variances9  \n",
       "0       0.007492    0.010298    0.001138    0.001611    0.073645  \n",
       "1       0.006858    0.012764    0.006510    0.019254    0.046434  \n",
       "2       0.021468    0.057188    0.073069    0.013695    0.049970  \n",
       "3       0.011698    0.011238    0.002768    0.009420    0.062151  \n",
       "4       0.031779    0.078399    0.056023    0.042748    0.117974  \n",
       "...          ...         ...         ...         ...         ...  \n",
       "3147         NaN         NaN         NaN         NaN         NaN  \n",
       "3148         NaN         NaN         NaN         NaN         NaN  \n",
       "3149         NaN         NaN         NaN         NaN         NaN  \n",
       "3150         NaN         NaN         NaN         NaN         NaN  \n",
       "3151         NaN         NaN         NaN         NaN         NaN  \n",
       "\n",
       "[3152 rows x 15 columns]"
      ]
     },
     "execution_count": 14,
     "metadata": {},
     "output_type": "execute_result"
    }
   ],
   "source": [
    "import pandas as pd\n",
    "import glob\n",
    "from pathlib import Path\n",
    "\n",
    "file_pattern = \"results/04_adding_diversity/random_from_top_fraction/variances*.csv\"\n",
    "variance_files = glob.glob(file_pattern)\n",
    "variance_files.sort()\n",
    "\n",
    "all_variances_dfs = []\n",
    "\n",
    "for filepath in variance_files:\n",
    "    temp_df = pd.read_csv(filepath)\n",
    "    column_name = Path(filepath).stem\n",
    "    temp_df = temp_df.rename(columns={'variance': column_name})\n",
    "    all_variances_dfs.append(temp_df)\n",
    "\n",
    "final_df = pd.concat(all_variances_dfs, axis=1)\n",
    "\n",
    "final_df"
   ]
  },
  {
   "cell_type": "code",
   "execution_count": 17,
   "id": "2607154d",
   "metadata": {},
   "outputs": [
    {
     "data": {
      "application/vnd.plotly.v1+json": {
       "config": {
        "plotlyServerURL": "https://plot.ly"
       },
       "data": [
        {
         "bingroup": "x",
         "histnorm": "probability density",
         "hovertemplate": "Cycle=variances2<br>Variance=%{x}<br>probability density=%{y}<extra></extra>",
         "legendgroup": "variances2",
         "marker": {
          "color": "#636efa",
          "opacity": 0.65,
          "pattern": {
           "shape": ""
          }
         },
         "name": "variances2",
         "orientation": "v",
         "showlegend": true,
         "type": "histogram",
         "x": {
          "bdata": "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",
          "dtype": "f8"
         },
         "xaxis": "x",
         "yaxis": "y"
        },
        {
         "bingroup": "x",
         "histnorm": "probability density",
         "hovertemplate": "Cycle=variances5<br>Variance=%{x}<br>probability density=%{y}<extra></extra>",
         "legendgroup": "variances5",
         "marker": {
          "color": "#EF553B",
          "opacity": 0.65,
          "pattern": {
           "shape": ""
          }
         },
         "name": "variances5",
         "orientation": "v",
         "showlegend": true,
         "type": "histogram",
         "x": {
          "bdata": "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",
          "dtype": "f8"
         },
         "xaxis": "x",
         "yaxis": "y"
        },
        {
         "bingroup": "x",
         "histnorm": "probability density",
         "hovertemplate": "Cycle=variances8<br>Variance=%{x}<br>probability density=%{y}<extra></extra>",
         "legendgroup": "variances8",
         "marker": {
          "color": "#00cc96",
          "opacity": 0.65,
          "pattern": {
           "shape": ""
          }
         },
         "name": "variances8",
         "orientation": "v",
         "showlegend": true,
         "type": "histogram",
         "x": {
          "bdata": "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",
          "dtype": "f8"
         },
         "xaxis": "x",
         "yaxis": "y"
        },
        {
         "bingroup": "x",
         "histnorm": "probability density",
         "hovertemplate": "Cycle=variances11<br>Variance=%{x}<br>probability density=%{y}<extra></extra>",
         "legendgroup": "variances11",
         "marker": {
          "color": "#ab63fa",
          "opacity": 0.65,
          "pattern": {
           "shape": ""
          }
         },
         "name": "variances11",
         "orientation": "v",
         "showlegend": true,
         "type": "histogram",
         "x": {
          "bdata": "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",
          "dtype": "f8"
         },
         "xaxis": "x",
         "yaxis": "y"
        },
        {
         "bingroup": "x",
         "histnorm": "probability density",
         "hovertemplate": "Cycle=variances14<br>Variance=%{x}<br>probability density=%{y}<extra></extra>",
         "legendgroup": "variances14",
         "marker": {
          "color": "#FFA15A",
          "opacity": 0.65,
          "pattern": {
           "shape": ""
          }
         },
         "name": "variances14",
         "orientation": "v",
         "showlegend": true,
         "type": "histogram",
         "x": {
          "bdata": "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",
          "dtype": "f8"
         },
         "xaxis": "x",
         "yaxis": "y"
        }
       ],
       "layout": {
        "barmode": "overlay",
        "legend": {
         "title": {
          "text": "Cycle"
         },
         "tracegroupgap": 0
        },
        "template": {
         "data": {
          "bar": [
           {
            "error_x": {
             "color": "#2a3f5f"
            },
            "error_y": {
             "color": "#2a3f5f"
            },
            "marker": {
             "line": {
              "color": "#E5ECF6",
              "width": 0.5
             },
             "pattern": {
              "fillmode": "overlay",
              "size": 10,
              "solidity": 0.2
             }
            },
            "type": "bar"
           }
          ],
          "barpolar": [
           {
            "marker": {
             "line": {
              "color": "#E5ECF6",
              "width": 0.5
             },
             "pattern": {
              "fillmode": "overlay",
              "size": 10,
              "solidity": 0.2
             }
            },
            "type": "barpolar"
           }
          ],
          "carpet": [
           {
            "aaxis": {
             "endlinecolor": "#2a3f5f",
             "gridcolor": "white",
             "linecolor": "white",
             "minorgridcolor": "white",
             "startlinecolor": "#2a3f5f"
            },
            "baxis": {
             "endlinecolor": "#2a3f5f",
             "gridcolor": "white",
             "linecolor": "white",
             "minorgridcolor": "white",
             "startlinecolor": "#2a3f5f"
            },
            "type": "carpet"
           }
          ],
          "choropleth": [
           {
            "colorbar": {
             "outlinewidth": 0,
             "ticks": ""
            },
            "type": "choropleth"
           }
          ],
          "contour": [
           {
            "colorbar": {
             "outlinewidth": 0,
             "ticks": ""
            },
            "colorscale": [
             [
              0,
              "#0d0887"
             ],
             [
              0.1111111111111111,
              "#46039f"
             ],
             [
              0.2222222222222222,
              "#7201a8"
             ],
             [
              0.3333333333333333,
              "#9c179e"
             ],
             [
              0.4444444444444444,
              "#bd3786"
             ],
             [
              0.5555555555555556,
              "#d8576b"
             ],
             [
              0.6666666666666666,
              "#ed7953"
             ],
             [
              0.7777777777777778,
              "#fb9f3a"
             ],
             [
              0.8888888888888888,
              "#fdca26"
             ],
             [
              1,
              "#f0f921"
             ]
            ],
            "type": "contour"
           }
          ],
          "contourcarpet": [
           {
            "colorbar": {
             "outlinewidth": 0,
             "ticks": ""
            },
            "type": "contourcarpet"
           }
          ],
          "heatmap": [
           {
            "colorbar": {
             "outlinewidth": 0,
             "ticks": ""
            },
            "colorscale": [
             [
              0,
              "#0d0887"
             ],
             [
              0.1111111111111111,
              "#46039f"
             ],
             [
              0.2222222222222222,
              "#7201a8"
             ],
             [
              0.3333333333333333,
              "#9c179e"
             ],
             [
              0.4444444444444444,
              "#bd3786"
             ],
             [
              0.5555555555555556,
              "#d8576b"
             ],
             [
              0.6666666666666666,
              "#ed7953"
             ],
             [
              0.7777777777777778,
              "#fb9f3a"
             ],
             [
              0.8888888888888888,
              "#fdca26"
             ],
             [
              1,
              "#f0f921"
             ]
            ],
            "type": "heatmap"
           }
          ],
          "histogram": [
           {
            "marker": {
             "pattern": {
              "fillmode": "overlay",
              "size": 10,
              "solidity": 0.2
             }
            },
            "type": "histogram"
           }
          ],
          "histogram2d": [
           {
            "colorbar": {
             "outlinewidth": 0,
             "ticks": ""
            },
            "colorscale": [
             [
              0,
              "#0d0887"
             ],
             [
              0.1111111111111111,
              "#46039f"
             ],
             [
              0.2222222222222222,
              "#7201a8"
             ],
             [
              0.3333333333333333,
              "#9c179e"
             ],
             [
              0.4444444444444444,
              "#bd3786"
             ],
             [
              0.5555555555555556,
              "#d8576b"
             ],
             [
              0.6666666666666666,
              "#ed7953"
             ],
             [
              0.7777777777777778,
              "#fb9f3a"
             ],
             [
              0.8888888888888888,
              "#fdca26"
             ],
             [
              1,
              "#f0f921"
             ]
            ],
            "type": "histogram2d"
           }
          ],
          "histogram2dcontour": [
           {
            "colorbar": {
             "outlinewidth": 0,
             "ticks": ""
            },
            "colorscale": [
             [
              0,
              "#0d0887"
             ],
             [
              0.1111111111111111,
              "#46039f"
             ],
             [
              0.2222222222222222,
              "#7201a8"
             ],
             [
              0.3333333333333333,
              "#9c179e"
             ],
             [
              0.4444444444444444,
              "#bd3786"
             ],
             [
              0.5555555555555556,
              "#d8576b"
             ],
             [
              0.6666666666666666,
              "#ed7953"
             ],
             [
              0.7777777777777778,
              "#fb9f3a"
             ],
             [
              0.8888888888888888,
              "#fdca26"
             ],
             [
              1,
              "#f0f921"
             ]
            ],
            "type": "histogram2dcontour"
           }
          ],
          "mesh3d": [
           {
            "colorbar": {
             "outlinewidth": 0,
             "ticks": ""
            },
            "type": "mesh3d"
           }
          ],
          "parcoords": [
           {
            "line": {
             "colorbar": {
              "outlinewidth": 0,
              "ticks": ""
             }
            },
            "type": "parcoords"
           }
          ],
          "pie": [
           {
            "automargin": true,
            "type": "pie"
           }
          ],
          "scatter": [
           {
            "fillpattern": {
             "fillmode": "overlay",
             "size": 10,
             "solidity": 0.2
            },
            "type": "scatter"
           }
          ],
          "scatter3d": [
           {
            "line": {
             "colorbar": {
              "outlinewidth": 0,
              "ticks": ""
             }
            },
            "marker": {
             "colorbar": {
              "outlinewidth": 0,
              "ticks": ""
             }
            },
            "type": "scatter3d"
           }
          ],
          "scattercarpet": [
           {
            "marker": {
             "colorbar": {
              "outlinewidth": 0,
              "ticks": ""
             }
            },
            "type": "scattercarpet"
           }
          ],
          "scattergeo": [
           {
            "marker": {
             "colorbar": {
              "outlinewidth": 0,
              "ticks": ""
             }
            },
            "type": "scattergeo"
           }
          ],
          "scattergl": [
           {
            "marker": {
             "colorbar": {
              "outlinewidth": 0,
              "ticks": ""
             }
            },
            "type": "scattergl"
           }
          ],
          "scattermap": [
           {
            "marker": {
             "colorbar": {
              "outlinewidth": 0,
              "ticks": ""
             }
            },
            "type": "scattermap"
           }
          ],
          "scattermapbox": [
           {
            "marker": {
             "colorbar": {
              "outlinewidth": 0,
              "ticks": ""
             }
            },
            "type": "scattermapbox"
           }
          ],
          "scatterpolar": [
           {
            "marker": {
             "colorbar": {
              "outlinewidth": 0,
              "ticks": ""
             }
            },
            "type": "scatterpolar"
           }
          ],
          "scatterpolargl": [
           {
            "marker": {
             "colorbar": {
              "outlinewidth": 0,
              "ticks": ""
             }
            },
            "type": "scatterpolargl"
           }
          ],
          "scatterternary": [
           {
            "marker": {
             "colorbar": {
              "outlinewidth": 0,
              "ticks": ""
             }
            },
            "type": "scatterternary"
           }
          ],
          "surface": [
           {
            "colorbar": {
             "outlinewidth": 0,
             "ticks": ""
            },
            "colorscale": [
             [
              0,
              "#0d0887"
             ],
             [
              0.1111111111111111,
              "#46039f"
             ],
             [
              0.2222222222222222,
              "#7201a8"
             ],
             [
              0.3333333333333333,
              "#9c179e"
             ],
             [
              0.4444444444444444,
              "#bd3786"
             ],
             [
              0.5555555555555556,
              "#d8576b"
             ],
             [
              0.6666666666666666,
              "#ed7953"
             ],
             [
              0.7777777777777778,
              "#fb9f3a"
             ],
             [
              0.8888888888888888,
              "#fdca26"
             ],
             [
              1,
              "#f0f921"
             ]
            ],
            "type": "surface"
           }
          ],
          "table": [
           {
            "cells": {
             "fill": {
              "color": "#EBF0F8"
             },
             "line": {
              "color": "white"
             }
            },
            "header": {
             "fill": {
              "color": "#C8D4E3"
             },
             "line": {
              "color": "white"
             }
            },
            "type": "table"
           }
          ]
         },
         "layout": {
          "annotationdefaults": {
           "arrowcolor": "#2a3f5f",
           "arrowhead": 0,
           "arrowwidth": 1
          },
          "autotypenumbers": "strict",
          "coloraxis": {
           "colorbar": {
            "outlinewidth": 0,
            "ticks": ""
           }
          },
          "colorscale": {
           "diverging": [
            [
             0,
             "#8e0152"
            ],
            [
             0.1,
             "#c51b7d"
            ],
            [
             0.2,
             "#de77ae"
            ],
            [
             0.3,
             "#f1b6da"
            ],
            [
             0.4,
             "#fde0ef"
            ],
            [
             0.5,
             "#f7f7f7"
            ],
            [
             0.6,
             "#e6f5d0"
            ],
            [
             0.7,
             "#b8e186"
            ],
            [
             0.8,
             "#7fbc41"
            ],
            [
             0.9,
             "#4d9221"
            ],
            [
             1,
             "#276419"
            ]
           ],
           "sequential": [
            [
             0,
             "#0d0887"
            ],
            [
             0.1111111111111111,
             "#46039f"
            ],
            [
             0.2222222222222222,
             "#7201a8"
            ],
            [
             0.3333333333333333,
             "#9c179e"
            ],
            [
             0.4444444444444444,
             "#bd3786"
            ],
            [
             0.5555555555555556,
             "#d8576b"
            ],
            [
             0.6666666666666666,
             "#ed7953"
            ],
            [
             0.7777777777777778,
             "#fb9f3a"
            ],
            [
             0.8888888888888888,
             "#fdca26"
            ],
            [
             1,
             "#f0f921"
            ]
           ],
           "sequentialminus": [
            [
             0,
             "#0d0887"
            ],
            [
             0.1111111111111111,
             "#46039f"
            ],
            [
             0.2222222222222222,
             "#7201a8"
            ],
            [
             0.3333333333333333,
             "#9c179e"
            ],
            [
             0.4444444444444444,
             "#bd3786"
            ],
            [
             0.5555555555555556,
             "#d8576b"
            ],
            [
             0.6666666666666666,
             "#ed7953"
            ],
            [
             0.7777777777777778,
             "#fb9f3a"
            ],
            [
             0.8888888888888888,
             "#fdca26"
            ],
            [
             1,
             "#f0f921"
            ]
           ]
          },
          "colorway": [
           "#636efa",
           "#EF553B",
           "#00cc96",
           "#ab63fa",
           "#FFA15A",
           "#19d3f3",
           "#FF6692",
           "#B6E880",
           "#FF97FF",
           "#FECB52"
          ],
          "font": {
           "color": "#2a3f5f"
          },
          "geo": {
           "bgcolor": "white",
           "lakecolor": "white",
           "landcolor": "#E5ECF6",
           "showlakes": true,
           "showland": true,
           "subunitcolor": "white"
          },
          "hoverlabel": {
           "align": "left"
          },
          "hovermode": "closest",
          "mapbox": {
           "style": "light"
          },
          "paper_bgcolor": "white",
          "plot_bgcolor": "#E5ECF6",
          "polar": {
           "angularaxis": {
            "gridcolor": "white",
            "linecolor": "white",
            "ticks": ""
           },
           "bgcolor": "#E5ECF6",
           "radialaxis": {
            "gridcolor": "white",
            "linecolor": "white",
            "ticks": ""
           }
          },
          "scene": {
           "xaxis": {
            "backgroundcolor": "#E5ECF6",
            "gridcolor": "white",
            "gridwidth": 2,
            "linecolor": "white",
            "showbackground": true,
            "ticks": "",
            "zerolinecolor": "white"
           },
           "yaxis": {
            "backgroundcolor": "#E5ECF6",
            "gridcolor": "white",
            "gridwidth": 2,
            "linecolor": "white",
            "showbackground": true,
            "ticks": "",
            "zerolinecolor": "white"
           },
           "zaxis": {
            "backgroundcolor": "#E5ECF6",
            "gridcolor": "white",
            "gridwidth": 2,
            "linecolor": "white",
            "showbackground": true,
            "ticks": "",
            "zerolinecolor": "white"
           }
          },
          "shapedefaults": {
           "line": {
            "color": "#2a3f5f"
           }
          },
          "ternary": {
           "aaxis": {
            "gridcolor": "white",
            "linecolor": "white",
            "ticks": ""
           },
           "baxis": {
            "gridcolor": "white",
            "linecolor": "white",
            "ticks": ""
           },
           "bgcolor": "#E5ECF6",
           "caxis": {
            "gridcolor": "white",
            "linecolor": "white",
            "ticks": ""
           }
          },
          "title": {
           "x": 0.05
          },
          "xaxis": {
           "automargin": true,
           "gridcolor": "white",
           "linecolor": "white",
           "ticks": "",
           "title": {
            "standoff": 15
           },
           "zerolinecolor": "white",
           "zerolinewidth": 2
          },
          "yaxis": {
           "automargin": true,
           "gridcolor": "white",
           "linecolor": "white",
           "ticks": "",
           "title": {
            "standoff": 15
           },
           "zerolinecolor": "white",
           "zerolinewidth": 2
          }
         }
        },
        "title": {
         "text": "Distribution of Variances Across Active Learning Cycles"
        },
        "xaxis": {
         "anchor": "y",
         "domain": [
          0,
          1
         ],
         "title": {
          "text": "Variance"
         }
        },
        "yaxis": {
         "anchor": "x",
         "domain": [
          0,
          1
         ],
         "title": {
          "text": "probability density"
         }
        }
       }
      }
     },
     "metadata": {},
     "output_type": "display_data"
    }
   ],
   "source": [
    "columns_to_plot = ['variances2', 'variances5', 'variances8', 'variances11', 'variances14']\n",
    "\n",
    "# \"Melt\" the selected columns into a long-format DataFrame\n",
    "melted_df = final_df[columns_to_plot].melt(\n",
    "    var_name='Cycle',      # New column for the original column names\n",
    "    value_name='Variance'  # New column for the variance values\n",
    ")\n",
    "\n",
    "fig = px.histogram(\n",
    "    data_frame=melted_df,\n",
    "    x='Variance',                                  \n",
    "    color='Cycle',                                 \n",
    "    barmode='overlay',                             \n",
    "    opacity=0.65,                                  \n",
    "    histnorm='probability density',                \n",
    "    title='Distribution of Variances Across Active Learning Cycles'\n",
    ")\n",
    "\n",
    "fig.show()"
   ]
  },
  {
   "cell_type": "markdown",
   "id": "9074e1f4",
   "metadata": {},
   "source": [
    "### With embeddings"
   ]
  },
  {
   "cell_type": "code",
   "execution_count": null,
   "id": "441106cf",
   "metadata": {},
   "outputs": [],
   "source": [
    "def get_embeddings(dataset, indices, pool_dataloader_batch_size):\n",
    "    # Use input indices to make a subset and dataloader from the dataset.\n",
    "    # initialize a list to store embeddings\n",
    "    # Loop through the dataloader\n",
    "        # forward pass on the batch\n",
    "        # get last hidden states\n",
    "        # get the embeddings of the first token (CLS token)\n",
    "        # append to embedding list\n",
    "    # return embeddings list\n",
    "    return\n",
    "\n",
    "def get_distance(embed_1, embed_2):\n",
    "    # Use cosine distance formula to compare a pair of embeddings: 1 - ((A dot B) / (mag(A) * mag(B)))\n",
    "    # retrun distance\n",
    "    return\n",
    "\n",
    "def get_next_sample():\n",
    "    # if first sample\n",
    "        # initialize distance array (final size: # unlabeled samples x # labeled samples)\n",
    "        # get embeddings of all labeled and candidate samples\n",
    "        # for each candidate sample\n",
    "            # for each labeled sample\n",
    "                # find the distance between candidate and labeled sample\n",
    "                # append to distance array\n",
    "        # make minimum distance array (len # candidate samples)\n",
    "        # get index of candidate sample with maximum distance\n",
    "        # use candidate indices to map this index to the index in the original dataset\n",
    "        # get embedding of new sample\n",
    "        # add embedding of new sample to embeddings list\n",
    "        # for each candidate sample\n",
    "            # find the distance between the candidate and new sample\n",
    "            # append to distance array\n",
    "        # update indices to acquire and candidate indices lists\n",
    "        # return indices to acquire, candidate indices, labeled embeddings, candidate embeddings, and distance array\n",
    "    # if not first sample:\n",
    "        # make minimum distance array (len # candidate samples)\n",
    "        # get index of candidate sample with maximum distance\n",
    "        # use candidate indices to map this index to the index in the original dataset\n",
    "        # get embedding of new sample\n",
    "        # add embedding of new sample to embeddings list\n",
    "        # for each candidate sample\n",
    "            # find the distance between the candidate and new sample\n",
    "            # append to distance array\n",
    "        # update indices to acquire and candidate indices lists\n",
    "        # return indices to acquire, candidate indices, labeled embeddings, candidate embeddings, and distance array\n",
    "    return\n",
    "\n",
    "def acquire_new_batch():\n",
    "    # if initial batch, when there are no variances, select randomly\n",
    "    # else select based on top variances scores\n",
    "        # make sure we don't overshoot samples to acquire if on the final batch\n",
    "        # detmine the number of top scorers to select from\n",
    "        # get the indices of the top acquisition scores (num of samples)\n",
    "        # initialize list of indices to acquire\n",
    "        # for i in n_samples_per_batch:\n",
    "            # get next sample, updating indices to acquire\n",
    "    # update the indices lists\n",
    "    # create new subsets and dataloaders\n",
    "    # return train dataloader, pool dataloader, labeled indices, unlabeled indices\n",
    "    return"
   ]
  }
 ],
 "metadata": {
  "kernelspec": {
   "display_name": "plm-active-learning",
   "language": "python",
   "name": "python3"
  },
  "language_info": {
   "codemirror_mode": {
    "name": "ipython",
    "version": 3
   },
   "file_extension": ".py",
   "mimetype": "text/x-python",
   "name": "python",
   "nbconvert_exporter": "python",
   "pygments_lexer": "ipython3",
   "version": "3.12.11"
  }
 },
 "nbformat": 4,
 "nbformat_minor": 5
}
