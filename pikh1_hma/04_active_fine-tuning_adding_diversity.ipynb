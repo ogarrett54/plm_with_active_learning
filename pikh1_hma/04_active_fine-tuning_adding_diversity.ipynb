{
 "cells": [
  {
   "cell_type": "markdown",
   "id": "5e0ffef7",
   "metadata": {},
   "source": [
    "# Approach 2.5 / 3.5"
   ]
  },
  {
   "cell_type": "markdown",
   "id": "2bef327b",
   "metadata": {},
   "source": [
    "Each of the approaches tested so far, despite being used previously in the literature (at least to the extent that I understand them) have failed to out perform just randomly selecting samples. I suspect this could be due to one and/or another issue with the current acquisition strategy. Each of these approaches use some method to find the variance of model predictions to find the most uncertain sequences for the next batch. However, those uncertain sequences might somehow correspond to noisy measurements (measurements with lower read counts, especially if they tend to be the sequences with more mutations), and they might not be sufficiently diverse.\n",
    "\n",
    "Given these hypotheses for what's going wrong, I may be able to solve them by ensuring the next sample is uncertain as well as diverse. I'd be interested in testing when its just diverse and when its uncertain and diverse compared to the random baseline.\n",
    "\n",
    "But how do we ensure diversity? Well, since we are conveniently using a language model, we should be able to just use the language model embeddings. So, all I need to do is figure out how to get the embeddings, measure their distance, and integrate some amount of distance optimization into my acquistion function."
   ]
  },
  {
   "cell_type": "markdown",
   "id": "527d4658",
   "metadata": {},
   "source": [
    "Note: Below, I'm going to extract the embeddings from the last hidden state of the CLS token, since that's the standard model I've been working with setting up the structure of active learning. However, other fine-tuning approaches should make use of different embeddings. For example, if you're using only the mutant residues as the final state input to your output layer, you should probably use those embeddings for diversity. Another decision point is whether to use the embeddings of your fine-tuned model or a fresh ESM2 model. I'm going to work with just the fine-tuned model here."
   ]
  },
  {
   "cell_type": "markdown",
   "id": "9482a7fa",
   "metadata": {},
   "source": [
    "Here's the algorithm I'll employ:\n",
    "1. Train ensemble on random initial set.\n",
    "2. Get variances from model predictions.\n",
    "3. Filter samples with top k% of variances.\n",
    "4. Retrieve embeddings for those samples.\n",
    "5. For each sample in the unlabeled pool, calculate its distance from each of the samples in the current batch.\n",
    "6. Find the minimum distance from those for each candidate.\n",
    "7. Add candidate c whose minimum distance from the current batch is the greatest and remove it from the unlabeled pool.\n",
    "8. Calculate the distance of just-added candidate c from each of the remaining unlabeled pool. Add these distances to the distances list for each sample.\n",
    "9. Repeat 6-8 until n samples are added to the labeled samples."
   ]
  },
  {
   "cell_type": "markdown",
   "id": "320cbab4",
   "metadata": {},
   "source": [
    "Actually, now that I spell out the algorithm, I'm realizing that I should also test just a random choice from the top k% of variances to make sure that the embeddings even add anything."
   ]
  },
  {
   "cell_type": "code",
   "execution_count": 1,
   "id": "0cba01a5",
   "metadata": {},
   "outputs": [],
   "source": [
    "from scripts.data_utils import train_val_test_split\n",
    "from scripts.config import (\n",
    "    DATA_PATH, \n",
    "    SEQUENCE_COL, \n",
    "    SCORE_COL, \n",
    "    TOK_MODEL, \n",
    "    VAL_SPLIT,\n",
    "    TEST_SPLIT,\n",
    "    BATCH_SIZE,\n",
    "    RANDOM_SEED,\n",
    ")\n",
    "\n",
    "training_pool, val_dataloader, test_dataloader = train_val_test_split(\n",
    "    DATA_PATH,\n",
    "    SEQUENCE_COL,\n",
    "    SCORE_COL,\n",
    "    TOK_MODEL,\n",
    "    VAL_SPLIT,\n",
    "    TEST_SPLIT,\n",
    "    BATCH_SIZE,\n",
    "    RANDOM_SEED\n",
    ")"
   ]
  },
  {
   "cell_type": "code",
   "execution_count": 2,
   "id": "0b17789a",
   "metadata": {},
   "outputs": [],
   "source": [
    "import torch\n",
    "from torch.utils.data import Subset, DataLoader\n",
    "import numpy as np\n",
    "\n",
    "from scripts.training import initialize_and_train_new_model\n",
    "from scripts.acquisition import get_pool_predictions\n",
    "\n",
    "def get_bootstrap_sample(labeled_indices, pool_dataset, train_dataloader_batch_size):\n",
    "    bootstrap_indices = np.random.choice(labeled_indices, size=int(0.9*len(labeled_indices)),replace=True)\n",
    "    bootstrap_subset = Subset(pool_dataset, bootstrap_indices)\n",
    "    bootstrap_dataloader = DataLoader(bootstrap_subset, batch_size=train_dataloader_batch_size, shuffle=True)\n",
    "    return bootstrap_dataloader\n",
    "\n",
    "def train_ensemble(\n",
    "        n_models, \n",
    "        model_name, \n",
    "        approach,\n",
    "        learning_rate,\n",
    "        weight_decay,\n",
    "        epochs,\n",
    "        labeled_indices,\n",
    "        train_dataloader_batch_size,\n",
    "        pool_dataset, \n",
    "        pool_dataloader, \n",
    "        val_dataloader,\n",
    "        patience\n",
    "        ):\n",
    "    \n",
    "    # define list to store predictions as each model is trained then evaluated\n",
    "    ensemble_predictions = []\n",
    "    \n",
    "    for i in range(n_models):\n",
    "        print(f\"\\nTraining Model {i+1}...\")\n",
    "        # set a changing manual seed\n",
    "        torch.manual_seed(i)\n",
    "        torch.cuda.manual_seed(i)\n",
    "\n",
    "        # get bootstrap sample from labeled dataset\n",
    "        bootstrap_dataloader = get_bootstrap_sample(labeled_indices, pool_dataset, train_dataloader_batch_size)\n",
    "\n",
    "        # initialize and train a new model\n",
    "        model = initialize_and_train_new_model(approach, model_name, learning_rate, weight_decay, epochs, bootstrap_dataloader, val_dataloader, patience)\n",
    "        \n",
    "        # get model predictions on pool dataloader, append to ensemble predictions list\n",
    "        pool_preds = get_pool_predictions(model, pool_dataloader)\n",
    "        ensemble_predictions.append(pool_preds)\n",
    "\n",
    "    # stack ensemble predictions to create tensor of shape (n_models, n_unlabeled_samples)\n",
    "    ensemble_predictions = torch.stack(ensemble_predictions, dim=0)\n",
    "    print(\"Ensemble training complete, submitting predictions for next cycle.\")\n",
    "    # return list of ensemble predictions\n",
    "    return ensemble_predictions"
   ]
  },
  {
   "cell_type": "markdown",
   "id": "2e76e940",
   "metadata": {},
   "source": [
    "### Random choice from top % variances  "
   ]
  },
  {
   "cell_type": "code",
   "execution_count": 9,
   "id": "931fd8ab",
   "metadata": {},
   "outputs": [],
   "source": [
    "import numpy as np\n",
    "from torch.utils.data import Subset, DataLoader\n",
    "\n",
    "# acquire new batch, randomly if no scores given, top \"batch_size_to_acquire\" if given\n",
    "def acquire_new_batch(\n",
    "    dataset, \n",
    "    train_dataloader_batch_size, \n",
    "    pool_dataloader_batch_size, \n",
    "    initial_batch_size,\n",
    "    top_score_fraction, \n",
    "    batch_size_to_acquire, \n",
    "    labeled_indices, \n",
    "    unlabeled_indices, \n",
    "    acquisition_scores=None\n",
    "    ):\n",
    "\n",
    "    # if initial batch, when there are no acquisition scores, select randomly\n",
    "    if acquisition_scores is None:\n",
    "        initial_batch_size = min(initial_batch_size, len(unlabeled_indices))\n",
    "        indices_to_acquire = np.random.choice(unlabeled_indices, size=initial_batch_size, replace=False)\n",
    "    \n",
    "    # else select based on top acquisition scores\n",
    "    else:\n",
    "        # make sure we don't overshoot samples to acquire if on the final batch\n",
    "        batch_size_to_acquire = min(batch_size_to_acquire, len(acquisition_scores))\n",
    "        # detmine the number of top scorers to select from\n",
    "        num_top_scorers = int(top_score_fraction * len(unlabeled_indices))\n",
    "        # get the indicies of the top acquisition scores (num of samples)\n",
    "        top_indices = acquisition_scores.topk(num_top_scorers).indices\n",
    "        # choose a random set of indices from these top scorers\n",
    "        top_k_indices = np.random.choice(top_indices.cpu().numpy(), size=batch_size_to_acquire, replace=False)\n",
    "        # use these to find the indices that map back to the original dataset\n",
    "        indices_to_acquire = unlabeled_indices[top_k_indices]\n",
    "    \n",
    "    # update the indices lists\n",
    "    labeled_indices = np.concatenate([labeled_indices, indices_to_acquire])\n",
    "    unlabeled_indices = np.setdiff1d(unlabeled_indices, indices_to_acquire, assume_unique=True)\n",
    "    \n",
    "    # create new subsets and dataloaders\n",
    "    train_subset = Subset(dataset, labeled_indices.tolist())\n",
    "    pool_subset = Subset(dataset, unlabeled_indices.tolist())\n",
    "    train_dataloader = DataLoader(train_subset, batch_size=train_dataloader_batch_size, shuffle=True)\n",
    "    pool_dataloader = DataLoader(pool_subset, batch_size=pool_dataloader_batch_size, shuffle=False)\n",
    "    \n",
    "    return train_dataloader, pool_dataloader, labeled_indices, unlabeled_indices"
   ]
  },
  {
   "cell_type": "code",
   "execution_count": 10,
   "id": "4cbd49e9",
   "metadata": {},
   "outputs": [],
   "source": [
    "from pathlib import Path\n",
    "import pandas as pd\n",
    "\n",
    "from scripts.acquisition import get_variances\n",
    "from scripts.training import initialize_and_train_new_model, test_model\n",
    "from scripts.campaigns import run_standard_finetuning\n",
    "\n",
    "\n",
    "def get_learning_curves(\n",
    "        n_samples,\n",
    "        initial_n_samples,\n",
    "        top_score_fraction,\n",
    "        n_samples_per_batch,\n",
    "        model_name, \n",
    "        approach,\n",
    "        learning_rate, \n",
    "        weight_decay, \n",
    "        epochs, \n",
    "        training_pool, \n",
    "        train_dataloader_batch_size,\n",
    "        pool_dataloader_batch_size,\n",
    "        val_dataloader, \n",
    "        test_dataloader,\n",
    "        patience=5,\n",
    "        n_models=5,\n",
    "        results_path=\"active_vs_standard_learning_curves.csv\"\n",
    "):\n",
    "    results_path = Path(results_path)\n",
    "    results_dir = results_path.parent\n",
    "    results_dir.mkdir(parents=True, exist_ok=True)\n",
    "\n",
    "    # Load existing results if the file exists, otherwise start with a fresh DataFrame.\n",
    "    if results_path.exists():\n",
    "        all_results_df = pd.read_csv(results_path)\n",
    "    else:\n",
    "        all_results_df = pd.DataFrame()\n",
    "    \n",
    "    total_pool_size = len(training_pool)\n",
    "    unlabeled_indices = np.arange(total_pool_size)\n",
    "    labeled_indices = np.array([], dtype=np.int64)\n",
    "\n",
    "    ensemble_predictions = None\n",
    "    current_cycle = 1\n",
    "    total_cycles = int(np.ceil((n_samples-initial_n_samples)/n_samples_per_batch)) + 1\n",
    "    \n",
    "    while len(labeled_indices) < n_samples and len(unlabeled_indices) > 0:\n",
    "        print(f\"\\nCycle {current_cycle}/{total_cycles}\\n-------------------------------------------------\")\n",
    "\n",
    "        # on the first cycle, choose random samples of initial_n_samples size\n",
    "        if ensemble_predictions is None:\n",
    "            print(f\"Choosing initial {initial_n_samples} samples randomly...\")\n",
    "            train_dataloader, pool_dataloader, labeled_indices, unlabeled_indices = acquire_new_batch(\n",
    "                training_pool, train_dataloader_batch_size, pool_dataloader_batch_size, initial_n_samples, top_score_fraction, n_samples_per_batch, labeled_indices, unlabeled_indices, acquisition_scores=None\n",
    "            )\n",
    "        # each other time, use the n_samples_per_batch with acquisition scores to select\n",
    "        else:\n",
    "            scores = get_variances(ensemble_predictions, f\"{results_dir}/variances{current_cycle}.csv\")\n",
    "            print(f\"Selecting new data points...\")\n",
    "            train_dataloader, pool_dataloader, labeled_indices, unlabeled_indices = acquire_new_batch(\n",
    "                training_pool, train_dataloader_batch_size, pool_dataloader_batch_size, initial_n_samples, top_score_fraction, n_samples_per_batch, labeled_indices, unlabeled_indices, acquisition_scores=scores\n",
    "            )\n",
    "        \n",
    "        # give message when loop ends\n",
    "        if len(unlabeled_indices) == 0:\n",
    "            print(\"Unlabeled pool is empty. Proceeding to final model training.\")\n",
    "            break\n",
    "        \n",
    "        # evaluate active vs standard\n",
    "        final_results = []\n",
    "\n",
    "        # active\n",
    "        print(f\"\\nTraining and evaluating model using {len(labeled_indices)} actively selected samples...\")\n",
    "        model_active = initialize_and_train_new_model(approach, model_name, learning_rate, weight_decay, epochs, train_dataloader, val_dataloader, patience, return_history=False)\n",
    "        results_active = test_model(model_active, test_dataloader, return_results=True)\n",
    "        results_active = {\n",
    "            'changing_var': 'n_samples',\n",
    "            'local_exp_idx': current_cycle-1,\n",
    "            'value': len(labeled_indices),\n",
    "            'training_method': 'active',\n",
    "            **results_active\n",
    "        }\n",
    "        final_results.append(results_active)\n",
    "\n",
    "        # standard\n",
    "        print(f\"\\nTraining and evaluating model using {len(labeled_indices)} randomly selected samples...\")\n",
    "        model_standard, _ = run_standard_finetuning(len(labeled_indices), approach, model_name, train_dataloader_batch_size, learning_rate, weight_decay, epochs, training_pool, val_dataloader, patience)\n",
    "        results_standard = test_model(model_standard, test_dataloader, return_results=True)\n",
    "        results_standard = {\n",
    "            'changing_var': 'n_samples',\n",
    "            'local_exp_idx': current_cycle-1,\n",
    "            'value': len(labeled_indices),\n",
    "            'training_method': 'standard',\n",
    "            **results_standard\n",
    "        }\n",
    "        final_results.append(results_standard)\n",
    "        # save to disk each time to save progress\n",
    "        results_df = pd.DataFrame(final_results)\n",
    "        all_results_df = pd.concat([all_results_df, results_df], ignore_index=True)\n",
    "        all_results_df.to_csv(results_path, index=False)\n",
    "        print(f\"Progress for experiment {current_cycle-1} appended to {results_path}\")\n",
    "\n",
    "        # if it's the last cycle, skip ensemble predictions\n",
    "        if (current_cycle == total_cycles):\n",
    "            print(\"Experiments complete.\")\n",
    "            break\n",
    "\n",
    "        print(\"Starting ensemble training and pool evaluation...\")\n",
    "        ensemble_predictions = train_ensemble(n_models, model_name, approach, learning_rate, weight_decay, epochs, labeled_indices, train_dataloader_batch_size, training_pool, pool_dataloader, val_dataloader, patience)\n",
    "    \n",
    "        current_cycle += 1\n",
    "    return all_results_df"
   ]
  },
  {
   "cell_type": "code",
   "execution_count": null,
   "id": "ff8cac70",
   "metadata": {},
   "outputs": [
    {
     "name": "stdout",
     "output_type": "stream",
     "text": [
      "\n",
      "Cycle 1/16\n",
      "-------------------------------------------------\n",
      "Choosing initial 16 samples randomly...\n",
      "\n",
      "Training and evaluating model using 16 actively selected samples...\n"
     ]
    },
    {
     "name": "stderr",
     "output_type": "stream",
     "text": [
      "/home/oscar/miniconda3/envs/plm-active-learning/lib/python3.12/site-packages/torchmetrics/utilities/prints.py:43: UserWarning: Metric `SpearmanCorrcoef` will save all targets and predictions in the buffer. For large datasets, this may lead to large memory footprint.\n",
      "  warnings.warn(*args, **kwargs)\n",
      "[Training]: 100%|██████████| 50/50 [00:35<00:00,  1.42it/s]\n"
     ]
    },
    {
     "name": "stdout",
     "output_type": "stream",
     "text": [
      "Train Loss: 0.0336 | Val Loss: 0.1788 | SpearmanR: 0.4060\n"
     ]
    },
    {
     "name": "stderr",
     "output_type": "stream",
     "text": [
      "[Testing]: 100%|██████████| 25/25 [00:00<00:00, 127.40it/s]\n"
     ]
    },
    {
     "name": "stdout",
     "output_type": "stream",
     "text": [
      "\n",
      "Training and evaluating model using 16 randomly selected samples...\n"
     ]
    },
    {
     "name": "stderr",
     "output_type": "stream",
     "text": [
      "[Training]:  20%|██        | 10/50 [00:03<00:13,  2.88it/s]\n"
     ]
    },
    {
     "name": "stdout",
     "output_type": "stream",
     "text": [
      "Early stopping triggered after 10 epochs with no improvement.\n",
      "Train Loss: 0.2326 | Val Loss: 0.2467 | SpearmanR: -0.0998\n"
     ]
    },
    {
     "name": "stderr",
     "output_type": "stream",
     "text": [
      "[Testing]: 100%|██████████| 25/25 [00:00<00:00, 129.63it/s]\n"
     ]
    },
    {
     "name": "stdout",
     "output_type": "stream",
     "text": [
      "Progress for experiment 0 appended to results/04_adding_diversity/random_from_top_fraction/active_vs_standard_learning_curve.csv\n",
      "Starting ensemble training and pool evaluation...\n",
      "\n",
      "Training Model 1...\n"
     ]
    },
    {
     "name": "stderr",
     "output_type": "stream",
     "text": [
      "[Training]:  96%|█████████▌| 48/50 [00:27<00:01,  1.77it/s]\n"
     ]
    },
    {
     "name": "stdout",
     "output_type": "stream",
     "text": [
      "Early stopping triggered after 10 epochs with no improvement.\n",
      "Train Loss: 0.0013 | Val Loss: 0.2925 | SpearmanR: 0.2855\n"
     ]
    },
    {
     "name": "stderr",
     "output_type": "stream",
     "text": [
      "[Surveying]: 100%|██████████| 25/25 [00:01<00:00, 16.78it/s]\n"
     ]
    },
    {
     "name": "stdout",
     "output_type": "stream",
     "text": [
      "\n",
      "Training Model 2...\n"
     ]
    },
    {
     "name": "stderr",
     "output_type": "stream",
     "text": [
      "[Training]:  84%|████████▍ | 42/50 [00:24<00:04,  1.73it/s]\n"
     ]
    },
    {
     "name": "stdout",
     "output_type": "stream",
     "text": [
      "Early stopping triggered after 10 epochs with no improvement.\n",
      "Train Loss: 0.0291 | Val Loss: 0.3151 | SpearmanR: 0.1252\n"
     ]
    },
    {
     "name": "stderr",
     "output_type": "stream",
     "text": [
      "[Surveying]: 100%|██████████| 25/25 [00:01<00:00, 16.76it/s]\n"
     ]
    },
    {
     "name": "stdout",
     "output_type": "stream",
     "text": [
      "\n",
      "Training Model 3...\n"
     ]
    },
    {
     "name": "stderr",
     "output_type": "stream",
     "text": [
      "[Training]: 100%|██████████| 50/50 [00:32<00:00,  1.55it/s]\n"
     ]
    },
    {
     "name": "stdout",
     "output_type": "stream",
     "text": [
      "Train Loss: 0.0047 | Val Loss: 0.1990 | SpearmanR: 0.1898\n"
     ]
    },
    {
     "name": "stderr",
     "output_type": "stream",
     "text": [
      "[Surveying]: 100%|██████████| 25/25 [00:01<00:00, 16.92it/s]\n"
     ]
    },
    {
     "name": "stdout",
     "output_type": "stream",
     "text": [
      "\n",
      "Training Model 4...\n"
     ]
    },
    {
     "name": "stderr",
     "output_type": "stream",
     "text": [
      "[Training]:  20%|██        | 10/50 [00:02<00:11,  3.51it/s]\n"
     ]
    },
    {
     "name": "stdout",
     "output_type": "stream",
     "text": [
      "Early stopping triggered after 10 epochs with no improvement.\n",
      "Train Loss: 0.2623 | Val Loss: 0.1999 | SpearmanR: -0.0290\n"
     ]
    },
    {
     "name": "stderr",
     "output_type": "stream",
     "text": [
      "[Surveying]: 100%|██████████| 25/25 [00:01<00:00, 16.81it/s]\n"
     ]
    },
    {
     "name": "stdout",
     "output_type": "stream",
     "text": [
      "\n",
      "Training Model 5...\n"
     ]
    },
    {
     "name": "stderr",
     "output_type": "stream",
     "text": [
      "[Training]: 100%|██████████| 50/50 [00:32<00:00,  1.54it/s]\n"
     ]
    },
    {
     "name": "stdout",
     "output_type": "stream",
     "text": [
      "Train Loss: 0.0059 | Val Loss: 0.1985 | SpearmanR: 0.3307\n"
     ]
    },
    {
     "name": "stderr",
     "output_type": "stream",
     "text": [
      "[Surveying]: 100%|██████████| 25/25 [00:01<00:00, 17.00it/s]\n"
     ]
    },
    {
     "name": "stdout",
     "output_type": "stream",
     "text": [
      "Ensemble training complete, submitting predictions for next cycle.\n",
      "\n",
      "Cycle 2/16\n",
      "-------------------------------------------------\n",
      "Saving variance distribution to results/04_adding_diversity/random_from_top_fraction/variances2.csv...\n",
      "Save complete.\n",
      "Selecting new data points...\n",
      "\n",
      "Training and evaluating model using 32 actively selected samples...\n"
     ]
    },
    {
     "name": "stderr",
     "output_type": "stream",
     "text": [
      "[Training]:  90%|█████████ | 45/50 [00:18<00:02,  2.38it/s]\n"
     ]
    },
    {
     "name": "stdout",
     "output_type": "stream",
     "text": [
      "Early stopping triggered after 10 epochs with no improvement.\n",
      "Train Loss: 0.0235 | Val Loss: 0.1893 | SpearmanR: 0.3408\n"
     ]
    },
    {
     "name": "stderr",
     "output_type": "stream",
     "text": [
      "[Testing]: 100%|██████████| 25/25 [00:00<00:00, 131.91it/s]\n"
     ]
    },
    {
     "name": "stdout",
     "output_type": "stream",
     "text": [
      "\n",
      "Training and evaluating model using 32 randomly selected samples...\n"
     ]
    },
    {
     "name": "stderr",
     "output_type": "stream",
     "text": [
      "[Training]:  26%|██▌       | 13/50 [00:07<00:20,  1.81it/s]\n"
     ]
    },
    {
     "name": "stdout",
     "output_type": "stream",
     "text": [
      "Early stopping triggered after 10 epochs with no improvement.\n",
      "Train Loss: 0.1520 | Val Loss: 0.2177 | SpearmanR: 0.1649\n"
     ]
    },
    {
     "name": "stderr",
     "output_type": "stream",
     "text": [
      "[Testing]: 100%|██████████| 25/25 [00:00<00:00, 131.04it/s]\n"
     ]
    },
    {
     "name": "stdout",
     "output_type": "stream",
     "text": [
      "Progress for experiment 1 appended to results/04_adding_diversity/random_from_top_fraction/active_vs_standard_learning_curve.csv\n",
      "Starting ensemble training and pool evaluation...\n",
      "\n",
      "Training Model 1...\n"
     ]
    },
    {
     "name": "stderr",
     "output_type": "stream",
     "text": [
      "[Training]: 100%|██████████| 50/50 [00:17<00:00,  2.83it/s]\n"
     ]
    },
    {
     "name": "stdout",
     "output_type": "stream",
     "text": [
      "Train Loss: 0.0019 | Val Loss: 0.2308 | SpearmanR: 0.3456\n"
     ]
    },
    {
     "name": "stderr",
     "output_type": "stream",
     "text": [
      "[Surveying]: 100%|██████████| 25/25 [00:01<00:00, 16.81it/s]\n"
     ]
    },
    {
     "name": "stdout",
     "output_type": "stream",
     "text": [
      "\n",
      "Training Model 2...\n"
     ]
    },
    {
     "name": "stderr",
     "output_type": "stream",
     "text": [
      "[Training]:  88%|████████▊ | 44/50 [00:13<00:01,  3.18it/s]\n"
     ]
    },
    {
     "name": "stdout",
     "output_type": "stream",
     "text": [
      "Early stopping triggered after 10 epochs with no improvement.\n",
      "Train Loss: 0.0084 | Val Loss: 0.1676 | SpearmanR: 0.4401\n"
     ]
    },
    {
     "name": "stderr",
     "output_type": "stream",
     "text": [
      "[Surveying]: 100%|██████████| 25/25 [00:01<00:00, 16.75it/s]\n"
     ]
    },
    {
     "name": "stdout",
     "output_type": "stream",
     "text": [
      "\n",
      "Training Model 3...\n"
     ]
    },
    {
     "name": "stderr",
     "output_type": "stream",
     "text": [
      "[Training]:  70%|███████   | 35/50 [00:11<00:04,  3.05it/s]\n"
     ]
    },
    {
     "name": "stdout",
     "output_type": "stream",
     "text": [
      "Early stopping triggered after 10 epochs with no improvement.\n",
      "Train Loss: 0.0448 | Val Loss: 0.2103 | SpearmanR: 0.1413\n"
     ]
    },
    {
     "name": "stderr",
     "output_type": "stream",
     "text": [
      "[Surveying]: 100%|██████████| 25/25 [00:01<00:00, 16.74it/s]\n"
     ]
    },
    {
     "name": "stdout",
     "output_type": "stream",
     "text": [
      "\n",
      "Training Model 4...\n"
     ]
    },
    {
     "name": "stderr",
     "output_type": "stream",
     "text": [
      "[Training]:  80%|████████  | 40/50 [00:12<00:03,  3.20it/s]\n"
     ]
    },
    {
     "name": "stdout",
     "output_type": "stream",
     "text": [
      "Early stopping triggered after 10 epochs with no improvement.\n",
      "Train Loss: 0.0181 | Val Loss: 0.2064 | SpearmanR: 0.3939\n"
     ]
    },
    {
     "name": "stderr",
     "output_type": "stream",
     "text": [
      "[Surveying]: 100%|██████████| 25/25 [00:01<00:00, 16.74it/s]\n"
     ]
    },
    {
     "name": "stdout",
     "output_type": "stream",
     "text": [
      "\n",
      "Training Model 5...\n"
     ]
    },
    {
     "name": "stderr",
     "output_type": "stream",
     "text": [
      "[Training]:  90%|█████████ | 45/50 [00:14<00:01,  3.05it/s]\n"
     ]
    },
    {
     "name": "stdout",
     "output_type": "stream",
     "text": [
      "Early stopping triggered after 10 epochs with no improvement.\n",
      "Train Loss: 0.0050 | Val Loss: 0.2154 | SpearmanR: 0.3789\n"
     ]
    },
    {
     "name": "stderr",
     "output_type": "stream",
     "text": [
      "[Surveying]: 100%|██████████| 25/25 [00:01<00:00, 16.76it/s]\n"
     ]
    },
    {
     "name": "stdout",
     "output_type": "stream",
     "text": [
      "Ensemble training complete, submitting predictions for next cycle.\n",
      "\n",
      "Cycle 3/16\n",
      "-------------------------------------------------\n",
      "Saving variance distribution to results/04_adding_diversity/random_from_top_fraction/variances3.csv...\n",
      "Save complete.\n",
      "Selecting new data points...\n",
      "\n",
      "Training and evaluating model using 48 actively selected samples...\n"
     ]
    },
    {
     "name": "stderr",
     "output_type": "stream",
     "text": [
      "[Training]:  82%|████████▏ | 41/50 [00:14<00:03,  2.85it/s]\n"
     ]
    },
    {
     "name": "stdout",
     "output_type": "stream",
     "text": [
      "Early stopping triggered after 10 epochs with no improvement.\n",
      "Train Loss: 0.0309 | Val Loss: 0.1424 | SpearmanR: 0.5392\n"
     ]
    },
    {
     "name": "stderr",
     "output_type": "stream",
     "text": [
      "[Testing]: 100%|██████████| 25/25 [00:00<00:00, 128.74it/s]\n"
     ]
    },
    {
     "name": "stdout",
     "output_type": "stream",
     "text": [
      "\n",
      "Training and evaluating model using 48 randomly selected samples...\n"
     ]
    },
    {
     "name": "stderr",
     "output_type": "stream",
     "text": [
      "[Training]:  42%|████▏     | 21/50 [00:07<00:09,  2.99it/s]\n"
     ]
    },
    {
     "name": "stdout",
     "output_type": "stream",
     "text": [
      "Early stopping triggered after 10 epochs with no improvement.\n",
      "Train Loss: 0.0978 | Val Loss: 0.1651 | SpearmanR: 0.3981\n"
     ]
    },
    {
     "name": "stderr",
     "output_type": "stream",
     "text": [
      "[Testing]: 100%|██████████| 25/25 [00:00<00:00, 128.23it/s]\n"
     ]
    },
    {
     "name": "stdout",
     "output_type": "stream",
     "text": [
      "Progress for experiment 2 appended to results/04_adding_diversity/random_from_top_fraction/active_vs_standard_learning_curve.csv\n",
      "Starting ensemble training and pool evaluation...\n",
      "\n",
      "Training Model 1...\n"
     ]
    },
    {
     "name": "stderr",
     "output_type": "stream",
     "text": [
      "[Training]:  62%|██████▏   | 31/50 [00:11<00:06,  2.80it/s]\n"
     ]
    },
    {
     "name": "stdout",
     "output_type": "stream",
     "text": [
      "Early stopping triggered after 10 epochs with no improvement.\n",
      "Train Loss: 0.0081 | Val Loss: 0.1883 | SpearmanR: 0.3627\n"
     ]
    },
    {
     "name": "stderr",
     "output_type": "stream",
     "text": [
      "[Surveying]: 100%|██████████| 25/25 [00:01<00:00, 16.74it/s]\n"
     ]
    },
    {
     "name": "stdout",
     "output_type": "stream",
     "text": [
      "\n",
      "Training Model 2...\n"
     ]
    },
    {
     "name": "stderr",
     "output_type": "stream",
     "text": [
      "[Training]: 100%|██████████| 50/50 [00:18<00:00,  2.76it/s]\n"
     ]
    },
    {
     "name": "stdout",
     "output_type": "stream",
     "text": [
      "Train Loss: 0.0061 | Val Loss: 0.1606 | SpearmanR: 0.4655\n"
     ]
    },
    {
     "name": "stderr",
     "output_type": "stream",
     "text": [
      "[Surveying]: 100%|██████████| 25/25 [00:01<00:00, 16.76it/s]\n"
     ]
    },
    {
     "name": "stdout",
     "output_type": "stream",
     "text": [
      "\n",
      "Training Model 3...\n"
     ]
    },
    {
     "name": "stderr",
     "output_type": "stream",
     "text": [
      "[Training]:  76%|███████▌  | 38/50 [00:13<00:04,  2.77it/s]\n"
     ]
    },
    {
     "name": "stdout",
     "output_type": "stream",
     "text": [
      "Early stopping triggered after 10 epochs with no improvement.\n",
      "Train Loss: 0.0019 | Val Loss: 0.1933 | SpearmanR: 0.4052\n"
     ]
    },
    {
     "name": "stderr",
     "output_type": "stream",
     "text": [
      "[Surveying]: 100%|██████████| 25/25 [00:01<00:00, 16.86it/s]\n"
     ]
    },
    {
     "name": "stdout",
     "output_type": "stream",
     "text": [
      "\n",
      "Training Model 4...\n"
     ]
    },
    {
     "name": "stderr",
     "output_type": "stream",
     "text": [
      "[Training]: 100%|██████████| 50/50 [00:18<00:00,  2.64it/s]\n"
     ]
    },
    {
     "name": "stdout",
     "output_type": "stream",
     "text": [
      "Train Loss: 0.0057 | Val Loss: 0.1433 | SpearmanR: 0.5033\n"
     ]
    },
    {
     "name": "stderr",
     "output_type": "stream",
     "text": [
      "[Surveying]: 100%|██████████| 25/25 [00:01<00:00, 16.87it/s]\n"
     ]
    },
    {
     "name": "stdout",
     "output_type": "stream",
     "text": [
      "\n",
      "Training Model 5...\n"
     ]
    },
    {
     "name": "stderr",
     "output_type": "stream",
     "text": [
      "[Training]: 100%|██████████| 50/50 [00:18<00:00,  2.76it/s]\n"
     ]
    },
    {
     "name": "stdout",
     "output_type": "stream",
     "text": [
      "Train Loss: 0.0155 | Val Loss: 0.1741 | SpearmanR: 0.4640\n"
     ]
    },
    {
     "name": "stderr",
     "output_type": "stream",
     "text": [
      "[Surveying]: 100%|██████████| 25/25 [00:01<00:00, 16.64it/s]\n"
     ]
    },
    {
     "name": "stdout",
     "output_type": "stream",
     "text": [
      "Ensemble training complete, submitting predictions for next cycle.\n",
      "\n",
      "Cycle 4/16\n",
      "-------------------------------------------------\n",
      "Saving variance distribution to results/04_adding_diversity/random_from_top_fraction/variances4.csv...\n",
      "Save complete.\n",
      "Selecting new data points...\n",
      "\n",
      "Training and evaluating model using 64 actively selected samples...\n"
     ]
    },
    {
     "name": "stderr",
     "output_type": "stream",
     "text": [
      "[Training]:  56%|█████▌    | 28/50 [00:10<00:08,  2.56it/s]\n"
     ]
    },
    {
     "name": "stdout",
     "output_type": "stream",
     "text": [
      "Early stopping triggered after 10 epochs with no improvement.\n",
      "Train Loss: 0.0719 | Val Loss: 0.1567 | SpearmanR: 0.4937\n"
     ]
    },
    {
     "name": "stderr",
     "output_type": "stream",
     "text": [
      "[Testing]: 100%|██████████| 25/25 [00:00<00:00, 125.16it/s]\n"
     ]
    },
    {
     "name": "stdout",
     "output_type": "stream",
     "text": [
      "\n",
      "Training and evaluating model using 64 randomly selected samples...\n"
     ]
    },
    {
     "name": "stderr",
     "output_type": "stream",
     "text": [
      "[Training]:  92%|█████████▏| 46/50 [00:15<00:01,  2.89it/s]\n"
     ]
    },
    {
     "name": "stdout",
     "output_type": "stream",
     "text": [
      "Early stopping triggered after 10 epochs with no improvement.\n",
      "Train Loss: 0.0271 | Val Loss: 0.1510 | SpearmanR: 0.4731\n"
     ]
    },
    {
     "name": "stderr",
     "output_type": "stream",
     "text": [
      "[Testing]: 100%|██████████| 25/25 [00:00<00:00, 130.01it/s]\n"
     ]
    },
    {
     "name": "stdout",
     "output_type": "stream",
     "text": [
      "Progress for experiment 3 appended to results/04_adding_diversity/random_from_top_fraction/active_vs_standard_learning_curve.csv\n",
      "Starting ensemble training and pool evaluation...\n",
      "\n",
      "Training Model 1...\n"
     ]
    },
    {
     "name": "stderr",
     "output_type": "stream",
     "text": [
      "[Training]:  86%|████████▌ | 43/50 [00:14<00:02,  2.89it/s]\n"
     ]
    },
    {
     "name": "stdout",
     "output_type": "stream",
     "text": [
      "Early stopping triggered after 10 epochs with no improvement.\n",
      "Train Loss: 0.0081 | Val Loss: 0.1741 | SpearmanR: 0.3866\n"
     ]
    },
    {
     "name": "stderr",
     "output_type": "stream",
     "text": [
      "[Surveying]: 100%|██████████| 25/25 [00:01<00:00, 16.67it/s]\n"
     ]
    },
    {
     "name": "stdout",
     "output_type": "stream",
     "text": [
      "\n",
      "Training Model 2...\n"
     ]
    },
    {
     "name": "stderr",
     "output_type": "stream",
     "text": [
      "[Training]:  86%|████████▌ | 43/50 [00:14<00:02,  3.05it/s]\n"
     ]
    },
    {
     "name": "stdout",
     "output_type": "stream",
     "text": [
      "Early stopping triggered after 10 epochs with no improvement.\n",
      "Train Loss: 0.0154 | Val Loss: 0.1542 | SpearmanR: 0.5206\n"
     ]
    },
    {
     "name": "stderr",
     "output_type": "stream",
     "text": [
      "[Surveying]: 100%|██████████| 25/25 [00:01<00:00, 16.75it/s]\n"
     ]
    },
    {
     "name": "stdout",
     "output_type": "stream",
     "text": [
      "\n",
      "Training Model 3...\n"
     ]
    },
    {
     "name": "stderr",
     "output_type": "stream",
     "text": [
      "[Training]: 100%|██████████| 50/50 [00:17<00:00,  2.79it/s]\n"
     ]
    },
    {
     "name": "stdout",
     "output_type": "stream",
     "text": [
      "Train Loss: 0.0139 | Val Loss: 0.1796 | SpearmanR: 0.4037\n"
     ]
    },
    {
     "name": "stderr",
     "output_type": "stream",
     "text": [
      "[Surveying]: 100%|██████████| 25/25 [00:01<00:00, 16.51it/s]\n"
     ]
    },
    {
     "name": "stdout",
     "output_type": "stream",
     "text": [
      "\n",
      "Training Model 4...\n"
     ]
    },
    {
     "name": "stderr",
     "output_type": "stream",
     "text": [
      "[Training]:  72%|███████▏  | 36/50 [00:12<00:05,  2.77it/s]\n"
     ]
    },
    {
     "name": "stdout",
     "output_type": "stream",
     "text": [
      "Early stopping triggered after 10 epochs with no improvement.\n",
      "Train Loss: 0.0047 | Val Loss: 0.1641 | SpearmanR: 0.4576\n"
     ]
    },
    {
     "name": "stderr",
     "output_type": "stream",
     "text": [
      "[Surveying]: 100%|██████████| 25/25 [00:01<00:00, 16.71it/s]\n"
     ]
    },
    {
     "name": "stdout",
     "output_type": "stream",
     "text": [
      "\n",
      "Training Model 5...\n"
     ]
    },
    {
     "name": "stderr",
     "output_type": "stream",
     "text": [
      "[Training]: 100%|██████████| 50/50 [00:18<00:00,  2.72it/s]\n"
     ]
    },
    {
     "name": "stdout",
     "output_type": "stream",
     "text": [
      "Train Loss: 0.0052 | Val Loss: 0.1634 | SpearmanR: 0.5089\n"
     ]
    },
    {
     "name": "stderr",
     "output_type": "stream",
     "text": [
      "[Surveying]: 100%|██████████| 25/25 [00:01<00:00, 16.60it/s]\n"
     ]
    },
    {
     "name": "stdout",
     "output_type": "stream",
     "text": [
      "Ensemble training complete, submitting predictions for next cycle.\n",
      "\n",
      "Cycle 5/16\n",
      "-------------------------------------------------\n",
      "Saving variance distribution to results/04_adding_diversity/random_from_top_fraction/variances5.csv...\n",
      "Save complete.\n",
      "Selecting new data points...\n",
      "\n",
      "Training and evaluating model using 80 actively selected samples...\n"
     ]
    },
    {
     "name": "stderr",
     "output_type": "stream",
     "text": [
      "[Training]:  86%|████████▌ | 43/50 [00:15<00:02,  2.85it/s]\n"
     ]
    },
    {
     "name": "stdout",
     "output_type": "stream",
     "text": [
      "Early stopping triggered after 10 epochs with no improvement.\n",
      "Train Loss: 0.0236 | Val Loss: 0.1710 | SpearmanR: 0.4967\n"
     ]
    },
    {
     "name": "stderr",
     "output_type": "stream",
     "text": [
      "[Testing]: 100%|██████████| 25/25 [00:00<00:00, 128.71it/s]\n"
     ]
    },
    {
     "name": "stdout",
     "output_type": "stream",
     "text": [
      "\n",
      "Training and evaluating model using 80 randomly selected samples...\n"
     ]
    },
    {
     "name": "stderr",
     "output_type": "stream",
     "text": [
      "[Training]: 100%|██████████| 50/50 [00:17<00:00,  2.84it/s]\n"
     ]
    },
    {
     "name": "stdout",
     "output_type": "stream",
     "text": [
      "Train Loss: 0.0198 | Val Loss: 0.1620 | SpearmanR: 0.5035\n"
     ]
    },
    {
     "name": "stderr",
     "output_type": "stream",
     "text": [
      "[Testing]: 100%|██████████| 25/25 [00:00<00:00, 130.55it/s]\n"
     ]
    },
    {
     "name": "stdout",
     "output_type": "stream",
     "text": [
      "Progress for experiment 4 appended to results/04_adding_diversity/random_from_top_fraction/active_vs_standard_learning_curve.csv\n",
      "Starting ensemble training and pool evaluation...\n",
      "\n",
      "Training Model 1...\n"
     ]
    },
    {
     "name": "stderr",
     "output_type": "stream",
     "text": [
      "[Training]:  72%|███████▏  | 36/50 [00:22<00:08,  1.64it/s]\n"
     ]
    },
    {
     "name": "stdout",
     "output_type": "stream",
     "text": [
      "Early stopping triggered after 10 epochs with no improvement.\n",
      "Train Loss: 0.0088 | Val Loss: 0.1681 | SpearmanR: 0.4383\n"
     ]
    },
    {
     "name": "stderr",
     "output_type": "stream",
     "text": [
      "[Surveying]: 100%|██████████| 25/25 [00:01<00:00, 17.13it/s]\n"
     ]
    },
    {
     "name": "stdout",
     "output_type": "stream",
     "text": [
      "\n",
      "Training Model 2...\n"
     ]
    },
    {
     "name": "stderr",
     "output_type": "stream",
     "text": [
      "[Training]:  54%|█████▍    | 27/50 [00:16<00:14,  1.59it/s]\n"
     ]
    },
    {
     "name": "stdout",
     "output_type": "stream",
     "text": [
      "Early stopping triggered after 10 epochs with no improvement.\n",
      "Train Loss: 0.0117 | Val Loss: 0.1650 | SpearmanR: 0.4218\n"
     ]
    },
    {
     "name": "stderr",
     "output_type": "stream",
     "text": [
      "[Surveying]: 100%|██████████| 25/25 [00:01<00:00, 17.00it/s]\n"
     ]
    },
    {
     "name": "stdout",
     "output_type": "stream",
     "text": [
      "\n",
      "Training Model 3...\n"
     ]
    },
    {
     "name": "stderr",
     "output_type": "stream",
     "text": [
      "[Training]:  54%|█████▍    | 27/50 [00:18<00:15,  1.48it/s]\n"
     ]
    },
    {
     "name": "stdout",
     "output_type": "stream",
     "text": [
      "Early stopping triggered after 10 epochs with no improvement.\n",
      "Train Loss: 0.0130 | Val Loss: 0.1816 | SpearmanR: 0.3911\n"
     ]
    },
    {
     "name": "stderr",
     "output_type": "stream",
     "text": [
      "[Surveying]: 100%|██████████| 25/25 [00:01<00:00, 17.26it/s]\n"
     ]
    },
    {
     "name": "stdout",
     "output_type": "stream",
     "text": [
      "\n",
      "Training Model 4...\n"
     ]
    },
    {
     "name": "stderr",
     "output_type": "stream",
     "text": [
      "[Training]: 100%|██████████| 50/50 [00:28<00:00,  1.76it/s]\n"
     ]
    },
    {
     "name": "stdout",
     "output_type": "stream",
     "text": [
      "Train Loss: 0.0008 | Val Loss: 0.1386 | SpearmanR: 0.5346\n"
     ]
    },
    {
     "name": "stderr",
     "output_type": "stream",
     "text": [
      "[Surveying]: 100%|██████████| 25/25 [00:01<00:00, 17.12it/s]\n"
     ]
    },
    {
     "name": "stdout",
     "output_type": "stream",
     "text": [
      "\n",
      "Training Model 5...\n"
     ]
    },
    {
     "name": "stderr",
     "output_type": "stream",
     "text": [
      "[Training]: 100%|██████████| 50/50 [00:34<00:00,  1.44it/s]\n"
     ]
    },
    {
     "name": "stdout",
     "output_type": "stream",
     "text": [
      "Train Loss: 0.0020 | Val Loss: 0.1901 | SpearmanR: 0.4033\n"
     ]
    },
    {
     "name": "stderr",
     "output_type": "stream",
     "text": [
      "[Surveying]: 100%|██████████| 25/25 [00:01<00:00, 17.27it/s]\n"
     ]
    },
    {
     "name": "stdout",
     "output_type": "stream",
     "text": [
      "Ensemble training complete, submitting predictions for next cycle.\n",
      "\n",
      "Cycle 6/16\n",
      "-------------------------------------------------\n",
      "Saving variance distribution to results/04_adding_diversity/random_from_top_fraction/variances6.csv...\n",
      "Save complete.\n",
      "Selecting new data points...\n",
      "\n",
      "Training and evaluating model using 96 actively selected samples...\n"
     ]
    },
    {
     "name": "stderr",
     "output_type": "stream",
     "text": [
      "[Training]: 100%|██████████| 50/50 [00:31<00:00,  1.57it/s]\n"
     ]
    },
    {
     "name": "stdout",
     "output_type": "stream",
     "text": [
      "Train Loss: 0.0138 | Val Loss: 0.1468 | SpearmanR: 0.5769\n"
     ]
    },
    {
     "name": "stderr",
     "output_type": "stream",
     "text": [
      "[Testing]: 100%|██████████| 25/25 [00:00<00:00, 129.91it/s]\n"
     ]
    },
    {
     "name": "stdout",
     "output_type": "stream",
     "text": [
      "\n",
      "Training and evaluating model using 96 randomly selected samples...\n"
     ]
    },
    {
     "name": "stderr",
     "output_type": "stream",
     "text": [
      "[Training]:  68%|██████▊   | 34/50 [00:21<00:10,  1.56it/s]\n"
     ]
    },
    {
     "name": "stdout",
     "output_type": "stream",
     "text": [
      "Early stopping triggered after 10 epochs with no improvement.\n",
      "Train Loss: 0.0285 | Val Loss: 0.1320 | SpearmanR: 0.5998\n"
     ]
    },
    {
     "name": "stderr",
     "output_type": "stream",
     "text": [
      "[Testing]: 100%|██████████| 25/25 [00:00<00:00, 128.37it/s]\n"
     ]
    },
    {
     "name": "stdout",
     "output_type": "stream",
     "text": [
      "Progress for experiment 5 appended to results/04_adding_diversity/random_from_top_fraction/active_vs_standard_learning_curve.csv\n",
      "Starting ensemble training and pool evaluation...\n",
      "\n",
      "Training Model 1...\n"
     ]
    },
    {
     "name": "stderr",
     "output_type": "stream",
     "text": [
      "[Training]:  90%|█████████ | 45/50 [00:31<00:03,  1.41it/s]\n"
     ]
    },
    {
     "name": "stdout",
     "output_type": "stream",
     "text": [
      "Early stopping triggered after 10 epochs with no improvement.\n",
      "Train Loss: 0.0030 | Val Loss: 0.1603 | SpearmanR: 0.5065\n"
     ]
    },
    {
     "name": "stderr",
     "output_type": "stream",
     "text": [
      "[Surveying]: 100%|██████████| 24/24 [00:01<00:00, 16.61it/s]\n"
     ]
    },
    {
     "name": "stdout",
     "output_type": "stream",
     "text": [
      "\n",
      "Training Model 2...\n"
     ]
    },
    {
     "name": "stderr",
     "output_type": "stream",
     "text": [
      "[Training]:  58%|█████▊    | 29/50 [00:20<00:14,  1.40it/s]\n"
     ]
    },
    {
     "name": "stdout",
     "output_type": "stream",
     "text": [
      "Early stopping triggered after 10 epochs with no improvement.\n",
      "Train Loss: 0.0181 | Val Loss: 0.1552 | SpearmanR: 0.5059\n"
     ]
    },
    {
     "name": "stderr",
     "output_type": "stream",
     "text": [
      "[Surveying]: 100%|██████████| 24/24 [00:01<00:00, 16.59it/s]\n"
     ]
    },
    {
     "name": "stdout",
     "output_type": "stream",
     "text": [
      "\n",
      "Training Model 3...\n"
     ]
    },
    {
     "name": "stderr",
     "output_type": "stream",
     "text": [
      "[Training]:  72%|███████▏  | 36/50 [00:19<00:07,  1.83it/s]\n"
     ]
    },
    {
     "name": "stdout",
     "output_type": "stream",
     "text": [
      "Early stopping triggered after 10 epochs with no improvement.\n",
      "Train Loss: 0.0068 | Val Loss: 0.1569 | SpearmanR: 0.4809\n"
     ]
    },
    {
     "name": "stderr",
     "output_type": "stream",
     "text": [
      "[Surveying]: 100%|██████████| 24/24 [00:01<00:00, 16.48it/s]\n"
     ]
    },
    {
     "name": "stdout",
     "output_type": "stream",
     "text": [
      "\n",
      "Training Model 4...\n"
     ]
    },
    {
     "name": "stderr",
     "output_type": "stream",
     "text": [
      "[Training]:  80%|████████  | 40/50 [00:27<00:06,  1.43it/s]\n"
     ]
    },
    {
     "name": "stdout",
     "output_type": "stream",
     "text": [
      "Early stopping triggered after 10 epochs with no improvement.\n",
      "Train Loss: 0.0074 | Val Loss: 0.1516 | SpearmanR: 0.5078\n"
     ]
    },
    {
     "name": "stderr",
     "output_type": "stream",
     "text": [
      "[Surveying]: 100%|██████████| 24/24 [00:01<00:00, 16.42it/s]\n"
     ]
    },
    {
     "name": "stdout",
     "output_type": "stream",
     "text": [
      "\n",
      "Training Model 5...\n"
     ]
    },
    {
     "name": "stderr",
     "output_type": "stream",
     "text": [
      "[Training]:  88%|████████▊ | 44/50 [00:29<00:04,  1.49it/s]\n"
     ]
    },
    {
     "name": "stdout",
     "output_type": "stream",
     "text": [
      "Early stopping triggered after 10 epochs with no improvement.\n",
      "Train Loss: 0.0101 | Val Loss: 0.1569 | SpearmanR: 0.5020\n"
     ]
    },
    {
     "name": "stderr",
     "output_type": "stream",
     "text": [
      "[Surveying]: 100%|██████████| 24/24 [00:01<00:00, 16.52it/s]\n"
     ]
    },
    {
     "name": "stdout",
     "output_type": "stream",
     "text": [
      "Ensemble training complete, submitting predictions for next cycle.\n",
      "\n",
      "Cycle 7/16\n",
      "-------------------------------------------------\n",
      "Saving variance distribution to results/04_adding_diversity/random_from_top_fraction/variances7.csv...\n",
      "Save complete.\n",
      "Selecting new data points...\n",
      "\n",
      "Training and evaluating model using 112 actively selected samples...\n"
     ]
    },
    {
     "name": "stderr",
     "output_type": "stream",
     "text": [
      "[Training]: 100%|██████████| 50/50 [00:34<00:00,  1.45it/s]\n"
     ]
    },
    {
     "name": "stdout",
     "output_type": "stream",
     "text": [
      "Train Loss: 0.0096 | Val Loss: 0.1576 | SpearmanR: 0.5423\n"
     ]
    },
    {
     "name": "stderr",
     "output_type": "stream",
     "text": [
      "[Testing]: 100%|██████████| 25/25 [00:00<00:00, 128.10it/s]\n"
     ]
    },
    {
     "name": "stdout",
     "output_type": "stream",
     "text": [
      "\n",
      "Training and evaluating model using 112 randomly selected samples...\n"
     ]
    },
    {
     "name": "stderr",
     "output_type": "stream",
     "text": [
      "[Training]: 100%|██████████| 50/50 [00:33<00:00,  1.48it/s]\n"
     ]
    },
    {
     "name": "stdout",
     "output_type": "stream",
     "text": [
      "Train Loss: 0.0174 | Val Loss: 0.1533 | SpearmanR: 0.5817\n"
     ]
    },
    {
     "name": "stderr",
     "output_type": "stream",
     "text": [
      "[Testing]: 100%|██████████| 25/25 [00:00<00:00, 129.01it/s]\n"
     ]
    },
    {
     "name": "stdout",
     "output_type": "stream",
     "text": [
      "Progress for experiment 6 appended to results/04_adding_diversity/random_from_top_fraction/active_vs_standard_learning_curve.csv\n",
      "Starting ensemble training and pool evaluation...\n",
      "\n",
      "Training Model 1...\n"
     ]
    },
    {
     "name": "stderr",
     "output_type": "stream",
     "text": [
      "[Training]: 100%|██████████| 50/50 [00:32<00:00,  1.52it/s]\n"
     ]
    },
    {
     "name": "stdout",
     "output_type": "stream",
     "text": [
      "Train Loss: 0.0036 | Val Loss: 0.1561 | SpearmanR: 0.5177\n"
     ]
    },
    {
     "name": "stderr",
     "output_type": "stream",
     "text": [
      "[Surveying]: 100%|██████████| 24/24 [00:01<00:00, 16.62it/s]\n"
     ]
    },
    {
     "name": "stdout",
     "output_type": "stream",
     "text": [
      "\n",
      "Training Model 2...\n"
     ]
    },
    {
     "name": "stderr",
     "output_type": "stream",
     "text": [
      "[Training]:  34%|███▍      | 17/50 [00:11<00:22,  1.45it/s]\n"
     ]
    },
    {
     "name": "stdout",
     "output_type": "stream",
     "text": [
      "Early stopping triggered after 10 epochs with no improvement.\n",
      "Train Loss: 0.0222 | Val Loss: 0.1765 | SpearmanR: 0.4338\n"
     ]
    },
    {
     "name": "stderr",
     "output_type": "stream",
     "text": [
      "[Surveying]: 100%|██████████| 24/24 [00:01<00:00, 16.67it/s]\n"
     ]
    },
    {
     "name": "stdout",
     "output_type": "stream",
     "text": [
      "\n",
      "Training Model 3...\n"
     ]
    },
    {
     "name": "stderr",
     "output_type": "stream",
     "text": [
      "[Training]:  66%|██████▌   | 33/50 [00:20<00:10,  1.59it/s]\n"
     ]
    },
    {
     "name": "stdout",
     "output_type": "stream",
     "text": [
      "Early stopping triggered after 10 epochs with no improvement.\n",
      "Train Loss: 0.0446 | Val Loss: 0.1629 | SpearmanR: 0.4387\n"
     ]
    },
    {
     "name": "stderr",
     "output_type": "stream",
     "text": [
      "[Surveying]: 100%|██████████| 24/24 [00:01<00:00, 16.53it/s]\n"
     ]
    },
    {
     "name": "stdout",
     "output_type": "stream",
     "text": [
      "\n",
      "Training Model 4...\n"
     ]
    },
    {
     "name": "stderr",
     "output_type": "stream",
     "text": [
      "[Training]:  86%|████████▌ | 43/50 [00:30<00:04,  1.41it/s]\n"
     ]
    },
    {
     "name": "stdout",
     "output_type": "stream",
     "text": [
      "Early stopping triggered after 10 epochs with no improvement.\n",
      "Train Loss: 0.0159 | Val Loss: 0.1547 | SpearmanR: 0.5035\n"
     ]
    },
    {
     "name": "stderr",
     "output_type": "stream",
     "text": [
      "[Surveying]: 100%|██████████| 24/24 [00:01<00:00, 16.51it/s]\n"
     ]
    },
    {
     "name": "stdout",
     "output_type": "stream",
     "text": [
      "\n",
      "Training Model 5...\n"
     ]
    },
    {
     "name": "stderr",
     "output_type": "stream",
     "text": [
      "[Training]:  54%|█████▍    | 27/50 [00:18<00:15,  1.46it/s]\n"
     ]
    },
    {
     "name": "stdout",
     "output_type": "stream",
     "text": [
      "Early stopping triggered after 10 epochs with no improvement.\n",
      "Train Loss: 0.0162 | Val Loss: 0.1602 | SpearmanR: 0.4933\n"
     ]
    },
    {
     "name": "stderr",
     "output_type": "stream",
     "text": [
      "[Surveying]: 100%|██████████| 24/24 [00:01<00:00, 16.51it/s]\n"
     ]
    },
    {
     "name": "stdout",
     "output_type": "stream",
     "text": [
      "Ensemble training complete, submitting predictions for next cycle.\n",
      "\n",
      "Cycle 8/16\n",
      "-------------------------------------------------\n",
      "Saving variance distribution to results/04_adding_diversity/random_from_top_fraction/variances8.csv...\n",
      "Save complete.\n",
      "Selecting new data points...\n",
      "\n",
      "Training and evaluating model using 128 actively selected samples...\n"
     ]
    },
    {
     "name": "stderr",
     "output_type": "stream",
     "text": [
      "[Training]:  80%|████████  | 40/50 [00:25<00:06,  1.55it/s]\n"
     ]
    },
    {
     "name": "stdout",
     "output_type": "stream",
     "text": [
      "Early stopping triggered after 10 epochs with no improvement.\n",
      "Train Loss: 0.0151 | Val Loss: 0.1450 | SpearmanR: 0.5699\n"
     ]
    },
    {
     "name": "stderr",
     "output_type": "stream",
     "text": [
      "[Testing]: 100%|██████████| 25/25 [00:00<00:00, 129.95it/s]\n"
     ]
    },
    {
     "name": "stdout",
     "output_type": "stream",
     "text": [
      "\n",
      "Training and evaluating model using 128 randomly selected samples...\n"
     ]
    },
    {
     "name": "stderr",
     "output_type": "stream",
     "text": [
      "[Training]:  94%|█████████▍| 47/50 [00:33<00:02,  1.42it/s]\n"
     ]
    },
    {
     "name": "stdout",
     "output_type": "stream",
     "text": [
      "Early stopping triggered after 10 epochs with no improvement.\n",
      "Train Loss: 0.0358 | Val Loss: 0.1352 | SpearmanR: 0.5908\n"
     ]
    },
    {
     "name": "stderr",
     "output_type": "stream",
     "text": [
      "[Testing]: 100%|██████████| 25/25 [00:00<00:00, 128.69it/s]\n"
     ]
    },
    {
     "name": "stdout",
     "output_type": "stream",
     "text": [
      "Progress for experiment 7 appended to results/04_adding_diversity/random_from_top_fraction/active_vs_standard_learning_curve.csv\n",
      "Starting ensemble training and pool evaluation...\n",
      "\n",
      "Training Model 1...\n"
     ]
    },
    {
     "name": "stderr",
     "output_type": "stream",
     "text": [
      "[Training]:  38%|███▊      | 19/50 [00:13<00:21,  1.45it/s]\n"
     ]
    },
    {
     "name": "stdout",
     "output_type": "stream",
     "text": [
      "Early stopping triggered after 10 epochs with no improvement.\n",
      "Train Loss: 0.1477 | Val Loss: 0.2029 | SpearmanR: 0.5158\n"
     ]
    },
    {
     "name": "stderr",
     "output_type": "stream",
     "text": [
      "[Surveying]: 100%|██████████| 24/24 [00:01<00:00, 16.62it/s]\n"
     ]
    },
    {
     "name": "stdout",
     "output_type": "stream",
     "text": [
      "\n",
      "Training Model 2...\n"
     ]
    },
    {
     "name": "stderr",
     "output_type": "stream",
     "text": [
      "[Training]: 100%|██████████| 50/50 [00:37<00:00,  1.32it/s]\n"
     ]
    },
    {
     "name": "stdout",
     "output_type": "stream",
     "text": [
      "Train Loss: 0.0045 | Val Loss: 0.1711 | SpearmanR: 0.4564\n"
     ]
    },
    {
     "name": "stderr",
     "output_type": "stream",
     "text": [
      "[Surveying]: 100%|██████████| 24/24 [00:01<00:00, 16.70it/s]\n"
     ]
    },
    {
     "name": "stdout",
     "output_type": "stream",
     "text": [
      "\n",
      "Training Model 3...\n"
     ]
    },
    {
     "name": "stderr",
     "output_type": "stream",
     "text": [
      "[Training]: 100%|██████████| 50/50 [00:24<00:00,  2.05it/s]\n"
     ]
    },
    {
     "name": "stdout",
     "output_type": "stream",
     "text": [
      "Train Loss: 0.0178 | Val Loss: 0.1521 | SpearmanR: 0.5003\n"
     ]
    },
    {
     "name": "stderr",
     "output_type": "stream",
     "text": [
      "[Surveying]: 100%|██████████| 24/24 [00:01<00:00, 16.73it/s]\n"
     ]
    },
    {
     "name": "stdout",
     "output_type": "stream",
     "text": [
      "\n",
      "Training Model 4...\n"
     ]
    },
    {
     "name": "stderr",
     "output_type": "stream",
     "text": [
      "[Training]:  80%|████████  | 40/50 [00:29<00:07,  1.37it/s]\n"
     ]
    },
    {
     "name": "stdout",
     "output_type": "stream",
     "text": [
      "Early stopping triggered after 10 epochs with no improvement.\n",
      "Train Loss: 0.0133 | Val Loss: 0.1453 | SpearmanR: 0.5624\n"
     ]
    },
    {
     "name": "stderr",
     "output_type": "stream",
     "text": [
      "[Surveying]: 100%|██████████| 24/24 [00:01<00:00, 16.67it/s]\n"
     ]
    },
    {
     "name": "stdout",
     "output_type": "stream",
     "text": [
      "\n",
      "Training Model 5...\n"
     ]
    },
    {
     "name": "stderr",
     "output_type": "stream",
     "text": [
      "[Training]: 100%|██████████| 50/50 [00:40<00:00,  1.24it/s]\n"
     ]
    },
    {
     "name": "stdout",
     "output_type": "stream",
     "text": [
      "Train Loss: 0.0394 | Val Loss: 0.1550 | SpearmanR: 0.5098\n"
     ]
    },
    {
     "name": "stderr",
     "output_type": "stream",
     "text": [
      "[Surveying]: 100%|██████████| 24/24 [00:01<00:00, 16.62it/s]\n"
     ]
    },
    {
     "name": "stdout",
     "output_type": "stream",
     "text": [
      "Ensemble training complete, submitting predictions for next cycle.\n",
      "\n",
      "Cycle 9/16\n",
      "-------------------------------------------------\n",
      "Saving variance distribution to results/04_adding_diversity/random_from_top_fraction/variances9.csv...\n",
      "Save complete.\n",
      "Selecting new data points...\n",
      "\n",
      "Training and evaluating model using 144 actively selected samples...\n"
     ]
    },
    {
     "name": "stderr",
     "output_type": "stream",
     "text": [
      "[Training]:  68%|██████▊   | 34/50 [00:30<00:14,  1.11it/s]\n"
     ]
    },
    {
     "name": "stdout",
     "output_type": "stream",
     "text": [
      "Early stopping triggered after 10 epochs with no improvement.\n",
      "Train Loss: 0.0296 | Val Loss: 0.1379 | SpearmanR: 0.5825\n"
     ]
    },
    {
     "name": "stderr",
     "output_type": "stream",
     "text": [
      "[Testing]: 100%|██████████| 25/25 [00:00<00:00, 129.54it/s]\n"
     ]
    },
    {
     "name": "stdout",
     "output_type": "stream",
     "text": [
      "\n",
      "Training and evaluating model using 144 randomly selected samples...\n"
     ]
    },
    {
     "name": "stderr",
     "output_type": "stream",
     "text": [
      "[Training]: 100%|██████████| 50/50 [00:33<00:00,  1.49it/s]\n"
     ]
    },
    {
     "name": "stdout",
     "output_type": "stream",
     "text": [
      "Train Loss: 0.0233 | Val Loss: 0.1500 | SpearmanR: 0.5689\n"
     ]
    },
    {
     "name": "stderr",
     "output_type": "stream",
     "text": [
      "[Testing]: 100%|██████████| 25/25 [00:00<00:00, 126.49it/s]\n"
     ]
    },
    {
     "name": "stdout",
     "output_type": "stream",
     "text": [
      "Progress for experiment 8 appended to results/04_adding_diversity/random_from_top_fraction/active_vs_standard_learning_curve.csv\n",
      "Starting ensemble training and pool evaluation...\n",
      "\n",
      "Training Model 1...\n"
     ]
    },
    {
     "name": "stderr",
     "output_type": "stream",
     "text": [
      "[Training]: 100%|██████████| 50/50 [00:23<00:00,  2.15it/s]\n"
     ]
    },
    {
     "name": "stdout",
     "output_type": "stream",
     "text": [
      "Train Loss: 0.0168 | Val Loss: 0.1379 | SpearmanR: 0.5476\n"
     ]
    },
    {
     "name": "stderr",
     "output_type": "stream",
     "text": [
      "[Surveying]: 100%|██████████| 24/24 [00:01<00:00, 16.61it/s]\n"
     ]
    },
    {
     "name": "stdout",
     "output_type": "stream",
     "text": [
      "\n",
      "Training Model 2...\n"
     ]
    },
    {
     "name": "stderr",
     "output_type": "stream",
     "text": [
      "[Training]:  92%|█████████▏| 46/50 [00:19<00:01,  2.39it/s]\n"
     ]
    },
    {
     "name": "stdout",
     "output_type": "stream",
     "text": [
      "Early stopping triggered after 10 epochs with no improvement.\n",
      "Train Loss: 0.0120 | Val Loss: 0.1674 | SpearmanR: 0.5490\n"
     ]
    },
    {
     "name": "stderr",
     "output_type": "stream",
     "text": [
      "[Surveying]: 100%|██████████| 24/24 [00:01<00:00, 16.62it/s]\n"
     ]
    },
    {
     "name": "stdout",
     "output_type": "stream",
     "text": [
      "\n",
      "Training Model 3...\n"
     ]
    },
    {
     "name": "stderr",
     "output_type": "stream",
     "text": [
      "[Training]:  62%|██████▏   | 31/50 [00:14<00:08,  2.20it/s]\n"
     ]
    },
    {
     "name": "stdout",
     "output_type": "stream",
     "text": [
      "Early stopping triggered after 10 epochs with no improvement.\n",
      "Train Loss: 0.0259 | Val Loss: 0.1938 | SpearmanR: 0.4978\n"
     ]
    },
    {
     "name": "stderr",
     "output_type": "stream",
     "text": [
      "[Surveying]: 100%|██████████| 24/24 [00:01<00:00, 16.72it/s]\n"
     ]
    },
    {
     "name": "stdout",
     "output_type": "stream",
     "text": [
      "\n",
      "Training Model 4...\n"
     ]
    },
    {
     "name": "stderr",
     "output_type": "stream",
     "text": [
      "[Training]: 100%|██████████| 50/50 [00:19<00:00,  2.50it/s]\n"
     ]
    },
    {
     "name": "stdout",
     "output_type": "stream",
     "text": [
      "Train Loss: 0.0217 | Val Loss: 0.1418 | SpearmanR: 0.5246\n"
     ]
    },
    {
     "name": "stderr",
     "output_type": "stream",
     "text": [
      "[Surveying]: 100%|██████████| 24/24 [00:01<00:00, 16.68it/s]\n"
     ]
    },
    {
     "name": "stdout",
     "output_type": "stream",
     "text": [
      "\n",
      "Training Model 5...\n"
     ]
    },
    {
     "name": "stderr",
     "output_type": "stream",
     "text": [
      "[Training]:  58%|█████▊    | 29/50 [00:14<00:10,  1.95it/s]\n"
     ]
    },
    {
     "name": "stdout",
     "output_type": "stream",
     "text": [
      "Early stopping triggered after 10 epochs with no improvement.\n",
      "Train Loss: 0.0204 | Val Loss: 0.1893 | SpearmanR: 0.4517\n"
     ]
    },
    {
     "name": "stderr",
     "output_type": "stream",
     "text": [
      "[Surveying]: 100%|██████████| 24/24 [00:01<00:00, 16.62it/s]\n"
     ]
    },
    {
     "name": "stdout",
     "output_type": "stream",
     "text": [
      "Ensemble training complete, submitting predictions for next cycle.\n",
      "\n",
      "Cycle 10/16\n",
      "-------------------------------------------------\n",
      "Saving variance distribution to results/04_adding_diversity/random_from_top_fraction/variances10.csv...\n",
      "Save complete.\n",
      "Selecting new data points...\n",
      "\n",
      "Training and evaluating model using 160 actively selected samples...\n"
     ]
    },
    {
     "name": "stderr",
     "output_type": "stream",
     "text": [
      "[Training]:  94%|█████████▍| 47/50 [00:21<00:01,  2.14it/s]\n"
     ]
    },
    {
     "name": "stdout",
     "output_type": "stream",
     "text": [
      "Early stopping triggered after 10 epochs with no improvement.\n",
      "Train Loss: 0.0205 | Val Loss: 0.1256 | SpearmanR: 0.5914\n"
     ]
    },
    {
     "name": "stderr",
     "output_type": "stream",
     "text": [
      "[Testing]: 100%|██████████| 25/25 [00:00<00:00, 125.13it/s]\n"
     ]
    },
    {
     "name": "stdout",
     "output_type": "stream",
     "text": [
      "\n",
      "Training and evaluating model using 160 randomly selected samples...\n"
     ]
    },
    {
     "name": "stderr",
     "output_type": "stream",
     "text": [
      "[Training]:  98%|█████████▊| 49/50 [00:25<00:00,  1.94it/s]\n"
     ]
    },
    {
     "name": "stdout",
     "output_type": "stream",
     "text": [
      "Early stopping triggered after 10 epochs with no improvement.\n",
      "Train Loss: 0.0090 | Val Loss: 0.1355 | SpearmanR: 0.6327\n"
     ]
    },
    {
     "name": "stderr",
     "output_type": "stream",
     "text": [
      "[Testing]: 100%|██████████| 25/25 [00:00<00:00, 125.51it/s]\n"
     ]
    },
    {
     "name": "stdout",
     "output_type": "stream",
     "text": [
      "Progress for experiment 9 appended to results/04_adding_diversity/random_from_top_fraction/active_vs_standard_learning_curve.csv\n",
      "Starting ensemble training and pool evaluation...\n",
      "\n",
      "Training Model 1...\n"
     ]
    },
    {
     "name": "stderr",
     "output_type": "stream",
     "text": [
      "[Training]:  92%|█████████▏| 46/50 [00:22<00:01,  2.03it/s]\n"
     ]
    },
    {
     "name": "stdout",
     "output_type": "stream",
     "text": [
      "Early stopping triggered after 10 epochs with no improvement.\n",
      "Train Loss: 0.0044 | Val Loss: 0.1577 | SpearmanR: 0.5298\n"
     ]
    },
    {
     "name": "stderr",
     "output_type": "stream",
     "text": [
      "[Surveying]: 100%|██████████| 24/24 [00:01<00:00, 16.71it/s]\n"
     ]
    },
    {
     "name": "stdout",
     "output_type": "stream",
     "text": [
      "\n",
      "Training Model 2...\n"
     ]
    },
    {
     "name": "stderr",
     "output_type": "stream",
     "text": [
      "[Training]:  82%|████████▏ | 41/50 [00:19<00:04,  2.15it/s]\n"
     ]
    },
    {
     "name": "stdout",
     "output_type": "stream",
     "text": [
      "Early stopping triggered after 10 epochs with no improvement.\n",
      "Train Loss: 0.0117 | Val Loss: 0.1464 | SpearmanR: 0.5633\n"
     ]
    },
    {
     "name": "stderr",
     "output_type": "stream",
     "text": [
      "[Surveying]: 100%|██████████| 24/24 [00:01<00:00, 16.75it/s]\n"
     ]
    },
    {
     "name": "stdout",
     "output_type": "stream",
     "text": [
      "\n",
      "Training Model 3...\n"
     ]
    },
    {
     "name": "stderr",
     "output_type": "stream",
     "text": [
      "[Training]:  96%|█████████▌| 48/50 [00:23<00:00,  2.05it/s]\n"
     ]
    },
    {
     "name": "stdout",
     "output_type": "stream",
     "text": [
      "Early stopping triggered after 10 epochs with no improvement.\n",
      "Train Loss: 0.0016 | Val Loss: 0.1418 | SpearmanR: 0.5635\n"
     ]
    },
    {
     "name": "stderr",
     "output_type": "stream",
     "text": [
      "[Surveying]: 100%|██████████| 24/24 [00:01<00:00, 16.84it/s]\n"
     ]
    },
    {
     "name": "stdout",
     "output_type": "stream",
     "text": [
      "\n",
      "Training Model 4...\n"
     ]
    },
    {
     "name": "stderr",
     "output_type": "stream",
     "text": [
      "[Training]:  98%|█████████▊| 49/50 [00:22<00:00,  2.17it/s]\n"
     ]
    },
    {
     "name": "stdout",
     "output_type": "stream",
     "text": [
      "Early stopping triggered after 10 epochs with no improvement.\n",
      "Train Loss: 0.0056 | Val Loss: 0.1467 | SpearmanR: 0.5560\n"
     ]
    },
    {
     "name": "stderr",
     "output_type": "stream",
     "text": [
      "[Surveying]: 100%|██████████| 24/24 [00:01<00:00, 16.81it/s]\n"
     ]
    },
    {
     "name": "stdout",
     "output_type": "stream",
     "text": [
      "\n",
      "Training Model 5...\n"
     ]
    },
    {
     "name": "stderr",
     "output_type": "stream",
     "text": [
      "[Training]:  80%|████████  | 40/50 [00:17<00:04,  2.29it/s]\n"
     ]
    },
    {
     "name": "stdout",
     "output_type": "stream",
     "text": [
      "Early stopping triggered after 10 epochs with no improvement.\n",
      "Train Loss: 0.0061 | Val Loss: 0.1338 | SpearmanR: 0.5726\n"
     ]
    },
    {
     "name": "stderr",
     "output_type": "stream",
     "text": [
      "[Surveying]: 100%|██████████| 24/24 [00:01<00:00, 16.60it/s]\n"
     ]
    },
    {
     "name": "stdout",
     "output_type": "stream",
     "text": [
      "Ensemble training complete, submitting predictions for next cycle.\n",
      "\n",
      "Cycle 11/16\n",
      "-------------------------------------------------\n",
      "Saving variance distribution to results/04_adding_diversity/random_from_top_fraction/variances11.csv...\n",
      "Save complete.\n",
      "Selecting new data points...\n",
      "\n",
      "Training and evaluating model using 176 actively selected samples...\n"
     ]
    },
    {
     "name": "stderr",
     "output_type": "stream",
     "text": [
      "[Training]:  82%|████████▏ | 41/50 [00:21<00:04,  1.95it/s]\n"
     ]
    },
    {
     "name": "stdout",
     "output_type": "stream",
     "text": [
      "Early stopping triggered after 10 epochs with no improvement.\n",
      "Train Loss: 0.0332 | Val Loss: 0.1579 | SpearmanR: 0.6268\n"
     ]
    },
    {
     "name": "stderr",
     "output_type": "stream",
     "text": [
      "[Testing]: 100%|██████████| 25/25 [00:00<00:00, 128.50it/s]\n"
     ]
    },
    {
     "name": "stdout",
     "output_type": "stream",
     "text": [
      "\n",
      "Training and evaluating model using 176 randomly selected samples...\n"
     ]
    },
    {
     "name": "stderr",
     "output_type": "stream",
     "text": [
      "[Training]:  80%|████████  | 40/50 [00:20<00:05,  1.97it/s]\n"
     ]
    },
    {
     "name": "stdout",
     "output_type": "stream",
     "text": [
      "Early stopping triggered after 10 epochs with no improvement.\n",
      "Train Loss: 0.0515 | Val Loss: 0.1163 | SpearmanR: 0.6516\n"
     ]
    },
    {
     "name": "stderr",
     "output_type": "stream",
     "text": [
      "[Testing]: 100%|██████████| 25/25 [00:00<00:00, 128.68it/s]\n"
     ]
    },
    {
     "name": "stdout",
     "output_type": "stream",
     "text": [
      "Progress for experiment 10 appended to results/04_adding_diversity/random_from_top_fraction/active_vs_standard_learning_curve.csv\n",
      "Starting ensemble training and pool evaluation...\n",
      "\n",
      "Training Model 1...\n"
     ]
    },
    {
     "name": "stderr",
     "output_type": "stream",
     "text": [
      "[Training]: 100%|██████████| 50/50 [00:33<00:00,  1.50it/s]\n"
     ]
    },
    {
     "name": "stdout",
     "output_type": "stream",
     "text": [
      "Train Loss: 0.0158 | Val Loss: 0.1611 | SpearmanR: 0.5337\n"
     ]
    },
    {
     "name": "stderr",
     "output_type": "stream",
     "text": [
      "[Surveying]: 100%|██████████| 24/24 [00:01<00:00, 17.05it/s]\n"
     ]
    },
    {
     "name": "stdout",
     "output_type": "stream",
     "text": [
      "\n",
      "Training Model 2...\n"
     ]
    },
    {
     "name": "stderr",
     "output_type": "stream",
     "text": [
      "[Training]:  84%|████████▍ | 42/50 [00:30<00:05,  1.38it/s]\n"
     ]
    },
    {
     "name": "stdout",
     "output_type": "stream",
     "text": [
      "Early stopping triggered after 10 epochs with no improvement.\n",
      "Train Loss: 0.0073 | Val Loss: 0.1462 | SpearmanR: 0.5419\n"
     ]
    },
    {
     "name": "stderr",
     "output_type": "stream",
     "text": [
      "[Surveying]: 100%|██████████| 24/24 [00:01<00:00, 16.92it/s]\n"
     ]
    },
    {
     "name": "stdout",
     "output_type": "stream",
     "text": [
      "\n",
      "Training Model 3...\n"
     ]
    },
    {
     "name": "stderr",
     "output_type": "stream",
     "text": [
      "[Training]:  80%|████████  | 40/50 [00:30<00:07,  1.32it/s]\n"
     ]
    },
    {
     "name": "stdout",
     "output_type": "stream",
     "text": [
      "Early stopping triggered after 10 epochs with no improvement.\n",
      "Train Loss: 0.0485 | Val Loss: 0.1494 | SpearmanR: 0.5668\n"
     ]
    },
    {
     "name": "stderr",
     "output_type": "stream",
     "text": [
      "[Surveying]: 100%|██████████| 24/24 [00:01<00:00, 17.08it/s]\n"
     ]
    },
    {
     "name": "stdout",
     "output_type": "stream",
     "text": [
      "\n",
      "Training Model 4...\n"
     ]
    },
    {
     "name": "stderr",
     "output_type": "stream",
     "text": [
      "[Training]:  72%|███████▏  | 36/50 [00:18<00:07,  1.93it/s]\n"
     ]
    },
    {
     "name": "stdout",
     "output_type": "stream",
     "text": [
      "Early stopping triggered after 10 epochs with no improvement.\n",
      "Train Loss: 0.0086 | Val Loss: 0.1380 | SpearmanR: 0.5817\n"
     ]
    },
    {
     "name": "stderr",
     "output_type": "stream",
     "text": [
      "[Surveying]: 100%|██████████| 24/24 [00:01<00:00, 16.77it/s]\n"
     ]
    },
    {
     "name": "stdout",
     "output_type": "stream",
     "text": [
      "\n",
      "Training Model 5...\n"
     ]
    },
    {
     "name": "stderr",
     "output_type": "stream",
     "text": [
      "[Training]:  78%|███████▊  | 39/50 [00:21<00:05,  1.84it/s]\n"
     ]
    },
    {
     "name": "stdout",
     "output_type": "stream",
     "text": [
      "Early stopping triggered after 10 epochs with no improvement.\n",
      "Train Loss: 0.0098 | Val Loss: 0.1325 | SpearmanR: 0.5677\n"
     ]
    },
    {
     "name": "stderr",
     "output_type": "stream",
     "text": [
      "[Surveying]: 100%|██████████| 24/24 [00:01<00:00, 16.69it/s]\n"
     ]
    },
    {
     "name": "stdout",
     "output_type": "stream",
     "text": [
      "Ensemble training complete, submitting predictions for next cycle.\n",
      "\n",
      "Cycle 12/16\n",
      "-------------------------------------------------\n",
      "Saving variance distribution to results/04_adding_diversity/random_from_top_fraction/variances12.csv...\n",
      "Save complete.\n",
      "Selecting new data points...\n",
      "\n",
      "Training and evaluating model using 192 actively selected samples...\n"
     ]
    },
    {
     "name": "stderr",
     "output_type": "stream",
     "text": [
      "[Training]: 100%|██████████| 50/50 [00:38<00:00,  1.31it/s]\n"
     ]
    },
    {
     "name": "stdout",
     "output_type": "stream",
     "text": [
      "Train Loss: 0.0164 | Val Loss: 0.1415 | SpearmanR: 0.6202\n"
     ]
    },
    {
     "name": "stderr",
     "output_type": "stream",
     "text": [
      "[Testing]: 100%|██████████| 25/25 [00:00<00:00, 127.06it/s]\n"
     ]
    },
    {
     "name": "stdout",
     "output_type": "stream",
     "text": [
      "\n",
      "Training and evaluating model using 192 randomly selected samples...\n"
     ]
    },
    {
     "name": "stderr",
     "output_type": "stream",
     "text": [
      "[Training]:  86%|████████▌ | 43/50 [00:33<00:05,  1.27it/s]\n"
     ]
    },
    {
     "name": "stdout",
     "output_type": "stream",
     "text": [
      "Early stopping triggered after 10 epochs with no improvement.\n",
      "Train Loss: 0.0154 | Val Loss: 0.1386 | SpearmanR: 0.6167\n"
     ]
    },
    {
     "name": "stderr",
     "output_type": "stream",
     "text": [
      "[Testing]: 100%|██████████| 25/25 [00:00<00:00, 130.31it/s]\n"
     ]
    },
    {
     "name": "stdout",
     "output_type": "stream",
     "text": [
      "Progress for experiment 11 appended to results/04_adding_diversity/random_from_top_fraction/active_vs_standard_learning_curve.csv\n",
      "Starting ensemble training and pool evaluation...\n",
      "\n",
      "Training Model 1...\n"
     ]
    },
    {
     "name": "stderr",
     "output_type": "stream",
     "text": [
      "[Training]: 100%|██████████| 50/50 [00:33<00:00,  1.51it/s]\n"
     ]
    },
    {
     "name": "stdout",
     "output_type": "stream",
     "text": [
      "Train Loss: 0.0027 | Val Loss: 0.1411 | SpearmanR: 0.5689\n"
     ]
    },
    {
     "name": "stderr",
     "output_type": "stream",
     "text": [
      "[Surveying]: 100%|██████████| 24/24 [00:01<00:00, 16.91it/s]\n"
     ]
    },
    {
     "name": "stdout",
     "output_type": "stream",
     "text": [
      "\n",
      "Training Model 2...\n"
     ]
    },
    {
     "name": "stderr",
     "output_type": "stream",
     "text": [
      "[Training]:  56%|█████▌    | 28/50 [00:23<00:18,  1.17it/s]\n"
     ]
    },
    {
     "name": "stdout",
     "output_type": "stream",
     "text": [
      "Early stopping triggered after 10 epochs with no improvement.\n",
      "Train Loss: 0.0091 | Val Loss: 0.1352 | SpearmanR: 0.5561\n"
     ]
    },
    {
     "name": "stderr",
     "output_type": "stream",
     "text": [
      "[Surveying]: 100%|██████████| 24/24 [00:01<00:00, 16.98it/s]\n"
     ]
    },
    {
     "name": "stdout",
     "output_type": "stream",
     "text": [
      "\n",
      "Training Model 3...\n"
     ]
    },
    {
     "name": "stderr",
     "output_type": "stream",
     "text": [
      "[Training]:  98%|█████████▊| 49/50 [00:37<00:00,  1.32it/s]\n"
     ]
    },
    {
     "name": "stdout",
     "output_type": "stream",
     "text": [
      "Early stopping triggered after 10 epochs with no improvement.\n",
      "Train Loss: 0.0109 | Val Loss: 0.1192 | SpearmanR: 0.6487\n"
     ]
    },
    {
     "name": "stderr",
     "output_type": "stream",
     "text": [
      "[Surveying]: 100%|██████████| 24/24 [00:01<00:00, 16.83it/s]\n"
     ]
    },
    {
     "name": "stdout",
     "output_type": "stream",
     "text": [
      "\n",
      "Training Model 4...\n"
     ]
    },
    {
     "name": "stderr",
     "output_type": "stream",
     "text": [
      "[Training]:  70%|███████   | 35/50 [00:25<00:11,  1.35it/s]\n"
     ]
    },
    {
     "name": "stdout",
     "output_type": "stream",
     "text": [
      "Early stopping triggered after 10 epochs with no improvement.\n",
      "Train Loss: 0.0143 | Val Loss: 0.1797 | SpearmanR: 0.5343\n"
     ]
    },
    {
     "name": "stderr",
     "output_type": "stream",
     "text": [
      "[Surveying]: 100%|██████████| 24/24 [00:01<00:00, 16.86it/s]\n"
     ]
    },
    {
     "name": "stdout",
     "output_type": "stream",
     "text": [
      "\n",
      "Training Model 5...\n"
     ]
    },
    {
     "name": "stderr",
     "output_type": "stream",
     "text": [
      "[Training]:  92%|█████████▏| 46/50 [00:36<00:03,  1.28it/s]\n"
     ]
    },
    {
     "name": "stdout",
     "output_type": "stream",
     "text": [
      "Early stopping triggered after 10 epochs with no improvement.\n",
      "Train Loss: 0.0026 | Val Loss: 0.1287 | SpearmanR: 0.6145\n"
     ]
    },
    {
     "name": "stderr",
     "output_type": "stream",
     "text": [
      "[Surveying]: 100%|██████████| 24/24 [00:01<00:00, 16.86it/s]\n"
     ]
    },
    {
     "name": "stdout",
     "output_type": "stream",
     "text": [
      "Ensemble training complete, submitting predictions for next cycle.\n",
      "\n",
      "Cycle 13/16\n",
      "-------------------------------------------------\n",
      "Saving variance distribution to results/04_adding_diversity/random_from_top_fraction/variances13.csv...\n",
      "Save complete.\n",
      "Selecting new data points...\n",
      "\n",
      "Training and evaluating model using 208 actively selected samples...\n"
     ]
    },
    {
     "name": "stderr",
     "output_type": "stream",
     "text": [
      "[Training]:  70%|███████   | 35/50 [00:29<00:12,  1.20it/s]\n"
     ]
    },
    {
     "name": "stdout",
     "output_type": "stream",
     "text": [
      "Early stopping triggered after 10 epochs with no improvement.\n",
      "Train Loss: 0.0254 | Val Loss: 0.1389 | SpearmanR: 0.6247\n"
     ]
    },
    {
     "name": "stderr",
     "output_type": "stream",
     "text": [
      "[Testing]: 100%|██████████| 25/25 [00:00<00:00, 129.79it/s]\n"
     ]
    },
    {
     "name": "stdout",
     "output_type": "stream",
     "text": [
      "\n",
      "Training and evaluating model using 208 randomly selected samples...\n"
     ]
    },
    {
     "name": "stderr",
     "output_type": "stream",
     "text": [
      "[Training]:  82%|████████▏ | 41/50 [00:31<00:06,  1.30it/s]\n"
     ]
    },
    {
     "name": "stdout",
     "output_type": "stream",
     "text": [
      "Early stopping triggered after 10 epochs with no improvement.\n",
      "Train Loss: 0.0177 | Val Loss: 0.1152 | SpearmanR: 0.6718\n"
     ]
    },
    {
     "name": "stderr",
     "output_type": "stream",
     "text": [
      "[Testing]: 100%|██████████| 25/25 [00:00<00:00, 131.18it/s]\n"
     ]
    },
    {
     "name": "stdout",
     "output_type": "stream",
     "text": [
      "Progress for experiment 12 appended to results/04_adding_diversity/random_from_top_fraction/active_vs_standard_learning_curve.csv\n",
      "Starting ensemble training and pool evaluation...\n",
      "\n",
      "Training Model 1...\n"
     ]
    },
    {
     "name": "stderr",
     "output_type": "stream",
     "text": [
      "[Training]: 100%|██████████| 50/50 [00:41<00:00,  1.19it/s]\n"
     ]
    },
    {
     "name": "stdout",
     "output_type": "stream",
     "text": [
      "Train Loss: 0.0057 | Val Loss: 0.1622 | SpearmanR: 0.5660\n"
     ]
    },
    {
     "name": "stderr",
     "output_type": "stream",
     "text": [
      "[Surveying]: 100%|██████████| 24/24 [00:01<00:00, 17.28it/s]\n"
     ]
    },
    {
     "name": "stdout",
     "output_type": "stream",
     "text": [
      "\n",
      "Training Model 2...\n"
     ]
    },
    {
     "name": "stderr",
     "output_type": "stream",
     "text": [
      "[Training]:  94%|█████████▍| 47/50 [00:40<00:02,  1.17it/s]\n"
     ]
    },
    {
     "name": "stdout",
     "output_type": "stream",
     "text": [
      "Early stopping triggered after 10 epochs with no improvement.\n",
      "Train Loss: 0.0056 | Val Loss: 0.1614 | SpearmanR: 0.5567\n"
     ]
    },
    {
     "name": "stderr",
     "output_type": "stream",
     "text": [
      "[Surveying]: 100%|██████████| 24/24 [00:01<00:00, 17.32it/s]\n"
     ]
    },
    {
     "name": "stdout",
     "output_type": "stream",
     "text": [
      "\n",
      "Training Model 3...\n"
     ]
    },
    {
     "name": "stderr",
     "output_type": "stream",
     "text": [
      "[Training]:  74%|███████▍  | 37/50 [00:24<00:08,  1.51it/s]\n"
     ]
    },
    {
     "name": "stdout",
     "output_type": "stream",
     "text": [
      "Early stopping triggered after 10 epochs with no improvement.\n",
      "Train Loss: 0.0121 | Val Loss: 0.1210 | SpearmanR: 0.6124\n"
     ]
    },
    {
     "name": "stderr",
     "output_type": "stream",
     "text": [
      "[Surveying]: 100%|██████████| 24/24 [00:01<00:00, 17.12it/s]\n"
     ]
    },
    {
     "name": "stdout",
     "output_type": "stream",
     "text": [
      "\n",
      "Training Model 4...\n"
     ]
    },
    {
     "name": "stderr",
     "output_type": "stream",
     "text": [
      "[Training]:  64%|██████▍   | 32/50 [00:28<00:15,  1.14it/s]\n"
     ]
    },
    {
     "name": "stdout",
     "output_type": "stream",
     "text": [
      "Early stopping triggered after 10 epochs with no improvement.\n",
      "Train Loss: 0.0200 | Val Loss: 0.1585 | SpearmanR: 0.5745\n"
     ]
    },
    {
     "name": "stderr",
     "output_type": "stream",
     "text": [
      "[Surveying]: 100%|██████████| 24/24 [00:01<00:00, 17.24it/s]\n"
     ]
    },
    {
     "name": "stdout",
     "output_type": "stream",
     "text": [
      "\n",
      "Training Model 5...\n"
     ]
    },
    {
     "name": "stderr",
     "output_type": "stream",
     "text": [
      "[Training]:  82%|████████▏ | 41/50 [00:23<00:05,  1.74it/s]\n"
     ]
    },
    {
     "name": "stdout",
     "output_type": "stream",
     "text": [
      "Early stopping triggered after 10 epochs with no improvement.\n",
      "Train Loss: 0.0144 | Val Loss: 0.1526 | SpearmanR: 0.5292\n"
     ]
    },
    {
     "name": "stderr",
     "output_type": "stream",
     "text": [
      "[Surveying]: 100%|██████████| 24/24 [00:01<00:00, 17.32it/s]\n"
     ]
    },
    {
     "name": "stdout",
     "output_type": "stream",
     "text": [
      "Ensemble training complete, submitting predictions for next cycle.\n",
      "\n",
      "Cycle 14/16\n",
      "-------------------------------------------------\n",
      "Saving variance distribution to results/04_adding_diversity/random_from_top_fraction/variances14.csv...\n",
      "Save complete.\n",
      "Selecting new data points...\n",
      "\n",
      "Training and evaluating model using 224 actively selected samples...\n"
     ]
    },
    {
     "name": "stderr",
     "output_type": "stream",
     "text": [
      "[Training]:  88%|████████▊ | 44/50 [00:39<00:03,  1.96it/s]"
     ]
    }
   ],
   "source": [
    "from scripts.config import (\n",
    "    MODEL_NAME,\n",
    "    APPROACH,\n",
    "    LEARNING_RATE,\n",
    "    WEIGHT_DECAY,\n",
    "    EPOCHS,\n",
    "    POOL_BATCH_SIZE,\n",
    "    PATIENCE,\n",
    "    N_MODELS,\n",
    "    TOP_SCORE_FRACTION,\n",
    ")\n",
    "\n",
    "get_learning_curves(\n",
    "    n_samples=256,\n",
    "    initial_n_samples=16,\n",
    "    top_score_fraction=TOP_SCORE_FRACTION,\n",
    "    n_samples_per_batch=16,\n",
    "    model_name=MODEL_NAME,\n",
    "    approach=APPROACH,\n",
    "    learning_rate=LEARNING_RATE,\n",
    "    weight_decay=WEIGHT_DECAY,\n",
    "    epochs=EPOCHS,\n",
    "    training_pool=training_pool,\n",
    "    train_dataloader_batch_size=BATCH_SIZE,\n",
    "    pool_dataloader_batch_size=POOL_BATCH_SIZE,\n",
    "    val_dataloader=val_dataloader,\n",
    "    test_dataloader=test_dataloader,\n",
    "    patience=PATIENCE,\n",
    "    n_models=N_MODELS,\n",
    "    results_path='results/04_adding_diversity/random_from_top_fraction/active_vs_standard_learning_curve.csv'\n",
    ")"
   ]
  },
  {
   "cell_type": "code",
   "execution_count": null,
   "id": "47f0a6dc",
   "metadata": {},
   "outputs": [
    {
     "data": {
      "text/html": [
       "<div>\n",
       "<style scoped>\n",
       "    .dataframe tbody tr th:only-of-type {\n",
       "        vertical-align: middle;\n",
       "    }\n",
       "\n",
       "    .dataframe tbody tr th {\n",
       "        vertical-align: top;\n",
       "    }\n",
       "\n",
       "    .dataframe thead th {\n",
       "        text-align: right;\n",
       "    }\n",
       "</style>\n",
       "<table border=\"1\" class=\"dataframe\">\n",
       "  <thead>\n",
       "    <tr style=\"text-align: right;\">\n",
       "      <th></th>\n",
       "      <th>changing_var</th>\n",
       "      <th>local_exp_idx</th>\n",
       "      <th>value</th>\n",
       "      <th>training_method</th>\n",
       "      <th>avg_test_loss</th>\n",
       "      <th>spearmanr</th>\n",
       "      <th>pearsonr</th>\n",
       "      <th>final_mse</th>\n",
       "    </tr>\n",
       "  </thead>\n",
       "  <tbody>\n",
       "    <tr>\n",
       "      <th>0</th>\n",
       "      <td>n_samples</td>\n",
       "      <td>0</td>\n",
       "      <td>16</td>\n",
       "      <td>active</td>\n",
       "      <td>0.197894</td>\n",
       "      <td>0.382034</td>\n",
       "      <td>0.373106</td>\n",
       "      <td>0.198538</td>\n",
       "    </tr>\n",
       "    <tr>\n",
       "      <th>1</th>\n",
       "      <td>n_samples</td>\n",
       "      <td>0</td>\n",
       "      <td>16</td>\n",
       "      <td>standard</td>\n",
       "      <td>0.320916</td>\n",
       "      <td>0.270746</td>\n",
       "      <td>0.294286</td>\n",
       "      <td>0.320806</td>\n",
       "    </tr>\n",
       "    <tr>\n",
       "      <th>2</th>\n",
       "      <td>n_samples</td>\n",
       "      <td>1</td>\n",
       "      <td>32</td>\n",
       "      <td>active</td>\n",
       "      <td>0.184044</td>\n",
       "      <td>0.545784</td>\n",
       "      <td>0.502709</td>\n",
       "      <td>0.184418</td>\n",
       "    </tr>\n",
       "    <tr>\n",
       "      <th>3</th>\n",
       "      <td>n_samples</td>\n",
       "      <td>1</td>\n",
       "      <td>32</td>\n",
       "      <td>standard</td>\n",
       "      <td>0.173450</td>\n",
       "      <td>0.416550</td>\n",
       "      <td>0.422225</td>\n",
       "      <td>0.173986</td>\n",
       "    </tr>\n",
       "    <tr>\n",
       "      <th>4</th>\n",
       "      <td>n_samples</td>\n",
       "      <td>2</td>\n",
       "      <td>48</td>\n",
       "      <td>active</td>\n",
       "      <td>0.236712</td>\n",
       "      <td>0.378425</td>\n",
       "      <td>0.410424</td>\n",
       "      <td>0.237579</td>\n",
       "    </tr>\n",
       "  </tbody>\n",
       "</table>\n",
       "</div>"
      ],
      "text/plain": [
       "  changing_var  local_exp_idx  value training_method  avg_test_loss  \\\n",
       "0    n_samples              0     16          active       0.197894   \n",
       "1    n_samples              0     16        standard       0.320916   \n",
       "2    n_samples              1     32          active       0.184044   \n",
       "3    n_samples              1     32        standard       0.173450   \n",
       "4    n_samples              2     48          active       0.236712   \n",
       "\n",
       "   spearmanr  pearsonr  final_mse  \n",
       "0   0.382034  0.373106   0.198538  \n",
       "1   0.270746  0.294286   0.320806  \n",
       "2   0.545784  0.502709   0.184418  \n",
       "3   0.416550  0.422225   0.173986  \n",
       "4   0.378425  0.410424   0.237579  "
      ]
     },
     "metadata": {},
     "output_type": "display_data"
    }
   ],
   "source": [
    "lc_df = pd.read_csv(\"results/04_adding_diversity/random_from_top_fraction/active_vs_standard_learning_curve.csv\")\n",
    "lc_df.head()"
   ]
  },
  {
   "cell_type": "code",
   "execution_count": null,
   "id": "e3cab633",
   "metadata": {},
   "outputs": [
    {
     "data": {
      "application/vnd.plotly.v1+json": {
       "config": {
        "plotlyServerURL": "https://plot.ly"
       },
       "data": [
        {
         "hovertemplate": "training_method=active<br>value=%{x}<br>spearmanr=%{y}<extra></extra>",
         "legendgroup": "active",
         "line": {
          "color": "#636efa",
          "dash": "solid"
         },
         "marker": {
          "symbol": "circle"
         },
         "mode": "lines",
         "name": "active",
         "orientation": "v",
         "showlegend": true,
         "type": "scatter",
         "x": {
          "bdata": "EAAgADAAQABQAGAAcACAAJAAoACwAMAA0ADgAPAAAAE=",
          "dtype": "i2"
         },
         "xaxis": "x",
         "y": {
          "bdata": "AAAAwDxz2D8AAADAD3fhP/////8dONg/AAAAQEdL1z8AAABAwhnbPwAAAECBeN4/AAAAwCaP4j8AAADgSVXkPwAAAEAoZOM/AAAAQAk+4j8AAABgWM7jPwAAAIDdkeM/AAAAgNtE5T8AAABAK07lPwAAAMABqOU/AAAA4HV25j8=",
          "dtype": "f8"
         },
         "yaxis": "y"
        },
        {
         "hovertemplate": "training_method=standard<br>value=%{x}<br>spearmanr=%{y}<extra></extra>",
         "legendgroup": "standard",
         "line": {
          "color": "#EF553B",
          "dash": "solid"
         },
         "marker": {
          "symbol": "circle"
         },
         "mode": "lines",
         "name": "standard",
         "orientation": "v",
         "showlegend": true,
         "type": "scatter",
         "x": {
          "bdata": "EAAgADAAQABQAGAAcACAAJAAoACwAMAA0ADgAPAAAAE=",
          "dtype": "i2"
         },
         "xaxis": "x",
         "y": {
          "bdata": "AAAAwOdT0T////+/wqjaPwAAAEBUVeE/AAAAYFrb3j8AAABAHb3jPwAAAAANtOA/AAAAAIud4j8AAADASWfjPwAAAICVFuU/AAAAQOWB4z8AAAAgqRblPwAAAGBfhOY/AAAAAB4x5j8AAAAgbTbmPwAAAADTnOY/AAAAgE/H5j8=",
          "dtype": "f8"
         },
         "yaxis": "y"
        }
       ],
       "layout": {
        "legend": {
         "title": {
          "text": "training_method"
         },
         "tracegroupgap": 0
        },
        "margin": {
         "t": 60
        },
        "template": {
         "data": {
          "bar": [
           {
            "error_x": {
             "color": "#2a3f5f"
            },
            "error_y": {
             "color": "#2a3f5f"
            },
            "marker": {
             "line": {
              "color": "#E5ECF6",
              "width": 0.5
             },
             "pattern": {
              "fillmode": "overlay",
              "size": 10,
              "solidity": 0.2
             }
            },
            "type": "bar"
           }
          ],
          "barpolar": [
           {
            "marker": {
             "line": {
              "color": "#E5ECF6",
              "width": 0.5
             },
             "pattern": {
              "fillmode": "overlay",
              "size": 10,
              "solidity": 0.2
             }
            },
            "type": "barpolar"
           }
          ],
          "carpet": [
           {
            "aaxis": {
             "endlinecolor": "#2a3f5f",
             "gridcolor": "white",
             "linecolor": "white",
             "minorgridcolor": "white",
             "startlinecolor": "#2a3f5f"
            },
            "baxis": {
             "endlinecolor": "#2a3f5f",
             "gridcolor": "white",
             "linecolor": "white",
             "minorgridcolor": "white",
             "startlinecolor": "#2a3f5f"
            },
            "type": "carpet"
           }
          ],
          "choropleth": [
           {
            "colorbar": {
             "outlinewidth": 0,
             "ticks": ""
            },
            "type": "choropleth"
           }
          ],
          "contour": [
           {
            "colorbar": {
             "outlinewidth": 0,
             "ticks": ""
            },
            "colorscale": [
             [
              0,
              "#0d0887"
             ],
             [
              0.1111111111111111,
              "#46039f"
             ],
             [
              0.2222222222222222,
              "#7201a8"
             ],
             [
              0.3333333333333333,
              "#9c179e"
             ],
             [
              0.4444444444444444,
              "#bd3786"
             ],
             [
              0.5555555555555556,
              "#d8576b"
             ],
             [
              0.6666666666666666,
              "#ed7953"
             ],
             [
              0.7777777777777778,
              "#fb9f3a"
             ],
             [
              0.8888888888888888,
              "#fdca26"
             ],
             [
              1,
              "#f0f921"
             ]
            ],
            "type": "contour"
           }
          ],
          "contourcarpet": [
           {
            "colorbar": {
             "outlinewidth": 0,
             "ticks": ""
            },
            "type": "contourcarpet"
           }
          ],
          "heatmap": [
           {
            "colorbar": {
             "outlinewidth": 0,
             "ticks": ""
            },
            "colorscale": [
             [
              0,
              "#0d0887"
             ],
             [
              0.1111111111111111,
              "#46039f"
             ],
             [
              0.2222222222222222,
              "#7201a8"
             ],
             [
              0.3333333333333333,
              "#9c179e"
             ],
             [
              0.4444444444444444,
              "#bd3786"
             ],
             [
              0.5555555555555556,
              "#d8576b"
             ],
             [
              0.6666666666666666,
              "#ed7953"
             ],
             [
              0.7777777777777778,
              "#fb9f3a"
             ],
             [
              0.8888888888888888,
              "#fdca26"
             ],
             [
              1,
              "#f0f921"
             ]
            ],
            "type": "heatmap"
           }
          ],
          "histogram": [
           {
            "marker": {
             "pattern": {
              "fillmode": "overlay",
              "size": 10,
              "solidity": 0.2
             }
            },
            "type": "histogram"
           }
          ],
          "histogram2d": [
           {
            "colorbar": {
             "outlinewidth": 0,
             "ticks": ""
            },
            "colorscale": [
             [
              0,
              "#0d0887"
             ],
             [
              0.1111111111111111,
              "#46039f"
             ],
             [
              0.2222222222222222,
              "#7201a8"
             ],
             [
              0.3333333333333333,
              "#9c179e"
             ],
             [
              0.4444444444444444,
              "#bd3786"
             ],
             [
              0.5555555555555556,
              "#d8576b"
             ],
             [
              0.6666666666666666,
              "#ed7953"
             ],
             [
              0.7777777777777778,
              "#fb9f3a"
             ],
             [
              0.8888888888888888,
              "#fdca26"
             ],
             [
              1,
              "#f0f921"
             ]
            ],
            "type": "histogram2d"
           }
          ],
          "histogram2dcontour": [
           {
            "colorbar": {
             "outlinewidth": 0,
             "ticks": ""
            },
            "colorscale": [
             [
              0,
              "#0d0887"
             ],
             [
              0.1111111111111111,
              "#46039f"
             ],
             [
              0.2222222222222222,
              "#7201a8"
             ],
             [
              0.3333333333333333,
              "#9c179e"
             ],
             [
              0.4444444444444444,
              "#bd3786"
             ],
             [
              0.5555555555555556,
              "#d8576b"
             ],
             [
              0.6666666666666666,
              "#ed7953"
             ],
             [
              0.7777777777777778,
              "#fb9f3a"
             ],
             [
              0.8888888888888888,
              "#fdca26"
             ],
             [
              1,
              "#f0f921"
             ]
            ],
            "type": "histogram2dcontour"
           }
          ],
          "mesh3d": [
           {
            "colorbar": {
             "outlinewidth": 0,
             "ticks": ""
            },
            "type": "mesh3d"
           }
          ],
          "parcoords": [
           {
            "line": {
             "colorbar": {
              "outlinewidth": 0,
              "ticks": ""
             }
            },
            "type": "parcoords"
           }
          ],
          "pie": [
           {
            "automargin": true,
            "type": "pie"
           }
          ],
          "scatter": [
           {
            "fillpattern": {
             "fillmode": "overlay",
             "size": 10,
             "solidity": 0.2
            },
            "type": "scatter"
           }
          ],
          "scatter3d": [
           {
            "line": {
             "colorbar": {
              "outlinewidth": 0,
              "ticks": ""
             }
            },
            "marker": {
             "colorbar": {
              "outlinewidth": 0,
              "ticks": ""
             }
            },
            "type": "scatter3d"
           }
          ],
          "scattercarpet": [
           {
            "marker": {
             "colorbar": {
              "outlinewidth": 0,
              "ticks": ""
             }
            },
            "type": "scattercarpet"
           }
          ],
          "scattergeo": [
           {
            "marker": {
             "colorbar": {
              "outlinewidth": 0,
              "ticks": ""
             }
            },
            "type": "scattergeo"
           }
          ],
          "scattergl": [
           {
            "marker": {
             "colorbar": {
              "outlinewidth": 0,
              "ticks": ""
             }
            },
            "type": "scattergl"
           }
          ],
          "scattermap": [
           {
            "marker": {
             "colorbar": {
              "outlinewidth": 0,
              "ticks": ""
             }
            },
            "type": "scattermap"
           }
          ],
          "scattermapbox": [
           {
            "marker": {
             "colorbar": {
              "outlinewidth": 0,
              "ticks": ""
             }
            },
            "type": "scattermapbox"
           }
          ],
          "scatterpolar": [
           {
            "marker": {
             "colorbar": {
              "outlinewidth": 0,
              "ticks": ""
             }
            },
            "type": "scatterpolar"
           }
          ],
          "scatterpolargl": [
           {
            "marker": {
             "colorbar": {
              "outlinewidth": 0,
              "ticks": ""
             }
            },
            "type": "scatterpolargl"
           }
          ],
          "scatterternary": [
           {
            "marker": {
             "colorbar": {
              "outlinewidth": 0,
              "ticks": ""
             }
            },
            "type": "scatterternary"
           }
          ],
          "surface": [
           {
            "colorbar": {
             "outlinewidth": 0,
             "ticks": ""
            },
            "colorscale": [
             [
              0,
              "#0d0887"
             ],
             [
              0.1111111111111111,
              "#46039f"
             ],
             [
              0.2222222222222222,
              "#7201a8"
             ],
             [
              0.3333333333333333,
              "#9c179e"
             ],
             [
              0.4444444444444444,
              "#bd3786"
             ],
             [
              0.5555555555555556,
              "#d8576b"
             ],
             [
              0.6666666666666666,
              "#ed7953"
             ],
             [
              0.7777777777777778,
              "#fb9f3a"
             ],
             [
              0.8888888888888888,
              "#fdca26"
             ],
             [
              1,
              "#f0f921"
             ]
            ],
            "type": "surface"
           }
          ],
          "table": [
           {
            "cells": {
             "fill": {
              "color": "#EBF0F8"
             },
             "line": {
              "color": "white"
             }
            },
            "header": {
             "fill": {
              "color": "#C8D4E3"
             },
             "line": {
              "color": "white"
             }
            },
            "type": "table"
           }
          ]
         },
         "layout": {
          "annotationdefaults": {
           "arrowcolor": "#2a3f5f",
           "arrowhead": 0,
           "arrowwidth": 1
          },
          "autotypenumbers": "strict",
          "coloraxis": {
           "colorbar": {
            "outlinewidth": 0,
            "ticks": ""
           }
          },
          "colorscale": {
           "diverging": [
            [
             0,
             "#8e0152"
            ],
            [
             0.1,
             "#c51b7d"
            ],
            [
             0.2,
             "#de77ae"
            ],
            [
             0.3,
             "#f1b6da"
            ],
            [
             0.4,
             "#fde0ef"
            ],
            [
             0.5,
             "#f7f7f7"
            ],
            [
             0.6,
             "#e6f5d0"
            ],
            [
             0.7,
             "#b8e186"
            ],
            [
             0.8,
             "#7fbc41"
            ],
            [
             0.9,
             "#4d9221"
            ],
            [
             1,
             "#276419"
            ]
           ],
           "sequential": [
            [
             0,
             "#0d0887"
            ],
            [
             0.1111111111111111,
             "#46039f"
            ],
            [
             0.2222222222222222,
             "#7201a8"
            ],
            [
             0.3333333333333333,
             "#9c179e"
            ],
            [
             0.4444444444444444,
             "#bd3786"
            ],
            [
             0.5555555555555556,
             "#d8576b"
            ],
            [
             0.6666666666666666,
             "#ed7953"
            ],
            [
             0.7777777777777778,
             "#fb9f3a"
            ],
            [
             0.8888888888888888,
             "#fdca26"
            ],
            [
             1,
             "#f0f921"
            ]
           ],
           "sequentialminus": [
            [
             0,
             "#0d0887"
            ],
            [
             0.1111111111111111,
             "#46039f"
            ],
            [
             0.2222222222222222,
             "#7201a8"
            ],
            [
             0.3333333333333333,
             "#9c179e"
            ],
            [
             0.4444444444444444,
             "#bd3786"
            ],
            [
             0.5555555555555556,
             "#d8576b"
            ],
            [
             0.6666666666666666,
             "#ed7953"
            ],
            [
             0.7777777777777778,
             "#fb9f3a"
            ],
            [
             0.8888888888888888,
             "#fdca26"
            ],
            [
             1,
             "#f0f921"
            ]
           ]
          },
          "colorway": [
           "#636efa",
           "#EF553B",
           "#00cc96",
           "#ab63fa",
           "#FFA15A",
           "#19d3f3",
           "#FF6692",
           "#B6E880",
           "#FF97FF",
           "#FECB52"
          ],
          "font": {
           "color": "#2a3f5f"
          },
          "geo": {
           "bgcolor": "white",
           "lakecolor": "white",
           "landcolor": "#E5ECF6",
           "showlakes": true,
           "showland": true,
           "subunitcolor": "white"
          },
          "hoverlabel": {
           "align": "left"
          },
          "hovermode": "closest",
          "mapbox": {
           "style": "light"
          },
          "paper_bgcolor": "white",
          "plot_bgcolor": "#E5ECF6",
          "polar": {
           "angularaxis": {
            "gridcolor": "white",
            "linecolor": "white",
            "ticks": ""
           },
           "bgcolor": "#E5ECF6",
           "radialaxis": {
            "gridcolor": "white",
            "linecolor": "white",
            "ticks": ""
           }
          },
          "scene": {
           "xaxis": {
            "backgroundcolor": "#E5ECF6",
            "gridcolor": "white",
            "gridwidth": 2,
            "linecolor": "white",
            "showbackground": true,
            "ticks": "",
            "zerolinecolor": "white"
           },
           "yaxis": {
            "backgroundcolor": "#E5ECF6",
            "gridcolor": "white",
            "gridwidth": 2,
            "linecolor": "white",
            "showbackground": true,
            "ticks": "",
            "zerolinecolor": "white"
           },
           "zaxis": {
            "backgroundcolor": "#E5ECF6",
            "gridcolor": "white",
            "gridwidth": 2,
            "linecolor": "white",
            "showbackground": true,
            "ticks": "",
            "zerolinecolor": "white"
           }
          },
          "shapedefaults": {
           "line": {
            "color": "#2a3f5f"
           }
          },
          "ternary": {
           "aaxis": {
            "gridcolor": "white",
            "linecolor": "white",
            "ticks": ""
           },
           "baxis": {
            "gridcolor": "white",
            "linecolor": "white",
            "ticks": ""
           },
           "bgcolor": "#E5ECF6",
           "caxis": {
            "gridcolor": "white",
            "linecolor": "white",
            "ticks": ""
           }
          },
          "title": {
           "x": 0.05
          },
          "xaxis": {
           "automargin": true,
           "gridcolor": "white",
           "linecolor": "white",
           "ticks": "",
           "title": {
            "standoff": 15
           },
           "zerolinecolor": "white",
           "zerolinewidth": 2
          },
          "yaxis": {
           "automargin": true,
           "gridcolor": "white",
           "linecolor": "white",
           "ticks": "",
           "title": {
            "standoff": 15
           },
           "zerolinecolor": "white",
           "zerolinewidth": 2
          }
         }
        },
        "xaxis": {
         "anchor": "y",
         "domain": [
          0,
          1
         ],
         "title": {
          "text": "Number of Training Samples"
         }
        },
        "yaxis": {
         "anchor": "x",
         "domain": [
          0,
          1
         ],
         "title": {
          "text": "Spearman Correlation Coefficient"
         }
        }
       }
      }
     },
     "metadata": {},
     "output_type": "display_data"
    }
   ],
   "source": [
    "import plotly.express as px\n",
    "\n",
    "fig = px.line(lc_df, 'value', 'spearmanr',color=\"training_method\")\n",
    "\n",
    "fig.update_layout(\n",
    "    xaxis_title=\"Number of Training Samples\",\n",
    "    yaxis_title=\"Spearman Correlation Coefficient\"\n",
    ")\n",
    "\n",
    "fig.show()"
   ]
  },
  {
   "cell_type": "code",
   "execution_count": null,
   "id": "ca8058c2",
   "metadata": {},
   "outputs": [
    {
     "data": {
      "text/html": [
       "<div>\n",
       "<style scoped>\n",
       "    .dataframe tbody tr th:only-of-type {\n",
       "        vertical-align: middle;\n",
       "    }\n",
       "\n",
       "    .dataframe tbody tr th {\n",
       "        vertical-align: top;\n",
       "    }\n",
       "\n",
       "    .dataframe thead th {\n",
       "        text-align: right;\n",
       "    }\n",
       "</style>\n",
       "<table border=\"1\" class=\"dataframe\">\n",
       "  <thead>\n",
       "    <tr style=\"text-align: right;\">\n",
       "      <th></th>\n",
       "      <th>variances10</th>\n",
       "      <th>variances11</th>\n",
       "      <th>variances12</th>\n",
       "      <th>variances13</th>\n",
       "      <th>variances14</th>\n",
       "      <th>variances15</th>\n",
       "      <th>variances16</th>\n",
       "      <th>variances2</th>\n",
       "      <th>variances3</th>\n",
       "      <th>variances4</th>\n",
       "      <th>variances5</th>\n",
       "      <th>variances6</th>\n",
       "      <th>variances7</th>\n",
       "      <th>variances8</th>\n",
       "      <th>variances9</th>\n",
       "    </tr>\n",
       "  </thead>\n",
       "  <tbody>\n",
       "    <tr>\n",
       "      <th>0</th>\n",
       "      <td>0.149963</td>\n",
       "      <td>0.011875</td>\n",
       "      <td>0.025784</td>\n",
       "      <td>0.021565</td>\n",
       "      <td>0.042797</td>\n",
       "      <td>0.023504</td>\n",
       "      <td>0.020772</td>\n",
       "      <td>0.013999</td>\n",
       "      <td>0.028303</td>\n",
       "      <td>0.051192</td>\n",
       "      <td>0.048048</td>\n",
       "      <td>0.027420</td>\n",
       "      <td>0.055021</td>\n",
       "      <td>0.014279</td>\n",
       "      <td>0.049370</td>\n",
       "    </tr>\n",
       "    <tr>\n",
       "      <th>1</th>\n",
       "      <td>0.050087</td>\n",
       "      <td>0.005050</td>\n",
       "      <td>0.020347</td>\n",
       "      <td>0.031385</td>\n",
       "      <td>0.019446</td>\n",
       "      <td>0.037039</td>\n",
       "      <td>0.030839</td>\n",
       "      <td>0.119323</td>\n",
       "      <td>0.064065</td>\n",
       "      <td>0.027289</td>\n",
       "      <td>0.024033</td>\n",
       "      <td>0.024117</td>\n",
       "      <td>0.022003</td>\n",
       "      <td>0.027090</td>\n",
       "      <td>0.043563</td>\n",
       "    </tr>\n",
       "    <tr>\n",
       "      <th>2</th>\n",
       "      <td>0.069689</td>\n",
       "      <td>0.014829</td>\n",
       "      <td>0.010998</td>\n",
       "      <td>0.004873</td>\n",
       "      <td>0.013083</td>\n",
       "      <td>0.016777</td>\n",
       "      <td>0.035694</td>\n",
       "      <td>0.028558</td>\n",
       "      <td>0.052594</td>\n",
       "      <td>0.060716</td>\n",
       "      <td>0.149823</td>\n",
       "      <td>0.034743</td>\n",
       "      <td>0.123635</td>\n",
       "      <td>0.090861</td>\n",
       "      <td>0.006818</td>\n",
       "    </tr>\n",
       "    <tr>\n",
       "      <th>3</th>\n",
       "      <td>0.030903</td>\n",
       "      <td>0.022928</td>\n",
       "      <td>0.014478</td>\n",
       "      <td>0.082185</td>\n",
       "      <td>0.103137</td>\n",
       "      <td>0.105877</td>\n",
       "      <td>0.029240</td>\n",
       "      <td>0.044814</td>\n",
       "      <td>0.054224</td>\n",
       "      <td>0.040302</td>\n",
       "      <td>0.059472</td>\n",
       "      <td>0.037716</td>\n",
       "      <td>0.021208</td>\n",
       "      <td>0.004541</td>\n",
       "      <td>0.026667</td>\n",
       "    </tr>\n",
       "    <tr>\n",
       "      <th>4</th>\n",
       "      <td>0.036251</td>\n",
       "      <td>0.021226</td>\n",
       "      <td>0.081336</td>\n",
       "      <td>0.022297</td>\n",
       "      <td>0.035207</td>\n",
       "      <td>0.022637</td>\n",
       "      <td>0.013253</td>\n",
       "      <td>0.083888</td>\n",
       "      <td>0.057288</td>\n",
       "      <td>0.017450</td>\n",
       "      <td>0.041651</td>\n",
       "      <td>0.015074</td>\n",
       "      <td>0.017717</td>\n",
       "      <td>0.039450</td>\n",
       "      <td>0.071926</td>\n",
       "    </tr>\n",
       "    <tr>\n",
       "      <th>...</th>\n",
       "      <td>...</td>\n",
       "      <td>...</td>\n",
       "      <td>...</td>\n",
       "      <td>...</td>\n",
       "      <td>...</td>\n",
       "      <td>...</td>\n",
       "      <td>...</td>\n",
       "      <td>...</td>\n",
       "      <td>...</td>\n",
       "      <td>...</td>\n",
       "      <td>...</td>\n",
       "      <td>...</td>\n",
       "      <td>...</td>\n",
       "      <td>...</td>\n",
       "      <td>...</td>\n",
       "    </tr>\n",
       "    <tr>\n",
       "      <th>3147</th>\n",
       "      <td>NaN</td>\n",
       "      <td>NaN</td>\n",
       "      <td>NaN</td>\n",
       "      <td>NaN</td>\n",
       "      <td>NaN</td>\n",
       "      <td>NaN</td>\n",
       "      <td>NaN</td>\n",
       "      <td>0.032242</td>\n",
       "      <td>NaN</td>\n",
       "      <td>NaN</td>\n",
       "      <td>NaN</td>\n",
       "      <td>NaN</td>\n",
       "      <td>NaN</td>\n",
       "      <td>NaN</td>\n",
       "      <td>NaN</td>\n",
       "    </tr>\n",
       "    <tr>\n",
       "      <th>3148</th>\n",
       "      <td>NaN</td>\n",
       "      <td>NaN</td>\n",
       "      <td>NaN</td>\n",
       "      <td>NaN</td>\n",
       "      <td>NaN</td>\n",
       "      <td>NaN</td>\n",
       "      <td>NaN</td>\n",
       "      <td>0.089120</td>\n",
       "      <td>NaN</td>\n",
       "      <td>NaN</td>\n",
       "      <td>NaN</td>\n",
       "      <td>NaN</td>\n",
       "      <td>NaN</td>\n",
       "      <td>NaN</td>\n",
       "      <td>NaN</td>\n",
       "    </tr>\n",
       "    <tr>\n",
       "      <th>3149</th>\n",
       "      <td>NaN</td>\n",
       "      <td>NaN</td>\n",
       "      <td>NaN</td>\n",
       "      <td>NaN</td>\n",
       "      <td>NaN</td>\n",
       "      <td>NaN</td>\n",
       "      <td>NaN</td>\n",
       "      <td>0.029723</td>\n",
       "      <td>NaN</td>\n",
       "      <td>NaN</td>\n",
       "      <td>NaN</td>\n",
       "      <td>NaN</td>\n",
       "      <td>NaN</td>\n",
       "      <td>NaN</td>\n",
       "      <td>NaN</td>\n",
       "    </tr>\n",
       "    <tr>\n",
       "      <th>3150</th>\n",
       "      <td>NaN</td>\n",
       "      <td>NaN</td>\n",
       "      <td>NaN</td>\n",
       "      <td>NaN</td>\n",
       "      <td>NaN</td>\n",
       "      <td>NaN</td>\n",
       "      <td>NaN</td>\n",
       "      <td>0.050000</td>\n",
       "      <td>NaN</td>\n",
       "      <td>NaN</td>\n",
       "      <td>NaN</td>\n",
       "      <td>NaN</td>\n",
       "      <td>NaN</td>\n",
       "      <td>NaN</td>\n",
       "      <td>NaN</td>\n",
       "    </tr>\n",
       "    <tr>\n",
       "      <th>3151</th>\n",
       "      <td>NaN</td>\n",
       "      <td>NaN</td>\n",
       "      <td>NaN</td>\n",
       "      <td>NaN</td>\n",
       "      <td>NaN</td>\n",
       "      <td>NaN</td>\n",
       "      <td>NaN</td>\n",
       "      <td>0.041384</td>\n",
       "      <td>NaN</td>\n",
       "      <td>NaN</td>\n",
       "      <td>NaN</td>\n",
       "      <td>NaN</td>\n",
       "      <td>NaN</td>\n",
       "      <td>NaN</td>\n",
       "      <td>NaN</td>\n",
       "    </tr>\n",
       "  </tbody>\n",
       "</table>\n",
       "<p>3152 rows × 15 columns</p>\n",
       "</div>"
      ],
      "text/plain": [
       "      variances10  variances11  variances12  variances13  variances14  \\\n",
       "0        0.149963     0.011875     0.025784     0.021565     0.042797   \n",
       "1        0.050087     0.005050     0.020347     0.031385     0.019446   \n",
       "2        0.069689     0.014829     0.010998     0.004873     0.013083   \n",
       "3        0.030903     0.022928     0.014478     0.082185     0.103137   \n",
       "4        0.036251     0.021226     0.081336     0.022297     0.035207   \n",
       "...           ...          ...          ...          ...          ...   \n",
       "3147          NaN          NaN          NaN          NaN          NaN   \n",
       "3148          NaN          NaN          NaN          NaN          NaN   \n",
       "3149          NaN          NaN          NaN          NaN          NaN   \n",
       "3150          NaN          NaN          NaN          NaN          NaN   \n",
       "3151          NaN          NaN          NaN          NaN          NaN   \n",
       "\n",
       "      variances15  variances16  variances2  variances3  variances4  \\\n",
       "0        0.023504     0.020772    0.013999    0.028303    0.051192   \n",
       "1        0.037039     0.030839    0.119323    0.064065    0.027289   \n",
       "2        0.016777     0.035694    0.028558    0.052594    0.060716   \n",
       "3        0.105877     0.029240    0.044814    0.054224    0.040302   \n",
       "4        0.022637     0.013253    0.083888    0.057288    0.017450   \n",
       "...           ...          ...         ...         ...         ...   \n",
       "3147          NaN          NaN    0.032242         NaN         NaN   \n",
       "3148          NaN          NaN    0.089120         NaN         NaN   \n",
       "3149          NaN          NaN    0.029723         NaN         NaN   \n",
       "3150          NaN          NaN    0.050000         NaN         NaN   \n",
       "3151          NaN          NaN    0.041384         NaN         NaN   \n",
       "\n",
       "      variances5  variances6  variances7  variances8  variances9  \n",
       "0       0.048048    0.027420    0.055021    0.014279    0.049370  \n",
       "1       0.024033    0.024117    0.022003    0.027090    0.043563  \n",
       "2       0.149823    0.034743    0.123635    0.090861    0.006818  \n",
       "3       0.059472    0.037716    0.021208    0.004541    0.026667  \n",
       "4       0.041651    0.015074    0.017717    0.039450    0.071926  \n",
       "...          ...         ...         ...         ...         ...  \n",
       "3147         NaN         NaN         NaN         NaN         NaN  \n",
       "3148         NaN         NaN         NaN         NaN         NaN  \n",
       "3149         NaN         NaN         NaN         NaN         NaN  \n",
       "3150         NaN         NaN         NaN         NaN         NaN  \n",
       "3151         NaN         NaN         NaN         NaN         NaN  \n",
       "\n",
       "[3152 rows x 15 columns]"
      ]
     },
     "metadata": {},
     "output_type": "display_data"
    }
   ],
   "source": [
    "import pandas as pd\n",
    "import glob\n",
    "from pathlib import Path\n",
    "\n",
    "file_pattern = \"results/04_adding_diversity/random_from_top_fraction/variances*.csv\"\n",
    "variance_files = glob.glob(file_pattern)\n",
    "variance_files.sort()\n",
    "\n",
    "all_variances_dfs = []\n",
    "\n",
    "for filepath in variance_files:\n",
    "    temp_df = pd.read_csv(filepath)\n",
    "    column_name = Path(filepath).stem\n",
    "    temp_df = temp_df.rename(columns={'variance': column_name})\n",
    "    all_variances_dfs.append(temp_df)\n",
    "\n",
    "final_df = pd.concat(all_variances_dfs, axis=1)\n",
    "\n",
    "final_df"
   ]
  },
  {
   "cell_type": "code",
   "execution_count": null,
   "id": "2607154d",
   "metadata": {},
   "outputs": [
    {
     "data": {
      "application/vnd.plotly.v1+json": {
       "config": {
        "plotlyServerURL": "https://plot.ly"
       },
       "data": [
        {
         "bingroup": "x",
         "histnorm": "probability density",
         "hovertemplate": "Cycle=variances2<br>Variance=%{x}<br>probability density=%{y}<extra></extra>",
         "legendgroup": "variances2",
         "marker": {
          "color": "#636efa",
          "opacity": 0.65,
          "pattern": {
           "shape": ""
          }
         },
         "name": "variances2",
         "orientation": "v",
         "showlegend": true,
         "type": "histogram",
         "x": {
          "bdata": "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",
          "dtype": "f8"
         },
         "xaxis": "x",
         "yaxis": "y"
        },
        {
         "bingroup": "x",
         "histnorm": "probability density",
         "hovertemplate": "Cycle=variances9<br>Variance=%{x}<br>probability density=%{y}<extra></extra>",
         "legendgroup": "variances9",
         "marker": {
          "color": "#EF553B",
          "opacity": 0.65,
          "pattern": {
           "shape": ""
          }
         },
         "name": "variances9",
         "orientation": "v",
         "showlegend": true,
         "type": "histogram",
         "x": {
          "bdata": "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",
          "dtype": "f8"
         },
         "xaxis": "x",
         "yaxis": "y"
        },
        {
         "bingroup": "x",
         "histnorm": "probability density",
         "hovertemplate": "Cycle=variances15<br>Variance=%{x}<br>probability density=%{y}<extra></extra>",
         "legendgroup": "variances15",
         "marker": {
          "color": "#00cc96",
          "opacity": 0.65,
          "pattern": {
           "shape": ""
          }
         },
         "name": "variances15",
         "orientation": "v",
         "showlegend": true,
         "type": "histogram",
         "x": {
          "bdata": "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",
          "dtype": "f8"
         },
         "xaxis": "x",
         "yaxis": "y"
        }
       ],
       "layout": {
        "barmode": "overlay",
        "legend": {
         "title": {
          "text": "Cycle"
         },
         "tracegroupgap": 0
        },
        "template": {
         "data": {
          "bar": [
           {
            "error_x": {
             "color": "#2a3f5f"
            },
            "error_y": {
             "color": "#2a3f5f"
            },
            "marker": {
             "line": {
              "color": "#E5ECF6",
              "width": 0.5
             },
             "pattern": {
              "fillmode": "overlay",
              "size": 10,
              "solidity": 0.2
             }
            },
            "type": "bar"
           }
          ],
          "barpolar": [
           {
            "marker": {
             "line": {
              "color": "#E5ECF6",
              "width": 0.5
             },
             "pattern": {
              "fillmode": "overlay",
              "size": 10,
              "solidity": 0.2
             }
            },
            "type": "barpolar"
           }
          ],
          "carpet": [
           {
            "aaxis": {
             "endlinecolor": "#2a3f5f",
             "gridcolor": "white",
             "linecolor": "white",
             "minorgridcolor": "white",
             "startlinecolor": "#2a3f5f"
            },
            "baxis": {
             "endlinecolor": "#2a3f5f",
             "gridcolor": "white",
             "linecolor": "white",
             "minorgridcolor": "white",
             "startlinecolor": "#2a3f5f"
            },
            "type": "carpet"
           }
          ],
          "choropleth": [
           {
            "colorbar": {
             "outlinewidth": 0,
             "ticks": ""
            },
            "type": "choropleth"
           }
          ],
          "contour": [
           {
            "colorbar": {
             "outlinewidth": 0,
             "ticks": ""
            },
            "colorscale": [
             [
              0,
              "#0d0887"
             ],
             [
              0.1111111111111111,
              "#46039f"
             ],
             [
              0.2222222222222222,
              "#7201a8"
             ],
             [
              0.3333333333333333,
              "#9c179e"
             ],
             [
              0.4444444444444444,
              "#bd3786"
             ],
             [
              0.5555555555555556,
              "#d8576b"
             ],
             [
              0.6666666666666666,
              "#ed7953"
             ],
             [
              0.7777777777777778,
              "#fb9f3a"
             ],
             [
              0.8888888888888888,
              "#fdca26"
             ],
             [
              1,
              "#f0f921"
             ]
            ],
            "type": "contour"
           }
          ],
          "contourcarpet": [
           {
            "colorbar": {
             "outlinewidth": 0,
             "ticks": ""
            },
            "type": "contourcarpet"
           }
          ],
          "heatmap": [
           {
            "colorbar": {
             "outlinewidth": 0,
             "ticks": ""
            },
            "colorscale": [
             [
              0,
              "#0d0887"
             ],
             [
              0.1111111111111111,
              "#46039f"
             ],
             [
              0.2222222222222222,
              "#7201a8"
             ],
             [
              0.3333333333333333,
              "#9c179e"
             ],
             [
              0.4444444444444444,
              "#bd3786"
             ],
             [
              0.5555555555555556,
              "#d8576b"
             ],
             [
              0.6666666666666666,
              "#ed7953"
             ],
             [
              0.7777777777777778,
              "#fb9f3a"
             ],
             [
              0.8888888888888888,
              "#fdca26"
             ],
             [
              1,
              "#f0f921"
             ]
            ],
            "type": "heatmap"
           }
          ],
          "histogram": [
           {
            "marker": {
             "pattern": {
              "fillmode": "overlay",
              "size": 10,
              "solidity": 0.2
             }
            },
            "type": "histogram"
           }
          ],
          "histogram2d": [
           {
            "colorbar": {
             "outlinewidth": 0,
             "ticks": ""
            },
            "colorscale": [
             [
              0,
              "#0d0887"
             ],
             [
              0.1111111111111111,
              "#46039f"
             ],
             [
              0.2222222222222222,
              "#7201a8"
             ],
             [
              0.3333333333333333,
              "#9c179e"
             ],
             [
              0.4444444444444444,
              "#bd3786"
             ],
             [
              0.5555555555555556,
              "#d8576b"
             ],
             [
              0.6666666666666666,
              "#ed7953"
             ],
             [
              0.7777777777777778,
              "#fb9f3a"
             ],
             [
              0.8888888888888888,
              "#fdca26"
             ],
             [
              1,
              "#f0f921"
             ]
            ],
            "type": "histogram2d"
           }
          ],
          "histogram2dcontour": [
           {
            "colorbar": {
             "outlinewidth": 0,
             "ticks": ""
            },
            "colorscale": [
             [
              0,
              "#0d0887"
             ],
             [
              0.1111111111111111,
              "#46039f"
             ],
             [
              0.2222222222222222,
              "#7201a8"
             ],
             [
              0.3333333333333333,
              "#9c179e"
             ],
             [
              0.4444444444444444,
              "#bd3786"
             ],
             [
              0.5555555555555556,
              "#d8576b"
             ],
             [
              0.6666666666666666,
              "#ed7953"
             ],
             [
              0.7777777777777778,
              "#fb9f3a"
             ],
             [
              0.8888888888888888,
              "#fdca26"
             ],
             [
              1,
              "#f0f921"
             ]
            ],
            "type": "histogram2dcontour"
           }
          ],
          "mesh3d": [
           {
            "colorbar": {
             "outlinewidth": 0,
             "ticks": ""
            },
            "type": "mesh3d"
           }
          ],
          "parcoords": [
           {
            "line": {
             "colorbar": {
              "outlinewidth": 0,
              "ticks": ""
             }
            },
            "type": "parcoords"
           }
          ],
          "pie": [
           {
            "automargin": true,
            "type": "pie"
           }
          ],
          "scatter": [
           {
            "fillpattern": {
             "fillmode": "overlay",
             "size": 10,
             "solidity": 0.2
            },
            "type": "scatter"
           }
          ],
          "scatter3d": [
           {
            "line": {
             "colorbar": {
              "outlinewidth": 0,
              "ticks": ""
             }
            },
            "marker": {
             "colorbar": {
              "outlinewidth": 0,
              "ticks": ""
             }
            },
            "type": "scatter3d"
           }
          ],
          "scattercarpet": [
           {
            "marker": {
             "colorbar": {
              "outlinewidth": 0,
              "ticks": ""
             }
            },
            "type": "scattercarpet"
           }
          ],
          "scattergeo": [
           {
            "marker": {
             "colorbar": {
              "outlinewidth": 0,
              "ticks": ""
             }
            },
            "type": "scattergeo"
           }
          ],
          "scattergl": [
           {
            "marker": {
             "colorbar": {
              "outlinewidth": 0,
              "ticks": ""
             }
            },
            "type": "scattergl"
           }
          ],
          "scattermap": [
           {
            "marker": {
             "colorbar": {
              "outlinewidth": 0,
              "ticks": ""
             }
            },
            "type": "scattermap"
           }
          ],
          "scattermapbox": [
           {
            "marker": {
             "colorbar": {
              "outlinewidth": 0,
              "ticks": ""
             }
            },
            "type": "scattermapbox"
           }
          ],
          "scatterpolar": [
           {
            "marker": {
             "colorbar": {
              "outlinewidth": 0,
              "ticks": ""
             }
            },
            "type": "scatterpolar"
           }
          ],
          "scatterpolargl": [
           {
            "marker": {
             "colorbar": {
              "outlinewidth": 0,
              "ticks": ""
             }
            },
            "type": "scatterpolargl"
           }
          ],
          "scatterternary": [
           {
            "marker": {
             "colorbar": {
              "outlinewidth": 0,
              "ticks": ""
             }
            },
            "type": "scatterternary"
           }
          ],
          "surface": [
           {
            "colorbar": {
             "outlinewidth": 0,
             "ticks": ""
            },
            "colorscale": [
             [
              0,
              "#0d0887"
             ],
             [
              0.1111111111111111,
              "#46039f"
             ],
             [
              0.2222222222222222,
              "#7201a8"
             ],
             [
              0.3333333333333333,
              "#9c179e"
             ],
             [
              0.4444444444444444,
              "#bd3786"
             ],
             [
              0.5555555555555556,
              "#d8576b"
             ],
             [
              0.6666666666666666,
              "#ed7953"
             ],
             [
              0.7777777777777778,
              "#fb9f3a"
             ],
             [
              0.8888888888888888,
              "#fdca26"
             ],
             [
              1,
              "#f0f921"
             ]
            ],
            "type": "surface"
           }
          ],
          "table": [
           {
            "cells": {
             "fill": {
              "color": "#EBF0F8"
             },
             "line": {
              "color": "white"
             }
            },
            "header": {
             "fill": {
              "color": "#C8D4E3"
             },
             "line": {
              "color": "white"
             }
            },
            "type": "table"
           }
          ]
         },
         "layout": {
          "annotationdefaults": {
           "arrowcolor": "#2a3f5f",
           "arrowhead": 0,
           "arrowwidth": 1
          },
          "autotypenumbers": "strict",
          "coloraxis": {
           "colorbar": {
            "outlinewidth": 0,
            "ticks": ""
           }
          },
          "colorscale": {
           "diverging": [
            [
             0,
             "#8e0152"
            ],
            [
             0.1,
             "#c51b7d"
            ],
            [
             0.2,
             "#de77ae"
            ],
            [
             0.3,
             "#f1b6da"
            ],
            [
             0.4,
             "#fde0ef"
            ],
            [
             0.5,
             "#f7f7f7"
            ],
            [
             0.6,
             "#e6f5d0"
            ],
            [
             0.7,
             "#b8e186"
            ],
            [
             0.8,
             "#7fbc41"
            ],
            [
             0.9,
             "#4d9221"
            ],
            [
             1,
             "#276419"
            ]
           ],
           "sequential": [
            [
             0,
             "#0d0887"
            ],
            [
             0.1111111111111111,
             "#46039f"
            ],
            [
             0.2222222222222222,
             "#7201a8"
            ],
            [
             0.3333333333333333,
             "#9c179e"
            ],
            [
             0.4444444444444444,
             "#bd3786"
            ],
            [
             0.5555555555555556,
             "#d8576b"
            ],
            [
             0.6666666666666666,
             "#ed7953"
            ],
            [
             0.7777777777777778,
             "#fb9f3a"
            ],
            [
             0.8888888888888888,
             "#fdca26"
            ],
            [
             1,
             "#f0f921"
            ]
           ],
           "sequentialminus": [
            [
             0,
             "#0d0887"
            ],
            [
             0.1111111111111111,
             "#46039f"
            ],
            [
             0.2222222222222222,
             "#7201a8"
            ],
            [
             0.3333333333333333,
             "#9c179e"
            ],
            [
             0.4444444444444444,
             "#bd3786"
            ],
            [
             0.5555555555555556,
             "#d8576b"
            ],
            [
             0.6666666666666666,
             "#ed7953"
            ],
            [
             0.7777777777777778,
             "#fb9f3a"
            ],
            [
             0.8888888888888888,
             "#fdca26"
            ],
            [
             1,
             "#f0f921"
            ]
           ]
          },
          "colorway": [
           "#636efa",
           "#EF553B",
           "#00cc96",
           "#ab63fa",
           "#FFA15A",
           "#19d3f3",
           "#FF6692",
           "#B6E880",
           "#FF97FF",
           "#FECB52"
          ],
          "font": {
           "color": "#2a3f5f"
          },
          "geo": {
           "bgcolor": "white",
           "lakecolor": "white",
           "landcolor": "#E5ECF6",
           "showlakes": true,
           "showland": true,
           "subunitcolor": "white"
          },
          "hoverlabel": {
           "align": "left"
          },
          "hovermode": "closest",
          "mapbox": {
           "style": "light"
          },
          "paper_bgcolor": "white",
          "plot_bgcolor": "#E5ECF6",
          "polar": {
           "angularaxis": {
            "gridcolor": "white",
            "linecolor": "white",
            "ticks": ""
           },
           "bgcolor": "#E5ECF6",
           "radialaxis": {
            "gridcolor": "white",
            "linecolor": "white",
            "ticks": ""
           }
          },
          "scene": {
           "xaxis": {
            "backgroundcolor": "#E5ECF6",
            "gridcolor": "white",
            "gridwidth": 2,
            "linecolor": "white",
            "showbackground": true,
            "ticks": "",
            "zerolinecolor": "white"
           },
           "yaxis": {
            "backgroundcolor": "#E5ECF6",
            "gridcolor": "white",
            "gridwidth": 2,
            "linecolor": "white",
            "showbackground": true,
            "ticks": "",
            "zerolinecolor": "white"
           },
           "zaxis": {
            "backgroundcolor": "#E5ECF6",
            "gridcolor": "white",
            "gridwidth": 2,
            "linecolor": "white",
            "showbackground": true,
            "ticks": "",
            "zerolinecolor": "white"
           }
          },
          "shapedefaults": {
           "line": {
            "color": "#2a3f5f"
           }
          },
          "ternary": {
           "aaxis": {
            "gridcolor": "white",
            "linecolor": "white",
            "ticks": ""
           },
           "baxis": {
            "gridcolor": "white",
            "linecolor": "white",
            "ticks": ""
           },
           "bgcolor": "#E5ECF6",
           "caxis": {
            "gridcolor": "white",
            "linecolor": "white",
            "ticks": ""
           }
          },
          "title": {
           "x": 0.05
          },
          "xaxis": {
           "automargin": true,
           "gridcolor": "white",
           "linecolor": "white",
           "ticks": "",
           "title": {
            "standoff": 15
           },
           "zerolinecolor": "white",
           "zerolinewidth": 2
          },
          "yaxis": {
           "automargin": true,
           "gridcolor": "white",
           "linecolor": "white",
           "ticks": "",
           "title": {
            "standoff": 15
           },
           "zerolinecolor": "white",
           "zerolinewidth": 2
          }
         }
        },
        "title": {
         "text": "Distribution of Variances Across Active Learning Cycles"
        },
        "xaxis": {
         "anchor": "y",
         "domain": [
          0,
          1
         ],
         "title": {
          "text": "Variance"
         }
        },
        "yaxis": {
         "anchor": "x",
         "domain": [
          0,
          1
         ],
         "title": {
          "text": "probability density"
         }
        }
       }
      }
     },
     "metadata": {},
     "output_type": "display_data"
    }
   ],
   "source": [
    "columns_to_plot = ['variances2', 'variances9', 'variances15']\n",
    "\n",
    "# \"Melt\" the selected columns into a long-format DataFrame\n",
    "melted_df = final_df[columns_to_plot].melt(\n",
    "    var_name='Cycle',      # New column for the original column names\n",
    "    value_name='Variance'  # New column for the variance values\n",
    ")\n",
    "\n",
    "fig = px.histogram(\n",
    "    data_frame=melted_df,\n",
    "    x='Variance',                                  \n",
    "    color='Cycle',                                 \n",
    "    barmode='overlay',                             \n",
    "    opacity=0.65,                                  \n",
    "    histnorm='probability density',                \n",
    "    title='Distribution of Variances Across Active Learning Cycles'\n",
    ")\n",
    "\n",
    "fig.show()"
   ]
  },
  {
   "cell_type": "markdown",
   "id": "9074e1f4",
   "metadata": {},
   "source": [
    "### With embeddings"
   ]
  },
  {
   "cell_type": "code",
   "execution_count": null,
   "id": "441106cf",
   "metadata": {},
   "outputs": [],
   "source": [
    "def get_sequence_embedding(model, sequence):\n",
    "    return embedding\n",
    "\n",
    "def get_all_embeddings(unlabeled_indices):\n",
    "    return embeddings\n",
    "\n",
    "def get_distance(embed_1, embed_2):\n",
    "    return distance\n",
    "\n",
    "def get_all_distances(unlabeled_embeddings):\n",
    "    return all_distances\n",
    "\n",
    "def get_next_sample():\n",
    "    return\n",
    "\n",
    "def acquire_new_batch():\n",
    "    return"
   ]
  }
 ],
 "metadata": {
  "kernelspec": {
   "display_name": "plm-active-learning",
   "language": "python",
   "name": "python3"
  },
  "language_info": {
   "codemirror_mode": {
    "name": "ipython",
    "version": 3
   },
   "file_extension": ".py",
   "mimetype": "text/x-python",
   "name": "python",
   "nbconvert_exporter": "python",
   "pygments_lexer": "ipython3",
   "version": "3.12.11"
  }
 },
 "nbformat": 4,
 "nbformat_minor": 5
}
