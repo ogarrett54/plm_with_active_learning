{
 "cells": [
  {
   "cell_type": "markdown",
   "id": "a496b305",
   "metadata": {},
   "source": [
    "# Active Fine-tuning of PLMs"
   ]
  },
  {
   "cell_type": "markdown",
   "id": "743064de",
   "metadata": {},
   "source": [
    "## Objectives\n",
    "- Trial three approaches for active fine-tuning of ESM2 on our Pikh1 HMA data\n",
    "    1. train an ensemble of models and use the mean and variance of their predictions to guide learning\n",
    "    2. use dropout layer during prediction, find mean and variance of predictions\n",
    "    3. mean variance estimation fine-tuning to predict two values with gaussian negative log-likelihood loss\n",
    "- Compare data efficiency between each method (that is, how many training labels are needed to achieve the same spearman r on a universal test set)."
   ]
  },
  {
   "cell_type": "markdown",
   "id": "6a4471d3",
   "metadata": {},
   "source": [
    "## Prepare data splits\n",
    "Starting data is from FACS of surface displayed Pikh1 HMA variants when exposed to 1 uM AVR-PikC. There are 3960 labels in this dataset, each with a full sequence and an enrichment score, roughly correlated with binding affinity. We'll load these into a torch dataset, then split into 80% train, 10% val, and 10% test. The training data will be what we use for all active learning loops, validated on the val set. The test set will be used as a universal final test set for all models."
   ]
  },
  {
   "cell_type": "code",
   "execution_count": 1,
   "id": "19d00765",
   "metadata": {},
   "outputs": [
    {
     "data": {
      "text/html": [
       "<div>\n",
       "<style scoped>\n",
       "    .dataframe tbody tr th:only-of-type {\n",
       "        vertical-align: middle;\n",
       "    }\n",
       "\n",
       "    .dataframe tbody tr th {\n",
       "        vertical-align: top;\n",
       "    }\n",
       "\n",
       "    .dataframe thead th {\n",
       "        text-align: right;\n",
       "    }\n",
       "</style>\n",
       "<table border=\"1\" class=\"dataframe\">\n",
       "  <thead>\n",
       "    <tr style=\"text-align: right;\">\n",
       "      <th></th>\n",
       "      <th>aa_sequence</th>\n",
       "      <th>enrichment_score</th>\n",
       "    </tr>\n",
       "  </thead>\n",
       "  <tbody>\n",
       "    <tr>\n",
       "      <th>0</th>\n",
       "      <td>GLKQKIVIKVAMEGNNCRSKAMALVASTGGVDSVALVGDLRDKIEV...</td>\n",
       "      <td>1.468796</td>\n",
       "    </tr>\n",
       "    <tr>\n",
       "      <th>1</th>\n",
       "      <td>GLKRIIVIKVAREGNNCRSKAMALVASTGGVDSVALVGDLRGKIEV...</td>\n",
       "      <td>1.415944</td>\n",
       "    </tr>\n",
       "    <tr>\n",
       "      <th>2</th>\n",
       "      <td>GLKRIIVIKVAMEGNNCRSKAMALVASTGGVDSVALVGDLRGKIEV...</td>\n",
       "      <td>1.389615</td>\n",
       "    </tr>\n",
       "    <tr>\n",
       "      <th>3</th>\n",
       "      <td>GLKQKIVIKVAMEGNNCRSKAMALVASTGGVDSVALVGDLRDKIEV...</td>\n",
       "      <td>1.359651</td>\n",
       "    </tr>\n",
       "    <tr>\n",
       "      <th>4</th>\n",
       "      <td>GLKQKIVIKVAMEGNNCRSKAMALVASTGGVDSVALVGDLRGKIEV...</td>\n",
       "      <td>1.343857</td>\n",
       "    </tr>\n",
       "  </tbody>\n",
       "</table>\n",
       "</div>"
      ],
      "text/plain": [
       "                                         aa_sequence  enrichment_score\n",
       "0  GLKQKIVIKVAMEGNNCRSKAMALVASTGGVDSVALVGDLRDKIEV...          1.468796\n",
       "1  GLKRIIVIKVAREGNNCRSKAMALVASTGGVDSVALVGDLRGKIEV...          1.415944\n",
       "2  GLKRIIVIKVAMEGNNCRSKAMALVASTGGVDSVALVGDLRGKIEV...          1.389615\n",
       "3  GLKQKIVIKVAMEGNNCRSKAMALVASTGGVDSVALVGDLRDKIEV...          1.359651\n",
       "4  GLKQKIVIKVAMEGNNCRSKAMALVASTGGVDSVALVGDLRGKIEV...          1.343857"
      ]
     },
     "execution_count": 1,
     "metadata": {},
     "output_type": "execute_result"
    }
   ],
   "source": [
    "import pandas as pd\n",
    "\n",
    "df = pd.read_csv('avrpikC_full.csv')\n",
    "\n",
    "df.head()"
   ]
  },
  {
   "cell_type": "code",
   "execution_count": 2,
   "id": "0c9613c4",
   "metadata": {},
   "outputs": [],
   "source": [
    "sequences = df.aa_sequence\n",
    "scores = df.enrichment_score"
   ]
  },
  {
   "cell_type": "code",
   "execution_count": 3,
   "id": "afccfeef",
   "metadata": {},
   "outputs": [],
   "source": [
    "import torch\n",
    "from torch.utils.data import Dataset\n",
    "from transformers import AutoTokenizer\n",
    "\n",
    "class BindingDataset(Dataset):\n",
    "    def __init__(self, sequences, scores):\n",
    "        # make sure sequence and scores have the same length\n",
    "        assert len(sequences) == len(scores), f\"Sequences and scores must be of the same length.\\nNumber of sequences: {len(sequences)}\\nNumber of scores: {len(scores)}\"\n",
    "        self.sequences = sequences\n",
    "        self.scores = scores\n",
    "        self.tokenizer = AutoTokenizer.from_pretrained(\"facebook/esm2_t12_35M_UR50D\")\n",
    "\n",
    "    def __len__(self):\n",
    "        return len(self.sequences)\n",
    "    \n",
    "    def __getitem__(self,idx):\n",
    "        sequence = self.sequences[idx]\n",
    "        label = torch.tensor(self.scores[idx], dtype=torch.float)\n",
    "\n",
    "        # tokenize the sequence\n",
    "        tokenized = self.tokenizer(\n",
    "            sequence,\n",
    "            max_length=80, # 78 residues + 2 extra tokens\n",
    "            return_tensors='pt'\n",
    "        )\n",
    "\n",
    "        # return input_ids: attention masks, removing the batch dimension\n",
    "        inputs = {key: val.squeeze(0) for key, val in tokenized.items()}\n",
    "\n",
    "        return inputs, label"
   ]
  },
  {
   "cell_type": "code",
   "execution_count": 4,
   "id": "99740828",
   "metadata": {},
   "outputs": [],
   "source": [
    "from torch.utils.data import random_split, DataLoader\n",
    "torch.manual_seed(42)\n",
    "torch.cuda.manual_seed(42)\n",
    "\n",
    "device = \"cuda\" if torch.cuda.is_available() else 'cpu'\n",
    "\n",
    "BATCH_SIZE = 12\n",
    "\n",
    "full_dataset = BindingDataset(sequences, scores)\n",
    "\n",
    "# split the data into train, val, and test sets\n",
    "train_size = int(0.8 * len(full_dataset))\n",
    "val_size = int(0.1 * len(full_dataset))\n",
    "test_size = len(full_dataset) - train_size - val_size\n",
    "training_pool, val_dataset, test_dataset = random_split(full_dataset, [train_size, val_size, test_size])\n",
    "\n",
    "# define dataloaders for val and test sets, train will be defined later for subsets\n",
    "val_dataloader = DataLoader(val_dataset, batch_size=BATCH_SIZE, shuffle=False)\n",
    "test_dataloader = DataLoader(test_dataset, batch_size=BATCH_SIZE, shuffle=False)"
   ]
  },
  {
   "cell_type": "markdown",
   "id": "8d3cdc9b",
   "metadata": {},
   "source": [
    "## Approach 1: Ensemble Predictions\n",
    "1. Initialize model 1: pretrained esm2 with a randomized binding head\n",
    "2. Train on an initial batch of 24 samples (test random and zero-shot predictions).\n",
    "    - Initial hyperparameters (note that during an actual active learning run, you can't change this in the middle of the campaign)\n",
    "        - optimizer: AdamW\n",
    "        - learning rate: 2e-5\n",
    "        - weight decay: 0.01\n",
    "        - early stopping\n",
    "3. Evaluate on validation set\n",
    "4. Evalutate on the rest of the available training pool\n",
    "5. Initialize model 2\n",
    "6. Repeat 2-5 until 5 models have been trained and used to evalutate\n",
    "7. Calculate variance of model predictions on each sequence in the training pool.\n",
    "8. Select the next 24 sequences with the highest variance.\n",
    "9. Reinitialize model 1 with pretrained esm2 and a freshly randomized binding head.\n",
    "10. Repeat ensemble training, evaluation, and acquisition"
   ]
  },
  {
   "cell_type": "markdown",
   "id": "25eff210",
   "metadata": {},
   "source": [
    "- Notes about alternative approaches for the baseline fine-tuning approach:\n",
    "    - Fine-tuning ESM2 is still under active research, and recent literature suggests that just using the CLS token for mutant effects may not be the best approach\n",
    "    - [ESM Effect](https://www.biorxiv.org/content/10.1101/2025.02.03.635741v1.full.pdf) details a framework for using the mutant token vectors as the basis for predicting mutant effects.\n",
    "        - Here, they use 35M model with last two layers unfrozen. They use the mutant tokens to predict mutant effects. They have a prediction head composed of two linear layers. However, their datasets are of deep mutational scans, so only one mutation. I would have to adapt this for higher numbers of mutations.\n",
    "            - to adapt it for a higher number of mutations, I could pool, concatenate, or use an attention mechanism\n",
    "- For now, I'm going to set up the active training loop using the standard CLS token approach (aka, what the AutoModelForSequenceClassification class does from the transformers library), but I will need to separately experiment with other approaches."
   ]
  },
  {
   "cell_type": "code",
   "execution_count": 5,
   "id": "7f789004",
   "metadata": {},
   "outputs": [],
   "source": [
    "from transformers import AutoModelForSequenceClassification\n",
    "from torch.nn import MSELoss\n",
    "from torch.optim import AdamW\n",
    "from tqdm import tqdm\n",
    "from torchmetrics.regression import SpearmanCorrCoef\n",
    "\n",
    "MODEL_NAME = \"facebook/esm2_t6_8M_UR50D\"\n",
    "LEARNING_RATE = 2e-5\n",
    "WEIGHT_DECAY = 0.01\n",
    "ES_PATIENCE = 8\n",
    "\n",
    "def initialize_HF_ESM2():\n",
    "    model = AutoModelForSequenceClassification.from_pretrained(MODEL_NAME, num_labels = 1)\n",
    "    # loss_fn = MSELoss() : HuggingFace automatically handles the loss\n",
    "    optimizer = AdamW(model.parameters(), lr=LEARNING_RATE)\n",
    "    spearman = SpearmanCorrCoef()\n",
    "    return model, optimizer, spearman #,loss_fn\n",
    "\n",
    "def train_step(model, optimizer, train_dataloader):\n",
    "    model.to(device)\n",
    "    model.train()\n",
    "    total_train_loss = 0\n",
    "    for inputs, labels in tqdm(train_dataloader, desc=f\"[Training]\"):\n",
    "        inputs = {k: v.to(device) for k, v in inputs.items()}\n",
    "        labels = labels.to(device)\n",
    "\n",
    "        optimizer.zero_grad()\n",
    "\n",
    "        outputs = model(**inputs, labels=labels)\n",
    "        loss = outputs.loss\n",
    "\n",
    "        loss.backward()\n",
    "        optimizer.step()\n",
    "\n",
    "        total_train_loss += loss.item()\n",
    "    \n",
    "    avg_train_loss = total_train_loss / len(train_dataloader)\n",
    "    return avg_train_loss\n",
    "\n",
    "def val_step(model, val_dataloader, spearman):\n",
    "    model.eval()\n",
    "    total_val_loss = 0\n",
    "\n",
    "    all_preds = []\n",
    "    all_labels = []\n",
    "\n",
    "    with torch.inference_mode():\n",
    "        for inputs, labels in tqdm(val_dataloader, desc=f\"[Validation]\"):\n",
    "            inputs = {k: v.to(device) for k, v in inputs.items()}\n",
    "            labels = labels.to(device)\n",
    "\n",
    "            outputs = model(**inputs, labels=labels)\n",
    "            preds = outputs.logits.squeeze() # to make sure dimensions are the same for spearman\n",
    "            loss = outputs.loss\n",
    "\n",
    "            total_val_loss += loss.item()\n",
    "\n",
    "            all_preds.append(preds.cpu())\n",
    "            all_labels.append(labels.cpu())\n",
    "\n",
    "    avg_val_loss = total_val_loss / len(val_dataloader)\n",
    "\n",
    "    all_preds = torch.cat(all_preds)\n",
    "    all_labels = torch.cat(all_labels)\n",
    "\n",
    "    spearmanr = spearman(all_preds, all_labels).item()\n",
    "\n",
    "    return avg_val_loss, spearmanr"
   ]
  },
  {
   "cell_type": "code",
   "execution_count": 6,
   "id": "143eab71",
   "metadata": {},
   "outputs": [],
   "source": [
    "def initialize_and_train_new_model(epochs, train_dataloader, val_dataloader):\n",
    "    model, optimizer, spearman = initialize_HF_ESM2()\n",
    "    for epoch in range(epochs):\n",
    "        print(f'\\nEpoch {epoch + 1}/{epochs}\\n----------------------------')\n",
    "        train_loss = train_step(model, optimizer, train_dataloader)\n",
    "        val_loss, spearmanr = val_step(model, val_dataloader, spearman)\n",
    "        print(f'Train Loss: {train_loss:.4f} | Val Loss: {val_loss:.4f} | SpearmanR: {spearmanr:.4f}')\n",
    "    return model"
   ]
  },
  {
   "cell_type": "code",
   "execution_count": 7,
   "id": "ce232e88",
   "metadata": {},
   "outputs": [],
   "source": [
    "import numpy as np\n",
    "from torch.utils.data import Subset\n",
    "\n",
    "def acquire_new_batch(dataset, n_samples_to_acquire, labeled_indices, unlabeled_indices, acquisition_scores=None):\n",
    "    # if initial batch, when there are no acquisition scores, select randomly\n",
    "    if acquisition_scores is None:\n",
    "        n_samples_to_acquire = min(n_samples_to_acquire, len(unlabeled_indices))\n",
    "        indices_to_acquire = np.random.choice(unlabeled_indices, size=n_samples_to_acquire, replace=False)\n",
    "    # else select based on top acquisition scores\n",
    "    else:\n",
    "        # make sure we don't overshoot samples to acquire if on the final batch\n",
    "        n_samples_to_acquire = min(n_samples_to_acquire, len(acquisition_scores))\n",
    "        # get the indicies of the top acquisition scores (num of samples)\n",
    "        top_k_indices = acquisition_scores.topk(n_samples_to_acquire).indices\n",
    "        # use these to find the indicies that map back to the original dataset\n",
    "        indices_to_acquire = unlabeled_indices[top_k_indices.cpu().numpy()]\n",
    "    \n",
    "    # update the indices lists\n",
    "    labeled_indices = np.concatenate([labeled_indices, indices_to_acquire])\n",
    "    unlabeled_indices = np.setdiff1d(unlabeled_indices, indices_to_acquire, assume_unique=True)\n",
    "    \n",
    "    # create new subsets and dataloaders\n",
    "    train_subset = Subset(dataset, labeled_indices.tolist())\n",
    "    pool_subset = Subset(dataset, unlabeled_indices.tolist())\n",
    "    train_dataloader = DataLoader(train_subset, batch_size=BATCH_SIZE, shuffle=True)\n",
    "    pool_dataloader = DataLoader(pool_subset, batch_size=BATCH_SIZE, shuffle=False)\n",
    "    \n",
    "    return train_dataloader, pool_dataloader, labeled_indices, unlabeled_indices"
   ]
  },
  {
   "cell_type": "code",
   "execution_count": 8,
   "id": "131b5a3f",
   "metadata": {},
   "outputs": [],
   "source": [
    "# get model predictions on unlabeled dataset given model and pool dataloader\n",
    "def get_model_predictions(model, pool_dataloader):\n",
    "    # set the model to eval mode\n",
    "    model.eval()\n",
    "    # define list to store predictions\n",
    "    all_preds = []\n",
    "    # set inference mode\n",
    "    with torch.inference_mode():\n",
    "        # iterate through pool loader\n",
    "        for inputs, labels in tqdm(pool_dataloader, desc=f\"[Surveying]\"):\n",
    "            # get model predictions, append them to list (num batches, batch size)\n",
    "            inputs = {k: v.to(device) for k, v in inputs.items()}\n",
    "            outputs = model(**inputs, labels=labels)\n",
    "            preds = outputs.logits\n",
    "            all_preds.append(preds.cpu())\n",
    "    # concat predictions from all batches for a single prediction tensor\n",
    "    all_preds = torch.cat(all_preds)\n",
    "    # return full prediction tensor\n",
    "    return all_preds"
   ]
  },
  {
   "cell_type": "code",
   "execution_count": 9,
   "id": "a1705809",
   "metadata": {},
   "outputs": [],
   "source": [
    "EPOCHS = 20\n",
    "# train ensemble given training dataloader, pool dataloader, validation set, and number of models\n",
    "def train_ensemble(n_models, train_dataloader, pool_dataloader, val_dataloader):\n",
    "    # define list to store ensemble predictions\n",
    "    ensemble_predictions = []\n",
    "    # for i in number of models\n",
    "    for i in range(n_models):\n",
    "        print(f\"Training Model {i+1}...\")\n",
    "        # set manual seed i\n",
    "        torch.manual_seed(i)\n",
    "        torch.cuda.manual_seed(i)\n",
    "        # initialize and train\n",
    "        model = initialize_and_train_new_model(EPOCHS, train_dataloader, val_dataloader)\n",
    "        # get model predictions on pool dataloader, append to list\n",
    "        print(f\"Using Model {i+1} to evaluate remaining training pool...\")\n",
    "        pool_preds = get_model_predictions(model, pool_dataloader)\n",
    "        ensemble_predictions.append(pool_preds)\n",
    "    # stack ensemble predictions to create tensor of shape (n_models, n_unlabeled_samples)\n",
    "    ensemble_predictions = torch.stack(ensemble_predictions, dim=0)\n",
    "    print(\"Ensemble training complete, submitting predictions for next cycle.\")\n",
    "    # return list of ensemble predictions\n",
    "    return ensemble_predictions"
   ]
  },
  {
   "cell_type": "code",
   "execution_count": 10,
   "id": "d105347c",
   "metadata": {},
   "outputs": [],
   "source": [
    "# get acquisition scores (variance) given model predictions\n",
    "def get_acquisition_scores(ensemble_predictions):\n",
    "    # calculate variance for each index\n",
    "    variances = torch.var(ensemble_predictions, dim=0)\n",
    "    # return list of acquisition scores\n",
    "    return variances.squeeze()"
   ]
  },
  {
   "cell_type": "code",
   "execution_count": 11,
   "id": "794bb19d",
   "metadata": {},
   "outputs": [],
   "source": [
    "NUM_MODELS = 5\n",
    "\n",
    "# run active learning campaign given num samples, num samples per batch\n",
    "def run_active_learning_campaign(n_samples, n_samples_per_batch, training_pool, val_dataloader):\n",
    "    # initialize index lists\n",
    "    total_pool_size = len(training_pool)\n",
    "    unlabeled_indices = np.arange(total_pool_size)\n",
    "    labeled_indices = np.array([], dtype=np.int64)\n",
    "\n",
    "    ensemble_predictions = None\n",
    "    \n",
    "    while len(labeled_indices) < n_samples and len(unlabeled_indices) > 0:\n",
    "        current_cycle = (len(labeled_indices) // n_samples_per_batch) + 1\n",
    "        print(f\"[Cycle {current_cycle}]\\n\")\n",
    "\n",
    "        # Pass the current index lists to the unified function\n",
    "        if ensemble_predictions is None:\n",
    "            print(f\"Choosing initial {n_samples_per_batch} samples randomly...\")\n",
    "            train_dataloader, pool_dataloader, labeled_indices, unlabeled_indices = acquire_new_batch(\n",
    "                training_pool, n_samples_per_batch, labeled_indices, unlabeled_indices, acquisition_scores=None\n",
    "            )\n",
    "        else:\n",
    "            scores = get_acquisition_scores(ensemble_predictions)\n",
    "            print(f\"Selecting new data points...\")\n",
    "            train_dataloader, pool_dataloader, labeled_indices, unlabeled_indices = acquire_new_batch(\n",
    "                training_pool, n_samples_per_batch, labeled_indices, unlabeled_indices, acquisition_scores=scores\n",
    "            )\n",
    "        \n",
    "        # Stop if the unlabeled pool is now empty\n",
    "        if len(unlabeled_indices) == 0:\n",
    "            print(\"Unlabeled pool is empty. Proceeding to final model training.\")\n",
    "            break\n",
    "\n",
    "        print(\"Starting ensemble training and pool evaluation...\")\n",
    "        ensemble_predictions = train_ensemble(NUM_MODELS, train_dataloader, pool_dataloader, val_dataloader)\n",
    "\n",
    "    print(\"\\nActive learning campaign complete.\")\n",
    "    print(f\"Training final model on {len(labeled_indices)} actively selected samples...\")\n",
    "    model = initialize_and_train_new_model(EPOCHS, train_dataloader, val_dataloader)\n",
    "    \n",
    "    return model"
   ]
  },
  {
   "cell_type": "code",
   "execution_count": 12,
   "id": "9977554a",
   "metadata": {},
   "outputs": [
    {
     "name": "stderr",
     "output_type": "stream",
     "text": [
      "Some weights of EsmForSequenceClassification were not initialized from the model checkpoint at facebook/esm2_t6_8M_UR50D and are newly initialized: ['classifier.dense.bias', 'classifier.dense.weight', 'classifier.out_proj.bias', 'classifier.out_proj.weight']\n",
      "You should probably TRAIN this model on a down-stream task to be able to use it for predictions and inference.\n"
     ]
    },
    {
     "name": "stdout",
     "output_type": "stream",
     "text": [
      "[Cycle 1]\n",
      "\n",
      "Choosing initial 24 samples randomly...\n",
      "Starting ensemble training and pool evaluation...\n",
      "Training Model 1...\n",
      "\n",
      "Epoch 1/20\n",
      "----------------------------\n"
     ]
    },
    {
     "name": "stderr",
     "output_type": "stream",
     "text": [
      "/home/oscar/miniconda3/envs/ml/lib/python3.11/site-packages/torchmetrics/utilities/prints.py:43: UserWarning: Metric `SpearmanCorrcoef` will save all targets and predictions in the buffer. For large datasets, this may lead to large memory footprint.\n",
      "  warnings.warn(*args, **kwargs)\n",
      "[Training]:   0%|          | 0/2 [00:00<?, ?it/s]Truncation was not explicitly activated but `max_length` is provided a specific value, please use `truncation=True` to explicitly truncate examples to max length. Defaulting to 'longest_first' truncation strategy. If you encode pairs of sequences (GLUE-style) with the tokenizer you can select this strategy more precisely by providing a specific strategy to `truncation`.\n",
      "[Training]: 100%|██████████| 2/2 [00:00<00:00,  3.21it/s]\n",
      "[Validation]: 100%|██████████| 33/33 [00:00<00:00, 151.88it/s]\n"
     ]
    },
    {
     "name": "stdout",
     "output_type": "stream",
     "text": [
      "Train Loss: 0.3040 | Val Loss: 0.2015 | SpearmanR: -0.2227\n",
      "\n",
      "Epoch 2/20\n",
      "----------------------------\n"
     ]
    },
    {
     "name": "stderr",
     "output_type": "stream",
     "text": [
      "[Training]: 100%|██████████| 2/2 [00:00<00:00, 52.74it/s]\n",
      "[Validation]: 100%|██████████| 33/33 [00:00<00:00, 146.63it/s]\n"
     ]
    },
    {
     "name": "stdout",
     "output_type": "stream",
     "text": [
      "Train Loss: 0.2819 | Val Loss: 0.1991 | SpearmanR: -0.2300\n",
      "\n",
      "Epoch 3/20\n",
      "----------------------------\n"
     ]
    },
    {
     "name": "stderr",
     "output_type": "stream",
     "text": [
      "[Training]: 100%|██████████| 2/2 [00:00<00:00, 52.32it/s]\n",
      "[Validation]: 100%|██████████| 33/33 [00:00<00:00, 154.01it/s]\n"
     ]
    },
    {
     "name": "stdout",
     "output_type": "stream",
     "text": [
      "Train Loss: 0.2598 | Val Loss: 0.2033 | SpearmanR: -0.2107\n",
      "\n",
      "Epoch 4/20\n",
      "----------------------------\n"
     ]
    },
    {
     "name": "stderr",
     "output_type": "stream",
     "text": [
      "[Training]: 100%|██████████| 2/2 [00:00<00:00, 51.19it/s]\n",
      "[Validation]: 100%|██████████| 33/33 [00:00<00:00, 150.96it/s]\n"
     ]
    },
    {
     "name": "stdout",
     "output_type": "stream",
     "text": [
      "Train Loss: 0.2489 | Val Loss: 0.2129 | SpearmanR: -0.1582\n",
      "\n",
      "Epoch 5/20\n",
      "----------------------------\n"
     ]
    },
    {
     "name": "stderr",
     "output_type": "stream",
     "text": [
      "[Training]: 100%|██████████| 2/2 [00:00<00:00, 47.42it/s]\n",
      "[Validation]: 100%|██████████| 33/33 [00:00<00:00, 145.44it/s]\n"
     ]
    },
    {
     "name": "stdout",
     "output_type": "stream",
     "text": [
      "Train Loss: 0.2436 | Val Loss: 0.2239 | SpearmanR: -0.0978\n",
      "\n",
      "Epoch 6/20\n",
      "----------------------------\n"
     ]
    },
    {
     "name": "stderr",
     "output_type": "stream",
     "text": [
      "[Training]: 100%|██████████| 2/2 [00:00<00:00, 52.37it/s]\n",
      "[Validation]: 100%|██████████| 33/33 [00:00<00:00, 154.21it/s]\n"
     ]
    },
    {
     "name": "stdout",
     "output_type": "stream",
     "text": [
      "Train Loss: 0.2502 | Val Loss: 0.2356 | SpearmanR: -0.0422\n",
      "\n",
      "Epoch 7/20\n",
      "----------------------------\n"
     ]
    },
    {
     "name": "stderr",
     "output_type": "stream",
     "text": [
      "[Training]: 100%|██████████| 2/2 [00:00<00:00, 53.47it/s]\n",
      "[Validation]: 100%|██████████| 33/33 [00:00<00:00, 154.21it/s]\n"
     ]
    },
    {
     "name": "stdout",
     "output_type": "stream",
     "text": [
      "Train Loss: 0.2465 | Val Loss: 0.2385 | SpearmanR: 0.0059\n",
      "\n",
      "Epoch 8/20\n",
      "----------------------------\n"
     ]
    },
    {
     "name": "stderr",
     "output_type": "stream",
     "text": [
      "[Training]: 100%|██████████| 2/2 [00:00<00:00, 51.72it/s]\n",
      "[Validation]: 100%|██████████| 33/33 [00:00<00:00, 150.87it/s]\n"
     ]
    },
    {
     "name": "stdout",
     "output_type": "stream",
     "text": [
      "Train Loss: 0.2458 | Val Loss: 0.2359 | SpearmanR: 0.0524\n",
      "\n",
      "Epoch 9/20\n",
      "----------------------------\n"
     ]
    },
    {
     "name": "stderr",
     "output_type": "stream",
     "text": [
      "[Training]: 100%|██████████| 2/2 [00:00<00:00, 51.78it/s]\n",
      "[Validation]: 100%|██████████| 33/33 [00:00<00:00, 150.97it/s]\n"
     ]
    },
    {
     "name": "stdout",
     "output_type": "stream",
     "text": [
      "Train Loss: 0.2439 | Val Loss: 0.2284 | SpearmanR: 0.0839\n",
      "\n",
      "Epoch 10/20\n",
      "----------------------------\n"
     ]
    },
    {
     "name": "stderr",
     "output_type": "stream",
     "text": [
      "[Training]: 100%|██████████| 2/2 [00:00<00:00, 52.46it/s]\n",
      "[Validation]: 100%|██████████| 33/33 [00:00<00:00, 150.92it/s]\n"
     ]
    },
    {
     "name": "stdout",
     "output_type": "stream",
     "text": [
      "Train Loss: 0.2418 | Val Loss: 0.2244 | SpearmanR: 0.1335\n",
      "\n",
      "Epoch 11/20\n",
      "----------------------------\n"
     ]
    },
    {
     "name": "stderr",
     "output_type": "stream",
     "text": [
      "[Training]: 100%|██████████| 2/2 [00:00<00:00, 53.66it/s]\n",
      "[Validation]: 100%|██████████| 33/33 [00:00<00:00, 155.25it/s]\n"
     ]
    },
    {
     "name": "stdout",
     "output_type": "stream",
     "text": [
      "Train Loss: 0.2414 | Val Loss: 0.2165 | SpearmanR: 0.1715\n",
      "\n",
      "Epoch 12/20\n",
      "----------------------------\n"
     ]
    },
    {
     "name": "stderr",
     "output_type": "stream",
     "text": [
      "[Training]: 100%|██████████| 2/2 [00:00<00:00, 53.76it/s]\n",
      "[Validation]: 100%|██████████| 33/33 [00:00<00:00, 155.76it/s]\n"
     ]
    },
    {
     "name": "stdout",
     "output_type": "stream",
     "text": [
      "Train Loss: 0.2381 | Val Loss: 0.2135 | SpearmanR: 0.2141\n",
      "\n",
      "Epoch 13/20\n",
      "----------------------------\n"
     ]
    },
    {
     "name": "stderr",
     "output_type": "stream",
     "text": [
      "[Training]: 100%|██████████| 2/2 [00:00<00:00, 52.95it/s]\n",
      "[Validation]: 100%|██████████| 33/33 [00:00<00:00, 155.64it/s]\n"
     ]
    },
    {
     "name": "stdout",
     "output_type": "stream",
     "text": [
      "Train Loss: 0.2370 | Val Loss: 0.2115 | SpearmanR: 0.2476\n",
      "\n",
      "Epoch 14/20\n",
      "----------------------------\n"
     ]
    },
    {
     "name": "stderr",
     "output_type": "stream",
     "text": [
      "[Training]: 100%|██████████| 2/2 [00:00<00:00, 49.90it/s]\n",
      "[Validation]: 100%|██████████| 33/33 [00:00<00:00, 151.31it/s]\n"
     ]
    },
    {
     "name": "stdout",
     "output_type": "stream",
     "text": [
      "Train Loss: 0.2326 | Val Loss: 0.2133 | SpearmanR: 0.2703\n",
      "\n",
      "Epoch 15/20\n",
      "----------------------------\n"
     ]
    },
    {
     "name": "stderr",
     "output_type": "stream",
     "text": [
      "[Training]: 100%|██████████| 2/2 [00:00<00:00, 53.06it/s]\n",
      "[Validation]: 100%|██████████| 33/33 [00:00<00:00, 155.18it/s]\n"
     ]
    },
    {
     "name": "stdout",
     "output_type": "stream",
     "text": [
      "Train Loss: 0.2343 | Val Loss: 0.2233 | SpearmanR: 0.2840\n",
      "\n",
      "Epoch 16/20\n",
      "----------------------------\n"
     ]
    },
    {
     "name": "stderr",
     "output_type": "stream",
     "text": [
      "[Training]: 100%|██████████| 2/2 [00:00<00:00, 52.01it/s]\n",
      "[Validation]: 100%|██████████| 33/33 [00:00<00:00, 154.74it/s]\n"
     ]
    },
    {
     "name": "stdout",
     "output_type": "stream",
     "text": [
      "Train Loss: 0.2250 | Val Loss: 0.2213 | SpearmanR: 0.3104\n",
      "\n",
      "Epoch 17/20\n",
      "----------------------------\n"
     ]
    },
    {
     "name": "stderr",
     "output_type": "stream",
     "text": [
      "[Training]: 100%|██████████| 2/2 [00:00<00:00, 50.96it/s]\n",
      "[Validation]: 100%|██████████| 33/33 [00:00<00:00, 152.49it/s]\n"
     ]
    },
    {
     "name": "stdout",
     "output_type": "stream",
     "text": [
      "Train Loss: 0.2182 | Val Loss: 0.2094 | SpearmanR: 0.3460\n",
      "\n",
      "Epoch 18/20\n",
      "----------------------------\n"
     ]
    },
    {
     "name": "stderr",
     "output_type": "stream",
     "text": [
      "[Training]: 100%|██████████| 2/2 [00:00<00:00, 52.94it/s]\n",
      "[Validation]: 100%|██████████| 33/33 [00:00<00:00, 156.13it/s]\n"
     ]
    },
    {
     "name": "stdout",
     "output_type": "stream",
     "text": [
      "Train Loss: 0.2087 | Val Loss: 0.1978 | SpearmanR: 0.3740\n",
      "\n",
      "Epoch 19/20\n",
      "----------------------------\n"
     ]
    },
    {
     "name": "stderr",
     "output_type": "stream",
     "text": [
      "[Training]: 100%|██████████| 2/2 [00:00<00:00, 51.56it/s]\n",
      "[Validation]: 100%|██████████| 33/33 [00:00<00:00, 152.50it/s]\n"
     ]
    },
    {
     "name": "stdout",
     "output_type": "stream",
     "text": [
      "Train Loss: 0.1976 | Val Loss: 0.1985 | SpearmanR: 0.3889\n",
      "\n",
      "Epoch 20/20\n",
      "----------------------------\n"
     ]
    },
    {
     "name": "stderr",
     "output_type": "stream",
     "text": [
      "[Training]: 100%|██████████| 2/2 [00:00<00:00, 52.23it/s]\n",
      "[Validation]: 100%|██████████| 33/33 [00:00<00:00, 157.60it/s]\n"
     ]
    },
    {
     "name": "stdout",
     "output_type": "stream",
     "text": [
      "Train Loss: 0.1778 | Val Loss: 0.1899 | SpearmanR: 0.4010\n",
      "Using Model 1 to evaluate remaining training pool...\n"
     ]
    },
    {
     "name": "stderr",
     "output_type": "stream",
     "text": [
      "[Surveying]: 100%|██████████| 262/262 [00:01<00:00, 152.97it/s]\n",
      "Some weights of EsmForSequenceClassification were not initialized from the model checkpoint at facebook/esm2_t6_8M_UR50D and are newly initialized: ['classifier.dense.bias', 'classifier.dense.weight', 'classifier.out_proj.bias', 'classifier.out_proj.weight']\n",
      "You should probably TRAIN this model on a down-stream task to be able to use it for predictions and inference.\n"
     ]
    },
    {
     "name": "stdout",
     "output_type": "stream",
     "text": [
      "Training Model 2...\n",
      "\n",
      "Epoch 1/20\n",
      "----------------------------\n"
     ]
    },
    {
     "name": "stderr",
     "output_type": "stream",
     "text": [
      "[Training]: 100%|██████████| 2/2 [00:00<00:00, 38.00it/s]\n",
      "[Validation]: 100%|██████████| 33/33 [00:00<00:00, 144.65it/s]\n"
     ]
    },
    {
     "name": "stdout",
     "output_type": "stream",
     "text": [
      "Train Loss: 0.2872 | Val Loss: 0.1986 | SpearmanR: -0.0601\n",
      "\n",
      "Epoch 2/20\n",
      "----------------------------\n"
     ]
    },
    {
     "name": "stderr",
     "output_type": "stream",
     "text": [
      "[Training]: 100%|██████████| 2/2 [00:00<00:00, 51.00it/s]\n",
      "[Validation]: 100%|██████████| 33/33 [00:00<00:00, 132.68it/s]\n"
     ]
    },
    {
     "name": "stdout",
     "output_type": "stream",
     "text": [
      "Train Loss: 0.2651 | Val Loss: 0.2012 | SpearmanR: -0.0183\n",
      "\n",
      "Epoch 3/20\n",
      "----------------------------\n"
     ]
    },
    {
     "name": "stderr",
     "output_type": "stream",
     "text": [
      "[Training]: 100%|██████████| 2/2 [00:00<00:00, 50.19it/s]\n",
      "[Validation]: 100%|██████████| 33/33 [00:00<00:00, 139.34it/s]\n"
     ]
    },
    {
     "name": "stdout",
     "output_type": "stream",
     "text": [
      "Train Loss: 0.2499 | Val Loss: 0.2064 | SpearmanR: 0.0292\n",
      "\n",
      "Epoch 4/20\n",
      "----------------------------\n"
     ]
    },
    {
     "name": "stderr",
     "output_type": "stream",
     "text": [
      "[Training]: 100%|██████████| 2/2 [00:00<00:00, 51.53it/s]\n",
      "[Validation]: 100%|██████████| 33/33 [00:00<00:00, 123.37it/s]\n"
     ]
    },
    {
     "name": "stdout",
     "output_type": "stream",
     "text": [
      "Train Loss: 0.2479 | Val Loss: 0.2163 | SpearmanR: 0.0632\n",
      "\n",
      "Epoch 5/20\n",
      "----------------------------\n"
     ]
    },
    {
     "name": "stderr",
     "output_type": "stream",
     "text": [
      "[Training]: 100%|██████████| 2/2 [00:00<00:00, 44.42it/s]\n",
      "[Validation]: 100%|██████████| 33/33 [00:00<00:00, 128.67it/s]\n"
     ]
    },
    {
     "name": "stdout",
     "output_type": "stream",
     "text": [
      "Train Loss: 0.2451 | Val Loss: 0.2268 | SpearmanR: 0.1022\n",
      "\n",
      "Epoch 6/20\n",
      "----------------------------\n"
     ]
    },
    {
     "name": "stderr",
     "output_type": "stream",
     "text": [
      "[Training]: 100%|██████████| 2/2 [00:00<00:00, 50.77it/s]\n",
      "[Validation]: 100%|██████████| 33/33 [00:00<00:00, 133.67it/s]\n"
     ]
    },
    {
     "name": "stdout",
     "output_type": "stream",
     "text": [
      "Train Loss: 0.2439 | Val Loss: 0.2324 | SpearmanR: 0.1202\n",
      "\n",
      "Epoch 7/20\n",
      "----------------------------\n"
     ]
    },
    {
     "name": "stderr",
     "output_type": "stream",
     "text": [
      "[Training]: 100%|██████████| 2/2 [00:00<00:00, 52.49it/s]\n",
      "[Validation]: 100%|██████████| 33/33 [00:00<00:00, 147.91it/s]\n"
     ]
    },
    {
     "name": "stdout",
     "output_type": "stream",
     "text": [
      "Train Loss: 0.2434 | Val Loss: 0.2312 | SpearmanR: 0.1196\n",
      "\n",
      "Epoch 8/20\n",
      "----------------------------\n"
     ]
    },
    {
     "name": "stderr",
     "output_type": "stream",
     "text": [
      "[Training]: 100%|██████████| 2/2 [00:00<00:00, 48.79it/s]\n",
      "[Validation]: 100%|██████████| 33/33 [00:00<00:00, 133.16it/s]\n"
     ]
    },
    {
     "name": "stdout",
     "output_type": "stream",
     "text": [
      "Train Loss: 0.2412 | Val Loss: 0.2260 | SpearmanR: 0.1347\n",
      "\n",
      "Epoch 9/20\n",
      "----------------------------\n"
     ]
    },
    {
     "name": "stderr",
     "output_type": "stream",
     "text": [
      "[Training]: 100%|██████████| 2/2 [00:00<00:00, 49.51it/s]\n",
      "[Validation]: 100%|██████████| 33/33 [00:00<00:00, 136.76it/s]\n"
     ]
    },
    {
     "name": "stdout",
     "output_type": "stream",
     "text": [
      "Train Loss: 0.2386 | Val Loss: 0.2179 | SpearmanR: 0.1682\n",
      "\n",
      "Epoch 10/20\n",
      "----------------------------\n"
     ]
    },
    {
     "name": "stderr",
     "output_type": "stream",
     "text": [
      "[Training]: 100%|██████████| 2/2 [00:00<00:00, 48.71it/s]\n",
      "[Validation]: 100%|██████████| 33/33 [00:00<00:00, 127.21it/s]\n"
     ]
    },
    {
     "name": "stdout",
     "output_type": "stream",
     "text": [
      "Train Loss: 0.2355 | Val Loss: 0.2126 | SpearmanR: 0.2101\n",
      "\n",
      "Epoch 11/20\n",
      "----------------------------\n"
     ]
    },
    {
     "name": "stderr",
     "output_type": "stream",
     "text": [
      "[Training]: 100%|██████████| 2/2 [00:00<00:00, 49.15it/s]\n",
      "[Validation]: 100%|██████████| 33/33 [00:00<00:00, 157.53it/s]\n"
     ]
    },
    {
     "name": "stdout",
     "output_type": "stream",
     "text": [
      "Train Loss: 0.2303 | Val Loss: 0.2120 | SpearmanR: 0.2728\n",
      "\n",
      "Epoch 12/20\n",
      "----------------------------\n"
     ]
    },
    {
     "name": "stderr",
     "output_type": "stream",
     "text": [
      "[Training]: 100%|██████████| 2/2 [00:00<00:00, 41.45it/s]\n",
      "[Validation]: 100%|██████████| 33/33 [00:00<00:00, 157.43it/s]\n"
     ]
    },
    {
     "name": "stdout",
     "output_type": "stream",
     "text": [
      "Train Loss: 0.2230 | Val Loss: 0.2100 | SpearmanR: 0.3093\n",
      "\n",
      "Epoch 13/20\n",
      "----------------------------\n"
     ]
    },
    {
     "name": "stderr",
     "output_type": "stream",
     "text": [
      "[Training]: 100%|██████████| 2/2 [00:00<00:00, 54.09it/s]\n",
      "[Validation]: 100%|██████████| 33/33 [00:00<00:00, 156.36it/s]\n"
     ]
    },
    {
     "name": "stdout",
     "output_type": "stream",
     "text": [
      "Train Loss: 0.2100 | Val Loss: 0.2147 | SpearmanR: 0.3298\n",
      "\n",
      "Epoch 14/20\n",
      "----------------------------\n"
     ]
    },
    {
     "name": "stderr",
     "output_type": "stream",
     "text": [
      "[Training]: 100%|██████████| 2/2 [00:00<00:00, 53.50it/s]\n",
      "[Validation]: 100%|██████████| 33/33 [00:00<00:00, 142.96it/s]\n"
     ]
    },
    {
     "name": "stdout",
     "output_type": "stream",
     "text": [
      "Train Loss: 0.1996 | Val Loss: 0.1986 | SpearmanR: 0.3345\n",
      "\n",
      "Epoch 15/20\n",
      "----------------------------\n"
     ]
    },
    {
     "name": "stderr",
     "output_type": "stream",
     "text": [
      "[Training]: 100%|██████████| 2/2 [00:00<00:00, 53.87it/s]\n",
      "[Validation]: 100%|██████████| 33/33 [00:00<00:00, 138.67it/s]\n"
     ]
    },
    {
     "name": "stdout",
     "output_type": "stream",
     "text": [
      "Train Loss: 0.1836 | Val Loss: 0.1856 | SpearmanR: 0.3450\n",
      "\n",
      "Epoch 16/20\n",
      "----------------------------\n"
     ]
    },
    {
     "name": "stderr",
     "output_type": "stream",
     "text": [
      "[Training]: 100%|██████████| 2/2 [00:00<00:00, 52.81it/s]\n",
      "[Validation]: 100%|██████████| 33/33 [00:00<00:00, 158.13it/s]\n"
     ]
    },
    {
     "name": "stdout",
     "output_type": "stream",
     "text": [
      "Train Loss: 0.1520 | Val Loss: 0.1887 | SpearmanR: 0.3561\n",
      "\n",
      "Epoch 17/20\n",
      "----------------------------\n"
     ]
    },
    {
     "name": "stderr",
     "output_type": "stream",
     "text": [
      "[Training]: 100%|██████████| 2/2 [00:00<00:00, 44.44it/s]\n",
      "[Validation]: 100%|██████████| 33/33 [00:00<00:00, 160.99it/s]\n"
     ]
    },
    {
     "name": "stdout",
     "output_type": "stream",
     "text": [
      "Train Loss: 0.1311 | Val Loss: 0.1721 | SpearmanR: 0.3791\n",
      "\n",
      "Epoch 18/20\n",
      "----------------------------\n"
     ]
    },
    {
     "name": "stderr",
     "output_type": "stream",
     "text": [
      "[Training]: 100%|██████████| 2/2 [00:00<00:00, 51.28it/s]\n",
      "[Validation]: 100%|██████████| 33/33 [00:00<00:00, 128.34it/s]\n"
     ]
    },
    {
     "name": "stdout",
     "output_type": "stream",
     "text": [
      "Train Loss: 0.1112 | Val Loss: 0.1707 | SpearmanR: 0.3970\n",
      "\n",
      "Epoch 19/20\n",
      "----------------------------\n"
     ]
    },
    {
     "name": "stderr",
     "output_type": "stream",
     "text": [
      "[Training]: 100%|██████████| 2/2 [00:00<00:00, 44.54it/s]\n",
      "[Validation]: 100%|██████████| 33/33 [00:00<00:00, 133.21it/s]\n"
     ]
    },
    {
     "name": "stdout",
     "output_type": "stream",
     "text": [
      "Train Loss: 0.0938 | Val Loss: 0.1754 | SpearmanR: 0.3877\n",
      "\n",
      "Epoch 20/20\n",
      "----------------------------\n"
     ]
    },
    {
     "name": "stderr",
     "output_type": "stream",
     "text": [
      "[Training]: 100%|██████████| 2/2 [00:00<00:00, 54.62it/s]\n",
      "[Validation]: 100%|██████████| 33/33 [00:00<00:00, 159.64it/s]\n"
     ]
    },
    {
     "name": "stdout",
     "output_type": "stream",
     "text": [
      "Train Loss: 0.0850 | Val Loss: 0.1643 | SpearmanR: 0.4129\n",
      "Using Model 2 to evaluate remaining training pool...\n"
     ]
    },
    {
     "name": "stderr",
     "output_type": "stream",
     "text": [
      "[Surveying]: 100%|██████████| 262/262 [00:01<00:00, 141.34it/s]\n",
      "Some weights of EsmForSequenceClassification were not initialized from the model checkpoint at facebook/esm2_t6_8M_UR50D and are newly initialized: ['classifier.dense.bias', 'classifier.dense.weight', 'classifier.out_proj.bias', 'classifier.out_proj.weight']\n",
      "You should probably TRAIN this model on a down-stream task to be able to use it for predictions and inference.\n"
     ]
    },
    {
     "name": "stdout",
     "output_type": "stream",
     "text": [
      "Training Model 3...\n",
      "\n",
      "Epoch 1/20\n",
      "----------------------------\n"
     ]
    },
    {
     "name": "stderr",
     "output_type": "stream",
     "text": [
      "[Training]: 100%|██████████| 2/2 [00:00<00:00, 51.11it/s]\n",
      "[Validation]: 100%|██████████| 33/33 [00:00<00:00, 163.51it/s]\n"
     ]
    },
    {
     "name": "stdout",
     "output_type": "stream",
     "text": [
      "Train Loss: 0.3050 | Val Loss: 0.2043 | SpearmanR: -0.1071\n",
      "\n",
      "Epoch 2/20\n",
      "----------------------------\n"
     ]
    },
    {
     "name": "stderr",
     "output_type": "stream",
     "text": [
      "[Training]: 100%|██████████| 2/2 [00:00<00:00, 51.51it/s]\n",
      "[Validation]: 100%|██████████| 33/33 [00:00<00:00, 161.27it/s]\n"
     ]
    },
    {
     "name": "stdout",
     "output_type": "stream",
     "text": [
      "Train Loss: 0.2872 | Val Loss: 0.1998 | SpearmanR: -0.0882\n",
      "\n",
      "Epoch 3/20\n",
      "----------------------------\n"
     ]
    },
    {
     "name": "stderr",
     "output_type": "stream",
     "text": [
      "[Training]: 100%|██████████| 2/2 [00:00<00:00, 53.99it/s]\n",
      "[Validation]: 100%|██████████| 33/33 [00:00<00:00, 154.47it/s]\n"
     ]
    },
    {
     "name": "stdout",
     "output_type": "stream",
     "text": [
      "Train Loss: 0.2708 | Val Loss: 0.1985 | SpearmanR: 0.0108\n",
      "\n",
      "Epoch 4/20\n",
      "----------------------------\n"
     ]
    },
    {
     "name": "stderr",
     "output_type": "stream",
     "text": [
      "[Training]: 100%|██████████| 2/2 [00:00<00:00, 53.66it/s]\n",
      "[Validation]: 100%|██████████| 33/33 [00:00<00:00, 161.00it/s]\n"
     ]
    },
    {
     "name": "stdout",
     "output_type": "stream",
     "text": [
      "Train Loss: 0.2626 | Val Loss: 0.2003 | SpearmanR: 0.0537\n",
      "\n",
      "Epoch 5/20\n",
      "----------------------------\n"
     ]
    },
    {
     "name": "stderr",
     "output_type": "stream",
     "text": [
      "[Training]: 100%|██████████| 2/2 [00:00<00:00, 45.58it/s]\n",
      "[Validation]: 100%|██████████| 33/33 [00:00<00:00, 149.32it/s]\n"
     ]
    },
    {
     "name": "stdout",
     "output_type": "stream",
     "text": [
      "Train Loss: 0.2504 | Val Loss: 0.2044 | SpearmanR: 0.0723\n",
      "\n",
      "Epoch 6/20\n",
      "----------------------------\n"
     ]
    },
    {
     "name": "stderr",
     "output_type": "stream",
     "text": [
      "[Training]: 100%|██████████| 2/2 [00:00<00:00, 48.75it/s]\n",
      "[Validation]: 100%|██████████| 33/33 [00:00<00:00, 158.81it/s]\n"
     ]
    },
    {
     "name": "stdout",
     "output_type": "stream",
     "text": [
      "Train Loss: 0.2460 | Val Loss: 0.2115 | SpearmanR: 0.0880\n",
      "\n",
      "Epoch 7/20\n",
      "----------------------------\n"
     ]
    },
    {
     "name": "stderr",
     "output_type": "stream",
     "text": [
      "[Training]: 100%|██████████| 2/2 [00:00<00:00, 54.60it/s]\n",
      "[Validation]: 100%|██████████| 33/33 [00:00<00:00, 162.60it/s]\n"
     ]
    },
    {
     "name": "stdout",
     "output_type": "stream",
     "text": [
      "Train Loss: 0.2446 | Val Loss: 0.2206 | SpearmanR: 0.1033\n",
      "\n",
      "Epoch 8/20\n",
      "----------------------------\n"
     ]
    },
    {
     "name": "stderr",
     "output_type": "stream",
     "text": [
      "[Training]: 100%|██████████| 2/2 [00:00<00:00, 45.81it/s]\n",
      "[Validation]: 100%|██████████| 33/33 [00:00<00:00, 161.51it/s]\n"
     ]
    },
    {
     "name": "stdout",
     "output_type": "stream",
     "text": [
      "Train Loss: 0.2395 | Val Loss: 0.2262 | SpearmanR: 0.1098\n",
      "\n",
      "Epoch 9/20\n",
      "----------------------------\n"
     ]
    },
    {
     "name": "stderr",
     "output_type": "stream",
     "text": [
      "[Training]: 100%|██████████| 2/2 [00:00<00:00, 54.46it/s]\n",
      "[Validation]: 100%|██████████| 33/33 [00:00<00:00, 163.64it/s]\n"
     ]
    },
    {
     "name": "stdout",
     "output_type": "stream",
     "text": [
      "Train Loss: 0.2393 | Val Loss: 0.2295 | SpearmanR: 0.1285\n",
      "\n",
      "Epoch 10/20\n",
      "----------------------------\n"
     ]
    },
    {
     "name": "stderr",
     "output_type": "stream",
     "text": [
      "[Training]: 100%|██████████| 2/2 [00:00<00:00, 46.60it/s]\n",
      "[Validation]: 100%|██████████| 33/33 [00:00<00:00, 132.56it/s]\n"
     ]
    },
    {
     "name": "stdout",
     "output_type": "stream",
     "text": [
      "Train Loss: 0.2371 | Val Loss: 0.2273 | SpearmanR: 0.1543\n",
      "\n",
      "Epoch 11/20\n",
      "----------------------------\n"
     ]
    },
    {
     "name": "stderr",
     "output_type": "stream",
     "text": [
      "[Training]: 100%|██████████| 2/2 [00:00<00:00, 55.13it/s]\n",
      "[Validation]: 100%|██████████| 33/33 [00:00<00:00, 163.14it/s]\n"
     ]
    },
    {
     "name": "stdout",
     "output_type": "stream",
     "text": [
      "Train Loss: 0.2329 | Val Loss: 0.2233 | SpearmanR: 0.2038\n",
      "\n",
      "Epoch 12/20\n",
      "----------------------------\n"
     ]
    },
    {
     "name": "stderr",
     "output_type": "stream",
     "text": [
      "[Training]: 100%|██████████| 2/2 [00:00<00:00, 54.72it/s]\n",
      "[Validation]: 100%|██████████| 33/33 [00:00<00:00, 158.01it/s]\n"
     ]
    },
    {
     "name": "stdout",
     "output_type": "stream",
     "text": [
      "Train Loss: 0.2266 | Val Loss: 0.2181 | SpearmanR: 0.2573\n",
      "\n",
      "Epoch 13/20\n",
      "----------------------------\n"
     ]
    },
    {
     "name": "stderr",
     "output_type": "stream",
     "text": [
      "[Training]: 100%|██████████| 2/2 [00:00<00:00, 53.02it/s]\n",
      "[Validation]: 100%|██████████| 33/33 [00:00<00:00, 161.66it/s]\n"
     ]
    },
    {
     "name": "stdout",
     "output_type": "stream",
     "text": [
      "Train Loss: 0.2194 | Val Loss: 0.2112 | SpearmanR: 0.2916\n",
      "\n",
      "Epoch 14/20\n",
      "----------------------------\n"
     ]
    },
    {
     "name": "stderr",
     "output_type": "stream",
     "text": [
      "[Training]: 100%|██████████| 2/2 [00:00<00:00, 53.92it/s]\n",
      "[Validation]: 100%|██████████| 33/33 [00:00<00:00, 161.25it/s]\n"
     ]
    },
    {
     "name": "stdout",
     "output_type": "stream",
     "text": [
      "Train Loss: 0.2138 | Val Loss: 0.2180 | SpearmanR: 0.3046\n",
      "\n",
      "Epoch 15/20\n",
      "----------------------------\n"
     ]
    },
    {
     "name": "stderr",
     "output_type": "stream",
     "text": [
      "[Training]: 100%|██████████| 2/2 [00:00<00:00, 50.90it/s]\n",
      "[Validation]: 100%|██████████| 33/33 [00:00<00:00, 149.35it/s]\n"
     ]
    },
    {
     "name": "stdout",
     "output_type": "stream",
     "text": [
      "Train Loss: 0.1972 | Val Loss: 0.1972 | SpearmanR: 0.3222\n",
      "\n",
      "Epoch 16/20\n",
      "----------------------------\n"
     ]
    },
    {
     "name": "stderr",
     "output_type": "stream",
     "text": [
      "[Training]: 100%|██████████| 2/2 [00:00<00:00, 54.65it/s]\n",
      "[Validation]: 100%|██████████| 33/33 [00:00<00:00, -41.04it/s]\n"
     ]
    },
    {
     "name": "stdout",
     "output_type": "stream",
     "text": [
      "Train Loss: 0.1792 | Val Loss: 0.1964 | SpearmanR: 0.3311\n",
      "\n",
      "Epoch 17/20\n",
      "----------------------------\n"
     ]
    },
    {
     "name": "stderr",
     "output_type": "stream",
     "text": [
      "[Training]: 100%|██████████| 2/2 [00:00<00:00, 53.86it/s]\n",
      "[Validation]: 100%|██████████| 33/33 [00:00<00:00, 152.22it/s]\n"
     ]
    },
    {
     "name": "stdout",
     "output_type": "stream",
     "text": [
      "Train Loss: 0.1554 | Val Loss: 0.2038 | SpearmanR: 0.3387\n",
      "\n",
      "Epoch 18/20\n",
      "----------------------------\n"
     ]
    },
    {
     "name": "stderr",
     "output_type": "stream",
     "text": [
      "[Training]: 100%|██████████| 2/2 [00:00<00:00, 53.82it/s]\n",
      "[Validation]: 100%|██████████| 33/33 [00:00<00:00, 163.82it/s]\n"
     ]
    },
    {
     "name": "stdout",
     "output_type": "stream",
     "text": [
      "Train Loss: 0.1367 | Val Loss: 0.1842 | SpearmanR: 0.3590\n",
      "\n",
      "Epoch 19/20\n",
      "----------------------------\n"
     ]
    },
    {
     "name": "stderr",
     "output_type": "stream",
     "text": [
      "[Training]: 100%|██████████| 2/2 [00:00<00:00, 46.98it/s]\n",
      "[Validation]: 100%|██████████| 33/33 [00:00<00:00, 160.56it/s]\n"
     ]
    },
    {
     "name": "stdout",
     "output_type": "stream",
     "text": [
      "Train Loss: 0.1194 | Val Loss: 0.1875 | SpearmanR: 0.3742\n",
      "\n",
      "Epoch 20/20\n",
      "----------------------------\n"
     ]
    },
    {
     "name": "stderr",
     "output_type": "stream",
     "text": [
      "[Training]: 100%|██████████| 2/2 [00:00<00:00, 54.02it/s]\n",
      "[Validation]: 100%|██████████| 33/33 [00:00<00:00, 150.54it/s]\n"
     ]
    },
    {
     "name": "stdout",
     "output_type": "stream",
     "text": [
      "Train Loss: 0.0988 | Val Loss: 0.1762 | SpearmanR: 0.3844\n",
      "Using Model 3 to evaluate remaining training pool...\n"
     ]
    },
    {
     "name": "stderr",
     "output_type": "stream",
     "text": [
      "[Surveying]: 100%|██████████| 262/262 [00:01<00:00, 149.63it/s]\n",
      "Some weights of EsmForSequenceClassification were not initialized from the model checkpoint at facebook/esm2_t6_8M_UR50D and are newly initialized: ['classifier.dense.bias', 'classifier.dense.weight', 'classifier.out_proj.bias', 'classifier.out_proj.weight']\n",
      "You should probably TRAIN this model on a down-stream task to be able to use it for predictions and inference.\n"
     ]
    },
    {
     "name": "stdout",
     "output_type": "stream",
     "text": [
      "Training Model 4...\n",
      "\n",
      "Epoch 1/20\n",
      "----------------------------\n"
     ]
    },
    {
     "name": "stderr",
     "output_type": "stream",
     "text": [
      "[Training]: 100%|██████████| 2/2 [00:00<00:00, 43.88it/s]\n",
      "[Validation]: 100%|██████████| 33/33 [00:00<00:00, 162.44it/s]\n"
     ]
    },
    {
     "name": "stdout",
     "output_type": "stream",
     "text": [
      "Train Loss: 0.2913 | Val Loss: 0.1997 | SpearmanR: 0.0957\n",
      "\n",
      "Epoch 2/20\n",
      "----------------------------\n"
     ]
    },
    {
     "name": "stderr",
     "output_type": "stream",
     "text": [
      "[Training]: 100%|██████████| 2/2 [00:00<00:00, 53.14it/s]\n",
      "[Validation]: 100%|██████████| 33/33 [00:00<00:00, 157.48it/s]\n"
     ]
    },
    {
     "name": "stdout",
     "output_type": "stream",
     "text": [
      "Train Loss: 0.2735 | Val Loss: 0.1983 | SpearmanR: 0.1621\n",
      "\n",
      "Epoch 3/20\n",
      "----------------------------\n"
     ]
    },
    {
     "name": "stderr",
     "output_type": "stream",
     "text": [
      "[Training]: 100%|██████████| 2/2 [00:00<00:00, 53.74it/s]\n",
      "[Validation]: 100%|██████████| 33/33 [00:00<00:00, 161.53it/s]\n"
     ]
    },
    {
     "name": "stdout",
     "output_type": "stream",
     "text": [
      "Train Loss: 0.2585 | Val Loss: 0.2003 | SpearmanR: 0.1923\n",
      "\n",
      "Epoch 4/20\n",
      "----------------------------\n"
     ]
    },
    {
     "name": "stderr",
     "output_type": "stream",
     "text": [
      "[Training]: 100%|██████████| 2/2 [00:00<00:00, 50.54it/s]\n",
      "[Validation]: 100%|██████████| 33/33 [00:00<00:00, 163.47it/s]\n"
     ]
    },
    {
     "name": "stdout",
     "output_type": "stream",
     "text": [
      "Train Loss: 0.2521 | Val Loss: 0.2045 | SpearmanR: 0.2088\n",
      "\n",
      "Epoch 5/20\n",
      "----------------------------\n"
     ]
    },
    {
     "name": "stderr",
     "output_type": "stream",
     "text": [
      "[Training]: 100%|██████████| 2/2 [00:00<00:00, 52.27it/s]\n",
      "[Validation]: 100%|██████████| 33/33 [00:00<00:00, 161.39it/s]\n"
     ]
    },
    {
     "name": "stdout",
     "output_type": "stream",
     "text": [
      "Train Loss: 0.2474 | Val Loss: 0.2102 | SpearmanR: 0.2237\n",
      "\n",
      "Epoch 6/20\n",
      "----------------------------\n"
     ]
    },
    {
     "name": "stderr",
     "output_type": "stream",
     "text": [
      "[Training]: 100%|██████████| 2/2 [00:00<00:00, 44.67it/s]\n",
      "[Validation]: 100%|██████████| 33/33 [00:00<00:00, 141.75it/s]\n"
     ]
    },
    {
     "name": "stdout",
     "output_type": "stream",
     "text": [
      "Train Loss: 0.2426 | Val Loss: 0.2127 | SpearmanR: 0.2472\n",
      "\n",
      "Epoch 7/20\n",
      "----------------------------\n"
     ]
    },
    {
     "name": "stderr",
     "output_type": "stream",
     "text": [
      "[Training]: 100%|██████████| 2/2 [00:00<00:00, 38.77it/s]\n",
      "[Validation]: 100%|██████████| 33/33 [00:00<00:00, 153.83it/s]\n"
     ]
    },
    {
     "name": "stdout",
     "output_type": "stream",
     "text": [
      "Train Loss: 0.2405 | Val Loss: 0.2175 | SpearmanR: 0.2836\n",
      "\n",
      "Epoch 8/20\n",
      "----------------------------\n"
     ]
    },
    {
     "name": "stderr",
     "output_type": "stream",
     "text": [
      "[Training]: 100%|██████████| 2/2 [00:00<00:00, 52.23it/s]\n",
      "[Validation]: 100%|██████████| 33/33 [00:00<00:00, 157.92it/s]\n"
     ]
    },
    {
     "name": "stdout",
     "output_type": "stream",
     "text": [
      "Train Loss: 0.2362 | Val Loss: 0.2205 | SpearmanR: 0.2523\n",
      "\n",
      "Epoch 9/20\n",
      "----------------------------\n"
     ]
    },
    {
     "name": "stderr",
     "output_type": "stream",
     "text": [
      "[Training]: 100%|██████████| 2/2 [00:00<00:00, 53.48it/s]\n",
      "[Validation]: 100%|██████████| 33/33 [00:00<00:00, 153.62it/s]\n"
     ]
    },
    {
     "name": "stdout",
     "output_type": "stream",
     "text": [
      "Train Loss: 0.2323 | Val Loss: 0.2126 | SpearmanR: 0.3060\n",
      "\n",
      "Epoch 10/20\n",
      "----------------------------\n"
     ]
    },
    {
     "name": "stderr",
     "output_type": "stream",
     "text": [
      "[Training]: 100%|██████████| 2/2 [00:00<00:00, 53.82it/s]\n",
      "[Validation]: 100%|██████████| 33/33 [00:00<00:00, 161.88it/s]\n"
     ]
    },
    {
     "name": "stdout",
     "output_type": "stream",
     "text": [
      "Train Loss: 0.2286 | Val Loss: 0.2113 | SpearmanR: 0.2684\n",
      "\n",
      "Epoch 11/20\n",
      "----------------------------\n"
     ]
    },
    {
     "name": "stderr",
     "output_type": "stream",
     "text": [
      "[Training]: 100%|██████████| 2/2 [00:00<00:00, 44.54it/s]\n",
      "[Validation]: 100%|██████████| 33/33 [00:00<00:00, 161.94it/s]\n"
     ]
    },
    {
     "name": "stdout",
     "output_type": "stream",
     "text": [
      "Train Loss: 0.2137 | Val Loss: 0.2130 | SpearmanR: 0.2652\n",
      "\n",
      "Epoch 12/20\n",
      "----------------------------\n"
     ]
    },
    {
     "name": "stderr",
     "output_type": "stream",
     "text": [
      "[Training]: 100%|██████████| 2/2 [00:00<00:00, 53.76it/s]\n",
      "[Validation]: 100%|██████████| 33/33 [00:00<00:00, 161.58it/s]\n"
     ]
    },
    {
     "name": "stdout",
     "output_type": "stream",
     "text": [
      "Train Loss: 0.2068 | Val Loss: 0.1964 | SpearmanR: 0.3041\n",
      "\n",
      "Epoch 13/20\n",
      "----------------------------\n"
     ]
    },
    {
     "name": "stderr",
     "output_type": "stream",
     "text": [
      "[Training]: 100%|██████████| 2/2 [00:00<00:00, 52.94it/s]\n",
      "[Validation]: 100%|██████████| 33/33 [00:00<00:00, 159.46it/s]\n"
     ]
    },
    {
     "name": "stdout",
     "output_type": "stream",
     "text": [
      "Train Loss: 0.1890 | Val Loss: 0.1964 | SpearmanR: 0.2897\n",
      "\n",
      "Epoch 14/20\n",
      "----------------------------\n"
     ]
    },
    {
     "name": "stderr",
     "output_type": "stream",
     "text": [
      "[Training]: 100%|██████████| 2/2 [00:00<00:00, 52.92it/s]\n",
      "[Validation]: 100%|██████████| 33/33 [00:00<00:00, 157.74it/s]\n"
     ]
    },
    {
     "name": "stdout",
     "output_type": "stream",
     "text": [
      "Train Loss: 0.1708 | Val Loss: 0.1818 | SpearmanR: 0.3342\n",
      "\n",
      "Epoch 15/20\n",
      "----------------------------\n"
     ]
    },
    {
     "name": "stderr",
     "output_type": "stream",
     "text": [
      "[Training]: 100%|██████████| 2/2 [00:00<00:00, 51.51it/s]\n",
      "[Validation]: 100%|██████████| 33/33 [00:00<00:00, 158.94it/s]\n"
     ]
    },
    {
     "name": "stdout",
     "output_type": "stream",
     "text": [
      "Train Loss: 0.1518 | Val Loss: 0.1827 | SpearmanR: 0.3092\n",
      "\n",
      "Epoch 16/20\n",
      "----------------------------\n"
     ]
    },
    {
     "name": "stderr",
     "output_type": "stream",
     "text": [
      "[Training]: 100%|██████████| 2/2 [00:00<00:00, 53.13it/s]\n",
      "[Validation]: 100%|██████████| 33/33 [00:00<00:00, 147.00it/s]\n"
     ]
    },
    {
     "name": "stdout",
     "output_type": "stream",
     "text": [
      "Train Loss: 0.1348 | Val Loss: 0.1894 | SpearmanR: 0.3804\n",
      "\n",
      "Epoch 17/20\n",
      "----------------------------\n"
     ]
    },
    {
     "name": "stderr",
     "output_type": "stream",
     "text": [
      "[Training]: 100%|██████████| 2/2 [00:00<00:00, 47.17it/s]\n",
      "[Validation]: 100%|██████████| 33/33 [00:00<00:00, 152.17it/s]\n"
     ]
    },
    {
     "name": "stdout",
     "output_type": "stream",
     "text": [
      "Train Loss: 0.1301 | Val Loss: 0.1983 | SpearmanR: 0.3150\n",
      "\n",
      "Epoch 18/20\n",
      "----------------------------\n"
     ]
    },
    {
     "name": "stderr",
     "output_type": "stream",
     "text": [
      "[Training]: 100%|██████████| 2/2 [00:00<00:00, 31.05it/s]\n",
      "[Validation]: 100%|██████████| 33/33 [00:00<00:00, 123.56it/s]\n"
     ]
    },
    {
     "name": "stdout",
     "output_type": "stream",
     "text": [
      "Train Loss: 0.1172 | Val Loss: 0.1877 | SpearmanR: 0.3571\n",
      "\n",
      "Epoch 19/20\n",
      "----------------------------\n"
     ]
    },
    {
     "name": "stderr",
     "output_type": "stream",
     "text": [
      "[Training]: 100%|██████████| 2/2 [00:00<00:00, 47.39it/s]\n",
      "[Validation]: 100%|██████████| 33/33 [00:00<00:00, 128.91it/s]\n"
     ]
    },
    {
     "name": "stdout",
     "output_type": "stream",
     "text": [
      "Train Loss: 0.0963 | Val Loss: 0.1869 | SpearmanR: 0.3388\n",
      "\n",
      "Epoch 20/20\n",
      "----------------------------\n"
     ]
    },
    {
     "name": "stderr",
     "output_type": "stream",
     "text": [
      "[Training]: 100%|██████████| 2/2 [00:00<00:00, 44.15it/s]\n",
      "[Validation]: 100%|██████████| 33/33 [00:00<00:00, 115.58it/s]\n"
     ]
    },
    {
     "name": "stdout",
     "output_type": "stream",
     "text": [
      "Train Loss: 0.0839 | Val Loss: 0.1905 | SpearmanR: 0.3416\n",
      "Using Model 4 to evaluate remaining training pool...\n"
     ]
    },
    {
     "name": "stderr",
     "output_type": "stream",
     "text": [
      "[Surveying]: 100%|██████████| 262/262 [00:01<00:00, 142.38it/s]\n",
      "Some weights of EsmForSequenceClassification were not initialized from the model checkpoint at facebook/esm2_t6_8M_UR50D and are newly initialized: ['classifier.dense.bias', 'classifier.dense.weight', 'classifier.out_proj.bias', 'classifier.out_proj.weight']\n",
      "You should probably TRAIN this model on a down-stream task to be able to use it for predictions and inference.\n"
     ]
    },
    {
     "name": "stdout",
     "output_type": "stream",
     "text": [
      "Training Model 5...\n",
      "\n",
      "Epoch 1/20\n",
      "----------------------------\n"
     ]
    },
    {
     "name": "stderr",
     "output_type": "stream",
     "text": [
      "[Training]: 100%|██████████| 2/2 [00:00<00:00, 46.48it/s]\n",
      "[Validation]: 100%|██████████| 33/33 [00:00<00:00, 158.44it/s]\n"
     ]
    },
    {
     "name": "stdout",
     "output_type": "stream",
     "text": [
      "Train Loss: 0.2803 | Val Loss: 0.1988 | SpearmanR: -0.1361\n",
      "\n",
      "Epoch 2/20\n",
      "----------------------------\n"
     ]
    },
    {
     "name": "stderr",
     "output_type": "stream",
     "text": [
      "[Training]: 100%|██████████| 2/2 [00:00<00:00, 52.90it/s]\n",
      "[Validation]: 100%|██████████| 33/33 [00:00<00:00, 143.56it/s]\n"
     ]
    },
    {
     "name": "stdout",
     "output_type": "stream",
     "text": [
      "Train Loss: 0.2625 | Val Loss: 0.2004 | SpearmanR: -0.0591\n",
      "\n",
      "Epoch 3/20\n",
      "----------------------------\n"
     ]
    },
    {
     "name": "stderr",
     "output_type": "stream",
     "text": [
      "[Training]: 100%|██████████| 2/2 [00:00<00:00, 50.68it/s]\n",
      "[Validation]: 100%|██████████| 33/33 [00:00<00:00, 146.46it/s]\n"
     ]
    },
    {
     "name": "stdout",
     "output_type": "stream",
     "text": [
      "Train Loss: 0.2537 | Val Loss: 0.2073 | SpearmanR: 0.0070\n",
      "\n",
      "Epoch 4/20\n",
      "----------------------------\n"
     ]
    },
    {
     "name": "stderr",
     "output_type": "stream",
     "text": [
      "[Training]: 100%|██████████| 2/2 [00:00<00:00, 50.01it/s]\n",
      "[Validation]: 100%|██████████| 33/33 [00:00<00:00, 151.06it/s]\n"
     ]
    },
    {
     "name": "stdout",
     "output_type": "stream",
     "text": [
      "Train Loss: 0.2430 | Val Loss: 0.2143 | SpearmanR: 0.0521\n",
      "\n",
      "Epoch 5/20\n",
      "----------------------------\n"
     ]
    },
    {
     "name": "stderr",
     "output_type": "stream",
     "text": [
      "[Training]: 100%|██████████| 2/2 [00:00<00:00, 51.38it/s]\n",
      "[Validation]: 100%|██████████| 33/33 [00:00<00:00, 153.42it/s]\n"
     ]
    },
    {
     "name": "stdout",
     "output_type": "stream",
     "text": [
      "Train Loss: 0.2404 | Val Loss: 0.2217 | SpearmanR: 0.0773\n",
      "\n",
      "Epoch 6/20\n",
      "----------------------------\n"
     ]
    },
    {
     "name": "stderr",
     "output_type": "stream",
     "text": [
      "[Training]: 100%|██████████| 2/2 [00:00<00:00, 46.47it/s]\n",
      "[Validation]: 100%|██████████| 33/33 [00:00<00:00, 148.73it/s]\n"
     ]
    },
    {
     "name": "stdout",
     "output_type": "stream",
     "text": [
      "Train Loss: 0.2418 | Val Loss: 0.2297 | SpearmanR: 0.1129\n",
      "\n",
      "Epoch 7/20\n",
      "----------------------------\n"
     ]
    },
    {
     "name": "stderr",
     "output_type": "stream",
     "text": [
      "[Training]: 100%|██████████| 2/2 [00:00<00:00, 49.57it/s]\n",
      "[Validation]: 100%|██████████| 33/33 [00:00<00:00, 147.80it/s]\n"
     ]
    },
    {
     "name": "stdout",
     "output_type": "stream",
     "text": [
      "Train Loss: 0.2378 | Val Loss: 0.2266 | SpearmanR: 0.1789\n",
      "\n",
      "Epoch 8/20\n",
      "----------------------------\n"
     ]
    },
    {
     "name": "stderr",
     "output_type": "stream",
     "text": [
      "[Training]: 100%|██████████| 2/2 [00:00<00:00, 52.79it/s]\n",
      "[Validation]: 100%|██████████| 33/33 [00:00<00:00, 152.40it/s]\n"
     ]
    },
    {
     "name": "stdout",
     "output_type": "stream",
     "text": [
      "Train Loss: 0.2336 | Val Loss: 0.2242 | SpearmanR: 0.2156\n",
      "\n",
      "Epoch 9/20\n",
      "----------------------------\n"
     ]
    },
    {
     "name": "stderr",
     "output_type": "stream",
     "text": [
      "[Training]: 100%|██████████| 2/2 [00:00<00:00, 49.40it/s]\n",
      "[Validation]: 100%|██████████| 33/33 [00:00<00:00, 151.14it/s]\n"
     ]
    },
    {
     "name": "stdout",
     "output_type": "stream",
     "text": [
      "Train Loss: 0.2291 | Val Loss: 0.2265 | SpearmanR: 0.2425\n",
      "\n",
      "Epoch 10/20\n",
      "----------------------------\n"
     ]
    },
    {
     "name": "stderr",
     "output_type": "stream",
     "text": [
      "[Training]: 100%|██████████| 2/2 [00:00<00:00, 51.92it/s]\n",
      "[Validation]: 100%|██████████| 33/33 [00:00<00:00, 151.95it/s]\n"
     ]
    },
    {
     "name": "stdout",
     "output_type": "stream",
     "text": [
      "Train Loss: 0.2184 | Val Loss: 0.2265 | SpearmanR: 0.2783\n",
      "\n",
      "Epoch 11/20\n",
      "----------------------------\n"
     ]
    },
    {
     "name": "stderr",
     "output_type": "stream",
     "text": [
      "[Training]: 100%|██████████| 2/2 [00:00<00:00, 52.81it/s]\n",
      "[Validation]: 100%|██████████| 33/33 [00:00<00:00, 145.65it/s]\n"
     ]
    },
    {
     "name": "stdout",
     "output_type": "stream",
     "text": [
      "Train Loss: 0.2065 | Val Loss: 0.2113 | SpearmanR: 0.3037\n",
      "\n",
      "Epoch 12/20\n",
      "----------------------------\n"
     ]
    },
    {
     "name": "stderr",
     "output_type": "stream",
     "text": [
      "[Training]: 100%|██████████| 2/2 [00:00<00:00, 51.76it/s]\n",
      "[Validation]: 100%|██████████| 33/33 [00:00<00:00, 138.70it/s]\n"
     ]
    },
    {
     "name": "stdout",
     "output_type": "stream",
     "text": [
      "Train Loss: 0.1965 | Val Loss: 0.2011 | SpearmanR: 0.3186\n",
      "\n",
      "Epoch 13/20\n",
      "----------------------------\n"
     ]
    },
    {
     "name": "stderr",
     "output_type": "stream",
     "text": [
      "[Training]: 100%|██████████| 2/2 [00:00<00:00, 44.88it/s]\n",
      "[Validation]: 100%|██████████| 33/33 [00:00<00:00, 150.12it/s]\n"
     ]
    },
    {
     "name": "stdout",
     "output_type": "stream",
     "text": [
      "Train Loss: 0.1864 | Val Loss: 0.1942 | SpearmanR: 0.3330\n",
      "\n",
      "Epoch 14/20\n",
      "----------------------------\n"
     ]
    },
    {
     "name": "stderr",
     "output_type": "stream",
     "text": [
      "[Training]: 100%|██████████| 2/2 [00:00<00:00, 49.52it/s]\n",
      "[Validation]: 100%|██████████| 33/33 [00:00<00:00, 148.89it/s]\n"
     ]
    },
    {
     "name": "stdout",
     "output_type": "stream",
     "text": [
      "Train Loss: 0.1546 | Val Loss: 0.2408 | SpearmanR: 0.2856\n",
      "\n",
      "Epoch 15/20\n",
      "----------------------------\n"
     ]
    },
    {
     "name": "stderr",
     "output_type": "stream",
     "text": [
      "[Training]: 100%|██████████| 2/2 [00:00<00:00, 50.36it/s]\n",
      "[Validation]: 100%|██████████| 33/33 [00:00<00:00, 145.80it/s]\n"
     ]
    },
    {
     "name": "stdout",
     "output_type": "stream",
     "text": [
      "Train Loss: 0.1628 | Val Loss: 0.1886 | SpearmanR: 0.3551\n",
      "\n",
      "Epoch 16/20\n",
      "----------------------------\n"
     ]
    },
    {
     "name": "stderr",
     "output_type": "stream",
     "text": [
      "[Training]: 100%|██████████| 2/2 [00:00<00:00, 50.93it/s]\n",
      "[Validation]: 100%|██████████| 33/33 [00:00<00:00, 147.03it/s]\n"
     ]
    },
    {
     "name": "stdout",
     "output_type": "stream",
     "text": [
      "Train Loss: 0.1505 | Val Loss: 0.1888 | SpearmanR: 0.3589\n",
      "\n",
      "Epoch 17/20\n",
      "----------------------------\n"
     ]
    },
    {
     "name": "stderr",
     "output_type": "stream",
     "text": [
      "[Training]: 100%|██████████| 2/2 [00:00<00:00, 49.69it/s]\n",
      "[Validation]: 100%|██████████| 33/33 [00:00<00:00, 150.45it/s]\n"
     ]
    },
    {
     "name": "stdout",
     "output_type": "stream",
     "text": [
      "Train Loss: 0.1304 | Val Loss: 0.2016 | SpearmanR: 0.3499\n",
      "\n",
      "Epoch 18/20\n",
      "----------------------------\n"
     ]
    },
    {
     "name": "stderr",
     "output_type": "stream",
     "text": [
      "[Training]: 100%|██████████| 2/2 [00:00<00:00, 48.68it/s]\n",
      "[Validation]: 100%|██████████| 33/33 [00:00<00:00, 132.81it/s]\n"
     ]
    },
    {
     "name": "stdout",
     "output_type": "stream",
     "text": [
      "Train Loss: 0.1395 | Val Loss: 0.2105 | SpearmanR: 0.3569\n",
      "\n",
      "Epoch 19/20\n",
      "----------------------------\n"
     ]
    },
    {
     "name": "stderr",
     "output_type": "stream",
     "text": [
      "[Training]: 100%|██████████| 2/2 [00:00<00:00, 38.58it/s]\n",
      "[Validation]: 100%|██████████| 33/33 [00:00<00:00, 118.50it/s]\n"
     ]
    },
    {
     "name": "stdout",
     "output_type": "stream",
     "text": [
      "Train Loss: 0.1075 | Val Loss: 0.1938 | SpearmanR: 0.3658\n",
      "\n",
      "Epoch 20/20\n",
      "----------------------------\n"
     ]
    },
    {
     "name": "stderr",
     "output_type": "stream",
     "text": [
      "[Training]: 100%|██████████| 2/2 [00:00<00:00, 42.84it/s]\n",
      "[Validation]: 100%|██████████| 33/33 [00:00<00:00, 133.87it/s]\n"
     ]
    },
    {
     "name": "stdout",
     "output_type": "stream",
     "text": [
      "Train Loss: 0.1206 | Val Loss: 0.1905 | SpearmanR: 0.3673\n",
      "Using Model 5 to evaluate remaining training pool...\n"
     ]
    },
    {
     "name": "stderr",
     "output_type": "stream",
     "text": [
      "[Surveying]: 100%|██████████| 262/262 [00:01<00:00, 134.28it/s]\n",
      "Some weights of EsmForSequenceClassification were not initialized from the model checkpoint at facebook/esm2_t6_8M_UR50D and are newly initialized: ['classifier.dense.bias', 'classifier.dense.weight', 'classifier.out_proj.bias', 'classifier.out_proj.weight']\n",
      "You should probably TRAIN this model on a down-stream task to be able to use it for predictions and inference.\n"
     ]
    },
    {
     "name": "stdout",
     "output_type": "stream",
     "text": [
      "Ensemble training complete, submitting predictions for next cycle.\n",
      "[Cycle 2]\n",
      "\n",
      "Selecting new data points...\n",
      "Starting ensemble training and pool evaluation...\n",
      "Training Model 1...\n",
      "\n",
      "Epoch 1/20\n",
      "----------------------------\n"
     ]
    },
    {
     "name": "stderr",
     "output_type": "stream",
     "text": [
      "[Training]: 100%|██████████| 4/4 [00:00<00:00, 42.09it/s]\n",
      "[Validation]: 100%|██████████| 33/33 [00:00<00:00, 115.39it/s]\n"
     ]
    },
    {
     "name": "stdout",
     "output_type": "stream",
     "text": [
      "Train Loss: 0.2342 | Val Loss: 0.1992 | SpearmanR: -0.2279\n",
      "\n",
      "Epoch 2/20\n",
      "----------------------------\n"
     ]
    },
    {
     "name": "stderr",
     "output_type": "stream",
     "text": [
      "[Training]: 100%|██████████| 4/4 [00:00<00:00, 41.40it/s]\n",
      "[Validation]: 100%|██████████| 33/33 [00:00<00:00, 114.99it/s]\n"
     ]
    },
    {
     "name": "stdout",
     "output_type": "stream",
     "text": [
      "Train Loss: 0.2124 | Val Loss: 0.2035 | SpearmanR: -0.2016\n",
      "\n",
      "Epoch 3/20\n",
      "----------------------------\n"
     ]
    },
    {
     "name": "stderr",
     "output_type": "stream",
     "text": [
      "[Training]: 100%|██████████| 4/4 [00:00<00:00, 39.37it/s]\n",
      "[Validation]: 100%|██████████| 33/33 [00:00<00:00, 119.21it/s]\n"
     ]
    },
    {
     "name": "stdout",
     "output_type": "stream",
     "text": [
      "Train Loss: 0.1927 | Val Loss: 0.2109 | SpearmanR: -0.1404\n",
      "\n",
      "Epoch 4/20\n",
      "----------------------------\n"
     ]
    },
    {
     "name": "stderr",
     "output_type": "stream",
     "text": [
      "[Training]: 100%|██████████| 4/4 [00:00<00:00, 41.05it/s]\n",
      "[Validation]: 100%|██████████| 33/33 [00:00<00:00, 109.14it/s]\n"
     ]
    },
    {
     "name": "stdout",
     "output_type": "stream",
     "text": [
      "Train Loss: 0.1951 | Val Loss: 0.2232 | SpearmanR: -0.0185\n",
      "\n",
      "Epoch 5/20\n",
      "----------------------------\n"
     ]
    },
    {
     "name": "stderr",
     "output_type": "stream",
     "text": [
      "[Training]: 100%|██████████| 4/4 [00:00<00:00, 33.52it/s]\n",
      "[Validation]: 100%|██████████| 33/33 [00:00<00:00, 105.56it/s]\n"
     ]
    },
    {
     "name": "stdout",
     "output_type": "stream",
     "text": [
      "Train Loss: 0.1914 | Val Loss: 0.2246 | SpearmanR: 0.0849\n",
      "\n",
      "Epoch 6/20\n",
      "----------------------------\n"
     ]
    },
    {
     "name": "stderr",
     "output_type": "stream",
     "text": [
      "[Training]: 100%|██████████| 4/4 [00:00<00:00, 31.15it/s]\n",
      "[Validation]: 100%|██████████| 33/33 [00:00<00:00, 84.53it/s]\n"
     ]
    },
    {
     "name": "stdout",
     "output_type": "stream",
     "text": [
      "Train Loss: 0.1903 | Val Loss: 0.2182 | SpearmanR: 0.1272\n",
      "\n",
      "Epoch 7/20\n",
      "----------------------------\n"
     ]
    },
    {
     "name": "stderr",
     "output_type": "stream",
     "text": [
      "[Training]: 100%|██████████| 4/4 [00:00<00:00, 31.34it/s]\n",
      "[Validation]: 100%|██████████| 33/33 [00:00<00:00, 84.50it/s]\n"
     ]
    },
    {
     "name": "stdout",
     "output_type": "stream",
     "text": [
      "Train Loss: 0.1873 | Val Loss: 0.2207 | SpearmanR: 0.1533\n",
      "\n",
      "Epoch 8/20\n",
      "----------------------------\n"
     ]
    },
    {
     "name": "stderr",
     "output_type": "stream",
     "text": [
      "[Training]: 100%|██████████| 4/4 [00:00<00:00, 33.79it/s]\n",
      "[Validation]: 100%|██████████| 33/33 [00:00<00:00, 137.21it/s]\n"
     ]
    },
    {
     "name": "stdout",
     "output_type": "stream",
     "text": [
      "Train Loss: 0.1850 | Val Loss: 0.2166 | SpearmanR: 0.1790\n",
      "\n",
      "Epoch 9/20\n",
      "----------------------------\n"
     ]
    },
    {
     "name": "stderr",
     "output_type": "stream",
     "text": [
      "[Training]: 100%|██████████| 4/4 [00:00<00:00, 44.90it/s]\n",
      "[Validation]: 100%|██████████| 33/33 [00:00<00:00, 147.14it/s]\n"
     ]
    },
    {
     "name": "stdout",
     "output_type": "stream",
     "text": [
      "Train Loss: 0.1797 | Val Loss: 0.2140 | SpearmanR: 0.2163\n",
      "\n",
      "Epoch 10/20\n",
      "----------------------------\n"
     ]
    },
    {
     "name": "stderr",
     "output_type": "stream",
     "text": [
      "[Training]: 100%|██████████| 4/4 [00:00<00:00, 48.31it/s]\n",
      "[Validation]: 100%|██████████| 33/33 [00:00<00:00, 144.24it/s]\n"
     ]
    },
    {
     "name": "stdout",
     "output_type": "stream",
     "text": [
      "Train Loss: 0.1750 | Val Loss: 0.2164 | SpearmanR: 0.2227\n",
      "\n",
      "Epoch 11/20\n",
      "----------------------------\n"
     ]
    },
    {
     "name": "stderr",
     "output_type": "stream",
     "text": [
      "[Training]: 100%|██████████| 4/4 [00:00<00:00, 49.92it/s]\n",
      "[Validation]: 100%|██████████| 33/33 [00:00<00:00, 150.56it/s]\n"
     ]
    },
    {
     "name": "stdout",
     "output_type": "stream",
     "text": [
      "Train Loss: 0.1676 | Val Loss: 0.2277 | SpearmanR: 0.2234\n",
      "\n",
      "Epoch 12/20\n",
      "----------------------------\n"
     ]
    },
    {
     "name": "stderr",
     "output_type": "stream",
     "text": [
      "[Training]: 100%|██████████| 4/4 [00:00<00:00, 48.17it/s]\n",
      "[Validation]: 100%|██████████| 33/33 [00:00<00:00, 145.65it/s]\n"
     ]
    },
    {
     "name": "stdout",
     "output_type": "stream",
     "text": [
      "Train Loss: 0.1652 | Val Loss: 0.2417 | SpearmanR: 0.1957\n",
      "\n",
      "Epoch 13/20\n",
      "----------------------------\n"
     ]
    },
    {
     "name": "stderr",
     "output_type": "stream",
     "text": [
      "[Training]: 100%|██████████| 4/4 [00:00<00:00, 49.19it/s]\n",
      "[Validation]: 100%|██████████| 33/33 [00:00<00:00, 151.90it/s]\n"
     ]
    },
    {
     "name": "stdout",
     "output_type": "stream",
     "text": [
      "Train Loss: 0.1582 | Val Loss: 0.2058 | SpearmanR: 0.2206\n",
      "\n",
      "Epoch 14/20\n",
      "----------------------------\n"
     ]
    },
    {
     "name": "stderr",
     "output_type": "stream",
     "text": [
      "[Training]: 100%|██████████| 4/4 [00:00<00:00, 48.98it/s]\n",
      "[Validation]: 100%|██████████| 33/33 [00:00<00:00, 144.49it/s]\n"
     ]
    },
    {
     "name": "stdout",
     "output_type": "stream",
     "text": [
      "Train Loss: 0.1473 | Val Loss: 0.2319 | SpearmanR: 0.2095\n",
      "\n",
      "Epoch 15/20\n",
      "----------------------------\n"
     ]
    },
    {
     "name": "stderr",
     "output_type": "stream",
     "text": [
      "[Training]: 100%|██████████| 4/4 [00:00<00:00, 50.58it/s]\n",
      "[Validation]: 100%|██████████| 33/33 [00:00<00:00, 146.52it/s]\n"
     ]
    },
    {
     "name": "stdout",
     "output_type": "stream",
     "text": [
      "Train Loss: 0.1373 | Val Loss: 0.1955 | SpearmanR: 0.2653\n",
      "\n",
      "Epoch 16/20\n",
      "----------------------------\n"
     ]
    },
    {
     "name": "stderr",
     "output_type": "stream",
     "text": [
      "[Training]: 100%|██████████| 4/4 [00:00<00:00, 47.13it/s]\n",
      "[Validation]: 100%|██████████| 33/33 [00:00<00:00, 153.54it/s]\n"
     ]
    },
    {
     "name": "stdout",
     "output_type": "stream",
     "text": [
      "Train Loss: 0.1415 | Val Loss: 0.2218 | SpearmanR: 0.2745\n",
      "\n",
      "Epoch 17/20\n",
      "----------------------------\n"
     ]
    },
    {
     "name": "stderr",
     "output_type": "stream",
     "text": [
      "[Training]: 100%|██████████| 4/4 [00:00<00:00, 51.54it/s]\n",
      "[Validation]: 100%|██████████| 33/33 [00:00<00:00, 148.65it/s]\n"
     ]
    },
    {
     "name": "stdout",
     "output_type": "stream",
     "text": [
      "Train Loss: 0.1350 | Val Loss: 0.2042 | SpearmanR: 0.3603\n",
      "\n",
      "Epoch 18/20\n",
      "----------------------------\n"
     ]
    },
    {
     "name": "stderr",
     "output_type": "stream",
     "text": [
      "[Training]: 100%|██████████| 4/4 [00:00<00:00, 50.40it/s]\n",
      "[Validation]: 100%|██████████| 33/33 [00:00<00:00, 148.77it/s]\n"
     ]
    },
    {
     "name": "stdout",
     "output_type": "stream",
     "text": [
      "Train Loss: 0.1420 | Val Loss: 0.1759 | SpearmanR: 0.3957\n",
      "\n",
      "Epoch 19/20\n",
      "----------------------------\n"
     ]
    },
    {
     "name": "stderr",
     "output_type": "stream",
     "text": [
      "[Training]: 100%|██████████| 4/4 [00:00<00:00, 50.15it/s]\n",
      "[Validation]: 100%|██████████| 33/33 [00:00<00:00, 142.33it/s]\n"
     ]
    },
    {
     "name": "stdout",
     "output_type": "stream",
     "text": [
      "Train Loss: 0.1089 | Val Loss: 0.2503 | SpearmanR: 0.3507\n",
      "\n",
      "Epoch 20/20\n",
      "----------------------------\n"
     ]
    },
    {
     "name": "stderr",
     "output_type": "stream",
     "text": [
      "[Training]: 100%|██████████| 4/4 [00:00<00:00, 51.31it/s]\n",
      "[Validation]: 100%|██████████| 33/33 [00:00<00:00, 137.20it/s]\n"
     ]
    },
    {
     "name": "stdout",
     "output_type": "stream",
     "text": [
      "Train Loss: 0.1249 | Val Loss: 0.1666 | SpearmanR: 0.4217\n",
      "Using Model 1 to evaluate remaining training pool...\n"
     ]
    },
    {
     "name": "stderr",
     "output_type": "stream",
     "text": [
      "[Surveying]: 100%|██████████| 260/260 [00:01<00:00, 152.26it/s]\n",
      "Some weights of EsmForSequenceClassification were not initialized from the model checkpoint at facebook/esm2_t6_8M_UR50D and are newly initialized: ['classifier.dense.bias', 'classifier.dense.weight', 'classifier.out_proj.bias', 'classifier.out_proj.weight']\n",
      "You should probably TRAIN this model on a down-stream task to be able to use it for predictions and inference.\n"
     ]
    },
    {
     "name": "stdout",
     "output_type": "stream",
     "text": [
      "Training Model 2...\n",
      "\n",
      "Epoch 1/20\n",
      "----------------------------\n"
     ]
    },
    {
     "name": "stderr",
     "output_type": "stream",
     "text": [
      "[Training]: 100%|██████████| 4/4 [00:00<00:00, 46.53it/s]\n",
      "[Validation]: 100%|██████████| 33/33 [00:00<00:00, 145.96it/s]\n"
     ]
    },
    {
     "name": "stdout",
     "output_type": "stream",
     "text": [
      "Train Loss: 0.2206 | Val Loss: 0.2010 | SpearmanR: -0.0175\n",
      "\n",
      "Epoch 2/20\n",
      "----------------------------\n"
     ]
    },
    {
     "name": "stderr",
     "output_type": "stream",
     "text": [
      "[Training]: 100%|██████████| 4/4 [00:00<00:00, 49.62it/s]\n",
      "[Validation]: 100%|██████████| 33/33 [00:00<00:00, 151.56it/s]\n"
     ]
    },
    {
     "name": "stdout",
     "output_type": "stream",
     "text": [
      "Train Loss: 0.1948 | Val Loss: 0.2083 | SpearmanR: 0.0596\n",
      "\n",
      "Epoch 3/20\n",
      "----------------------------\n"
     ]
    },
    {
     "name": "stderr",
     "output_type": "stream",
     "text": [
      "[Training]: 100%|██████████| 4/4 [00:00<00:00, 50.99it/s]\n",
      "[Validation]: 100%|██████████| 33/33 [00:00<00:00, 150.12it/s]\n"
     ]
    },
    {
     "name": "stdout",
     "output_type": "stream",
     "text": [
      "Train Loss: 0.1950 | Val Loss: 0.2209 | SpearmanR: 0.1399\n",
      "\n",
      "Epoch 4/20\n",
      "----------------------------\n"
     ]
    },
    {
     "name": "stderr",
     "output_type": "stream",
     "text": [
      "[Training]: 100%|██████████| 4/4 [00:00<00:00, 50.89it/s]\n",
      "[Validation]: 100%|██████████| 33/33 [00:00<00:00, 151.68it/s]\n"
     ]
    },
    {
     "name": "stdout",
     "output_type": "stream",
     "text": [
      "Train Loss: 0.1920 | Val Loss: 0.2211 | SpearmanR: 0.2117\n",
      "\n",
      "Epoch 5/20\n",
      "----------------------------\n"
     ]
    },
    {
     "name": "stderr",
     "output_type": "stream",
     "text": [
      "[Training]: 100%|██████████| 4/4 [00:00<00:00, 50.12it/s]\n",
      "[Validation]: 100%|██████████| 33/33 [00:00<00:00, 139.75it/s]\n"
     ]
    },
    {
     "name": "stdout",
     "output_type": "stream",
     "text": [
      "Train Loss: 0.1904 | Val Loss: 0.2138 | SpearmanR: 0.2698\n",
      "\n",
      "Epoch 6/20\n",
      "----------------------------\n"
     ]
    },
    {
     "name": "stderr",
     "output_type": "stream",
     "text": [
      "[Training]: 100%|██████████| 4/4 [00:00<00:00, 49.14it/s]\n",
      "[Validation]: 100%|██████████| 33/33 [00:00<00:00, 152.06it/s]\n"
     ]
    },
    {
     "name": "stdout",
     "output_type": "stream",
     "text": [
      "Train Loss: 0.1873 | Val Loss: 0.2121 | SpearmanR: 0.3055\n",
      "\n",
      "Epoch 7/20\n",
      "----------------------------\n"
     ]
    },
    {
     "name": "stderr",
     "output_type": "stream",
     "text": [
      "[Training]: 100%|██████████| 4/4 [00:00<00:00, 48.83it/s]\n",
      "[Validation]: 100%|██████████| 33/33 [00:00<00:00, 141.40it/s]\n"
     ]
    },
    {
     "name": "stdout",
     "output_type": "stream",
     "text": [
      "Train Loss: 0.1820 | Val Loss: 0.2085 | SpearmanR: 0.3316\n",
      "\n",
      "Epoch 8/20\n",
      "----------------------------\n"
     ]
    },
    {
     "name": "stderr",
     "output_type": "stream",
     "text": [
      "[Training]: 100%|██████████| 4/4 [00:00<00:00, 51.41it/s]\n",
      "[Validation]: 100%|██████████| 33/33 [00:00<00:00, 150.48it/s]\n"
     ]
    },
    {
     "name": "stdout",
     "output_type": "stream",
     "text": [
      "Train Loss: 0.1777 | Val Loss: 0.2058 | SpearmanR: 0.3583\n",
      "\n",
      "Epoch 9/20\n",
      "----------------------------\n"
     ]
    },
    {
     "name": "stderr",
     "output_type": "stream",
     "text": [
      "[Training]: 100%|██████████| 4/4 [00:00<00:00, 48.96it/s]\n",
      "[Validation]: 100%|██████████| 33/33 [00:00<00:00, 135.68it/s]\n"
     ]
    },
    {
     "name": "stdout",
     "output_type": "stream",
     "text": [
      "Train Loss: 0.1636 | Val Loss: 0.2075 | SpearmanR: 0.3793\n",
      "\n",
      "Epoch 10/20\n",
      "----------------------------\n"
     ]
    },
    {
     "name": "stderr",
     "output_type": "stream",
     "text": [
      "[Training]: 100%|██████████| 4/4 [00:00<00:00, 50.69it/s]\n",
      "[Validation]: 100%|██████████| 33/33 [00:00<00:00, 148.66it/s]\n"
     ]
    },
    {
     "name": "stdout",
     "output_type": "stream",
     "text": [
      "Train Loss: 0.1502 | Val Loss: 0.1995 | SpearmanR: 0.4060\n",
      "\n",
      "Epoch 11/20\n",
      "----------------------------\n"
     ]
    },
    {
     "name": "stderr",
     "output_type": "stream",
     "text": [
      "[Training]: 100%|██████████| 4/4 [00:00<00:00, 49.98it/s]\n",
      "[Validation]: 100%|██████████| 33/33 [00:00<00:00, 125.10it/s]\n"
     ]
    },
    {
     "name": "stdout",
     "output_type": "stream",
     "text": [
      "Train Loss: 0.1253 | Val Loss: 0.1699 | SpearmanR: 0.4403\n",
      "\n",
      "Epoch 12/20\n",
      "----------------------------\n"
     ]
    },
    {
     "name": "stderr",
     "output_type": "stream",
     "text": [
      "[Training]: 100%|██████████| 4/4 [00:00<00:00, 51.63it/s]\n",
      "[Validation]: 100%|██████████| 33/33 [00:00<00:00, 154.04it/s]\n"
     ]
    },
    {
     "name": "stdout",
     "output_type": "stream",
     "text": [
      "Train Loss: 0.1351 | Val Loss: 0.1934 | SpearmanR: 0.4170\n",
      "\n",
      "Epoch 13/20\n",
      "----------------------------\n"
     ]
    },
    {
     "name": "stderr",
     "output_type": "stream",
     "text": [
      "[Training]: 100%|██████████| 4/4 [00:00<00:00, 52.99it/s]\n",
      "[Validation]: 100%|██████████| 33/33 [00:00<00:00, 149.23it/s]\n"
     ]
    },
    {
     "name": "stdout",
     "output_type": "stream",
     "text": [
      "Train Loss: 0.1155 | Val Loss: 0.1640 | SpearmanR: 0.4666\n",
      "\n",
      "Epoch 14/20\n",
      "----------------------------\n"
     ]
    },
    {
     "name": "stderr",
     "output_type": "stream",
     "text": [
      "[Training]: 100%|██████████| 4/4 [00:00<00:00, 48.24it/s]\n",
      "[Validation]: 100%|██████████| 33/33 [00:00<00:00, 147.01it/s]\n"
     ]
    },
    {
     "name": "stdout",
     "output_type": "stream",
     "text": [
      "Train Loss: 0.0974 | Val Loss: 0.1601 | SpearmanR: 0.4614\n",
      "\n",
      "Epoch 15/20\n",
      "----------------------------\n"
     ]
    },
    {
     "name": "stderr",
     "output_type": "stream",
     "text": [
      "[Training]: 100%|██████████| 4/4 [00:00<00:00, 50.15it/s]\n",
      "[Validation]: 100%|██████████| 33/33 [00:00<00:00, 146.80it/s]\n"
     ]
    },
    {
     "name": "stdout",
     "output_type": "stream",
     "text": [
      "Train Loss: 0.0802 | Val Loss: 0.1567 | SpearmanR: 0.4591\n",
      "\n",
      "Epoch 16/20\n",
      "----------------------------\n"
     ]
    },
    {
     "name": "stderr",
     "output_type": "stream",
     "text": [
      "[Training]: 100%|██████████| 4/4 [00:00<00:00, 50.05it/s]\n",
      "[Validation]: 100%|██████████| 33/33 [00:00<00:00, 147.51it/s]\n"
     ]
    },
    {
     "name": "stdout",
     "output_type": "stream",
     "text": [
      "Train Loss: 0.0725 | Val Loss: 0.1788 | SpearmanR: 0.4709\n",
      "\n",
      "Epoch 17/20\n",
      "----------------------------\n"
     ]
    },
    {
     "name": "stderr",
     "output_type": "stream",
     "text": [
      "[Training]: 100%|██████████| 4/4 [00:00<00:00, 45.16it/s]\n",
      "[Validation]: 100%|██████████| 33/33 [00:00<00:00, -43.57it/s]\n"
     ]
    },
    {
     "name": "stdout",
     "output_type": "stream",
     "text": [
      "Train Loss: 0.0790 | Val Loss: 0.1996 | SpearmanR: 0.4294\n",
      "\n",
      "Epoch 18/20\n",
      "----------------------------\n"
     ]
    },
    {
     "name": "stderr",
     "output_type": "stream",
     "text": [
      "[Training]: 100%|██████████| 4/4 [00:00<00:00, 50.21it/s]\n",
      "[Validation]: 100%|██████████| 33/33 [00:00<00:00, 147.38it/s]\n"
     ]
    },
    {
     "name": "stdout",
     "output_type": "stream",
     "text": [
      "Train Loss: 0.0823 | Val Loss: 0.1825 | SpearmanR: 0.4517\n",
      "\n",
      "Epoch 19/20\n",
      "----------------------------\n"
     ]
    },
    {
     "name": "stderr",
     "output_type": "stream",
     "text": [
      "[Training]: 100%|██████████| 4/4 [00:00<00:00, 49.87it/s]\n",
      "[Validation]: 100%|██████████| 33/33 [00:00<00:00, 150.55it/s]\n"
     ]
    },
    {
     "name": "stdout",
     "output_type": "stream",
     "text": [
      "Train Loss: 0.0909 | Val Loss: 0.1679 | SpearmanR: 0.4463\n",
      "\n",
      "Epoch 20/20\n",
      "----------------------------\n"
     ]
    },
    {
     "name": "stderr",
     "output_type": "stream",
     "text": [
      "[Training]: 100%|██████████| 4/4 [00:00<00:00, 47.62it/s]\n",
      "[Validation]: 100%|██████████| 33/33 [00:00<00:00, 152.89it/s]\n"
     ]
    },
    {
     "name": "stdout",
     "output_type": "stream",
     "text": [
      "Train Loss: 0.0795 | Val Loss: 0.1588 | SpearmanR: 0.4586\n",
      "Using Model 2 to evaluate remaining training pool...\n"
     ]
    },
    {
     "name": "stderr",
     "output_type": "stream",
     "text": [
      "[Surveying]: 100%|██████████| 260/260 [00:01<00:00, 154.96it/s]\n",
      "Some weights of EsmForSequenceClassification were not initialized from the model checkpoint at facebook/esm2_t6_8M_UR50D and are newly initialized: ['classifier.dense.bias', 'classifier.dense.weight', 'classifier.out_proj.bias', 'classifier.out_proj.weight']\n",
      "You should probably TRAIN this model on a down-stream task to be able to use it for predictions and inference.\n"
     ]
    },
    {
     "name": "stdout",
     "output_type": "stream",
     "text": [
      "Training Model 3...\n",
      "\n",
      "Epoch 1/20\n",
      "----------------------------\n"
     ]
    },
    {
     "name": "stderr",
     "output_type": "stream",
     "text": [
      "[Training]: 100%|██████████| 4/4 [00:00<00:00, 36.83it/s]\n",
      "[Validation]: 100%|██████████| 33/33 [00:00<00:00, 162.51it/s]\n"
     ]
    },
    {
     "name": "stdout",
     "output_type": "stream",
     "text": [
      "Train Loss: 0.2180 | Val Loss: 0.2004 | SpearmanR: -0.0552\n",
      "\n",
      "Epoch 2/20\n",
      "----------------------------\n"
     ]
    },
    {
     "name": "stderr",
     "output_type": "stream",
     "text": [
      "[Training]: 100%|██████████| 4/4 [00:00<00:00, 48.11it/s]\n",
      "[Validation]: 100%|██████████| 33/33 [00:00<00:00, 152.04it/s]\n"
     ]
    },
    {
     "name": "stdout",
     "output_type": "stream",
     "text": [
      "Train Loss: 0.1973 | Val Loss: 0.2127 | SpearmanR: 0.0130\n",
      "\n",
      "Epoch 3/20\n",
      "----------------------------\n"
     ]
    },
    {
     "name": "stderr",
     "output_type": "stream",
     "text": [
      "[Training]: 100%|██████████| 4/4 [00:00<00:00, 49.70it/s]\n",
      "[Validation]: 100%|██████████| 33/33 [00:00<00:00, 152.64it/s]\n"
     ]
    },
    {
     "name": "stdout",
     "output_type": "stream",
     "text": [
      "Train Loss: 0.1920 | Val Loss: 0.2224 | SpearmanR: 0.0319\n",
      "\n",
      "Epoch 4/20\n",
      "----------------------------\n"
     ]
    },
    {
     "name": "stderr",
     "output_type": "stream",
     "text": [
      "[Training]: 100%|██████████| 4/4 [00:00<00:00, 43.27it/s]\n",
      "[Validation]: 100%|██████████| 33/33 [00:00<00:00, 123.09it/s]\n"
     ]
    },
    {
     "name": "stdout",
     "output_type": "stream",
     "text": [
      "Train Loss: 0.1903 | Val Loss: 0.2224 | SpearmanR: 0.0415\n",
      "\n",
      "Epoch 5/20\n",
      "----------------------------\n"
     ]
    },
    {
     "name": "stderr",
     "output_type": "stream",
     "text": [
      "[Training]: 100%|██████████| 4/4 [00:00<00:00, 42.80it/s]\n",
      "[Validation]: 100%|██████████| 33/33 [00:00<00:00, 117.43it/s]\n"
     ]
    },
    {
     "name": "stdout",
     "output_type": "stream",
     "text": [
      "Train Loss: 0.1902 | Val Loss: 0.2077 | SpearmanR: 0.0572\n",
      "\n",
      "Epoch 6/20\n",
      "----------------------------\n"
     ]
    },
    {
     "name": "stderr",
     "output_type": "stream",
     "text": [
      "[Training]: 100%|██████████| 4/4 [00:00<00:00, 34.80it/s]\n",
      "[Validation]: 100%|██████████| 33/33 [00:00<00:00, 103.88it/s]\n"
     ]
    },
    {
     "name": "stdout",
     "output_type": "stream",
     "text": [
      "Train Loss: 0.1840 | Val Loss: 0.2118 | SpearmanR: 0.1613\n",
      "\n",
      "Epoch 7/20\n",
      "----------------------------\n"
     ]
    },
    {
     "name": "stderr",
     "output_type": "stream",
     "text": [
      "[Training]: 100%|██████████| 4/4 [00:00<00:00, 34.26it/s]\n",
      "[Validation]: 100%|██████████| 33/33 [00:00<00:00, 95.75it/s]\n"
     ]
    },
    {
     "name": "stdout",
     "output_type": "stream",
     "text": [
      "Train Loss: 0.1778 | Val Loss: 0.2159 | SpearmanR: 0.2228\n",
      "\n",
      "Epoch 8/20\n",
      "----------------------------\n"
     ]
    },
    {
     "name": "stderr",
     "output_type": "stream",
     "text": [
      "[Training]: 100%|██████████| 4/4 [00:00<00:00, 38.34it/s]\n",
      "[Validation]: 100%|██████████| 33/33 [00:00<00:00, 118.42it/s]\n"
     ]
    },
    {
     "name": "stdout",
     "output_type": "stream",
     "text": [
      "Train Loss: 0.1696 | Val Loss: 0.2183 | SpearmanR: 0.2407\n",
      "\n",
      "Epoch 9/20\n",
      "----------------------------\n"
     ]
    },
    {
     "name": "stderr",
     "output_type": "stream",
     "text": [
      "[Training]: 100%|██████████| 4/4 [00:00<00:00, 40.07it/s]\n",
      "[Validation]: 100%|██████████| 33/33 [00:00<00:00, 115.79it/s]\n"
     ]
    },
    {
     "name": "stdout",
     "output_type": "stream",
     "text": [
      "Train Loss: 0.1608 | Val Loss: 0.2027 | SpearmanR: 0.2640\n",
      "\n",
      "Epoch 10/20\n",
      "----------------------------\n"
     ]
    },
    {
     "name": "stderr",
     "output_type": "stream",
     "text": [
      "[Training]: 100%|██████████| 4/4 [00:00<00:00, 38.32it/s]\n",
      "[Validation]: 100%|██████████| 33/33 [00:00<00:00, 109.22it/s]\n"
     ]
    },
    {
     "name": "stdout",
     "output_type": "stream",
     "text": [
      "Train Loss: 0.1463 | Val Loss: 0.2049 | SpearmanR: 0.2848\n",
      "\n",
      "Epoch 11/20\n",
      "----------------------------\n"
     ]
    },
    {
     "name": "stderr",
     "output_type": "stream",
     "text": [
      "[Training]: 100%|██████████| 4/4 [00:00<00:00, 41.57it/s]\n",
      "[Validation]: 100%|██████████| 33/33 [00:00<00:00, 116.72it/s]\n"
     ]
    },
    {
     "name": "stdout",
     "output_type": "stream",
     "text": [
      "Train Loss: 0.1375 | Val Loss: 0.2348 | SpearmanR: 0.2764\n",
      "\n",
      "Epoch 12/20\n",
      "----------------------------\n"
     ]
    },
    {
     "name": "stderr",
     "output_type": "stream",
     "text": [
      "[Training]: 100%|██████████| 4/4 [00:00<00:00, 41.53it/s]\n",
      "[Validation]: 100%|██████████| 33/33 [00:00<00:00, 108.49it/s]\n"
     ]
    },
    {
     "name": "stdout",
     "output_type": "stream",
     "text": [
      "Train Loss: 0.1342 | Val Loss: 0.1946 | SpearmanR: 0.3058\n",
      "\n",
      "Epoch 13/20\n",
      "----------------------------\n"
     ]
    },
    {
     "name": "stderr",
     "output_type": "stream",
     "text": [
      "[Training]: 100%|██████████| 4/4 [00:00<00:00, 40.48it/s]\n",
      "[Validation]: 100%|██████████| 33/33 [00:00<00:00, 111.13it/s]\n"
     ]
    },
    {
     "name": "stdout",
     "output_type": "stream",
     "text": [
      "Train Loss: 0.1246 | Val Loss: 0.1800 | SpearmanR: 0.3628\n",
      "\n",
      "Epoch 14/20\n",
      "----------------------------\n"
     ]
    },
    {
     "name": "stderr",
     "output_type": "stream",
     "text": [
      "[Training]: 100%|██████████| 4/4 [00:00<00:00, 35.58it/s]\n",
      "[Validation]: 100%|██████████| 33/33 [00:00<00:00, 114.19it/s]\n"
     ]
    },
    {
     "name": "stdout",
     "output_type": "stream",
     "text": [
      "Train Loss: 0.1218 | Val Loss: 0.1783 | SpearmanR: 0.3597\n",
      "\n",
      "Epoch 15/20\n",
      "----------------------------\n"
     ]
    },
    {
     "name": "stderr",
     "output_type": "stream",
     "text": [
      "[Training]: 100%|██████████| 4/4 [00:00<00:00, 37.68it/s]\n",
      "[Validation]: 100%|██████████| 33/33 [00:00<00:00, 103.51it/s]\n"
     ]
    },
    {
     "name": "stdout",
     "output_type": "stream",
     "text": [
      "Train Loss: 0.1049 | Val Loss: 0.1732 | SpearmanR: 0.3834\n",
      "\n",
      "Epoch 16/20\n",
      "----------------------------\n"
     ]
    },
    {
     "name": "stderr",
     "output_type": "stream",
     "text": [
      "[Training]: 100%|██████████| 4/4 [00:00<00:00, 37.94it/s]\n",
      "[Validation]: 100%|██████████| 33/33 [00:00<00:00, 113.23it/s]\n"
     ]
    },
    {
     "name": "stdout",
     "output_type": "stream",
     "text": [
      "Train Loss: 0.0956 | Val Loss: 0.1742 | SpearmanR: 0.3913\n",
      "\n",
      "Epoch 17/20\n",
      "----------------------------\n"
     ]
    },
    {
     "name": "stderr",
     "output_type": "stream",
     "text": [
      "[Training]: 100%|██████████| 4/4 [00:00<00:00, 37.50it/s]\n",
      "[Validation]: 100%|██████████| 33/33 [00:00<00:00, 102.84it/s]\n"
     ]
    },
    {
     "name": "stdout",
     "output_type": "stream",
     "text": [
      "Train Loss: 0.0808 | Val Loss: 0.1755 | SpearmanR: 0.4054\n",
      "\n",
      "Epoch 18/20\n",
      "----------------------------\n"
     ]
    },
    {
     "name": "stderr",
     "output_type": "stream",
     "text": [
      "[Training]: 100%|██████████| 4/4 [00:00<00:00, 37.62it/s]\n",
      "[Validation]: 100%|██████████| 33/33 [00:00<00:00, 89.07it/s]\n"
     ]
    },
    {
     "name": "stdout",
     "output_type": "stream",
     "text": [
      "Train Loss: 0.0737 | Val Loss: 0.2367 | SpearmanR: 0.3664\n",
      "\n",
      "Epoch 19/20\n",
      "----------------------------\n"
     ]
    },
    {
     "name": "stderr",
     "output_type": "stream",
     "text": [
      "[Training]: 100%|██████████| 4/4 [00:00<00:00, 44.61it/s]\n",
      "[Validation]: 100%|██████████| 33/33 [00:00<00:00, 139.73it/s]\n"
     ]
    },
    {
     "name": "stdout",
     "output_type": "stream",
     "text": [
      "Train Loss: 0.0843 | Val Loss: 0.1930 | SpearmanR: 0.4017\n",
      "\n",
      "Epoch 20/20\n",
      "----------------------------\n"
     ]
    },
    {
     "name": "stderr",
     "output_type": "stream",
     "text": [
      "[Training]: 100%|██████████| 4/4 [00:00<00:00, 30.76it/s]\n",
      "[Validation]: 100%|██████████| 33/33 [00:00<00:00, 85.53it/s] \n"
     ]
    },
    {
     "name": "stdout",
     "output_type": "stream",
     "text": [
      "Train Loss: 0.0793 | Val Loss: 0.2140 | SpearmanR: 0.3726\n",
      "Using Model 3 to evaluate remaining training pool...\n"
     ]
    },
    {
     "name": "stderr",
     "output_type": "stream",
     "text": [
      "[Surveying]: 100%|██████████| 260/260 [00:02<00:00, 98.91it/s] \n",
      "Some weights of EsmForSequenceClassification were not initialized from the model checkpoint at facebook/esm2_t6_8M_UR50D and are newly initialized: ['classifier.dense.bias', 'classifier.dense.weight', 'classifier.out_proj.bias', 'classifier.out_proj.weight']\n",
      "You should probably TRAIN this model on a down-stream task to be able to use it for predictions and inference.\n"
     ]
    },
    {
     "name": "stdout",
     "output_type": "stream",
     "text": [
      "Training Model 4...\n",
      "\n",
      "Epoch 1/20\n",
      "----------------------------\n"
     ]
    },
    {
     "name": "stderr",
     "output_type": "stream",
     "text": [
      "[Training]: 100%|██████████| 4/4 [00:00<00:00, 43.28it/s]\n",
      "[Validation]: 100%|██████████| 33/33 [00:00<00:00, 141.37it/s]\n"
     ]
    },
    {
     "name": "stdout",
     "output_type": "stream",
     "text": [
      "Train Loss: 0.2213 | Val Loss: 0.1983 | SpearmanR: 0.1306\n",
      "\n",
      "Epoch 2/20\n",
      "----------------------------\n"
     ]
    },
    {
     "name": "stderr",
     "output_type": "stream",
     "text": [
      "[Training]: 100%|██████████| 4/4 [00:00<00:00, 44.06it/s]\n",
      "[Validation]: 100%|██████████| 33/33 [00:00<00:00, 138.70it/s]\n"
     ]
    },
    {
     "name": "stdout",
     "output_type": "stream",
     "text": [
      "Train Loss: 0.2040 | Val Loss: 0.2046 | SpearmanR: 0.1190\n",
      "\n",
      "Epoch 3/20\n",
      "----------------------------\n"
     ]
    },
    {
     "name": "stderr",
     "output_type": "stream",
     "text": [
      "[Training]: 100%|██████████| 4/4 [00:00<00:00, 46.99it/s]\n",
      "[Validation]: 100%|██████████| 33/33 [00:00<00:00, 133.96it/s]\n"
     ]
    },
    {
     "name": "stdout",
     "output_type": "stream",
     "text": [
      "Train Loss: 0.1932 | Val Loss: 0.2096 | SpearmanR: 0.1844\n",
      "\n",
      "Epoch 4/20\n",
      "----------------------------\n"
     ]
    },
    {
     "name": "stderr",
     "output_type": "stream",
     "text": [
      "[Training]: 100%|██████████| 4/4 [00:00<00:00, 41.18it/s]\n",
      "[Validation]: 100%|██████████| 33/33 [00:00<00:00, 128.35it/s]\n"
     ]
    },
    {
     "name": "stdout",
     "output_type": "stream",
     "text": [
      "Train Loss: 0.1928 | Val Loss: 0.2146 | SpearmanR: 0.2230\n",
      "\n",
      "Epoch 5/20\n",
      "----------------------------\n"
     ]
    },
    {
     "name": "stderr",
     "output_type": "stream",
     "text": [
      "[Training]: 100%|██████████| 4/4 [00:00<00:00, 33.86it/s]\n",
      "[Validation]: 100%|██████████| 33/33 [00:00<00:00, 83.98it/s]\n"
     ]
    },
    {
     "name": "stdout",
     "output_type": "stream",
     "text": [
      "Train Loss: 0.1933 | Val Loss: 0.2191 | SpearmanR: 0.2606\n",
      "\n",
      "Epoch 6/20\n",
      "----------------------------\n"
     ]
    },
    {
     "name": "stderr",
     "output_type": "stream",
     "text": [
      "[Training]: 100%|██████████| 4/4 [00:00<00:00, 39.36it/s]\n",
      "[Validation]: 100%|██████████| 33/33 [00:00<00:00, 107.69it/s]\n"
     ]
    },
    {
     "name": "stdout",
     "output_type": "stream",
     "text": [
      "Train Loss: 0.1914 | Val Loss: 0.2139 | SpearmanR: 0.2767\n",
      "\n",
      "Epoch 7/20\n",
      "----------------------------\n"
     ]
    },
    {
     "name": "stderr",
     "output_type": "stream",
     "text": [
      "[Training]: 100%|██████████| 4/4 [00:00<00:00, 34.62it/s]\n",
      "[Validation]: 100%|██████████| 33/33 [00:00<00:00, 90.23it/s]\n"
     ]
    },
    {
     "name": "stdout",
     "output_type": "stream",
     "text": [
      "Train Loss: 0.1919 | Val Loss: 0.2054 | SpearmanR: 0.2875\n",
      "\n",
      "Epoch 8/20\n",
      "----------------------------\n"
     ]
    },
    {
     "name": "stderr",
     "output_type": "stream",
     "text": [
      "[Training]: 100%|██████████| 4/4 [00:00<00:00, 34.91it/s]\n",
      "[Validation]: 100%|██████████| 33/33 [00:00<00:00, 104.80it/s]\n"
     ]
    },
    {
     "name": "stdout",
     "output_type": "stream",
     "text": [
      "Train Loss: 0.1872 | Val Loss: 0.2069 | SpearmanR: 0.3358\n",
      "\n",
      "Epoch 9/20\n",
      "----------------------------\n"
     ]
    },
    {
     "name": "stderr",
     "output_type": "stream",
     "text": [
      "[Training]: 100%|██████████| 4/4 [00:00<00:00, 31.79it/s]\n",
      "[Validation]: 100%|██████████| 33/33 [00:00<00:00, 83.99it/s]\n"
     ]
    },
    {
     "name": "stdout",
     "output_type": "stream",
     "text": [
      "Train Loss: 0.1841 | Val Loss: 0.2016 | SpearmanR: 0.3387\n",
      "\n",
      "Epoch 10/20\n",
      "----------------------------\n"
     ]
    },
    {
     "name": "stderr",
     "output_type": "stream",
     "text": [
      "[Training]: 100%|██████████| 4/4 [00:00<00:00, 28.04it/s]\n",
      "[Validation]: 100%|██████████| 33/33 [00:00<00:00, 79.56it/s]\n"
     ]
    },
    {
     "name": "stdout",
     "output_type": "stream",
     "text": [
      "Train Loss: 0.1771 | Val Loss: 0.2041 | SpearmanR: 0.3503\n",
      "\n",
      "Epoch 11/20\n",
      "----------------------------\n"
     ]
    },
    {
     "name": "stderr",
     "output_type": "stream",
     "text": [
      "[Training]: 100%|██████████| 4/4 [00:00<00:00, 31.77it/s]\n",
      "[Validation]: 100%|██████████| 33/33 [00:00<00:00, 104.79it/s]\n"
     ]
    },
    {
     "name": "stdout",
     "output_type": "stream",
     "text": [
      "Train Loss: 0.1671 | Val Loss: 0.1970 | SpearmanR: 0.3621\n",
      "\n",
      "Epoch 12/20\n",
      "----------------------------\n"
     ]
    },
    {
     "name": "stderr",
     "output_type": "stream",
     "text": [
      "[Training]: 100%|██████████| 4/4 [00:00<00:00, 38.22it/s]\n",
      "[Validation]: 100%|██████████| 33/33 [00:00<00:00, 124.45it/s]\n"
     ]
    },
    {
     "name": "stdout",
     "output_type": "stream",
     "text": [
      "Train Loss: 0.1486 | Val Loss: 0.1845 | SpearmanR: 0.3753\n",
      "\n",
      "Epoch 13/20\n",
      "----------------------------\n"
     ]
    },
    {
     "name": "stderr",
     "output_type": "stream",
     "text": [
      "[Training]: 100%|██████████| 4/4 [00:00<00:00, 46.68it/s]\n",
      "[Validation]: 100%|██████████| 33/33 [00:00<00:00, 91.02it/s]\n"
     ]
    },
    {
     "name": "stdout",
     "output_type": "stream",
     "text": [
      "Train Loss: 0.1261 | Val Loss: 0.1726 | SpearmanR: 0.3956\n",
      "\n",
      "Epoch 14/20\n",
      "----------------------------\n"
     ]
    },
    {
     "name": "stderr",
     "output_type": "stream",
     "text": [
      "[Training]: 100%|██████████| 4/4 [00:00<00:00, 36.10it/s]\n",
      "[Validation]: 100%|██████████| 33/33 [00:00<00:00, 124.08it/s]\n"
     ]
    },
    {
     "name": "stdout",
     "output_type": "stream",
     "text": [
      "Train Loss: 0.1089 | Val Loss: 0.1948 | SpearmanR: 0.3959\n",
      "\n",
      "Epoch 15/20\n",
      "----------------------------\n"
     ]
    },
    {
     "name": "stderr",
     "output_type": "stream",
     "text": [
      "[Training]: 100%|██████████| 4/4 [00:00<00:00, 31.64it/s]\n",
      "[Validation]: 100%|██████████| 33/33 [00:00<00:00, 93.25it/s]\n"
     ]
    },
    {
     "name": "stdout",
     "output_type": "stream",
     "text": [
      "Train Loss: 0.0974 | Val Loss: 0.1902 | SpearmanR: 0.4014\n",
      "\n",
      "Epoch 16/20\n",
      "----------------------------\n"
     ]
    },
    {
     "name": "stderr",
     "output_type": "stream",
     "text": [
      "[Training]: 100%|██████████| 4/4 [00:00<00:00, 33.99it/s]\n",
      "[Validation]: 100%|██████████| 33/33 [00:00<00:00, 92.27it/s] \n"
     ]
    },
    {
     "name": "stdout",
     "output_type": "stream",
     "text": [
      "Train Loss: 0.0937 | Val Loss: 0.1683 | SpearmanR: 0.4171\n",
      "\n",
      "Epoch 17/20\n",
      "----------------------------\n"
     ]
    },
    {
     "name": "stderr",
     "output_type": "stream",
     "text": [
      "[Training]: 100%|██████████| 4/4 [00:00<00:00, 27.93it/s]\n",
      "[Validation]: 100%|██████████| 33/33 [00:00<00:00, 98.18it/s] \n"
     ]
    },
    {
     "name": "stdout",
     "output_type": "stream",
     "text": [
      "Train Loss: 0.0835 | Val Loss: 0.1812 | SpearmanR: 0.4266\n",
      "\n",
      "Epoch 18/20\n",
      "----------------------------\n"
     ]
    },
    {
     "name": "stderr",
     "output_type": "stream",
     "text": [
      "[Training]: 100%|██████████| 4/4 [00:00<00:00, 33.38it/s]\n",
      "[Validation]: 100%|██████████| 33/33 [00:00<00:00, 96.89it/s]\n"
     ]
    },
    {
     "name": "stdout",
     "output_type": "stream",
     "text": [
      "Train Loss: 0.0759 | Val Loss: 0.1743 | SpearmanR: 0.4140\n",
      "\n",
      "Epoch 19/20\n",
      "----------------------------\n"
     ]
    },
    {
     "name": "stderr",
     "output_type": "stream",
     "text": [
      "[Training]: 100%|██████████| 4/4 [00:00<00:00, 33.27it/s]\n",
      "[Validation]: 100%|██████████| 33/33 [00:00<00:00, 105.17it/s]\n"
     ]
    },
    {
     "name": "stdout",
     "output_type": "stream",
     "text": [
      "Train Loss: 0.0679 | Val Loss: 0.2068 | SpearmanR: 0.4340\n",
      "\n",
      "Epoch 20/20\n",
      "----------------------------\n"
     ]
    },
    {
     "name": "stderr",
     "output_type": "stream",
     "text": [
      "[Training]: 100%|██████████| 4/4 [00:00<00:00, 28.30it/s]\n",
      "[Validation]: 100%|██████████| 33/33 [00:00<00:00, 118.96it/s]\n"
     ]
    },
    {
     "name": "stdout",
     "output_type": "stream",
     "text": [
      "Train Loss: 0.0630 | Val Loss: 0.1919 | SpearmanR: 0.4165\n",
      "Using Model 4 to evaluate remaining training pool...\n"
     ]
    },
    {
     "name": "stderr",
     "output_type": "stream",
     "text": [
      "[Surveying]: 100%|██████████| 260/260 [00:02<00:00, 122.19it/s]\n",
      "Some weights of EsmForSequenceClassification were not initialized from the model checkpoint at facebook/esm2_t6_8M_UR50D and are newly initialized: ['classifier.dense.bias', 'classifier.dense.weight', 'classifier.out_proj.bias', 'classifier.out_proj.weight']\n",
      "You should probably TRAIN this model on a down-stream task to be able to use it for predictions and inference.\n"
     ]
    },
    {
     "name": "stdout",
     "output_type": "stream",
     "text": [
      "Training Model 5...\n",
      "\n",
      "Epoch 1/20\n",
      "----------------------------\n"
     ]
    },
    {
     "name": "stderr",
     "output_type": "stream",
     "text": [
      "[Training]: 100%|██████████| 4/4 [00:00<00:00, 40.16it/s]\n",
      "[Validation]: 100%|██████████| 33/33 [00:00<00:00, 156.04it/s]\n"
     ]
    },
    {
     "name": "stdout",
     "output_type": "stream",
     "text": [
      "Train Loss: 0.2090 | Val Loss: 0.2020 | SpearmanR: -0.0470\n",
      "\n",
      "Epoch 2/20\n",
      "----------------------------\n"
     ]
    },
    {
     "name": "stderr",
     "output_type": "stream",
     "text": [
      "[Training]: 100%|██████████| 4/4 [00:00<00:00, 44.22it/s]\n",
      "[Validation]: 100%|██████████| 33/33 [00:00<00:00, 117.71it/s]\n"
     ]
    },
    {
     "name": "stdout",
     "output_type": "stream",
     "text": [
      "Train Loss: 0.1928 | Val Loss: 0.2163 | SpearmanR: 0.0815\n",
      "\n",
      "Epoch 3/20\n",
      "----------------------------\n"
     ]
    },
    {
     "name": "stderr",
     "output_type": "stream",
     "text": [
      "[Training]: 100%|██████████| 4/4 [00:00<00:00, 31.92it/s]\n",
      "[Validation]: 100%|██████████| 33/33 [00:00<00:00, 94.93it/s]\n"
     ]
    },
    {
     "name": "stdout",
     "output_type": "stream",
     "text": [
      "Train Loss: 0.1921 | Val Loss: 0.2250 | SpearmanR: 0.1318\n",
      "\n",
      "Epoch 4/20\n",
      "----------------------------\n"
     ]
    },
    {
     "name": "stderr",
     "output_type": "stream",
     "text": [
      "[Training]: 100%|██████████| 4/4 [00:00<00:00, 34.55it/s]\n",
      "[Validation]: 100%|██████████| 33/33 [00:00<00:00, 101.71it/s]\n"
     ]
    },
    {
     "name": "stdout",
     "output_type": "stream",
     "text": [
      "Train Loss: 0.1908 | Val Loss: 0.2232 | SpearmanR: 0.1568\n",
      "\n",
      "Epoch 5/20\n",
      "----------------------------\n"
     ]
    },
    {
     "name": "stderr",
     "output_type": "stream",
     "text": [
      "[Training]: 100%|██████████| 4/4 [00:00<00:00, 35.02it/s]\n",
      "[Validation]: 100%|██████████| 33/33 [00:00<00:00, 94.82it/s]\n"
     ]
    },
    {
     "name": "stdout",
     "output_type": "stream",
     "text": [
      "Train Loss: 0.1886 | Val Loss: 0.2159 | SpearmanR: 0.2458\n",
      "\n",
      "Epoch 6/20\n",
      "----------------------------\n"
     ]
    },
    {
     "name": "stderr",
     "output_type": "stream",
     "text": [
      "[Training]: 100%|██████████| 4/4 [00:00<00:00, 37.79it/s]\n",
      "[Validation]: 100%|██████████| 33/33 [00:00<00:00, 140.96it/s]\n"
     ]
    },
    {
     "name": "stdout",
     "output_type": "stream",
     "text": [
      "Train Loss: 0.1857 | Val Loss: 0.2135 | SpearmanR: 0.2335\n",
      "\n",
      "Epoch 7/20\n",
      "----------------------------\n"
     ]
    },
    {
     "name": "stderr",
     "output_type": "stream",
     "text": [
      "[Training]: 100%|██████████| 4/4 [00:00<00:00, 41.51it/s]\n",
      "[Validation]: 100%|██████████| 33/33 [00:00<00:00, 97.22it/s] \n"
     ]
    },
    {
     "name": "stdout",
     "output_type": "stream",
     "text": [
      "Train Loss: 0.1826 | Val Loss: 0.2267 | SpearmanR: 0.2735\n",
      "\n",
      "Epoch 8/20\n",
      "----------------------------\n"
     ]
    },
    {
     "name": "stderr",
     "output_type": "stream",
     "text": [
      "[Training]: 100%|██████████| 4/4 [00:00<00:00, 33.09it/s]\n",
      "[Validation]: 100%|██████████| 33/33 [00:00<00:00, 98.28it/s] \n"
     ]
    },
    {
     "name": "stdout",
     "output_type": "stream",
     "text": [
      "Train Loss: 0.1725 | Val Loss: 0.2151 | SpearmanR: 0.3194\n",
      "\n",
      "Epoch 9/20\n",
      "----------------------------\n"
     ]
    },
    {
     "name": "stderr",
     "output_type": "stream",
     "text": [
      "[Training]: 100%|██████████| 4/4 [00:00<00:00, 33.59it/s]\n",
      "[Validation]: 100%|██████████| 33/33 [00:00<00:00, 114.26it/s]\n"
     ]
    },
    {
     "name": "stdout",
     "output_type": "stream",
     "text": [
      "Train Loss: 0.1686 | Val Loss: 0.2139 | SpearmanR: 0.2698\n",
      "\n",
      "Epoch 10/20\n",
      "----------------------------\n"
     ]
    },
    {
     "name": "stderr",
     "output_type": "stream",
     "text": [
      "[Training]: 100%|██████████| 4/4 [00:00<00:00, 42.25it/s]\n",
      "[Validation]: 100%|██████████| 33/33 [00:00<00:00, 133.00it/s]\n"
     ]
    },
    {
     "name": "stdout",
     "output_type": "stream",
     "text": [
      "Train Loss: 0.1607 | Val Loss: 0.2175 | SpearmanR: 0.2961\n",
      "\n",
      "Epoch 11/20\n",
      "----------------------------\n"
     ]
    },
    {
     "name": "stderr",
     "output_type": "stream",
     "text": [
      "[Training]: 100%|██████████| 4/4 [00:00<00:00, 36.99it/s]\n",
      "[Validation]: 100%|██████████| 33/33 [00:00<00:00, 115.84it/s]\n"
     ]
    },
    {
     "name": "stdout",
     "output_type": "stream",
     "text": [
      "Train Loss: 0.1487 | Val Loss: 0.2219 | SpearmanR: 0.2880\n",
      "\n",
      "Epoch 12/20\n",
      "----------------------------\n"
     ]
    },
    {
     "name": "stderr",
     "output_type": "stream",
     "text": [
      "[Training]: 100%|██████████| 4/4 [00:00<00:00, 30.29it/s]\n",
      "[Validation]: 100%|██████████| 33/33 [00:00<00:00, 103.24it/s]\n"
     ]
    },
    {
     "name": "stdout",
     "output_type": "stream",
     "text": [
      "Train Loss: 0.1350 | Val Loss: 0.1948 | SpearmanR: 0.3266\n",
      "\n",
      "Epoch 13/20\n",
      "----------------------------\n"
     ]
    },
    {
     "name": "stderr",
     "output_type": "stream",
     "text": [
      "[Training]: 100%|██████████| 4/4 [00:00<00:00, 37.04it/s]\n",
      "[Validation]: 100%|██████████| 33/33 [00:00<00:00, 103.27it/s]\n"
     ]
    },
    {
     "name": "stdout",
     "output_type": "stream",
     "text": [
      "Train Loss: 0.1184 | Val Loss: 0.1922 | SpearmanR: 0.3928\n",
      "\n",
      "Epoch 14/20\n",
      "----------------------------\n"
     ]
    },
    {
     "name": "stderr",
     "output_type": "stream",
     "text": [
      "[Training]: 100%|██████████| 4/4 [00:00<00:00, 28.98it/s]\n",
      "[Validation]: 100%|██████████| 33/33 [00:00<00:00, 88.32it/s]\n"
     ]
    },
    {
     "name": "stdout",
     "output_type": "stream",
     "text": [
      "Train Loss: 0.1126 | Val Loss: 0.1787 | SpearmanR: 0.3851\n",
      "\n",
      "Epoch 15/20\n",
      "----------------------------\n"
     ]
    },
    {
     "name": "stderr",
     "output_type": "stream",
     "text": [
      "[Training]: 100%|██████████| 4/4 [00:00<00:00, 29.20it/s]\n",
      "[Validation]: 100%|██████████| 33/33 [00:00<00:00, 92.40it/s]\n"
     ]
    },
    {
     "name": "stdout",
     "output_type": "stream",
     "text": [
      "Train Loss: 0.0923 | Val Loss: 0.2232 | SpearmanR: 0.3938\n",
      "\n",
      "Epoch 16/20\n",
      "----------------------------\n"
     ]
    },
    {
     "name": "stderr",
     "output_type": "stream",
     "text": [
      "[Training]: 100%|██████████| 4/4 [00:00<00:00, 35.29it/s]\n",
      "[Validation]: 100%|██████████| 33/33 [00:00<00:00, 107.54it/s]\n"
     ]
    },
    {
     "name": "stdout",
     "output_type": "stream",
     "text": [
      "Train Loss: 0.0985 | Val Loss: 0.1789 | SpearmanR: 0.3883\n",
      "\n",
      "Epoch 17/20\n",
      "----------------------------\n"
     ]
    },
    {
     "name": "stderr",
     "output_type": "stream",
     "text": [
      "[Training]: 100%|██████████| 4/4 [00:00<00:00, 32.49it/s]\n",
      "[Validation]: 100%|██████████| 33/33 [00:00<00:00, 98.53it/s] \n"
     ]
    },
    {
     "name": "stdout",
     "output_type": "stream",
     "text": [
      "Train Loss: 0.0864 | Val Loss: 0.1915 | SpearmanR: 0.3896\n",
      "\n",
      "Epoch 18/20\n",
      "----------------------------\n"
     ]
    },
    {
     "name": "stderr",
     "output_type": "stream",
     "text": [
      "[Training]: 100%|██████████| 4/4 [00:00<00:00, 34.45it/s]\n",
      "[Validation]: 100%|██████████| 33/33 [00:00<00:00, 91.25it/s]\n"
     ]
    },
    {
     "name": "stdout",
     "output_type": "stream",
     "text": [
      "Train Loss: 0.0664 | Val Loss: 0.1765 | SpearmanR: 0.3930\n",
      "\n",
      "Epoch 19/20\n",
      "----------------------------\n"
     ]
    },
    {
     "name": "stderr",
     "output_type": "stream",
     "text": [
      "[Training]: 100%|██████████| 4/4 [00:00<00:00, 34.48it/s]\n",
      "[Validation]: 100%|██████████| 33/33 [00:00<00:00, 102.24it/s]\n"
     ]
    },
    {
     "name": "stdout",
     "output_type": "stream",
     "text": [
      "Train Loss: 0.0692 | Val Loss: 0.1850 | SpearmanR: 0.4077\n",
      "\n",
      "Epoch 20/20\n",
      "----------------------------\n"
     ]
    },
    {
     "name": "stderr",
     "output_type": "stream",
     "text": [
      "[Training]: 100%|██████████| 4/4 [00:00<00:00, 41.79it/s]\n",
      "[Validation]: 100%|██████████| 33/33 [00:00<00:00, 128.44it/s]\n"
     ]
    },
    {
     "name": "stdout",
     "output_type": "stream",
     "text": [
      "Train Loss: 0.0598 | Val Loss: 0.1804 | SpearmanR: 0.4000\n",
      "Using Model 5 to evaluate remaining training pool...\n"
     ]
    },
    {
     "name": "stderr",
     "output_type": "stream",
     "text": [
      "[Surveying]: 100%|██████████| 260/260 [00:02<00:00, 118.86it/s]\n",
      "Some weights of EsmForSequenceClassification were not initialized from the model checkpoint at facebook/esm2_t6_8M_UR50D and are newly initialized: ['classifier.dense.bias', 'classifier.dense.weight', 'classifier.out_proj.bias', 'classifier.out_proj.weight']\n",
      "You should probably TRAIN this model on a down-stream task to be able to use it for predictions and inference.\n"
     ]
    },
    {
     "name": "stdout",
     "output_type": "stream",
     "text": [
      "Ensemble training complete, submitting predictions for next cycle.\n",
      "[Cycle 3]\n",
      "\n",
      "Selecting new data points...\n",
      "Starting ensemble training and pool evaluation...\n",
      "Training Model 1...\n",
      "\n",
      "Epoch 1/20\n",
      "----------------------------\n"
     ]
    },
    {
     "name": "stderr",
     "output_type": "stream",
     "text": [
      "[Training]: 100%|██████████| 6/6 [00:00<00:00, 43.26it/s]\n",
      "[Validation]: 100%|██████████| 33/33 [00:00<00:00, 148.61it/s]\n"
     ]
    },
    {
     "name": "stdout",
     "output_type": "stream",
     "text": [
      "Train Loss: 0.2696 | Val Loss: 0.2023 | SpearmanR: -0.2559\n",
      "\n",
      "Epoch 2/20\n",
      "----------------------------\n"
     ]
    },
    {
     "name": "stderr",
     "output_type": "stream",
     "text": [
      "[Training]: 100%|██████████| 6/6 [00:00<00:00, 48.58it/s]\n",
      "[Validation]: 100%|██████████| 33/33 [00:00<00:00, 97.50it/s] \n"
     ]
    },
    {
     "name": "stdout",
     "output_type": "stream",
     "text": [
      "Train Loss: 0.2356 | Val Loss: 0.2153 | SpearmanR: -0.2062\n",
      "\n",
      "Epoch 3/20\n",
      "----------------------------\n"
     ]
    },
    {
     "name": "stderr",
     "output_type": "stream",
     "text": [
      "[Training]: 100%|██████████| 6/6 [00:00<00:00, 30.87it/s]\n",
      "[Validation]: 100%|██████████| 33/33 [00:00<00:00, 97.12it/s] \n"
     ]
    },
    {
     "name": "stdout",
     "output_type": "stream",
     "text": [
      "Train Loss: 0.2327 | Val Loss: 0.2176 | SpearmanR: -0.1481\n",
      "\n",
      "Epoch 4/20\n",
      "----------------------------\n"
     ]
    },
    {
     "name": "stderr",
     "output_type": "stream",
     "text": [
      "[Training]: 100%|██████████| 6/6 [00:00<00:00, 31.48it/s]\n",
      "[Validation]: 100%|██████████| 33/33 [00:00<00:00, 87.07it/s]\n"
     ]
    },
    {
     "name": "stdout",
     "output_type": "stream",
     "text": [
      "Train Loss: 0.2321 | Val Loss: 0.2142 | SpearmanR: -0.0746\n",
      "\n",
      "Epoch 5/20\n",
      "----------------------------\n"
     ]
    },
    {
     "name": "stderr",
     "output_type": "stream",
     "text": [
      "[Training]: 100%|██████████| 6/6 [00:00<00:00, 33.59it/s]\n",
      "[Validation]: 100%|██████████| 33/33 [00:00<00:00, 88.74it/s] \n"
     ]
    },
    {
     "name": "stdout",
     "output_type": "stream",
     "text": [
      "Train Loss: 0.2293 | Val Loss: 0.2141 | SpearmanR: 0.0155\n",
      "\n",
      "Epoch 6/20\n",
      "----------------------------\n"
     ]
    },
    {
     "name": "stderr",
     "output_type": "stream",
     "text": [
      "[Training]: 100%|██████████| 6/6 [00:00<00:00, 32.63it/s]\n",
      "[Validation]: 100%|██████████| 33/33 [00:00<00:00, 102.58it/s]\n"
     ]
    },
    {
     "name": "stdout",
     "output_type": "stream",
     "text": [
      "Train Loss: 0.2260 | Val Loss: 0.2150 | SpearmanR: 0.0919\n",
      "\n",
      "Epoch 7/20\n",
      "----------------------------\n"
     ]
    },
    {
     "name": "stderr",
     "output_type": "stream",
     "text": [
      "[Training]: 100%|██████████| 6/6 [00:00<00:00, 31.65it/s]\n",
      "[Validation]: 100%|██████████| 33/33 [00:00<00:00, 136.73it/s]\n"
     ]
    },
    {
     "name": "stdout",
     "output_type": "stream",
     "text": [
      "Train Loss: 0.2189 | Val Loss: 0.2166 | SpearmanR: 0.1020\n",
      "\n",
      "Epoch 8/20\n",
      "----------------------------\n"
     ]
    },
    {
     "name": "stderr",
     "output_type": "stream",
     "text": [
      "[Training]: 100%|██████████| 6/6 [00:00<00:00, 37.21it/s]\n",
      "[Validation]: 100%|██████████| 33/33 [00:00<00:00, 99.95it/s] \n"
     ]
    },
    {
     "name": "stdout",
     "output_type": "stream",
     "text": [
      "Train Loss: 0.2104 | Val Loss: 0.2496 | SpearmanR: 0.1760\n",
      "\n",
      "Epoch 9/20\n",
      "----------------------------\n"
     ]
    },
    {
     "name": "stderr",
     "output_type": "stream",
     "text": [
      "[Training]: 100%|██████████| 6/6 [00:00<00:00, 37.41it/s]\n",
      "[Validation]: 100%|██████████| 33/33 [00:00<00:00, 89.73it/s]\n"
     ]
    },
    {
     "name": "stdout",
     "output_type": "stream",
     "text": [
      "Train Loss: 0.2035 | Val Loss: 0.1965 | SpearmanR: 0.2196\n",
      "\n",
      "Epoch 10/20\n",
      "----------------------------\n"
     ]
    },
    {
     "name": "stderr",
     "output_type": "stream",
     "text": [
      "[Training]: 100%|██████████| 6/6 [00:00<00:00, 31.68it/s]\n",
      "[Validation]: 100%|██████████| 33/33 [00:00<00:00, 73.94it/s]\n"
     ]
    },
    {
     "name": "stdout",
     "output_type": "stream",
     "text": [
      "Train Loss: 0.1984 | Val Loss: 0.2272 | SpearmanR: 0.1819\n",
      "\n",
      "Epoch 11/20\n",
      "----------------------------\n"
     ]
    },
    {
     "name": "stderr",
     "output_type": "stream",
     "text": [
      "[Training]: 100%|██████████| 6/6 [00:00<00:00, 29.47it/s]\n",
      "[Validation]: 100%|██████████| 33/33 [00:00<00:00, 119.10it/s]\n"
     ]
    },
    {
     "name": "stdout",
     "output_type": "stream",
     "text": [
      "Train Loss: 0.1633 | Val Loss: 0.2066 | SpearmanR: 0.1651\n",
      "\n",
      "Epoch 12/20\n",
      "----------------------------\n"
     ]
    },
    {
     "name": "stderr",
     "output_type": "stream",
     "text": [
      "[Training]: 100%|██████████| 6/6 [00:00<00:00, 47.98it/s]\n",
      "[Validation]: 100%|██████████| 33/33 [00:00<00:00, 101.70it/s]\n"
     ]
    },
    {
     "name": "stdout",
     "output_type": "stream",
     "text": [
      "Train Loss: 0.1390 | Val Loss: 0.1935 | SpearmanR: 0.2272\n",
      "\n",
      "Epoch 13/20\n",
      "----------------------------\n"
     ]
    },
    {
     "name": "stderr",
     "output_type": "stream",
     "text": [
      "[Training]: 100%|██████████| 6/6 [00:00<00:00, 43.84it/s]\n",
      "[Validation]: 100%|██████████| 33/33 [00:00<00:00, 108.45it/s]\n"
     ]
    },
    {
     "name": "stdout",
     "output_type": "stream",
     "text": [
      "Train Loss: 0.1222 | Val Loss: 0.2448 | SpearmanR: 0.2692\n",
      "\n",
      "Epoch 14/20\n",
      "----------------------------\n"
     ]
    },
    {
     "name": "stderr",
     "output_type": "stream",
     "text": [
      "[Training]: 100%|██████████| 6/6 [00:00<00:00, 35.85it/s]\n",
      "[Validation]: 100%|██████████| 33/33 [00:00<00:00, 88.57it/s]\n"
     ]
    },
    {
     "name": "stdout",
     "output_type": "stream",
     "text": [
      "Train Loss: 0.1166 | Val Loss: 0.2112 | SpearmanR: 0.2706\n",
      "\n",
      "Epoch 15/20\n",
      "----------------------------\n"
     ]
    },
    {
     "name": "stderr",
     "output_type": "stream",
     "text": [
      "[Training]: 100%|██████████| 6/6 [00:00<00:00, 34.14it/s]\n",
      "[Validation]: 100%|██████████| 33/33 [00:00<00:00, 114.31it/s]\n"
     ]
    },
    {
     "name": "stdout",
     "output_type": "stream",
     "text": [
      "Train Loss: 0.1123 | Val Loss: 0.2018 | SpearmanR: 0.3020\n",
      "\n",
      "Epoch 16/20\n",
      "----------------------------\n"
     ]
    },
    {
     "name": "stderr",
     "output_type": "stream",
     "text": [
      "[Training]: 100%|██████████| 6/6 [00:00<00:00, 45.52it/s]\n",
      "[Validation]: 100%|██████████| 33/33 [00:00<00:00, 101.19it/s]\n"
     ]
    },
    {
     "name": "stdout",
     "output_type": "stream",
     "text": [
      "Train Loss: 0.1054 | Val Loss: 0.2499 | SpearmanR: 0.3111\n",
      "\n",
      "Epoch 17/20\n",
      "----------------------------\n"
     ]
    },
    {
     "name": "stderr",
     "output_type": "stream",
     "text": [
      "[Training]: 100%|██████████| 6/6 [00:00<00:00, 36.31it/s]\n",
      "[Validation]: 100%|██████████| 33/33 [00:00<00:00, 106.63it/s]\n"
     ]
    },
    {
     "name": "stdout",
     "output_type": "stream",
     "text": [
      "Train Loss: 0.0884 | Val Loss: 0.1959 | SpearmanR: 0.3323\n",
      "\n",
      "Epoch 18/20\n",
      "----------------------------\n"
     ]
    },
    {
     "name": "stderr",
     "output_type": "stream",
     "text": [
      "[Training]: 100%|██████████| 6/6 [00:00<00:00, 39.80it/s]\n",
      "[Validation]: 100%|██████████| 33/33 [00:00<00:00, 130.11it/s]\n"
     ]
    },
    {
     "name": "stdout",
     "output_type": "stream",
     "text": [
      "Train Loss: 0.0862 | Val Loss: 0.2364 | SpearmanR: 0.3448\n",
      "\n",
      "Epoch 19/20\n",
      "----------------------------\n"
     ]
    },
    {
     "name": "stderr",
     "output_type": "stream",
     "text": [
      "[Training]: 100%|██████████| 6/6 [00:00<00:00, 47.83it/s]\n",
      "[Validation]: 100%|██████████| 33/33 [00:00<00:00, 136.96it/s]\n"
     ]
    },
    {
     "name": "stdout",
     "output_type": "stream",
     "text": [
      "Train Loss: 0.0781 | Val Loss: 0.2019 | SpearmanR: 0.3522\n",
      "\n",
      "Epoch 20/20\n",
      "----------------------------\n"
     ]
    },
    {
     "name": "stderr",
     "output_type": "stream",
     "text": [
      "[Training]: 100%|██████████| 6/6 [00:00<00:00, 45.02it/s]\n",
      "[Validation]: 100%|██████████| 33/33 [00:00<00:00, 138.29it/s]\n"
     ]
    },
    {
     "name": "stdout",
     "output_type": "stream",
     "text": [
      "Train Loss: 0.0720 | Val Loss: 0.1916 | SpearmanR: 0.3699\n",
      "Using Model 1 to evaluate remaining training pool...\n"
     ]
    },
    {
     "name": "stderr",
     "output_type": "stream",
     "text": [
      "[Surveying]: 100%|██████████| 258/258 [00:01<00:00, 145.18it/s]\n",
      "Some weights of EsmForSequenceClassification were not initialized from the model checkpoint at facebook/esm2_t6_8M_UR50D and are newly initialized: ['classifier.dense.bias', 'classifier.dense.weight', 'classifier.out_proj.bias', 'classifier.out_proj.weight']\n",
      "You should probably TRAIN this model on a down-stream task to be able to use it for predictions and inference.\n"
     ]
    },
    {
     "name": "stdout",
     "output_type": "stream",
     "text": [
      "Training Model 2...\n",
      "\n",
      "Epoch 1/20\n",
      "----------------------------\n"
     ]
    },
    {
     "name": "stderr",
     "output_type": "stream",
     "text": [
      "[Training]: 100%|██████████| 6/6 [00:00<00:00, 47.69it/s]\n",
      "[Validation]: 100%|██████████| 33/33 [00:00<00:00, 114.21it/s]\n"
     ]
    },
    {
     "name": "stdout",
     "output_type": "stream",
     "text": [
      "Train Loss: 0.2452 | Val Loss: 0.2093 | SpearmanR: 0.0070\n",
      "\n",
      "Epoch 2/20\n",
      "----------------------------\n"
     ]
    },
    {
     "name": "stderr",
     "output_type": "stream",
     "text": [
      "[Training]: 100%|██████████| 6/6 [00:00<00:00, 49.57it/s]\n",
      "[Validation]: 100%|██████████| 33/33 [00:00<00:00, 143.08it/s]\n"
     ]
    },
    {
     "name": "stdout",
     "output_type": "stream",
     "text": [
      "Train Loss: 0.2403 | Val Loss: 0.2317 | SpearmanR: 0.1105\n",
      "\n",
      "Epoch 3/20\n",
      "----------------------------\n"
     ]
    },
    {
     "name": "stderr",
     "output_type": "stream",
     "text": [
      "[Training]: 100%|██████████| 6/6 [00:00<00:00, 53.11it/s]\n",
      "[Validation]: 100%|██████████| 33/33 [00:00<00:00, 139.08it/s]\n"
     ]
    },
    {
     "name": "stdout",
     "output_type": "stream",
     "text": [
      "Train Loss: 0.2402 | Val Loss: 0.2107 | SpearmanR: 0.1908\n",
      "\n",
      "Epoch 4/20\n",
      "----------------------------\n"
     ]
    },
    {
     "name": "stderr",
     "output_type": "stream",
     "text": [
      "[Training]: 100%|██████████| 6/6 [00:00<00:00, 48.38it/s]\n",
      "[Validation]: 100%|██████████| 33/33 [00:00<00:00, 135.20it/s]\n"
     ]
    },
    {
     "name": "stdout",
     "output_type": "stream",
     "text": [
      "Train Loss: 0.2319 | Val Loss: 0.2071 | SpearmanR: 0.2209\n",
      "\n",
      "Epoch 5/20\n",
      "----------------------------\n"
     ]
    },
    {
     "name": "stderr",
     "output_type": "stream",
     "text": [
      "[Training]: 100%|██████████| 6/6 [00:00<00:00, 41.13it/s]\n",
      "[Validation]: 100%|██████████| 33/33 [00:00<00:00, 105.71it/s]\n"
     ]
    },
    {
     "name": "stdout",
     "output_type": "stream",
     "text": [
      "Train Loss: 0.2305 | Val Loss: 0.2111 | SpearmanR: 0.2602\n",
      "\n",
      "Epoch 6/20\n",
      "----------------------------\n"
     ]
    },
    {
     "name": "stderr",
     "output_type": "stream",
     "text": [
      "[Training]: 100%|██████████| 6/6 [00:00<00:00, 36.46it/s]\n",
      "[Validation]: 100%|██████████| 33/33 [00:00<00:00, 99.70it/s] \n"
     ]
    },
    {
     "name": "stdout",
     "output_type": "stream",
     "text": [
      "Train Loss: 0.2268 | Val Loss: 0.2140 | SpearmanR: 0.2404\n",
      "\n",
      "Epoch 7/20\n",
      "----------------------------\n"
     ]
    },
    {
     "name": "stderr",
     "output_type": "stream",
     "text": [
      "[Training]: 100%|██████████| 6/6 [00:00<00:00, 34.87it/s]\n",
      "[Validation]: 100%|██████████| 33/33 [00:00<00:00, 101.89it/s]\n"
     ]
    },
    {
     "name": "stdout",
     "output_type": "stream",
     "text": [
      "Train Loss: 0.2215 | Val Loss: 0.2164 | SpearmanR: 0.1955\n",
      "\n",
      "Epoch 8/20\n",
      "----------------------------\n"
     ]
    },
    {
     "name": "stderr",
     "output_type": "stream",
     "text": [
      "[Training]: 100%|██████████| 6/6 [00:00<00:00, 40.30it/s]\n",
      "[Validation]: 100%|██████████| 33/33 [00:00<00:00, 95.03it/s] \n"
     ]
    },
    {
     "name": "stdout",
     "output_type": "stream",
     "text": [
      "Train Loss: 0.2097 | Val Loss: 0.2090 | SpearmanR: 0.1827\n",
      "\n",
      "Epoch 9/20\n",
      "----------------------------\n"
     ]
    },
    {
     "name": "stderr",
     "output_type": "stream",
     "text": [
      "[Training]: 100%|██████████| 6/6 [00:00<00:00, 33.61it/s]\n",
      "[Validation]: 100%|██████████| 33/33 [00:00<00:00, 131.27it/s]\n"
     ]
    },
    {
     "name": "stdout",
     "output_type": "stream",
     "text": [
      "Train Loss: 0.1990 | Val Loss: 0.2115 | SpearmanR: 0.2236\n",
      "\n",
      "Epoch 10/20\n",
      "----------------------------\n"
     ]
    },
    {
     "name": "stderr",
     "output_type": "stream",
     "text": [
      "[Training]: 100%|██████████| 6/6 [00:00<00:00, 43.94it/s]\n",
      "[Validation]: 100%|██████████| 33/33 [00:00<00:00, 127.34it/s]\n"
     ]
    },
    {
     "name": "stdout",
     "output_type": "stream",
     "text": [
      "Train Loss: 0.1785 | Val Loss: 0.2396 | SpearmanR: 0.2701\n",
      "\n",
      "Epoch 11/20\n",
      "----------------------------\n"
     ]
    },
    {
     "name": "stderr",
     "output_type": "stream",
     "text": [
      "[Training]: 100%|██████████| 6/6 [00:00<00:00, 33.22it/s]\n",
      "[Validation]: 100%|██████████| 33/33 [00:00<00:00, 86.57it/s]\n"
     ]
    },
    {
     "name": "stdout",
     "output_type": "stream",
     "text": [
      "Train Loss: 0.1553 | Val Loss: 0.1822 | SpearmanR: 0.2497\n",
      "\n",
      "Epoch 12/20\n",
      "----------------------------\n"
     ]
    },
    {
     "name": "stderr",
     "output_type": "stream",
     "text": [
      "[Training]: 100%|██████████| 6/6 [00:00<00:00, 28.94it/s]\n",
      "[Validation]: 100%|██████████| 33/33 [00:00<00:00, 94.16it/s]\n"
     ]
    },
    {
     "name": "stdout",
     "output_type": "stream",
     "text": [
      "Train Loss: 0.1549 | Val Loss: 0.3484 | SpearmanR: 0.3286\n",
      "\n",
      "Epoch 13/20\n",
      "----------------------------\n"
     ]
    },
    {
     "name": "stderr",
     "output_type": "stream",
     "text": [
      "[Training]: 100%|██████████| 6/6 [00:00<00:00, 31.18it/s]\n",
      "[Validation]: 100%|██████████| 33/33 [00:00<00:00, 83.71it/s]\n"
     ]
    },
    {
     "name": "stdout",
     "output_type": "stream",
     "text": [
      "Train Loss: 0.1621 | Val Loss: 0.1704 | SpearmanR: 0.3930\n",
      "\n",
      "Epoch 14/20\n",
      "----------------------------\n"
     ]
    },
    {
     "name": "stderr",
     "output_type": "stream",
     "text": [
      "[Training]: 100%|██████████| 6/6 [00:00<00:00, 34.81it/s]\n",
      "[Validation]: 100%|██████████| 33/33 [00:00<00:00, 100.66it/s]\n"
     ]
    },
    {
     "name": "stdout",
     "output_type": "stream",
     "text": [
      "Train Loss: 0.1343 | Val Loss: 0.2080 | SpearmanR: 0.4094\n",
      "\n",
      "Epoch 15/20\n",
      "----------------------------\n"
     ]
    },
    {
     "name": "stderr",
     "output_type": "stream",
     "text": [
      "[Training]: 100%|██████████| 6/6 [00:00<00:00, 37.89it/s]\n",
      "[Validation]: 100%|██████████| 33/33 [00:00<00:00, 121.59it/s]\n"
     ]
    },
    {
     "name": "stdout",
     "output_type": "stream",
     "text": [
      "Train Loss: 0.1224 | Val Loss: 0.2231 | SpearmanR: 0.4381\n",
      "\n",
      "Epoch 16/20\n",
      "----------------------------\n"
     ]
    },
    {
     "name": "stderr",
     "output_type": "stream",
     "text": [
      "[Training]: 100%|██████████| 6/6 [00:00<00:00, 46.51it/s]\n",
      "[Validation]: 100%|██████████| 33/33 [00:00<00:00, 124.20it/s]\n"
     ]
    },
    {
     "name": "stdout",
     "output_type": "stream",
     "text": [
      "Train Loss: 0.1070 | Val Loss: 0.1547 | SpearmanR: 0.4641\n",
      "\n",
      "Epoch 17/20\n",
      "----------------------------\n"
     ]
    },
    {
     "name": "stderr",
     "output_type": "stream",
     "text": [
      "[Training]: 100%|██████████| 6/6 [00:00<00:00, 35.73it/s]\n",
      "[Validation]: 100%|██████████| 33/33 [00:00<00:00, 107.79it/s]\n"
     ]
    },
    {
     "name": "stdout",
     "output_type": "stream",
     "text": [
      "Train Loss: 0.0892 | Val Loss: 0.2148 | SpearmanR: 0.4603\n",
      "\n",
      "Epoch 18/20\n",
      "----------------------------\n"
     ]
    },
    {
     "name": "stderr",
     "output_type": "stream",
     "text": [
      "[Training]: 100%|██████████| 6/6 [00:00<00:00, 32.96it/s]\n",
      "[Validation]: 100%|██████████| 33/33 [00:00<00:00, 85.01it/s]\n"
     ]
    },
    {
     "name": "stdout",
     "output_type": "stream",
     "text": [
      "Train Loss: 0.0784 | Val Loss: 0.1609 | SpearmanR: 0.4669\n",
      "\n",
      "Epoch 19/20\n",
      "----------------------------\n"
     ]
    },
    {
     "name": "stderr",
     "output_type": "stream",
     "text": [
      "[Training]: 100%|██████████| 6/6 [00:00<00:00, 28.83it/s]\n",
      "[Validation]: 100%|██████████| 33/33 [00:00<00:00, 128.89it/s]\n"
     ]
    },
    {
     "name": "stdout",
     "output_type": "stream",
     "text": [
      "Train Loss: 0.0734 | Val Loss: 0.1741 | SpearmanR: 0.4799\n",
      "\n",
      "Epoch 20/20\n",
      "----------------------------\n"
     ]
    },
    {
     "name": "stderr",
     "output_type": "stream",
     "text": [
      "[Training]: 100%|██████████| 6/6 [00:00<00:00, 45.87it/s]\n",
      "[Validation]: 100%|██████████| 33/33 [00:00<00:00, 87.43it/s]\n"
     ]
    },
    {
     "name": "stdout",
     "output_type": "stream",
     "text": [
      "Train Loss: 0.0817 | Val Loss: 0.1623 | SpearmanR: 0.4783\n",
      "Using Model 2 to evaluate remaining training pool...\n"
     ]
    },
    {
     "name": "stderr",
     "output_type": "stream",
     "text": [
      "[Surveying]: 100%|██████████| 258/258 [00:02<00:00, 127.10it/s]\n",
      "Some weights of EsmForSequenceClassification were not initialized from the model checkpoint at facebook/esm2_t6_8M_UR50D and are newly initialized: ['classifier.dense.bias', 'classifier.dense.weight', 'classifier.out_proj.bias', 'classifier.out_proj.weight']\n",
      "You should probably TRAIN this model on a down-stream task to be able to use it for predictions and inference.\n"
     ]
    },
    {
     "name": "stdout",
     "output_type": "stream",
     "text": [
      "Training Model 3...\n",
      "\n",
      "Epoch 1/20\n",
      "----------------------------\n"
     ]
    },
    {
     "name": "stderr",
     "output_type": "stream",
     "text": [
      "[Training]: 100%|██████████| 6/6 [00:00<00:00, 48.71it/s]\n",
      "[Validation]: 100%|██████████| 33/33 [00:00<00:00, 148.59it/s]\n"
     ]
    },
    {
     "name": "stdout",
     "output_type": "stream",
     "text": [
      "Train Loss: 0.2523 | Val Loss: 0.2039 | SpearmanR: -0.0286\n",
      "\n",
      "Epoch 2/20\n",
      "----------------------------\n"
     ]
    },
    {
     "name": "stderr",
     "output_type": "stream",
     "text": [
      "[Training]: 100%|██████████| 6/6 [00:00<00:00, 52.03it/s]\n",
      "[Validation]: 100%|██████████| 33/33 [00:00<00:00, 140.63it/s]\n"
     ]
    },
    {
     "name": "stdout",
     "output_type": "stream",
     "text": [
      "Train Loss: 0.2341 | Val Loss: 0.2209 | SpearmanR: 0.0988\n",
      "\n",
      "Epoch 3/20\n",
      "----------------------------\n"
     ]
    },
    {
     "name": "stderr",
     "output_type": "stream",
     "text": [
      "[Training]: 100%|██████████| 6/6 [00:00<00:00, 52.91it/s]\n",
      "[Validation]: 100%|██████████| 33/33 [00:00<00:00, 142.69it/s]\n"
     ]
    },
    {
     "name": "stdout",
     "output_type": "stream",
     "text": [
      "Train Loss: 0.2355 | Val Loss: 0.2130 | SpearmanR: 0.1554\n",
      "\n",
      "Epoch 4/20\n",
      "----------------------------\n"
     ]
    },
    {
     "name": "stderr",
     "output_type": "stream",
     "text": [
      "[Training]: 100%|██████████| 6/6 [00:00<00:00, 53.00it/s]\n",
      "[Validation]: 100%|██████████| 33/33 [00:00<00:00, 156.41it/s]\n"
     ]
    },
    {
     "name": "stdout",
     "output_type": "stream",
     "text": [
      "Train Loss: 0.2309 | Val Loss: 0.2164 | SpearmanR: 0.1613\n",
      "\n",
      "Epoch 5/20\n",
      "----------------------------\n"
     ]
    },
    {
     "name": "stderr",
     "output_type": "stream",
     "text": [
      "[Training]: 100%|██████████| 6/6 [00:00<00:00, 48.74it/s]\n",
      "[Validation]: 100%|██████████| 33/33 [00:00<00:00, 136.28it/s]\n"
     ]
    },
    {
     "name": "stdout",
     "output_type": "stream",
     "text": [
      "Train Loss: 0.2291 | Val Loss: 0.2172 | SpearmanR: 0.1709\n",
      "\n",
      "Epoch 6/20\n",
      "----------------------------\n"
     ]
    },
    {
     "name": "stderr",
     "output_type": "stream",
     "text": [
      "[Training]: 100%|██████████| 6/6 [00:00<00:00, 45.70it/s]\n",
      "[Validation]: 100%|██████████| 33/33 [00:00<00:00, 155.08it/s]\n"
     ]
    },
    {
     "name": "stdout",
     "output_type": "stream",
     "text": [
      "Train Loss: 0.2238 | Val Loss: 0.2113 | SpearmanR: 0.2195\n",
      "\n",
      "Epoch 7/20\n",
      "----------------------------\n"
     ]
    },
    {
     "name": "stderr",
     "output_type": "stream",
     "text": [
      "[Training]: 100%|██████████| 6/6 [00:00<00:00, 51.86it/s]\n",
      "[Validation]: 100%|██████████| 33/33 [00:00<00:00, 142.70it/s]\n"
     ]
    },
    {
     "name": "stdout",
     "output_type": "stream",
     "text": [
      "Train Loss: 0.2196 | Val Loss: 0.2170 | SpearmanR: 0.2216\n",
      "\n",
      "Epoch 8/20\n",
      "----------------------------\n"
     ]
    },
    {
     "name": "stderr",
     "output_type": "stream",
     "text": [
      "[Training]: 100%|██████████| 6/6 [00:00<00:00, 52.57it/s]\n",
      "[Validation]: 100%|██████████| 33/33 [00:00<00:00, 143.09it/s]\n"
     ]
    },
    {
     "name": "stdout",
     "output_type": "stream",
     "text": [
      "Train Loss: 0.2025 | Val Loss: 0.2251 | SpearmanR: 0.2128\n",
      "\n",
      "Epoch 9/20\n",
      "----------------------------\n"
     ]
    },
    {
     "name": "stderr",
     "output_type": "stream",
     "text": [
      "[Training]: 100%|██████████| 6/6 [00:00<00:00, 47.05it/s]\n",
      "[Validation]: 100%|██████████| 33/33 [00:00<00:00, 149.12it/s]\n"
     ]
    },
    {
     "name": "stdout",
     "output_type": "stream",
     "text": [
      "Train Loss: 0.1826 | Val Loss: 0.2149 | SpearmanR: 0.1943\n",
      "\n",
      "Epoch 10/20\n",
      "----------------------------\n"
     ]
    },
    {
     "name": "stderr",
     "output_type": "stream",
     "text": [
      "[Training]: 100%|██████████| 6/6 [00:00<00:00, 50.60it/s]\n",
      "[Validation]: 100%|██████████| 33/33 [00:00<00:00, 157.78it/s]\n"
     ]
    },
    {
     "name": "stdout",
     "output_type": "stream",
     "text": [
      "Train Loss: 0.1699 | Val Loss: 0.2965 | SpearmanR: 0.1883\n",
      "\n",
      "Epoch 11/20\n",
      "----------------------------\n"
     ]
    },
    {
     "name": "stderr",
     "output_type": "stream",
     "text": [
      "[Training]: 100%|██████████| 6/6 [00:00<00:00, 52.55it/s]\n",
      "[Validation]: 100%|██████████| 33/33 [00:00<00:00, 144.43it/s]\n"
     ]
    },
    {
     "name": "stdout",
     "output_type": "stream",
     "text": [
      "Train Loss: 0.1946 | Val Loss: 0.2011 | SpearmanR: 0.3526\n",
      "\n",
      "Epoch 12/20\n",
      "----------------------------\n"
     ]
    },
    {
     "name": "stderr",
     "output_type": "stream",
     "text": [
      "[Training]: 100%|██████████| 6/6 [00:00<00:00, 36.67it/s]\n",
      "[Validation]: 100%|██████████| 33/33 [00:00<00:00, 142.57it/s]\n"
     ]
    },
    {
     "name": "stdout",
     "output_type": "stream",
     "text": [
      "Train Loss: 0.1660 | Val Loss: 0.2485 | SpearmanR: 0.3638\n",
      "\n",
      "Epoch 13/20\n",
      "----------------------------\n"
     ]
    },
    {
     "name": "stderr",
     "output_type": "stream",
     "text": [
      "[Training]: 100%|██████████| 6/6 [00:00<00:00, 47.61it/s]\n",
      "[Validation]: 100%|██████████| 33/33 [00:00<00:00, 125.22it/s]\n"
     ]
    },
    {
     "name": "stdout",
     "output_type": "stream",
     "text": [
      "Train Loss: 0.1465 | Val Loss: 0.1774 | SpearmanR: 0.3539\n",
      "\n",
      "Epoch 14/20\n",
      "----------------------------\n"
     ]
    },
    {
     "name": "stderr",
     "output_type": "stream",
     "text": [
      "[Training]: 100%|██████████| 6/6 [00:00<00:00, 38.31it/s]\n",
      "[Validation]: 100%|██████████| 33/33 [00:00<00:00, 149.09it/s]\n"
     ]
    },
    {
     "name": "stdout",
     "output_type": "stream",
     "text": [
      "Train Loss: 0.1302 | Val Loss: 0.1976 | SpearmanR: 0.3898\n",
      "\n",
      "Epoch 15/20\n",
      "----------------------------\n"
     ]
    },
    {
     "name": "stderr",
     "output_type": "stream",
     "text": [
      "[Training]: 100%|██████████| 6/6 [00:00<00:00, 50.82it/s]\n",
      "[Validation]: 100%|██████████| 33/33 [00:00<00:00, -44.44it/s]\n"
     ]
    },
    {
     "name": "stdout",
     "output_type": "stream",
     "text": [
      "Train Loss: 0.1203 | Val Loss: 0.2354 | SpearmanR: 0.4187\n",
      "\n",
      "Epoch 16/20\n",
      "----------------------------\n"
     ]
    },
    {
     "name": "stderr",
     "output_type": "stream",
     "text": [
      "[Training]: 100%|██████████| 6/6 [00:00<00:00, 51.69it/s]\n",
      "[Validation]: 100%|██████████| 33/33 [00:00<00:00, 141.03it/s]\n"
     ]
    },
    {
     "name": "stdout",
     "output_type": "stream",
     "text": [
      "Train Loss: 0.1056 | Val Loss: 0.1775 | SpearmanR: 0.4609\n",
      "\n",
      "Epoch 17/20\n",
      "----------------------------\n"
     ]
    },
    {
     "name": "stderr",
     "output_type": "stream",
     "text": [
      "[Training]: 100%|██████████| 6/6 [00:00<00:00, 50.90it/s]\n",
      "[Validation]: 100%|██████████| 33/33 [00:00<00:00, 142.17it/s]\n"
     ]
    },
    {
     "name": "stdout",
     "output_type": "stream",
     "text": [
      "Train Loss: 0.1073 | Val Loss: 0.2655 | SpearmanR: 0.3554\n",
      "\n",
      "Epoch 18/20\n",
      "----------------------------\n"
     ]
    },
    {
     "name": "stderr",
     "output_type": "stream",
     "text": [
      "[Training]: 100%|██████████| 6/6 [00:00<00:00, 48.50it/s]\n",
      "[Validation]: 100%|██████████| 33/33 [00:00<00:00, 135.00it/s]\n"
     ]
    },
    {
     "name": "stdout",
     "output_type": "stream",
     "text": [
      "Train Loss: 0.1170 | Val Loss: 0.1633 | SpearmanR: 0.4534\n",
      "\n",
      "Epoch 19/20\n",
      "----------------------------\n"
     ]
    },
    {
     "name": "stderr",
     "output_type": "stream",
     "text": [
      "[Training]: 100%|██████████| 6/6 [00:00<00:00, 51.16it/s]\n",
      "[Validation]: 100%|██████████| 33/33 [00:00<00:00, 141.70it/s]\n"
     ]
    },
    {
     "name": "stdout",
     "output_type": "stream",
     "text": [
      "Train Loss: 0.0849 | Val Loss: 0.1556 | SpearmanR: 0.4832\n",
      "\n",
      "Epoch 20/20\n",
      "----------------------------\n"
     ]
    },
    {
     "name": "stderr",
     "output_type": "stream",
     "text": [
      "[Training]: 100%|██████████| 6/6 [00:00<00:00, 48.56it/s]\n",
      "[Validation]: 100%|██████████| 33/33 [00:00<00:00, 133.24it/s]\n"
     ]
    },
    {
     "name": "stdout",
     "output_type": "stream",
     "text": [
      "Train Loss: 0.1089 | Val Loss: 0.1518 | SpearmanR: 0.4914\n",
      "Using Model 3 to evaluate remaining training pool...\n"
     ]
    },
    {
     "name": "stderr",
     "output_type": "stream",
     "text": [
      "[Surveying]: 100%|██████████| 258/258 [00:01<00:00, 147.00it/s]\n",
      "Some weights of EsmForSequenceClassification were not initialized from the model checkpoint at facebook/esm2_t6_8M_UR50D and are newly initialized: ['classifier.dense.bias', 'classifier.dense.weight', 'classifier.out_proj.bias', 'classifier.out_proj.weight']\n",
      "You should probably TRAIN this model on a down-stream task to be able to use it for predictions and inference.\n"
     ]
    },
    {
     "name": "stdout",
     "output_type": "stream",
     "text": [
      "Training Model 4...\n",
      "\n",
      "Epoch 1/20\n",
      "----------------------------\n"
     ]
    },
    {
     "name": "stderr",
     "output_type": "stream",
     "text": [
      "[Training]: 100%|██████████| 6/6 [00:00<00:00, 51.96it/s]\n",
      "[Validation]: 100%|██████████| 33/33 [00:00<00:00, 135.64it/s]\n"
     ]
    },
    {
     "name": "stdout",
     "output_type": "stream",
     "text": [
      "Train Loss: 0.2603 | Val Loss: 0.2000 | SpearmanR: 0.0775\n",
      "\n",
      "Epoch 2/20\n",
      "----------------------------\n"
     ]
    },
    {
     "name": "stderr",
     "output_type": "stream",
     "text": [
      "[Training]: 100%|██████████| 6/6 [00:00<00:00, 52.48it/s]\n",
      "[Validation]: 100%|██████████| 33/33 [00:00<00:00, 148.77it/s]\n"
     ]
    },
    {
     "name": "stdout",
     "output_type": "stream",
     "text": [
      "Train Loss: 0.2366 | Val Loss: 0.2092 | SpearmanR: 0.0781\n",
      "\n",
      "Epoch 3/20\n",
      "----------------------------\n"
     ]
    },
    {
     "name": "stderr",
     "output_type": "stream",
     "text": [
      "[Training]: 100%|██████████| 6/6 [00:00<00:00, 52.79it/s]\n",
      "[Validation]: 100%|██████████| 33/33 [00:00<00:00, 146.83it/s]\n"
     ]
    },
    {
     "name": "stdout",
     "output_type": "stream",
     "text": [
      "Train Loss: 0.2333 | Val Loss: 0.2167 | SpearmanR: 0.1216\n",
      "\n",
      "Epoch 4/20\n",
      "----------------------------\n"
     ]
    },
    {
     "name": "stderr",
     "output_type": "stream",
     "text": [
      "[Training]: 100%|██████████| 6/6 [00:00<00:00, 51.84it/s]\n",
      "[Validation]: 100%|██████████| 33/33 [00:00<00:00, 145.87it/s]\n"
     ]
    },
    {
     "name": "stdout",
     "output_type": "stream",
     "text": [
      "Train Loss: 0.2344 | Val Loss: 0.2223 | SpearmanR: 0.1133\n",
      "\n",
      "Epoch 5/20\n",
      "----------------------------\n"
     ]
    },
    {
     "name": "stderr",
     "output_type": "stream",
     "text": [
      "[Training]: 100%|██████████| 6/6 [00:00<00:00, 51.82it/s]\n",
      "[Validation]: 100%|██████████| 33/33 [00:00<00:00, 144.42it/s]\n"
     ]
    },
    {
     "name": "stdout",
     "output_type": "stream",
     "text": [
      "Train Loss: 0.2300 | Val Loss: 0.2135 | SpearmanR: 0.0496\n",
      "\n",
      "Epoch 6/20\n",
      "----------------------------\n"
     ]
    },
    {
     "name": "stderr",
     "output_type": "stream",
     "text": [
      "[Training]: 100%|██████████| 6/6 [00:00<00:00, 53.26it/s]\n",
      "[Validation]: 100%|██████████| 33/33 [00:00<00:00, 135.55it/s]\n"
     ]
    },
    {
     "name": "stdout",
     "output_type": "stream",
     "text": [
      "Train Loss: 0.2252 | Val Loss: 0.2091 | SpearmanR: 0.0765\n",
      "\n",
      "Epoch 7/20\n",
      "----------------------------\n"
     ]
    },
    {
     "name": "stderr",
     "output_type": "stream",
     "text": [
      "[Training]: 100%|██████████| 6/6 [00:00<00:00, 49.51it/s]\n",
      "[Validation]: 100%|██████████| 33/33 [00:00<00:00, 136.20it/s]\n"
     ]
    },
    {
     "name": "stdout",
     "output_type": "stream",
     "text": [
      "Train Loss: 0.2163 | Val Loss: 0.2131 | SpearmanR: 0.1344\n",
      "\n",
      "Epoch 8/20\n",
      "----------------------------\n"
     ]
    },
    {
     "name": "stderr",
     "output_type": "stream",
     "text": [
      "[Training]: 100%|██████████| 6/6 [00:00<00:00, 51.84it/s]\n",
      "[Validation]: 100%|██████████| 33/33 [00:00<00:00, 152.95it/s]\n"
     ]
    },
    {
     "name": "stdout",
     "output_type": "stream",
     "text": [
      "Train Loss: 0.2104 | Val Loss: 0.2188 | SpearmanR: 0.1276\n",
      "\n",
      "Epoch 9/20\n",
      "----------------------------\n"
     ]
    },
    {
     "name": "stderr",
     "output_type": "stream",
     "text": [
      "[Training]: 100%|██████████| 6/6 [00:00<00:00, 52.82it/s]\n",
      "[Validation]: 100%|██████████| 33/33 [00:00<00:00, 142.15it/s]\n"
     ]
    },
    {
     "name": "stdout",
     "output_type": "stream",
     "text": [
      "Train Loss: 0.1990 | Val Loss: 0.2666 | SpearmanR: 0.1620\n",
      "\n",
      "Epoch 10/20\n",
      "----------------------------\n"
     ]
    },
    {
     "name": "stderr",
     "output_type": "stream",
     "text": [
      "[Training]: 100%|██████████| 6/6 [00:00<00:00, 49.44it/s]\n",
      "[Validation]: 100%|██████████| 33/33 [00:00<00:00, 149.08it/s]\n"
     ]
    },
    {
     "name": "stdout",
     "output_type": "stream",
     "text": [
      "Train Loss: 0.1839 | Val Loss: 0.1882 | SpearmanR: 0.1872\n",
      "\n",
      "Epoch 11/20\n",
      "----------------------------\n"
     ]
    },
    {
     "name": "stderr",
     "output_type": "stream",
     "text": [
      "[Training]: 100%|██████████| 6/6 [00:00<00:00, 51.95it/s]\n",
      "[Validation]: 100%|██████████| 33/33 [00:00<00:00, 151.33it/s]\n"
     ]
    },
    {
     "name": "stdout",
     "output_type": "stream",
     "text": [
      "Train Loss: 0.1537 | Val Loss: 0.1899 | SpearmanR: 0.2321\n",
      "\n",
      "Epoch 12/20\n",
      "----------------------------\n"
     ]
    },
    {
     "name": "stderr",
     "output_type": "stream",
     "text": [
      "[Training]: 100%|██████████| 6/6 [00:00<00:00, 52.06it/s]\n",
      "[Validation]: 100%|██████████| 33/33 [00:00<00:00, 131.20it/s]\n"
     ]
    },
    {
     "name": "stdout",
     "output_type": "stream",
     "text": [
      "Train Loss: 0.1256 | Val Loss: 0.2235 | SpearmanR: 0.2745\n",
      "\n",
      "Epoch 13/20\n",
      "----------------------------\n"
     ]
    },
    {
     "name": "stderr",
     "output_type": "stream",
     "text": [
      "[Training]: 100%|██████████| 6/6 [00:00<00:00, 50.00it/s]\n",
      "[Validation]: 100%|██████████| 33/33 [00:00<00:00, 150.63it/s]\n"
     ]
    },
    {
     "name": "stdout",
     "output_type": "stream",
     "text": [
      "Train Loss: 0.1074 | Val Loss: 0.2325 | SpearmanR: 0.2926\n",
      "\n",
      "Epoch 14/20\n",
      "----------------------------\n"
     ]
    },
    {
     "name": "stderr",
     "output_type": "stream",
     "text": [
      "[Training]: 100%|██████████| 6/6 [00:00<00:00, 51.66it/s]\n",
      "[Validation]: 100%|██████████| 33/33 [00:00<00:00, 145.69it/s]\n"
     ]
    },
    {
     "name": "stdout",
     "output_type": "stream",
     "text": [
      "Train Loss: 0.0913 | Val Loss: 0.2252 | SpearmanR: 0.3068\n",
      "\n",
      "Epoch 15/20\n",
      "----------------------------\n"
     ]
    },
    {
     "name": "stderr",
     "output_type": "stream",
     "text": [
      "[Training]: 100%|██████████| 6/6 [00:00<00:00, 52.44it/s]\n",
      "[Validation]: 100%|██████████| 33/33 [00:00<00:00, 152.15it/s]\n"
     ]
    },
    {
     "name": "stdout",
     "output_type": "stream",
     "text": [
      "Train Loss: 0.0847 | Val Loss: 0.2088 | SpearmanR: 0.3154\n",
      "\n",
      "Epoch 16/20\n",
      "----------------------------\n"
     ]
    },
    {
     "name": "stderr",
     "output_type": "stream",
     "text": [
      "[Training]: 100%|██████████| 6/6 [00:00<00:00, 53.17it/s]\n",
      "[Validation]: 100%|██████████| 33/33 [00:00<00:00, 151.76it/s]\n"
     ]
    },
    {
     "name": "stdout",
     "output_type": "stream",
     "text": [
      "Train Loss: 0.0645 | Val Loss: 0.2550 | SpearmanR: 0.3311\n",
      "\n",
      "Epoch 17/20\n",
      "----------------------------\n"
     ]
    },
    {
     "name": "stderr",
     "output_type": "stream",
     "text": [
      "[Training]: 100%|██████████| 6/6 [00:00<00:00, 52.14it/s]\n",
      "[Validation]: 100%|██████████| 33/33 [00:00<00:00, 151.70it/s]\n"
     ]
    },
    {
     "name": "stdout",
     "output_type": "stream",
     "text": [
      "Train Loss: 0.0629 | Val Loss: 0.2202 | SpearmanR: 0.3353\n",
      "\n",
      "Epoch 18/20\n",
      "----------------------------\n"
     ]
    },
    {
     "name": "stderr",
     "output_type": "stream",
     "text": [
      "[Training]: 100%|██████████| 6/6 [00:00<00:00, 53.72it/s]\n",
      "[Validation]: 100%|██████████| 33/33 [00:00<00:00, 151.99it/s]\n"
     ]
    },
    {
     "name": "stdout",
     "output_type": "stream",
     "text": [
      "Train Loss: 0.0531 | Val Loss: 0.2088 | SpearmanR: 0.3429\n",
      "\n",
      "Epoch 19/20\n",
      "----------------------------\n"
     ]
    },
    {
     "name": "stderr",
     "output_type": "stream",
     "text": [
      "[Training]: 100%|██████████| 6/6 [00:00<00:00, 46.40it/s]\n",
      "[Validation]: 100%|██████████| 33/33 [00:00<00:00, 143.61it/s]\n"
     ]
    },
    {
     "name": "stdout",
     "output_type": "stream",
     "text": [
      "Train Loss: 0.0432 | Val Loss: 0.2262 | SpearmanR: 0.3387\n",
      "\n",
      "Epoch 20/20\n",
      "----------------------------\n"
     ]
    },
    {
     "name": "stderr",
     "output_type": "stream",
     "text": [
      "[Training]: 100%|██████████| 6/6 [00:00<00:00, 48.70it/s]\n",
      "[Validation]: 100%|██████████| 33/33 [00:00<00:00, 131.20it/s]\n"
     ]
    },
    {
     "name": "stdout",
     "output_type": "stream",
     "text": [
      "Train Loss: 0.0375 | Val Loss: 0.2362 | SpearmanR: 0.3522\n",
      "Using Model 4 to evaluate remaining training pool...\n"
     ]
    },
    {
     "name": "stderr",
     "output_type": "stream",
     "text": [
      "[Surveying]: 100%|██████████| 258/258 [00:01<00:00, 151.38it/s]\n",
      "Some weights of EsmForSequenceClassification were not initialized from the model checkpoint at facebook/esm2_t6_8M_UR50D and are newly initialized: ['classifier.dense.bias', 'classifier.dense.weight', 'classifier.out_proj.bias', 'classifier.out_proj.weight']\n",
      "You should probably TRAIN this model on a down-stream task to be able to use it for predictions and inference.\n"
     ]
    },
    {
     "name": "stdout",
     "output_type": "stream",
     "text": [
      "Training Model 5...\n",
      "\n",
      "Epoch 1/20\n",
      "----------------------------\n"
     ]
    },
    {
     "name": "stderr",
     "output_type": "stream",
     "text": [
      "[Training]: 100%|██████████| 6/6 [00:00<00:00, 52.11it/s]\n",
      "[Validation]: 100%|██████████| 33/33 [00:00<00:00, 160.47it/s]\n"
     ]
    },
    {
     "name": "stdout",
     "output_type": "stream",
     "text": [
      "Train Loss: 0.2436 | Val Loss: 0.2081 | SpearmanR: 0.0237\n",
      "\n",
      "Epoch 2/20\n",
      "----------------------------\n"
     ]
    },
    {
     "name": "stderr",
     "output_type": "stream",
     "text": [
      "[Training]: 100%|██████████| 6/6 [00:00<00:00, 52.59it/s]\n",
      "[Validation]: 100%|██████████| 33/33 [00:00<00:00, 154.55it/s]\n"
     ]
    },
    {
     "name": "stdout",
     "output_type": "stream",
     "text": [
      "Train Loss: 0.2349 | Val Loss: 0.2254 | SpearmanR: 0.1655\n",
      "\n",
      "Epoch 3/20\n",
      "----------------------------\n"
     ]
    },
    {
     "name": "stderr",
     "output_type": "stream",
     "text": [
      "[Training]: 100%|██████████| 6/6 [00:00<00:00, 53.97it/s]\n",
      "[Validation]: 100%|██████████| 33/33 [00:00<00:00, 163.16it/s]\n"
     ]
    },
    {
     "name": "stdout",
     "output_type": "stream",
     "text": [
      "Train Loss: 0.2337 | Val Loss: 0.2204 | SpearmanR: 0.1566\n",
      "\n",
      "Epoch 4/20\n",
      "----------------------------\n"
     ]
    },
    {
     "name": "stderr",
     "output_type": "stream",
     "text": [
      "[Training]: 100%|██████████| 6/6 [00:00<00:00, 51.43it/s]\n",
      "[Validation]: 100%|██████████| 33/33 [00:00<00:00, 160.93it/s]\n"
     ]
    },
    {
     "name": "stdout",
     "output_type": "stream",
     "text": [
      "Train Loss: 0.2302 | Val Loss: 0.2094 | SpearmanR: 0.2015\n",
      "\n",
      "Epoch 5/20\n",
      "----------------------------\n"
     ]
    },
    {
     "name": "stderr",
     "output_type": "stream",
     "text": [
      "[Training]: 100%|██████████| 6/6 [00:00<00:00, 53.67it/s]\n",
      "[Validation]: 100%|██████████| 33/33 [00:00<00:00, 153.73it/s]\n"
     ]
    },
    {
     "name": "stdout",
     "output_type": "stream",
     "text": [
      "Train Loss: 0.2306 | Val Loss: 0.2074 | SpearmanR: 0.2387\n",
      "\n",
      "Epoch 6/20\n",
      "----------------------------\n"
     ]
    },
    {
     "name": "stderr",
     "output_type": "stream",
     "text": [
      "[Training]: 100%|██████████| 6/6 [00:00<00:00, 49.96it/s]\n",
      "[Validation]: 100%|██████████| 33/33 [00:00<00:00, 159.16it/s]\n"
     ]
    },
    {
     "name": "stdout",
     "output_type": "stream",
     "text": [
      "Train Loss: 0.2236 | Val Loss: 0.2136 | SpearmanR: 0.3284\n",
      "\n",
      "Epoch 7/20\n",
      "----------------------------\n"
     ]
    },
    {
     "name": "stderr",
     "output_type": "stream",
     "text": [
      "[Training]: 100%|██████████| 6/6 [00:00<00:00, 53.34it/s]\n",
      "[Validation]: 100%|██████████| 33/33 [00:00<00:00, 159.85it/s]\n"
     ]
    },
    {
     "name": "stdout",
     "output_type": "stream",
     "text": [
      "Train Loss: 0.2183 | Val Loss: 0.2127 | SpearmanR: 0.2766\n",
      "\n",
      "Epoch 8/20\n",
      "----------------------------\n"
     ]
    },
    {
     "name": "stderr",
     "output_type": "stream",
     "text": [
      "[Training]: 100%|██████████| 6/6 [00:00<00:00, 54.35it/s]\n",
      "[Validation]: 100%|██████████| 33/33 [00:00<00:00, 156.10it/s]\n"
     ]
    },
    {
     "name": "stdout",
     "output_type": "stream",
     "text": [
      "Train Loss: 0.2073 | Val Loss: 0.2004 | SpearmanR: 0.3098\n",
      "\n",
      "Epoch 9/20\n",
      "----------------------------\n"
     ]
    },
    {
     "name": "stderr",
     "output_type": "stream",
     "text": [
      "[Training]: 100%|██████████| 6/6 [00:00<00:00, 52.50it/s]\n",
      "[Validation]: 100%|██████████| 33/33 [00:00<00:00, 161.11it/s]\n"
     ]
    },
    {
     "name": "stdout",
     "output_type": "stream",
     "text": [
      "Train Loss: 0.1890 | Val Loss: 0.2628 | SpearmanR: 0.3407\n",
      "\n",
      "Epoch 10/20\n",
      "----------------------------\n"
     ]
    },
    {
     "name": "stderr",
     "output_type": "stream",
     "text": [
      "[Training]: 100%|██████████| 6/6 [00:00<00:00, 53.77it/s]\n",
      "[Validation]: 100%|██████████| 33/33 [00:00<00:00, 158.91it/s]\n"
     ]
    },
    {
     "name": "stdout",
     "output_type": "stream",
     "text": [
      "Train Loss: 0.1786 | Val Loss: 0.2077 | SpearmanR: 0.3865\n",
      "\n",
      "Epoch 11/20\n",
      "----------------------------\n"
     ]
    },
    {
     "name": "stderr",
     "output_type": "stream",
     "text": [
      "[Training]: 100%|██████████| 6/6 [00:00<00:00, 38.99it/s]\n",
      "[Validation]: 100%|██████████| 33/33 [00:00<00:00, 147.03it/s]\n"
     ]
    },
    {
     "name": "stdout",
     "output_type": "stream",
     "text": [
      "Train Loss: 0.1441 | Val Loss: 0.1760 | SpearmanR: 0.4171\n",
      "\n",
      "Epoch 12/20\n",
      "----------------------------\n"
     ]
    },
    {
     "name": "stderr",
     "output_type": "stream",
     "text": [
      "[Training]: 100%|██████████| 6/6 [00:00<00:00, 52.96it/s]\n",
      "[Validation]: 100%|██████████| 33/33 [00:00<00:00, 158.55it/s]\n"
     ]
    },
    {
     "name": "stdout",
     "output_type": "stream",
     "text": [
      "Train Loss: 0.1237 | Val Loss: 0.2013 | SpearmanR: 0.4183\n",
      "\n",
      "Epoch 13/20\n",
      "----------------------------\n"
     ]
    },
    {
     "name": "stderr",
     "output_type": "stream",
     "text": [
      "[Training]: 100%|██████████| 6/6 [00:00<00:00, 53.95it/s]\n",
      "[Validation]: 100%|██████████| 33/33 [00:00<00:00, 155.94it/s]\n"
     ]
    },
    {
     "name": "stdout",
     "output_type": "stream",
     "text": [
      "Train Loss: 0.1001 | Val Loss: 0.1587 | SpearmanR: 0.4293\n",
      "\n",
      "Epoch 14/20\n",
      "----------------------------\n"
     ]
    },
    {
     "name": "stderr",
     "output_type": "stream",
     "text": [
      "[Training]: 100%|██████████| 6/6 [00:00<00:00, 51.26it/s]\n",
      "[Validation]: 100%|██████████| 33/33 [00:00<00:00, 142.27it/s]\n"
     ]
    },
    {
     "name": "stdout",
     "output_type": "stream",
     "text": [
      "Train Loss: 0.0831 | Val Loss: 0.1641 | SpearmanR: 0.4269\n",
      "\n",
      "Epoch 15/20\n",
      "----------------------------\n"
     ]
    },
    {
     "name": "stderr",
     "output_type": "stream",
     "text": [
      "[Training]: 100%|██████████| 6/6 [00:00<00:00, 38.59it/s]\n",
      "[Validation]: 100%|██████████| 33/33 [00:00<00:00, 153.56it/s]\n"
     ]
    },
    {
     "name": "stdout",
     "output_type": "stream",
     "text": [
      "Train Loss: 0.0761 | Val Loss: 0.1731 | SpearmanR: 0.4521\n",
      "\n",
      "Epoch 16/20\n",
      "----------------------------\n"
     ]
    },
    {
     "name": "stderr",
     "output_type": "stream",
     "text": [
      "[Training]: 100%|██████████| 6/6 [00:00<00:00, 50.37it/s]\n",
      "[Validation]: 100%|██████████| 33/33 [00:00<00:00, 115.92it/s]\n"
     ]
    },
    {
     "name": "stdout",
     "output_type": "stream",
     "text": [
      "Train Loss: 0.0698 | Val Loss: 0.1648 | SpearmanR: 0.4505\n",
      "\n",
      "Epoch 17/20\n",
      "----------------------------\n"
     ]
    },
    {
     "name": "stderr",
     "output_type": "stream",
     "text": [
      "[Training]: 100%|██████████| 6/6 [00:00<00:00, 47.88it/s]\n",
      "[Validation]: 100%|██████████| 33/33 [00:00<00:00, 117.04it/s]\n"
     ]
    },
    {
     "name": "stdout",
     "output_type": "stream",
     "text": [
      "Train Loss: 0.0623 | Val Loss: 0.1722 | SpearmanR: 0.4339\n",
      "\n",
      "Epoch 18/20\n",
      "----------------------------\n"
     ]
    },
    {
     "name": "stderr",
     "output_type": "stream",
     "text": [
      "[Training]: 100%|██████████| 6/6 [00:00<00:00, 42.42it/s]\n",
      "[Validation]: 100%|██████████| 33/33 [00:00<00:00, 123.84it/s]\n"
     ]
    },
    {
     "name": "stdout",
     "output_type": "stream",
     "text": [
      "Train Loss: 0.0562 | Val Loss: 0.1819 | SpearmanR: 0.4283\n",
      "\n",
      "Epoch 19/20\n",
      "----------------------------\n"
     ]
    },
    {
     "name": "stderr",
     "output_type": "stream",
     "text": [
      "[Training]: 100%|██████████| 6/6 [00:00<00:00, 37.94it/s]\n",
      "[Validation]: 100%|██████████| 33/33 [00:00<00:00, 120.35it/s]\n"
     ]
    },
    {
     "name": "stdout",
     "output_type": "stream",
     "text": [
      "Train Loss: 0.0512 | Val Loss: 0.2052 | SpearmanR: 0.4128\n",
      "\n",
      "Epoch 20/20\n",
      "----------------------------\n"
     ]
    },
    {
     "name": "stderr",
     "output_type": "stream",
     "text": [
      "[Training]: 100%|██████████| 6/6 [00:00<00:00, 39.63it/s]\n",
      "[Validation]: 100%|██████████| 33/33 [00:00<00:00, 134.85it/s]\n"
     ]
    },
    {
     "name": "stdout",
     "output_type": "stream",
     "text": [
      "Train Loss: 0.0483 | Val Loss: 0.1820 | SpearmanR: 0.4165\n",
      "Using Model 5 to evaluate remaining training pool...\n"
     ]
    },
    {
     "name": "stderr",
     "output_type": "stream",
     "text": [
      "[Surveying]: 100%|██████████| 258/258 [00:01<00:00, 143.12it/s]\n",
      "Some weights of EsmForSequenceClassification were not initialized from the model checkpoint at facebook/esm2_t6_8M_UR50D and are newly initialized: ['classifier.dense.bias', 'classifier.dense.weight', 'classifier.out_proj.bias', 'classifier.out_proj.weight']\n",
      "You should probably TRAIN this model on a down-stream task to be able to use it for predictions and inference.\n"
     ]
    },
    {
     "name": "stdout",
     "output_type": "stream",
     "text": [
      "Ensemble training complete, submitting predictions for next cycle.\n",
      "\n",
      "Active learning campaign complete.\n",
      "Training final model on 72 actively selected samples...\n",
      "\n",
      "Epoch 1/20\n",
      "----------------------------\n"
     ]
    },
    {
     "name": "stderr",
     "output_type": "stream",
     "text": [
      "[Training]: 100%|██████████| 6/6 [00:00<00:00, 51.66it/s]\n",
      "[Validation]: 100%|██████████| 33/33 [00:00<00:00, 158.16it/s]\n"
     ]
    },
    {
     "name": "stdout",
     "output_type": "stream",
     "text": [
      "Train Loss: 0.2655 | Val Loss: 0.1993 | SpearmanR: 0.1969\n",
      "\n",
      "Epoch 2/20\n",
      "----------------------------\n"
     ]
    },
    {
     "name": "stderr",
     "output_type": "stream",
     "text": [
      "[Training]: 100%|██████████| 6/6 [00:00<00:00, 51.30it/s]\n",
      "[Validation]: 100%|██████████| 33/33 [00:00<00:00, 155.49it/s]\n"
     ]
    },
    {
     "name": "stdout",
     "output_type": "stream",
     "text": [
      "Train Loss: 0.2375 | Val Loss: 0.2131 | SpearmanR: 0.1229\n",
      "\n",
      "Epoch 3/20\n",
      "----------------------------\n"
     ]
    },
    {
     "name": "stderr",
     "output_type": "stream",
     "text": [
      "[Training]: 100%|██████████| 6/6 [00:00<00:00, 49.38it/s]\n",
      "[Validation]: 100%|██████████| 33/33 [00:00<00:00, 153.20it/s]\n"
     ]
    },
    {
     "name": "stdout",
     "output_type": "stream",
     "text": [
      "Train Loss: 0.2319 | Val Loss: 0.2208 | SpearmanR: 0.0649\n",
      "\n",
      "Epoch 4/20\n",
      "----------------------------\n"
     ]
    },
    {
     "name": "stderr",
     "output_type": "stream",
     "text": [
      "[Training]: 100%|██████████| 6/6 [00:00<00:00, 46.71it/s]\n",
      "[Validation]: 100%|██████████| 33/33 [00:00<00:00, 155.02it/s]\n"
     ]
    },
    {
     "name": "stdout",
     "output_type": "stream",
     "text": [
      "Train Loss: 0.2300 | Val Loss: 0.2146 | SpearmanR: 0.0604\n",
      "\n",
      "Epoch 5/20\n",
      "----------------------------\n"
     ]
    },
    {
     "name": "stderr",
     "output_type": "stream",
     "text": [
      "[Training]: 100%|██████████| 6/6 [00:00<00:00, 52.11it/s]\n",
      "[Validation]: 100%|██████████| 33/33 [00:00<00:00, 155.47it/s]\n"
     ]
    },
    {
     "name": "stdout",
     "output_type": "stream",
     "text": [
      "Train Loss: 0.2248 | Val Loss: 0.2249 | SpearmanR: 0.1489\n",
      "\n",
      "Epoch 6/20\n",
      "----------------------------\n"
     ]
    },
    {
     "name": "stderr",
     "output_type": "stream",
     "text": [
      "[Training]: 100%|██████████| 6/6 [00:00<00:00, 49.00it/s]\n",
      "[Validation]: 100%|██████████| 33/33 [00:00<00:00, 156.83it/s]\n"
     ]
    },
    {
     "name": "stdout",
     "output_type": "stream",
     "text": [
      "Train Loss: 0.2171 | Val Loss: 0.2012 | SpearmanR: 0.1582\n",
      "\n",
      "Epoch 7/20\n",
      "----------------------------\n"
     ]
    },
    {
     "name": "stderr",
     "output_type": "stream",
     "text": [
      "[Training]: 100%|██████████| 6/6 [00:00<00:00, 50.11it/s]\n",
      "[Validation]: 100%|██████████| 33/33 [00:00<00:00, 150.91it/s]\n"
     ]
    },
    {
     "name": "stdout",
     "output_type": "stream",
     "text": [
      "Train Loss: 0.2195 | Val Loss: 0.2480 | SpearmanR: 0.1208\n",
      "\n",
      "Epoch 8/20\n",
      "----------------------------\n"
     ]
    },
    {
     "name": "stderr",
     "output_type": "stream",
     "text": [
      "[Training]: 100%|██████████| 6/6 [00:00<00:00, 52.65it/s]\n",
      "[Validation]: 100%|██████████| 33/33 [00:00<00:00, 152.85it/s]\n"
     ]
    },
    {
     "name": "stdout",
     "output_type": "stream",
     "text": [
      "Train Loss: 0.2139 | Val Loss: 0.1995 | SpearmanR: 0.1548\n",
      "\n",
      "Epoch 9/20\n",
      "----------------------------\n"
     ]
    },
    {
     "name": "stderr",
     "output_type": "stream",
     "text": [
      "[Training]: 100%|██████████| 6/6 [00:00<00:00, 51.99it/s]\n",
      "[Validation]: 100%|██████████| 33/33 [00:00<00:00, 144.56it/s]\n"
     ]
    },
    {
     "name": "stdout",
     "output_type": "stream",
     "text": [
      "Train Loss: 0.1841 | Val Loss: 0.2234 | SpearmanR: 0.2678\n",
      "\n",
      "Epoch 10/20\n",
      "----------------------------\n"
     ]
    },
    {
     "name": "stderr",
     "output_type": "stream",
     "text": [
      "[Training]: 100%|██████████| 6/6 [00:00<00:00, 48.43it/s]\n",
      "[Validation]: 100%|██████████| 33/33 [00:00<00:00, 156.58it/s]\n"
     ]
    },
    {
     "name": "stdout",
     "output_type": "stream",
     "text": [
      "Train Loss: 0.1769 | Val Loss: 0.2501 | SpearmanR: 0.2797\n",
      "\n",
      "Epoch 11/20\n",
      "----------------------------\n"
     ]
    },
    {
     "name": "stderr",
     "output_type": "stream",
     "text": [
      "[Training]: 100%|██████████| 6/6 [00:00<00:00, 48.66it/s]\n",
      "[Validation]: 100%|██████████| 33/33 [00:00<00:00, 150.31it/s]\n"
     ]
    },
    {
     "name": "stdout",
     "output_type": "stream",
     "text": [
      "Train Loss: 0.2085 | Val Loss: 0.2228 | SpearmanR: 0.2906\n",
      "\n",
      "Epoch 12/20\n",
      "----------------------------\n"
     ]
    },
    {
     "name": "stderr",
     "output_type": "stream",
     "text": [
      "[Training]: 100%|██████████| 6/6 [00:00<00:00, 48.06it/s]\n",
      "[Validation]: 100%|██████████| 33/33 [00:00<00:00, 136.54it/s]\n"
     ]
    },
    {
     "name": "stdout",
     "output_type": "stream",
     "text": [
      "Train Loss: 0.1778 | Val Loss: 0.1978 | SpearmanR: 0.3222\n",
      "\n",
      "Epoch 13/20\n",
      "----------------------------\n"
     ]
    },
    {
     "name": "stderr",
     "output_type": "stream",
     "text": [
      "[Training]: 100%|██████████| 6/6 [00:00<00:00, 50.82it/s]\n",
      "[Validation]: 100%|██████████| 33/33 [00:00<00:00, 156.05it/s]\n"
     ]
    },
    {
     "name": "stdout",
     "output_type": "stream",
     "text": [
      "Train Loss: 0.1548 | Val Loss: 0.2102 | SpearmanR: 0.3457\n",
      "\n",
      "Epoch 14/20\n",
      "----------------------------\n"
     ]
    },
    {
     "name": "stderr",
     "output_type": "stream",
     "text": [
      "[Training]: 100%|██████████| 6/6 [00:00<00:00, 53.00it/s]\n",
      "[Validation]: 100%|██████████| 33/33 [00:00<00:00, 144.86it/s]\n"
     ]
    },
    {
     "name": "stdout",
     "output_type": "stream",
     "text": [
      "Train Loss: 0.1485 | Val Loss: 0.2151 | SpearmanR: 0.3602\n",
      "\n",
      "Epoch 15/20\n",
      "----------------------------\n"
     ]
    },
    {
     "name": "stderr",
     "output_type": "stream",
     "text": [
      "[Training]: 100%|██████████| 6/6 [00:00<00:00, 48.74it/s]\n",
      "[Validation]: 100%|██████████| 33/33 [00:00<00:00, 151.18it/s]\n"
     ]
    },
    {
     "name": "stdout",
     "output_type": "stream",
     "text": [
      "Train Loss: 0.1335 | Val Loss: 0.1727 | SpearmanR: 0.3760\n",
      "\n",
      "Epoch 16/20\n",
      "----------------------------\n"
     ]
    },
    {
     "name": "stderr",
     "output_type": "stream",
     "text": [
      "[Training]: 100%|██████████| 6/6 [00:00<00:00, 52.05it/s]\n",
      "[Validation]: 100%|██████████| 33/33 [00:00<00:00, 155.57it/s]\n"
     ]
    },
    {
     "name": "stdout",
     "output_type": "stream",
     "text": [
      "Train Loss: 0.1072 | Val Loss: 0.2137 | SpearmanR: 0.3818\n",
      "\n",
      "Epoch 17/20\n",
      "----------------------------\n"
     ]
    },
    {
     "name": "stderr",
     "output_type": "stream",
     "text": [
      "[Training]: 100%|██████████| 6/6 [00:00<00:00, 49.80it/s]\n",
      "[Validation]: 100%|██████████| 33/33 [00:00<00:00, 143.39it/s]\n"
     ]
    },
    {
     "name": "stdout",
     "output_type": "stream",
     "text": [
      "Train Loss: 0.1243 | Val Loss: 0.1999 | SpearmanR: 0.3956\n",
      "\n",
      "Epoch 18/20\n",
      "----------------------------\n"
     ]
    },
    {
     "name": "stderr",
     "output_type": "stream",
     "text": [
      "[Training]: 100%|██████████| 6/6 [00:00<00:00, 51.33it/s]\n",
      "[Validation]: 100%|██████████| 33/33 [00:00<00:00, 143.18it/s]\n"
     ]
    },
    {
     "name": "stdout",
     "output_type": "stream",
     "text": [
      "Train Loss: 0.1613 | Val Loss: 0.3058 | SpearmanR: 0.3157\n",
      "\n",
      "Epoch 19/20\n",
      "----------------------------\n"
     ]
    },
    {
     "name": "stderr",
     "output_type": "stream",
     "text": [
      "[Training]: 100%|██████████| 6/6 [00:00<00:00, 51.25it/s]\n",
      "[Validation]: 100%|██████████| 33/33 [00:00<00:00, 153.32it/s]\n"
     ]
    },
    {
     "name": "stdout",
     "output_type": "stream",
     "text": [
      "Train Loss: 0.1183 | Val Loss: 0.1690 | SpearmanR: 0.3754\n",
      "\n",
      "Epoch 20/20\n",
      "----------------------------\n"
     ]
    },
    {
     "name": "stderr",
     "output_type": "stream",
     "text": [
      "[Training]: 100%|██████████| 6/6 [00:00<00:00, 50.80it/s]\n",
      "[Validation]: 100%|██████████| 33/33 [00:00<00:00, 148.33it/s]"
     ]
    },
    {
     "name": "stdout",
     "output_type": "stream",
     "text": [
      "Train Loss: 0.1032 | Val Loss: 0.2170 | SpearmanR: 0.3755\n"
     ]
    },
    {
     "name": "stderr",
     "output_type": "stream",
     "text": [
      "\n"
     ]
    }
   ],
   "source": [
    "model_72_active = run_active_learning_campaign(72, 24, training_pool, val_dataloader)"
   ]
  },
  {
   "cell_type": "code",
   "execution_count": 13,
   "id": "b4747322",
   "metadata": {},
   "outputs": [],
   "source": [
    "# run standard fine-tuning procedure given num samples\n",
    "def run_standard_finetuning(n_samples, training_pool, val_dataloader):\n",
    "    # get dataloader of random train data\n",
    "    random_indices = torch.randperm(len(training_pool))[:n_samples].tolist()\n",
    "    train_subset = Subset(training_pool, random_indices)\n",
    "    train_dataloader = DataLoader(train_subset, batch_size=BATCH_SIZE, shuffle=True)\n",
    "\n",
    "    # train model\n",
    "    model = initialize_and_train_new_model(EPOCHS, train_dataloader, val_dataloader)\n",
    "    return model\n",
    "    # return model"
   ]
  },
  {
   "cell_type": "code",
   "execution_count": 14,
   "id": "88769ef1",
   "metadata": {},
   "outputs": [
    {
     "name": "stderr",
     "output_type": "stream",
     "text": [
      "Some weights of EsmForSequenceClassification were not initialized from the model checkpoint at facebook/esm2_t6_8M_UR50D and are newly initialized: ['classifier.dense.bias', 'classifier.dense.weight', 'classifier.out_proj.bias', 'classifier.out_proj.weight']\n",
      "You should probably TRAIN this model on a down-stream task to be able to use it for predictions and inference.\n"
     ]
    },
    {
     "name": "stdout",
     "output_type": "stream",
     "text": [
      "\n",
      "Epoch 1/20\n",
      "----------------------------\n"
     ]
    },
    {
     "name": "stderr",
     "output_type": "stream",
     "text": [
      "[Training]: 100%|██████████| 6/6 [00:00<00:00, 49.28it/s]\n",
      "[Validation]: 100%|██████████| 33/33 [00:00<00:00, 149.22it/s]\n"
     ]
    },
    {
     "name": "stdout",
     "output_type": "stream",
     "text": [
      "Train Loss: 0.1580 | Val Loss: 0.1989 | SpearmanR: -0.0337\n",
      "\n",
      "Epoch 2/20\n",
      "----------------------------\n"
     ]
    },
    {
     "name": "stderr",
     "output_type": "stream",
     "text": [
      "[Training]: 100%|██████████| 6/6 [00:00<00:00, 48.97it/s]\n",
      "[Validation]: 100%|██████████| 33/33 [00:00<00:00, 147.03it/s]\n"
     ]
    },
    {
     "name": "stdout",
     "output_type": "stream",
     "text": [
      "Train Loss: 0.1554 | Val Loss: 0.1990 | SpearmanR: 0.0771\n",
      "\n",
      "Epoch 3/20\n",
      "----------------------------\n"
     ]
    },
    {
     "name": "stderr",
     "output_type": "stream",
     "text": [
      "[Training]: 100%|██████████| 6/6 [00:00<00:00, 53.90it/s]\n",
      "[Validation]: 100%|██████████| 33/33 [00:00<00:00, 151.87it/s]\n"
     ]
    },
    {
     "name": "stdout",
     "output_type": "stream",
     "text": [
      "Train Loss: 0.1548 | Val Loss: 0.1979 | SpearmanR: 0.1738\n",
      "\n",
      "Epoch 4/20\n",
      "----------------------------\n"
     ]
    },
    {
     "name": "stderr",
     "output_type": "stream",
     "text": [
      "[Training]: 100%|██████████| 6/6 [00:00<00:00, 46.03it/s]\n",
      "[Validation]: 100%|██████████| 33/33 [00:00<00:00, 152.56it/s]\n"
     ]
    },
    {
     "name": "stdout",
     "output_type": "stream",
     "text": [
      "Train Loss: 0.1539 | Val Loss: 0.1966 | SpearmanR: 0.2491\n",
      "\n",
      "Epoch 5/20\n",
      "----------------------------\n"
     ]
    },
    {
     "name": "stderr",
     "output_type": "stream",
     "text": [
      "[Training]: 100%|██████████| 6/6 [00:00<00:00, 50.39it/s]\n",
      "[Validation]: 100%|██████████| 33/33 [00:00<00:00, 157.48it/s]\n"
     ]
    },
    {
     "name": "stdout",
     "output_type": "stream",
     "text": [
      "Train Loss: 0.1496 | Val Loss: 0.1943 | SpearmanR: 0.2743\n",
      "\n",
      "Epoch 6/20\n",
      "----------------------------\n"
     ]
    },
    {
     "name": "stderr",
     "output_type": "stream",
     "text": [
      "[Training]: 100%|██████████| 6/6 [00:00<00:00, 52.94it/s]\n",
      "[Validation]: 100%|██████████| 33/33 [00:00<00:00, 151.60it/s]\n"
     ]
    },
    {
     "name": "stdout",
     "output_type": "stream",
     "text": [
      "Train Loss: 0.1442 | Val Loss: 0.1919 | SpearmanR: 0.2804\n",
      "\n",
      "Epoch 7/20\n",
      "----------------------------\n"
     ]
    },
    {
     "name": "stderr",
     "output_type": "stream",
     "text": [
      "[Training]: 100%|██████████| 6/6 [00:00<00:00, 51.45it/s]\n",
      "[Validation]: 100%|██████████| 33/33 [00:00<00:00, 148.32it/s]\n"
     ]
    },
    {
     "name": "stdout",
     "output_type": "stream",
     "text": [
      "Train Loss: 0.1319 | Val Loss: 0.1840 | SpearmanR: 0.3068\n",
      "\n",
      "Epoch 8/20\n",
      "----------------------------\n"
     ]
    },
    {
     "name": "stderr",
     "output_type": "stream",
     "text": [
      "[Training]: 100%|██████████| 6/6 [00:00<00:00, 53.56it/s]\n",
      "[Validation]: 100%|██████████| 33/33 [00:00<00:00, 155.12it/s]\n"
     ]
    },
    {
     "name": "stdout",
     "output_type": "stream",
     "text": [
      "Train Loss: 0.1204 | Val Loss: 0.1852 | SpearmanR: 0.3227\n",
      "\n",
      "Epoch 9/20\n",
      "----------------------------\n"
     ]
    },
    {
     "name": "stderr",
     "output_type": "stream",
     "text": [
      "[Training]: 100%|██████████| 6/6 [00:00<00:00, 51.35it/s]\n",
      "[Validation]: 100%|██████████| 33/33 [00:00<00:00, 95.70it/s] \n"
     ]
    },
    {
     "name": "stdout",
     "output_type": "stream",
     "text": [
      "Train Loss: 0.1062 | Val Loss: 0.1910 | SpearmanR: 0.3625\n",
      "\n",
      "Epoch 10/20\n",
      "----------------------------\n"
     ]
    },
    {
     "name": "stderr",
     "output_type": "stream",
     "text": [
      "[Training]: 100%|██████████| 6/6 [00:00<00:00, -7.45it/s]\n",
      "[Validation]: 100%|██████████| 33/33 [00:00<00:00, 139.63it/s]\n"
     ]
    },
    {
     "name": "stdout",
     "output_type": "stream",
     "text": [
      "Train Loss: 0.1208 | Val Loss: 0.2392 | SpearmanR: 0.3447\n",
      "\n",
      "Epoch 11/20\n",
      "----------------------------\n"
     ]
    },
    {
     "name": "stderr",
     "output_type": "stream",
     "text": [
      "[Training]: 100%|██████████| 6/6 [00:00<00:00, 51.49it/s]\n",
      "[Validation]: 100%|██████████| 33/33 [00:00<00:00, 150.57it/s]\n"
     ]
    },
    {
     "name": "stdout",
     "output_type": "stream",
     "text": [
      "Train Loss: 0.1410 | Val Loss: 0.1762 | SpearmanR: 0.4213\n",
      "\n",
      "Epoch 12/20\n",
      "----------------------------\n"
     ]
    },
    {
     "name": "stderr",
     "output_type": "stream",
     "text": [
      "[Training]: 100%|██████████| 6/6 [00:00<00:00, 52.82it/s]\n",
      "[Validation]: 100%|██████████| 33/33 [00:00<00:00, 154.82it/s]\n"
     ]
    },
    {
     "name": "stdout",
     "output_type": "stream",
     "text": [
      "Train Loss: 0.1087 | Val Loss: 0.1771 | SpearmanR: 0.4136\n",
      "\n",
      "Epoch 13/20\n",
      "----------------------------\n"
     ]
    },
    {
     "name": "stderr",
     "output_type": "stream",
     "text": [
      "[Training]: 100%|██████████| 6/6 [00:00<00:00, 53.05it/s]\n",
      "[Validation]: 100%|██████████| 33/33 [00:00<00:00, 156.49it/s]\n"
     ]
    },
    {
     "name": "stdout",
     "output_type": "stream",
     "text": [
      "Train Loss: 0.0901 | Val Loss: 0.1742 | SpearmanR: 0.4200\n",
      "\n",
      "Epoch 14/20\n",
      "----------------------------\n"
     ]
    },
    {
     "name": "stderr",
     "output_type": "stream",
     "text": [
      "[Training]: 100%|██████████| 6/6 [00:00<00:00, 52.16it/s]\n",
      "[Validation]: 100%|██████████| 33/33 [00:00<00:00, 153.52it/s]\n"
     ]
    },
    {
     "name": "stdout",
     "output_type": "stream",
     "text": [
      "Train Loss: 0.0794 | Val Loss: 0.1756 | SpearmanR: 0.4302\n",
      "\n",
      "Epoch 15/20\n",
      "----------------------------\n"
     ]
    },
    {
     "name": "stderr",
     "output_type": "stream",
     "text": [
      "[Training]: 100%|██████████| 6/6 [00:00<00:00, 39.05it/s]\n",
      "[Validation]: 100%|██████████| 33/33 [00:00<00:00, 99.72it/s] \n"
     ]
    },
    {
     "name": "stdout",
     "output_type": "stream",
     "text": [
      "Train Loss: 0.0708 | Val Loss: 0.1670 | SpearmanR: 0.4389\n",
      "\n",
      "Epoch 16/20\n",
      "----------------------------\n"
     ]
    },
    {
     "name": "stderr",
     "output_type": "stream",
     "text": [
      "[Training]: 100%|██████████| 6/6 [00:00<00:00, 51.92it/s]\n",
      "[Validation]: 100%|██████████| 33/33 [00:00<00:00, 91.19it/s]\n"
     ]
    },
    {
     "name": "stdout",
     "output_type": "stream",
     "text": [
      "Train Loss: 0.0777 | Val Loss: 0.2282 | SpearmanR: 0.4150\n",
      "\n",
      "Epoch 17/20\n",
      "----------------------------\n"
     ]
    },
    {
     "name": "stderr",
     "output_type": "stream",
     "text": [
      "[Training]: 100%|██████████| 6/6 [00:00<00:00, 37.00it/s]\n",
      "[Validation]: 100%|██████████| 33/33 [00:00<00:00, 105.14it/s]\n"
     ]
    },
    {
     "name": "stdout",
     "output_type": "stream",
     "text": [
      "Train Loss: 0.0951 | Val Loss: 0.1807 | SpearmanR: 0.4590\n",
      "\n",
      "Epoch 18/20\n",
      "----------------------------\n"
     ]
    },
    {
     "name": "stderr",
     "output_type": "stream",
     "text": [
      "[Training]: 100%|██████████| 6/6 [00:00<00:00, 36.42it/s]\n",
      "[Validation]: 100%|██████████| 33/33 [00:00<00:00, 114.87it/s]\n"
     ]
    },
    {
     "name": "stdout",
     "output_type": "stream",
     "text": [
      "Train Loss: 0.0815 | Val Loss: 0.1669 | SpearmanR: 0.4476\n",
      "\n",
      "Epoch 19/20\n",
      "----------------------------\n"
     ]
    },
    {
     "name": "stderr",
     "output_type": "stream",
     "text": [
      "[Training]: 100%|██████████| 6/6 [00:00<00:00, 25.45it/s]\n",
      "[Validation]: 100%|██████████| 33/33 [00:00<00:00, 110.73it/s]\n"
     ]
    },
    {
     "name": "stdout",
     "output_type": "stream",
     "text": [
      "Train Loss: 0.0618 | Val Loss: 0.1929 | SpearmanR: 0.4501\n",
      "\n",
      "Epoch 20/20\n",
      "----------------------------\n"
     ]
    },
    {
     "name": "stderr",
     "output_type": "stream",
     "text": [
      "[Training]: 100%|██████████| 6/6 [00:00<00:00, 37.62it/s]\n",
      "[Validation]: 100%|██████████| 33/33 [00:00<00:00, 91.41it/s]"
     ]
    },
    {
     "name": "stdout",
     "output_type": "stream",
     "text": [
      "Train Loss: 0.0800 | Val Loss: 0.1914 | SpearmanR: 0.4595\n"
     ]
    },
    {
     "name": "stderr",
     "output_type": "stream",
     "text": [
      "\n"
     ]
    }
   ],
   "source": [
    "model_72_standard = run_standard_finetuning(72, training_pool, val_dataloader)"
   ]
  },
  {
   "cell_type": "code",
   "execution_count": 15,
   "id": "795f0aa8",
   "metadata": {},
   "outputs": [],
   "source": [
    "import torch\n",
    "from tqdm import tqdm\n",
    "from torchmetrics.regression import SpearmanCorrCoef, PearsonCorrCoef, MeanSquaredError\n",
    "\n",
    "def test_model(model, test_dataloader):\n",
    "    # Initialize metrics\n",
    "    spearman = SpearmanCorrCoef().to(device)\n",
    "    pearson = PearsonCorrCoef().to(device)\n",
    "    mse = MeanSquaredError().to(device)\n",
    "\n",
    "    model.to(device)\n",
    "    model.eval()\n",
    "    \n",
    "    total_test_loss = 0\n",
    "    all_preds = []\n",
    "    all_labels = []\n",
    "\n",
    "    with torch.inference_mode():\n",
    "        for inputs, labels in tqdm(test_dataloader, desc=\"[Testing]\"):\n",
    "            inputs = {k: v.to(device) for k, v in inputs.items()}\n",
    "            labels = labels.to(device)\n",
    "\n",
    "            outputs = model(**inputs, labels=labels)\n",
    "            preds = outputs.logits.squeeze()\n",
    "            loss = outputs.loss\n",
    "\n",
    "            total_test_loss += loss.item()\n",
    "\n",
    "            all_preds.append(preds)\n",
    "            all_labels.append(labels)\n",
    "\n",
    "    # Concatenate all predictions and labels from all batches\n",
    "    all_preds = torch.cat(all_preds)\n",
    "    all_labels = torch.cat(all_labels)\n",
    "\n",
    "    # Calculate final metrics\n",
    "    avg_test_loss = total_test_loss / len(test_dataloader)\n",
    "    spearman_r = spearman(all_preds, all_labels).item()\n",
    "    pearson_r = pearson(all_preds, all_labels).item()\n",
    "    final_mse = mse(all_preds, all_labels).item()\n",
    "\n",
    "    # Print the final report\n",
    "    print(\"\\n--- Final Test Report ---\")\n",
    "    print(f\"  Test Loss: {avg_test_loss:.4f}\")\n",
    "    print(f\"  Spearman's Rho: {spearman_r:.4f}\")\n",
    "    print(f\"  Pearson's Rho: {pearson_r:.4f}\")\n",
    "    print(f\"  Mean Squared Error (MSE): {final_mse:.4f}\")\n",
    "    print(\"-------------------------\\n\")"
   ]
  },
  {
   "cell_type": "code",
   "execution_count": 16,
   "id": "0a469b74",
   "metadata": {},
   "outputs": [
    {
     "name": "stderr",
     "output_type": "stream",
     "text": [
      "/home/oscar/miniconda3/envs/ml/lib/python3.11/site-packages/torchmetrics/utilities/prints.py:43: UserWarning: Metric `SpearmanCorrcoef` will save all targets and predictions in the buffer. For large datasets, this may lead to large memory footprint.\n",
      "  warnings.warn(*args, **kwargs)\n",
      "[Testing]: 100%|██████████| 33/33 [00:00<00:00, 70.98it/s]\n"
     ]
    },
    {
     "name": "stdout",
     "output_type": "stream",
     "text": [
      "\n",
      "--- Final Test Report ---\n",
      "  Test Loss: 0.1918\n",
      "  Spearman's Rho: 0.4013\n",
      "  Pearson's Rho: 0.4261\n",
      "  Mean Squared Error (MSE): 0.1918\n",
      "-------------------------\n",
      "\n"
     ]
    }
   ],
   "source": [
    "test_model(model_72_active, test_dataloader)"
   ]
  },
  {
   "cell_type": "code",
   "execution_count": 17,
   "id": "0e11a0cc",
   "metadata": {},
   "outputs": [
    {
     "name": "stderr",
     "output_type": "stream",
     "text": [
      "/home/oscar/miniconda3/envs/ml/lib/python3.11/site-packages/torchmetrics/utilities/prints.py:43: UserWarning: Metric `SpearmanCorrcoef` will save all targets and predictions in the buffer. For large datasets, this may lead to large memory footprint.\n",
      "  warnings.warn(*args, **kwargs)\n",
      "[Testing]: 100%|██████████| 33/33 [00:00<00:00, 59.05it/s]"
     ]
    },
    {
     "name": "stdout",
     "output_type": "stream",
     "text": [
      "\n",
      "--- Final Test Report ---\n",
      "  Test Loss: 0.1799\n",
      "  Spearman's Rho: 0.4412\n",
      "  Pearson's Rho: 0.4200\n",
      "  Mean Squared Error (MSE): 0.1799\n",
      "-------------------------\n",
      "\n"
     ]
    },
    {
     "name": "stderr",
     "output_type": "stream",
     "text": [
      "\n"
     ]
    }
   ],
   "source": [
    "test_model(model_72_standard, test_dataloader)"
   ]
  },
  {
   "cell_type": "markdown",
   "id": "918609eb",
   "metadata": {},
   "source": [
    "- More notes\n",
    "    - This simulation plays out in a defined pool of samples, how will this work in the real world, where there's practically infinite options?\n",
    "        - first, you need to define the limits of the space. probably something like a limited number of mutations per sequence, and perhaps a distribution of those mutation numbers in your final set\n",
    "        - boring approach: generate mutants and evaluate ensemble on mutants for a defined amount of time, select the highest variance mutants from that set.\n",
    "        - cool approach: train an adversarial model that learns how to optimally challenge the plm model"
   ]
  },
  {
   "cell_type": "markdown",
   "id": "06bc96c8",
   "metadata": {},
   "source": []
  }
 ],
 "metadata": {
  "kernelspec": {
   "display_name": "ml",
   "language": "python",
   "name": "python3"
  },
  "language_info": {
   "codemirror_mode": {
    "name": "ipython",
    "version": 3
   },
   "file_extension": ".py",
   "mimetype": "text/x-python",
   "name": "python",
   "nbconvert_exporter": "python",
   "pygments_lexer": "ipython3",
   "version": "3.11.10"
  }
 },
 "nbformat": 4,
 "nbformat_minor": 5
}
